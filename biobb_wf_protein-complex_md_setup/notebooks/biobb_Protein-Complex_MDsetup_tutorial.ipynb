{
    "cells": [
     {
      "cell_type": "markdown",
      "metadata": {},
      "source": [
       "# Protein Ligand Complex MD Setup tutorial using BioExcel Building Blocks (biobb)\n",
       "### Based on the official Gromacs tutorial: http://www.mdtutorials.com/gmx/complex/index.html\n",
       "***\n",
       "This tutorial aims to illustrate the process of **setting up a simulation system** containing a **protein in complex with a ligand**, step by step, using the **BioExcel Building Blocks library (biobb)**. The particular example used is the **T4 lysozyme** L99A/M102Q protein (PDB code 3HTB), in complex with the **2-propylphenol** small molecule (3-letter Code JZ4). \n",
       "***\n",
       "**Biobb modules** used:\n",
       "\n",
       " - [biobb_io](https://github.com/bioexcel/biobb_io): Tools to fetch biomolecular data from public databases.\n",
       " - [biobb_model](https://github.com/bioexcel/biobb_model): Tools to model macromolecular structures.\n",
       " - [biobb_chemistry](https://github.com/bioexcel/biobb_chemistry): Tools to manipulate chemical data.\n",
       " - [biobb_gromacs](https://github.com/bioexcel/biobb_gromacs): Tools to setup and run Molecular Dynamics simulations.\n",
       " - [biobb_analysis](https://github.com/bioexcel/biobb_analysis): Tools to analyse Molecular Dynamics trajectories.\n",
       " - [biobb_structure_utils](https://github.com/bioexcel/biobb_structure_utils):  Tools to modify or extract information from a PDB structure file.\n",
       " \n",
       "**Auxiliar libraries** used:\n",
       "\n",
       " - [nb_conda_kernels](https://github.com/Anaconda-Platform/nb_conda_kernels): Enables a Jupyter Notebook or JupyterLab application in one conda environment to access kernels for Python, R, and other languages found in other environments.\n",
       " - [nglview](http://nglviewer.org/#nglview): Jupyter/IPython widget to interactively view molecular structures and trajectories in notebooks.\n",
       " - [ipywidgets](https://github.com/jupyter-widgets/ipywidgets): Interactive HTML widgets for Jupyter notebooks and the IPython kernel.\n",
       " - [os](https://docs.python.org/3/library/os.html): Python miscellaneous operating system interfaces\n",
       " - [plotly](https://plot.ly/python/offline/): Python interactive graphing library integrated in Jupyter notebooks.\n",
       " - [simpletraj](https://github.com/arose/simpletraj): Lightweight coordinate-only trajectory reader based on code from GROMACS, MDAnalysis and VMD.\n",
       "\n",
       "\n",
       "### Conda Installation and Launch\n",
       "\n",
       "```console\n",
       "git clone https://github.com/bioexcel/biobb_wf_protein-complex_md_setup.git\n",
       "cd biobb_wf_protein-complex_md_setup\n",
       "conda env create -f conda_env/environment.yml\n",
       "conda activate biobb_Protein-Complex_MDsetup_tutorial\n",
       "jupyter nbextension enable python-markdown/main\n",
       "jupyter-notebook biobb_wf_protein-complex_md_setup/notebooks/biobb_Protein-Complex_MDsetup_tutorial.ipynb\n",
       "```\n",
       "\n",
       "Please execute the following commands before launching the Jupyter Notebook if you experience some \n",
       "\n",
       "```console\n",
       "jupyter-nbextension enable --py --user widgetsnbextension\n",
       "jupyter-nbextension enable --py --user nglview\n",
       "```\n",
       "\n",
       "***\n",
       "### Pipeline steps:\n",
       " 1. [Input Parameters](#input)\n",
       " 2. [Fetching PDB Structure](#fetch)\n",
       " 3. [Fix Protein Structure](#fix)\n",
       " 4. [Create Protein System Topology](#top)\n",
       " 5. [Create ligand system topology](#ligtop)\n",
       " 6. [Preparing Ligand Restraints](#restraints)\n",
       " 7. [Create new protein-ligand complex structure file](#complex)\n",
       " 8. [Create new protein-ligand complex topology file](#complextop)\n",
       " 9. [Create Solvent Box](#box)\n",
       " 10. [Fill the Box with Water Molecules](#water)\n",
       " 11. [Adding Ions](#ions)\n",
       " 12. [Energetically Minimize the System](#min)\n",
       " 13. [Equilibrate the System (NVT)](#nvt)\n",
       " 14. [Equilibrate the System (NPT)](#npt)\n",
       " 15. [Free Molecular Dynamics Simulation](#free)\n",
       " 16. [Post-processing and Visualizing Resulting 3D Trajectory](#post)\n",
       " 17. [Output Files](#output)\n",
       " 18. [Questions & Comments](#questions)\n",
       " \n",
       "***\n",
       "***\n",
       "<img src=\"https://bioexcel.eu/wp-content/uploads/2019/04/Bioexcell_logo_1080px_transp.png\" alt=\"Bioexcel2 logo\"\n",
       "\ttitle=\"Bioexcel2 logo\" width=\"400\" />\n",
       "***\n"
      ]
     },
     {
      "cell_type": "markdown",
      "metadata": {},
      "source": [
       "<a id=\"input\"></a>\n",
       "## Input parameters\n",
       "**Input parameters** needed:\n",
       " - **pdbCode**: PDB code of the protein-ligand complex structure (e.g. 3HTB)\n",
       " - **ligandCode**: Small molecule 3-letter code for the ligand structure (e.g. JZ4)\n",
       " - **mol_charge**: Charge of the small molecule, needed to add hydrogen atoms."
      ]
     },
     {
      "cell_type": "code",
      "execution_count": 1,
      "metadata": {
       "scrolled": true
      },
      "outputs": [
       {
        "data": {
         "application/vnd.jupyter.widget-view+json": {
          "model_id": "fc83064908364695b8d9a32da7ca9ed7",
          "version_major": 2,
          "version_minor": 0
         },
         "text/plain": []
        },
        "metadata": {},
        "output_type": "display_data"
       }
      ],
      "source": [
       "import nglview\n",
       "import ipywidgets\n",
       "import os\n",
       "import zipfile\n",
       "\n",
       "pdbCode = \"3HTB\"\n",
       "ligandCode = \"JZ4\"\n",
       "mol_charge = 0"
      ]
     },
     {
      "cell_type": "markdown",
      "metadata": {},
      "source": [
       "<a id=\"fetch\"></a>\n",
       "***\n",
       "## Fetching PDB structure\n",
       "Downloading **PDB structure** with the **protein-ligand complex** from the RCSB PDB database.<br>\n",
       "Alternatively, a PDB file can be used as starting structure. <br>\n",
       "Splitting the molecule in **three different files**: \n",
       "- **proteinFile**: Protein structure\n",
       "- **ligandFile**: Ligand structure\n",
       "- **complexFile**: Protein-ligand complex structure \n",
       "\n",
       "***\n",
       "**Building Blocks** used:\n",
       " - [Pdb](https://biobb-io.readthedocs.io/en/latest/api.html#module-api.pdb) from **biobb_io.api.pdb**\n",
       "***"
      ]
     },
     {
      "cell_type": "code",
      "execution_count": 2,
      "metadata": {
       "scrolled": true
      },
      "outputs": [
       {
        "name": "stdout",
        "output_type": "stream",
        "text": [
         "2022-09-15 12:05:53,980 [MainThread  ] [INFO ]  Executing biobb_io.api.pdb Version: 3.8.0\n",
         "2022-09-15 12:05:53,980 [MainThread  ] [INFO ]  Downloading 3htb from: https://www.ebi.ac.uk/pdbe/entry-files/download/pdb3htb.ent\n",
         "2022-09-15 12:05:54,316 [MainThread  ] [INFO ]  Writting pdb to: 3HTB.orig.pdb\n"
        ]
       },
       {
        "data": {
         "text/plain": [
          "0"
         ]
        },
        "execution_count": 2,
        "metadata": {},
        "output_type": "execute_result"
       }
      ],
      "source": [
       "# Downloading desired PDB file \n",
       "# Import module\n",
       "from biobb_io.api.pdb import pdb\n",
       "\n",
       "# Create properties dict and inputs/outputs\n",
       "downloaded_pdb = pdbCode+'.orig.pdb'\n",
       "prop = {\n",
       "    'pdb_code': pdbCode,\n",
       "    'filter': False\n",
       "}\n",
       "\n",
       "# Create and launch bb\n",
       "pdb(output_pdb_path=downloaded_pdb,\n",
       "    properties=prop)"
      ]
     },
     {
      "cell_type": "code",
      "execution_count": 3,
      "metadata": {
       "scrolled": false
      },
      "outputs": [
       {
        "name": "stdout",
        "output_type": "stream",
        "text": [
         "2022-09-15 12:05:54,584 [MainThread  ] [INFO ]  Executing biobb_structure_utils.utils.extract_heteroatoms Version: 3.8.0\n",
         "2022-09-15 12:05:54,620 [MainThread  ] [INFO ]  Writting pdb to: JZ4.pdb\n",
         "2022-09-15 12:05:54,621 [MainThread  ] [INFO ]  Removed: []\n",
         "2022-09-15 12:05:54,623 [MainThread  ] [INFO ]  Executing biobb_structure_utils.utils.extract_molecule Version: 3.8.0\n",
         "2022-09-15 12:05:54,624 [MainThread  ] [INFO ]  Creating 0f220499-2c15-487b-81f0-6533cfad03a9 temporary folder\n",
         "2022-09-15 12:05:54,625 [MainThread  ] [INFO ]  check_structure -i /Users/gbayarri/biobb_wf_protein-complex_md_setup/biobb_wf_protein-complex_md_setup/notebooks/3HTB.orig.pdb -o 3HTB.pdb --force_save --non_interactive command_list --list 0f220499-2c15-487b-81f0-6533cfad03a9/extract_prot.lst\n",
         "\n",
         "2022-09-15 12:05:55,680 [MainThread  ] [INFO ]  Exit code 0\n",
         "\n",
         "2022-09-15 12:05:55,681 [MainThread  ] [INFO ]  ================================================================================\n",
         "=                   BioBB structure checking utility v3.10.1                   =\n",
         "=            P. Andrio, A. Hospital, G. Bayarri, J.L. Gelpi 2018-22            =\n",
         "================================================================================\n",
         "\n",
         "Warning: sequence features only available in mmCIF format or with external fasta input\n",
         "Structure /Users/gbayarri/biobb_wf_protein-complex_md_setup/biobb_wf_protein-complex_md_setup/notebooks/3HTB.orig.pdb loaded\n",
         " Title: 2-propylphenol in complex with t4 lysozyme l99a/m102q\n",
         " Experimental method: x-ray diffraction\n",
         " Keywords: hydrolase, glycosidase, bacteriolytic enzyme, antimicrobial\n",
         " Resolution (A): 1.81\n",
         "\n",
         " Num. models: 1\n",
         " Num. chains: 1 (A: Protein)\n",
         " Num. residues:  387\n",
         " Num. residues with ins. codes:  0\n",
         " Num. residues with H atoms: 0\n",
         " Num. HETATM residues:  224\n",
         " Num. ligands or modified residues:  4\n",
         " Num. water mol.:  220\n",
         " Num. atoms:  1544\n",
         "Small mol ligands found\n",
         "PO4 A165\n",
         "PO4 A166\n",
         "JZ4 A167\n",
         "BME A168\n",
         "\n",
         "\n",
         "Step 1: ligands --remove All\n",
         "\n",
         "Running ligands. Options: --remove All\n",
         "4 Ligands detected\n",
         " PO4 A165\n",
         " PO4 A166\n",
         " JZ4 A167\n",
         " BME A168\n",
         "Ligands removed All (4)\n",
         "\n",
         "Step 2: water --remove Yes\n",
         "\n",
         "Running water. Options: --remove Yes\n",
         "220 Water molecules detected\n",
         "220 Water molecules removed\n",
         "Command list completed\n",
         "Final Num. models: 1\n",
         "Final Num. chains: 1 (A: Protein)\n",
         "Final Num. residues:  163\n",
         "Final Num. residues with ins. codes:  0\n",
         "Final Num. residues with H atoms: 0\n",
         "Final Num. HETATM residues:  0\n",
         "Final Num. ligands or modified residues:  0\n",
         "Final Num. water mol.:  0\n",
         "Final Num. atoms:  1300\n",
         "Structure saved on 3HTB.pdb\n",
         "\n",
         "2022-09-15 12:05:55,682 [MainThread  ] [INFO ]  \n",
         "\n",
         "2022-09-15 12:05:55,695 [MainThread  ] [INFO ]  Exit code 0\n",
         "\n",
         "2022-09-15 12:05:55,696 [MainThread  ] [INFO ]  Removed: []\n",
         "3HTB.pdb JZ4.pdb 3HTB_JZ4.pdb\n",
         "2022-09-15 12:05:55,700 [MainThread  ] [INFO ]  Executing biobb_structure_utils.utils.cat_pdb Version: 3.8.0\n",
         "2022-09-15 12:05:55,702 [MainThread  ] [INFO ]  Removed: []\n"
        ]
       },
       {
        "data": {
         "text/plain": [
          "0"
         ]
        },
        "execution_count": 3,
        "metadata": {},
        "output_type": "execute_result"
       }
      ],
      "source": [
       "# Extracting Protein, Ligand and Protein-Ligand Complex to three different files\n",
       "# Import module\n",
       "from biobb_structure_utils.utils.extract_heteroatoms import extract_heteroatoms\n",
       "from biobb_structure_utils.utils.extract_molecule import extract_molecule\n",
       "from biobb_structure_utils.utils.cat_pdb import cat_pdb\n",
       "\n",
       "# Create properties dict and inputs/outputs\n",
       "proteinFile = pdbCode+'.pdb'\n",
       "ligandFile = ligandCode+'.pdb'\n",
       "complexFile = pdbCode+'_'+ligandCode+'.pdb'\n",
       "\n",
       "prop = {\n",
       "     'heteroatoms' : [{\"name\": \"JZ4\"}]\n",
       "}\n",
       "\n",
       "extract_heteroatoms(input_structure_path=downloaded_pdb,\n",
       "     output_heteroatom_path=ligandFile,\n",
       "     properties=prop)\n",
       "\n",
       "extract_molecule(input_structure_path=downloaded_pdb,\n",
       "     output_molecule_path=proteinFile)\n",
       "\n",
       "print(proteinFile, ligandFile, complexFile)\n",
       "\n",
       "cat_pdb(input_structure1=proteinFile,\n",
       "       input_structure2=ligandFile,\n",
       "       output_structure_path=complexFile)"
      ]
     },
     {
      "cell_type": "markdown",
      "metadata": {},
      "source": [
       "### Visualizing 3D structures\n",
       "Visualizing the generated **PDB structures** using **NGL**:  \n",
       "- **Protein structure** (Left)\n",
       "- **Ligand structure** (Center)\n",
       "- **Protein-ligand complex** (Right)  "
      ]
     },
     {
      "cell_type": "code",
      "execution_count": 4,
      "metadata": {
       "scrolled": true
      },
      "outputs": [
       {
        "data": {
         "application/vnd.jupyter.widget-view+json": {
          "model_id": "a0c15233539141139cd5ba25111dd9c0",
          "version_major": 2,
          "version_minor": 0
         },
         "text/plain": [
          "HBox(children=(NGLWidget(), NGLWidget(), NGLWidget()))"
         ]
        },
        "metadata": {},
        "output_type": "display_data"
       }
      ],
      "source": [
       "# Show structures: protein, ligand and protein-ligand complex\n",
       "view1 = nglview.show_structure_file(proteinFile)\n",
       "view1._remote_call('setSize', target='Widget', args=['350px','400px'])\n",
       "view1.camera='orthographic'\n",
       "view1\n",
       "view2 = nglview.show_structure_file(ligandFile)\n",
       "view2.add_representation(repr_type='ball+stick')\n",
       "view2._remote_call('setSize', target='Widget', args=['350px','400px'])\n",
       "view2.camera='orthographic'\n",
       "view2\n",
       "view3 = nglview.show_structure_file(complexFile)\n",
       "view3.add_representation(repr_type='licorice', radius='.5', selection=ligandCode)\n",
       "view3._remote_call('setSize', target='Widget', args=['350px','400px'])\n",
       "view3.camera='orthographic'\n",
       "view3\n",
       "ipywidgets.HBox([view1, view2, view3])"
      ]
     },
     {
      "cell_type": "markdown",
      "metadata": {},
      "source": [
       "<a id=\"fix\"></a>\n",
       "***\n",
       "## Fix protein structure\n",
       "**Checking** and **fixing** (if needed) the protein structure:<br>\n",
       "- **Modeling** **missing side-chain atoms**, modifying incorrect **amide assignments**, choosing **alternative locations**.<br>\n",
       "- **Checking** for missing **backbone atoms**, **heteroatoms**, **modified residues** and possible **atomic clashes**.\n",
       "\n",
       "***\n",
       "**Building Blocks** used:\n",
       " - [FixSideChain](https://biobb-model.readthedocs.io/en/latest/model.html#module-model.fix_side_chain) from **biobb_model.model.fix_side_chain**\n",
       "***"
      ]
     },
     {
      "cell_type": "code",
      "execution_count": 5,
      "metadata": {
       "scrolled": false
      },
      "outputs": [
       {
        "name": "stdout",
        "output_type": "stream",
        "text": [
         "2022-09-15 12:05:55,796 [MainThread  ] [INFO ]  Executing biobb_model.model.fix_side_chain Version: 3.8.0\n",
         "2022-09-15 12:05:55,797 [MainThread  ] [INFO ]  check_structure -i 3HTB.pdb -o 3HTB_fixed.pdb --force_save fixside --fix ALL\n",
         "\n",
         "2022-09-15 12:05:56,091 [MainThread  ] [INFO ]  Exit code 0\n",
         "\n",
         "2022-09-15 12:05:56,092 [MainThread  ] [INFO ]  ================================================================================\n",
         "=                   BioBB structure checking utility v3.10.1                   =\n",
         "=            P. Andrio, A. Hospital, G. Bayarri, J.L. Gelpi 2018-22            =\n",
         "================================================================================\n",
         "\n",
         "Warning: sequence features only available in mmCIF format or with external fasta input\n",
         "Structure 3HTB.pdb loaded\n",
         " Title: \n",
         " Experimental method: unknown\n",
         " Resolution (A): N.A.\n",
         "\n",
         " Num. models: 1\n",
         " Num. chains: 1 (A: Protein)\n",
         " Num. residues:  163\n",
         " Num. residues with ins. codes:  0\n",
         " Num. residues with H atoms: 0\n",
         " Num. HETATM residues:  0\n",
         " Num. ligands or modified residues:  0\n",
         " Num. water mol.:  0\n",
         " Num. atoms:  1300\n",
         "\n",
         "Running fixside. Options: --fix ALL\n",
         "No residues with missing or unknown side chain atoms found\n",
         "Structure not modified, saving due to --force_save option\n",
         "Final Num. models: 1\n",
         "Final Num. chains: 1 (A: Protein)\n",
         "Final Num. residues:  163\n",
         "Final Num. residues with ins. codes:  0\n",
         "Final Num. residues with H atoms: 0\n",
         "Final Num. HETATM residues:  0\n",
         "Final Num. ligands or modified residues:  0\n",
         "Final Num. water mol.:  0\n",
         "Final Num. atoms:  1300\n",
         "Structure saved on 3HTB_fixed.pdb\n",
         "\n",
         "2022-09-15 12:05:56,093 [MainThread  ] [INFO ]  Removed: []\n"
        ]
       },
       {
        "data": {
         "text/plain": [
          "0"
         ]
        },
        "execution_count": 5,
        "metadata": {},
        "output_type": "execute_result"
       }
      ],
      "source": [
       "# Check & Fix Protein Structure\n",
       "# Import module\n",
       "from biobb_model.model.fix_side_chain import fix_side_chain\n",
       "\n",
       "# Create prop dict and inputs/outputs\n",
       "fixed_pdb = pdbCode+'_fixed.pdb'\n",
       "\n",
       "# Create and launch bb\n",
       "fix_side_chain(input_pdb_path=proteinFile,\n",
       "             output_pdb_path=fixed_pdb)"
      ]
     },
     {
      "cell_type": "markdown",
      "metadata": {},
      "source": [
       "<a id=\"top\"></a>\n",
       "***\n",
       "## Create protein system topology\n",
       "**Building GROMACS topology** corresponding to the protein structure.<br>\n",
       "Force field used in this tutorial is [**amber99sb-ildn**](https://dx.doi.org/10.1002%2Fprot.22711): AMBER **parm99** force field with **corrections on backbone** (sb) and **side-chain torsion potentials** (ildn). Water molecules type used in this tutorial is [**spc/e**](https://pubs.acs.org/doi/abs/10.1021/j100308a038).<br>\n",
       "Adding **hydrogen atoms** if missing. Automatically identifying **disulfide bridges**. <br>\n",
       "\n",
       "Generating two output files: \n",
       "- **GROMACS structure** (gro file)\n",
       "- **GROMACS topology** ZIP compressed file containing:\n",
       "    - *GROMACS topology top file* (top file)\n",
       "    - *GROMACS position restraint file/s* (itp file/s)\n",
       "***\n",
       "**Building Blocks** used:\n",
       " - [Pdb2gmx](https://biobb-md.readthedocs.io/en/latest/gromacs.html#module-gromacs.pdb2gmx) from **biobb_gromacs.gromacs.pdb2gmx**\n",
       "***"
      ]
     },
     {
      "cell_type": "code",
      "execution_count": 6,
      "metadata": {
       "scrolled": false
      },
      "outputs": [
       {
        "name": "stdout",
        "output_type": "stream",
        "text": [
         "2022-09-15 12:05:57,545 [MainThread  ] [INFO ]  Executing biobb_gromacs.gromacs.pdb2gmx Version: 3.8.0\n",
         "2022-09-15 12:05:57,546 [MainThread  ] [INFO ]  GROMACS Pdb2gmx 20222 version detected\n",
         "2022-09-15 12:05:57,547 [MainThread  ] [INFO ]  gmx -nobackup -nocopyright pdb2gmx -f 3HTB_fixed.pdb -o 3HTB_pdb2gmx.gro -p p2g.top -water spce -ff amber99sb-ildn -i posre.itp\n",
         "\n",
         "2022-09-15 12:05:57,862 [MainThread  ] [INFO ]  Exit code 0\n",
         "\n",
         "2022-09-15 12:05:57,864 [MainThread  ] [INFO ]  Using the Amber99sb-ildn force field in directory amber99sb-ildn.ff\n",
         "\n",
         "going to rename amber99sb-ildn.ff/aminoacids.r2b\n",
         "\n",
         "going to rename amber99sb-ildn.ff/dna.r2b\n",
         "\n",
         "going to rename amber99sb-ildn.ff/rna.r2b\n",
         "Reading 3HTB_fixed.pdb...\n",
         "Read '', 1364 atoms\n",
         "\n",
         "Analyzing pdb file\n",
         "Splitting chemical chains based on TER records or chain id changing.\n",
         "\n",
         "There are 1 chains and 0 blocks of water and 163 residues with 1364 atoms\n",
         "\n",
         "  chain  #res #atoms\n",
         "\n",
         "  1 'A'   163   1364  \n",
         "\n",
         "there were 0 atoms with zero occupancy and 178 atoms with          occupancy unequal to one (out of 1364 atoms). Check your pdb file.\n",
         "\n",
         "Reading residue database... (Amber99sb-ildn)\n",
         "\n",
         "Processing chain 1 'A' (1364 atoms, 163 residues)\n",
         "\n",
         "Identified residue MET1 as a starting terminus.\n",
         "\n",
         "Identified residue ASN163 as a ending terminus.\n",
         "\n",
         "Checking for duplicate atoms....\n",
         "\n",
         "Now there are 1300 atoms. Deleted 64 duplicates.\n",
         "\n",
         "Generating any missing hydrogen atoms and/or adding termini.\n",
         "\n",
         "Now there are 163 residues with 2614 atoms\n",
         "\n",
         "Making bonds...\n",
         "\n",
         "Number of bonds was 2635, now 2634\n",
         "\n",
         "Generating angles, dihedrals and pairs...\n",
         "\n",
         "Making cmap torsions...\n",
         "\n",
         "There are 7252 dihedrals,  522 impropers, 4751 angles\n",
         "          6847 pairs,     2634 bonds and     0 virtual sites\n",
         "\n",
         "Total mass 18512.384 a.m.u.\n",
         "\n",
         "Total charge 6.000 e\n",
         "\n",
         "Writing topology\n",
         "\n",
         "Writing coordinate file...\n",
         "\n",
         "\t\t--------- PLEASE NOTE ------------\n",
         "\n",
         "You have successfully generated a topology from: 3HTB_fixed.pdb.\n",
         "\n",
         "The Amber99sb-ildn force field and the spce water model are used.\n",
         "\n",
         "\t\t--------- ETON ESAELP ------------\n",
         "\n",
         "2022-09-15 12:05:57,864 [MainThread  ] [INFO ]                 :-) GROMACS - gmx pdb2gmx, 2022.2-conda_forge (-:\n",
         "\n",
         "Executable:   /Users/gbayarri/opt/anaconda3/envs/biobb_Protein-Complex_MDsetup_tutorial/bin.SSE2/gmx\n",
         "Data prefix:  /Users/gbayarri/opt/anaconda3/envs/biobb_Protein-Complex_MDsetup_tutorial\n",
         "Working dir:  /Users/gbayarri/biobb_wf_protein-complex_md_setup/biobb_wf_protein-complex_md_setup/notebooks\n",
         "Command line:\n",
         "  gmx -nobackup -nocopyright pdb2gmx -f 3HTB_fixed.pdb -o 3HTB_pdb2gmx.gro -p p2g.top -water spce -ff amber99sb-ildn -i posre.itp\n",
         "\n",
         "Opening force field file /Users/gbayarri/opt/anaconda3/envs/biobb_Protein-Complex_MDsetup_tutorial/share/gromacs/top/amber99sb-ildn.ff/aminoacids.r2b\n",
         "Opening force field file /Users/gbayarri/opt/anaconda3/envs/biobb_Protein-Complex_MDsetup_tutorial/share/gromacs/top/amber99sb-ildn.ff/dna.r2b\n",
         "Opening force field file /Users/gbayarri/opt/anaconda3/envs/biobb_Protein-Complex_MDsetup_tutorial/share/gromacs/top/amber99sb-ildn.ff/rna.r2b\n",
         "there were 0 atoms with zero occupancy and 178 atoms with          occupancy unequal to one (out of 1364 atoms). Check your pdb file.\n",
         "Opening force field file /Users/gbayarri/opt/anaconda3/envs/biobb_Protein-Complex_MDsetup_tutorial/share/gromacs/top/amber99sb-ildn.ff/atomtypes.atp\n",
         "Opening force field file /Users/gbayarri/opt/anaconda3/envs/biobb_Protein-Complex_MDsetup_tutorial/share/gromacs/top/amber99sb-ildn.ff/aminoacids.rtp\n",
         "Opening force field file /Users/gbayarri/opt/anaconda3/envs/biobb_Protein-Complex_MDsetup_tutorial/share/gromacs/top/amber99sb-ildn.ff/dna.rtp\n",
         "Opening force field file /Users/gbayarri/opt/anaconda3/envs/biobb_Protein-Complex_MDsetup_tutorial/share/gromacs/top/amber99sb-ildn.ff/rna.rtp\n",
         "Opening force field file /Users/gbayarri/opt/anaconda3/envs/biobb_Protein-Complex_MDsetup_tutorial/share/gromacs/top/amber99sb-ildn.ff/aminoacids.hdb\n",
         "Opening force field file /Users/gbayarri/opt/anaconda3/envs/biobb_Protein-Complex_MDsetup_tutorial/share/gromacs/top/amber99sb-ildn.ff/dna.hdb\n",
         "Opening force field file /Users/gbayarri/opt/anaconda3/envs/biobb_Protein-Complex_MDsetup_tutorial/share/gromacs/top/amber99sb-ildn.ff/rna.hdb\n",
         "Opening force field file /Users/gbayarri/opt/anaconda3/envs/biobb_Protein-Complex_MDsetup_tutorial/share/gromacs/top/amber99sb-ildn.ff/aminoacids.n.tdb\n",
         "Opening force field file /Users/gbayarri/opt/anaconda3/envs/biobb_Protein-Complex_MDsetup_tutorial/share/gromacs/top/amber99sb-ildn.ff/aminoacids.c.tdb\n",
         "Analysing hydrogen-bonding network for automated assignment of histidine\n",
         " protonation. 273 donors and 248 acceptors were found.\n",
         "There are 347 hydrogen bonds\n",
         "Will use HISD for residue 31\n",
         "8 out of 8 lines of specbond.dat converted successfully\n",
         "Special Atom Distance matrix:\n",
         "                    MET1    MET6   HIS31   CYS54   CYS97  MET106\n",
         "                    SD10    SD56  NE2276   SG446   SG808   SD883\n",
         "    MET6    SD56   0.631\n",
         "   HIS31  NE2276   2.196   1.931\n",
         "   CYS54   SG446   2.781   2.718   1.052\n",
         "   CYS97   SG808   0.820   0.539   2.117   2.897\n",
         "  MET106   SD883   1.900   1.314   1.848   2.841   1.635\n",
         "  MET120   SD982   2.525   2.014   3.286   4.293   2.112   1.520\n",
         "Opening force field file /Users/gbayarri/opt/anaconda3/envs/biobb_Protein-Complex_MDsetup_tutorial/share/gromacs/top/amber99sb-ildn.ff/aminoacids.arn\n",
         "Opening force field file /Users/gbayarri/opt/anaconda3/envs/biobb_Protein-Complex_MDsetup_tutorial/share/gromacs/top/amber99sb-ildn.ff/dna.arn\n",
         "Opening force field file /Users/gbayarri/opt/anaconda3/envs/biobb_Protein-Complex_MDsetup_tutorial/share/gromacs/top/amber99sb-ildn.ff/rna.arn\n",
         "Before cleaning: 6889 pairs\n",
         "Before cleaning: 7252 dihedrals\n",
         "\n",
         "GROMACS reminds you: \"Wedged as we are between two eternities of idleness, there is no excuse for being idle now\" (Anthony Burgess)\n",
         "\n",
         "\n",
         "2022-09-15 12:05:57,865 [MainThread  ] [INFO ]  Compressing topology to: 3HTB_pdb2gmx_top.zip\n",
         "2022-09-15 12:05:57,866 [MainThread  ] [INFO ]  Ignored file amber99sb-ildn.ff/forcefield.itp\n",
         "2022-09-15 12:05:57,873 [MainThread  ] [INFO ]  Ignored file amber99sb-ildn.ff/spce.itp\n",
         "2022-09-15 12:05:57,873 [MainThread  ] [INFO ]  Ignored file amber99sb-ildn.ff/ions.itp\n",
         "2022-09-15 12:05:57,876 [MainThread  ] [INFO ]  Adding:\n",
         "2022-09-15 12:05:57,876 [MainThread  ] [INFO ]  ['p2g.top', 'posre.itp']\n",
         "2022-09-15 12:05:57,877 [MainThread  ] [INFO ]  to: /Users/gbayarri/biobb_wf_protein-complex_md_setup/biobb_wf_protein-complex_md_setup/notebooks/3HTB_pdb2gmx_top.zip\n",
         "2022-09-15 12:05:57,878 [MainThread  ] [INFO ]  Removed: ['p2g.top', 'posre.itp']\n"
        ]
       },
       {
        "data": {
         "text/plain": [
          "0"
         ]
        },
        "execution_count": 6,
        "metadata": {},
        "output_type": "execute_result"
       }
      ],
      "source": [
       "# Create Protein system topology\n",
       "# Import module\n",
       "from biobb_gromacs.gromacs.pdb2gmx import pdb2gmx\n",
       "\n",
       "# Create inputs/outputs\n",
       "output_pdb2gmx_gro = pdbCode+'_pdb2gmx.gro'\n",
       "output_pdb2gmx_top_zip = pdbCode+'_pdb2gmx_top.zip'\n",
       "prop = {\n",
       "    'force_field' : 'amber99sb-ildn',\n",
       "    'water_type': 'spce'\n",
       "}\n",
       "\n",
       "# Create and launch bb\n",
       "pdb2gmx(input_pdb_path=fixed_pdb,\n",
       "        output_gro_path=output_pdb2gmx_gro,\n",
       "        output_top_zip_path=output_pdb2gmx_top_zip,\n",
       "        properties=prop)"
      ]
     },
     {
      "cell_type": "markdown",
      "metadata": {},
      "source": [
       "<a id=\"ligtop\"></a>\n",
       "***\n",
       "## Create ligand system topology\n",
       "**Building GROMACS topology** corresponding to the ligand structure.<br>\n",
       "Force field used in this tutorial step is **amberGAFF**: [General AMBER Force Field](http://ambermd.org/antechamber/gaff.html), designed for rational drug design.<br>\n",
       "- [Step 1](#ligandTopologyStep1): Add **hydrogen atoms** if missing.\n",
       "- [Step 2](#ligandTopologyStep2): **Energetically minimize the system** with the new hydrogen atoms. \n",
       "- [Step 3](#ligandTopologyStep3): Generate **ligand topology** (parameters). \n",
       "***\n",
       "**Building Blocks** used:\n",
       " - [ReduceAddHydrogens](https://biobb-chemistry.readthedocs.io/en/latest/ambertools.html#module-ambertools.reduce_add_hydrogens) from **biobb_chemistry.ambertools.reduce_add_hydrogens**\n",
       " - [BabelMinimize](https://biobb-chemistry.readthedocs.io/en/latest/babelm.html#module-babelm.babel_minimize) from **biobb_chemistry.babelm.babel_minimize** \n",
       " - [AcpypeParamsGMX](https://biobb-chemistry.readthedocs.io/en/latest/acpype.html#module-acpype.acpype_params_gmx) from **biobb_chemistry.acpype.acpype_params_gmx** \n",
       "***"
      ]
     },
     {
      "cell_type": "markdown",
      "metadata": {},
      "source": [
       "<a id=\"ligandTopologyStep1\"></a>\n",
       "### Step 1: Add **hydrogen atoms**"
      ]
     },
     {
      "cell_type": "code",
      "execution_count": 7,
      "metadata": {
       "scrolled": false
      },
      "outputs": [
       {
        "name": "stdout",
        "output_type": "stream",
        "text": [
         "2022-09-15 12:05:57,888 [MainThread  ] [INFO ]  reduce -NUClear -OH -ROTNH3 -ALLALT /Users/gbayarri/biobb_wf_protein-complex_md_setup/biobb_wf_protein-complex_md_setup/notebooks/JZ4.pdb > JZ4.reduce.H.pdb\n",
         "\n",
         "2022-09-15 12:05:59,084 [MainThread  ] [INFO ]  Exit code 0\n",
         "\n",
         "2022-09-15 12:05:59,085 [MainThread  ] [INFO ]  reduce: version 3.3 06/02/2016, Copyright 1997-2016, J. Michael Word\n",
         "Processing file: \"/Users/gbayarri/biobb_wf_protein-complex_md_setup/biobb_wf_protein-complex_md_setup/notebooks/JZ4.pdb\"\n",
         "Database of HETATM connections: \"/Users/gbayarri/opt/anaconda3/envs/biobb_Protein-Complex_MDsetup_tutorial//dat/reduce_wwPDB_het_dict.txt\u0000\u0000\u0000\u0000\u0000\u0000\u0000\u0000\u0000\u0000\u0000\u0000\u0000\u0000\u0000\u0000\u0000\u0000\u0000\u0000\u0000\u0000\u0000\u0000\u0000\u0000\u0000\u0000\u0000\u0000\u0000\u0000\u0000\u0000\u0000\u0000\u0000\u0000\u0000\u0000\u0000\u0000\u0000\u0000\u0000\u0000\u0000\u0000\u0000\u0000\u0000\u0000\u0000\u0000\u0000\u0000\u0000\u0000\u0000\u0000\u0000\u0000\u0000\u0000\u0000\u0000\u0000\u0000\u0000\u0000\u0000\u0000\u0000\u0000\u0000\u0000\u0000\u0000\u0000\u0000\u0000\u0000\u0000\u0000\u0000\u0000\u0000\u0000\u0000\u0000\u0000\u0000\u0000\u0000\u0000\u0000\u0000\u0000\u0000\u0000\u0000\u0000\u0000\u0000\u0000\u0000\u0000\u0000\u0000\u0000\u0000\u0000\u0000\u0000\u0000\u0000\u0000\u0000\u0000\u0000\u0000\u0000\u0000\u0000\u0000\u0000\u0000\u0000\u0000\u0000\u0000\u0000\u0000\u0000\u0000\u0000\u0000\u0000\u0000\u0000\u0000\u0000\u0000\u0000\u0000\u0000\u0000\u0000\u0000\u0000\u0000\u0000\u0000\u0000\u0000\u0000\u0000\u0000\u0000\u0000\u0000\u0000\u0000\u0000\u0000\u0000\u0000\u0000\u0000\u0000\u0000\u0000\u0000\u0000\u0000\u0000\u0000\u0000\u0000\u0000\u0000\u0000\"\n",
         "VDW dot density = 16/A^2\n",
         "Orientation penalty scale = 1 (100%)\n",
         "Eliminate contacts within 3 bonds.\n",
         "Ignore atoms with |occupancy| <= 0.01 during adjustments.\n",
         "Waters ignored if B-Factor >= 40 or |occupancy| < 0.66\n",
         "Aromatic rings in amino acids accept hydrogen bonds.\n",
         "Building or keeping OH & SH Hydrogens.\n",
         "Rotating NH3 Hydrogens.\n",
         "Not processing Met methyls.\n",
         "WARNING: atom H13A from JZ4 will be treated as hydrogen\n",
         "WARNING: atom H14A from JZ4 will be treated as hydrogen\n",
         "WARNING: atom H13A from JZ4 will be treated as hydrogen\n",
         "WARNING: atom H13A from JZ4 will be treated as hydrogen\n",
         "WARNING: atom H14A from JZ4 will be treated as hydrogen\n",
         "WARNING: atom H14A from JZ4 will be treated as hydrogen\n",
         "WARNING: atom H14A from JZ4 will be treated as hydrogen\n",
         "WARNING: atom H14A from JZ4 will be treated as hydrogen\n",
         "WARNING: atom H13A from JZ4 will be treated as hydrogen\n",
         "WARNING: atom H13A from JZ4 will be treated as hydrogen\n",
         "WARNING: atom H14A from JZ4 will be treated as hydrogen\n",
         "WARNING: atom H13A from JZ4 will be treated as hydrogen\n",
         " Singles(size 1): A 167 JZ4 OAB \n",
         " orientation 1: A 167 JZ4 OAB :   rot  120: bump=0.000, HB=0.000, total=0.000\n",
         "Found 0 hydrogens (0 hets)\n",
         "Standardized 0 hydrogens (0 hets)\n",
         "Added 12 hydrogens (12 hets)\n",
         "Removed 0 hydrogens (0 hets)\n",
         "Adjusted 1 group(s)\n",
         "If you publish work which uses reduce, please cite:\n",
         "Word, et. al. (1999) J. Mol. Biol. 285, 1735-1747.\n",
         "For more information see http://kinemage.biochem.duke.edu\n",
         "\n"
        ]
       },
       {
        "data": {
         "text/plain": [
          "0"
         ]
        },
        "execution_count": 7,
        "metadata": {},
        "output_type": "execute_result"
       }
      ],
      "source": [
       "# Create Ligand system topology, STEP 1\n",
       "# Reduce_add_hydrogens: add Hydrogen atoms to a small molecule (using Reduce tool from Ambertools package)\n",
       "# Import module\n",
       "from biobb_chemistry.ambertools.reduce_add_hydrogens import reduce_add_hydrogens\n",
       "\n",
       "# Create prop dict and inputs/outputs\n",
       "output_reduce_h = ligandCode+'.reduce.H.pdb' \n",
       "prop = {\n",
       "    'nuclear' : 'true'\n",
       "}\n",
       "\n",
       "# Create and launch bb\n",
       "reduce_add_hydrogens(input_path=ligandFile,\n",
       "                   output_path=output_reduce_h,\n",
       "                   properties=prop)\n"
      ]
     },
     {
      "cell_type": "markdown",
      "metadata": {},
      "source": [
       "<a id=\"ligandTopologyStep2\"></a>\n",
       "### Step 2: **Energetically minimize the system** with the new hydrogen atoms. "
      ]
     },
     {
      "cell_type": "code",
      "execution_count": 8,
      "metadata": {
       "scrolled": false
      },
      "outputs": [
       {
        "name": "stdout",
        "output_type": "stream",
        "text": [
         "2022-09-15 12:05:59,095 [MainThread  ] [INFO ]  Hydrogens  is not correct, assigned default value: False\n",
         "2022-09-15 12:05:59,096 [MainThread  ] [INFO ]  Steps  is not correct, assigned default value: 2500\n",
         "2022-09-15 12:05:59,096 [MainThread  ] [INFO ]  Cut-off  is not correct, assigned default value: False\n",
         "2022-09-15 12:05:59,097 [MainThread  ] [INFO ]  Rvdw  is not correct, assigned default value: 6.0\n",
         "2022-09-15 12:05:59,097 [MainThread  ] [INFO ]  Rele  is not correct, assigned default value: 10.0\n",
         "2022-09-15 12:05:59,098 [MainThread  ] [INFO ]  Frequency  is not correct, assigned default value: 10\n",
         "2022-09-15 12:05:59,098 [MainThread  ] [INFO ]  obminimize -c 1e-10 -sd -ff GAFF -ipdb /Users/gbayarri/biobb_wf_protein-complex_md_setup/biobb_wf_protein-complex_md_setup/notebooks/JZ4.reduce.H.pdb -omol2 > JZ4.H.min.mol2\n",
         "\n",
         "2022-09-15 12:06:24,611 [MainThread  ] [INFO ]  Exit code 0\n",
         "\n",
         "2022-09-15 12:06:24,612 [MainThread  ] [INFO ]  \n",
         "A T O M   T Y P E S\n",
         "\n",
         "IDX\tTYPE\tRING\n",
         "1\tc3\tNO\n",
         "2\tca\tAR\n",
         "3\tca\tAR\n",
         "4\tca\tAR\n",
         "5\tca\tAR\n",
         "6\tca\tAR\n",
         "7\tca\tAR\n",
         "8\tc3\tNO\n",
         "9\tc3\tNO\n",
         "10\toh\tNO\n",
         "11\tho\tNO\n",
         "12\thc\tNO\n",
         "13\thc\tNO\n",
         "14\tha\tNO\n",
         "15\tha\tNO\n",
         "16\tha\tNO\n",
         "17\thc\tNO\n",
         "18\thc\tNO\n",
         "19\thc\tNO\n",
         "20\thc\tNO\n",
         "21\thc\tNO\n",
         "22\tha\tNO\n",
         "\n",
         "C H A R G E S\n",
         "\n",
         "IDX\tCHARGE\n",
         "1\t-0.064979\n",
         "2\t-0.061278\n",
         "3\t-0.058294\n",
         "4\t-0.019907\n",
         "5\t0.120013\n",
         "6\t-0.055115\n",
         "7\t-0.005954\n",
         "8\t-0.024481\n",
         "9\t-0.051799\n",
         "10\t-0.506496\n",
         "11\t0.292144\n",
         "12\t0.026577\n",
         "13\t0.031423\n",
         "14\t0.065403\n",
         "15\t0.061871\n",
         "16\t0.061769\n",
         "17\t0.022987\n",
         "18\t0.022987\n",
         "19\t0.022987\n",
         "20\t0.026577\n",
         "21\t0.031423\n",
         "22\t0.062142\n",
         "\n",
         "S E T T I N G   U P   C A L C U L A T I O N S\n",
         "\n",
         "SETTING UP BOND CALCULATIONS...\n",
         "SETTING UP ANGLE CALCULATIONS...\n",
         "SETTING UP TORSION CALCULATIONS...\n",
         "SETTING UP IMPROPER TORSION CALCULATIONS...\n",
         "SETTING UP VAN DER WAALS CALCULATIONS...\n",
         "SETTING UP ELECTROSTATIC CALCULATIONS...\n",
         "\n",
         "S T E E P E S T   D E S C E N T\n",
         "\n",
         "STEPS = 2500\n",
         "\n",
         "STEP n       E(n)         E(n-1)    \n",
         "------------------------------------\n",
         "    0      50.048      ----\n",
         "   10    36.21724    36.73363\n",
         "   20    32.62519    32.90050\n",
         "   30    30.42176    30.60740\n",
         "   40    28.84022    28.98002\n",
         "   50    27.60107    27.71398\n",
         "   60    26.57419    26.66957\n",
         "   70    25.69242    25.77532\n",
         "   80    24.91809    24.99145\n",
         "   90    24.22825    24.29392\n",
         "  100    23.60848    23.66758\n",
         "  110    23.04959    23.10302\n",
         "  120    22.54147    22.59026\n",
         "  130    22.07637    22.12111\n",
         "  140    21.64898    21.69017\n",
         "  150    21.25484    21.29288\n",
         "  160    20.89016    20.92541\n",
         "  170    20.55171    20.58447\n",
         "  180    20.23670    20.26723\n",
         "  190    19.94278    19.97129\n",
         "  200    19.66790    19.69459\n",
         "  210    19.41031    19.43534\n",
         "  220    19.16849    19.19201\n",
         "  230    18.94114    18.96327\n",
         "  240    18.72711    18.74795\n",
         "  250    18.52539    18.54504\n",
         "  260    18.33509    18.35363\n",
         "  270    18.15540    18.17292\n",
         "  280    17.98561    18.00217\n",
         "  290    17.82508    17.84074\n",
         "  300    17.67321    17.68803\n",
         "  310    17.52946    17.54349\n",
         "  320    17.39333    17.40662\n",
         "  330    17.26436    17.27695\n",
         "  340    17.14213    17.15406\n",
         "  350    17.02624    17.03755\n",
         "  360    16.91631    16.92705\n",
         "  370    16.81202    16.82221\n",
         "  380    16.71303    16.72270\n",
         "  390    16.61905    16.62823\n",
         "  400    16.52979    16.53852\n",
         "  410    16.44500    16.45329\n",
         "  420    16.36442    16.37230\n",
         "  430    16.28783    16.29532\n",
         "  440    16.21501    16.22213\n",
         "  450    16.14576    16.15253\n",
         "  460    16.07988    16.08632\n",
         "  470    16.01719    16.02332\n",
         "  480    15.95753    15.96337\n",
         "  490    15.90074    15.90630\n",
         "  500    15.84667    15.85196\n",
         "  510    15.79517    15.80021\n",
         "  520    15.74612    15.75092\n",
         "  530    15.69939    15.70397\n",
         "  540    15.65487    15.65923\n",
         "  550    15.61243    15.61659\n",
         "  560    15.57198    15.57594\n",
         "  570    15.53342    15.53720\n",
         "  580    15.49665    15.50025\n",
         "  590    15.46159    15.46502\n",
         "  600    15.42815    15.43142\n",
         "  610    15.39625    15.39937\n",
         "  620    15.36581    15.36879\n",
         "  630    15.33678    15.33962\n",
         "  640    15.30907    15.31178\n",
         "  650    15.28262    15.28521\n",
         "  660    15.25738    15.25985\n",
         "  670    15.23328    15.23564\n",
         "  680    15.21028    15.21253\n",
         "  690    15.18831    15.19046\n",
         "  700    15.16733    15.16939\n",
         "  710    15.14730    15.14926\n",
         "  720    15.12817    15.13004\n",
         "  730    15.10989    15.11168\n",
         "  740    15.09242    15.09414\n",
         "  750    15.07574    15.07737\n",
         "  760    15.05979    15.06136\n",
         "  770    15.04455    15.04605\n",
         "  780    15.02999    15.03142\n",
         "  790    15.01606    15.01743\n",
         "  800    15.00275    15.00405\n",
         "  810    14.99002    14.99127\n",
         "  820    14.97784    14.97903\n",
         "  830    14.96619    14.96733\n",
         "  840    14.95505    14.95614\n",
         "  850    14.94438    14.94543\n",
         "  860    14.93418    14.93518\n",
         "  870    14.92441    14.92537\n",
         "  880    14.91506    14.91597\n",
         "  890    14.90610    14.90698\n",
         "  900    14.89752    14.89836\n",
         "  910    14.88930    14.89010\n",
         "  920    14.88142    14.88219\n",
         "  930    14.87387    14.87461\n",
         "  940    14.86662    14.86733\n",
         "  950    14.85968    14.86036\n",
         "  960    14.85301    14.85367\n",
         "  970    14.84661    14.84724\n",
         "  980    14.84047    14.84107\n",
         "  990    14.83457    14.83515\n",
         " 1000    14.82890    14.82945\n",
         " 1010    14.82344    14.82398\n",
         " 1020    14.81820    14.81872\n",
         " 1030    14.81315    14.81365\n",
         " 1040    14.80830    14.80877\n",
         " 1050    14.80361    14.80408\n",
         " 1060    14.79910    14.79955\n",
         " 1070    14.79475    14.79518\n",
         " 1080    14.79055    14.79097\n",
         " 1090    14.78650    14.78690\n",
         " 1100    14.78257    14.78296\n",
         " 1110    14.77878    14.77916\n",
         " 1120    14.77511    14.77547\n",
         " 1130    14.77155    14.77190\n",
         " 1140    14.76818    14.76848\n",
         " 1150    14.76618    14.76634\n",
         " 1160    14.76457    14.76473\n",
         " 1170    14.76301    14.76316\n",
         " 1180    14.76147    14.76162\n",
         " 1190    14.75998    14.76012\n",
         " 1200    14.75851    14.75866\n",
         " 1210    14.75708    14.75722\n",
         " 1220    14.75568    14.75582\n",
         " 1230    14.75431    14.75445\n",
         " 1240    14.75297    14.75310\n",
         " 1250    14.75166    14.75179\n",
         " 1260    14.75037    14.75050\n",
         " 1270    14.74911    14.74924\n",
         " 1280    14.74788    14.74800\n",
         " 1290    14.74667    14.74679\n",
         " 1300    14.74548    14.74560\n",
         " 1310    14.74432    14.74443\n",
         " 1320    14.74317    14.74329\n",
         " 1330    14.74205    14.74216\n",
         " 1340    14.74095    14.74106\n",
         " 1350    14.73987    14.73998\n",
         " 1360    14.73881    14.73891\n",
         " 1370    14.73776    14.73787\n",
         " 1380    14.73673    14.73684\n",
         " 1390    14.73572    14.73582\n",
         " 1400    14.73473    14.73483\n",
         " 1410    14.73375    14.73385\n",
         " 1420    14.73278    14.73288\n",
         " 1430    14.73183    14.73193\n",
         " 1440    14.73090    14.73099\n",
         " 1450    14.72997    14.73006\n",
         " 1460    14.72906    14.72915\n",
         " 1470    14.72816    14.72825\n",
         " 1480    14.72727    14.72736\n",
         " 1490    14.72639    14.72648\n",
         " 1500    14.72553    14.72561\n",
         " 1510    14.72493    14.72497\n",
         " 1520    14.72450    14.72454\n",
         " 1530    14.72408    14.72413\n",
         " 1540    14.72367    14.72371\n",
         " 1550    14.72327    14.72331\n",
         " 1560    14.72287    14.72291\n",
         " 1570    14.72247    14.72251\n",
         " 1580    14.72208    14.72212\n",
         " 1590    14.72170    14.72174\n",
         " 1600    14.72132    14.72136\n",
         " 1610    14.72095    14.72099\n",
         " 1620    14.72058    14.72062\n",
         " 1630    14.72022    14.72025\n",
         " 1640    14.71986    14.71989\n",
         " 1650    14.71950    14.71954\n",
         " 1660    14.71915    14.71919\n",
         " 1670    14.71881    14.71884\n",
         " 1680    14.71847    14.71850\n",
         " 1690    14.71813    14.71817\n",
         " 1700    14.71780    14.71783\n",
         " 1710    14.71747    14.71750\n",
         " 1720    14.71715    14.71718\n",
         " 1730    14.71683    14.71686\n",
         " 1740    14.71651    14.71654\n",
         " 1750    14.71619    14.71623\n",
         " 1760    14.71588    14.71592\n",
         " 1770    14.71558    14.71561\n",
         " 1780    14.71527    14.71530\n",
         " 1790    14.71497    14.71500\n",
         " 1800    14.71468    14.71471\n",
         " 1810    14.71438    14.71441\n",
         " 1820    14.71409    14.71412\n",
         " 1830    14.71380    14.71383\n",
         " 1840    14.71351    14.71354\n",
         " 1850    14.71323    14.71326\n",
         " 1860    14.71305    14.71306\n",
         " 1870    14.71290    14.71291\n",
         " 1880    14.71276    14.71277\n",
         " 1890    14.71261    14.71263\n",
         " 1900    14.71247    14.71249\n",
         " 1910    14.71233    14.71235\n",
         " 1920    14.71220    14.71221\n",
         " 1930    14.71206    14.71208\n",
         " 1940    14.71193    14.71194\n",
         " 1950    14.71180    14.71181\n",
         " 1960    14.71167    14.71168\n",
         " 1970    14.71154    14.71155\n",
         " 1980    14.71141    14.71143\n",
         " 1990    14.71129    14.71130\n",
         " 2000    14.71117    14.71118\n",
         " 2010    14.71105    14.71106\n",
         " 2020    14.71093    14.71094\n",
         " 2030    14.71081    14.71082\n",
         " 2040    14.71070    14.71071\n",
         " 2050    14.71058    14.71059\n",
         " 2060    14.71047    14.71048\n",
         " 2070    14.71036    14.71037\n",
         " 2080    14.71025    14.71026\n",
         " 2090    14.71014    14.71015\n",
         " 2100    14.71004    14.71005\n",
         " 2110    14.70993    14.70994\n",
         " 2120    14.70983    14.70984\n",
         " 2130    14.70972    14.70973\n",
         " 2140    14.70962    14.70963\n",
         " 2150    14.70952    14.70953\n",
         " 2160    14.70942    14.70943\n",
         " 2170    14.70932    14.70933\n",
         " 2180    14.70922    14.70923\n",
         " 2190    14.70912    14.70913\n",
         " 2200    14.70903    14.70904\n",
         " 2210    14.70895    14.70895\n",
         " 2220    14.70889    14.70890\n",
         " 2230    14.70884    14.70885\n",
         " 2240    14.70879    14.70880\n",
         " 2250    14.70874    14.70875\n",
         " 2260    14.70870    14.70870\n",
         " 2270    14.70865    14.70865\n",
         " 2280    14.70860    14.70861\n",
         " 2290    14.70856    14.70856\n",
         " 2300    14.70851    14.70852\n",
         " 2310    14.70847    14.70847\n",
         " 2320    14.70842    14.70843\n",
         " 2330    14.70838    14.70839\n",
         " 2340    14.70834    14.70834\n",
         " 2350    14.70830    14.70830\n",
         " 2360    14.70826    14.70826\n",
         " 2370    14.70822    14.70822\n",
         " 2380    14.70818    14.70818\n",
         " 2390    14.70814    14.70814\n",
         " 2400    14.70810    14.70811\n",
         " 2410    14.70806    14.70807\n",
         " 2420    14.70803    14.70803\n",
         " 2430    14.70799    14.70799\n",
         " 2440    14.70796    14.70796\n",
         " 2450    14.70792    14.70792\n",
         " 2460    14.70788    14.70789\n",
         " 2470    14.70785    14.70785\n",
         " 2480    14.70782    14.70782\n",
         " 2490    14.70778    14.70779\n",
         " 2500    14.70775    14.70775\n",
         "Time: 0.228067seconds. Iterations per second: 10966.1\n",
         "\n"
        ]
       },
       {
        "data": {
         "text/plain": [
          "0"
         ]
        },
        "execution_count": 8,
        "metadata": {},
        "output_type": "execute_result"
       }
      ],
      "source": [
       "# Create Ligand system topology, STEP 2\n",
       "# Babel_minimize: Structure energy minimization of a small molecule after being modified adding hydrogen atoms\n",
       "# Import module\n",
       "from biobb_chemistry.babelm.babel_minimize import babel_minimize\n",
       "\n",
       "# Create prop dict and inputs/outputs\n",
       "output_babel_min = ligandCode+'.H.min.mol2'                              \n",
       "prop = {\n",
       "    'method' : 'sd',\n",
       "    'criteria' : '1e-10',\n",
       "    'force_field' : 'GAFF'\n",
       "}\n",
       "\n",
       "\n",
       "# Create and launch bb\n",
       "babel_minimize(input_path=output_reduce_h,\n",
       "              output_path=output_babel_min,\n",
       "              properties=prop)"
      ]
     },
     {
      "cell_type": "markdown",
      "metadata": {},
      "source": [
       "### Visualizing 3D structures\n",
       "Visualizing the small molecule generated **PDB structures** using **NGL**:  \n",
       "- **Original Ligand Structure** (Left)\n",
       "- **Ligand Structure with hydrogen atoms added** (with Reduce program) (Center)\n",
       "- **Ligand Structure with hydrogen atoms added** (with Reduce program), **energy minimized** (with Open Babel) (Right) "
      ]
     },
     {
      "cell_type": "code",
      "execution_count": 9,
      "metadata": {
       "scrolled": true
      },
      "outputs": [
       {
        "data": {
         "application/vnd.jupyter.widget-view+json": {
          "model_id": "00455056ca654098b126b7bf2c21a7f8",
          "version_major": 2,
          "version_minor": 0
         },
         "text/plain": [
          "HBox(children=(NGLWidget(), NGLWidget(), NGLWidget()))"
         ]
        },
        "metadata": {},
        "output_type": "display_data"
       }
      ],
      "source": [
       "# Show different structures generated (for comparison)\n",
       "\n",
       "view1 = nglview.show_structure_file(ligandFile)\n",
       "view1.add_representation(repr_type='ball+stick')\n",
       "view1._remote_call('setSize', target='Widget', args=['350px','400px'])\n",
       "view1.camera='orthographic'\n",
       "view1\n",
       "view2 = nglview.show_structure_file(output_reduce_h)\n",
       "view2.add_representation(repr_type='ball+stick')\n",
       "view2._remote_call('setSize', target='Widget', args=['350px','400px'])\n",
       "view2.camera='orthographic'\n",
       "view2\n",
       "view3 = nglview.show_structure_file(output_babel_min)\n",
       "view3.add_representation(repr_type='ball+stick')\n",
       "view3._remote_call('setSize', target='Widget', args=['350px','400px'])\n",
       "view3.camera='orthographic'\n",
       "view3\n",
       "ipywidgets.HBox([view1, view2, view3])"
      ]
     },
     {
      "cell_type": "markdown",
      "metadata": {},
      "source": [
       "<a id=\"ligandTopologyStep3\"></a>\n",
       "### Step 3: Generate **ligand topology** (parameters)."
      ]
     },
     {
      "cell_type": "code",
      "execution_count": 10,
      "metadata": {
       "scrolled": false
      },
      "outputs": [
       {
        "name": "stdout",
        "output_type": "stream",
        "text": [
         "2022-09-15 12:06:24,697 [MainThread  ] [INFO ]  acpype -i /Users/gbayarri/biobb_wf_protein-complex_md_setup/biobb_wf_protein-complex_md_setup/notebooks/JZ4.H.min.mol2 -b JZ4params.VA80jY -n 0\n",
         "\n",
         "2022-09-15 12:06:34,415 [MainThread  ] [INFO ]  Exit code 0\n",
         "\n",
         "2022-09-15 12:06:34,416 [MainThread  ] [INFO ]  ==========================================================================\n",
         "| ACPYPE: AnteChamber PYthon Parser interfacE v. 2022.6.6 (c) 2022 AWSdS |\n",
         "==========================================================================\n",
         "==> ... charge set to 0\n",
         "==> Executing Antechamber...\n",
         "==> * Antechamber OK *\n",
         "==> * Parmchk OK *\n",
         "==> Executing Tleap...\n",
         "==> * Tleap OK *\n",
         "==> Removing temporary files...\n",
         "==> Using OpenBabel v.3.1.0\n",
         "\n",
         "==> Writing NEW PDB file\n",
         "\n",
         "==> Writing CNS/XPLOR files\n",
         "\n",
         "==> Writing GROMACS files\n",
         "\n",
         "==> Disambiguating lower and uppercase atomtypes in GMX top file, even if identical.\n",
         "\n",
         "==> Writing GMX dihedrals for GMX 4.5 and higher.\n",
         "\n",
         "==> Writing CHARMM files\n",
         "\n",
         "==> Writing pickle file JZ4params.VA80jY.pkl\n",
         "==> Removing temporary files...\n",
         "Total time of execution: 9s\n",
         "\n",
         "2022-09-15 12:06:34,418 [MainThread  ] [INFO ]  File JZ4params.top succesfully created\n",
         "2022-09-15 12:06:34,419 [MainThread  ] [INFO ]  File JZ4params.itp succesfully created\n",
         "2022-09-15 12:06:34,421 [MainThread  ] [INFO ]  File JZ4params.gro succesfully created\n",
         "2022-09-15 12:06:34,422 [MainThread  ] [INFO ]  Removed temporary folder: JZ4params.VA80jY.acpype\n"
        ]
       },
       {
        "data": {
         "text/plain": [
          "0"
         ]
        },
        "execution_count": 10,
        "metadata": {},
        "output_type": "execute_result"
       }
      ],
      "source": [
       "# Create Ligand system topology, STEP 3\n",
       "# Acpype_params_gmx: Generation of topologies for GROMACS with ACPype\n",
       "# Import module\n",
       "from biobb_chemistry.acpype.acpype_params_gmx import acpype_params_gmx\n",
       "\n",
       "# Create prop dict and inputs/outputs\n",
       "output_acpype_gro = ligandCode+'params.gro'\n",
       "output_acpype_itp = ligandCode+'params.itp'\n",
       "output_acpype_top = ligandCode+'params.top'\n",
       "output_acpype = ligandCode+'params'\n",
       "prop = {\n",
       "    'basename' : output_acpype,\n",
       "    'charge' : mol_charge\n",
       "}\n",
       "\n",
       "# Create and launch bb\n",
       "acpype_params_gmx(input_path=output_babel_min, \n",
       "                output_path_gro=output_acpype_gro,\n",
       "                output_path_itp=output_acpype_itp,\n",
       "                output_path_top=output_acpype_top,\n",
       "                properties=prop)"
      ]
     },
     {
      "cell_type": "markdown",
      "metadata": {},
      "source": [
       "<a id=\"restraints\"></a>\n",
       "***\n",
       "## Preparing Ligand Restraints\n",
       "In subsequent steps of the pipeline, such as the equilibration stages of the **protein-ligand complex** system, it is recommended to apply some **restraints** to the small molecule, to avoid a possible change in position due to protein repulsion. **Position restraints** will be applied to the ligand, using a **force constant of 1000 KJ/mol\\*nm^2** on the three coordinates: x, y and z. In this steps the **restriction files** will be created and integrated in the **ligand topology**.\n",
       "- [Step 1](#restraintsStep1): Creating an index file with a new group including just the **small molecule heavy atoms**.\n",
       "- [Step 2](#restraintsStep2): Generating the **position restraints** file.\n",
       "***\n",
       "**Building Blocks** used:\n",
       " - [MakeNdx](https://biobb-md.readthedocs.io/en/latest/gromacs.html#module-gromacs.make_ndx) from **biobb_gromacs.gromacs.make_ndx** \n",
       " - [Genrestr](https://biobb-md.readthedocs.io/en/latest/gromacs.html#module-gromacs.genrestr) from **biobb_gromacs.gromacs.genrestr** \n",
       "***"
      ]
     },
     {
      "cell_type": "markdown",
      "metadata": {},
      "source": [
       "<a id=\"restraintsStep1\"></a>\n",
       "### Step 1: Creating an index file for the small molecule heavy atoms"
      ]
     },
     {
      "cell_type": "code",
      "execution_count": 11,
      "metadata": {
       "scrolled": false
      },
      "outputs": [
       {
        "name": "stdout",
        "output_type": "stream",
        "text": [
         "2022-09-15 12:06:34,462 [MainThread  ] [INFO ]  Executing biobb_gromacs.gromacs.make_ndx Version: 3.8.0\n",
         "2022-09-15 12:06:34,464 [MainThread  ] [INFO ]  GROMACS MakeNdx 20222 version detected\n",
         "2022-09-15 12:06:34,464 [MainThread  ] [INFO ]  echo -e '0 & ! a H*\\nq' | gmx -nobackup -nocopyright make_ndx -f JZ4params.gro -o JZ4_index.ndx\n",
         "\n",
         "2022-09-15 12:06:34,498 [MainThread  ] [INFO ]  Exit code 0\n",
         "\n",
         "2022-09-15 12:06:34,500 [MainThread  ] [INFO ]  Going to read 0 old index file(s)\n",
         "Analysing residue names:\n",
         "There are:     1      Other residues\n",
         "Analysing residues not classified as Protein/DNA/RNA/Water and splitting into groups...\n",
         "\n",
         "  0 System              :    22 atoms\n",
         "  1 Other               :    22 atoms\n",
         "  2 JZ4                 :    22 atoms\n",
         "\n",
         " nr : group      '!': not  'name' nr name   'splitch' nr    Enter: list groups\n",
         " 'a': atom       '&': and  'del' nr         'splitres' nr   'l': list residues\n",
         " 't': atom type  '|': or   'keep' nr        'splitat' nr    'h': help\n",
         " 'r': residue              'res' nr         'chain' char\n",
         " \"name\": group             'case': case sensitive           'q': save and quit\n",
         " 'ri': residue index\n",
         "\n",
         "> \n",
         "Copied index group 0 'System'\n",
         "Found 12 atoms with name H*\n",
         "Complemented group: 10 atoms\n",
         "Merged two groups with AND: 22 10 -> 10\n",
         "\n",
         "  3 System_&_!H*        :    10 atoms\n",
         "\n",
         "> \n",
         "\n",
         "2022-09-15 12:06:34,500 [MainThread  ] [INFO ]                 :-) GROMACS - gmx make_ndx, 2022.2-conda_forge (-:\n",
         "\n",
         "Executable:   /Users/gbayarri/opt/anaconda3/envs/biobb_Protein-Complex_MDsetup_tutorial/bin.SSE2/gmx\n",
         "Data prefix:  /Users/gbayarri/opt/anaconda3/envs/biobb_Protein-Complex_MDsetup_tutorial\n",
         "Working dir:  /Users/gbayarri/biobb_wf_protein-complex_md_setup/biobb_wf_protein-complex_md_setup/notebooks\n",
         "Command line:\n",
         "  gmx -nobackup -nocopyright make_ndx -f JZ4params.gro -o JZ4_index.ndx\n",
         "\n",
         "\n",
         "Reading structure file\n",
         "\n",
         "GROMACS reminds you: \"Your Excellency, I have no need of this hypothesis.\" (Pierre Laplace, to Napoleon on why his works on celestial mechanics make no mention of God.)\n",
         "\n",
         "\n",
         "2022-09-15 12:06:34,501 [MainThread  ] [INFO ]  Removed: []\n"
        ]
       },
       {
        "data": {
         "text/plain": [
          "0"
         ]
        },
        "execution_count": 11,
        "metadata": {},
        "output_type": "execute_result"
       }
      ],
      "source": [
       "# MakeNdx: Creating index file with a new group (small molecule heavy atoms)\n",
       "from biobb_gromacs.gromacs.make_ndx import make_ndx\n",
       "\n",
       "# Create prop dict and inputs/outputs\n",
       "output_ligand_ndx = ligandCode+'_index.ndx'\n",
       "prop = {\n",
       "    'selection': \"0 & ! a H*\"\n",
       "}\n",
       "\n",
       "# Create and launch bb\n",
       "make_ndx(input_structure_path=output_acpype_gro,\n",
       "        output_ndx_path=output_ligand_ndx,\n",
       "        properties=prop)"
      ]
     },
     {
      "cell_type": "markdown",
      "metadata": {},
      "source": [
       "<a id=\"restraintsStep2\"></a>\n",
       "### Step 2: Generating the position restraints file"
      ]
     },
     {
      "cell_type": "code",
      "execution_count": 12,
      "metadata": {
       "scrolled": false
      },
      "outputs": [
       {
        "name": "stdout",
        "output_type": "stream",
        "text": [
         "2022-09-15 12:06:34,539 [MainThread  ] [INFO ]  Executing biobb_gromacs.gromacs.genrestr Version: 3.8.0\n",
         "2022-09-15 12:06:34,540 [MainThread  ] [INFO ]  GROMACS Genrestr 20222 version detected\n",
         "2022-09-15 12:06:34,540 [MainThread  ] [INFO ]  echo \"System\" | gmx -nobackup -nocopyright genrestr -f JZ4params.gro -o JZ4_posres.itp -fc 1000 1000 1000 -n JZ4_index.ndx\n",
         "\n",
         "2022-09-15 12:06:34,573 [MainThread  ] [INFO ]  Exit code 0\n",
         "\n",
         "2022-09-15 12:06:34,574 [MainThread  ] [INFO ]  Select group to position restrain\n",
         "Selected 0: 'System'\n",
         "\n",
         "2022-09-15 12:06:34,575 [MainThread  ] [INFO ]                 :-) GROMACS - gmx genrestr, 2022.2-conda_forge (-:\n",
         "\n",
         "Executable:   /Users/gbayarri/opt/anaconda3/envs/biobb_Protein-Complex_MDsetup_tutorial/bin.SSE2/gmx\n",
         "Data prefix:  /Users/gbayarri/opt/anaconda3/envs/biobb_Protein-Complex_MDsetup_tutorial\n",
         "Working dir:  /Users/gbayarri/biobb_wf_protein-complex_md_setup/biobb_wf_protein-complex_md_setup/notebooks\n",
         "Command line:\n",
         "  gmx -nobackup -nocopyright genrestr -f JZ4params.gro -o JZ4_posres.itp -fc 1000 1000 1000 -n JZ4_index.ndx\n",
         "\n",
         "\n",
         "Reading structure file\n",
         "Group     0 (         System) has    22 elements\n",
         "Group     1 (          Other) has    22 elements\n",
         "Group     2 (            JZ4) has    22 elements\n",
         "Group     3 (   System_&_!H*) has    10 elements\n",
         "Select a group: \n",
         "GROMACS reminds you: \"Your Excellency, I have no need of this hypothesis.\" (Pierre Laplace, to Napoleon on why his works on celestial mechanics make no mention of God.)\n",
         "\n",
         "\n",
         "2022-09-15 12:06:34,575 [MainThread  ] [INFO ]  Removed: []\n"
        ]
       },
       {
        "data": {
         "text/plain": [
          "0"
         ]
        },
        "execution_count": 12,
        "metadata": {},
        "output_type": "execute_result"
       }
      ],
      "source": [
       "# Genrestr: Generating the position restraints file\n",
       "from biobb_gromacs.gromacs.genrestr import genrestr\n",
       "\n",
       "# Create prop dict and inputs/outputs\n",
       "output_restraints_top = ligandCode+'_posres.itp'\n",
       "prop = {\n",
       "    'force_constants': \"1000 1000 1000\",\n",
       "    'restrained_group': \"System\"\n",
       "}\n",
       "\n",
       "# Create and launch bb\n",
       "genrestr(input_structure_path=output_acpype_gro,\n",
       "         input_ndx_path=output_ligand_ndx,\n",
       "         output_itp_path=output_restraints_top,\n",
       "         properties=prop)"
      ]
     },
     {
      "cell_type": "markdown",
      "metadata": {},
      "source": [
       "<a id=\"complex\"></a>\n",
       "***\n",
       "## Create new protein-ligand complex structure file\n",
       "Building new **protein-ligand complex** PDB file with:\n",
       "- The new **protein system** with fixed problems from *Fix Protein Structure* step and hydrogens atoms added from *Create Protein System Topology* step.\n",
       "- The new **ligand system** with hydrogens atoms added from *Create Ligand System Topology* step. \n",
       "\n",
       "This new structure is needed for **GROMACS** as it is **force field-compliant**, it **has all the new hydrogen atoms**, and the **atom names are matching the newly generated protein and ligand topologies**.\n",
       "***\n",
       "**Building Blocks** used:\n",
       " - [GMXTrjConvStr](https://biobb-analysis.readthedocs.io/en/latest/gromacs.html#module-gromacs.gmx_trjconv_str) from **biobb_analysis.gromacs.gmx_trjconv_str**\n",
       "***"
      ]
     },
     {
      "cell_type": "code",
      "execution_count": 13,
      "metadata": {
       "scrolled": false
      },
      "outputs": [
       {
        "name": "stdout",
        "output_type": "stream",
        "text": [
         "2022-09-15 12:06:34,585 [MainThread  ] [INFO ]  Executing biobb_analysis.gromacs.gmx_trjconv_str Version: 3.8.0\n",
         "2022-09-15 12:06:34,585 [MainThread  ] [INFO ]  echo \"System\" | gmx trjconv -f /Users/gbayarri/biobb_wf_protein-complex_md_setup/biobb_wf_protein-complex_md_setup/notebooks/3HTB_pdb2gmx.gro -s /Users/gbayarri/biobb_wf_protein-complex_md_setup/biobb_wf_protein-complex_md_setup/notebooks/3HTB_pdb2gmx.gro -o 3HTB_JZ4_complex_H.pdb -nocenter\n",
         "\n",
         "2022-09-15 12:06:34,629 [MainThread  ] [INFO ]  Exit code 0\n",
         "\n",
         "2022-09-15 12:06:34,630 [MainThread  ] [INFO ]  Note that major changes are planned in future for trjconv, to improve usability and utility.\n",
         "Select group for output\n",
         "Selected 0: 'System'\n",
         "\n",
         "2022-09-15 12:06:34,631 [MainThread  ] [INFO ]                 :-) GROMACS - gmx trjconv, 2022.2-conda_forge (-:\n",
         "\n",
         "Executable:   /Users/gbayarri/opt/anaconda3/envs/biobb_Protein-Complex_MDsetup_tutorial/bin.SSE2/gmx\n",
         "Data prefix:  /Users/gbayarri/opt/anaconda3/envs/biobb_Protein-Complex_MDsetup_tutorial\n",
         "Working dir:  /Users/gbayarri/biobb_wf_protein-complex_md_setup/biobb_wf_protein-complex_md_setup/notebooks\n",
         "Command line:\n",
         "  gmx trjconv -f /Users/gbayarri/biobb_wf_protein-complex_md_setup/biobb_wf_protein-complex_md_setup/notebooks/3HTB_pdb2gmx.gro -s /Users/gbayarri/biobb_wf_protein-complex_md_setup/biobb_wf_protein-complex_md_setup/notebooks/3HTB_pdb2gmx.gro -o 3HTB_JZ4_complex_H.pdb -nocenter\n",
         "\n",
         "Will write pdb: Protein data bank file\n",
         "Group     0 (         System) has  2614 elements\n",
         "Group     1 (        Protein) has  2614 elements\n",
         "Group     2 (      Protein-H) has  1301 elements\n",
         "Group     3 (        C-alpha) has   163 elements\n",
         "Group     4 (       Backbone) has   489 elements\n",
         "Group     5 (      MainChain) has   653 elements\n",
         "Group     6 (   MainChain+Cb) has   805 elements\n",
         "Group     7 (    MainChain+H) has   815 elements\n",
         "Group     8 (      SideChain) has  1799 elements\n",
         "Group     9 (    SideChain-H) has   648 elements\n",
         "Select a group: Reading frames from gro file 'GRoups of Organic Molecules in ACtion for Science', 2614 atoms.\n",
         "Reading frame       0 time    0.000   \n",
         "Precision of /Users/gbayarri/biobb_wf_protein-complex_md_setup/biobb_wf_protein-complex_md_setup/notebooks/3HTB_pdb2gmx.gro is 0.001 (nm)\n",
         "Last frame          0 time    0.000   \n",
         " ->  frame      0 time    0.000      \n",
         "Last written: frame      0 time    0.000\n",
         "\n",
         "\n",
         "GROMACS reminds you: \"Your Excellency, I have no need of this hypothesis.\" (Pierre Laplace, to Napoleon on why his works on celestial mechanics make no mention of God.)\n",
         "\n",
         "\n",
         "2022-09-15 12:06:34,633 [MainThread  ] [INFO ]  Executing biobb_analysis.gromacs.gmx_trjconv_str Version: 3.8.0\n",
         "2022-09-15 12:06:34,634 [MainThread  ] [INFO ]  echo \"System\" | gmx trjconv -f /Users/gbayarri/biobb_wf_protein-complex_md_setup/biobb_wf_protein-complex_md_setup/notebooks/JZ4params.gro -s /Users/gbayarri/biobb_wf_protein-complex_md_setup/biobb_wf_protein-complex_md_setup/notebooks/JZ4params.gro -o JZ4_complex_H.pdb -nocenter\n",
         "\n",
         "2022-09-15 12:06:34,668 [MainThread  ] [INFO ]  Exit code 0\n",
         "\n",
         "2022-09-15 12:06:34,669 [MainThread  ] [INFO ]  Note that major changes are planned in future for trjconv, to improve usability and utility.\n",
         "Select group for output\n",
         "Selected 0: 'System'\n",
         "\n",
         "2022-09-15 12:06:34,669 [MainThread  ] [INFO ]                 :-) GROMACS - gmx trjconv, 2022.2-conda_forge (-:\n",
         "\n",
         "Executable:   /Users/gbayarri/opt/anaconda3/envs/biobb_Protein-Complex_MDsetup_tutorial/bin.SSE2/gmx\n",
         "Data prefix:  /Users/gbayarri/opt/anaconda3/envs/biobb_Protein-Complex_MDsetup_tutorial\n",
         "Working dir:  /Users/gbayarri/biobb_wf_protein-complex_md_setup/biobb_wf_protein-complex_md_setup/notebooks\n",
         "Command line:\n",
         "  gmx trjconv -f /Users/gbayarri/biobb_wf_protein-complex_md_setup/biobb_wf_protein-complex_md_setup/notebooks/JZ4params.gro -s /Users/gbayarri/biobb_wf_protein-complex_md_setup/biobb_wf_protein-complex_md_setup/notebooks/JZ4params.gro -o JZ4_complex_H.pdb -nocenter\n",
         "\n",
         "Will write pdb: Protein data bank file\n",
         "Group     0 (         System) has    22 elements\n",
         "Group     1 (          Other) has    22 elements\n",
         "Group     2 (            JZ4) has    22 elements\n",
         "Select a group: Reading frames from gro file 'JZ4params_GMX.gro created by acpype (v: 2022.6.6) on Thu Sep 15 12:06:24 2022', 22 atoms.\n",
         "Reading frame       0 time    0.000   \n",
         "Precision of /Users/gbayarri/biobb_wf_protein-complex_md_setup/biobb_wf_protein-complex_md_setup/notebooks/JZ4params.gro is 0.001 (nm)\n",
         "Last frame          0 time    0.000   \n",
         " ->  frame      0 time    0.000      \n",
         "Last written: frame      0 time    0.000\n",
         "\n",
         "\n",
         "GROMACS reminds you: \"Your Excellency, I have no need of this hypothesis.\" (Pierre Laplace, to Napoleon on why his works on celestial mechanics make no mention of God.)\n",
         "\n",
         "\n",
         "2022-09-15 12:06:34,672 [MainThread  ] [INFO ]  Executing biobb_structure_utils.utils.cat_pdb Version: 3.8.0\n",
         "2022-09-15 12:06:34,674 [MainThread  ] [INFO ]  Removed: []\n"
        ]
       },
       {
        "data": {
         "text/plain": [
          "0"
         ]
        },
        "execution_count": 13,
        "metadata": {},
        "output_type": "execute_result"
       }
      ],
      "source": [
       "# biobb analysis module\n",
       "from biobb_analysis.gromacs.gmx_trjconv_str import gmx_trjconv_str\n",
       "from biobb_structure_utils.utils.cat_pdb import cat_pdb\n",
       "\n",
       "# Convert gro (with hydrogens) to pdb (PROTEIN)\n",
       "proteinFile_H = pdbCode+'_'+ligandCode+'_complex_H.pdb'\n",
       "prop = {\n",
       "    'selection' : 'System'\n",
       "}\n",
       "\n",
       "# Create and launch bb\n",
       "gmx_trjconv_str(input_structure_path=output_pdb2gmx_gro,\n",
       "              input_top_path=output_pdb2gmx_gro,\n",
       "              output_str_path=proteinFile_H, \n",
       "              properties=prop)\n",
       "\n",
       "# Convert gro (with hydrogens) to pdb (LIGAND)\n",
       "ligandFile_H = ligandCode+'_complex_H.pdb'\n",
       "prop = {\n",
       "    'selection' : 'System'\n",
       "}\n",
       "\n",
       "# Create and launch bb\n",
       "gmx_trjconv_str(input_structure_path=output_acpype_gro,\n",
       "              input_top_path=output_acpype_gro,\n",
       "              output_str_path=ligandFile_H, \n",
       "              properties=prop)\n",
       "\n",
       "\n",
       "# Concatenating both PDB files: Protein + Ligand\n",
       "complexFile_H = pdbCode+'_'+ligandCode+'_H.pdb'\n",
       "\n",
       "# Create and launch bb\n",
       "cat_pdb(input_structure1=proteinFile_H,\n",
       "       input_structure2=ligandFile_H,\n",
       "       output_structure_path=complexFile_H)"
      ]
     },
     {
      "cell_type": "markdown",
      "metadata": {},
      "source": [
       "<a id=\"complextop\"></a>\n",
       "***\n",
       "## Create new protein-ligand complex topology file\n",
       "Building new **protein-ligand complex** GROMACS topology file with:\n",
       "- The new **protein system** topology generated from *Create Protein System Topology* step.\n",
       "- The new **ligand system** topology generated from *Create Ligand System Topology* step. \n",
       "\n",
       "NOTE: From this point on, the **protein-ligand complex structure and topology** generated can be used in a regular MD setup.\n",
       "***\n",
       "**Building Blocks** used:\n",
       " - [AppendLigand](https://biobb-md.readthedocs.io/en/latest/modules.html) from **biobb_gromacs.gromacs_extra.append_ligand**  (NOTE: link should be updated with the documentation)\n",
       "***"
      ]
     },
     {
      "cell_type": "code",
      "execution_count": 14,
      "metadata": {
       "scrolled": false
      },
      "outputs": [
       {
        "name": "stdout",
        "output_type": "stream",
        "text": [
         "2022-09-15 12:06:34,682 [MainThread  ] [INFO ]  Executing biobb_gromacs.gromacs_extra.append_ligand Version: 3.8.0\n",
         "2022-09-15 12:06:34,685 [MainThread  ] [INFO ]  Extracting: /Users/gbayarri/biobb_wf_protein-complex_md_setup/biobb_wf_protein-complex_md_setup/notebooks/3HTB_pdb2gmx_top.zip\n",
         "2022-09-15 12:06:34,685 [MainThread  ] [INFO ]  to:\n",
         "2022-09-15 12:06:34,686 [MainThread  ] [INFO ]  ['62a771b0-ba3a-4895-9132-b426ffdefa34/p2g.top', '62a771b0-ba3a-4895-9132-b426ffdefa34/posre.itp']\n",
         "2022-09-15 12:06:34,686 [MainThread  ] [INFO ]  Unzipping: \n",
         "2022-09-15 12:06:34,686 [MainThread  ] [INFO ]  3HTB_pdb2gmx_top.zip\n",
         "2022-09-15 12:06:34,687 [MainThread  ] [INFO ]  To: \n",
         "2022-09-15 12:06:34,687 [MainThread  ] [INFO ]  62a771b0-ba3a-4895-9132-b426ffdefa34/p2g.top\n",
         "2022-09-15 12:06:34,687 [MainThread  ] [INFO ]  62a771b0-ba3a-4895-9132-b426ffdefa34/posre.itp\n",
         "2022-09-15 12:06:34,705 [MainThread  ] [INFO ]  Compressing topology to: 3HTB_JZ4_complex.top.zip\n",
         "2022-09-15 12:06:34,705 [MainThread  ] [INFO ]  Ignored file 62a771b0-ba3a-4895-9132-b426ffdefa34/amber99sb-ildn.ff/forcefield.itp\n",
         "2022-09-15 12:06:34,713 [MainThread  ] [INFO ]  Ignored file 62a771b0-ba3a-4895-9132-b426ffdefa34/amber99sb-ildn.ff/spce.itp\n",
         "2022-09-15 12:06:34,713 [MainThread  ] [INFO ]  Ignored file 62a771b0-ba3a-4895-9132-b426ffdefa34/amber99sb-ildn.ff/ions.itp\n",
         "2022-09-15 12:06:34,715 [MainThread  ] [INFO ]  Adding:\n",
         "2022-09-15 12:06:34,715 [MainThread  ] [INFO ]  ['62a771b0-ba3a-4895-9132-b426ffdefa34/JZ4_posres.itp', '62a771b0-ba3a-4895-9132-b426ffdefa34/JZ4params.itp', '62a771b0-ba3a-4895-9132-b426ffdefa34/ligand.top', '62a771b0-ba3a-4895-9132-b426ffdefa34/posre.itp']\n",
         "2022-09-15 12:06:34,716 [MainThread  ] [INFO ]  to: /Users/gbayarri/biobb_wf_protein-complex_md_setup/biobb_wf_protein-complex_md_setup/notebooks/3HTB_JZ4_complex.top.zip\n",
         "2022-09-15 12:06:34,717 [MainThread  ] [INFO ]  Removed: ['62a771b0-ba3a-4895-9132-b426ffdefa34']\n"
        ]
       },
       {
        "data": {
         "text/plain": [
          "0"
         ]
        },
        "execution_count": 14,
        "metadata": {},
        "output_type": "execute_result"
       }
      ],
      "source": [
       "# AppendLigand: Append a ligand to a GROMACS topology\n",
       "# Import module\n",
       "from biobb_gromacs.gromacs_extra.append_ligand import append_ligand\n",
       "\n",
       "# Create prop dict and inputs/outputs\n",
       "output_complex_top = pdbCode+'_'+ligandCode+'_complex.top.zip'\n",
       "\n",
       "posresifdef = \"POSRES_\"+ligandCode.upper()\n",
       "prop = {\n",
       "    'posres_name': posresifdef\n",
       "}\n",
       "\n",
       "# Create and launch bb\n",
       "append_ligand(input_top_zip_path=output_pdb2gmx_top_zip,\n",
       "             input_posres_itp_path=output_restraints_top,\n",
       "             input_itp_path=output_acpype_itp, \n",
       "             output_top_zip_path=output_complex_top,\n",
       "             properties=prop)"
      ]
     },
     {
      "cell_type": "markdown",
      "metadata": {},
      "source": [
       "<a id=\"box\"></a>\n",
       "***\n",
       "## Create solvent box\n",
       "Define the unit cell for the **protein-ligand complex** to fill it with water molecules.<br>\n",
       "**Truncated octahedron** box is used for the unit cell. This box type is the one which best reflects the geometry of the solute/protein, in this case a **globular protein**, as it approximates a sphere. It is also convenient for the computational point of view, as it accumulates **less water molecules at the corners**, reducing the final number of water molecules in the system and making the simulation run faster.<br> A **protein to box** distance of **0.8 nm** is used, and the protein is **centered in the box**.  \n",
       "\n",
       "***\n",
       "**Building Blocks** used:\n",
       " - [Editconf](https://biobb-md.readthedocs.io/en/latest/gromacs.html#module-gromacs.editconf) from **biobb_gromacs.gromacs.editconf** \n",
       "***"
      ]
     },
     {
      "cell_type": "code",
      "execution_count": 15,
      "metadata": {
       "scrolled": false
      },
      "outputs": [
       {
        "name": "stdout",
        "output_type": "stream",
        "text": [
         "2022-09-15 12:06:34,754 [MainThread  ] [INFO ]  Executing biobb_gromacs.gromacs.editconf Version: 3.8.0\n",
         "2022-09-15 12:06:34,756 [MainThread  ] [INFO ]  Centering molecule in the box.\n",
         "2022-09-15 12:06:34,756 [MainThread  ] [INFO ]  Distance of the box to molecule:   0.80\n",
         "2022-09-15 12:06:34,756 [MainThread  ] [INFO ]  Box type: octahedron\n",
         "2022-09-15 12:06:34,757 [MainThread  ] [INFO ]  GROMACS Editconf 20222 version detected\n",
         "2022-09-15 12:06:34,758 [MainThread  ] [INFO ]  gmx -nobackup -nocopyright editconf -f 3HTB_JZ4_H.pdb -o 3HTB_JZ4_complex_editconf.gro -d 0.8 -bt octahedron -c\n",
         "\n",
         "2022-09-15 12:06:34,806 [MainThread  ] [INFO ]  Exit code 0\n",
         "\n",
         "2022-09-15 12:06:34,807 [MainThread  ] [INFO ]  Note that major changes are planned in future for editconf, to improve usability and utility.\n",
         "Read 2636 atoms\n",
         "Volume: 1322.64 nm^3, corresponds to roughly 595100 electrons\n",
         "No velocities found\n",
         "    system size :  4.069  4.192  5.073 (nm)\n",
         "    diameter    :  5.849               (nm)\n",
         "    center      :  2.241 -1.669 -0.935 (nm)\n",
         "    box vectors :  8.398 10.808 14.572 (nm)\n",
         "    box angles  :  90.00  90.00  90.00 (degrees)\n",
         "    box volume  :1322.64               (nm^3)\n",
         "    shift       :  1.483  6.937  3.976 (nm)\n",
         "new center      :  3.725  5.267  3.041 (nm)\n",
         "new box vectors :  7.449  7.449  7.449 (nm)\n",
         "new box angles  :  70.53 109.47  70.53 (degrees)\n",
         "new box volume  : 318.21               (nm^3)\n",
         "\n",
         "2022-09-15 12:06:34,808 [MainThread  ] [INFO ]                 :-) GROMACS - gmx editconf, 2022.2-conda_forge (-:\n",
         "\n",
         "Executable:   /Users/gbayarri/opt/anaconda3/envs/biobb_Protein-Complex_MDsetup_tutorial/bin.SSE2/gmx\n",
         "Data prefix:  /Users/gbayarri/opt/anaconda3/envs/biobb_Protein-Complex_MDsetup_tutorial\n",
         "Working dir:  /Users/gbayarri/biobb_wf_protein-complex_md_setup/biobb_wf_protein-complex_md_setup/notebooks\n",
         "Command line:\n",
         "  gmx -nobackup -nocopyright editconf -f 3HTB_JZ4_H.pdb -o 3HTB_JZ4_complex_editconf.gro -d 0.8 -bt octahedron -c\n",
         "\n",
         "\n",
         "GROMACS reminds you: \"Your Excellency, I have no need of this hypothesis.\" (Pierre Laplace, to Napoleon on why his works on celestial mechanics make no mention of God.)\n",
         "\n",
         "\n",
         "2022-09-15 12:06:34,808 [MainThread  ] [INFO ]  Removed: []\n"
        ]
       },
       {
        "data": {
         "text/plain": [
          "0"
         ]
        },
        "execution_count": 15,
        "metadata": {},
        "output_type": "execute_result"
       }
      ],
      "source": [
       "# Editconf: Create solvent box\n",
       "# Import module\n",
       "from biobb_gromacs.gromacs.editconf import editconf\n",
       "\n",
       "# Create prop dict and inputs/outputs\n",
       "output_editconf_gro = pdbCode+'_'+ligandCode+'_complex_editconf.gro'\n",
       "\n",
       "prop = {\n",
       "    'box_type': 'octahedron',\n",
       "    'distance_to_molecule': 0.8\n",
       "}\n",
       "\n",
       "# Create and launch bb\n",
       "editconf(input_gro_path=complexFile_H, \n",
       "         output_gro_path=output_editconf_gro,\n",
       "         properties=prop)"
      ]
     },
     {
      "cell_type": "markdown",
      "metadata": {},
      "source": [
       "<a id=\"water\"></a>\n",
       "***\n",
       "## Fill the box with water molecules\n",
       "Fill the unit cell for the **protein-ligand complex** with water molecules.<br>\n",
       "The solvent type used is the default **Simple Point Charge water (SPC)**, a generic equilibrated 3-point solvent model. \n",
       "\n",
       "***\n",
       "**Building Blocks** used:\n",
       " - [Solvate](https://biobb-md.readthedocs.io/en/latest/gromacs.html#module-gromacs.solvate) from **biobb_gromacs.gromacs.solvate** \n",
       "***"
      ]
     },
     {
      "cell_type": "code",
      "execution_count": 16,
      "metadata": {
       "scrolled": false
      },
      "outputs": [
       {
        "name": "stdout",
        "output_type": "stream",
        "text": [
         "2022-09-15 12:06:34,852 [MainThread  ] [INFO ]  Executing biobb_gromacs.gromacs.solvate Version: 3.8.0\n",
         "2022-09-15 12:06:34,855 [MainThread  ] [INFO ]  Extracting: /Users/gbayarri/biobb_wf_protein-complex_md_setup/biobb_wf_protein-complex_md_setup/notebooks/3HTB_JZ4_complex.top.zip\n",
         "2022-09-15 12:06:34,855 [MainThread  ] [INFO ]  to:\n",
         "2022-09-15 12:06:34,855 [MainThread  ] [INFO ]  ['d24db90e-9670-4851-b315-de8ebeb2269f/JZ4_posres.itp', 'd24db90e-9670-4851-b315-de8ebeb2269f/JZ4params.itp', 'd24db90e-9670-4851-b315-de8ebeb2269f/ligand.top', 'd24db90e-9670-4851-b315-de8ebeb2269f/posre.itp']\n",
         "2022-09-15 12:06:34,856 [MainThread  ] [INFO ]  Unzipping: \n",
         "2022-09-15 12:06:34,856 [MainThread  ] [INFO ]  3HTB_JZ4_complex.top.zip\n",
         "2022-09-15 12:06:34,857 [MainThread  ] [INFO ]  To: \n",
         "2022-09-15 12:06:34,857 [MainThread  ] [INFO ]  d24db90e-9670-4851-b315-de8ebeb2269f/JZ4_posres.itp\n",
         "2022-09-15 12:06:34,858 [MainThread  ] [INFO ]  d24db90e-9670-4851-b315-de8ebeb2269f/JZ4params.itp\n",
         "2022-09-15 12:06:34,858 [MainThread  ] [INFO ]  d24db90e-9670-4851-b315-de8ebeb2269f/ligand.top\n",
         "2022-09-15 12:06:34,858 [MainThread  ] [INFO ]  d24db90e-9670-4851-b315-de8ebeb2269f/posre.itp\n",
         "2022-09-15 12:06:34,859 [MainThread  ] [INFO ]  GROMACS Solvate 20222 version detected\n",
         "2022-09-15 12:06:34,859 [MainThread  ] [INFO ]  gmx -nobackup -nocopyright solvate -cp 3HTB_JZ4_complex_editconf.gro -cs spc216.gro -o 3HTB_JZ4_solvate.gro -p d24db90e-9670-4851-b315-de8ebeb2269f/ligand.top\n",
         "\n",
         "2022-09-15 12:06:35,064 [MainThread  ] [INFO ]  Exit code 0\n",
         "\n",
         "2022-09-15 12:06:35,065 [MainThread  ] [INFO ]  \n",
         "WARNING: Masses and atomic (Van der Waals) radii will be guessed\n",
         "         based on residue and atom names, since they could not be\n",
         "         definitively assigned from the information in your input\n",
         "         files. These guessed numbers might deviate from the mass\n",
         "         and radius of the atom type. Please check the output\n",
         "         files if necessary. Note, that this functionality may\n",
         "         be removed in a future GROMACS version. Please, consider\n",
         "         using another file format for your input.\n",
         "\n",
         "NOTE: From version 5.0 gmx solvate uses the Van der Waals radii\n",
         "from the source below. This means the results may be different\n",
         "compared to previous GROMACS versions.\n",
         "\n",
         "++++ PLEASE READ AND CITE THE FOLLOWING REFERENCE ++++\n",
         "A. Bondi\n",
         "van der Waals Volumes and Radii\n",
         "J. Phys. Chem. 68 (1964) pp. 441-451\n",
         "-------- -------- --- Thank You --- -------- --------\n",
         "\n",
         "Adding line for 9531 solvent molecules with resname (SOL) to topology file (d24db90e-9670-4851-b315-de8ebeb2269f/ligand.top)\n",
         "\n",
         "2022-09-15 12:06:35,065 [MainThread  ] [INFO ]                 :-) GROMACS - gmx solvate, 2022.2-conda_forge (-:\n",
         "\n",
         "Executable:   /Users/gbayarri/opt/anaconda3/envs/biobb_Protein-Complex_MDsetup_tutorial/bin.SSE2/gmx\n",
         "Data prefix:  /Users/gbayarri/opt/anaconda3/envs/biobb_Protein-Complex_MDsetup_tutorial\n",
         "Working dir:  /Users/gbayarri/biobb_wf_protein-complex_md_setup/biobb_wf_protein-complex_md_setup/notebooks\n",
         "Command line:\n",
         "  gmx -nobackup -nocopyright solvate -cp 3HTB_JZ4_complex_editconf.gro -cs spc216.gro -o 3HTB_JZ4_solvate.gro -p d24db90e-9670-4851-b315-de8ebeb2269f/ligand.top\n",
         "\n",
         "Reading solute configuration\n",
         "Reading solvent configuration\n",
         "\n",
         "Initialising inter-atomic distances...\n",
         "Generating solvent configuration\n",
         "Will generate new solvent configuration of 5x4x4 boxes\n",
         "Solvent box contains 36060 atoms in 12020 residues\n",
         "Removed 5094 solvent atoms due to solvent-solvent overlap\n",
         "Removed 2373 solvent atoms due to solute-solvent overlap\n",
         "Sorting configuration\n",
         "Found 1 molecule type:\n",
         "    SOL (   3 atoms):  9531 residues\n",
         "Generated solvent containing 28593 atoms in 9531 residues\n",
         "Writing generated configuration to 3HTB_JZ4_solvate.gro\n",
         "\n",
         "Output configuration contains 31229 atoms in 9695 residues\n",
         "Volume                 :     318.205 (nm^3)\n",
         "Density                :     1000.12 (g/l)\n",
         "Number of solvent molecules:   9531   \n",
         "\n",
         "Processing topology\n",
         "\n",
         "GROMACS reminds you: \"When the universe has expanded, time will contract\" (Franz Ferdinand)\n",
         "\n",
         "\n",
         "2022-09-15 12:06:35,066 [MainThread  ] [INFO ]  Compressing topology to: 3HTB_JZ4_solvate_top.zip\n",
         "2022-09-15 12:06:35,067 [MainThread  ] [INFO ]  Ignored file d24db90e-9670-4851-b315-de8ebeb2269f/amber99sb-ildn.ff/forcefield.itp\n",
         "2022-09-15 12:06:35,074 [MainThread  ] [INFO ]  Ignored file d24db90e-9670-4851-b315-de8ebeb2269f/amber99sb-ildn.ff/spce.itp\n",
         "2022-09-15 12:06:35,074 [MainThread  ] [INFO ]  Ignored file d24db90e-9670-4851-b315-de8ebeb2269f/amber99sb-ildn.ff/ions.itp\n",
         "2022-09-15 12:06:35,077 [MainThread  ] [INFO ]  Adding:\n",
         "2022-09-15 12:06:35,077 [MainThread  ] [INFO ]  ['d24db90e-9670-4851-b315-de8ebeb2269f/JZ4_posres.itp', 'd24db90e-9670-4851-b315-de8ebeb2269f/JZ4params.itp', 'd24db90e-9670-4851-b315-de8ebeb2269f/ligand.top', 'd24db90e-9670-4851-b315-de8ebeb2269f/posre.itp']\n",
         "2022-09-15 12:06:35,078 [MainThread  ] [INFO ]  to: /Users/gbayarri/biobb_wf_protein-complex_md_setup/biobb_wf_protein-complex_md_setup/notebooks/3HTB_JZ4_solvate_top.zip\n",
         "2022-09-15 12:06:35,079 [MainThread  ] [INFO ]  Removed: ['d24db90e-9670-4851-b315-de8ebeb2269f']\n"
        ]
       },
       {
        "data": {
         "text/plain": [
          "0"
         ]
        },
        "execution_count": 16,
        "metadata": {},
        "output_type": "execute_result"
       }
      ],
      "source": [
       "# Solvate: Fill the box with water molecules\n",
       "from biobb_gromacs.gromacs.solvate import solvate\n",
       "\n",
       "# Create prop dict and inputs/outputs\n",
       "output_solvate_gro = pdbCode+'_'+ligandCode+'_solvate.gro'\n",
       "output_solvate_top_zip = pdbCode+'_'+ligandCode+'_solvate_top.zip'\n",
       "\n",
       "# Create and launch bb\n",
       "solvate(input_solute_gro_path=output_editconf_gro,\n",
       "        output_gro_path=output_solvate_gro,\n",
       "        input_top_zip_path=output_complex_top,\n",
       "        output_top_zip_path=output_solvate_top_zip)"
      ]
     },
     {
      "cell_type": "markdown",
      "metadata": {},
      "source": [
       "### Visualizing 3D structure\n",
       "Visualizing the **protein-ligand complex** with the newly added **solvent box** using **NGL**<br>\n",
       "Note the **octahedral box** filled with **water molecules** surrounding the **protein structure**, which is **centered** right in the middle of the box."
      ]
     },
     {
      "cell_type": "code",
      "execution_count": 17,
      "metadata": {
       "scrolled": true
      },
      "outputs": [
       {
        "data": {
         "application/vnd.jupyter.widget-view+json": {
          "model_id": "28c722ab57e14abb87baf809ac51de93",
          "version_major": 2,
          "version_minor": 0
         },
         "text/plain": [
          "NGLWidget()"
         ]
        },
        "metadata": {},
        "output_type": "display_data"
       }
      ],
      "source": [
       "#Show protein\n",
       "view = nglview.show_structure_file(output_solvate_gro)\n",
       "view.clear_representations()\n",
       "view.add_representation(repr_type='cartoon', selection='protein', color='sstruc')\n",
       "view.add_representation(repr_type='licorice', radius='.5', selection=ligandCode)\n",
       "view.add_representation(repr_type='line', linewidth='1', selection='SOL', opacity='.3')\n",
       "view._remote_call('setSize', target='Widget', args=['','600px'])\n",
       "view.camera='orthographic'\n",
       "view"
      ]
     },
     {
      "cell_type": "markdown",
      "metadata": {},
      "source": [
       "<a id=\"ions\"></a>\n",
       "***\n",
       "## Adding ions\n",
       "Add ions to neutralize the **protein-ligand complex** and reach a desired ionic concentration.\n",
       "- [Step 1](#ionsStep1): Creating portable binary run file for ion generation\n",
       "- [Step 2](#ionsStep2): Adding ions to **neutralize** the system and reach a **0.05 molar ionic concentration**\n",
       "***\n",
       "**Building Blocks** used:\n",
       " - [Grompp](https://biobb-md.readthedocs.io/en/latest/gromacs.html#module-gromacs.grompp) from **biobb_gromacs.gromacs.grompp** \n",
       " - [Genion](https://biobb-md.readthedocs.io/en/latest/gromacs.html#module-gromacs.genion) from **biobb_gromacs.gromacs.genion** \n",
       "***"
      ]
     },
     {
      "cell_type": "markdown",
      "metadata": {},
      "source": [
       "<a id=\"ionsStep1\"></a>\n",
       "### Step 1: Creating portable binary run file for ion generation"
      ]
     },
     {
      "cell_type": "code",
      "execution_count": 18,
      "metadata": {
       "scrolled": false
      },
      "outputs": [
       {
        "name": "stdout",
        "output_type": "stream",
        "text": [
         "2022-09-15 12:06:35,209 [MainThread  ] [INFO ]  Executing biobb_gromacs.gromacs.grompp Version: 3.8.0\n",
         "2022-09-15 12:06:35,212 [MainThread  ] [INFO ]  Extracting: /Users/gbayarri/biobb_wf_protein-complex_md_setup/biobb_wf_protein-complex_md_setup/notebooks/3HTB_JZ4_solvate_top.zip\n",
         "2022-09-15 12:06:35,213 [MainThread  ] [INFO ]  to:\n",
         "2022-09-15 12:06:35,213 [MainThread  ] [INFO ]  ['d14e4218-8c9a-4bff-8cde-518183e188f1/JZ4_posres.itp', 'd14e4218-8c9a-4bff-8cde-518183e188f1/JZ4params.itp', 'd14e4218-8c9a-4bff-8cde-518183e188f1/ligand.top', 'd14e4218-8c9a-4bff-8cde-518183e188f1/posre.itp']\n",
         "2022-09-15 12:06:35,213 [MainThread  ] [INFO ]  Unzipping: \n",
         "2022-09-15 12:06:35,214 [MainThread  ] [INFO ]  3HTB_JZ4_solvate_top.zip\n",
         "2022-09-15 12:06:35,214 [MainThread  ] [INFO ]  To: \n",
         "2022-09-15 12:06:35,214 [MainThread  ] [INFO ]  d14e4218-8c9a-4bff-8cde-518183e188f1/JZ4_posres.itp\n",
         "2022-09-15 12:06:35,215 [MainThread  ] [INFO ]  d14e4218-8c9a-4bff-8cde-518183e188f1/JZ4params.itp\n",
         "2022-09-15 12:06:35,215 [MainThread  ] [INFO ]  d14e4218-8c9a-4bff-8cde-518183e188f1/ligand.top\n",
         "2022-09-15 12:06:35,215 [MainThread  ] [INFO ]  d14e4218-8c9a-4bff-8cde-518183e188f1/posre.itp\n",
         "2022-09-15 12:06:35,216 [MainThread  ] [INFO ]  GROMACS Grompp 20222 version detected\n",
         "2022-09-15 12:06:35,216 [MainThread  ] [INFO ]  gmx -nobackup -nocopyright grompp -f 07b1d1dd-9c47-4592-8ecc-a02aeb0d884b/grompp.mdp -c 3HTB_JZ4_solvate.gro -r 3HTB_JZ4_solvate.gro -p d14e4218-8c9a-4bff-8cde-518183e188f1/ligand.top -o 3HTB_JZ4_complex_gppion.tpr -po mdout.mdp -maxwarn 1\n",
         "\n",
         "2022-09-15 12:06:35,476 [MainThread  ] [INFO ]  Exit code 0\n",
         "\n",
         "2022-09-15 12:06:35,477 [MainThread  ] [INFO ]  Setting the LD random seed to -172007507\n",
         "\n",
         "Generated 2556 of the 2556 non-bonded parameter combinations\n",
         "\n",
         "Generated 2556 of the 2556 1-4 parameter combinations\n",
         "\n",
         "Excluding 3 bonded neighbours molecule type 'Protein_chain_A'\n",
         "\n",
         "Excluding 3 bonded neighbours molecule type 'JZ4params'\n",
         "\n",
         "Excluding 2 bonded neighbours molecule type 'SOL'\n",
         "\n",
         "++++ PLEASE READ AND CITE THE FOLLOWING REFERENCE ++++\n",
         "J. S. Hub, B. L. de Groot, H. Grubmueller, G. Groenhof\n",
         "Quantifying Artifacts in Ewald Simulations of Inhomogeneous Systems with a Net\n",
         "Charge\n",
         "J. Chem. Theory Comput. 10 (2014) pp. 381-393\n",
         "-------- -------- --- Thank You --- -------- --------\n",
         "\n",
         "Analysing residue names:\n",
         "There are:   163    Protein residues\n",
         "There are:     1      Other residues\n",
         "There are:  9531      Water residues\n",
         "Analysing Protein...\n",
         "Analysing residues not classified as Protein/DNA/RNA/Water and splitting into groups...\n",
         "\n",
         "The largest distance between excluded atoms is 0.419 nm\n",
         "Calculating fourier grid dimensions for X Y Z\n",
         "Using a fourier grid of 64x64x64, spacing 0.116 0.116 0.116\n",
         "\n",
         "Estimate for the relative computational load of the PME mesh part: 0.18\n",
         "\n",
         "This run will generate roughly 2 Mb of data\n",
         "\n",
         "2022-09-15 12:06:35,477 [MainThread  ] [INFO ]                  :-) GROMACS - gmx grompp, 2022.2-conda_forge (-:\n",
         "\n",
         "Executable:   /Users/gbayarri/opt/anaconda3/envs/biobb_Protein-Complex_MDsetup_tutorial/bin.SSE2/gmx\n",
         "Data prefix:  /Users/gbayarri/opt/anaconda3/envs/biobb_Protein-Complex_MDsetup_tutorial\n",
         "Working dir:  /Users/gbayarri/biobb_wf_protein-complex_md_setup/biobb_wf_protein-complex_md_setup/notebooks\n",
         "Command line:\n",
         "  gmx -nobackup -nocopyright grompp -f 07b1d1dd-9c47-4592-8ecc-a02aeb0d884b/grompp.mdp -c 3HTB_JZ4_solvate.gro -r 3HTB_JZ4_solvate.gro -p d14e4218-8c9a-4bff-8cde-518183e188f1/ligand.top -o 3HTB_JZ4_complex_gppion.tpr -po mdout.mdp -maxwarn 1\n",
         "\n",
         "Ignoring obsolete mdp entry 'ns-type'\n",
         "Generating 1-4 interactions: fudge = 0.5\n",
         "\n",
         "NOTE 1 [file ligand.top, line 24863]:\n",
         "  System has non-zero total charge: 6.000000\n",
         "  Total charge should normally be an integer. See\n",
         "  http://www.gromacs.org/Documentation/Floating_Point_Arithmetic\n",
         "  for discussion on how close it should be to an integer.\n",
         "  \n",
         "\n",
         "\n",
         "\n",
         "WARNING 1 [file ligand.top, line 24863]:\n",
         "  You are using Ewald electrostatics in a system with net charge. This can\n",
         "  lead to severe artifacts, such as ions moving into regions with low\n",
         "  dielectric, due to the uniform background charge. We suggest to\n",
         "  neutralize your system with counter ions, possibly in combination with a\n",
         "  physiological salt concentration.\n",
         "\n",
         "Number of degrees of freedom in T-Coupling group rest is 65091.00\n",
         "\n",
         "NOTE 2 [file 07b1d1dd-9c47-4592-8ecc-a02aeb0d884b/grompp.mdp]:\n",
         "  Removing center of mass motion in the presence of position restraints\n",
         "  might cause artifacts. When you are using position restraints to\n",
         "  equilibrate a macro-molecule, the artifacts are usually negligible.\n",
         "\n",
         "\n",
         "There were 2 notes\n",
         "\n",
         "There was 1 warning\n",
         "\n",
         "GROMACS reminds you: \"When the universe has expanded, time will contract\" (Franz Ferdinand)\n",
         "\n",
         "\n",
         "2022-09-15 12:06:35,480 [MainThread  ] [INFO ]  Removed: ['d14e4218-8c9a-4bff-8cde-518183e188f1', '07b1d1dd-9c47-4592-8ecc-a02aeb0d884b', 'mdout.mdp']\n"
        ]
       },
       {
        "data": {
         "text/plain": [
          "0"
         ]
        },
        "execution_count": 18,
        "metadata": {},
        "output_type": "execute_result"
       }
      ],
      "source": [
       "# Grompp: Creating portable binary run file for ion generation\n",
       "from biobb_gromacs.gromacs.grompp import grompp\n",
       "\n",
       "# Create prop dict and inputs/outputs\n",
       "prop = {\n",
       "    'mdp':{\n",
       "        'nsteps':'5000'\n",
       "    },\n",
       "    'simulation_type':'minimization',\n",
       "    'maxwarn': 1\n",
       "}\n",
       "output_gppion_tpr = pdbCode+'_'+ligandCode+'_complex_gppion.tpr'\n",
       "\n",
       "# Create and launch bb\n",
       "grompp(input_gro_path=output_solvate_gro,\n",
       "       input_top_zip_path=output_solvate_top_zip, \n",
       "       output_tpr_path=output_gppion_tpr,\n",
       "       properties=prop)"
      ]
     },
     {
      "cell_type": "markdown",
      "metadata": {},
      "source": [
       "<a id=\"ionsStep2\"></a>\n",
       "### Step 2: Adding ions to neutralize the system and reach a 0.05 molar concentration\n",
       "Replace **solvent molecules** with **ions** to **neutralize** the system and reaching a **0.05 molar ionic concentration**"
      ]
     },
     {
      "cell_type": "code",
      "execution_count": 19,
      "metadata": {
       "scrolled": false
      },
      "outputs": [
       {
        "name": "stdout",
        "output_type": "stream",
        "text": [
         "2022-09-15 12:06:35,524 [MainThread  ] [INFO ]  Executing biobb_gromacs.gromacs.genion Version: 3.8.0\n",
         "2022-09-15 12:06:35,527 [MainThread  ] [INFO ]  Extracting: /Users/gbayarri/biobb_wf_protein-complex_md_setup/biobb_wf_protein-complex_md_setup/notebooks/3HTB_JZ4_solvate_top.zip\n",
         "2022-09-15 12:06:35,527 [MainThread  ] [INFO ]  to:\n",
         "2022-09-15 12:06:35,528 [MainThread  ] [INFO ]  ['f769f185-1a01-4d3c-89ec-75ca69ba59b5/JZ4_posres.itp', 'f769f185-1a01-4d3c-89ec-75ca69ba59b5/JZ4params.itp', 'f769f185-1a01-4d3c-89ec-75ca69ba59b5/ligand.top', 'f769f185-1a01-4d3c-89ec-75ca69ba59b5/posre.itp']\n",
         "2022-09-15 12:06:35,528 [MainThread  ] [INFO ]  Unzipping: \n",
         "2022-09-15 12:06:35,529 [MainThread  ] [INFO ]  3HTB_JZ4_solvate_top.zip\n",
         "2022-09-15 12:06:35,529 [MainThread  ] [INFO ]  To: \n",
         "2022-09-15 12:06:35,530 [MainThread  ] [INFO ]  f769f185-1a01-4d3c-89ec-75ca69ba59b5/JZ4_posres.itp\n",
         "2022-09-15 12:06:35,530 [MainThread  ] [INFO ]  f769f185-1a01-4d3c-89ec-75ca69ba59b5/JZ4params.itp\n",
         "2022-09-15 12:06:35,530 [MainThread  ] [INFO ]  f769f185-1a01-4d3c-89ec-75ca69ba59b5/ligand.top\n",
         "2022-09-15 12:06:35,531 [MainThread  ] [INFO ]  f769f185-1a01-4d3c-89ec-75ca69ba59b5/posre.itp\n",
         "2022-09-15 12:06:35,531 [MainThread  ] [INFO ]  To reach up 0.05 mol/litre concentration\n",
         "2022-09-15 12:06:35,532 [MainThread  ] [INFO ]  GROMACS Genion 20222 version detected\n",
         "2022-09-15 12:06:35,532 [MainThread  ] [INFO ]  echo \"SOL\" | gmx -nobackup -nocopyright genion -s 3HTB_JZ4_complex_gppion.tpr -o 3HTB_JZ4_genion.gro -p f769f185-1a01-4d3c-89ec-75ca69ba59b5/ligand.top -neutral -conc 0.05 -seed 1993\n",
         "\n",
         "2022-09-15 12:06:35,623 [MainThread  ] [INFO ]  Exit code 0\n",
         "\n",
         "2022-09-15 12:06:35,625 [MainThread  ] [INFO ]  Will try to add 10 NA ions and 16 CL ions.\n",
         "Select a continuous group of solvent molecules\n",
         "Selected 15: 'SOL'\n",
         "\n",
         "Processing topology\n",
         "Replacing 26 solute molecules in topology file (f769f185-1a01-4d3c-89ec-75ca69ba59b5/ligand.top)  by 10 NA and 16 CL ions.\n",
         "\n",
         "2022-09-15 12:06:35,625 [MainThread  ] [INFO ]                  :-) GROMACS - gmx genion, 2022.2-conda_forge (-:\n",
         "\n",
         "Executable:   /Users/gbayarri/opt/anaconda3/envs/biobb_Protein-Complex_MDsetup_tutorial/bin.SSE2/gmx\n",
         "Data prefix:  /Users/gbayarri/opt/anaconda3/envs/biobb_Protein-Complex_MDsetup_tutorial\n",
         "Working dir:  /Users/gbayarri/biobb_wf_protein-complex_md_setup/biobb_wf_protein-complex_md_setup/notebooks\n",
         "Command line:\n",
         "  gmx -nobackup -nocopyright genion -s 3HTB_JZ4_complex_gppion.tpr -o 3HTB_JZ4_genion.gro -p f769f185-1a01-4d3c-89ec-75ca69ba59b5/ligand.top -neutral -conc 0.05 -seed 1993\n",
         "\n",
         "Reading file 3HTB_JZ4_complex_gppion.tpr, VERSION 2022.2-conda_forge (single precision)\n",
         "Reading file 3HTB_JZ4_complex_gppion.tpr, VERSION 2022.2-conda_forge (single precision)\n",
         "Group     0 (         System) has 31229 elements\n",
         "Group     1 (        Protein) has  2614 elements\n",
         "Group     2 (      Protein-H) has  1301 elements\n",
         "Group     3 (        C-alpha) has   163 elements\n",
         "Group     4 (       Backbone) has   489 elements\n",
         "Group     5 (      MainChain) has   653 elements\n",
         "Group     6 (   MainChain+Cb) has   805 elements\n",
         "Group     7 (    MainChain+H) has   815 elements\n",
         "Group     8 (      SideChain) has  1799 elements\n",
         "Group     9 (    SideChain-H) has   648 elements\n",
         "Group    10 (    Prot-Masses) has  2614 elements\n",
         "Group    11 (    non-Protein) has 28615 elements\n",
         "Group    12 (          Other) has    22 elements\n",
         "Group    13 (            JZ4) has    22 elements\n",
         "Group    14 (          Water) has 28593 elements\n",
         "Group    15 (            SOL) has 28593 elements\n",
         "Group    16 (      non-Water) has  2636 elements\n",
         "Select a group: Number of (3-atomic) solvent molecules: 9531\n",
         "Using random seed 1993.\n",
         "Replacing solvent molecule 1541 (atom 7259) with NA\n",
         "Replacing solvent molecule 8441 (atom 27959) with NA\n",
         "Replacing solvent molecule 8991 (atom 29609) with NA\n",
         "Replacing solvent molecule 2646 (atom 10574) with NA\n",
         "Replacing solvent molecule 7436 (atom 24944) with NA\n",
         "Replacing solvent molecule 7473 (atom 25055) with NA\n",
         "Replacing solvent molecule 4459 (atom 16013) with NA\n",
         "Replacing solvent molecule 2713 (atom 10775) with NA\n",
         "Replacing solvent molecule 1704 (atom 7748) with NA\n",
         "Replacing solvent molecule 263 (atom 3425) with NA\n",
         "Replacing solvent molecule 9220 (atom 30296) with CL\n",
         "Replacing solvent molecule 1491 (atom 7109) with CL\n",
         "Replacing solvent molecule 4138 (atom 15050) with CL\n",
         "Replacing solvent molecule 1264 (atom 6428) with CL\n",
         "Replacing solvent molecule 1799 (atom 8033) with CL\n",
         "Replacing solvent molecule 5081 (atom 17879) with CL\n",
         "Replacing solvent molecule 8928 (atom 29420) with CL\n",
         "Replacing solvent molecule 1377 (atom 6767) with CL\n",
         "Replacing solvent molecule 1462 (atom 7022) with CL\n",
         "Replacing solvent molecule 6146 (atom 21074) with CL\n",
         "Replacing solvent molecule 2812 (atom 11072) with CL\n",
         "Replacing solvent molecule 6808 (atom 23060) with CL\n",
         "Replacing solvent molecule 8111 (atom 26969) with CL\n",
         "Replacing solvent molecule 2599 (atom 10433) with CL\n",
         "Replacing solvent molecule 1194 (atom 6218) with CL\n",
         "Replacing solvent molecule 3086 (atom 11894) with CL\n",
         "\n",
         "\n",
         "GROMACS reminds you: \"When the universe has expanded, time will contract\" (Franz Ferdinand)\n",
         "\n",
         "\n",
         "2022-09-15 12:06:35,626 [MainThread  ] [INFO ]  Compressing topology to: 3HTB_JZ4_genion_top.zip\n",
         "2022-09-15 12:06:35,627 [MainThread  ] [INFO ]  Ignored file f769f185-1a01-4d3c-89ec-75ca69ba59b5/amber99sb-ildn.ff/forcefield.itp\n",
         "2022-09-15 12:06:35,634 [MainThread  ] [INFO ]  Ignored file f769f185-1a01-4d3c-89ec-75ca69ba59b5/amber99sb-ildn.ff/spce.itp\n",
         "2022-09-15 12:06:35,635 [MainThread  ] [INFO ]  Ignored file f769f185-1a01-4d3c-89ec-75ca69ba59b5/amber99sb-ildn.ff/ions.itp\n",
         "2022-09-15 12:06:35,638 [MainThread  ] [INFO ]  Adding:\n",
         "2022-09-15 12:06:35,638 [MainThread  ] [INFO ]  ['f769f185-1a01-4d3c-89ec-75ca69ba59b5/JZ4_posres.itp', 'f769f185-1a01-4d3c-89ec-75ca69ba59b5/JZ4params.itp', 'f769f185-1a01-4d3c-89ec-75ca69ba59b5/ligand.top', 'f769f185-1a01-4d3c-89ec-75ca69ba59b5/posre.itp']\n",
         "2022-09-15 12:06:35,639 [MainThread  ] [INFO ]  to: /Users/gbayarri/biobb_wf_protein-complex_md_setup/biobb_wf_protein-complex_md_setup/notebooks/3HTB_JZ4_genion_top.zip\n",
         "2022-09-15 12:06:35,640 [MainThread  ] [INFO ]  Removed: ['f769f185-1a01-4d3c-89ec-75ca69ba59b5']\n"
        ]
       },
       {
        "data": {
         "text/plain": [
          "0"
         ]
        },
        "execution_count": 19,
        "metadata": {},
        "output_type": "execute_result"
       }
      ],
      "source": [
       "# Genion: Adding ions to reach a 0.05 molar concentration\n",
       "from biobb_gromacs.gromacs.genion import genion\n",
       "\n",
       "# Create prop dict and inputs/outputs\n",
       "prop={\n",
       "    'neutral':True,\n",
       "    'concentration':0.05\n",
       "}\n",
       "output_genion_gro = pdbCode+'_'+ligandCode+'_genion.gro'\n",
       "output_genion_top_zip = pdbCode+'_'+ligandCode+'_genion_top.zip'\n",
       "\n",
       "# Create and launch bb\n",
       "genion(input_tpr_path=output_gppion_tpr,\n",
       "       output_gro_path=output_genion_gro, \n",
       "       input_top_zip_path=output_solvate_top_zip,\n",
       "       output_top_zip_path=output_genion_top_zip, \n",
       "       properties=prop)"
      ]
     },
     {
      "cell_type": "markdown",
      "metadata": {},
      "source": [
       "### Visualizing 3D structure\n",
       "Visualizing the **protein-ligand complex** with the newly added **ionic concentration** using **NGL**"
      ]
     },
     {
      "cell_type": "code",
      "execution_count": 20,
      "metadata": {
       "scrolled": true
      },
      "outputs": [
       {
        "data": {
         "application/vnd.jupyter.widget-view+json": {
          "model_id": "b34f68fa0e464607ade4f69d74a90897",
          "version_major": 2,
          "version_minor": 0
         },
         "text/plain": [
          "NGLWidget()"
         ]
        },
        "metadata": {},
        "output_type": "display_data"
       }
      ],
      "source": [
       "#Show protein\n",
       "view = nglview.show_structure_file(output_genion_gro)\n",
       "view.clear_representations()\n",
       "view.add_representation(repr_type='cartoon', selection='protein', color='sstruc')\n",
       "view.add_representation(repr_type='licorice', radius='.5', selection=ligandCode)\n",
       "view.add_representation(repr_type='ball+stick', selection='NA')\n",
       "view.add_representation(repr_type='ball+stick', selection='CL')\n",
       "view._remote_call('setSize', target='Widget', args=['','600px'])\n",
       "view.camera='orthographic'\n",
       "view"
      ]
     },
     {
      "cell_type": "markdown",
      "metadata": {},
      "source": [
       "<a id=\"min\"></a>\n",
       "***\n",
       "## Energetically minimize the system\n",
       "Energetically minimize the **protein-ligand complex** till reaching a desired potential energy.\n",
       "- [Step 1](#emStep1): Creating portable binary run file for energy minimization\n",
       "- [Step 2](#emStep2): Energetically minimize the **protein-ligand complex** till reaching a force of 500 kJ mol-1 nm-1.\n",
       "- [Step 3](#emStep3): Checking **energy minimization** results. Plotting energy by time during the **minimization** process.\n",
       "***\n",
       "**Building Blocks** used:\n",
       " - [Grompp](https://biobb-md.readthedocs.io/en/latest/gromacs.html#module-gromacs.grompp) from **biobb_gromacs.gromacs.grompp** \n",
       " - [Mdrun](https://biobb-md.readthedocs.io/en/latest/gromacs.html#module-gromacs.mdrun) from **biobb_gromacs.gromacs.mdrun** \n",
       " - [GMXEnergy](https://biobb-analysis.readthedocs.io/en/latest/gromacs.html#module-gromacs.gmx_energy) from **biobb_analysis.gromacs.gmx_energy** \n",
       "***"
      ]
     },
     {
      "cell_type": "markdown",
      "metadata": {},
      "source": [
       "<a id=\"emStep1\"></a>\n",
       "### Step 1: Creating portable binary run file for energy minimization\n",
       "Method used to run the **energy minimization** is a **steepest descent**, with a **maximum force of 500 KJ/mol\\*nm^2**, and a minimization **step size of 1fs**. The **maximum number of steps** to perform if the maximum force is not reached is **5,000 steps**. "
      ]
     },
     {
      "cell_type": "code",
      "execution_count": 21,
      "metadata": {
       "scrolled": true
      },
      "outputs": [
       {
        "name": "stdout",
        "output_type": "stream",
        "text": [
         "2022-09-15 12:06:35,788 [MainThread  ] [INFO ]  Executing biobb_gromacs.gromacs.grompp Version: 3.8.0\n",
         "2022-09-15 12:06:35,792 [MainThread  ] [INFO ]  Extracting: /Users/gbayarri/biobb_wf_protein-complex_md_setup/biobb_wf_protein-complex_md_setup/notebooks/3HTB_JZ4_genion_top.zip\n",
         "2022-09-15 12:06:35,792 [MainThread  ] [INFO ]  to:\n",
         "2022-09-15 12:06:35,793 [MainThread  ] [INFO ]  ['e10ba0fb-fdfc-4598-a332-8912ad996dd7/JZ4_posres.itp', 'e10ba0fb-fdfc-4598-a332-8912ad996dd7/JZ4params.itp', 'e10ba0fb-fdfc-4598-a332-8912ad996dd7/ligand.top', 'e10ba0fb-fdfc-4598-a332-8912ad996dd7/posre.itp']\n",
         "2022-09-15 12:06:35,793 [MainThread  ] [INFO ]  Unzipping: \n",
         "2022-09-15 12:06:35,793 [MainThread  ] [INFO ]  3HTB_JZ4_genion_top.zip\n",
         "2022-09-15 12:06:35,794 [MainThread  ] [INFO ]  To: \n",
         "2022-09-15 12:06:35,794 [MainThread  ] [INFO ]  e10ba0fb-fdfc-4598-a332-8912ad996dd7/JZ4_posres.itp\n",
         "2022-09-15 12:06:35,794 [MainThread  ] [INFO ]  e10ba0fb-fdfc-4598-a332-8912ad996dd7/JZ4params.itp\n",
         "2022-09-15 12:06:35,794 [MainThread  ] [INFO ]  e10ba0fb-fdfc-4598-a332-8912ad996dd7/ligand.top\n",
         "2022-09-15 12:06:35,795 [MainThread  ] [INFO ]  e10ba0fb-fdfc-4598-a332-8912ad996dd7/posre.itp\n",
         "2022-09-15 12:06:35,796 [MainThread  ] [INFO ]  GROMACS Grompp 20222 version detected\n",
         "2022-09-15 12:06:35,796 [MainThread  ] [INFO ]  gmx -nobackup -nocopyright grompp -f ad6b4ef7-fa59-4922-a0b4-a61f23f39e44/grompp.mdp -c 3HTB_JZ4_genion.gro -r 3HTB_JZ4_genion.gro -p e10ba0fb-fdfc-4598-a332-8912ad996dd7/ligand.top -o 3HTB_JZ4_gppmin.tpr -po mdout.mdp -maxwarn 10\n",
         "\n",
         "2022-09-15 12:06:36,056 [MainThread  ] [INFO ]  Exit code 0\n",
         "\n",
         "2022-09-15 12:06:36,057 [MainThread  ] [INFO ]  Setting the LD random seed to 2004877054\n",
         "\n",
         "Generated 2556 of the 2556 non-bonded parameter combinations\n",
         "\n",
         "Generated 2556 of the 2556 1-4 parameter combinations\n",
         "\n",
         "Excluding 3 bonded neighbours molecule type 'Protein_chain_A'\n",
         "\n",
         "Excluding 3 bonded neighbours molecule type 'JZ4params'\n",
         "\n",
         "Excluding 2 bonded neighbours molecule type 'SOL'\n",
         "\n",
         "Excluding 1 bonded neighbours molecule type 'NA'\n",
         "\n",
         "Excluding 1 bonded neighbours molecule type 'CL'\n",
         "Analysing residue names:\n",
         "There are:   163    Protein residues\n",
         "There are:     1      Other residues\n",
         "There are:  9505      Water residues\n",
         "There are:    26        Ion residues\n",
         "Analysing Protein...\n",
         "Analysing residues not classified as Protein/DNA/RNA/Water and splitting into groups...\n",
         "Analysing residues not classified as Protein/DNA/RNA/Water and splitting into groups...\n",
         "\n",
         "The largest distance between excluded atoms is 0.419 nm\n",
         "Calculating fourier grid dimensions for X Y Z\n",
         "Using a fourier grid of 64x64x64, spacing 0.116 0.116 0.116\n",
         "\n",
         "Estimate for the relative computational load of the PME mesh part: 0.18\n",
         "\n",
         "This run will generate roughly 2 Mb of data\n",
         "\n",
         "2022-09-15 12:06:36,058 [MainThread  ] [INFO ]                  :-) GROMACS - gmx grompp, 2022.2-conda_forge (-:\n",
         "\n",
         "Executable:   /Users/gbayarri/opt/anaconda3/envs/biobb_Protein-Complex_MDsetup_tutorial/bin.SSE2/gmx\n",
         "Data prefix:  /Users/gbayarri/opt/anaconda3/envs/biobb_Protein-Complex_MDsetup_tutorial\n",
         "Working dir:  /Users/gbayarri/biobb_wf_protein-complex_md_setup/biobb_wf_protein-complex_md_setup/notebooks\n",
         "Command line:\n",
         "  gmx -nobackup -nocopyright grompp -f ad6b4ef7-fa59-4922-a0b4-a61f23f39e44/grompp.mdp -c 3HTB_JZ4_genion.gro -r 3HTB_JZ4_genion.gro -p e10ba0fb-fdfc-4598-a332-8912ad996dd7/ligand.top -o 3HTB_JZ4_gppmin.tpr -po mdout.mdp -maxwarn 10\n",
         "\n",
         "Ignoring obsolete mdp entry 'ns-type'\n",
         "Generating 1-4 interactions: fudge = 0.5\n",
         "Number of degrees of freedom in T-Coupling group rest is 65013.00\n",
         "\n",
         "NOTE 1 [file ad6b4ef7-fa59-4922-a0b4-a61f23f39e44/grompp.mdp]:\n",
         "  Removing center of mass motion in the presence of position restraints\n",
         "  might cause artifacts. When you are using position restraints to\n",
         "  equilibrate a macro-molecule, the artifacts are usually negligible.\n",
         "\n",
         "\n",
         "There was 1 note\n",
         "\n",
         "GROMACS reminds you: \"I am rarely happier than when spending an entire day programming my computer to perform automatically a task that it would otherwise take me a good ten seconds to do by hand.\" (Douglas Adams)\n",
         "\n",
         "\n",
         "2022-09-15 12:06:36,060 [MainThread  ] [INFO ]  Removed: ['e10ba0fb-fdfc-4598-a332-8912ad996dd7', 'ad6b4ef7-fa59-4922-a0b4-a61f23f39e44', 'mdout.mdp']\n"
        ]
       },
       {
        "data": {
         "text/plain": [
          "0"
         ]
        },
        "execution_count": 21,
        "metadata": {},
        "output_type": "execute_result"
       }
      ],
      "source": [
       "# Grompp: Creating portable binary run file for mdrun\n",
       "from biobb_gromacs.gromacs.grompp import grompp\n",
       "\n",
       "# Create prop dict and inputs/outputs\n",
       "prop = {\n",
       "    'mdp':{\n",
       "        'nsteps':'5000',\n",
       "        'emstep': 0.01,\n",
       "        'emtol':'500'\n",
       "    },\n",
       "    'simulation_type':'minimization'\n",
       "}\n",
       "output_gppmin_tpr = pdbCode+'_'+ligandCode+'_gppmin.tpr'\n",
       "\n",
       "# Create and launch bb\n",
       "grompp(input_gro_path=output_genion_gro,\n",
       "       input_top_zip_path=output_genion_top_zip,\n",
       "       output_tpr_path=output_gppmin_tpr,\n",
       "       properties=prop)"
      ]
     },
     {
      "cell_type": "markdown",
      "metadata": {},
      "source": [
       "<a id=\"emStep2\"></a>\n",
       "### Step 2: Running Energy Minimization\n",
       "Running **energy minimization** using the **tpr file** generated in the previous step."
      ]
     },
     {
      "cell_type": "code",
      "execution_count": null,
      "metadata": {
       "scrolled": true
      },
      "outputs": [
       {
        "name": "stdout",
        "output_type": "stream",
        "text": [
         "2022-09-15 12:06:36,099 [MainThread  ] [INFO ]  Executing biobb_gromacs.gromacs.mdrun Version: 3.8.0\n",
         "2022-09-15 12:06:36,100 [MainThread  ] [INFO ]  GROMACS Mdrun 20222 version detected\n",
         "2022-09-15 12:06:36,100 [MainThread  ] [INFO ]  gmx -nobackup -nocopyright mdrun -s 3HTB_JZ4_gppmin.tpr -o 3HTB_JZ4_min.trr -c 3HTB_JZ4_min.gro -e 3HTB_JZ4_min.edr -g 3HTB_JZ4_min.log\n",
         "\n"
        ]
       }
      ],
      "source": [
       "# Mdrun: Running minimization\n",
       "from biobb_gromacs.gromacs.mdrun import mdrun\n",
       "\n",
       "# Create prop dict and inputs/outputs\n",
       "output_min_trr = pdbCode+'_'+ligandCode+'_min.trr'\n",
       "output_min_gro = pdbCode+'_'+ligandCode+'_min.gro'\n",
       "output_min_edr = pdbCode+'_'+ligandCode+'_min.edr'\n",
       "output_min_log = pdbCode+'_'+ligandCode+'_min.log'\n",
       "\n",
       "# Create and launch bb\n",
       "mdrun(input_tpr_path=output_gppmin_tpr,\n",
       "      output_trr_path=output_min_trr, \n",
       "      output_gro_path=output_min_gro,\n",
       "      output_edr_path=output_min_edr, \n",
       "      output_log_path=output_min_log)"
      ]
     },
     {
      "cell_type": "markdown",
      "metadata": {},
      "source": [
       "<a id=\"emStep3\"></a>\n",
       "### Step 3: Checking Energy Minimization results\n",
       "Checking **energy minimization** results. Plotting **potential energy** by time during the minimization process. "
      ]
     },
     {
      "cell_type": "code",
      "execution_count": null,
      "metadata": {
       "scrolled": true
      },
      "outputs": [],
      "source": [
       "# GMXEnergy: Getting system energy by time  \n",
       "from biobb_analysis.gromacs.gmx_energy import gmx_energy\n",
       "\n",
       "# Create prop dict and inputs/outputs\n",
       "output_min_ene_xvg = pdbCode+'_'+ligandCode+'_min_ene.xvg'\n",
       "prop = {\n",
       "    'terms':  [\"Potential\"]\n",
       "}\n",
       "\n",
       "# Create and launch bb\n",
       "gmx_energy(input_energy_path=output_min_edr, \n",
       "          output_xvg_path=output_min_ene_xvg, \n",
       "          properties=prop)"
      ]
     },
     {
      "cell_type": "code",
      "execution_count": null,
      "metadata": {
       "scrolled": true
      },
      "outputs": [],
      "source": [
       "import plotly\n",
       "import plotly.graph_objs as go\n",
       "\n",
       "#Read data from file and filter energy values higher than 1000 Kj/mol^-1\n",
       "with open(output_min_ene_xvg,'r') as energy_file:\n",
       "    x,y = map(\n",
       "        list,\n",
       "        zip(*[\n",
       "            (float(line.split()[0]),float(line.split()[1]))\n",
       "            for line in energy_file \n",
       "            if not line.startswith((\"#\",\"@\")) \n",
       "            if float(line.split()[1]) < 1000 \n",
       "        ])\n",
       "    )\n",
       "\n",
       "plotly.offline.init_notebook_mode(connected=True)\n",
       "\n",
       "fig = ({\n",
       "    \"data\": [go.Scatter(x=x, y=y)],\n",
       "    \"layout\": go.Layout(title=\"Energy Minimization\",\n",
       "                        xaxis=dict(title = \"Energy Minimization Step\"),\n",
       "                        yaxis=dict(title = \"Potential Energy KJ/mol-1\")\n",
       "                       )\n",
       "})\n",
       "\n",
       "plotly.offline.iplot(fig)"
      ]
     },
     {
      "cell_type": "markdown",
      "metadata": {},
      "source": [
       "<a id=\"nvt\"></a>\n",
       "***\n",
       "## Equilibrate the system (NVT)\n",
       "Equilibrate the **protein-ligand complex** system in NVT ensemble (constant Number of particles, Volume and Temperature). To avoid temperature coupling problems, a new *\"system\"* group will be created including the **protein** + the **ligand** to be assigned to a single thermostatting group.\n",
       "\n",
       "- [Step 1](#eqNVTStep1): Creating an index file with a new group including the **protein-ligand complex**.\n",
       "- [Step 2](#eqNVTStep3): Creating portable binary run file for system equilibration\n",
       "- [Step 3](#eqNVTStep3): Equilibrate the **protein-ligand complex** with NVT ensemble.\n",
       "- [Step 4](#eqNVTStep4): Checking **NVT Equilibration** results. Plotting **system temperature** by time during the **NVT equilibration** process. \n",
       "***\n",
       "**Building Blocks** used:\n",
       "- [MakeNdx](https://biobb-md.readthedocs.io/en/latest/gromacs.html#module-gromacs.make_ndx) from **biobb_gromacs.gromacs.make_ndx** \n",
       "- [Grompp](https://biobb-md.readthedocs.io/en/latest/gromacs.html#module-gromacs.grompp) from **biobb_gromacs.gromacs.grompp** \n",
       "- [Mdrun](https://biobb-md.readthedocs.io/en/latest/gromacs.html#module-gromacs.mdrun) from **biobb_gromacs.gromacs.mdrun** \n",
       "- [GMXEnergy](https://biobb-analysis.readthedocs.io/en/latest/gromacs.html#module-gromacs.gmx_energy) from **biobb_analysis.gromacs.gmx_energy** \n",
       "***"
      ]
     },
     {
      "cell_type": "markdown",
      "metadata": {},
      "source": [
       "<a id=\"eqNVTStep1\"></a>\n",
       "### Step 1: Creating an index file with a new group including the **protein-ligand complex**"
      ]
     },
     {
      "cell_type": "code",
      "execution_count": null,
      "metadata": {
       "scrolled": true
      },
      "outputs": [],
      "source": [
       "# MakeNdx: Creating index file with a new group (protein-ligand complex)\n",
       "from biobb_gromacs.gromacs.make_ndx import make_ndx\n",
       "\n",
       "# Create prop dict and inputs/outputs\n",
       "output_complex_ndx = pdbCode+'_'+ligandCode+'_index.ndx'\n",
       "prop = {\n",
       "    'selection': \"\\\"Protein\\\"|\\\"Other\\\"\" \n",
       "}\n",
       "\n",
       "# Create and launch bb\n",
       "make_ndx(input_structure_path=output_min_gro,\n",
       "        output_ndx_path=output_complex_ndx,\n",
       "        properties=prop)"
      ]
     },
     {
      "cell_type": "markdown",
      "metadata": {},
      "source": [
       "<a id=\"eqNVTStep2\"></a>\n",
       "### Step 2: Creating portable binary run file for system equilibration (NVT)\n",
       "Note that for the purposes of temperature coupling, the **protein-ligand complex** (*Protein_Other*) is considered as a single entity."
      ]
     },
     {
      "cell_type": "code",
      "execution_count": null,
      "metadata": {
       "scrolled": true
      },
      "outputs": [],
      "source": [
       "# Grompp: Creating portable binary run file for NVT System Equilibration\n",
       "from biobb_gromacs.gromacs.grompp import grompp\n",
       "\n",
       "# Create prop dict and inputs/outputs\n",
       "output_gppnvt_tpr = pdbCode+'_'+ligandCode+'gppnvt.tpr'\n",
       "prop = {\n",
       "    'mdp':{\n",
       "        'nsteps':'5000',\n",
       "        'tc-grps': 'Protein_Other Water_and_ions',\n",
       "        'Define': '-DPOSRES -D' + posresifdef\n",
       "    },\n",
       "    'simulation_type':'nvt'\n",
       "}\n",
       "\n",
       "# Create and launch bb\n",
       "grompp(input_gro_path=output_min_gro,\n",
       "       input_top_zip_path=output_genion_top_zip,\n",
       "       input_ndx_path=output_complex_ndx,\n",
       "       output_tpr_path=output_gppnvt_tpr,\n",
       "       properties=prop)"
      ]
     },
     {
      "cell_type": "markdown",
      "metadata": {},
      "source": [
       "<a id=\"eqNVTStep3\"></a>\n",
       "### Step 3: Running NVT equilibration"
      ]
     },
     {
      "cell_type": "code",
      "execution_count": null,
      "metadata": {
       "scrolled": true
      },
      "outputs": [],
      "source": [
       "# Mdrun: Running NVT System Equilibration \n",
       "from biobb_gromacs.gromacs.mdrun import mdrun\n",
       "\n",
       "# Create prop dict and inputs/outputs\n",
       "output_nvt_trr = pdbCode+'_'+ligandCode+'_nvt.trr'\n",
       "output_nvt_gro = pdbCode+'_'+ligandCode+'_nvt.gro'\n",
       "output_nvt_edr = pdbCode+'_'+ligandCode+'_nvt.edr'\n",
       "output_nvt_log = pdbCode+'_'+ligandCode+'_nvt.log'\n",
       "output_nvt_cpt = pdbCode+'_'+ligandCode+'_nvt.cpt'\n",
       "\n",
       "# Create and launch bb\n",
       "mdrun(input_tpr_path=output_gppnvt_tpr,\n",
       "      output_trr_path=output_nvt_trr,\n",
       "      output_gro_path=output_nvt_gro,\n",
       "      output_edr_path=output_nvt_edr,\n",
       "      output_log_path=output_nvt_log,\n",
       "      output_cpt_path=output_nvt_cpt)"
      ]
     },
     {
      "cell_type": "markdown",
      "metadata": {},
      "source": [
       "<a id=\"eqNVTStep4\"></a>\n",
       "### Step 4: Checking NVT Equilibration results\n",
       "Checking **NVT Equilibration** results. Plotting **system temperature** by time during the NVT equilibration process. "
      ]
     },
     {
      "cell_type": "code",
      "execution_count": null,
      "metadata": {
       "scrolled": true
      },
      "outputs": [],
      "source": [
       "# GMXEnergy: Getting system temperature by time during NVT Equilibration  \n",
       "from biobb_analysis.gromacs.gmx_energy import gmx_energy\n",
       "\n",
       "# Create prop dict and inputs/outputs\n",
       "output_nvt_temp_xvg = pdbCode+'_'+ligandCode+'_nvt_temp.xvg'\n",
       "prop = {\n",
       "    'terms':  [\"Temperature\"]\n",
       "}\n",
       "\n",
       "# Create and launch bb\n",
       "gmx_energy(input_energy_path=output_nvt_edr, \n",
       "          output_xvg_path=output_nvt_temp_xvg, \n",
       "          properties=prop)"
      ]
     },
     {
      "cell_type": "code",
      "execution_count": null,
      "metadata": {
       "scrolled": true
      },
      "outputs": [],
      "source": [
       "import plotly\n",
       "import plotly.graph_objs as go\n",
       "\n",
       "# Read temperature data from file \n",
       "with open(output_nvt_temp_xvg,'r') as temperature_file:\n",
       "    x,y = map(\n",
       "        list,\n",
       "        zip(*[\n",
       "            (float(line.split()[0]),float(line.split()[1]))\n",
       "            for line in temperature_file \n",
       "            if not line.startswith((\"#\",\"@\")) \n",
       "        ])\n",
       "    )\n",
       "\n",
       "plotly.offline.init_notebook_mode(connected=True)\n",
       "\n",
       "fig = ({\n",
       "    \"data\": [go.Scatter(x=x, y=y)],\n",
       "    \"layout\": go.Layout(title=\"Temperature during NVT Equilibration\",\n",
       "                        xaxis=dict(title = \"Time (ps)\"),\n",
       "                        yaxis=dict(title = \"Temperature (K)\")\n",
       "                       )\n",
       "})\n",
       "\n",
       "plotly.offline.iplot(fig)"
      ]
     },
     {
      "cell_type": "markdown",
      "metadata": {},
      "source": [
       "<a id=\"npt\"></a>\n",
       "***\n",
       "## Equilibrate the system (NPT)\n",
       "Equilibrate the **protein-ligand complex** system in NPT ensemble (constant Number of particles, Pressure and Temperature) .\n",
       "- [Step 1](#eqNPTStep1): Creating portable binary run file for system equilibration\n",
       "- [Step 2](#eqNPTStep2): Equilibrate the **protein-ligand complex** with NPT ensemble.\n",
       "- [Step 3](#eqNPTStep3): Checking **NPT Equilibration** results. Plotting **system pressure and density** by time during the **NPT equilibration** process.\n",
       "***\n",
       "**Building Blocks** used:\n",
       " - [Grompp](https://biobb-md.readthedocs.io/en/latest/gromacs.html#module-gromacs.grompp) from **biobb_gromacs.gromacs.grompp** \n",
       " - [Mdrun](https://biobb-md.readthedocs.io/en/latest/gromacs.html#module-gromacs.mdrun) from **biobb_gromacs.gromacs.mdrun** \n",
       " - [GMXEnergy](https://biobb-analysis.readthedocs.io/en/latest/gromacs.html#module-gromacs.gmx_energy) from **biobb_analysis.gromacs.gmx_energy** \n",
       "***"
      ]
     },
     {
      "cell_type": "markdown",
      "metadata": {},
      "source": [
       "<a id=\"eqNPTStep1\"></a>\n",
       "### Step 1: Creating portable binary run file for system equilibration (NPT)"
      ]
     },
     {
      "cell_type": "code",
      "execution_count": null,
      "metadata": {
       "scrolled": true
      },
      "outputs": [],
      "source": [
       "# Grompp: Creating portable binary run file for (NPT) System Equilibration\n",
       "from biobb_gromacs.gromacs.grompp import grompp\n",
       "\n",
       "# Create prop dict and inputs/outputs\n",
       "output_gppnpt_tpr = pdbCode+'_'+ligandCode+'_gppnpt.tpr'\n",
       "prop = {\n",
       "    'mdp':{\n",
       "        'type': 'npt',\n",
       "        'nsteps':'5000',\n",
       "        'tc-grps': 'Protein_Other Water_and_ions',\n",
       "        'Define': '-DPOSRES -D' + posresifdef\n",
       "    },\n",
       "    'simulation_type':'npt'\n",
       "}\n",
       "\n",
       "# Create and launch bb\n",
       "grompp(input_gro_path=output_nvt_gro,\n",
       "       input_top_zip_path=output_genion_top_zip,\n",
       "       input_ndx_path=output_complex_ndx,\n",
       "       output_tpr_path=output_gppnpt_tpr,\n",
       "       input_cpt_path=output_nvt_cpt,\n",
       "       properties=prop)"
      ]
     },
     {
      "cell_type": "markdown",
      "metadata": {},
      "source": [
       "<a id=\"eqNPTStep2\"></a>\n",
       "### Step 2: Running NPT equilibration"
      ]
     },
     {
      "cell_type": "code",
      "execution_count": null,
      "metadata": {
       "scrolled": true
      },
      "outputs": [],
      "source": [
       "# Mdrun: Running NPT System Equilibration\n",
       "from biobb_gromacs.gromacs.mdrun import mdrun\n",
       "\n",
       "# Create prop dict and inputs/outputs\n",
       "output_npt_trr = pdbCode+'_'+ligandCode+'_npt.trr'\n",
       "output_npt_gro = pdbCode+'_'+ligandCode+'_npt.gro'\n",
       "output_npt_edr = pdbCode+'_'+ligandCode+'_npt.edr'\n",
       "output_npt_log = pdbCode+'_'+ligandCode+'_npt.log'\n",
       "output_npt_cpt = pdbCode+'_'+ligandCode+'_npt.cpt'\n",
       "\n",
       "# Create and launch bb\n",
       "mdrun(input_tpr_path=output_gppnpt_tpr,\n",
       "      output_trr_path=output_npt_trr,\n",
       "      output_gro_path=output_npt_gro,\n",
       "      output_edr_path=output_npt_edr,\n",
       "      output_log_path=output_npt_log,\n",
       "      output_cpt_path=output_npt_cpt)"
      ]
     },
     {
      "cell_type": "markdown",
      "metadata": {},
      "source": [
       "<a id=\"eqNPTStep3\"></a>\n",
       "### Step 3: Checking NPT Equilibration results\n",
       "Checking **NPT Equilibration** results. Plotting **system pressure and density** by time during the **NPT equilibration** process. "
      ]
     },
     {
      "cell_type": "code",
      "execution_count": null,
      "metadata": {
       "scrolled": true
      },
      "outputs": [],
      "source": [
       "# GMXEnergy: Getting system pressure and density by time during NPT Equilibration  \n",
       "from biobb_analysis.gromacs.gmx_energy import gmx_energy\n",
       "\n",
       "# Create prop dict and inputs/outputs\n",
       "output_npt_pd_xvg = pdbCode+'_'+ligandCode+'_npt_PD.xvg'\n",
       "prop = {\n",
       "    'terms':  [\"Pressure\",\"Density\"]\n",
       "}\n",
       "\n",
       "# Create and launch bb\n",
       "gmx_energy(input_energy_path=output_npt_edr, \n",
       "          output_xvg_path=output_npt_pd_xvg, \n",
       "          properties=prop)"
      ]
     },
     {
      "cell_type": "code",
      "execution_count": null,
      "metadata": {
       "scrolled": true
      },
      "outputs": [],
      "source": [
       "import plotly\n",
       "from plotly import subplots\n",
       "import plotly.graph_objs as go\n",
       "\n",
       "# Read pressure and density data from file \n",
       "with open(output_npt_pd_xvg,'r') as pd_file:\n",
       "    x,y,z = map(\n",
       "        list,\n",
       "        zip(*[\n",
       "            (float(line.split()[0]),float(line.split()[1]),float(line.split()[2]))\n",
       "            for line in pd_file \n",
       "            if not line.startswith((\"#\",\"@\")) \n",
       "        ])\n",
       "    )\n",
       "\n",
       "plotly.offline.init_notebook_mode(connected=True)\n",
       "\n",
       "trace1 = go.Scatter(\n",
       "    x=x,y=y\n",
       ")\n",
       "trace2 = go.Scatter(\n",
       "    x=x,y=z\n",
       ")\n",
       "\n",
       "fig = subplots.make_subplots(rows=1, cols=2, print_grid=False)\n",
       "\n",
       "fig.append_trace(trace1, 1, 1)\n",
       "fig.append_trace(trace2, 1, 2)\n",
       "\n",
       "fig['layout']['xaxis1'].update(title='Time (ps)')\n",
       "fig['layout']['xaxis2'].update(title='Time (ps)')\n",
       "fig['layout']['yaxis1'].update(title='Pressure (bar)')\n",
       "fig['layout']['yaxis2'].update(title='Density (Kg*m^-3)')\n",
       "\n",
       "fig['layout'].update(title='Pressure and Density during NPT Equilibration')\n",
       "fig['layout'].update(showlegend=False)\n",
       "\n",
       "plotly.offline.iplot(fig)"
      ]
     },
     {
      "cell_type": "markdown",
      "metadata": {},
      "source": [
       "<a id=\"free\"></a>\n",
       "***\n",
       "## Free Molecular Dynamics Simulation\n",
       "Upon completion of the **two equilibration phases (NVT and NPT)**, the system is now well-equilibrated at the desired temperature and pressure. The **position restraints** can now be released. The last step of the **protein-ligand complex** MD setup is a short, **free MD simulation**, to ensure the robustness of the system. \n",
       "- [Step 1](#mdStep1): Creating portable binary run file to run a **free MD simulation**.\n",
       "- [Step 2](#mdStep2): Run short MD simulation of the **protein-ligand complex**.\n",
       "- [Step 3](#mdStep3): Checking results for the final step of the setup process, the **free MD run**. Plotting **Root Mean Square deviation (RMSd)** and **Radius of Gyration (Rgyr)** by time during the **free MD run** step. \n",
       "***\n",
       "**Building Blocks** used:\n",
       " - [Grompp](https://biobb-md.readthedocs.io/en/latest/gromacs.html#module-gromacs.grompp) from **biobb_gromacs.gromacs.grompp** \n",
       " - [Mdrun](https://biobb-md.readthedocs.io/en/latest/gromacs.html#module-gromacs.mdrun) from **biobb_gromacs.gromacs.mdrun** \n",
       " - [GMXRms](https://biobb-analysis.readthedocs.io/en/latest/gromacs.html#module-gromacs.gmx_rms) from **biobb_analysis.gromacs.gmx_rms** \n",
       " - [GMXRgyr](https://biobb-analysis.readthedocs.io/en/latest/gromacs.html#module-gromacs.gmx_rgyr) from **biobb_analysis.gromacs.gmx_rgyr** \n",
       "***"
      ]
     },
     {
      "cell_type": "markdown",
      "metadata": {},
      "source": [
       "<a id=\"mdStep1\"></a>\n",
       "### Step 1: Creating portable binary run file to run a free MD simulation"
      ]
     },
     {
      "cell_type": "code",
      "execution_count": null,
      "metadata": {
       "scrolled": true
      },
      "outputs": [],
      "source": [
       "# Grompp: Creating portable binary run file for mdrun\n",
       "from biobb_gromacs.gromacs.grompp import grompp\n",
       "\n",
       "# Create prop dict and inputs/outputs\n",
       "prop = {\n",
       "    'mdp':{\n",
       "        #'nsteps':'500000' # 1 ns (500,000 steps x 2fs per step)\n",
       "        #'nsteps':'5000' # 10 ps (5,000 steps x 2fs per step)\n",
       "        'nsteps':'25000' # 50 ps (25,000 steps x 2fs per step)\n",
       "    },\n",
       "    'simulation_type':'free'\n",
       "}\n",
       "output_gppmd_tpr = pdbCode+'_'+ligandCode + '_gppmd.tpr'\n",
       "\n",
       "# Create and launch bb\n",
       "grompp(input_gro_path=output_npt_gro,\n",
       "       input_top_zip_path=output_genion_top_zip,\n",
       "       output_tpr_path=output_gppmd_tpr,\n",
       "       input_cpt_path=output_npt_cpt,\n",
       "       properties=prop)"
      ]
     },
     {
      "cell_type": "markdown",
      "metadata": {},
      "source": [
       "<a id=\"mdStep2\"></a>\n",
       "### Step 2: Running short free MD simulation"
      ]
     },
     {
      "cell_type": "code",
      "execution_count": null,
      "metadata": {
       "scrolled": true
      },
      "outputs": [],
      "source": [
       "# Mdrun: Running free dynamics\n",
       "from biobb_gromacs.gromacs.mdrun import mdrun\n",
       "\n",
       "# Create prop dict and inputs/outputs\n",
       "output_md_trr = pdbCode+'_'+ligandCode+'_md.trr'\n",
       "output_md_gro = pdbCode+'_'+ligandCode+'_md.gro'\n",
       "output_md_edr = pdbCode+'_'+ligandCode+'_md.edr'\n",
       "output_md_log = pdbCode+'_'+ligandCode+'_md.log'\n",
       "output_md_cpt = pdbCode+'_'+ligandCode+'_md.cpt'\n",
       "\n",
       "# Create and launch bb\n",
       "mdrun(input_tpr_path=output_gppmd_tpr,\n",
       "      output_trr_path=output_md_trr,\n",
       "      output_gro_path=output_md_gro,\n",
       "      output_edr_path=output_md_edr,\n",
       "      output_log_path=output_md_log,\n",
       "      output_cpt_path=output_md_cpt)"
      ]
     },
     {
      "cell_type": "markdown",
      "metadata": {},
      "source": [
       "<a id=\"mdStep3\"></a>\n",
       "### Step 3: Checking free MD simulation results\n",
       "Checking results for the final step of the setup process, the **free MD run**. Plotting **Root Mean Square deviation (RMSd)** and **Radius of Gyration (Rgyr)** by time during the **free MD run** step. **RMSd** against the **experimental structure** (input structure of the pipeline) and against the **minimized and equilibrated structure** (output structure of the NPT equilibration step)."
      ]
     },
     {
      "cell_type": "code",
      "execution_count": null,
      "metadata": {
       "scrolled": false
      },
      "outputs": [],
      "source": [
       "# GMXRms: Computing Root Mean Square deviation to analyse structural stability \n",
       "#         RMSd against minimized and equilibrated snapshot (backbone atoms)   \n",
       "\n",
       "from biobb_analysis.gromacs.gmx_rms import gmx_rms\n",
       "\n",
       "# Create prop dict and inputs/outputs\n",
       "output_rms_first = pdbCode+'_'+ligandCode+'_rms_first.xvg'\n",
       "prop = {\n",
       "    'selection':  'Backbone'\n",
       "}\n",
       "\n",
       "# Create and launch bb\n",
       "gmx_rms(input_structure_path=output_gppmd_tpr,\n",
       "         input_traj_path=output_md_trr,\n",
       "         output_xvg_path=output_rms_first, \n",
       "          properties=prop)"
      ]
     },
     {
      "cell_type": "code",
      "execution_count": null,
      "metadata": {
       "scrolled": false
      },
      "outputs": [],
      "source": [
       "# GMXRms: Computing Root Mean Square deviation to analyse structural stability \n",
       "#         RMSd against experimental structure (backbone atoms)   \n",
       "\n",
       "from biobb_analysis.gromacs.gmx_rms import gmx_rms\n",
       "\n",
       "# Create prop dict and inputs/outputs\n",
       "output_rms_exp = pdbCode+'_'+ligandCode+'_rms_exp.xvg'\n",
       "prop = {\n",
       "    'selection':  'Backbone'\n",
       "}\n",
       "\n",
       "# Create and launch bb\n",
       "gmx_rms(input_structure_path=output_gppmin_tpr,\n",
       "         input_traj_path=output_md_trr,\n",
       "         output_xvg_path=output_rms_exp, \n",
       "          properties=prop)"
      ]
     },
     {
      "cell_type": "code",
      "execution_count": null,
      "metadata": {
       "scrolled": true
      },
      "outputs": [],
      "source": [
       "import plotly\n",
       "import plotly.graph_objs as go\n",
       "\n",
       "# Read RMS vs first snapshot data from file \n",
       "with open(output_rms_first,'r') as rms_first_file:\n",
       "    x,y = map(\n",
       "        list,\n",
       "        zip(*[\n",
       "            (float(line.split()[0]),float(line.split()[1]))\n",
       "            for line in rms_first_file \n",
       "            if not line.startswith((\"#\",\"@\")) \n",
       "        ])\n",
       "    )\n",
       "\n",
       "# Read RMS vs experimental structure data from file \n",
       "with open(output_rms_exp,'r') as rms_exp_file:\n",
       "    x2,y2 = map(\n",
       "        list,\n",
       "        zip(*[\n",
       "            (float(line.split()[0]),float(line.split()[1]))\n",
       "            for line in rms_exp_file\n",
       "            if not line.startswith((\"#\",\"@\")) \n",
       "        ])\n",
       "    )\n",
       "    \n",
       "trace1 = go.Scatter(\n",
       "    x = x,\n",
       "    y = y,\n",
       "    name = 'RMSd vs first'\n",
       ")\n",
       "\n",
       "trace2 = go.Scatter(\n",
       "    x = x,\n",
       "    y = y2,\n",
       "    name = 'RMSd vs exp'\n",
       ")\n",
       "\n",
       "data = [trace1, trace2]\n",
       "\n",
       "plotly.offline.init_notebook_mode(connected=True)\n",
       "\n",
       "fig = ({\n",
       "    \"data\": data,\n",
       "    \"layout\": go.Layout(title=\"RMSd during free MD Simulation\",\n",
       "                        xaxis=dict(title = \"Time (ps)\"),\n",
       "                        yaxis=dict(title = \"RMSd (nm)\")\n",
       "                       )\n",
       "})\n",
       "\n",
       "plotly.offline.iplot(fig)"
      ]
     },
     {
      "cell_type": "code",
      "execution_count": null,
      "metadata": {
       "scrolled": false
      },
      "outputs": [],
      "source": [
       "# GMXRgyr: Computing Radius of Gyration to measure the protein compactness during the free MD simulation \n",
       "\n",
       "from biobb_analysis.gromacs.gmx_rgyr import gmx_rgyr\n",
       "\n",
       "# Create prop dict and inputs/outputs\n",
       "output_rgyr = pdbCode+'_'+ligandCode+'_rgyr.xvg'\n",
       "prop = {\n",
       "    'selection':  'Backbone'\n",
       "}\n",
       "\n",
       "# Create and launch bb\n",
       "gmx_rgyr(input_structure_path=output_gppmin_tpr,\n",
       "         input_traj_path=output_md_trr,\n",
       "         output_xvg_path=output_rgyr, \n",
       "          properties=prop)"
      ]
     },
     {
      "cell_type": "code",
      "execution_count": null,
      "metadata": {
       "scrolled": true
      },
      "outputs": [],
      "source": [
       "import plotly\n",
       "import plotly.graph_objs as go\n",
       "\n",
       "# Read Rgyr data from file \n",
       "with open(output_rgyr,'r') as rgyr_file:\n",
       "    x,y = map(\n",
       "        list,\n",
       "        zip(*[\n",
       "            (float(line.split()[0]),float(line.split()[1]))\n",
       "            for line in rgyr_file \n",
       "            if not line.startswith((\"#\",\"@\")) \n",
       "        ])\n",
       "    )\n",
       "\n",
       "plotly.offline.init_notebook_mode(connected=True)\n",
       "\n",
       "fig = ({\n",
       "    \"data\": [go.Scatter(x=x, y=y)],\n",
       "    \"layout\": go.Layout(title=\"Radius of Gyration\",\n",
       "                        xaxis=dict(title = \"Time (ps)\"),\n",
       "                        yaxis=dict(title = \"Rgyr (nm)\")\n",
       "                       )\n",
       "})\n",
       "\n",
       "plotly.offline.iplot(fig)"
      ]
     },
     {
      "cell_type": "markdown",
      "metadata": {},
      "source": [
       "<a id=\"post\"></a>\n",
       "***\n",
       "## Post-processing and Visualizing resulting 3D trajectory\n",
       "Post-processing and Visualizing the **protein-ligand complex system** MD setup **resulting trajectory** using **NGL**\n",
       "- [Step 1](#ppStep1): *Imaging* the resulting trajectory, **stripping out water molecules and ions** and **correcting periodicity issues**.\n",
       "- [Step 2](#ppStep2): Generating a *dry* structure, **removing water molecules and ions** from the final snapshot of the MD setup pipeline.\n",
       "- [Step 3](#ppStep3): Visualizing the *imaged* trajectory using the *dry* structure as a **topology**. \n",
       "***\n",
       "**Building Blocks** used:\n",
       " - [GMXImage](https://biobb-analysis.readthedocs.io/en/latest/gromacs.html#module-gromacs.gmx_image) from **biobb_analysis.gromacs.gmx_image** \n",
       " - [GMXTrjConvStr](https://biobb-analysis.readthedocs.io/en/latest/gromacs.html#module-gromacs.gmx_trjconv_str) from **biobb_analysis.gromacs.gmx_trjconv_str** \n",
       "***"
      ]
     },
     {
      "cell_type": "markdown",
      "metadata": {},
      "source": [
       "<a id=\"ppStep1\"></a>\n",
       "### Step 1: *Imaging* the resulting trajectory.\n",
       "Stripping out **water molecules and ions** and **correcting periodicity issues**  "
      ]
     },
     {
      "cell_type": "code",
      "execution_count": null,
      "metadata": {
       "scrolled": false
      },
      "outputs": [],
      "source": [
       "# GMXImage: \"Imaging\" the resulting trajectory\n",
       "#           Removing water molecules and ions from the resulting structure\n",
       "from biobb_analysis.gromacs.gmx_image import gmx_image\n",
       "\n",
       "# Create prop dict and inputs/outputs\n",
       "output_imaged_traj = pdbCode+'_imaged_traj.trr'\n",
       "prop = {\n",
       "    'center_selection':  'Protein_Other',\n",
       "    'output_selection': 'Protein_Other',\n",
       "    'pbc' : 'mol',\n",
       "    'center' : True\n",
       "}\n",
       "\n",
       "# Create and launch bb\n",
       "gmx_image(input_traj_path=output_md_trr,\n",
       "         input_top_path=output_gppmd_tpr,\n",
       "         input_index_path=output_complex_ndx,\n",
       "         output_traj_path=output_imaged_traj, \n",
       "          properties=prop)"
      ]
     },
     {
      "cell_type": "markdown",
      "metadata": {},
      "source": [
       "<a id=\"ppStep2\"></a>\n",
       "### Step 2: Generating the output *dry* structure.\n",
       "**Removing water molecules and ions** from the resulting structure"
      ]
     },
     {
      "cell_type": "code",
      "execution_count": null,
      "metadata": {
       "scrolled": true
      },
      "outputs": [],
      "source": [
       "# GMXTrjConvStr: Converting and/or manipulating a structure\n",
       "#                Removing water molecules and ions from the resulting structure\n",
       "#                The \"dry\" structure will be used as a topology to visualize \n",
       "#                the \"imaged dry\" trajectory generated in the previous step.\n",
       "from biobb_analysis.gromacs.gmx_trjconv_str import gmx_trjconv_str\n",
       "\n",
       "# Create prop dict and inputs/outputs\n",
       "output_dry_gro = pdbCode+'_md_dry.gro'\n",
       "prop = {\n",
       "    'selection':  'Protein_Other'\n",
       "}\n",
       "\n",
       "# Create and launch bb\n",
       "gmx_trjconv_str(input_structure_path=output_md_gro,\n",
       "                input_top_path=output_gppmd_tpr,\n",
       "                input_index_path=output_complex_ndx,\n",
       "                output_str_path=output_dry_gro, \n",
       "                properties=prop)"
      ]
     },
     {
      "cell_type": "markdown",
      "metadata": {},
      "source": [
       "<a id=\"ppStep3\"></a>\n",
       "### Step 3: Visualizing the generated dehydrated trajectory.\n",
       "Using the **imaged trajectory** (output of the [Post-processing step 1](#ppStep1)) with the **dry structure** (output of the [Post-processing step 2](#ppStep2)) as a topology."
      ]
     },
     {
      "cell_type": "code",
      "execution_count": null,
      "metadata": {
       "scrolled": true
      },
      "outputs": [],
      "source": [
       "# Show trajectory\n",
       "view = nglview.show_simpletraj(nglview.SimpletrajTrajectory(output_imaged_traj, output_dry_gro), gui=True)\n",
       "view"
      ]
     },
     {
      "cell_type": "markdown",
      "metadata": {
       "variables": {
        "output_genion_top_zip": "<p><strong>NameError</strong>: name &#39;output_genion_top_zip&#39; is not defined</p>\n",
        "output_gppmd_tpr": "<p><strong>NameError</strong>: name &#39;output_gppmd_tpr&#39; is not defined</p>\n",
        "output_md_cpt": "<p><strong>NameError</strong>: name &#39;output_md_cpt&#39; is not defined</p>\n",
        "output_md_gro": "<p><strong>NameError</strong>: name &#39;output_md_gro&#39; is not defined</p>\n",
        "output_md_trr": "<p><strong>NameError</strong>: name &#39;output_md_trr&#39; is not defined</p>\n",
        "output_rgyr": "<p><strong>NameError</strong>: name &#39;output_rgyr&#39; is not defined</p>\n",
        "output_rms_exp": "<p><strong>NameError</strong>: name &#39;output_rms_exp&#39; is not defined</p>\n",
        "output_rms_first": "<p><strong>NameError</strong>: name &#39;output_rms_first&#39; is not defined</p>\n"
       }
      },
      "source": [
       "<a id=\"output\"></a>\n",
       "## Output files\n",
       "\n",
       "Important **Output files** generated:\n",
       " - {{output_md_gro}}: **Final structure** (snapshot) of the MD setup protocol.\n",
       " - {{output_md_trr}}: **Final trajectory** of the MD setup protocol.\n",
       " - {{output_md_cpt}}: **Final checkpoint file**, with information about the state of the simulation. It can be used to **restart** or **continue** a MD simulation.\n",
       " - {{output_gppmd_tpr}}: **Final tpr file**, GROMACS portable binary run input file. This file contains the starting structure of the **MD setup free MD simulation step**, together with the molecular topology and all the simulation parameters. It can be used to **extend** the simulation.\n",
       " - {{output_genion_top_zip}}: **Final topology** of the MD system. It is a compressed zip file including a **topology file** (.top) and a set of auxiliar **include topology** files (.itp).\n",
       "\n",
       "**Analysis** (MD setup check) output files generated:\n",
       " - {{output_rms_first}}: **Root Mean Square deviation (RMSd)** against **minimized and equilibrated structure** of the final **free MD run step**.\n",
       " - {{output_rms_exp}}: **Root Mean Square deviation (RMSd)** against **experimental structure** of the final **free MD run step**.\n",
       " - {{output_rgyr}}: **Radius of Gyration** of the final **free MD run step** of the **setup pipeline**.\n",
       " "
      ]
     },
     {
      "cell_type": "markdown",
      "metadata": {},
      "source": [
       "***\n",
       "<a id=\"questions\"></a>\n",
       "\n",
       "## Questions & Comments\n",
       "\n",
       "Questions, issues, suggestions and comments are really welcome!\n",
       "\n",
       "* GitHub issues:\n",
       "    * [https://github.com/bioexcel/biobb](https://github.com/bioexcel/biobb)\n",
       "\n",
       "* BioExcel forum:\n",
       "    * [https://ask.bioexcel.eu/c/BioExcel-Building-Blocks-library](https://ask.bioexcel.eu/c/BioExcel-Building-Blocks-library)\n"
      ]
     }
    ],
    "metadata": {
     "anaconda-cloud": {},
     "kernelspec": {
      "display_name": "Python 3 (ipykernel)",
      "language": "python",
      "name": "python3"
     },
     "language_info": {
      "codemirror_mode": {
       "name": "ipython",
       "version": 3
      },
      "file_extension": ".py",
      "mimetype": "text/x-python",
      "name": "python",
      "nbconvert_exporter": "python",
      "pygments_lexer": "ipython3",
      "version": "3.10.6"
     }
    },
    "nbformat": 4,
    "nbformat_minor": 2
   }
   
{
 "cells": [
  {
   "attachments": {
    "Bioexcel2_logo_400px_transp.png": {
     "image/png": "[encoded data removed]"
    }
   },
   "cell_type": "markdown",
   "metadata": {},
   "source": [
    "# Protein Ligand Complex MD Setup tutorial using BioExcel Building Blocks (biobb)\n",
    "### Based on the official Gromacs tutorial: http://www.mdtutorials.com/gmx/complex/index.html\n",
    "***\n",
    "This tutorial aims to illustrate the process of **setting up a simulation system** containing a **protein in complex with a ligand**, step by step, using the **BioExcel Building Blocks library (biobb)**. The particular example used is the **T4 lysozyme** L99A/M102Q protein (PDB code 3HTB), in complex with the **2-propylphenol** small molecule (3-letter Code JZ4). \n",
    "***\n",
    "**Biobb modules** used:\n",
    "\n",
    " - [biobb_io](https://github.com/bioexcel/biobb_io): Tools to fetch biomolecular data from public databases.\n",
    " - [biobb_model](https://github.com/bioexcel/biobb_model): Tools to model macromolecular structures.\n",
    " - [biobb_chemistry](https://github.com/bioexcel/biobb_chemistry): Tools to manipulate chemical data.\n",
    " - [biobb_md](https://github.com/bioexcel/biobb_md): Tools to setup and run Molecular Dynamics simulations.\n",
    " - [biobb_analysis](https://github.com/bioexcel/biobb_analysis): Tools to analyse Molecular Dynamics trajectories.\n",
    " \n",
    "**Auxiliar libraries** used:\n",
    "\n",
    " - [nglview](http://nglviewer.org/#nglview): Jupyter/IPython widget to interactively view molecular structures and trajectories in notebooks.\n",
    " - [ipywidgets](https://github.com/jupyter-widgets/ipywidgets): Interactive HTML widgets for Jupyter notebooks and the IPython kernel.\n",
    " - [os](https://docs.python.org/3/library/os.html): Python miscellaneous operating system interfaces\n",
    " - [plotly](https://plot.ly/python/offline/): Python interactive graphing library integrated in Jupyter notebooks.\n",
    " - [simpletraj](https://github.com/arose/simpletraj): Lightweight coordinate-only trajectory reader based on code from GROMACS, MDAnalysis and VMD.\n",
    "\n",
    "\n",
    "Conda **Installation**:\n",
    "\n",
    " - **conda install -c bioconda biobb_Protein-Ligand_MD_setup**\n",
    "\n",
    "***\n",
    "### Pipeline steps:\n",
    " 1. [Input Parameters](#input)\n",
    " 2. [Fetching PDB Structure](#fetch)\n",
    " 3. [Fix Protein Structure](#fix)\n",
    " 4. [Create Protein System Topology](#top)\n",
    " 5. [Create ligand system topology](#ligtop)\n",
    " 6. [Preparing Ligand Restraints](#restraints)\n",
    " 7. [Create new protein-ligand complex structure file](#complex)\n",
    " 8. [Create new protein-ligand complex topology file](#complextop)\n",
    " 9. [Create Solvent Box](#box)\n",
    " 10. [Fill the Box with Water Molecules](#water)\n",
    " 11. [Adding Ions](#ions)\n",
    " 12. [Energetically Minimize the System](#min)\n",
    " 13. [Equilibrate the System (NVT)](#nvt)\n",
    " 14. [Equilibrate the System (NPT)](#npt)\n",
    " 15. [Free Molecular Dynamics Simulation](#free)\n",
    " 16. [Post-processing and Visualizing Resulting 3D Trajectory](#post)\n",
    " 17. [Output Files](#output)\n",
    " \n",
    "***\n",
    " ***\n",
    "![Bioexcel2_logo_400px_transp.png](attachment:Bioexcel2_logo_400px_transp.png)\n",
    "***"
   ]
  },
  {
   "cell_type": "markdown",
   "metadata": {},
   "source": [
    "<a id=\"input\"></a>\n",
    "## Input parameters\n",
    "**Input parameters** needed:\n",
    " - **pdbCode**: PDB code of the protein-ligand complex structure (e.g. 3HTB)\n",
    " - **ligandCode**: Small molecule 3-letter code for the ligand structure (e.g. JZ4)\n",
    " - **mol_charge**: Charge of the small molecule, needed to add hydrogen atoms."
   ]
  },
  {
   "cell_type": "code",
   "execution_count": 1,
   "metadata": {},
   "outputs": [],
   "source": [
    "import nglview\n",
    "import ipywidgets\n",
    "import os\n",
    "import zipfile\n",
    "\n",
    "pdbCode = \"3HTB\"\n",
    "ligandCode = \"JZ4\"\n",
    "mol_charge = 0"
   ]
  },
  {
   "cell_type": "markdown",
   "metadata": {},
   "source": [
    "<a id=\"fetch\"></a>\n",
    "***\n",
    "## Fetching PDB structure\n",
    "Downloading **PDB structure** with the **protein-ligand complex** from the RCSB PDB database.<br>\n",
    "Alternatively, a PDB file can be used as starting structure. <br>\n",
    "Splitting the molecule in **three different files**: \n",
    "- **proteinFile**: Protein structure\n",
    "- **ligandFile**: Ligand structure\n",
    "- **complexFile**: Protein-ligand complex structure \n",
    "\n",
    "***\n",
    "**Building Blocks** used:\n",
    " - [Pdb](https://biobb-io.readthedocs.io/en/latest/api.html#module-api.pdb) from **biobb_io.api.pdb**\n",
    "***"
   ]
  },
  {
   "cell_type": "code",
   "execution_count": 2,
   "metadata": {},
   "outputs": [
    {
     "name": "stderr",
     "output_type": "stream",
     "text": [
      "/home/gbayarri_local/projects/BioBB/biobb_common/biobb_common/tools/file_utils.py:327: UserWarning: Warning: filter is not a recognized property. The most similar property is: filt\n",
      "  error_property, close_property))\n",
      "2019-10-16 12:18:01,872 [MainThread  ] [INFO ]  Downloading: 3htb from: https://files.rcsb.org/download/3htb.pdb\n",
      "2019-10-16 12:18:02,966 [MainThread  ] [INFO ]  Writting pdb to: /home/gbayarri_local/projects/BioBB/tutorials/biobb_wf_protein-complex_md_setup/biobb_wf_protein-complex_md_setup/notebooks/3HTB.orig.pdb\n"
     ]
    }
   ],
   "source": [
    "# Downloading desired PDB file \n",
    "# Import module\n",
    "from biobb_io.api.pdb import Pdb\n",
    "\n",
    "# Create properties dict and inputs/outputs\n",
    "downloaded_pdb = pdbCode+'.orig.pdb'\n",
    "prop = {\n",
    "    'pdb_code': pdbCode,\n",
    "    'filter': False\n",
    "}\n",
    "\n",
    "# Create and launch bb\n",
    "Pdb(output_pdb_path=downloaded_pdb,\n",
    "    properties=prop).launch()"
   ]
  },
  {
   "cell_type": "code",
   "execution_count": 3,
   "metadata": {},
   "outputs": [
    {
     "name": "stderr",
     "output_type": "stream",
     "text": [
      "2019-10-16 12:18:04,882 [MainThread  ] [INFO ]  File JZ4.pdb created\n",
      "2019-10-16 12:18:04,887 [MainThread  ] [INFO ]  Creating f03b61a2-883b-424b-a2d9-fdda5ff777bf temporary folder\n",
      "2019-10-16 12:18:05,590 [MainThread  ] [INFO ]  check_structure -i /home/gbayarri_local/projects/BioBB/tutorials/biobb_wf_protein-complex_md_setup/biobb_wf_protein-complex_md_setup/notebooks/3HTB.orig.pdb -o 3HTB.pdb --non_interactive command_list --list f03b61a2-883b-424b-a2d9-fdda5ff777bf/extract_prot.lst\n",
      "\n",
      "2019-10-16 12:18:05,591 [MainThread  ] [INFO ]  Exit code 0\n",
      "\n",
      "2019-10-16 12:18:05,592 [MainThread  ] [INFO ]  ===============================================================================\n",
      "=                     MDWeb structure checking utility                        =\n",
      "=                   A. Hospital, P. Andrio, J.L. Gelpi 2018                   =\n",
      "===============================================================================\n",
      "\n",
      "\n",
      "Structure /home/gbayarri_local/projects/BioBB/tutorials/biobb_wf_protein-complex_md_setup/biobb_wf_protein-complex_md_setup/notebooks/3HTB.orig.pdb loaded\n",
      " Title:  2-propylphenol in complex with t4 lysozyme l99a/m102q\n",
      " Experimental method: x-ray diffraction\n",
      " Keywords: hydrolase,glycosidase, bacteriolytic enzyme, antimicrobial\n",
      " Resolution: 1.81 A\n",
      "\n",
      " Num. models: 1\n",
      " Num. chains: 1 (A: Protein)\n",
      " Num. residues:  387\n",
      " Num. residues with ins. codes:  0\n",
      " Num. HETATM residues:  224\n",
      " Num. ligands or modified residues:  4\n",
      " Num. water mol.:  220\n",
      " Num. atoms:  1544\n",
      "Small mol ligands found\n",
      "PO4 A165\n",
      "PO4 A166\n",
      "JZ4 A167\n",
      "BME A168\n",
      "\n",
      "\n",
      "Step 1: ligands --remove All\n",
      "\n",
      "Running ligands. Options: --remove All \n",
      "4 Ligands detected\n",
      " PO4 A165\n",
      " PO4 A166\n",
      " JZ4 A167\n",
      " BME A168\n",
      "Ligands removed All (4)\n",
      "\n",
      "Step 2: water --remove Yes\n",
      "\n",
      "Running water. Options: --remove Yes \n",
      "220 Water molecules detected\n",
      "220 Water molecules removed\n",
      "Command list completed\n",
      "Final Num. models: 1\n",
      "Final Num. chains: 1 (A: Protein)\n",
      "Final Num. residues:  163\n",
      "Final Num. residues with ins. codes:  0\n",
      "Final Num. HETATM residues:  0\n",
      "Final Num. ligands or modified residues:  0\n",
      "Final Num. water mol.:  0\n",
      "Final Num. atoms:  1300\n",
      "Structure saved on 3HTB.pdb\n",
      "\n",
      "2019-10-16 12:18:05,593 [MainThread  ] [INFO ]  Removing f03b61a2-883b-424b-a2d9-fdda5ff777bf temporary folder\n",
      "2019-10-16 12:18:05,598 [MainThread  ] [INFO ]  File 3HTB_JZ4.pdb created\n"
     ]
    },
    {
     "data": {
      "text/plain": [
       "1"
      ]
     },
     "execution_count": 3,
     "metadata": {},
     "output_type": "execute_result"
    }
   ],
   "source": [
    "# Extracting Protein, Ligand and Protein-Ligand Complex to three different files\n",
    "# Import module\n",
    "from biobb_structure_utils.utils.extract_heteroatoms import ExtractHeteroAtoms\n",
    "from biobb_structure_utils.utils.extract_protein import ExtractProtein\n",
    "from biobb_structure_utils.utils.cat_pdb import CatPDB\n",
    "\n",
    "# Create properties dict and inputs/outputs\n",
    "proteinFile = pdbCode+'.pdb'\n",
    "ligandFile = ligandCode+'.pdb'\n",
    "complexFile = pdbCode+'_'+ligandCode+'.pdb'\n",
    "\n",
    "prop = {\n",
    "     'heteroatoms' : [{\"name\": \"JZ4\"}]\n",
    "}\n",
    "\n",
    "ExtractHeteroAtoms(input_structure_path=downloaded_pdb,\n",
    "     output_heteroatom_path=ligandFile,\n",
    "     properties=prop).launch()\n",
    "\n",
    "ExtractProtein(input_structure_path=downloaded_pdb,\n",
    "     output_protein_path=proteinFile).launch()\n",
    "\n",
    "CatPDB(input_structure1=proteinFile,\n",
    "       input_structure2=ligandFile,\n",
    "       output_structure_path=complexFile).launch()"
   ]
  },
  {
   "cell_type": "markdown",
   "metadata": {},
   "source": [
    "### Visualizing 3D structures\n",
    "Visualizing the generated **PDB structures** using **NGL**:  \n",
    "- **Protein structure** (Left)\n",
    "- **Ligand structure** (Center)\n",
    "- **Protein-ligand complex** (Right)  "
   ]
  },
  {
   "cell_type": "code",
   "execution_count": 4,
   "metadata": {},
   "outputs": [
    {
     "data": {
      "application/vnd.jupyter.widget-view+json": {
       "model_id": "7e6469f6731342b386bd7c95d730efda",
       "version_major": 2,
       "version_minor": 0
      },
      "text/plain": [
       "HBox(children=(NGLWidget(), NGLWidget(), NGLWidget()))"
      ]
     },
     "metadata": {},
     "output_type": "display_data"
    }
   ],
   "source": [
    "# Show structures: protein, ligand and protein-ligand complex\n",
    "view1 = nglview.show_file(proteinFile)\n",
    "view1._remote_call('setSize', target='Widget', args=['350px','400px'])\n",
    "view1.camera='orthographic'\n",
    "view1\n",
    "view2 = nglview.show_file(ligandFile)\n",
    "view2.add_representation(repr_type='ball+stick')\n",
    "view2._remote_call('setSize', target='Widget', args=['350px','400px'])\n",
    "view2.camera='orthographic'\n",
    "view2\n",
    "view3 = nglview.show_file(complexFile)\n",
    "view3.add_representation(repr_type='licorice', radius='.5', selection=ligandCode)\n",
    "view3._remote_call('setSize', target='Widget', args=['350px','400px'])\n",
    "view3.camera='orthographic'\n",
    "view3\n",
    "ipywidgets.HBox([view1, view2, view3])"
   ]
  },
  {
   "cell_type": "markdown",
   "metadata": {},
   "source": [
    "<a id=\"fix\"></a>\n",
    "***\n",
    "## Fix protein structure\n",
    "**Checking** and **fixing** (if needed) the protein structure:<br>\n",
    "- **Modeling** **missing side-chain atoms**, modifying incorrect **amide assignments**, choosing **alternative locations**.<br>\n",
    "- **Checking** for missing **backbone atoms**, **heteroatoms**, **modified residues** and possible **atomic clashes**.\n",
    "\n",
    "***\n",
    "**Building Blocks** used:\n",
    " - [FixSideChain](https://biobb-model.readthedocs.io/en/latest/model.html#module-model.fix_side_chain) from **biobb_model.model.fix_side_chain**\n",
    "***"
   ]
  },
  {
   "cell_type": "code",
   "execution_count": 5,
   "metadata": {},
   "outputs": [
    {
     "name": "stderr",
     "output_type": "stream",
     "text": [
      "2019-10-16 12:18:13,450 [MainThread  ] [INFO ]  check_structure -i 3HTB.pdb -o 3HTB_fixed.pdb --force_save fixside --fix ALL\n",
      "\n",
      "2019-10-16 12:18:13,452 [MainThread  ] [INFO ]  Exit code 0\n",
      "\n",
      "2019-10-16 12:18:13,453 [MainThread  ] [INFO ]  ===============================================================================\n",
      "=                     MDWeb structure checking utility                        =\n",
      "=                   A. Hospital, P. Andrio, J.L. Gelpi 2018                   =\n",
      "===============================================================================\n",
      "\n",
      "\n",
      "Structure 3HTB.pdb loaded\n",
      " Title: \n",
      " Experimental method: unknown\n",
      " Resolution: 0.0 A\n",
      "\n",
      " Num. models: 1\n",
      " Num. chains: 1 (A: Protein)\n",
      " Num. residues:  163\n",
      " Num. residues with ins. codes:  0\n",
      " Num. HETATM residues:  0\n",
      " Num. ligands or modified residues:  0\n",
      " Num. water mol.:  0\n",
      " Num. atoms:  1300\n",
      "\n",
      "Running fixside. Options: --fix ALL \n",
      "No residues with missing side chain atoms found\n",
      "Structure not modified, saving due to --force_save option\n",
      "Final Num. models: 1\n",
      "Final Num. chains: 1 (A: Protein)\n",
      "Final Num. residues:  163\n",
      "Final Num. residues with ins. codes:  0\n",
      "Final Num. HETATM residues:  0\n",
      "Final Num. ligands or modified residues:  0\n",
      "Final Num. water mol.:  0\n",
      "Final Num. atoms:  1300\n",
      "Structure saved on 3HTB_fixed.pdb\n",
      "\n"
     ]
    },
    {
     "data": {
      "text/plain": [
       "0"
      ]
     },
     "execution_count": 5,
     "metadata": {},
     "output_type": "execute_result"
    }
   ],
   "source": [
    "# Check & Fix Protein Structure\n",
    "# Import module\n",
    "from biobb_model.model.fix_side_chain import FixSideChain\n",
    "\n",
    "# Create prop dict and inputs/outputs\n",
    "fixed_pdb = pdbCode+'_fixed.pdb'\n",
    "\n",
    "# Create and launch bb\n",
    "FixSideChain(input_pdb_path=proteinFile,\n",
    "             output_pdb_path=fixed_pdb).launch()"
   ]
  },
  {
   "cell_type": "markdown",
   "metadata": {},
   "source": [
    "<a id=\"top\"></a>\n",
    "***\n",
    "## Create protein system topology\n",
    "**Building GROMACS topology** corresponding to the protein structure.<br>\n",
    "Force field used in this tutorial is [**amber99sb-ildn**](https://dx.doi.org/10.1002%2Fprot.22711): AMBER **parm99** force field with **corrections on backbone** (sb) and **side-chain torsion potentials** (ildn). Water molecules type used in this tutorial is [**spc/e**](https://pubs.acs.org/doi/abs/10.1021/j100308a038).<br>\n",
    "Adding **hydrogen atoms** if missing. Automatically identifying **disulfide bridges**. <br>\n",
    "\n",
    "Generating two output files: \n",
    "- **GROMACS structure** (gro file)\n",
    "- **GROMACS topology** ZIP compressed file containing:\n",
    "    - *GROMACS topology top file* (top file)\n",
    "    - *GROMACS position restraint file/s* (itp file/s)\n",
    "***\n",
    "**Building Blocks** used:\n",
    " - [Pdb2gmx](https://biobb-md.readthedocs.io/en/latest/gromacs.html#module-gromacs.pdb2gmx) from **biobb_md.gromacs.pdb2gmx**\n",
    "***"
   ]
  },
  {
   "cell_type": "code",
   "execution_count": 6,
   "metadata": {},
   "outputs": [
    {
     "name": "stderr",
     "output_type": "stream",
     "text": [
      "2019-10-16 12:18:16,278 [MainThread  ] [INFO ]  GROMACS Pdb2gmx 20191 version detected\n",
      "2019-10-16 12:18:16,876 [MainThread  ] [INFO ]  gmx -nobackup -nocopyright pdb2gmx -f 3HTB_fixed.pdb -o 3HTB_pdb2gmx.gro -p p2g.top -water spce -ff amber99sb-ildn -i posre.itp\n",
      "\n",
      "2019-10-16 12:18:16,877 [MainThread  ] [INFO ]  Exit code 0\n",
      "\n",
      "2019-10-16 12:18:16,878 [MainThread  ] [INFO ]  \n",
      "Using the Amber99sb-ildn force field in directory amber99sb-ildn.ff\n",
      "\n",
      "going to rename amber99sb-ildn.ff/aminoacids.r2b\n",
      "going to rename amber99sb-ildn.ff/dna.r2b\n",
      "going to rename amber99sb-ildn.ff/rna.r2b\n",
      "Reading 3HTB_fixed.pdb...\n",
      "Read '', 1364 atoms\n",
      "Analyzing pdb file\n",
      "Splitting chemical chains based on TER records or chain id changing.\n",
      "There are 1 chains and 0 blocks of water and 163 residues with 1364 atoms\n",
      "\n",
      "  chain  #res #atoms\n",
      "  1 'A'   163   1364  \n",
      "\n",
      "Reading residue database... (Amber99sb-ildn)\n",
      "Processing chain 1 'A' (1364 atoms, 163 residues)\n",
      "Identified residue MET1 as a starting terminus.\n",
      "Identified residue ASN163 as a ending terminus.\n",
      "Checking for duplicate atoms....\n",
      "Now there are 1300 atoms. Deleted 64 duplicates.\n",
      "Generating any missing hydrogen atoms and/or adding termini.\n",
      "Now there are 163 residues with 2614 atoms\n",
      "\t\t--------- PLEASE NOTE ------------\n",
      "You have successfully generated a topology from: 3HTB_fixed.pdb.\n",
      "The Amber99sb-ildn force field and the spce water model are used.\n",
      "\t\t--------- ETON ESAELP ------------\n",
      "\n",
      "2019-10-16 12:18:16,879 [MainThread  ] [INFO ]                       :-) GROMACS - gmx pdb2gmx, 2019.1 (-:\n",
      "\n",
      "Executable:   /anaconda3/envs/biobb_dev/bin/gmx\n",
      "Data prefix:  /anaconda3/envs/biobb_dev\n",
      "Working dir:  /home/gbayarri_local/projects/BioBB/tutorials/biobb_wf_protein-complex_md_setup/biobb_wf_protein-complex_md_setup/notebooks\n",
      "Command line:\n",
      "  gmx -nobackup -nocopyright pdb2gmx -f 3HTB_fixed.pdb -o 3HTB_pdb2gmx.gro -p p2g.top -water spce -ff amber99sb-ildn -i posre.itp\n",
      "\n",
      "Opening force field file /anaconda3/envs/biobb_dev/share/gromacs/top/amber99sb-ildn.ff/aminoacids.r2b\n",
      "Opening force field file /anaconda3/envs/biobb_dev/share/gromacs/top/amber99sb-ildn.ff/dna.r2b\n",
      "Opening force field file /anaconda3/envs/biobb_dev/share/gromacs/top/amber99sb-ildn.ff/rna.r2b\n",
      "\n",
      "WARNING: there were 0 atoms with zero occupancy and 178 atoms with\n",
      "         occupancy unequal to one (out of 1364 atoms). Check your pdb file.\n",
      "\n",
      "Opening force field file /anaconda3/envs/biobb_dev/share/gromacs/top/amber99sb-ildn.ff/atomtypes.atp\n",
      "Atomtype 67\n",
      "Opening force field file /anaconda3/envs/biobb_dev/share/gromacs/top/amber99sb-ildn.ff/aminoacids.rtp\n",
      "Residue 93\n",
      "Sorting it all out...\n",
      "Opening force field file /anaconda3/envs/biobb_dev/share/gromacs/top/amber99sb-ildn.ff/dna.rtp\n",
      "Residue 109\n",
      "Sorting it all out...\n",
      "Opening force field file /anaconda3/envs/biobb_dev/share/gromacs/top/amber99sb-ildn.ff/rna.rtp\n",
      "Residue 125\n",
      "Sorting it all out...\n",
      "Opening force field file /anaconda3/envs/biobb_dev/share/gromacs/top/amber99sb-ildn.ff/aminoacids.hdb\n",
      "Opening force field file /anaconda3/envs/biobb_dev/share/gromacs/top/amber99sb-ildn.ff/dna.hdb\n",
      "Opening force field file /anaconda3/envs/biobb_dev/share/gromacs/top/amber99sb-ildn.ff/rna.hdb\n",
      "Opening force field file /anaconda3/envs/biobb_dev/share/gromacs/top/amber99sb-ildn.ff/aminoacids.n.tdb\n",
      "Opening force field file /anaconda3/envs/biobb_dev/share/gromacs/top/amber99sb-ildn.ff/aminoacids.c.tdb\n",
      "Analysing hydrogen-bonding network for automated assignment of histidine\n",
      " protonation. 273 donors and 248 acceptors were found.\n",
      "There are 347 hydrogen bonds\n",
      "Will use HISD for residue 31\n",
      "8 out of 8 lines of specbond.dat converted successfully\n",
      "Special Atom Distance matrix:\n",
      "                    MET1    MET6   HIS31   CYS54   CYS97  MET106\n",
      "                    SD10    SD56  NE2276   SG446   SG808   SD883\n",
      "    MET6    SD56   0.631\n",
      "   HIS31  NE2276   2.196   1.931\n",
      "   CYS54   SG446   2.781   2.718   1.052\n",
      "   CYS97   SG808   0.820   0.539   2.117   2.897\n",
      "  MET106   SD883   1.900   1.314   1.848   2.841   1.635\n",
      "  MET120   SD982   2.525   2.014   3.286   4.293   2.112   1.520\n",
      "Opening force field file /anaconda3/envs/biobb_dev/share/gromacs/top/amber99sb-ildn.ff/aminoacids.arn\n",
      "Opening force field file /anaconda3/envs/biobb_dev/share/gromacs/top/amber99sb-ildn.ff/dna.arn\n",
      "Opening force field file /anaconda3/envs/biobb_dev/share/gromacs/top/amber99sb-ildn.ff/rna.arn\n",
      "Making bonds...\n",
      "Number of bonds was 2635, now 2634\n",
      "Generating angles, dihedrals and pairs...\n",
      "Before cleaning: 6889 pairs\n",
      "Before cleaning: 7252 dihedrals\n",
      "Keeping all generated dihedrals\n",
      "Making cmap torsions...\n",
      "There are 7252 dihedrals,  522 impropers, 4751 angles\n",
      "          6847 pairs,     2634 bonds and     0 virtual sites\n",
      "Total mass 18512.384 a.m.u.\n",
      "Total charge 6.000 e\n",
      "Writing topology\n",
      "\n",
      "Writing coordinate file...\n",
      "\n",
      "GROMACS reminds you: \"It is now quite lawful for a Catholic woman to avoid pregnancy by a resort to mathematics, though she is still forbidden to resort to physics and chemistry.\" (Henry Louis Mencken)\n",
      "\n",
      "\n",
      "2019-10-16 12:18:16,880 [MainThread  ] [INFO ]  Compressing topology to: 3HTB_pdb2gmx_top.zip\n",
      "2019-10-16 12:18:16,882 [MainThread  ] [INFO ]  Ignored file amber99sb-ildn.ff/forcefield.itp\n",
      "2019-10-16 12:18:16,898 [MainThread  ] [INFO ]  Ignored file amber99sb-ildn.ff/spce.itp\n",
      "2019-10-16 12:18:16,899 [MainThread  ] [INFO ]  Ignored file amber99sb-ildn.ff/ions.itp\n",
      "2019-10-16 12:18:16,907 [MainThread  ] [INFO ]  Adding:\n",
      "2019-10-16 12:18:16,908 [MainThread  ] [INFO ]  ['p2g.top', 'posre.itp']\n",
      "2019-10-16 12:18:16,909 [MainThread  ] [INFO ]  to: /home/gbayarri_local/projects/BioBB/tutorials/biobb_wf_protein-complex_md_setup/biobb_wf_protein-complex_md_setup/notebooks/3HTB_pdb2gmx_top.zip\n",
      "2019-10-16 12:18:16,912 [MainThread  ] [INFO ]  Removed: ['p2g.top', 'posre.itp']\n"
     ]
    },
    {
     "data": {
      "text/plain": [
       "0"
      ]
     },
     "execution_count": 6,
     "metadata": {},
     "output_type": "execute_result"
    }
   ],
   "source": [
    "# Create Protein system topology\n",
    "# Import module\n",
    "from biobb_md.gromacs.pdb2gmx import Pdb2gmx\n",
    "\n",
    "# Create inputs/outputs\n",
    "output_pdb2gmx_gro = pdbCode+'_pdb2gmx.gro'\n",
    "output_pdb2gmx_top_zip = pdbCode+'_pdb2gmx_top.zip'\n",
    "prop = {\n",
    "    'force_field' : 'amber99sb-ildn',\n",
    "    'water_type': 'spce'\n",
    "}\n",
    "\n",
    "# Create and launch bb\n",
    "Pdb2gmx(input_pdb_path=fixed_pdb,\n",
    "        output_gro_path=output_pdb2gmx_gro,\n",
    "        output_top_zip_path=output_pdb2gmx_top_zip,\n",
    "        properties=prop).launch()"
   ]
  },
  {
   "cell_type": "markdown",
   "metadata": {},
   "source": [
    "<a id=\"ligtop\"></a>\n",
    "***\n",
    "## Create ligand system topology\n",
    "**Building GROMACS topology** corresponding to the ligand structure.<br>\n",
    "Force field used in this tutorial step is **amberGAFF**: [General AMBER Force Field](http://ambermd.org/antechamber/gaff.html), designed for rational drug design.<br>\n",
    "- [Step 1](#ligandTopologyStep1): Add **hydrogen atoms** if missing.\n",
    "- [Step 2](#ligandTopologyStep2): **Energetically minimize the system** with the new hydrogen atoms. \n",
    "- [Step 3](#ligandTopologyStep3): Generate **ligand topology** (parameters). \n",
    "***\n",
    "**Building Blocks** used:\n",
    " - [ReduceAddHydrogens](https://biobb-chemistry.readthedocs.io/en/latest/ambertools.html#module-ambertools.reduce_add_hydrogens) from **biobb_chemistry.ambertools.reduce_add_hydrogens**\n",
    " - [BabelMinimize](https://biobb-chemistry.readthedocs.io/en/latest/babelm.html#module-babelm.babel_minimize) from **biobb_chemistry.babelm.babel_minimize** \n",
    " - [AcpypeParamsGMX](https://biobb-chemistry.readthedocs.io/en/latest/acpype.html#module-acpype.acpype_params_gmx) from **biobb_chemistry.acpype.acpype_params_gmx** \n",
    "***"
   ]
  },
  {
   "cell_type": "markdown",
   "metadata": {},
   "source": [
    "<a id=\"ligandTopologyStep1\"></a>\n",
    "### Step 1: Add **hydrogen atoms**"
   ]
  },
  {
   "cell_type": "code",
   "execution_count": 7,
   "metadata": {},
   "outputs": [
    {
     "name": "stderr",
     "output_type": "stream",
     "text": [
      "2019-10-16 12:18:19,602 [MainThread  ] [INFO ]  reduce -NUClear -OH -ROTNH3 -ALLALT JZ4.pdb > JZ4.reduce.H.pdb\n",
      "\n",
      "2019-10-16 12:18:19,604 [MainThread  ] [INFO ]  Exit code 0\n",
      "\n",
      "2019-10-16 12:18:19,605 [MainThread  ] [INFO ]  reduce: version 3.3 06/02/2016, Copyright 1997-2016, J. Michael Word\n",
      "Processing file: \"JZ4.pdb\"\n",
      "Database of HETATM connections: \"/anaconda3/envs/biobb_dev/dat/reduce_wwPDB_het_dict.txt\"\n",
      "VDW dot density = 16/A^2\n",
      "Orientation penalty scale = 1 (100%)\n",
      "Eliminate contacts within 3 bonds.\n",
      "Ignore atoms with |occupancy| <= 0.01 during adjustments.\n",
      "Waters ignored if B-Factor >= 40 or |occupancy| < 0.66\n",
      "Aromatic rings in amino acids accept hydrogen bonds.\n",
      "Building or keeping OH & SH Hydrogens.\n",
      "Rotating NH3 Hydrogens.\n",
      "Not processing Met methyls.\n",
      "WARNING: atom H13A from JZ4 will be treated as hydrogen\n",
      "WARNING: atom H14A from JZ4 will be treated as hydrogen\n",
      "WARNING: atom H13A from JZ4 will be treated as hydrogen\n",
      "WARNING: atom H13A from JZ4 will be treated as hydrogen\n",
      "WARNING: atom H14A from JZ4 will be treated as hydrogen\n",
      "WARNING: atom H14A from JZ4 will be treated as hydrogen\n",
      "WARNING: atom H14A from JZ4 will be treated as hydrogen\n",
      "WARNING: atom H14A from JZ4 will be treated as hydrogen\n",
      "WARNING: atom H13A from JZ4 will be treated as hydrogen\n",
      "WARNING: atom H13A from JZ4 will be treated as hydrogen\n",
      "WARNING: atom H14A from JZ4 will be treated as hydrogen\n",
      "WARNING: atom H13A from JZ4 will be treated as hydrogen\n",
      " Singles(size 1): A 167 JZ4 OAB \n",
      " orientation 1: A 167 JZ4 OAB :   rot  120: bump=0.000, HB=0.000, total=0.000\n",
      "Found 0 hydrogens (0 hets)\n",
      "Standardized 0 hydrogens (0 hets)\n",
      "Added 12 hydrogens (12 hets)\n",
      "Removed 0 hydrogens (0 hets)\n",
      "Adjusted 1 group(s)\n",
      "If you publish work which uses reduce, please cite:\n",
      "Word, et. al. (1999) J. Mol. Biol. 285, 1735-1747.\n",
      "For more information see http://kinemage.biochem.duke.edu\n",
      "\n"
     ]
    },
    {
     "data": {
      "text/plain": [
       "0"
      ]
     },
     "execution_count": 7,
     "metadata": {},
     "output_type": "execute_result"
    }
   ],
   "source": [
    "# Create Ligand system topology, STEP 1\n",
    "# Reduce_add_hydrogens: add Hydrogen atoms to a small molecule (using Reduce tool from Ambertools package)\n",
    "# Import module\n",
    "from biobb_chemistry.ambertools.reduce_add_hydrogens import ReduceAddHydrogens\n",
    "\n",
    "# Create prop dict and inputs/outputs\n",
    "output_reduce_h = ligandCode+'.reduce.H.pdb' \n",
    "prop = {\n",
    "    'nuclear' : 'true'\n",
    "}\n",
    "\n",
    "# Create and launch bb\n",
    "ReduceAddHydrogens(input_path=ligandFile,\n",
    "                   output_path=output_reduce_h,\n",
    "                   properties=prop).launch()\n"
   ]
  },
  {
   "cell_type": "markdown",
   "metadata": {},
   "source": [
    "<a id=\"ligandTopologyStep2\"></a>\n",
    "### Step 2: **Energetically minimize the system** with the new hydrogen atoms. "
   ]
  },
  {
   "cell_type": "code",
   "execution_count": 8,
   "metadata": {},
   "outputs": [
    {
     "name": "stderr",
     "output_type": "stream",
     "text": [
      "2019-10-16 12:18:22,182 [MainThread  ] [INFO ]  Hydrogens  is not correct, assigned default value: False\n",
      "2019-10-16 12:18:22,184 [MainThread  ] [INFO ]  Steps  is not correct, assigned default value: 2500\n",
      "2019-10-16 12:18:22,185 [MainThread  ] [INFO ]  Cut-off  is not correct, assigned default value: False\n",
      "2019-10-16 12:18:22,186 [MainThread  ] [INFO ]  Rvdw  is not correct, assigned default value: 6.0\n",
      "2019-10-16 12:18:22,188 [MainThread  ] [INFO ]  Rele  is not correct, assigned default value: 10.0\n",
      "2019-10-16 12:18:22,189 [MainThread  ] [INFO ]  Frequency  is not correct, assigned default value: 10\n",
      "2019-10-16 12:18:22,815 [MainThread  ] [INFO ]  obminimize -c 1e-10 -sd -ff GAFF -ipdb JZ4.reduce.H.pdb -omol2 > JZ4.H.min.mol2\n",
      "\n",
      "2019-10-16 12:18:22,816 [MainThread  ] [INFO ]  Exit code 0\n",
      "\n",
      "2019-10-16 12:18:22,817 [MainThread  ] [INFO ]  \n",
      "A T O M   T Y P E S\n",
      "\n",
      "IDX\tTYPE\tRING\n",
      "1\tc3\tNO\n",
      "2\tca\tAR\n",
      "3\tca\tAR\n",
      "4\tca\tAR\n",
      "5\tca\tAR\n",
      "6\tca\tAR\n",
      "7\tca\tAR\n",
      "8\tc3\tNO\n",
      "9\tc3\tNO\n",
      "10\toh\tNO\n",
      "11\tho\tNO\n",
      "12\thc\tNO\n",
      "13\thc\tNO\n",
      "14\tha\tNO\n",
      "15\tha\tNO\n",
      "16\tha\tNO\n",
      "17\thc\tNO\n",
      "18\thc\tNO\n",
      "19\thc\tNO\n",
      "20\thc\tNO\n",
      "21\thc\tNO\n",
      "22\tha\tNO\n",
      "\n",
      "C H A R G E S\n",
      "\n",
      "IDX\tCHARGE\n",
      "1\t-0.064979\n",
      "2\t-0.061278\n",
      "3\t-0.058294\n",
      "4\t-0.019907\n",
      "5\t0.120013\n",
      "6\t-0.055115\n",
      "7\t-0.005954\n",
      "8\t-0.024481\n",
      "9\t-0.051799\n",
      "10\t-0.506496\n",
      "11\t0.292144\n",
      "12\t0.026577\n",
      "13\t0.031423\n",
      "14\t0.065403\n",
      "15\t0.061871\n",
      "16\t0.061769\n",
      "17\t0.022987\n",
      "18\t0.022987\n",
      "19\t0.022987\n",
      "20\t0.026577\n",
      "21\t0.031423\n",
      "22\t0.062142\n",
      "\n",
      "S E T T I N G   U P   C A L C U L A T I O N S\n",
      "\n",
      "SETTING UP BOND CALCULATIONS...\n",
      "SETTING UP ANGLE CALCULATIONS...\n",
      "SETTING UP TORSION CALCULATIONS...\n",
      "SETTING UP IMPROPER TORSION CALCULATIONS...\n",
      "SETTING UP VAN DER WAALS CALCULATIONS...\n",
      "SETTING UP ELECTROSTATIC CALCULATIONS...\n",
      "\n",
      "S T E E P E S T   D E S C E N T\n",
      "\n",
      "STEPS = 2500\n",
      "\n",
      "STEP n       E(n)         E(n-1)    \n",
      "------------------------------------\n",
      "    0      50.048      ----\n",
      "   10    36.21724    36.73363\n",
      "   20    32.62519    32.90050\n",
      "   30    30.42176    30.60740\n",
      "   40    28.84022    28.98002\n",
      "   50    27.60107    27.71398\n",
      "   60    26.57419    26.66957\n",
      "   70    25.69242    25.77532\n",
      "   80    24.91809    24.99145\n",
      "   90    24.22825    24.29392\n",
      "  100    23.60848    23.66758\n",
      "  110    23.04960    23.10303\n",
      "  120    22.54147    22.59027\n",
      "  130    22.07638    22.12112\n",
      "  140    21.64899    21.69018\n",
      "  150    21.25485    21.29289\n",
      "  160    20.89018    20.92542\n",
      "  170    20.55172    20.58448\n",
      "  180    20.23672    20.26724\n",
      "  190    19.94279    19.97131\n",
      "  200    19.66791    19.69460\n",
      "  210    19.41032    19.43536\n",
      "  220    19.16851    19.19203\n",
      "  230    18.94116    18.96329\n",
      "  240    18.72713    18.74797\n",
      "  250    18.52541    18.54506\n",
      "  260    18.33510    18.35365\n",
      "  270    18.15542    18.17293\n",
      "  280    17.98563    18.00219\n",
      "  290    17.82510    17.84076\n",
      "  300    17.67323    17.68805\n",
      "  310    17.52948    17.54351\n",
      "  320    17.39335    17.40664\n",
      "  330    17.26438    17.27697\n",
      "  340    17.14215    17.15408\n",
      "  350    17.02625    17.03757\n",
      "  360    16.91633    16.92707\n",
      "  370    16.81204    16.82223\n",
      "  380    16.71305    16.72272\n",
      "  390    16.61907    16.62825\n",
      "  400    16.52981    16.53853\n",
      "  410    16.44502    16.45331\n",
      "  420    16.36444    16.37232\n",
      "  430    16.28785    16.29534\n",
      "  440    16.21503    16.22215\n",
      "  450    16.14577    16.15255\n",
      "  460    16.07989    16.08634\n",
      "  470    16.01721    16.02334\n",
      "  480    15.95755    15.96338\n",
      "  490    15.90076    15.90631\n",
      "  500    15.84668    15.85198\n",
      "  510    15.79519    15.80023\n",
      "  520    15.74614    15.75094\n",
      "  530    15.69941    15.70398\n",
      "  540    15.65488    15.65924\n",
      "  550    15.61245    15.61660\n",
      "  560    15.57200    15.57596\n",
      "  570    15.53344    15.53721\n",
      "  580    15.49667    15.50027\n",
      "  590    15.46160    15.46504\n",
      "  600    15.42816    15.43144\n",
      "  610    15.39626    15.39939\n",
      "  620    15.36583    15.36881\n",
      "  630    15.33679    15.33963\n",
      "  640    15.30908    15.31179\n",
      "  650    15.28263    15.28522\n",
      "  660    15.25739    15.25986\n",
      "  670    15.23329    15.23565\n",
      "  680    15.21029    15.21254\n",
      "  690    15.18832    15.19047\n",
      "  700    15.16735    15.16940\n",
      "  710    15.14731    15.14928\n",
      "  720    15.12818    15.13005\n",
      "  730    15.10990    15.11169\n",
      "  740    15.09243    15.09415\n",
      "  750    15.07575    15.07738\n",
      "  760    15.05980    15.06137\n",
      "  770    15.04456    15.04606\n",
      "  780    15.03000    15.03143\n",
      "  790    15.01607    15.01744\n",
      "  800    15.00276    15.00406\n",
      "  810    14.99003    14.99127\n",
      "  820    14.97785    14.97904\n",
      "  830    14.96620    14.96734\n",
      "  840    14.95506    14.95615\n",
      "  850    14.94439    14.94544\n",
      "  860    14.93419    14.93519\n",
      "  870    14.92442    14.92538\n",
      "  880    14.91507    14.91598\n",
      "  890    14.90611    14.90699\n",
      "  900    14.89753    14.89837\n",
      "  910    14.88931    14.89011\n",
      "  920    14.88143    14.88220\n",
      "  930    14.87388    14.87462\n",
      "  940    14.86663    14.86735\n",
      "  950    14.85969    14.86037\n",
      "  960    14.85302    14.85368\n",
      "  970    14.84662    14.84725\n",
      "  980    14.84048    14.84108\n",
      "  990    14.83458    14.83516\n",
      " 1000    14.82891    14.82946\n",
      " 1010    14.82345    14.82399\n",
      " 1020    14.81821    14.81873\n",
      " 1030    14.81316    14.81366\n",
      " 1040    14.80831    14.80878\n",
      " 1050    14.80362    14.80409\n",
      " 1060    14.79911    14.79956\n",
      " 1070    14.79476    14.79519\n",
      " 1080    14.79056    14.79098\n",
      " 1090    14.78650    14.78691\n",
      " 1100    14.78258    14.78297\n",
      " 1110    14.77879    14.77917\n",
      " 1120    14.77512    14.77548\n",
      " 1130    14.77156    14.77191\n",
      " 1140    14.76835    14.76859\n",
      " 1150    14.76655    14.76671\n",
      " 1160    14.76491    14.76508\n",
      " 1170    14.76332    14.76348\n",
      " 1180    14.76177    14.76192\n",
      " 1190    14.76025    14.76040\n",
      " 1200    14.75876    14.75891\n",
      " 1210    14.75731    14.75746\n",
      " 1220    14.75589    14.75603\n",
      " 1230    14.75450    14.75464\n",
      " 1240    14.75315    14.75328\n",
      " 1250    14.75181    14.75195\n",
      " 1260    14.75051    14.75064\n",
      " 1270    14.74924    14.74936\n",
      " 1280    14.74798    14.74811\n",
      " 1290    14.74676    14.74688\n",
      " 1300    14.74556    14.74568\n",
      " 1310    14.74438    14.74449\n",
      " 1320    14.74322    14.74333\n",
      " 1330    14.74208    14.74220\n",
      " 1340    14.74097    14.74108\n",
      " 1350    14.73987    14.73998\n",
      " 1360    14.73880    14.73890\n",
      " 1370    14.73774    14.73784\n",
      " 1380    14.73669    14.73680\n",
      " 1390    14.73567    14.73577\n",
      " 1400    14.73466    14.73476\n",
      " 1410    14.73367    14.73377\n",
      " 1420    14.73269    14.73279\n",
      " 1430    14.73173    14.73182\n",
      " 1440    14.73078    14.73087\n",
      " 1450    14.72984    14.72993\n",
      " 1460    14.72891    14.72901\n",
      " 1470    14.72800    14.72809\n",
      " 1480    14.72710    14.72719\n",
      " 1490    14.72621    14.72630\n",
      " 1500    14.72549    14.72554\n",
      " 1510    14.72504    14.72509\n",
      " 1520    14.72461    14.72466\n",
      " 1530    14.72419    14.72423\n",
      " 1540    14.72377    14.72381\n",
      " 1550    14.72336    14.72340\n",
      " 1560    14.72295    14.72299\n",
      " 1570    14.72255    14.72259\n",
      " 1580    14.72216    14.72220\n",
      " 1590    14.72177    14.72181\n",
      " 1600    14.72138    14.72142\n",
      " 1610    14.72100    14.72104\n",
      " 1620    14.72063    14.72067\n",
      " 1630    14.72026    14.72030\n",
      " 1640    14.71989    14.71993\n",
      " 1650    14.71953    14.71957\n",
      " 1660    14.71918    14.71921\n",
      " 1670    14.71883    14.71886\n",
      " 1680    14.71848    14.71851\n",
      " 1690    14.71813    14.71817\n",
      " 1700    14.71780    14.71783\n",
      " 1710    14.71746    14.71749\n",
      " 1720    14.71713    14.71716\n",
      " 1730    14.71680    14.71683\n",
      " 1740    14.71648    14.71651\n",
      " 1750    14.71616    14.71619\n",
      " 1760    14.71584    14.71587\n",
      " 1770    14.71553    14.71556\n",
      " 1780    14.71522    14.71525\n",
      " 1790    14.71491    14.71495\n",
      " 1800    14.71461    14.71464\n",
      " 1810    14.71431    14.71434\n",
      " 1820    14.71402    14.71405\n",
      " 1830    14.71372    14.71375\n",
      " 1840    14.71344    14.71346\n",
      " 1850    14.71323    14.71324\n",
      " 1860    14.71308    14.71309\n",
      " 1870    14.71293    14.71294\n",
      " 1880    14.71278    14.71280\n",
      " 1890    14.71264    14.71265\n",
      " 1900    14.71250    14.71251\n",
      " 1910    14.71236    14.71237\n",
      " 1920    14.71222    14.71223\n",
      " 1930    14.71208    14.71209\n",
      " 1940    14.71194    14.71196\n",
      " 1950    14.71181    14.71182\n",
      " 1960    14.71168    14.71169\n",
      " 1970    14.71155    14.71156\n",
      " 1980    14.71142    14.71144\n",
      " 1990    14.71130    14.71131\n",
      " 2000    14.71117    14.71119\n",
      " 2010    14.71105    14.71107\n",
      " 2020    14.71093    14.71095\n",
      " 2030    14.71082    14.71083\n",
      " 2040    14.71070    14.71071\n",
      " 2050    14.71058    14.71060\n",
      " 2060    14.71047    14.71048\n",
      " 2070    14.71036    14.71037\n",
      " 2080    14.71025    14.71026\n",
      " 2090    14.71014    14.71015\n",
      " 2100    14.71003    14.71005\n",
      " 2110    14.70993    14.70994\n",
      " 2120    14.70982    14.70983\n",
      " 2130    14.70972    14.70973\n",
      " 2140    14.70962    14.70963\n",
      " 2150    14.70952    14.70953\n",
      " 2160    14.70942    14.70943\n",
      " 2170    14.70933    14.70934\n",
      " 2180    14.70923    14.70924\n",
      " 2190    14.70914    14.70915\n",
      " 2200    14.70904    14.70905\n",
      " 2210    14.70896    14.70896\n",
      " 2220    14.70889    14.70890\n",
      " 2230    14.70884    14.70885\n",
      " 2240    14.70879    14.70880\n",
      " 2250    14.70874    14.70875\n",
      " 2260    14.70869    14.70870\n",
      " 2270    14.70865    14.70865\n",
      " 2280    14.70860    14.70860\n",
      " 2290    14.70855    14.70856\n",
      " 2300    14.70851    14.70851\n",
      " 2310    14.70846    14.70847\n",
      " 2320    14.70842    14.70842\n",
      " 2330    14.70837    14.70838\n",
      " 2340    14.70833    14.70833\n",
      " 2350    14.70829    14.70829\n",
      " 2360    14.70825    14.70825\n",
      " 2370    14.70820    14.70821\n",
      " 2380    14.70816    14.70817\n",
      " 2390    14.70812    14.70813\n",
      " 2400    14.70808    14.70809\n",
      " 2410    14.70805    14.70805\n",
      " 2420    14.70801    14.70801\n",
      " 2430    14.70797    14.70797\n",
      " 2440    14.70793    14.70794\n",
      " 2450    14.70790    14.70790\n",
      " 2460    14.70786    14.70786\n",
      " 2470    14.70783    14.70783\n",
      " 2480    14.70779    14.70779\n",
      " 2490    14.70776    14.70776\n",
      " 2500    14.70772    14.70773\n",
      "Time: 0.510417seconds. Iterations per second: 4899.92\n",
      "\n"
     ]
    },
    {
     "data": {
      "text/plain": [
       "0"
      ]
     },
     "execution_count": 8,
     "metadata": {},
     "output_type": "execute_result"
    }
   ],
   "source": [
    "# Create Ligand system topology, STEP 2\n",
    "# Babel_minimize: Structure energy minimization of a small molecule after being modified adding hydrogen atoms\n",
    "# Import module\n",
    "from biobb_chemistry.babelm.babel_minimize import BabelMinimize\n",
    "\n",
    "# Create prop dict and inputs/outputs\n",
    "output_babel_min = ligandCode+'.H.min.mol2'                              \n",
    "prop = {\n",
    "    'method' : 'sd',\n",
    "    'criteria' : '1e-10',\n",
    "    'force_field' : 'GAFF'\n",
    "}\n",
    "\n",
    "\n",
    "# Create and launch bb\n",
    "BabelMinimize(input_path=output_reduce_h,\n",
    "              output_path=output_babel_min,\n",
    "              properties=prop).launch()"
   ]
  },
  {
   "cell_type": "markdown",
   "metadata": {},
   "source": [
    "### Visualizing 3D structures\n",
    "Visualizing the small molecule generated **PDB structures** using **NGL**:  \n",
    "- **Original Ligand Structure** (Left)\n",
    "- **Ligand Structure with hydrogen atoms added** (with Reduce program) (Center)\n",
    "- **Ligand Structure with hydrogen atoms added** (with Reduce program), **energy minimized** (with Open Babel) (Right) "
   ]
  },
  {
   "cell_type": "code",
   "execution_count": 9,
   "metadata": {},
   "outputs": [
    {
     "data": {
      "application/vnd.jupyter.widget-view+json": {
       "model_id": "59df3059d58546658b74382502765720",
       "version_major": 2,
       "version_minor": 0
      },
      "text/plain": [
       "HBox(children=(NGLWidget(), NGLWidget(), NGLWidget()))"
      ]
     },
     "metadata": {},
     "output_type": "display_data"
    }
   ],
   "source": [
    "# Show different structures generated (for comparison)\n",
    "\n",
    "view1 = nglview.show_file(ligandFile)\n",
    "view1.add_representation(repr_type='ball+stick')\n",
    "view1._remote_call('setSize', target='Widget', args=['350px','400px'])\n",
    "view1.camera='orthographic'\n",
    "view1\n",
    "view2 = nglview.show_file(output_reduce_h)\n",
    "view2.add_representation(repr_type='ball+stick')\n",
    "view2._remote_call('setSize', target='Widget', args=['350px','400px'])\n",
    "view2.camera='orthographic'\n",
    "view2\n",
    "view3 = nglview.show_file(output_babel_min)\n",
    "view3.add_representation(repr_type='ball+stick')\n",
    "view3._remote_call('setSize', target='Widget', args=['350px','400px'])\n",
    "view3.camera='orthographic'\n",
    "view3\n",
    "ipywidgets.HBox([view1, view2, view3])"
   ]
  },
  {
   "cell_type": "markdown",
   "metadata": {},
   "source": [
    "<a id=\"ligandTopologyStep3\"></a>\n",
    "### Step 3: Generate **ligand topology** (parameters)."
   ]
  },
  {
   "cell_type": "code",
   "execution_count": 10,
   "metadata": {},
   "outputs": [
    {
     "name": "stderr",
     "output_type": "stream",
     "text": [
      "2019-10-16 12:18:26,814 [MainThread  ] [INFO ]  Running acpype, this execution can take a while\n",
      "2019-10-16 12:18:28,820 [MainThread  ] [INFO ]  acpype -i /home/gbayarri_local/projects/BioBB/tutorials/biobb_wf_protein-complex_md_setup/biobb_wf_protein-complex_md_setup/notebooks/JZ4.H.min.mol2 -b JZ4params.d2F0h2 -n 0\n",
      "\n",
      "2019-10-16 12:18:28,821 [MainThread  ] [INFO ]  Exit code 0\n",
      "\n",
      "2019-10-16 12:18:28,822 [MainThread  ] [INFO ]  ========================================================================================\n",
      "| ACPYPE: AnteChamber PYthon Parser interfacE v. 2018-04-24T22:34:57UTC (c) 2019 AWSdS |\n",
      "========================================================================================\n",
      "==> ... charge set to 0\n",
      "==> Executing Antechamber...\n",
      "==> * Antechamber OK *\n",
      "==> * Parmchk OK *\n",
      "==> Executing Tleap...\n",
      "++++++++++start_quote+++++++++++++++++++++++++++++++++++++++++++++++++++++++++++\n",
      "Checking 'JZ4'....\n",
      "Checking parameters for unit 'JZ4'.\n",
      "Checking for bond parameters.\n",
      "Checking for angle parameters.\n",
      "Unit is OK.\n",
      "++++++++++end_quote+++++++++++++++++++++++++++++++++++++++++++++++++++++++++++++\n",
      "==> * Tleap OK *\n",
      "==> Removing temporary files...\n",
      "==> Writing NEW PDB file\n",
      "\n",
      "==> Writing CNS/XPLOR files\n",
      "\n",
      "==> Writing GROMACS files\n",
      "\n",
      "==> Writing GMX dihedrals for GMX 4.5 and higher.\n",
      "\n",
      "==> Writing CHARMM files\n",
      "\n",
      "==> Writing pickle file JZ4params.d2F0h2.pkl\n",
      "Total time of execution: 2s\n",
      "\n",
      "2019-10-16 12:18:28,826 [MainThread  ] [INFO ]  File JZ4params.top succesfully created\n",
      "2019-10-16 12:18:28,828 [MainThread  ] [INFO ]  File JZ4params.gro succesfully created\n",
      "2019-10-16 12:18:28,830 [MainThread  ] [INFO ]  File JZ4params.itp succesfully created\n",
      "2019-10-16 12:18:28,832 [MainThread  ] [INFO ]  Removed temporary folder: JZ4params.d2F0h2.acpype\n"
     ]
    },
    {
     "data": {
      "text/plain": [
       "0"
      ]
     },
     "execution_count": 10,
     "metadata": {},
     "output_type": "execute_result"
    }
   ],
   "source": [
    "# Create Ligand system topology, STEP 3\n",
    "# Acpype_params_gmx: Generation of topologies for GROMACS with ACPype\n",
    "# Import module\n",
    "from biobb_chemistry.acpype.acpype_params_gmx import AcpypeParamsGMX\n",
    "\n",
    "# Create prop dict and inputs/outputs\n",
    "output_acpype_gro = ligandCode+'params.gro'\n",
    "output_acpype_itp = ligandCode+'params.itp'\n",
    "output_acpype_top = ligandCode+'params.top'\n",
    "output_acpype = ligandCode+'params'\n",
    "prop = {\n",
    "    'basename' : output_acpype,\n",
    "    'charge' : mol_charge\n",
    "}\n",
    "\n",
    "# Create and launch bb\n",
    "AcpypeParamsGMX(input_path=output_babel_min, \n",
    "                output_path_gro=output_acpype_gro,\n",
    "                output_path_itp=output_acpype_itp,\n",
    "                output_path_top=output_acpype_top,\n",
    "                properties=prop).launch()"
   ]
  },
  {
   "cell_type": "markdown",
   "metadata": {},
   "source": [
    "<a id=\"restraints\"></a>\n",
    "***\n",
    "## Preparing Ligand Restraints\n",
    "In subsequent steps of the pipeline, such as the equilibration stages of the **protein-ligand complex** system, it is recommended to apply some **restraints** to the small molecule, to avoid a possible change in position due to protein repulsion. **Position restraints** will be applied to the ligand, using a **force constant of 1000 KJ/mol\\*nm^2** on the three coordinates: x, y and z. In this steps the **restriction files** will be created and integrated in the **ligand topology**.\n",
    "- [Step 1](#restraintsStep1): Creating an index file with a new group including just the **small molecule heavy atoms**.\n",
    "- [Step 2](#restraintsStep2): Generating the **position restraints** file.\n",
    "***\n",
    "**Building Blocks** used:\n",
    " - [MakeNdx](https://biobb-md.readthedocs.io/en/latest/gromacs.html#module-gromacs.make_ndx) from **biobb_md.gromacs.make_ndx** \n",
    " - [Genrestr](https://biobb-md.readthedocs.io/en/latest/gromacs.html#module-gromacs.genrestr) from **biobb_md.gromacs.genrestr** \n",
    "***"
   ]
  },
  {
   "cell_type": "markdown",
   "metadata": {},
   "source": [
    "<a id=\"restraintsStep1\"></a>\n",
    "### Step 1: Creating an index file for the small molecule heavy atoms"
   ]
  },
  {
   "cell_type": "code",
   "execution_count": 11,
   "metadata": {},
   "outputs": [
    {
     "name": "stderr",
     "output_type": "stream",
     "text": [
      "2019-10-16 12:18:31,338 [MainThread  ] [INFO ]  GROMACS MakeNdx 20191 version detected\n",
      "2019-10-16 12:18:31,354 [MainThread  ] [INFO ]  echo \"0 & ! a H* \n",
      " q\" | gmx -nobackup -nocopyright make_ndx -f JZ4params.gro -o JZ4_index.ndx\n",
      "\n",
      "2019-10-16 12:18:31,356 [MainThread  ] [INFO ]  Exit code 0\n",
      "\n",
      "2019-10-16 12:18:31,357 [MainThread  ] [INFO ]  Going to read 0 old index file(s)\n",
      "Analysing residue names:\n",
      "There are:     1      Other residues\n",
      "Analysing residues not classified as Protein/DNA/RNA/Water and splitting into groups...\n",
      "\n",
      "  0 System              :    22 atoms\n",
      "  1 Other               :    22 atoms\n",
      "  2 JZ4                 :    22 atoms\n",
      "\n",
      " nr : group      '!': not  'name' nr name   'splitch' nr    Enter: list groups\n",
      " 'a': atom       '&': and  'del' nr         'splitres' nr   'l': list residues\n",
      " 't': atom type  '|': or   'keep' nr        'splitat' nr    'h': help\n",
      " 'r': residue              'res' nr         'chain' char\n",
      " \"name\": group             'case': case sensitive           'q': save and quit\n",
      " 'ri': residue index\n",
      "\n",
      "> \n",
      "Copied index group 0 'System'\n",
      "Found 12 atoms with name H*\n",
      "Complemented group: 10 atoms\n",
      "Merged two groups with AND: 22 10 -> 10\n",
      "\n",
      "  3 System_&_!H*        :    10 atoms\n",
      "\n",
      "> \n",
      "\n",
      "2019-10-16 12:18:31,359 [MainThread  ] [INFO ]                       :-) GROMACS - gmx make_ndx, 2019.1 (-:\n",
      "\n",
      "Executable:   /anaconda3/envs/biobb_dev/bin/gmx\n",
      "Data prefix:  /anaconda3/envs/biobb_dev\n",
      "Working dir:  /home/gbayarri_local/projects/BioBB/tutorials/biobb_wf_protein-complex_md_setup/biobb_wf_protein-complex_md_setup/notebooks\n",
      "Command line:\n",
      "  gmx -nobackup -nocopyright make_ndx -f JZ4params.gro -o JZ4_index.ndx\n",
      "\n",
      "\n",
      "Reading structure file\n",
      "\n",
      "GROMACS reminds you: \"The public have an insatiable curiosity to know everything, except what is worth knowing.\" (Oscar Wilde)\n",
      "\n",
      "\n"
     ]
    },
    {
     "data": {
      "text/plain": [
       "0"
      ]
     },
     "execution_count": 11,
     "metadata": {},
     "output_type": "execute_result"
    }
   ],
   "source": [
    "# MakeNdx: Creating index file with a new group (small molecule heavy atoms)\n",
    "from biobb_md.gromacs.make_ndx import MakeNdx\n",
    "\n",
    "# Create prop dict and inputs/outputs\n",
    "output_ligand_ndx = ligandCode+'_index.ndx'\n",
    "prop = {\n",
    "    'selection': \"0 & ! a H*\"\n",
    "}\n",
    "\n",
    "# Create and launch bb\n",
    "MakeNdx(input_structure_path=output_acpype_gro,\n",
    "        output_ndx_path=output_ligand_ndx,\n",
    "        properties=prop).launch()"
   ]
  },
  {
   "cell_type": "markdown",
   "metadata": {},
   "source": [
    "<a id=\"restraintsStep2\"></a>\n",
    "### Step 2: Generating the position restraints file"
   ]
  },
  {
   "cell_type": "code",
   "execution_count": 12,
   "metadata": {},
   "outputs": [
    {
     "name": "stderr",
     "output_type": "stream",
     "text": [
      "2019-10-16 12:18:33,326 [MainThread  ] [INFO ]  GROMACS Genrestr 20191 version detected\n",
      "2019-10-16 12:18:33,339 [MainThread  ] [INFO ]  echo \"System\" | gmx -nobackup -nocopyright genrestr -f JZ4params.gro -n JZ4_index.ndx -o JZ4_posres.itp -fc 1000 1000 1000\n",
      "\n",
      "2019-10-16 12:18:33,341 [MainThread  ] [INFO ]  Exit code 0\n",
      "\n",
      "2019-10-16 12:18:33,342 [MainThread  ] [INFO ]  Select group to position restrain\n",
      "Selected 0: 'System'\n",
      "\n",
      "2019-10-16 12:18:33,344 [MainThread  ] [INFO ]                       :-) GROMACS - gmx genrestr, 2019.1 (-:\n",
      "\n",
      "Executable:   /anaconda3/envs/biobb_dev/bin/gmx\n",
      "Data prefix:  /anaconda3/envs/biobb_dev\n",
      "Working dir:  /home/gbayarri_local/projects/BioBB/tutorials/biobb_wf_protein-complex_md_setup/biobb_wf_protein-complex_md_setup/notebooks\n",
      "Command line:\n",
      "  gmx -nobackup -nocopyright genrestr -f JZ4params.gro -n JZ4_index.ndx -o JZ4_posres.itp -fc 1000 1000 1000\n",
      "\n",
      "\n",
      "Reading structure file\n",
      "Group     0 (         System) has    22 elements\n",
      "Group     1 (          Other) has    22 elements\n",
      "Group     2 (            JZ4) has    22 elements\n",
      "Group     3 (   System_&_!H*) has    10 elements\n",
      "Select a group: \n",
      "GROMACS reminds you: \"You Could Be a Shadow\" (The Breeders)\n",
      "\n",
      "\n",
      "2019-10-16 12:18:33,344 [MainThread  ] [INFO ]  Removed: []\n"
     ]
    },
    {
     "data": {
      "text/plain": [
       "0"
      ]
     },
     "execution_count": 12,
     "metadata": {},
     "output_type": "execute_result"
    }
   ],
   "source": [
    "# Genrestr: Generating the position restraints file\n",
    "from biobb_md.gromacs.genrestr import Genrestr\n",
    "\n",
    "# Create prop dict and inputs/outputs\n",
    "output_restraints_top = ligandCode+'_posres.itp'\n",
    "prop = {\n",
    "    'force_constants': \"1000 1000 1000\",\n",
    "    'restrained_group': \"System\"\n",
    "}\n",
    "\n",
    "# Create and launch bb\n",
    "Genrestr(input_structure_path=output_acpype_gro,\n",
    "         input_ndx_path=output_ligand_ndx,\n",
    "         output_itp_path=output_restraints_top,\n",
    "         properties=prop).launch()"
   ]
  },
  {
   "cell_type": "markdown",
   "metadata": {},
   "source": [
    "<a id=\"complex\"></a>\n",
    "***\n",
    "## Create new protein-ligand complex structure file\n",
    "Building new **protein-ligand complex** PDB file with:\n",
    "- The new **protein system** with fixed problems from *Fix Protein Structure* step and hydrogens atoms added from *Create Protein System Topology* step.\n",
    "- The new **ligand system** with hydrogens atoms added from *Create Ligand System Topology* step. \n",
    "\n",
    "This new structure is needed for **GROMACS** as it is **force field-compliant**, it **has all the new hydrogen atoms**, and the **atom names are matching the newly generated protein and ligand topologies**.\n",
    "***\n",
    "**Building Blocks** used:\n",
    " - [GMXTrjConvStr](https://biobb-analysis.readthedocs.io/en/latest/gromacs.html#module-gromacs.gmx_trjconv_str) from **biobb_analysis.gromacs.gmx_trjconv_str**\n",
    "***"
   ]
  },
  {
   "cell_type": "code",
   "execution_count": 13,
   "metadata": {},
   "outputs": [
    {
     "name": "stderr",
     "output_type": "stream",
     "text": [
      "2019-10-16 12:18:35,381 [MainThread  ] [INFO ]  echo \"System\" | gmx trjconv -f /home/gbayarri_local/projects/BioBB/tutorials/biobb_wf_protein-complex_md_setup/biobb_wf_protein-complex_md_setup/notebooks/3HTB_pdb2gmx.gro -s /home/gbayarri_local/projects/BioBB/tutorials/biobb_wf_protein-complex_md_setup/biobb_wf_protein-complex_md_setup/notebooks/3HTB_pdb2gmx.gro -o 3HTB_JZ4_complex_H.pdb\n",
      "\n",
      "2019-10-16 12:18:35,383 [MainThread  ] [INFO ]  Exit code 0\n",
      "\n",
      "2019-10-16 12:18:35,384 [MainThread  ] [INFO ]  Note that major changes are planned in future for trjconv, to improve usability and utility.Select group for output\n",
      "Selected 0: 'System'\n",
      "\n",
      "2019-10-16 12:18:35,385 [MainThread  ] [INFO ]                       :-) GROMACS - gmx trjconv, 2019.1 (-:\n",
      "\n",
      "                            GROMACS is written by:\n",
      "     Emile Apol      Rossen Apostolov      Paul Bauer     Herman J.C. Berendsen\n",
      "    Par Bjelkmar      Christian Blau   Viacheslav Bolnykh     Kevin Boyd    \n",
      " Aldert van Buuren   Rudi van Drunen     Anton Feenstra       Alan Gray     \n",
      "  Gerrit Groenhof     Anca Hamuraru    Vincent Hindriksen  M. Eric Irrgang  \n",
      "  Aleksei Iupinov   Christoph Junghans     Joe Jordan     Dimitrios Karkoulis\n",
      "    Peter Kasson        Jiri Kraus      Carsten Kutzner      Per Larsson    \n",
      "  Justin A. Lemkul    Viveca Lindahl    Magnus Lundborg     Erik Marklund   \n",
      "    Pascal Merz     Pieter Meulenhoff    Teemu Murtola       Szilard Pall   \n",
      "    Sander Pronk      Roland Schulz      Michael Shirts    Alexey Shvetsov  \n",
      "   Alfons Sijbers     Peter Tieleman      Jon Vincent      Teemu Virolainen \n",
      " Christian Wennberg    Maarten Wolf   \n",
      "                           and the project leaders:\n",
      "        Mark Abraham, Berk Hess, Erik Lindahl, and David van der Spoel\n",
      "\n",
      "Copyright (c) 1991-2000, University of Groningen, The Netherlands.\n",
      "Copyright (c) 2001-2018, The GROMACS development team at\n",
      "Uppsala University, Stockholm University and\n",
      "the Royal Institute of Technology, Sweden.\n",
      "check out http://www.gromacs.org for more information.\n",
      "\n",
      "GROMACS is free software; you can redistribute it and/or modify it\n",
      "under the terms of the GNU Lesser General Public License\n",
      "as published by the Free Software Foundation; either version 2.1\n",
      "of the License, or (at your option) any later version.\n",
      "\n",
      "GROMACS:      gmx trjconv, version 2019.1\n",
      "Executable:   /anaconda3/envs/biobb_dev/bin/gmx\n",
      "Data prefix:  /anaconda3/envs/biobb_dev\n",
      "Working dir:  /home/gbayarri_local/projects/BioBB/tutorials/biobb_wf_protein-complex_md_setup/biobb_wf_protein-complex_md_setup/notebooks\n",
      "Command line:\n",
      "  gmx trjconv -f /home/gbayarri_local/projects/BioBB/tutorials/biobb_wf_protein-complex_md_setup/biobb_wf_protein-complex_md_setup/notebooks/3HTB_pdb2gmx.gro -s /home/gbayarri_local/projects/BioBB/tutorials/biobb_wf_protein-complex_md_setup/biobb_wf_protein-complex_md_setup/notebooks/3HTB_pdb2gmx.gro -o 3HTB_JZ4_complex_H.pdb\n",
      "\n",
      "Will write pdb: Protein data bank file\n",
      "Group     0 (         System) has  2614 elements\n",
      "Group     1 (        Protein) has  2614 elements\n",
      "Group     2 (      Protein-H) has  1301 elements\n",
      "Group     3 (        C-alpha) has   163 elements\n",
      "Group     4 (       Backbone) has   489 elements\n",
      "Group     5 (      MainChain) has   653 elements\n",
      "Group     6 (   MainChain+Cb) has   805 elements\n",
      "Group     7 (    MainChain+H) has   815 elements\n",
      "Group     8 (      SideChain) has  1799 elements\n",
      "Group     9 (    SideChain-H) has   648 elements\n",
      "Select a group: Reading frames from gro file 'S  C  A  M  O  R  G', 2614 atoms.\n",
      "Reading frame       0 time    0.000   \n",
      "Precision of /home/gbayarri_local/projects/BioBB/tutorials/biobb_wf_protein-complex_md_setup/biobb_wf_protein-complex_md_setup/notebooks/3HTB_pdb2gmx.gro is 0.001 (nm)\n",
      "\n",
      "Back Off! I just backed up 3HTB_JZ4_complex_H.pdb to ./#3HTB_JZ4_complex_H.pdb.2#\n",
      "Last frame          0 time    0.000   \n",
      "\n",
      "\n",
      "GROMACS reminds you: \"Yeah, a Wuzz, Or a Jerk\" (F. Black)\n",
      "\n",
      "\n",
      "2019-10-16 12:18:35,411 [MainThread  ] [INFO ]  echo \"System\" | gmx trjconv -f /home/gbayarri_local/projects/BioBB/tutorials/biobb_wf_protein-complex_md_setup/biobb_wf_protein-complex_md_setup/notebooks/JZ4params.gro -s /home/gbayarri_local/projects/BioBB/tutorials/biobb_wf_protein-complex_md_setup/biobb_wf_protein-complex_md_setup/notebooks/JZ4params.gro -o JZ4_complex_H.pdb\n",
      "\n",
      "2019-10-16 12:18:35,413 [MainThread  ] [INFO ]  Exit code 0\n",
      "\n",
      "2019-10-16 12:18:35,416 [MainThread  ] [INFO ]  Note that major changes are planned in future for trjconv, to improve usability and utility.Select group for output\n",
      "Selected 0: 'System'\n",
      "\n",
      "2019-10-16 12:18:35,423 [MainThread  ] [INFO ]                       :-) GROMACS - gmx trjconv, 2019.1 (-:\n",
      "\n",
      "                            GROMACS is written by:\n",
      "     Emile Apol      Rossen Apostolov      Paul Bauer     Herman J.C. Berendsen\n",
      "    Par Bjelkmar      Christian Blau   Viacheslav Bolnykh     Kevin Boyd    \n",
      " Aldert van Buuren   Rudi van Drunen     Anton Feenstra       Alan Gray     \n",
      "  Gerrit Groenhof     Anca Hamuraru    Vincent Hindriksen  M. Eric Irrgang  \n",
      "  Aleksei Iupinov   Christoph Junghans     Joe Jordan     Dimitrios Karkoulis\n",
      "    Peter Kasson        Jiri Kraus      Carsten Kutzner      Per Larsson    \n",
      "  Justin A. Lemkul    Viveca Lindahl    Magnus Lundborg     Erik Marklund   \n",
      "    Pascal Merz     Pieter Meulenhoff    Teemu Murtola       Szilard Pall   \n",
      "    Sander Pronk      Roland Schulz      Michael Shirts    Alexey Shvetsov  \n",
      "   Alfons Sijbers     Peter Tieleman      Jon Vincent      Teemu Virolainen \n",
      " Christian Wennberg    Maarten Wolf   \n",
      "                           and the project leaders:\n",
      "        Mark Abraham, Berk Hess, Erik Lindahl, and David van der Spoel\n",
      "\n",
      "Copyright (c) 1991-2000, University of Groningen, The Netherlands.\n",
      "Copyright (c) 2001-2018, The GROMACS development team at\n",
      "Uppsala University, Stockholm University and\n",
      "the Royal Institute of Technology, Sweden.\n",
      "check out http://www.gromacs.org for more information.\n",
      "\n",
      "GROMACS is free software; you can redistribute it and/or modify it\n",
      "under the terms of the GNU Lesser General Public License\n",
      "as published by the Free Software Foundation; either version 2.1\n",
      "of the License, or (at your option) any later version.\n",
      "\n",
      "GROMACS:      gmx trjconv, version 2019.1\n",
      "Executable:   /anaconda3/envs/biobb_dev/bin/gmx\n",
      "Data prefix:  /anaconda3/envs/biobb_dev\n",
      "Working dir:  /home/gbayarri_local/projects/BioBB/tutorials/biobb_wf_protein-complex_md_setup/biobb_wf_protein-complex_md_setup/notebooks\n",
      "Command line:\n",
      "  gmx trjconv -f /home/gbayarri_local/projects/BioBB/tutorials/biobb_wf_protein-complex_md_setup/biobb_wf_protein-complex_md_setup/notebooks/JZ4params.gro -s /home/gbayarri_local/projects/BioBB/tutorials/biobb_wf_protein-complex_md_setup/biobb_wf_protein-complex_md_setup/notebooks/JZ4params.gro -o JZ4_complex_H.pdb\n",
      "\n",
      "Will write pdb: Protein data bank file\n",
      "Group     0 (         System) has    22 elements\n",
      "Group     1 (          Other) has    22 elements\n",
      "Group     2 (            JZ4) has    22 elements\n",
      "Select a group: Reading frames from gro file 'JZ4params_GMX.gro created by acpype (v: 2018-04-24T22:34:57UTC) on Wed Oct 16 12:18:27 2019', 22 atoms.\n",
      "Reading frame       0 time    0.000   \n",
      "Precision of /home/gbayarri_local/projects/BioBB/tutorials/biobb_wf_protein-complex_md_setup/biobb_wf_protein-complex_md_setup/notebooks/JZ4params.gro is 0.001 (nm)\n",
      "\n",
      "Back Off! I just backed up JZ4_complex_H.pdb to ./#JZ4_complex_H.pdb.2#\n",
      "Last frame          0 time    0.000   \n",
      "\n",
      "\n",
      "GROMACS reminds you: \"There's Still Time to Change the Road You're On\" (Led Zeppelin)\n",
      "\n",
      "\n",
      "2019-10-16 12:18:35,434 [MainThread  ] [INFO ]  File 3HTB_JZ4_H.pdb created\n"
     ]
    },
    {
     "data": {
      "text/plain": [
       "1"
      ]
     },
     "execution_count": 13,
     "metadata": {},
     "output_type": "execute_result"
    }
   ],
   "source": [
    "# biobb analysis module\n",
    "from biobb_analysis.gromacs.gmx_trjconv_str import GMXTrjConvStr\n",
    "from biobb_structure_utils.utils.cat_pdb import CatPDB\n",
    "\n",
    "# Convert gro (with hydrogens) to pdb (PROTEIN)\n",
    "proteinFile_H = pdbCode+'_'+ligandCode+'_complex_H.pdb'\n",
    "prop = {\n",
    "    'selection' : 'System'\n",
    "}\n",
    "\n",
    "# Create and launch bb\n",
    "GMXTrjConvStr(input_structure_path=output_pdb2gmx_gro,\n",
    "              input_top_path=output_pdb2gmx_gro,\n",
    "              output_str_path=proteinFile_H, \n",
    "              properties=prop).launch()\n",
    "\n",
    "# Convert gro (with hydrogens) to pdb (LIGAND)\n",
    "ligandFile_H = ligandCode+'_complex_H.pdb'\n",
    "prop = {\n",
    "    'selection' : 'System'\n",
    "}\n",
    "\n",
    "# Create and launch bb\n",
    "GMXTrjConvStr(input_structure_path=output_acpype_gro,\n",
    "              input_top_path=output_acpype_gro,\n",
    "              output_str_path=ligandFile_H, \n",
    "              properties=prop).launch()\n",
    "\n",
    "\n",
    "# Concatenating both PDB files: Protein + Ligand\n",
    "complexFile_H = pdbCode+'_'+ligandCode+'_H.pdb'\n",
    "\n",
    "# Create and launch bb\n",
    "CatPDB(input_structure1=proteinFile_H,\n",
    "       input_structure2=ligandFile_H,\n",
    "       output_structure_path=complexFile_H).launch()"
   ]
  },
  {
   "cell_type": "markdown",
   "metadata": {},
   "source": [
    "<a id=\"complextop\"></a>\n",
    "***\n",
    "## Create new protein-ligand complex topology file\n",
    "Building new **protein-ligand complex** GROMACS topology file with:\n",
    "- The new **protein system** topology generated from *Create Protein System Topology* step.\n",
    "- The new **ligand system** topology generated from *Create Ligand System Topology* step. \n",
    "\n",
    "NOTE: From this point on, the **protein-ligand complex structure and topology** generated can be used in a regular MD setup.\n",
    "***\n",
    "**Building Blocks** used:\n",
    " - [AppendLigand](https://biobb-md.readthedocs.io/en/latest/modules.html) from **biobb_md.gromacs_extra.append_ligand**  (NOTE: link should be updated with the documentation)\n",
    "***"
   ]
  },
  {
   "cell_type": "code",
   "execution_count": 14,
   "metadata": {},
   "outputs": [
    {
     "name": "stderr",
     "output_type": "stream",
     "text": [
      "2019-10-16 12:18:37,053 [MainThread  ] [INFO ]  Extracting: /home/gbayarri_local/projects/BioBB/tutorials/biobb_wf_protein-complex_md_setup/biobb_wf_protein-complex_md_setup/notebooks/3HTB_pdb2gmx_top.zip\n",
      "2019-10-16 12:18:37,055 [MainThread  ] [INFO ]  to:\n",
      "2019-10-16 12:18:37,056 [MainThread  ] [INFO ]  ['2f1bad50-8013-4b63-b9dd-8ec680ebc5c3/p2g.top', '2f1bad50-8013-4b63-b9dd-8ec680ebc5c3/posre.itp']\n",
      "2019-10-16 12:18:37,058 [MainThread  ] [INFO ]  Unzipping: \n",
      "2019-10-16 12:18:37,059 [MainThread  ] [INFO ]  3HTB_pdb2gmx_top.zip\n",
      "2019-10-16 12:18:37,060 [MainThread  ] [INFO ]  To: \n",
      "2019-10-16 12:18:37,061 [MainThread  ] [INFO ]  2f1bad50-8013-4b63-b9dd-8ec680ebc5c3/p2g.top\n",
      "2019-10-16 12:18:37,062 [MainThread  ] [INFO ]  2f1bad50-8013-4b63-b9dd-8ec680ebc5c3/posre.itp\n",
      "2019-10-16 12:18:37,105 [MainThread  ] [INFO ]  Compressing topology to: 3HTB_JZ4_complex.top.zip\n",
      "2019-10-16 12:18:37,106 [MainThread  ] [INFO ]  Ignored file 2f1bad50-8013-4b63-b9dd-8ec680ebc5c3/amber99sb-ildn.ff/forcefield.itp\n",
      "2019-10-16 12:18:37,131 [MainThread  ] [INFO ]  Ignored file 2f1bad50-8013-4b63-b9dd-8ec680ebc5c3/amber99sb-ildn.ff/spce.itp\n",
      "2019-10-16 12:18:37,132 [MainThread  ] [INFO ]  Ignored file 2f1bad50-8013-4b63-b9dd-8ec680ebc5c3/amber99sb-ildn.ff/ions.itp\n",
      "2019-10-16 12:18:37,145 [MainThread  ] [INFO ]  Adding:\n",
      "2019-10-16 12:18:37,147 [MainThread  ] [INFO ]  ['2f1bad50-8013-4b63-b9dd-8ec680ebc5c3/JZ4_posres.itp', '2f1bad50-8013-4b63-b9dd-8ec680ebc5c3/JZ4params.itp', '2f1bad50-8013-4b63-b9dd-8ec680ebc5c3/ligand.top', '2f1bad50-8013-4b63-b9dd-8ec680ebc5c3/posre.itp']\n",
      "2019-10-16 12:18:37,148 [MainThread  ] [INFO ]  to: /home/gbayarri_local/projects/BioBB/tutorials/biobb_wf_protein-complex_md_setup/biobb_wf_protein-complex_md_setup/notebooks/3HTB_JZ4_complex.top.zip\n",
      "2019-10-16 12:18:37,151 [MainThread  ] [INFO ]  Removed: ['2f1bad50-8013-4b63-b9dd-8ec680ebc5c3']\n"
     ]
    },
    {
     "name": "stdout",
     "output_type": "stream",
     "text": [
      " JZ4params 3\n",
      "\n"
     ]
    },
    {
     "data": {
      "text/plain": [
       "0"
      ]
     },
     "execution_count": 14,
     "metadata": {},
     "output_type": "execute_result"
    }
   ],
   "source": [
    "# AppendLigand: Append a ligand to a GROMACS topology\n",
    "# Import module\n",
    "from biobb_md.gromacs_extra.append_ligand import AppendLigand\n",
    "\n",
    "# Create prop dict and inputs/outputs\n",
    "output_complex_top = pdbCode+'_'+ligandCode+'_complex.top.zip'\n",
    "\n",
    "posresifdef = \"POSRES_\"+ligandCode.upper()\n",
    "prop = {\n",
    "    'posres_name': posresifdef\n",
    "}\n",
    "\n",
    "# Create and launch bb\n",
    "AppendLigand(input_top_zip_path=output_pdb2gmx_top_zip,\n",
    "             input_posres_itp_path=output_restraints_top,\n",
    "             input_itp_path=output_acpype_itp, \n",
    "             output_top_zip_path=output_complex_top,\n",
    "             properties=prop).launch()"
   ]
  },
  {
   "cell_type": "markdown",
   "metadata": {},
   "source": [
    "<a id=\"box\"></a>\n",
    "***\n",
    "## Create solvent box\n",
    "Define the unit cell for the **protein-ligand complex** to fill it with water molecules.<br>\n",
    "**Truncated octahedron** box is used for the unit cell. This box type is the one which best reflects the geometry of the solute/protein, in this case a **globular protein**, as it approximates a sphere. It is also convenient for the computational point of view, as it accumulates **less water molecules at the corners**, reducing the final number of water molecules in the system and making the simulation run faster.<br> A **protein to box** distance of **0.8 nm** is used, and the protein is **centered in the box**.  \n",
    "\n",
    "***\n",
    "**Building Blocks** used:\n",
    " - [Editconf](https://biobb-md.readthedocs.io/en/latest/gromacs.html#module-gromacs.editconf) from **biobb_md.gromacs.editconf** \n",
    "***"
   ]
  },
  {
   "cell_type": "code",
   "execution_count": 15,
   "metadata": {},
   "outputs": [
    {
     "name": "stderr",
     "output_type": "stream",
     "text": [
      "2019-10-16 12:18:38,697 [MainThread  ] [INFO ]  GROMACS Editconf 20191 version detected\n",
      "2019-10-16 12:18:38,698 [MainThread  ] [INFO ]  Centering molecule in the box.\n",
      "2019-10-16 12:18:38,699 [MainThread  ] [INFO ]  Distance of the box to molecule:   0.80\n",
      "2019-10-16 12:18:38,700 [MainThread  ] [INFO ]  Box type: octahedron\n",
      "2019-10-16 12:18:38,759 [MainThread  ] [INFO ]  gmx -nobackup -nocopyright editconf -f 3HTB_JZ4_H.pdb -o 3HTB_JZ4_complex_editconf.gro -d 0.8 -bt octahedron -c\n",
      "\n",
      "2019-10-16 12:18:38,761 [MainThread  ] [INFO ]  Exit code 0\n",
      "\n",
      "2019-10-16 12:18:38,761 [MainThread  ] [INFO ]  Note that major changes are planned in future for editconf, to improve usability and utility.Read 2636 atoms\n",
      "Volume: 1322.64 nm^3, corresponds to roughly 595100 electrons\n",
      "No velocities found\n",
      "    system size :  4.069  4.192  5.073 (nm)\n",
      "    diameter    :  5.849               (nm)\n",
      "    center      :  2.241 -1.669 -0.935 (nm)\n",
      "    box vectors :  8.398 10.808 14.572 (nm)\n",
      "    box angles  :  90.00  90.00  90.00 (degrees)\n",
      "    box volume  :1322.64               (nm^3)\n",
      "    shift       :  1.483  6.937  3.976 (nm)\n",
      "new center      :  3.725  5.267  3.041 (nm)\n",
      "new box vectors :  7.449  7.449  7.449 (nm)\n",
      "new box angles  :  70.53 109.47  70.53 (degrees)\n",
      "new box volume  : 318.21               (nm^3)\n",
      "\n",
      "2019-10-16 12:18:38,762 [MainThread  ] [INFO ]                       :-) GROMACS - gmx editconf, 2019.1 (-:\n",
      "\n",
      "Executable:   /anaconda3/envs/biobb_dev/bin/gmx\n",
      "Data prefix:  /anaconda3/envs/biobb_dev\n",
      "Working dir:  /home/gbayarri_local/projects/BioBB/tutorials/biobb_wf_protein-complex_md_setup/biobb_wf_protein-complex_md_setup/notebooks\n",
      "Command line:\n",
      "  gmx -nobackup -nocopyright editconf -f 3HTB_JZ4_H.pdb -o 3HTB_JZ4_complex_editconf.gro -d 0.8 -bt octahedron -c\n",
      "\n",
      "\n",
      "GROMACS reminds you: \"There's no way you can rely on an experiment\" (Gerrit Groenhof)\n",
      "\n",
      "\n",
      "2019-10-16 12:18:38,763 [MainThread  ] [INFO ]  Removed: []\n"
     ]
    },
    {
     "data": {
      "text/plain": [
       "0"
      ]
     },
     "execution_count": 15,
     "metadata": {},
     "output_type": "execute_result"
    }
   ],
   "source": [
    "# Editconf: Create solvent box\n",
    "# Import module\n",
    "from biobb_md.gromacs.editconf import Editconf\n",
    "\n",
    "# Create prop dict and inputs/outputs\n",
    "output_editconf_gro = pdbCode+'_'+ligandCode+'_complex_editconf.gro'\n",
    "\n",
    "prop = {\n",
    "    'box_type': 'octahedron',\n",
    "    'distance_to_molecule': 0.8\n",
    "}\n",
    "\n",
    "# Create and launch bb\n",
    "Editconf(input_gro_path=complexFile_H, \n",
    "         output_gro_path=output_editconf_gro,\n",
    "         properties=prop).launch()"
   ]
  },
  {
   "cell_type": "markdown",
   "metadata": {},
   "source": [
    "<a id=\"water\"></a>\n",
    "***\n",
    "## Fill the box with water molecules\n",
    "Fill the unit cell for the **protein-ligand complex** with water molecules.<br>\n",
    "The solvent type used is the default **Simple Point Charge water (SPC)**, a generic equilibrated 3-point solvent model. \n",
    "\n",
    "***\n",
    "**Building Blocks** used:\n",
    " - [Solvate](https://biobb-md.readthedocs.io/en/latest/gromacs.html#module-gromacs.solvate) from **biobb_md.gromacs.solvate** \n",
    "***"
   ]
  },
  {
   "cell_type": "code",
   "execution_count": 16,
   "metadata": {},
   "outputs": [
    {
     "name": "stderr",
     "output_type": "stream",
     "text": [
      "2019-10-16 12:18:40,457 [MainThread  ] [INFO ]  GROMACS Solvate 20191 version detected\n",
      "2019-10-16 12:18:40,462 [MainThread  ] [INFO ]  Extracting: /home/gbayarri_local/projects/BioBB/tutorials/biobb_wf_protein-complex_md_setup/biobb_wf_protein-complex_md_setup/notebooks/3HTB_JZ4_complex.top.zip\n",
      "2019-10-16 12:18:40,463 [MainThread  ] [INFO ]  to:\n",
      "2019-10-16 12:18:40,464 [MainThread  ] [INFO ]  ['e44cd738-f6e7-4ebc-bd39-b926c5819601/JZ4_posres.itp', 'e44cd738-f6e7-4ebc-bd39-b926c5819601/JZ4params.itp', 'e44cd738-f6e7-4ebc-bd39-b926c5819601/ligand.top', 'e44cd738-f6e7-4ebc-bd39-b926c5819601/posre.itp']\n",
      "2019-10-16 12:18:40,464 [MainThread  ] [INFO ]  Unzipping: \n",
      "2019-10-16 12:18:40,466 [MainThread  ] [INFO ]  3HTB_JZ4_complex.top.zip\n",
      "2019-10-16 12:18:40,466 [MainThread  ] [INFO ]  To: \n",
      "2019-10-16 12:18:40,467 [MainThread  ] [INFO ]  e44cd738-f6e7-4ebc-bd39-b926c5819601/JZ4_posres.itp\n",
      "2019-10-16 12:18:40,468 [MainThread  ] [INFO ]  e44cd738-f6e7-4ebc-bd39-b926c5819601/JZ4params.itp\n",
      "2019-10-16 12:18:40,469 [MainThread  ] [INFO ]  e44cd738-f6e7-4ebc-bd39-b926c5819601/ligand.top\n",
      "2019-10-16 12:18:40,470 [MainThread  ] [INFO ]  e44cd738-f6e7-4ebc-bd39-b926c5819601/posre.itp\n",
      "2019-10-16 12:18:41,042 [MainThread  ] [INFO ]  gmx -nobackup -nocopyright solvate -cp 3HTB_JZ4_complex_editconf.gro -cs spc216.gro -o 3HTB_JZ4_solvate.gro -p e44cd738-f6e7-4ebc-bd39-b926c5819601/ligand.top\n",
      "\n",
      "2019-10-16 12:18:41,044 [MainThread  ] [INFO ]  Exit code 0\n",
      "\n",
      "2019-10-16 12:18:41,044 [MainThread  ] [INFO ]  \n",
      "WARNING: Masses and atomic (Van der Waals) radii will be guessed\n",
      "         based on residue and atom names, since they could not be\n",
      "         definitively assigned from the information in your input\n",
      "         files. These guessed numbers might deviate from the mass\n",
      "         and radius of the atom type. Please check the output\n",
      "         files if necessary.\n",
      "\n",
      "NOTE: From version 5.0 gmx solvate uses the Van der Waals radii\n",
      "from the source below. This means the results may be different\n",
      "compared to previous GROMACS versions.\n",
      "\n",
      "++++ PLEASE READ AND CITE THE FOLLOWING REFERENCE ++++\n",
      "A. Bondi\n",
      "van der Waals Volumes and Radii\n",
      "J. Phys. Chem. 68 (1964) pp. 441-451\n",
      "-------- -------- --- Thank You --- -------- --------\n",
      "\n",
      "Adding line for 9531 solvent molecules with resname (SOL) to topology file (e44cd738-f6e7-4ebc-bd39-b926c5819601/ligand.top)\n",
      "\n",
      "2019-10-16 12:18:41,045 [MainThread  ] [INFO ]                       :-) GROMACS - gmx solvate, 2019.1 (-:\n",
      "\n",
      "Executable:   /anaconda3/envs/biobb_dev/bin/gmx\n",
      "Data prefix:  /anaconda3/envs/biobb_dev\n",
      "Working dir:  /home/gbayarri_local/projects/BioBB/tutorials/biobb_wf_protein-complex_md_setup/biobb_wf_protein-complex_md_setup/notebooks\n",
      "Command line:\n",
      "  gmx -nobackup -nocopyright solvate -cp 3HTB_JZ4_complex_editconf.gro -cs spc216.gro -o 3HTB_JZ4_solvate.gro -p e44cd738-f6e7-4ebc-bd39-b926c5819601/ligand.top\n",
      "\n",
      "Reading solute configuration\n",
      "Reading solvent configuration\n",
      "\n",
      "Initialising inter-atomic distances...\n",
      "Generating solvent configuration\n",
      "Will generate new solvent configuration of 5x4x4 boxes\n",
      "Solvent box contains 36060 atoms in 12020 residues\n",
      "Removed 5094 solvent atoms due to solvent-solvent overlap\n",
      "Removed 2373 solvent atoms due to solute-solvent overlap\n",
      "Sorting configuration\n",
      "Found 1 molecule type:\n",
      "    SOL (   3 atoms):  9531 residues\n",
      "Generated solvent containing 28593 atoms in 9531 residues\n",
      "Writing generated configuration to 3HTB_JZ4_solvate.gro\n",
      "\n",
      "Output configuration contains 31229 atoms in 9695 residues\n",
      "Volume                 :     318.205 (nm^3)\n",
      "Density                :     1000.12 (g/l)\n",
      "Number of solvent molecules:   9531   \n",
      "\n",
      "Processing topology\n",
      "\n",
      "GROMACS reminds you: \"I think everybody should like everybody.\" (Andy Warhol)\n",
      "\n",
      "\n",
      "2019-10-16 12:18:41,046 [MainThread  ] [INFO ]  Compressing topology to: 3HTB_JZ4_solvate_top.zip\n",
      "2019-10-16 12:18:41,047 [MainThread  ] [INFO ]  Ignored file e44cd738-f6e7-4ebc-bd39-b926c5819601/amber99sb-ildn.ff/forcefield.itp\n",
      "2019-10-16 12:18:41,063 [MainThread  ] [INFO ]  Ignored file e44cd738-f6e7-4ebc-bd39-b926c5819601/amber99sb-ildn.ff/spce.itp\n",
      "2019-10-16 12:18:41,064 [MainThread  ] [INFO ]  Ignored file e44cd738-f6e7-4ebc-bd39-b926c5819601/amber99sb-ildn.ff/ions.itp\n",
      "2019-10-16 12:18:41,071 [MainThread  ] [INFO ]  Adding:\n",
      "2019-10-16 12:18:41,072 [MainThread  ] [INFO ]  ['e44cd738-f6e7-4ebc-bd39-b926c5819601/JZ4_posres.itp', 'e44cd738-f6e7-4ebc-bd39-b926c5819601/JZ4params.itp', 'e44cd738-f6e7-4ebc-bd39-b926c5819601/ligand.top', 'e44cd738-f6e7-4ebc-bd39-b926c5819601/posre.itp']\n",
      "2019-10-16 12:18:41,073 [MainThread  ] [INFO ]  to: /home/gbayarri_local/projects/BioBB/tutorials/biobb_wf_protein-complex_md_setup/biobb_wf_protein-complex_md_setup/notebooks/3HTB_JZ4_solvate_top.zip\n",
      "2019-10-16 12:18:41,076 [MainThread  ] [INFO ]  Removed: ['e44cd738-f6e7-4ebc-bd39-b926c5819601']\n"
     ]
    },
    {
     "data": {
      "text/plain": [
       "0"
      ]
     },
     "execution_count": 16,
     "metadata": {},
     "output_type": "execute_result"
    }
   ],
   "source": [
    "# Solvate: Fill the box with water molecules\n",
    "from biobb_md.gromacs.solvate import Solvate\n",
    "\n",
    "# Create prop dict and inputs/outputs\n",
    "output_solvate_gro = pdbCode+'_'+ligandCode+'_solvate.gro'\n",
    "output_solvate_top_zip = pdbCode+'_'+ligandCode+'_solvate_top.zip'\n",
    "\n",
    "# Create and launch bb\n",
    "Solvate(input_solute_gro_path=output_editconf_gro,\n",
    "        output_gro_path=output_solvate_gro,\n",
    "        input_top_zip_path=output_complex_top,\n",
    "        output_top_zip_path=output_solvate_top_zip).launch()"
   ]
  },
  {
   "cell_type": "markdown",
   "metadata": {},
   "source": [
    "### Visualizing 3D structure\n",
    "Visualizing the **protein-ligand complex** with the newly added **solvent box** using **NGL**<br>\n",
    "Note the **octahedral box** filled with **water molecules** surrounding the **protein structure**, which is **centered** right in the middle of the box."
   ]
  },
  {
   "cell_type": "code",
   "execution_count": 17,
   "metadata": {},
   "outputs": [
    {
     "data": {
      "application/vnd.jupyter.widget-view+json": {
       "model_id": "166af005d8474489bf12b2336eb154ac",
       "version_major": 2,
       "version_minor": 0
      },
      "text/plain": [
       "NGLWidget()"
      ]
     },
     "metadata": {},
     "output_type": "display_data"
    }
   ],
   "source": [
    "#Show protein\n",
    "view = nglview.show_file(output_solvate_gro)\n",
    "view.clear_representations()\n",
    "view.add_representation(repr_type='cartoon', selection='protein', color='sstruc')\n",
    "view.add_representation(repr_type='licorice', radius='.5', selection=ligandCode)\n",
    "view.add_representation(repr_type='line', linewidth='1', selection='SOL', opacity='.3')\n",
    "view._remote_call('setSize', target='Widget', args=['','600px'])\n",
    "view.camera='orthographic'\n",
    "view"
   ]
  },
  {
   "cell_type": "markdown",
   "metadata": {},
   "source": [
    "<a id=\"ions\"></a>\n",
    "***\n",
    "## Adding ions\n",
    "Add ions to neutralize the **protein-ligand complex** and reach a desired ionic concentration.\n",
    "- [Step 1](#ionsStep1): Creating portable binary run file for ion generation\n",
    "- [Step 2](#ionsStep2): Adding ions to **neutralize** the system and reach a **0.05 molar ionic concentration**\n",
    "***\n",
    "**Building Blocks** used:\n",
    " - [Grompp](https://biobb-md.readthedocs.io/en/latest/gromacs.html#module-gromacs.grompp) from **biobb_md.gromacs.grompp** \n",
    " - [Genion](https://biobb-md.readthedocs.io/en/latest/gromacs.html#module-gromacs.genion) from **biobb_md.gromacs.genion** \n",
    "***"
   ]
  },
  {
   "cell_type": "markdown",
   "metadata": {},
   "source": [
    "<a id=\"ionsStep1\"></a>\n",
    "### Step 1: Creating portable binary run file for ion generation"
   ]
  },
  {
   "cell_type": "code",
   "execution_count": 18,
   "metadata": {},
   "outputs": [
    {
     "name": "stderr",
     "output_type": "stream",
     "text": [
      "2019-10-16 12:18:46,830 [MainThread  ] [INFO ]  GROMACS Grompp 20191 version detected\n",
      "2019-10-16 12:18:46,832 [MainThread  ] [INFO ]  Will run a minimization md of 5000 steps\n",
      "2019-10-16 12:18:46,836 [MainThread  ] [INFO ]  Extracting: /home/gbayarri_local/projects/BioBB/tutorials/biobb_wf_protein-complex_md_setup/biobb_wf_protein-complex_md_setup/notebooks/3HTB_JZ4_solvate_top.zip\n",
      "2019-10-16 12:18:46,837 [MainThread  ] [INFO ]  to:\n",
      "2019-10-16 12:18:46,838 [MainThread  ] [INFO ]  ['b36ad09b-f7c4-498f-9bc1-3a7320c2d431/JZ4_posres.itp', 'b36ad09b-f7c4-498f-9bc1-3a7320c2d431/JZ4params.itp', 'b36ad09b-f7c4-498f-9bc1-3a7320c2d431/ligand.top', 'b36ad09b-f7c4-498f-9bc1-3a7320c2d431/posre.itp']\n",
      "2019-10-16 12:18:46,840 [MainThread  ] [INFO ]  Unzipping: \n",
      "2019-10-16 12:18:46,841 [MainThread  ] [INFO ]  3HTB_JZ4_solvate_top.zip\n",
      "2019-10-16 12:18:46,841 [MainThread  ] [INFO ]  To: \n",
      "2019-10-16 12:18:46,842 [MainThread  ] [INFO ]  b36ad09b-f7c4-498f-9bc1-3a7320c2d431/JZ4_posres.itp\n",
      "2019-10-16 12:18:46,843 [MainThread  ] [INFO ]  b36ad09b-f7c4-498f-9bc1-3a7320c2d431/JZ4params.itp\n",
      "2019-10-16 12:18:46,843 [MainThread  ] [INFO ]  b36ad09b-f7c4-498f-9bc1-3a7320c2d431/ligand.top\n",
      "2019-10-16 12:18:46,844 [MainThread  ] [INFO ]  b36ad09b-f7c4-498f-9bc1-3a7320c2d431/posre.itp\n",
      "2019-10-16 12:18:47,239 [MainThread  ] [INFO ]  gmx -nobackup -nocopyright grompp -f 235efc95-ea06-40e7-a55b-b68e95724d87/grompp.mdp -c 3HTB_JZ4_solvate.gro -r 3HTB_JZ4_solvate.gro -p b36ad09b-f7c4-498f-9bc1-3a7320c2d431/ligand.top -o 3HTB_JZ4_complex_gppion.tpr -po mdout.mdp -maxwarn 10\n",
      "\n",
      "2019-10-16 12:18:47,240 [MainThread  ] [INFO ]  Exit code 0\n",
      "\n",
      "2019-10-16 12:18:47,241 [MainThread  ] [INFO ]  \n",
      "++++ PLEASE READ AND CITE THE FOLLOWING REFERENCE ++++\n",
      "J. S. Hub, B. L. de Groot, H. Grubmueller, G. Groenhof\n",
      "Quantifying Artifacts in Ewald Simulations of Inhomogeneous Systems with a Net\n",
      "Charge\n",
      "J. Chem. Theory Comput. 10 (2014) pp. 381-393\n",
      "-------- -------- --- Thank You --- -------- --------\n",
      "\n",
      "Analysing residue names:\n",
      "There are:   163    Protein residues\n",
      "There are:     1      Other residues\n",
      "There are:  9531      Water residues\n",
      "Analysing Protein...\n",
      "Analysing residues not classified as Protein/DNA/RNA/Water and splitting into groups...\n",
      "Calculating fourier grid dimensions for X Y Z\n",
      "Using a fourier grid of 64x64x64, spacing 0.116 0.116 0.116\n",
      "This run will generate roughly 2 Mb of data\n",
      "\n",
      "2019-10-16 12:18:47,242 [MainThread  ] [INFO ]                        :-) GROMACS - gmx grompp, 2019.1 (-:\n",
      "\n",
      "Executable:   /anaconda3/envs/biobb_dev/bin/gmx\n",
      "Data prefix:  /anaconda3/envs/biobb_dev\n",
      "Working dir:  /home/gbayarri_local/projects/BioBB/tutorials/biobb_wf_protein-complex_md_setup/biobb_wf_protein-complex_md_setup/notebooks\n",
      "Command line:\n",
      "  gmx -nobackup -nocopyright grompp -f 235efc95-ea06-40e7-a55b-b68e95724d87/grompp.mdp -c 3HTB_JZ4_solvate.gro -r 3HTB_JZ4_solvate.gro -p b36ad09b-f7c4-498f-9bc1-3a7320c2d431/ligand.top -o 3HTB_JZ4_complex_gppion.tpr -po mdout.mdp -maxwarn 10\n",
      "\n",
      "Setting the LD random seed to -696435100\n",
      "Generated 2556 of the 2556 non-bonded parameter combinations\n",
      "Generating 1-4 interactions: fudge = 0.5\n",
      "Generated 2556 of the 2556 1-4 parameter combinations\n",
      "Excluding 3 bonded neighbours molecule type 'Protein_chain_A'\n",
      "Excluding 3 bonded neighbours molecule type 'JZ4params'\n",
      "Excluding 2 bonded neighbours molecule type 'SOL'\n",
      "\n",
      "NOTE 1 [file ligand.top, line 24863]:\n",
      "  System has non-zero total charge: 5.999999\n",
      "  Total charge should normally be an integer. See\n",
      "  http://www.gromacs.org/Documentation/Floating_Point_Arithmetic\n",
      "  for discussion on how close it should be to an integer.\n",
      "  \n",
      "\n",
      "\n",
      "\n",
      "WARNING 1 [file ligand.top, line 24863]:\n",
      "  You are using Ewald electrostatics in a system with net charge. This can\n",
      "  lead to severe artifacts, such as ions moving into regions with low\n",
      "  dielectric, due to the uniform background charge. We suggest to\n",
      "  neutralize your system with counter ions, possibly in combination with a\n",
      "  physiological salt concentration.\n",
      "\n",
      "Removing all charge groups because cutoff-scheme=Verlet\n",
      "Number of degrees of freedom in T-Coupling group rest is 65091.00\n",
      "Estimate for the relative computational load of the PME mesh part: 0.18\n",
      "\n",
      "There was 1 note\n",
      "\n",
      "There was 1 warning\n",
      "\n",
      "GROMACS reminds you: \"Player Sleeps With the Fishes\" (Ein Bekanntes Spiel Von ID Software)\n",
      "\n",
      "\n",
      "2019-10-16 12:18:47,243 [MainThread  ] [INFO ]  Removed: ['mdout.mdp', '235efc95-ea06-40e7-a55b-b68e95724d87', 'b36ad09b-f7c4-498f-9bc1-3a7320c2d431']\n"
     ]
    },
    {
     "data": {
      "text/plain": [
       "0"
      ]
     },
     "execution_count": 18,
     "metadata": {},
     "output_type": "execute_result"
    }
   ],
   "source": [
    "# Grompp: Creating portable binary run file for ion generation\n",
    "from biobb_md.gromacs.grompp import Grompp\n",
    "\n",
    "# Create prop dict and inputs/outputs\n",
    "prop = {\n",
    "    'mdp':{\n",
    "        'type': 'minimization',\n",
    "        'nsteps':'5000'\n",
    "    }\n",
    "}\n",
    "output_gppion_tpr = pdbCode+'_'+ligandCode+'_complex_gppion.tpr'\n",
    "\n",
    "# Create and launch bb\n",
    "Grompp(input_gro_path=output_solvate_gro,\n",
    "       input_top_zip_path=output_solvate_top_zip, \n",
    "       output_tpr_path=output_gppion_tpr,\n",
    "       properties=prop).launch()"
   ]
  },
  {
   "cell_type": "markdown",
   "metadata": {},
   "source": [
    "<a id=\"ionsStep2\"></a>\n",
    "### Step 2: Adding ions to neutralize the system and reach a 0.05 molar concentration\n",
    "Replace **solvent molecules** with **ions** to **neutralize** the system and reaching a **0.05 molar ionic concentration**"
   ]
  },
  {
   "cell_type": "code",
   "execution_count": 19,
   "metadata": {},
   "outputs": [
    {
     "name": "stderr",
     "output_type": "stream",
     "text": [
      "2019-10-16 12:18:49,533 [MainThread  ] [INFO ]  GROMACS Genion 20191 version detected\n",
      "2019-10-16 12:18:49,534 [MainThread  ] [INFO ]  To reach up 0.05 mol/litre concentration\n",
      "2019-10-16 12:18:49,540 [MainThread  ] [INFO ]  Extracting: /home/gbayarri_local/projects/BioBB/tutorials/biobb_wf_protein-complex_md_setup/biobb_wf_protein-complex_md_setup/notebooks/3HTB_JZ4_solvate_top.zip\n",
      "2019-10-16 12:18:49,541 [MainThread  ] [INFO ]  to:\n",
      "2019-10-16 12:18:49,542 [MainThread  ] [INFO ]  ['69ab5118-3f07-4023-a0f7-b7d244222e3f/JZ4_posres.itp', '69ab5118-3f07-4023-a0f7-b7d244222e3f/JZ4params.itp', '69ab5118-3f07-4023-a0f7-b7d244222e3f/ligand.top', '69ab5118-3f07-4023-a0f7-b7d244222e3f/posre.itp']\n",
      "2019-10-16 12:18:49,543 [MainThread  ] [INFO ]  Unzipping: \n",
      "2019-10-16 12:18:49,545 [MainThread  ] [INFO ]  3HTB_JZ4_solvate_top.zip\n",
      "2019-10-16 12:18:49,546 [MainThread  ] [INFO ]  To: \n",
      "2019-10-16 12:18:49,547 [MainThread  ] [INFO ]  69ab5118-3f07-4023-a0f7-b7d244222e3f/JZ4_posres.itp\n",
      "2019-10-16 12:18:49,548 [MainThread  ] [INFO ]  69ab5118-3f07-4023-a0f7-b7d244222e3f/JZ4params.itp\n",
      "2019-10-16 12:18:49,549 [MainThread  ] [INFO ]  69ab5118-3f07-4023-a0f7-b7d244222e3f/ligand.top\n",
      "2019-10-16 12:18:49,551 [MainThread  ] [INFO ]  69ab5118-3f07-4023-a0f7-b7d244222e3f/posre.itp\n",
      "2019-10-16 12:18:49,713 [MainThread  ] [INFO ]  echo \"SOL\" | gmx -nobackup -nocopyright genion -s 3HTB_JZ4_complex_gppion.tpr -o 3HTB_JZ4_genion.gro -p 69ab5118-3f07-4023-a0f7-b7d244222e3f/ligand.top -neutral -conc 0.05 -seed 1993\n",
      "\n",
      "2019-10-16 12:18:49,717 [MainThread  ] [INFO ]  Exit code 0\n",
      "\n",
      "2019-10-16 12:18:49,718 [MainThread  ] [INFO ]  Will try to add 10 NA ions and 16 CL ions.\n",
      "Select a continuous group of solvent molecules\n",
      "Selected 15: 'SOL'\n",
      "\n",
      "Processing topology\n",
      "Replacing 26 solute molecules in topology file (69ab5118-3f07-4023-a0f7-b7d244222e3f/ligand.top)  by 10 NA and 16 CL ions.\n",
      "\n",
      "2019-10-16 12:18:49,719 [MainThread  ] [INFO ]                        :-) GROMACS - gmx genion, 2019.1 (-:\n",
      "\n",
      "Executable:   /anaconda3/envs/biobb_dev/bin/gmx\n",
      "Data prefix:  /anaconda3/envs/biobb_dev\n",
      "Working dir:  /home/gbayarri_local/projects/BioBB/tutorials/biobb_wf_protein-complex_md_setup/biobb_wf_protein-complex_md_setup/notebooks\n",
      "Command line:\n",
      "  gmx -nobackup -nocopyright genion -s 3HTB_JZ4_complex_gppion.tpr -o 3HTB_JZ4_genion.gro -p 69ab5118-3f07-4023-a0f7-b7d244222e3f/ligand.top -neutral -conc 0.05 -seed 1993\n",
      "\n",
      "Reading file 3HTB_JZ4_complex_gppion.tpr, VERSION 2019.1 (single precision)\n",
      "Reading file 3HTB_JZ4_complex_gppion.tpr, VERSION 2019.1 (single precision)\n",
      "Group     0 (         System) has 31229 elements\n",
      "Group     1 (        Protein) has  2614 elements\n",
      "Group     2 (      Protein-H) has  1301 elements\n",
      "Group     3 (        C-alpha) has   163 elements\n",
      "Group     4 (       Backbone) has   489 elements\n",
      "Group     5 (      MainChain) has   653 elements\n",
      "Group     6 (   MainChain+Cb) has   805 elements\n",
      "Group     7 (    MainChain+H) has   815 elements\n",
      "Group     8 (      SideChain) has  1799 elements\n",
      "Group     9 (    SideChain-H) has   648 elements\n",
      "Group    10 (    Prot-Masses) has  2614 elements\n",
      "Group    11 (    non-Protein) has 28615 elements\n",
      "Group    12 (          Other) has    22 elements\n",
      "Group    13 (            JZ4) has    22 elements\n",
      "Group    14 (          Water) has 28593 elements\n",
      "Group    15 (            SOL) has 28593 elements\n",
      "Group    16 (      non-Water) has  2636 elements\n",
      "Select a group: Number of (3-atomic) solvent molecules: 9531\n",
      "Using random seed 1993.\n",
      "Replacing solvent molecule 6684 (atom 22688) with NA\n",
      "Replacing solvent molecule 3713 (atom 13775) with NA\n",
      "Replacing solvent molecule 6865 (atom 23231) with NA\n",
      "Replacing solvent molecule 6607 (atom 22457) with NA\n",
      "Replacing solvent molecule 2054 (atom 8798) with NA\n",
      "Replacing solvent molecule 3610 (atom 13466) with NA\n",
      "Replacing solvent molecule 2213 (atom 9275) with NA\n",
      "Replacing solvent molecule 2304 (atom 9548) with NA\n",
      "Replacing solvent molecule 1640 (atom 7556) with NA\n",
      "Replacing solvent molecule 2994 (atom 11618) with NA\n",
      "Replacing solvent molecule 905 (atom 5351) with CL\n",
      "Replacing solvent molecule 4068 (atom 14840) with CL\n",
      "Replacing solvent molecule 9064 (atom 29828) with CL\n",
      "Replacing solvent molecule 4558 (atom 16310) with CL\n",
      "Replacing solvent molecule 1900 (atom 8336) with CL\n",
      "Replacing solvent molecule 7505 (atom 25151) with CL\n",
      "Replacing solvent molecule 9184 (atom 30188) with CL\n",
      "Replacing solvent molecule 5771 (atom 19949) with CL\n",
      "Replacing solvent molecule 6751 (atom 22889) with CL\n",
      "Replacing solvent molecule 2902 (atom 11342) with CL\n",
      "Replacing solvent molecule 2024 (atom 8708) with CL\n",
      "Replacing solvent molecule 8521 (atom 28199) with CL\n",
      "Replacing solvent molecule 909 (atom 5363) with CL\n",
      "Replacing solvent molecule 3452 (atom 12992) with CL\n",
      "Replacing solvent molecule 3869 (atom 14243) with CL\n",
      "Replacing solvent molecule 4530 (atom 16226) with CL\n",
      "\n",
      "\n",
      "GROMACS reminds you: \"Raw data is like raw sewage, it requires some processing before it can be spread around. The opposite is true of theories.\" (Jim Carr)\n",
      "\n",
      "\n",
      "2019-10-16 12:18:49,721 [MainThread  ] [INFO ]  Compressing topology to: 3HTB_JZ4_genion_top.zip\n",
      "2019-10-16 12:18:49,723 [MainThread  ] [INFO ]  Ignored file 69ab5118-3f07-4023-a0f7-b7d244222e3f/amber99sb-ildn.ff/forcefield.itp\n",
      "2019-10-16 12:18:49,747 [MainThread  ] [INFO ]  Ignored file 69ab5118-3f07-4023-a0f7-b7d244222e3f/amber99sb-ildn.ff/spce.itp\n",
      "2019-10-16 12:18:49,748 [MainThread  ] [INFO ]  Ignored file 69ab5118-3f07-4023-a0f7-b7d244222e3f/amber99sb-ildn.ff/ions.itp\n",
      "2019-10-16 12:18:49,755 [MainThread  ] [INFO ]  Adding:\n",
      "2019-10-16 12:18:49,756 [MainThread  ] [INFO ]  ['69ab5118-3f07-4023-a0f7-b7d244222e3f/JZ4_posres.itp', '69ab5118-3f07-4023-a0f7-b7d244222e3f/JZ4params.itp', '69ab5118-3f07-4023-a0f7-b7d244222e3f/ligand.top', '69ab5118-3f07-4023-a0f7-b7d244222e3f/posre.itp']\n",
      "2019-10-16 12:18:49,757 [MainThread  ] [INFO ]  to: /home/gbayarri_local/projects/BioBB/tutorials/biobb_wf_protein-complex_md_setup/biobb_wf_protein-complex_md_setup/notebooks/3HTB_JZ4_genion_top.zip\n",
      "2019-10-16 12:18:49,761 [MainThread  ] [INFO ]  Removed: ['69ab5118-3f07-4023-a0f7-b7d244222e3f']\n"
     ]
    },
    {
     "data": {
      "text/plain": [
       "0"
      ]
     },
     "execution_count": 19,
     "metadata": {},
     "output_type": "execute_result"
    }
   ],
   "source": [
    "# Genion: Adding ions to reach a 0.05 molar concentration\n",
    "from biobb_md.gromacs.genion import Genion\n",
    "\n",
    "# Create prop dict and inputs/outputs\n",
    "prop={\n",
    "    'neutral':True,\n",
    "    'concentration':0.05\n",
    "}\n",
    "output_genion_gro = pdbCode+'_'+ligandCode+'_genion.gro'\n",
    "output_genion_top_zip = pdbCode+'_'+ligandCode+'_genion_top.zip'\n",
    "\n",
    "# Create and launch bb\n",
    "Genion(input_tpr_path=output_gppion_tpr,\n",
    "       output_gro_path=output_genion_gro, \n",
    "       input_top_zip_path=output_solvate_top_zip,\n",
    "       output_top_zip_path=output_genion_top_zip, \n",
    "       properties=prop).launch()"
   ]
  },
  {
   "cell_type": "markdown",
   "metadata": {},
   "source": [
    "### Visualizing 3D structure\n",
    "Visualizing the **protein-ligand complex** with the newly added **ionic concentration** using **NGL**"
   ]
  },
  {
   "cell_type": "code",
   "execution_count": 20,
   "metadata": {},
   "outputs": [
    {
     "data": {
      "application/vnd.jupyter.widget-view+json": {
       "model_id": "2a9c22427182444f9d2b810a49f6d914",
       "version_major": 2,
       "version_minor": 0
      },
      "text/plain": [
       "NGLWidget()"
      ]
     },
     "metadata": {},
     "output_type": "display_data"
    }
   ],
   "source": [
    "#Show protein\n",
    "view = nglview.show_file(output_genion_gro)\n",
    "view.clear_representations()\n",
    "view.add_representation(repr_type='cartoon', selection='protein', color='sstruc')\n",
    "view.add_representation(repr_type='licorice', radius='.5', selection=ligandCode)\n",
    "view.add_representation(repr_type='ball+stick', selection='NA')\n",
    "view.add_representation(repr_type='ball+stick', selection='CL')\n",
    "view._remote_call('setSize', target='Widget', args=['','600px'])\n",
    "view.camera='orthographic'\n",
    "view"
   ]
  },
  {
   "cell_type": "markdown",
   "metadata": {},
   "source": [
    "<a id=\"min\"></a>\n",
    "***\n",
    "## Energetically minimize the system\n",
    "Energetically minimize the **protein-ligand complex** till reaching a desired potential energy.\n",
    "- [Step 1](#emStep1): Creating portable binary run file for energy minimization\n",
    "- [Step 2](#emStep2): Energetically minimize the **protein-ligand complex** till reaching a force of 500 kJ mol-1 nm-1.\n",
    "- [Step 3](#emStep3): Checking **energy minimization** results. Plotting energy by time during the **minimization** process.\n",
    "***\n",
    "**Building Blocks** used:\n",
    " - [Grompp](https://biobb-md.readthedocs.io/en/latest/gromacs.html#module-gromacs.grompp) from **biobb_md.gromacs.grompp** \n",
    " - [Mdrun](https://biobb-md.readthedocs.io/en/latest/gromacs.html#module-gromacs.mdrun) from **biobb_md.gromacs.mdrun** \n",
    " - [GMXEnergy](https://biobb-analysis.readthedocs.io/en/latest/gromacs.html#module-gromacs.gmx_energy) from **biobb_analysis.gromacs.gmx_energy** \n",
    "***"
   ]
  },
  {
   "cell_type": "markdown",
   "metadata": {},
   "source": [
    "<a id=\"emStep1\"></a>\n",
    "### Step 1: Creating portable binary run file for energy minimization\n",
    "Method used to run the **energy minimization** is a **steepest descent**, with a **maximum force of 500 KJ/mol\\*nm^2**, and a minimization **step size of 1fs**. The **maximum number of steps** to perform if the maximum force is not reached is **5,000 steps**. "
   ]
  },
  {
   "cell_type": "code",
   "execution_count": 21,
   "metadata": {},
   "outputs": [
    {
     "name": "stderr",
     "output_type": "stream",
     "text": [
      "2019-10-16 12:18:55,168 [MainThread  ] [INFO ]  GROMACS Grompp 20191 version detected\n",
      "2019-10-16 12:18:55,171 [MainThread  ] [INFO ]  Will run a minimization md of 5000 steps\n",
      "2019-10-16 12:18:55,176 [MainThread  ] [INFO ]  Extracting: /home/gbayarri_local/projects/BioBB/tutorials/biobb_wf_protein-complex_md_setup/biobb_wf_protein-complex_md_setup/notebooks/3HTB_JZ4_genion_top.zip\n",
      "2019-10-16 12:18:55,176 [MainThread  ] [INFO ]  to:\n",
      "2019-10-16 12:18:55,177 [MainThread  ] [INFO ]  ['998dcbec-5955-4537-ab97-356d642be2d5/JZ4_posres.itp', '998dcbec-5955-4537-ab97-356d642be2d5/JZ4params.itp', '998dcbec-5955-4537-ab97-356d642be2d5/ligand.top', '998dcbec-5955-4537-ab97-356d642be2d5/posre.itp']\n",
      "2019-10-16 12:18:55,178 [MainThread  ] [INFO ]  Unzipping: \n",
      "2019-10-16 12:18:55,179 [MainThread  ] [INFO ]  3HTB_JZ4_genion_top.zip\n",
      "2019-10-16 12:18:55,180 [MainThread  ] [INFO ]  To: \n",
      "2019-10-16 12:18:55,180 [MainThread  ] [INFO ]  998dcbec-5955-4537-ab97-356d642be2d5/JZ4_posres.itp\n",
      "2019-10-16 12:18:55,181 [MainThread  ] [INFO ]  998dcbec-5955-4537-ab97-356d642be2d5/JZ4params.itp\n",
      "2019-10-16 12:18:55,182 [MainThread  ] [INFO ]  998dcbec-5955-4537-ab97-356d642be2d5/ligand.top\n",
      "2019-10-16 12:18:55,183 [MainThread  ] [INFO ]  998dcbec-5955-4537-ab97-356d642be2d5/posre.itp\n",
      "2019-10-16 12:18:55,611 [MainThread  ] [INFO ]  gmx -nobackup -nocopyright grompp -f 9e1214fd-fd37-43ac-8074-315a33000101/grompp.mdp -c 3HTB_JZ4_genion.gro -r 3HTB_JZ4_genion.gro -p 998dcbec-5955-4537-ab97-356d642be2d5/ligand.top -o 3HTB_JZ4_gppmin.tpr -po mdout.mdp -maxwarn 10\n",
      "\n",
      "2019-10-16 12:18:55,613 [MainThread  ] [INFO ]  Exit code 0\n",
      "\n",
      "2019-10-16 12:18:55,613 [MainThread  ] [INFO ]  Analysing residue names:\n",
      "There are:   163    Protein residues\n",
      "There are:     1      Other residues\n",
      "There are:  9505      Water residues\n",
      "There are:    26        Ion residues\n",
      "Analysing Protein...\n",
      "Analysing residues not classified as Protein/DNA/RNA/Water and splitting into groups...\n",
      "Analysing residues not classified as Protein/DNA/RNA/Water and splitting into groups...\n",
      "Calculating fourier grid dimensions for X Y Z\n",
      "Using a fourier grid of 64x64x64, spacing 0.116 0.116 0.116\n",
      "This run will generate roughly 2 Mb of data\n",
      "\n",
      "2019-10-16 12:18:55,615 [MainThread  ] [INFO ]                        :-) GROMACS - gmx grompp, 2019.1 (-:\n",
      "\n",
      "Executable:   /anaconda3/envs/biobb_dev/bin/gmx\n",
      "Data prefix:  /anaconda3/envs/biobb_dev\n",
      "Working dir:  /home/gbayarri_local/projects/BioBB/tutorials/biobb_wf_protein-complex_md_setup/biobb_wf_protein-complex_md_setup/notebooks\n",
      "Command line:\n",
      "  gmx -nobackup -nocopyright grompp -f 9e1214fd-fd37-43ac-8074-315a33000101/grompp.mdp -c 3HTB_JZ4_genion.gro -r 3HTB_JZ4_genion.gro -p 998dcbec-5955-4537-ab97-356d642be2d5/ligand.top -o 3HTB_JZ4_gppmin.tpr -po mdout.mdp -maxwarn 10\n",
      "\n",
      "Setting the LD random seed to 709754289\n",
      "Generated 2556 of the 2556 non-bonded parameter combinations\n",
      "Generating 1-4 interactions: fudge = 0.5\n",
      "Generated 2556 of the 2556 1-4 parameter combinations\n",
      "Excluding 3 bonded neighbours molecule type 'Protein_chain_A'\n",
      "Excluding 3 bonded neighbours molecule type 'JZ4params'\n",
      "Excluding 2 bonded neighbours molecule type 'SOL'\n",
      "Excluding 1 bonded neighbours molecule type 'NA'\n",
      "Excluding 1 bonded neighbours molecule type 'CL'\n",
      "Removing all charge groups because cutoff-scheme=Verlet\n",
      "Number of degrees of freedom in T-Coupling group rest is 65013.00\n",
      "Estimate for the relative computational load of the PME mesh part: 0.18\n",
      "\n",
      "GROMACS reminds you: \"Kissing You is Like Kissing Gravel\" (Throwing Muses)\n",
      "\n",
      "\n",
      "2019-10-16 12:18:55,617 [MainThread  ] [INFO ]  Removed: ['mdout.mdp', '9e1214fd-fd37-43ac-8074-315a33000101', '998dcbec-5955-4537-ab97-356d642be2d5']\n"
     ]
    },
    {
     "data": {
      "text/plain": [
       "0"
      ]
     },
     "execution_count": 21,
     "metadata": {},
     "output_type": "execute_result"
    }
   ],
   "source": [
    "# Grompp: Creating portable binary run file for mdrun\n",
    "from biobb_md.gromacs.grompp import Grompp\n",
    "\n",
    "# Create prop dict and inputs/outputs\n",
    "prop = {\n",
    "    'mdp':{\n",
    "        'type': 'minimization',\n",
    "        'nsteps':'5000',\n",
    "        'emstep': 0.01,\n",
    "        'emtol':'500'\n",
    "    }\n",
    "}\n",
    "output_gppmin_tpr = pdbCode+'_'+ligandCode+'_gppmin.tpr'\n",
    "\n",
    "# Create and launch bb\n",
    "Grompp(input_gro_path=output_genion_gro,\n",
    "       input_top_zip_path=output_genion_top_zip,\n",
    "       output_tpr_path=output_gppmin_tpr,\n",
    "       properties=prop).launch()"
   ]
  },
  {
   "cell_type": "markdown",
   "metadata": {},
   "source": [
    "<a id=\"emStep2\"></a>\n",
    "### Step 2: Running Energy Minimization\n",
    "Running **energy minimization** using the **tpr file** generated in the previous step."
   ]
  },
  {
   "cell_type": "code",
   "execution_count": 22,
   "metadata": {},
   "outputs": [
    {
     "name": "stderr",
     "output_type": "stream",
     "text": [
      "2019-10-16 12:18:57,185 [MainThread  ] [INFO ]  GROMACS Mdrun 20191 version detected\n",
      "2019-10-16 12:18:57,187 [MainThread  ] [INFO ]  Not using any container\n",
      "2019-10-16 12:20:26,803 [MainThread  ] [INFO ]  gmx -nobackup -nocopyright mdrun -s 3HTB_JZ4_gppmin.tpr -o 3HTB_JZ4_min.trr -c 3HTB_JZ4_min.gro -e 3HTB_JZ4_min.edr -g 3HTB_JZ4_min.log -nt 0\n",
      "\n",
      "2019-10-16 12:20:26,804 [MainThread  ] [INFO ]  Exit code 0\n",
      "\n",
      "2019-10-16 12:20:26,805 [MainThread  ] [INFO ]                        :-) GROMACS - gmx mdrun, 2019.1 (-:\n",
      "\n",
      "Executable:   /anaconda3/envs/biobb_dev/bin/gmx\n",
      "Data prefix:  /anaconda3/envs/biobb_dev\n",
      "Working dir:  /home/gbayarri_local/projects/BioBB/tutorials/biobb_wf_protein-complex_md_setup/biobb_wf_protein-complex_md_setup/notebooks\n",
      "Command line:\n",
      "  gmx -nobackup -nocopyright mdrun -s 3HTB_JZ4_gppmin.tpr -o 3HTB_JZ4_min.trr -c 3HTB_JZ4_min.gro -e 3HTB_JZ4_min.edr -g 3HTB_JZ4_min.log -nt 0\n",
      "\n",
      "Compiled SIMD: SSE2, but for this host/run AVX2_256 might be better (see log).\n",
      "The current CPU can measure timings more accurately than the code in\n",
      "gmx mdrun was configured to use. This might affect your simulation\n",
      "speed as accurate timings are needed for load-balancing.\n",
      "Please consider rebuilding gmx mdrun with the GMX_USE_RDTSCP=ON CMake option.\n",
      "Reading file 3HTB_JZ4_gppmin.tpr, VERSION 2019.1 (single precision)\n",
      "\n",
      "Using 1 MPI thread\n",
      "Using 8 OpenMP threads \n",
      "\n",
      "\n",
      "Steepest Descents:\n",
      "   Tolerance (Fmax)   =  5.00000e+02\n",
      "   Number of steps    =         5000\n",
      "\n",
      "writing lowest energy coordinates.\n",
      "\n",
      "Steepest Descents converged to Fmax < 500 in 1711 steps\n",
      "Potential Energy  = -5.4622050e+05\n",
      "Maximum force     =  4.8502756e+02 on atom 1462\n",
      "Norm of force     =  1.2578556e+01\n",
      "\n",
      "GROMACS reminds you: \"Just Because the Sun Wants a Place In the Sky\" (F. Zappa)\n",
      "\n",
      "\n",
      "2019-10-16 12:20:26,806 [MainThread  ] [INFO ]  Removed: []\n"
     ]
    },
    {
     "data": {
      "text/plain": [
       "0"
      ]
     },
     "execution_count": 22,
     "metadata": {},
     "output_type": "execute_result"
    }
   ],
   "source": [
    "# Mdrun: Running minimization\n",
    "from biobb_md.gromacs.mdrun import Mdrun\n",
    "\n",
    "# Create prop dict and inputs/outputs\n",
    "output_min_trr = pdbCode+'_'+ligandCode+'_min.trr'\n",
    "output_min_gro = pdbCode+'_'+ligandCode+'_min.gro'\n",
    "output_min_edr = pdbCode+'_'+ligandCode+'_min.edr'\n",
    "output_min_log = pdbCode+'_'+ligandCode+'_min.log'\n",
    "\n",
    "# Create and launch bb\n",
    "Mdrun(input_tpr_path=output_gppmin_tpr,\n",
    "      output_trr_path=output_min_trr, \n",
    "      output_gro_path=output_min_gro,\n",
    "      output_edr_path=output_min_edr, \n",
    "      output_log_path=output_min_log).launch()"
   ]
  },
  {
   "cell_type": "markdown",
   "metadata": {},
   "source": [
    "<a id=\"emStep3\"></a>\n",
    "### Step 3: Checking Energy Minimization results\n",
    "Checking **energy minimization** results. Plotting **potential energy** by time during the minimization process. "
   ]
  },
  {
   "cell_type": "code",
   "execution_count": 23,
   "metadata": {},
   "outputs": [
    {
     "name": "stderr",
     "output_type": "stream",
     "text": [
      "2019-10-16 12:22:28,094 [MainThread  ] [INFO ]  gmx energy -f /home/gbayarri_local/projects/BioBB/tutorials/biobb_wf_protein-complex_md_setup/biobb_wf_protein-complex_md_setup/notebooks/3HTB_JZ4_min.edr -o 3HTB_JZ4_min_ene.xvg -xvg none < c79ff51c-f050-4234-8eaa-cc495bb0a846/instructions.in\n",
      "\n",
      "2019-10-16 12:22:28,095 [MainThread  ] [INFO ]  Exit code 0\n",
      "\n",
      "2019-10-16 12:22:28,096 [MainThread  ] [INFO ]  \n",
      "Statistics over 1711 steps [ 0.0000 through 1710.0000 ps ], 1 data sets\n",
      "All statistics are over 1354 points (frames)\n",
      "\n",
      "Energy                      Average   Err.Est.       RMSD  Tot-Drift\n",
      "-------------------------------------------------------------------------------\n",
      "Potential                   -529625       8800    22565.9   -57327.3  (kJ/mol)\n",
      "\n",
      "2019-10-16 12:22:28,097 [MainThread  ] [INFO ]                        :-) GROMACS - gmx energy, 2019.1 (-:\n",
      "\n",
      "                            GROMACS is written by:\n",
      "     Emile Apol      Rossen Apostolov      Paul Bauer     Herman J.C. Berendsen\n",
      "    Par Bjelkmar      Christian Blau   Viacheslav Bolnykh     Kevin Boyd    \n",
      " Aldert van Buuren   Rudi van Drunen     Anton Feenstra       Alan Gray     \n",
      "  Gerrit Groenhof     Anca Hamuraru    Vincent Hindriksen  M. Eric Irrgang  \n",
      "  Aleksei Iupinov   Christoph Junghans     Joe Jordan     Dimitrios Karkoulis\n",
      "    Peter Kasson        Jiri Kraus      Carsten Kutzner      Per Larsson    \n",
      "  Justin A. Lemkul    Viveca Lindahl    Magnus Lundborg     Erik Marklund   \n",
      "    Pascal Merz     Pieter Meulenhoff    Teemu Murtola       Szilard Pall   \n",
      "    Sander Pronk      Roland Schulz      Michael Shirts    Alexey Shvetsov  \n",
      "   Alfons Sijbers     Peter Tieleman      Jon Vincent      Teemu Virolainen \n",
      " Christian Wennberg    Maarten Wolf   \n",
      "                           and the project leaders:\n",
      "        Mark Abraham, Berk Hess, Erik Lindahl, and David van der Spoel\n",
      "\n",
      "Copyright (c) 1991-2000, University of Groningen, The Netherlands.\n",
      "Copyright (c) 2001-2018, The GROMACS development team at\n",
      "Uppsala University, Stockholm University and\n",
      "the Royal Institute of Technology, Sweden.\n",
      "check out http://www.gromacs.org for more information.\n",
      "\n",
      "GROMACS is free software; you can redistribute it and/or modify it\n",
      "under the terms of the GNU Lesser General Public License\n",
      "as published by the Free Software Foundation; either version 2.1\n",
      "of the License, or (at your option) any later version.\n",
      "\n",
      "GROMACS:      gmx energy, version 2019.1\n",
      "Executable:   /anaconda3/envs/biobb_dev/bin/gmx\n",
      "Data prefix:  /anaconda3/envs/biobb_dev\n",
      "Working dir:  /home/gbayarri_local/projects/BioBB/tutorials/biobb_wf_protein-complex_md_setup/biobb_wf_protein-complex_md_setup/notebooks\n",
      "Command line:\n",
      "  gmx energy -f /home/gbayarri_local/projects/BioBB/tutorials/biobb_wf_protein-complex_md_setup/biobb_wf_protein-complex_md_setup/notebooks/3HTB_JZ4_min.edr -o 3HTB_JZ4_min_ene.xvg -xvg none\n",
      "\n",
      "Opened /home/gbayarri_local/projects/BioBB/tutorials/biobb_wf_protein-complex_md_setup/biobb_wf_protein-complex_md_setup/notebooks/3HTB_JZ4_min.edr as single precision energy file\n",
      "\n",
      "Select the terms you want from the following list by\n",
      "selecting either (part of) the name or the number or a combination.\n",
      "End your selection with an empty line or a zero.\n",
      "-------------------------------------------------------------------\n",
      "  1  Bond             2  Angle            3  Proper-Dih.      4  Improper-Dih. \n",
      "  5  LJ-14            6  Coulomb-14       7  LJ-(SR)          8  Coulomb-(SR)  \n",
      "  9  Coul.-recip.    10  Position-Rest.  11  Potential       12  Pressure      \n",
      " 13  Vir-XX          14  Vir-XY          15  Vir-XZ          16  Vir-YX        \n",
      " 17  Vir-YY          18  Vir-YZ          19  Vir-ZX          20  Vir-ZY        \n",
      " 21  Vir-ZZ          22  Pres-XX         23  Pres-XY         24  Pres-XZ       \n",
      " 25  Pres-YX         26  Pres-YY         27  Pres-YZ         28  Pres-ZX       \n",
      " 29  Pres-ZY         30  Pres-ZZ         31  #Surf*SurfTen   32  T-rest        \n",
      "\n",
      "\n",
      "Back Off! I just backed up 3HTB_JZ4_min_ene.xvg to ./#3HTB_JZ4_min_ene.xvg.2#\n",
      "Last energy frame read 1353 time 1710.000         \n",
      "\n",
      "GROMACS reminds you: \"Praise those of your critics for whom nothing is up to standard.\" (Dag Hammarskjold)\n",
      "\n",
      "\n",
      "2019-10-16 12:22:28,099 [MainThread  ] [INFO ]  Removed: [PurePosixPath('c79ff51c-f050-4234-8eaa-cc495bb0a846')]\n"
     ]
    },
    {
     "data": {
      "text/plain": [
       "0"
      ]
     },
     "execution_count": 23,
     "metadata": {},
     "output_type": "execute_result"
    }
   ],
   "source": [
    "# GMXEnergy: Getting system energy by time  \n",
    "from biobb_analysis.gromacs.gmx_energy import GMXEnergy\n",
    "\n",
    "# Create prop dict and inputs/outputs\n",
    "output_min_ene_xvg = pdbCode+'_'+ligandCode+'_min_ene.xvg'\n",
    "prop = {\n",
    "    'terms':  [\"Potential\"]\n",
    "}\n",
    "\n",
    "# Create and launch bb\n",
    "GMXEnergy(input_energy_path=output_min_edr, \n",
    "          output_xvg_path=output_min_ene_xvg, \n",
    "          properties=prop).launch()"
   ]
  },
  {
   "cell_type": "code",
   "execution_count": 24,
   "metadata": {},
   "outputs": [
    {
     "data": {
      "text/html": [
       "        <script type=\"text/javascript\">\n",
       "        window.PlotlyConfig = {MathJaxConfig: 'local'};\n",
       "        if (window.MathJax) {MathJax.Hub.Config({SVG: {font: \"STIX-Web\"}});}\n",
       "        if (typeof require !== 'undefined') {\n",
       "        require.undef(\"plotly\");\n",
       "        requirejs.config({\n",
       "            paths: {\n",
       "                'plotly': ['https://cdn.plot.ly/plotly-latest.min']\n",
       "            }\n",
       "        });\n",
       "        require(['plotly'], function(Plotly) {\n",
       "            window._Plotly = Plotly;\n",
       "        });\n",
       "        }\n",
       "        </script>\n",
       "        "
      ]
     },
     "metadata": {},
     "output_type": "display_data"
    },
    {
     "data": {
      "application/vnd.plotly.v1+json": {
       "config": {
        "linkText": "Export to plot.ly",
        "plotlyServerURL": "https://plot.ly",
        "showLink": false
       },
       "data": [
        {
         "type": "scatter",
         "x": [
          0,
          1,
          2,
          3,
          4,
          5,
          6,
          7,
          8,
          9,
          10,
          12,
          13,
          14,
          16,
          17,
          18,
          19,
          20,
          22,
          23,
          24,
          26,
          27,
          28,
          29,
          31,
          32,
          33,
          35,
          36,
          37,
          39,
          40,
          41,
          43,
          44,
          45,
          46,
          47,
          49,
          51,
          52,
          53,
          54,
          56,
          57,
          58,
          60,
          61,
          62,
          64,
          65,
          66,
          67,
          68,
          70,
          71,
          72,
          74,
          75,
          76,
          78,
          79,
          80,
          82,
          83,
          84,
          85,
          86,
          88,
          89,
          90,
          92,
          93,
          94,
          95,
          96,
          98,
          99,
          100,
          102,
          103,
          104,
          105,
          106,
          108,
          109,
          110,
          112,
          113,
          114,
          115,
          116,
          118,
          119,
          120,
          122,
          123,
          124,
          125,
          127,
          128,
          129,
          131,
          132,
          133,
          134,
          136,
          137,
          138,
          140,
          141,
          142,
          143,
          144,
          146,
          147,
          148,
          150,
          151,
          152,
          153,
          154,
          156,
          157,
          158,
          160,
          161,
          162,
          163,
          164,
          165,
          167,
          168,
          169,
          171,
          172,
          174,
          175,
          176,
          178,
          179,
          180,
          181,
          182,
          184,
          185,
          186,
          188,
          189,
          190,
          191,
          192,
          194,
          195,
          196,
          198,
          199,
          200,
          201,
          202,
          204,
          205,
          206,
          208,
          209,
          210,
          211,
          213,
          214,
          215,
          217,
          218,
          219,
          220,
          222,
          223,
          224,
          226,
          227,
          228,
          229,
          230,
          232,
          233,
          234,
          236,
          237,
          238,
          239,
          240,
          242,
          243,
          244,
          246,
          247,
          248,
          249,
          251,
          252,
          253,
          255,
          256,
          257,
          258,
          260,
          261,
          262,
          264,
          265,
          266,
          267,
          268,
          270,
          271,
          272,
          274,
          275,
          276,
          277,
          278,
          279,
          281,
          282,
          283,
          285,
          286,
          288,
          289,
          290,
          292,
          293,
          294,
          295,
          296,
          298,
          299,
          300,
          302,
          303,
          304,
          305,
          306,
          308,
          309,
          310,
          312,
          313,
          314,
          315,
          316,
          317,
          319,
          320,
          321,
          323,
          324,
          326,
          327,
          328,
          330,
          331,
          332,
          333,
          334,
          336,
          337,
          338,
          340,
          341,
          342,
          343,
          344,
          345,
          346,
          348,
          350,
          351,
          352,
          353,
          355,
          356,
          357,
          359,
          360,
          361,
          362,
          363,
          365,
          366,
          367,
          369,
          370,
          371,
          372,
          373,
          375,
          376,
          377,
          379,
          380,
          381,
          382,
          383,
          384,
          386,
          387,
          388,
          390,
          391,
          392,
          393,
          395,
          396,
          397,
          399,
          400,
          401,
          402,
          404,
          405,
          406,
          408,
          409,
          410,
          411,
          412,
          414,
          415,
          416,
          418,
          419,
          420,
          421,
          423,
          424,
          425,
          427,
          428,
          429,
          430,
          432,
          433,
          434,
          436,
          437,
          438,
          439,
          440,
          441,
          443,
          444,
          445,
          447,
          448,
          450,
          451,
          452,
          454,
          455,
          456,
          457,
          458,
          459,
          460,
          462,
          464,
          465,
          466,
          467,
          469,
          470,
          471,
          473,
          474,
          475,
          476,
          477,
          479,
          480,
          481,
          483,
          484,
          485,
          486,
          487,
          489,
          490,
          491,
          493,
          494,
          495,
          496,
          497,
          498,
          500,
          501,
          502,
          504,
          505,
          506,
          507,
          509,
          510,
          511,
          513,
          514,
          515,
          516,
          518,
          519,
          520,
          522,
          523,
          524,
          525,
          526,
          527,
          529,
          530,
          531,
          533,
          534,
          536,
          537,
          538,
          540,
          541,
          542,
          543,
          544,
          545,
          546,
          548,
          550,
          551,
          552,
          553,
          555,
          556,
          557,
          559,
          560,
          561,
          562,
          563,
          565,
          566,
          567,
          569,
          570,
          571,
          572,
          573,
          575,
          576,
          577,
          579,
          580,
          581,
          582,
          583,
          584,
          586,
          587,
          588,
          590,
          591,
          592,
          593,
          595,
          596,
          597,
          599,
          600,
          601,
          602,
          604,
          605,
          606,
          608,
          609,
          610,
          611,
          612,
          613,
          615,
          616,
          617,
          619,
          620,
          621,
          622,
          624,
          625,
          626,
          628,
          629,
          630,
          631,
          632,
          634,
          635,
          636,
          638,
          639,
          640,
          641,
          643,
          644,
          645,
          647,
          648,
          649,
          650,
          652,
          653,
          654,
          656,
          657,
          658,
          659,
          661,
          662,
          663,
          665,
          666,
          667,
          668,
          669,
          670,
          672,
          673,
          674,
          676,
          677,
          678,
          679,
          681,
          682,
          683,
          685,
          686,
          687,
          688,
          690,
          691,
          692,
          694,
          695,
          696,
          697,
          698,
          699,
          701,
          702,
          703,
          705,
          706,
          707,
          708,
          710,
          711,
          712,
          714,
          715,
          716,
          717,
          718,
          720,
          721,
          722,
          724,
          725,
          726,
          727,
          729,
          730,
          731,
          733,
          734,
          735,
          736,
          737,
          739,
          740,
          741,
          743,
          744,
          745,
          746,
          748,
          749,
          750,
          752,
          753,
          754,
          755,
          756,
          758,
          759,
          760,
          762,
          763,
          764,
          765,
          767,
          768,
          769,
          771,
          772,
          773,
          774,
          775,
          776,
          778,
          780,
          781,
          782,
          783,
          785,
          786,
          787,
          789,
          790,
          791,
          793,
          794,
          795,
          796,
          797,
          799,
          800,
          801,
          803,
          804,
          805,
          806,
          807,
          809,
          810,
          811,
          813,
          814,
          815,
          816,
          817,
          819,
          820,
          821,
          823,
          824,
          825,
          826,
          827,
          828,
          830,
          831,
          832,
          834,
          835,
          836,
          837,
          839,
          840,
          841,
          843,
          844,
          845,
          846,
          848,
          849,
          850,
          852,
          853,
          854,
          855,
          857,
          858,
          859,
          861,
          862,
          863,
          864,
          865,
          866,
          868,
          869,
          870,
          872,
          873,
          874,
          875,
          877,
          878,
          879,
          881,
          882,
          883,
          884,
          885,
          887,
          888,
          889,
          891,
          892,
          893,
          894,
          896,
          897,
          898,
          900,
          901,
          902,
          903,
          904,
          906,
          907,
          908,
          910,
          911,
          912,
          913,
          915,
          916,
          917,
          919,
          920,
          921,
          922,
          923,
          925,
          926,
          927,
          929,
          930,
          931,
          932,
          934,
          935,
          936,
          938,
          939,
          940,
          941,
          942,
          943,
          945,
          946,
          947,
          949,
          950,
          951,
          952,
          954,
          955,
          956,
          958,
          959,
          960,
          961,
          963,
          964,
          965,
          967,
          968,
          969,
          970,
          972,
          973,
          974,
          976,
          977,
          978,
          979,
          980,
          981,
          983,
          984,
          985,
          987,
          988,
          989,
          990,
          992,
          993,
          994,
          996,
          997,
          998,
          999,
          1000,
          1002,
          1003,
          1004,
          1006,
          1007,
          1008,
          1009,
          1011,
          1012,
          1013,
          1015,
          1016,
          1017,
          1018,
          1019,
          1021,
          1022,
          1023,
          1025,
          1026,
          1027,
          1028,
          1030,
          1031,
          1032,
          1034,
          1035,
          1036,
          1037,
          1038,
          1040,
          1041,
          1042,
          1044,
          1045,
          1046,
          1047,
          1049,
          1050,
          1051,
          1053,
          1054,
          1055,
          1056,
          1057,
          1059,
          1060,
          1061,
          1063,
          1064,
          1065,
          1066,
          1068,
          1069,
          1070,
          1072,
          1073,
          1074,
          1075,
          1076,
          1077,
          1079,
          1080,
          1081,
          1083,
          1084,
          1086,
          1087,
          1088,
          1090,
          1091,
          1092,
          1093,
          1094,
          1095,
          1096,
          1098,
          1099,
          1100,
          1102,
          1103,
          1104,
          1105,
          1107,
          1108,
          1109,
          1111,
          1112,
          1113,
          1114,
          1116,
          1117,
          1118,
          1120,
          1121,
          1122,
          1123,
          1125,
          1126,
          1127,
          1129,
          1130,
          1131,
          1132,
          1133,
          1134,
          1136,
          1137,
          1138,
          1140,
          1141,
          1142,
          1143,
          1145,
          1146,
          1147,
          1149,
          1150,
          1151,
          1152,
          1153,
          1155,
          1156,
          1157,
          1159,
          1160,
          1161,
          1162,
          1164,
          1165,
          1166,
          1168,
          1169,
          1170,
          1171,
          1172,
          1174,
          1175,
          1176,
          1178,
          1179,
          1180,
          1181,
          1183,
          1184,
          1185,
          1187,
          1188,
          1189,
          1190,
          1191,
          1193,
          1194,
          1195,
          1197,
          1198,
          1199,
          1200,
          1202,
          1203,
          1204,
          1206,
          1207,
          1208,
          1209,
          1210,
          1212,
          1213,
          1214,
          1216,
          1217,
          1218,
          1219,
          1221,
          1222,
          1223,
          1225,
          1226,
          1227,
          1228,
          1229,
          1230,
          1232,
          1233,
          1234,
          1236,
          1237,
          1239,
          1240,
          1241,
          1243,
          1244,
          1245,
          1246,
          1247,
          1248,
          1249,
          1251,
          1252,
          1253,
          1255,
          1256,
          1257,
          1258,
          1260,
          1261,
          1262,
          1264,
          1265,
          1266,
          1267,
          1269,
          1270,
          1271,
          1273,
          1274,
          1275,
          1276,
          1278,
          1279,
          1280,
          1282,
          1283,
          1284,
          1285,
          1286,
          1287,
          1289,
          1290,
          1291,
          1293,
          1294,
          1295,
          1296,
          1298,
          1299,
          1300,
          1302,
          1303,
          1304,
          1305,
          1306,
          1308,
          1309,
          1310,
          1312,
          1313,
          1314,
          1315,
          1317,
          1318,
          1319,
          1321,
          1322,
          1323,
          1324,
          1325,
          1327,
          1328,
          1329,
          1331,
          1332,
          1333,
          1334,
          1336,
          1337,
          1338,
          1340,
          1341,
          1342,
          1343,
          1344,
          1345,
          1347,
          1348,
          1349,
          1351,
          1352,
          1354,
          1355,
          1356,
          1358,
          1359,
          1360,
          1361,
          1362,
          1363,
          1364,
          1366,
          1367,
          1368,
          1370,
          1371,
          1372,
          1373,
          1375,
          1376,
          1377,
          1379,
          1380,
          1381,
          1382,
          1384,
          1385,
          1386,
          1388,
          1389,
          1390,
          1391,
          1393,
          1394,
          1395,
          1397,
          1398,
          1399,
          1400,
          1401,
          1402,
          1404,
          1405,
          1406,
          1408,
          1409,
          1410,
          1411,
          1413,
          1414,
          1415,
          1417,
          1418,
          1419,
          1420,
          1421,
          1423,
          1424,
          1425,
          1427,
          1428,
          1429,
          1430,
          1432,
          1433,
          1434,
          1436,
          1437,
          1438,
          1439,
          1440,
          1442,
          1443,
          1444,
          1446,
          1447,
          1448,
          1449,
          1451,
          1452,
          1453,
          1455,
          1456,
          1457,
          1458,
          1459,
          1461,
          1462,
          1463,
          1465,
          1466,
          1467,
          1468,
          1470,
          1471,
          1472,
          1474,
          1475,
          1476,
          1477,
          1478,
          1479,
          1481,
          1482,
          1483,
          1485,
          1486,
          1488,
          1489,
          1490,
          1492,
          1493,
          1494,
          1495,
          1496,
          1497,
          1498,
          1500,
          1501,
          1502,
          1504,
          1505,
          1506,
          1507,
          1509,
          1510,
          1511,
          1513,
          1514,
          1515,
          1516,
          1518,
          1519,
          1520,
          1522,
          1523,
          1524,
          1525,
          1527,
          1528,
          1529,
          1531,
          1532,
          1533,
          1534,
          1535,
          1536,
          1538,
          1539,
          1540,
          1542,
          1543,
          1544,
          1545,
          1547,
          1548,
          1549,
          1551,
          1552,
          1553,
          1554,
          1555,
          1557,
          1558,
          1559,
          1561,
          1562,
          1563,
          1564,
          1566,
          1567,
          1568,
          1570,
          1571,
          1572,
          1573,
          1574,
          1576,
          1577,
          1578,
          1580,
          1581,
          1582,
          1583,
          1585,
          1586,
          1587,
          1589,
          1590,
          1591,
          1592,
          1593,
          1595,
          1596,
          1597,
          1599,
          1600,
          1601,
          1602,
          1604,
          1605,
          1606,
          1608,
          1609,
          1610,
          1611,
          1612,
          1613,
          1615,
          1616,
          1617,
          1619,
          1620,
          1621,
          1622,
          1624,
          1625,
          1626,
          1628,
          1629,
          1630,
          1631,
          1633,
          1634,
          1635,
          1637,
          1638,
          1639,
          1640,
          1642,
          1643,
          1644,
          1646,
          1647,
          1648,
          1649,
          1650,
          1651,
          1653,
          1654,
          1655,
          1657,
          1658,
          1659,
          1660,
          1662,
          1663,
          1664,
          1666,
          1667,
          1668,
          1669,
          1670,
          1672,
          1673,
          1674,
          1676,
          1677,
          1678,
          1679,
          1681,
          1682,
          1683,
          1685,
          1686,
          1687,
          1688,
          1689,
          1691,
          1692,
          1693,
          1695,
          1696,
          1697,
          1698,
          1700,
          1701,
          1702,
          1704,
          1705,
          1706,
          1707,
          1708,
          1710
         ],
         "y": [
          -266410.875,
          -309276.9375,
          -348003.84375,
          -376393,
          -397856.9375,
          -406579.0625,
          -413797.21875,
          -424182.90625,
          -427675.53125,
          -430730.21875,
          -433099.71875,
          -437163.3125,
          -438823.28125,
          -442339.8125,
          -444169.875,
          -445635.5,
          -447252.96875,
          -447968.9375,
          -449133.78125,
          -452039.40625,
          -453578.03125,
          -457525.78125,
          -458353.25,
          -459254.375,
          -459609.0625,
          -460269.875,
          -462626.09375,
          -463061,
          -466099.25,
          -466780.09375,
          -467170.03125,
          -467693.28125,
          -469278.75,
          -470216.40625,
          -472200.75,
          -472754.3125,
          -473161.96875,
          -473605.5625,
          -473710.90625,
          -473926.5,
          -475836.34375,
          -476598.65625,
          -477318.375,
          -477434.40625,
          -478251.03125,
          -478932.5625,
          -479181.28125,
          -479990.3125,
          -480510.78125,
          -480821.1875,
          -481397.34375,
          -481899.625,
          -482336.46875,
          -482925.53125,
          -482944.8125,
          -483616.375,
          -484210.3125,
          -484337.34375,
          -485055.53125,
          -485490.28125,
          -485694.84375,
          -486178.0625,
          -486615.6875,
          -486929.1875,
          -487450.25,
          -487790.6875,
          -488078.9375,
          -488450.0625,
          -488545.9375,
          -488930.28125,
          -489448.3125,
          -489659.6875,
          -490316.28125,
          -490608.5,
          -490801.25,
          -491090.1875,
          -491132,
          -491383,
          -492047.71875,
          -492163.75,
          -492989.125,
          -493227.875,
          -493393.28125,
          -493609.1875,
          -493666,
          -493826.34375,
          -494517.96875,
          -494727.59375,
          -495551.3125,
          -495741.53125,
          -495907.21875,
          -496055.46875,
          -496140.9375,
          -496210.75,
          -496902.375,
          -497227.6875,
          -498052.8125,
          -498202.875,
          -498364.6875,
          -498459.65625,
          -498559.40625,
          -499055.625,
          -499506.5,
          -500136.90625,
          -500280.09375,
          -500458.53125,
          -500533.40625,
          -500701.5625,
          -501024.46875,
          -501249.09375,
          -501643.09375,
          -501798.1875,
          -501927.75,
          -502073.34375,
          -502149.28125,
          -502269.15625,
          -502615.40625,
          -502878.625,
          -503304.8125,
          -503439.84375,
          -503561.0625,
          -503675.0625,
          -503753.09375,
          -503826.1875,
          -504200.59375,
          -504517.9375,
          -504980.78125,
          -505095.28125,
          -505211.28125,
          -505294.53125,
          -505374.15625,
          -505401.75,
          -505402.59375,
          -505943.78125,
          -506017.9375,
          -506733.09375,
          -506792.875,
          -506923.71875,
          -507126.9375,
          -507287.34375,
          -507537.6875,
          -507652.40625,
          -507749.5625,
          -507861.8125,
          -507918.90625,
          -508018.21875,
          -508245.84375,
          -508430.65625,
          -508714.6875,
          -508818.125,
          -508908.34375,
          -508999.65625,
          -509056.90625,
          -509124.1875,
          -509381.09375,
          -509599.71875,
          -509922.3125,
          -510012.8125,
          -510099.90625,
          -510169.34375,
          -510228.40625,
          -510260.75,
          -510551.6875,
          -510821.53125,
          -511186.59375,
          -511262.1875,
          -511347.96875,
          -511393.9375,
          -511454.65625,
          -511679.5,
          -511875.53125,
          -512175.5625,
          -512251.3125,
          -512339.59375,
          -512384.03125,
          -512463.71875,
          -512636.28125,
          -512775.03125,
          -512990.875,
          -513072.125,
          -513142.6875,
          -513215.9375,
          -513260.28125,
          -513315.375,
          -513513.4375,
          -513679.71875,
          -513930.34375,
          -514002.25,
          -514071.21875,
          -514126.84375,
          -514173.71875,
          -514200.65625,
          -514429.1875,
          -514640.875,
          -514931.375,
          -514991.21875,
          -515060.3125,
          -515097.09375,
          -515146.53125,
          -515326.03125,
          -515479.4375,
          -515719.25,
          -515780.65625,
          -515851.3125,
          -515887.625,
          -515951.1875,
          -516091.28125,
          -516206.75,
          -516383.21875,
          -516449.25,
          -516506.75,
          -516565.5,
          -516602.625,
          -516645.625,
          -516808.5625,
          -516952,
          -517159.4375,
          -517217.5625,
          -517274.8125,
          -517319.21875,
          -517359.3125,
          -517378.65625,
          -517381.46875,
          -517636.90625,
          -517709.15625,
          -518053.125,
          -518085.28125,
          -518154.28125,
          -518254.15625,
          -518336.125,
          -518460.5,
          -518520.5,
          -518572.125,
          -518632.0625,
          -518662.5625,
          -518716.75,
          -518833.03125,
          -518929.65625,
          -519076.03125,
          -519131.625,
          -519180.71875,
          -519230.53125,
          -519262.375,
          -519299.53125,
          -519435.40625,
          -519559.09375,
          -519732.375,
          -519782.0625,
          -519831.21875,
          -519869.1875,
          -519904.21875,
          -519920.9375,
          -519925.34375,
          -520138.71875,
          -520202.75,
          -520490.3125,
          -520519,
          -520577.5625,
          -520662.21875,
          -520735.53125,
          -520841.375,
          -520893.03125,
          -520937.875,
          -520989,
          -521016.6875,
          -521062.96875,
          -521161.75,
          -521250.8125,
          -521376.21875,
          -521423.84375,
          -521466.9375,
          -521509.375,
          -521538.875,
          -521570.40625,
          -521572.5,
          -521579,
          -521791.25,
          -521867.3125,
          -521945.21875,
          -521951.875,
          -522042.90625,
          -522109.28125,
          -522134.46875,
          -522214.3125,
          -522271.4375,
          -522310.28125,
          -522374.65625,
          -522378.21875,
          -522447,
          -522532.9375,
          -522555.5,
          -522665,
          -522714,
          -522746.3125,
          -522795.21875,
          -522806.21875,
          -522847.1875,
          -522958.59375,
          -522999.84375,
          -523146.96875,
          -523186.625,
          -523224.1875,
          -523253.28125,
          -523279.96875,
          -523287.46875,
          -523291.21875,
          -523476.4375,
          -523484.21875,
          -523726.53125,
          -523751.25,
          -523789.34375,
          -523793.9375,
          -523815.5625,
          -523961.90625,
          -523977.40625,
          -524174.65625,
          -524203.6875,
          -524242.15625,
          -524252,
          -524281.09375,
          -524399.0625,
          -524433.3125,
          -524586.25,
          -524621,
          -524653.125,
          -524678.125,
          -524696.0625,
          -524702.0625,
          -524846.25,
          -524917.6875,
          -525105.125,
          -525131.625,
          -525169.1875,
          -525178.5625,
          -525205.6875,
          -525316,
          -525352.375,
          -525499.4375,
          -525530.1875,
          -525564.3125,
          -525582.5625,
          -525608.875,
          -525701.875,
          -525768.75,
          -525888.6875,
          -525921.8125,
          -525954.1875,
          -525978.8125,
          -526001.6875,
          -526011.25,
          -526013.5,
          -526162.1875,
          -526195.125,
          -526394.625,
          -526413.625,
          -526452.3125,
          -526511.8125,
          -526562.4375,
          -526637,
          -526671.6875,
          -526702.5,
          -526736.125,
          -526755.5,
          -526784.875,
          -526784.9375,
          -526802.3125,
          -526929.6875,
          -526979.4375,
          -527027.75,
          -527041,
          -527096.3125,
          -527142.1875,
          -527168.125,
          -527223.0625,
          -527260.5,
          -527291.5,
          -527332.5625,
          -527343.5,
          -527386.5,
          -527443.6875,
          -527473.4375,
          -527546.375,
          -527579.875,
          -527606.3125,
          -527639.3125,
          -527653.625,
          -527681.125,
          -527752.8125,
          -527806,
          -527900.625,
          -527930,
          -527959,
          -527980.8125,
          -528004.25,
          -528012.5,
          -528022.6875,
          -528136,
          -528161.4375,
          -528309.8125,
          -528331.625,
          -528359.1875,
          -528368.5625,
          -528386.5625,
          -528478.3125,
          -528514.25,
          -528636.3125,
          -528660,
          -528688.6875,
          -528701.0625,
          -528723.9375,
          -528798.25,
          -528842.9375,
          -528939.25,
          -528965.75,
          -528990.9375,
          -529011.4375,
          -529029,
          -529037.1875,
          -529037.375,
          -529159.1875,
          -529188.625,
          -529351.6875,
          -529366.875,
          -529398.625,
          -529446.75,
          -529486.5625,
          -529547.5,
          -529575.75,
          -529600.75,
          -529628,
          -529643.75,
          -529667.5,
          -529667.625,
          -529680.9375,
          -529785.4375,
          -529826.375,
          -529866.125,
          -529876.625,
          -529923,
          -529960.25,
          -529980.6875,
          -530025.1875,
          -530055.8125,
          -530081.25,
          -530116.0625,
          -530124.3125,
          -530160.875,
          -530206.625,
          -530229.9375,
          -530287.75,
          -530315.9375,
          -530337.5,
          -530365.5625,
          -530376.75,
          -530401,
          -530459.0625,
          -530496.5,
          -530572.0625,
          -530596.6875,
          -530619.75,
          -530639.5625,
          -530656.5625,
          -530666.3125,
          -530671.5625,
          -530766.5,
          -530803,
          -530927.875,
          -530944.875,
          -530969.8125,
          -530975.4375,
          -530994.0625,
          -531066.9375,
          -531087.8125,
          -531184.625,
          -531205.375,
          -531227.25,
          -531240.3125,
          -531255.9375,
          -531319.625,
          -531372.625,
          -531455.125,
          -531477,
          -531499.875,
          -531514.75,
          -531532.5625,
          -531535.875,
          -531541.75,
          -531638.625,
          -531645.8125,
          -531775.1875,
          -531789.625,
          -531813.25,
          -531814.875,
          -531832.875,
          -531906.875,
          -531913.3125,
          -532010.5,
          -532030.6875,
          -532048.8125,
          -532062,
          -532071.5,
          -532071.9375,
          -532164.75,
          -532199.9375,
          -532322.5,
          -532336.1875,
          -532359.875,
          -532361.5625,
          -532380.5625,
          -532448.6875,
          -532456.3125,
          -532546.75,
          -532565.9375,
          -532584.1875,
          -532596.625,
          -532607.8125,
          -532669.875,
          -532725.6875,
          -532806.8125,
          -532825.25,
          -532847,
          -532857.6875,
          -532875.875,
          -532924.75,
          -532966.5,
          -533030.875,
          -533051.25,
          -533071.375,
          -533086.6875,
          -533103.3125,
          -533108.8125,
          -533116.4375,
          -533192.8125,
          -533212.4375,
          -533312.8125,
          -533328.125,
          -533348.25,
          -533354.25,
          -533368.125,
          -533429.125,
          -533452.5,
          -533533.5625,
          -533551,
          -533569.75,
          -533580,
          -533594.375,
          -533646.1875,
          -533686.6875,
          -533753.9375,
          -533772.3125,
          -533791.0625,
          -533804.25,
          -533819.0625,
          -533822.4375,
          -533827.375,
          -533907.1875,
          -533917.125,
          -534024.125,
          -534036.25,
          -534056.1875,
          -534058,
          -534072.8125,
          -534134.375,
          -534140.9375,
          -534221.375,
          -534238.3125,
          -534253.6875,
          -534264.9375,
          -534273.1875,
          -534273.4375,
          -534350.4375,
          -534385,
          -534486.75,
          -534498.0625,
          -534518.5625,
          -534519.5,
          -534536.125,
          -534592.0625,
          -534597.75,
          -534671.75,
          -534688.3125,
          -534702.8125,
          -534714.4375,
          -534722.8125,
          -534723.875,
          -534795.5,
          -534832.8125,
          -534928.1875,
          -534939.5,
          -534959.875,
          -534960.75,
          -534978.5,
          -535029.3125,
          -535034.1875,
          -535100.625,
          -535117.3125,
          -535130.5625,
          -535143.75,
          -535149.875,
          -535155.4375,
          -535219.25,
          -535240.8125,
          -535325.1875,
          -535337.5625,
          -535355.0625,
          -535359.6875,
          -535372.625,
          -535422.6875,
          -535439.875,
          -535505.6875,
          -535520.75,
          -535536.0625,
          -535545.9375,
          -535556.625,
          -535556.6875,
          -535557.4375,
          -535638.25,
          -535666.125,
          -535695.75,
          -535696.75,
          -535732.5625,
          -535756.0625,
          -535764.5,
          -535791.75,
          -535814.25,
          -535828.6875,
          -535854.8125,
          -535874,
          -535890.9375,
          -535912.5625,
          -535918.875,
          -535942.375,
          -535968.625,
          -535984.125,
          -536016.625,
          -536034.5625,
          -536048.75,
          -536067,
          -536074.1875,
          -536092.0625,
          -536124.5,
          -536144.125,
          -536185,
          -536201.4375,
          -536215.1875,
          -536229.9375,
          -536238.75,
          -536250.125,
          -536289.6875,
          -536323.25,
          -536374.75,
          -536389,
          -536404,
          -536414.625,
          -536426.875,
          -536430.125,
          -536434.75,
          -536495.0625,
          -536504.5625,
          -536585.25,
          -536595.3125,
          -536610.75,
          -536613.3125,
          -536624.75,
          -536671.75,
          -536681.125,
          -536743.125,
          -536756,
          -536768.8125,
          -536777.5625,
          -536785.25,
          -536827.4375,
          -536867.1875,
          -536923.4375,
          -536936.125,
          -536951.3125,
          -536958.5,
          -536972.3125,
          -537004.6875,
          -537029.3125,
          -537071.3125,
          -537085.6875,
          -537099.125,
          -537110.75,
          -537120.5625,
          -537126.6875,
          -537129.375,
          -537183.4375,
          -537213.125,
          -537285.375,
          -537294.9375,
          -537310.5625,
          -537312.5,
          -537326.5,
          -537365.5,
          -537373,
          -537424.25,
          -537437.5,
          -537448.5625,
          -537459.1875,
          -537464.5625,
          -537469.0625,
          -537518.625,
          -537543,
          -537608.3125,
          -537618.4375,
          -537633,
          -537636.4375,
          -537648.1875,
          -537685.875,
          -537698.875,
          -537748.4375,
          -537760.8125,
          -537773.0625,
          -537781.5625,
          -537789.5,
          -537791.875,
          -537839.4375,
          -537881.5625,
          -537944.875,
          -537954.25,
          -537969.75,
          -537972,
          -537985.875,
          -538019.6875,
          -538028.6875,
          -538072.3125,
          -538085.375,
          -538095.625,
          -538106.3125,
          -538111.9375,
          -538118,
          -538160.3125,
          -538183.625,
          -538239.4375,
          -538249.6875,
          -538262.625,
          -538268,
          -538278.125,
          -538311.625,
          -538330.3125,
          -538374.1875,
          -538386,
          -538398.125,
          -538406.625,
          -538414.9375,
          -538417.6875,
          -538419.5625,
          -538473.1875,
          -538479.3125,
          -538551,
          -538558.3125,
          -538571.625,
          -538572.125,
          -538581.3125,
          -538623.0625,
          -538625.375,
          -538680.0625,
          -538690.6875,
          -538701,
          -538707.3125,
          -538713.1875,
          -538750.1875,
          -538779.1875,
          -538828.5,
          -538838.375,
          -538851.0625,
          -538856.6875,
          -538867.1875,
          -538896.0625,
          -538915.6875,
          -538953.8125,
          -538965.4375,
          -538976.375,
          -538985.25,
          -538993.5,
          -538997.4375,
          -538999.625,
          -539046.875,
          -539061.25,
          -539124.1875,
          -539131.875,
          -539144.5,
          -539145.6875,
          -539155.8125,
          -539191.625,
          -539197.4375,
          -539244.1875,
          -539254.625,
          -539264.5,
          -539271.75,
          -539277.5625,
          -539278.125,
          -539323.625,
          -539349.8125,
          -539410.3125,
          -539417.875,
          -539431,
          -539431.9375,
          -539443.625,
          -539475.625,
          -539480.25,
          -539522.5625,
          -539533.5,
          -539542.3125,
          -539550.4375,
          -539554.8125,
          -539558.25,
          -539599.6875,
          -539616.75,
          -539671.375,
          -539679.6875,
          -539691.1875,
          -539694,
          -539703.5,
          -539734.6875,
          -539744.5,
          -539785.625,
          -539795.625,
          -539805.4375,
          -539812.8125,
          -539818.625,
          -539820.6875,
          -539860.4375,
          -539891.375,
          -539944.0625,
          -539951.6875,
          -539963.875,
          -539966.0625,
          -539977,
          -540005.375,
          -540012.6875,
          -540049.875,
          -540060.25,
          -540068.8125,
          -540077.375,
          -540082.0625,
          -540086,
          -540121.8125,
          -540142.75,
          -540190.625,
          -540199.125,
          -540209.8125,
          -540213.5,
          -540222.75,
          -540250.625,
          -540262.6875,
          -540298.9375,
          -540308.6875,
          -540317.9375,
          -540325.6875,
          -540332.0625,
          -540334.0625,
          -540334.4375,
          -540380.5,
          -540388.375,
          -540449.8125,
          -540455.4375,
          -540466.9375,
          -540485.9375,
          -540501.9375,
          -540525.9375,
          -540536.625,
          -540545.75,
          -540555.625,
          -540562.375,
          -540569.9375,
          -540571.5,
          -540573.875,
          -540615.6875,
          -540619.625,
          -540675.375,
          -540681.75,
          -540691.8125,
          -540693.125,
          -540700.3125,
          -540732.75,
          -540737.3125,
          -540780.375,
          -540788.6875,
          -540797.1875,
          -540802.4375,
          -540807.5,
          -540836.5,
          -540859,
          -540897.6875,
          -540905.6875,
          -540916.125,
          -540920.5625,
          -540929,
          -540952.0625,
          -540969.125,
          -540999.1875,
          -541008.25,
          -541017.5,
          -541024.75,
          -541031.6875,
          -541034.9375,
          -541037.1875,
          -541074.5,
          -541086.5625,
          -541136.125,
          -541142.6875,
          -541152.625,
          -541153.9375,
          -541162.25,
          -541190.25,
          -541196.1875,
          -541233.125,
          -541241.875,
          -541249.6875,
          -541255.8125,
          -541260.5,
          -541261.3125,
          -541297.3125,
          -541320.125,
          -541367.625,
          -541373.9375,
          -541384.625,
          -541385.3125,
          -541395,
          -541420.25,
          -541425.1875,
          -541458.1875,
          -541467.1875,
          -541474.5,
          -541481.5,
          -541485.125,
          -541488.25,
          -541520.3125,
          -541536,
          -541579.0625,
          -541585.6875,
          -541595.375,
          -541597.8125,
          -541605.5625,
          -541630.375,
          -541639.125,
          -541671.8125,
          -541680.375,
          -541688,
          -541693.9375,
          -541699.25,
          -541701.125,
          -541732.375,
          -541758.9375,
          -541800.4375,
          -541806.9375,
          -541817.5,
          -541819.125,
          -541828.3125,
          -541851,
          -541857.75,
          -541887.0625,
          -541895.6875,
          -541902.5625,
          -541909.9375,
          -541914.125,
          -541917.9375,
          -541946.1875,
          -541964.875,
          -542002.125,
          -542009.1875,
          -542018.25,
          -542021.5625,
          -542029.25,
          -542050.9375,
          -542062.5,
          -542091,
          -542099.3125,
          -542106.875,
          -542113.375,
          -542118.8125,
          -542121.1875,
          -542121.5625,
          -542158.25,
          -542166.6875,
          -542215.625,
          -542220.625,
          -542229.8125,
          -542244.8125,
          -542259.5,
          -542278.375,
          -542286.9375,
          -542294.6875,
          -542303,
          -542308.5,
          -542315.1875,
          -542316.9375,
          -542319.4375,
          -542352.9375,
          -542357.6875,
          -542402.0625,
          -542407.625,
          -542416.25,
          -542417.3125,
          -542423.5625,
          -542449.4375,
          -542454.875,
          -542489.0625,
          -542496.3125,
          -542503.375,
          -542507.875,
          -542512.5,
          -542535.625,
          -542556.1875,
          -542586.4375,
          -542593.8125,
          -542602.3125,
          -542606.5,
          -542613.6875,
          -542632.125,
          -542647.125,
          -542671.4375,
          -542679.125,
          -542687.125,
          -542693.5,
          -542699.1875,
          -542702.375,
          -542704.8125,
          -542734.3125,
          -542746.4375,
          -542786.0625,
          -542792.0625,
          -542800.25,
          -542801.75,
          -542808.875,
          -542831.3125,
          -542837.625,
          -542867.3125,
          -542874.75,
          -542881.5625,
          -542886.75,
          -542890.9375,
          -542892.4375,
          -542920.625,
          -542942.625,
          -542980.625,
          -542986.125,
          -542995.1875,
          -542996.625,
          -543004.375,
          -543024.75,
          -543030.125,
          -543056.875,
          -543064.375,
          -543070.5,
          -543076.6875,
          -543080,
          -543083.0625,
          -543109.0625,
          -543123.8125,
          -543158.125,
          -543164,
          -543172.4375,
          -543174.6875,
          -543181.3125,
          -543201.4375,
          -543210.6875,
          -543237.125,
          -543244.0625,
          -543250.875,
          -543256.25,
          -543261.375,
          -543262.9375,
          -543263.1875,
          -543296.6875,
          -543301.625,
          -543346.1875,
          -543350.5,
          -543358.875,
          -543372.4375,
          -543384.9375,
          -543402.6875,
          -543410.5,
          -543417.4375,
          -543424.625,
          -543429.625,
          -543434.6875,
          -543436.3125,
          -543437.8125,
          -543469,
          -543472.75,
          -543514.3125,
          -543519.1875,
          -543526.75,
          -543527.125,
          -543533.25,
          -543556.9375,
          -543559.5625,
          -543590.9375,
          -543597.125,
          -543603.125,
          -543607.1875,
          -543610.5625,
          -543632.4375,
          -543652.375,
          -543680.9375,
          -543687,
          -543694.8125,
          -543698.1875,
          -543704.8125,
          -543721.875,
          -543732.9375,
          -543754.375,
          -543761.5625,
          -543768.0625,
          -543774.1875,
          -543778.5625,
          -543781.9375,
          -543783,
          -543810.75,
          -543824.5,
          -543861.6875,
          -543866.3125,
          -543874.625,
          -543874.9375,
          -543882,
          -543902.1875,
          -543905.5625,
          -543932.5625,
          -543938.8125,
          -543944.6875,
          -543949.75,
          -543952.8125,
          -543954.6875,
          -543980.375,
          -543993.1875,
          -544027.4375,
          -544032.25,
          -544040.3125,
          -544041.5,
          -544048.0625,
          -544067.125,
          -544073,
          -544098.375,
          -544105.1875,
          -544111.125,
          -544115.9375,
          -544119.8125,
          -544121.1875,
          -544145.6875,
          -544164.8125,
          -544197.625,
          -544202.9375,
          -544210.5625,
          -544211.625,
          -544218.75,
          -544236.625,
          -544242.25,
          -544265.25,
          -544271.9375,
          -544277.4375,
          -544283.0625,
          -544286.25,
          -544289.0625,
          -544311.5,
          -544325.5,
          -544355.5,
          -544361.0625,
          -544367.75,
          -544370.25,
          -544376,
          -544393.625,
          -544402.4375,
          -544425.3125,
          -544431.6875,
          -544437.75,
          -544442.5625,
          -544446.8125,
          -544448.4375,
          -544449.0625,
          -544478.0625,
          -544483.0625,
          -544522,
          -544526.125,
          -544533.0625,
          -544545.5625,
          -544556.875,
          -544572.3125,
          -544579.0625,
          -544585.625,
          -544591.625,
          -544596.375,
          -544601.4375,
          -544602.5625,
          -544603.8125,
          -544631.0625,
          -544635.75,
          -544671.9375,
          -544676.3125,
          -544683.0625,
          -544683.6875,
          -544688.875,
          -544709.625,
          -544711.75,
          -544739.625,
          -544745.1875,
          -544750.625,
          -544754.5,
          -544757.75,
          -544776.625,
          -544795.25,
          -544820.75,
          -544826,
          -544832.8125,
          -544835.75,
          -544842,
          -544856.5625,
          -544866.4375,
          -544885.625,
          -544892.25,
          -544898.1875,
          -544903.4375,
          -544907.5625,
          -544910.5,
          -544911.0625,
          -544935.9375,
          -544949.4375,
          -544982.375,
          -544986.625,
          -544994.125,
          -544994.25,
          -545000.6875,
          -545018.375,
          -545021.5625,
          -545045,
          -545051,
          -545056.1875,
          -545060.6875,
          -545063,
          -545065.1875,
          -545087.75,
          -545098.5,
          -545128.4375,
          -545133.3125,
          -545139.75,
          -545141.0625,
          -545146.375,
          -545164.3125,
          -545170.0625,
          -545192.9375,
          -545199,
          -545204,
          -545208.0625,
          -545211.8125,
          -545212.75,
          -545234.8125,
          -545253.625,
          -545283.0625,
          -545287.5625,
          -545294.6875,
          -545295.5625,
          -545302.25,
          -545318,
          -545322.25,
          -545342.9375,
          -545348.875,
          -545353.75,
          -545359.125,
          -545361.625,
          -545364.6875,
          -545384.5,
          -545395.625,
          -545421.9375,
          -545427,
          -545433.4375,
          -545435.5625,
          -545440.875,
          -545456.4375,
          -545464.9375,
          -545485.6875,
          -545491.4375,
          -545497,
          -545501.1875,
          -545505.125,
          -545506.5,
          -545507.1875,
          -545533.1875,
          -545536.5625,
          -545571,
          -545574.75,
          -545581,
          -545581.375,
          -545585.8125,
          -545605.6875,
          -545606.875,
          -545632.875,
          -545637.75,
          -545643,
          -545646.125,
          -545648.9375,
          -545666.75,
          -545682,
          -545706.125,
          -545710.5625,
          -545717.125,
          -545719.9375,
          -545725.375,
          -545739.125,
          -545748.1875,
          -545766.625,
          -545772.4375,
          -545777.6875,
          -545781.875,
          -545786.0625,
          -545788.125,
          -545789.0625,
          -545812.4375,
          -545820.3125,
          -545851.625,
          -545855.5625,
          -545861.75,
          -545862.8125,
          -545867.625,
          -545885.1875,
          -545887.5,
          -545911,
          -545916.1875,
          -545920.8125,
          -545924.625,
          -545927.3125,
          -545927.75,
          -545950.4375,
          -545962.4375,
          -545992.8125,
          -545996.8125,
          -546003.5625,
          -546003.625,
          -546009.625,
          -546025.625,
          -546027.75,
          -546049.1875,
          -546054.4375,
          -546059.125,
          -546063.375,
          -546065.25,
          -546067,
          -546087.5,
          -546096.125,
          -546124.125,
          -546127.9375,
          -546134.0625,
          -546135.4375,
          -546140.1875,
          -546156.375,
          -546161.25,
          -546182.375,
          -546187.4375,
          -546192.625,
          -546196.3125,
          -546199.25,
          -546199.6875,
          -546220.5
         ]
        }
       ],
       "layout": {
        "template": {
         "data": {
          "bar": [
           {
            "error_x": {
             "color": "#2a3f5f"
            },
            "error_y": {
             "color": "#2a3f5f"
            },
            "marker": {
             "line": {
              "color": "#E5ECF6",
              "width": 0.5
             }
            },
            "type": "bar"
           }
          ],
          "barpolar": [
           {
            "marker": {
             "line": {
              "color": "#E5ECF6",
              "width": 0.5
             }
            },
            "type": "barpolar"
           }
          ],
          "carpet": [
           {
            "aaxis": {
             "endlinecolor": "#2a3f5f",
             "gridcolor": "white",
             "linecolor": "white",
             "minorgridcolor": "white",
             "startlinecolor": "#2a3f5f"
            },
            "baxis": {
             "endlinecolor": "#2a3f5f",
             "gridcolor": "white",
             "linecolor": "white",
             "minorgridcolor": "white",
             "startlinecolor": "#2a3f5f"
            },
            "type": "carpet"
           }
          ],
          "choropleth": [
           {
            "colorbar": {
             "outlinewidth": 0,
             "ticks": ""
            },
            "type": "choropleth"
           }
          ],
          "contour": [
           {
            "colorbar": {
             "outlinewidth": 0,
             "ticks": ""
            },
            "colorscale": [
             [
              0,
              "#0d0887"
             ],
             [
              0.1111111111111111,
              "#46039f"
             ],
             [
              0.2222222222222222,
              "#7201a8"
             ],
             [
              0.3333333333333333,
              "#9c179e"
             ],
             [
              0.4444444444444444,
              "#bd3786"
             ],
             [
              0.5555555555555556,
              "#d8576b"
             ],
             [
              0.6666666666666666,
              "#ed7953"
             ],
             [
              0.7777777777777778,
              "#fb9f3a"
             ],
             [
              0.8888888888888888,
              "#fdca26"
             ],
             [
              1,
              "#f0f921"
             ]
            ],
            "type": "contour"
           }
          ],
          "contourcarpet": [
           {
            "colorbar": {
             "outlinewidth": 0,
             "ticks": ""
            },
            "type": "contourcarpet"
           }
          ],
          "heatmap": [
           {
            "colorbar": {
             "outlinewidth": 0,
             "ticks": ""
            },
            "colorscale": [
             [
              0,
              "#0d0887"
             ],
             [
              0.1111111111111111,
              "#46039f"
             ],
             [
              0.2222222222222222,
              "#7201a8"
             ],
             [
              0.3333333333333333,
              "#9c179e"
             ],
             [
              0.4444444444444444,
              "#bd3786"
             ],
             [
              0.5555555555555556,
              "#d8576b"
             ],
             [
              0.6666666666666666,
              "#ed7953"
             ],
             [
              0.7777777777777778,
              "#fb9f3a"
             ],
             [
              0.8888888888888888,
              "#fdca26"
             ],
             [
              1,
              "#f0f921"
             ]
            ],
            "type": "heatmap"
           }
          ],
          "heatmapgl": [
           {
            "colorbar": {
             "outlinewidth": 0,
             "ticks": ""
            },
            "colorscale": [
             [
              0,
              "#0d0887"
             ],
             [
              0.1111111111111111,
              "#46039f"
             ],
             [
              0.2222222222222222,
              "#7201a8"
             ],
             [
              0.3333333333333333,
              "#9c179e"
             ],
             [
              0.4444444444444444,
              "#bd3786"
             ],
             [
              0.5555555555555556,
              "#d8576b"
             ],
             [
              0.6666666666666666,
              "#ed7953"
             ],
             [
              0.7777777777777778,
              "#fb9f3a"
             ],
             [
              0.8888888888888888,
              "#fdca26"
             ],
             [
              1,
              "#f0f921"
             ]
            ],
            "type": "heatmapgl"
           }
          ],
          "histogram": [
           {
            "marker": {
             "colorbar": {
              "outlinewidth": 0,
              "ticks": ""
             }
            },
            "type": "histogram"
           }
          ],
          "histogram2d": [
           {
            "colorbar": {
             "outlinewidth": 0,
             "ticks": ""
            },
            "colorscale": [
             [
              0,
              "#0d0887"
             ],
             [
              0.1111111111111111,
              "#46039f"
             ],
             [
              0.2222222222222222,
              "#7201a8"
             ],
             [
              0.3333333333333333,
              "#9c179e"
             ],
             [
              0.4444444444444444,
              "#bd3786"
             ],
             [
              0.5555555555555556,
              "#d8576b"
             ],
             [
              0.6666666666666666,
              "#ed7953"
             ],
             [
              0.7777777777777778,
              "#fb9f3a"
             ],
             [
              0.8888888888888888,
              "#fdca26"
             ],
             [
              1,
              "#f0f921"
             ]
            ],
            "type": "histogram2d"
           }
          ],
          "histogram2dcontour": [
           {
            "colorbar": {
             "outlinewidth": 0,
             "ticks": ""
            },
            "colorscale": [
             [
              0,
              "#0d0887"
             ],
             [
              0.1111111111111111,
              "#46039f"
             ],
             [
              0.2222222222222222,
              "#7201a8"
             ],
             [
              0.3333333333333333,
              "#9c179e"
             ],
             [
              0.4444444444444444,
              "#bd3786"
             ],
             [
              0.5555555555555556,
              "#d8576b"
             ],
             [
              0.6666666666666666,
              "#ed7953"
             ],
             [
              0.7777777777777778,
              "#fb9f3a"
             ],
             [
              0.8888888888888888,
              "#fdca26"
             ],
             [
              1,
              "#f0f921"
             ]
            ],
            "type": "histogram2dcontour"
           }
          ],
          "mesh3d": [
           {
            "colorbar": {
             "outlinewidth": 0,
             "ticks": ""
            },
            "type": "mesh3d"
           }
          ],
          "parcoords": [
           {
            "line": {
             "colorbar": {
              "outlinewidth": 0,
              "ticks": ""
             }
            },
            "type": "parcoords"
           }
          ],
          "scatter": [
           {
            "marker": {
             "colorbar": {
              "outlinewidth": 0,
              "ticks": ""
             }
            },
            "type": "scatter"
           }
          ],
          "scatter3d": [
           {
            "line": {
             "colorbar": {
              "outlinewidth": 0,
              "ticks": ""
             }
            },
            "marker": {
             "colorbar": {
              "outlinewidth": 0,
              "ticks": ""
             }
            },
            "type": "scatter3d"
           }
          ],
          "scattercarpet": [
           {
            "marker": {
             "colorbar": {
              "outlinewidth": 0,
              "ticks": ""
             }
            },
            "type": "scattercarpet"
           }
          ],
          "scattergeo": [
           {
            "marker": {
             "colorbar": {
              "outlinewidth": 0,
              "ticks": ""
             }
            },
            "type": "scattergeo"
           }
          ],
          "scattergl": [
           {
            "marker": {
             "colorbar": {
              "outlinewidth": 0,
              "ticks": ""
             }
            },
            "type": "scattergl"
           }
          ],
          "scattermapbox": [
           {
            "marker": {
             "colorbar": {
              "outlinewidth": 0,
              "ticks": ""
             }
            },
            "type": "scattermapbox"
           }
          ],
          "scatterpolar": [
           {
            "marker": {
             "colorbar": {
              "outlinewidth": 0,
              "ticks": ""
             }
            },
            "type": "scatterpolar"
           }
          ],
          "scatterpolargl": [
           {
            "marker": {
             "colorbar": {
              "outlinewidth": 0,
              "ticks": ""
             }
            },
            "type": "scatterpolargl"
           }
          ],
          "scatterternary": [
           {
            "marker": {
             "colorbar": {
              "outlinewidth": 0,
              "ticks": ""
             }
            },
            "type": "scatterternary"
           }
          ],
          "surface": [
           {
            "colorbar": {
             "outlinewidth": 0,
             "ticks": ""
            },
            "colorscale": [
             [
              0,
              "#0d0887"
             ],
             [
              0.1111111111111111,
              "#46039f"
             ],
             [
              0.2222222222222222,
              "#7201a8"
             ],
             [
              0.3333333333333333,
              "#9c179e"
             ],
             [
              0.4444444444444444,
              "#bd3786"
             ],
             [
              0.5555555555555556,
              "#d8576b"
             ],
             [
              0.6666666666666666,
              "#ed7953"
             ],
             [
              0.7777777777777778,
              "#fb9f3a"
             ],
             [
              0.8888888888888888,
              "#fdca26"
             ],
             [
              1,
              "#f0f921"
             ]
            ],
            "type": "surface"
           }
          ],
          "table": [
           {
            "cells": {
             "fill": {
              "color": "#EBF0F8"
             },
             "line": {
              "color": "white"
             }
            },
            "header": {
             "fill": {
              "color": "#C8D4E3"
             },
             "line": {
              "color": "white"
             }
            },
            "type": "table"
           }
          ]
         },
         "layout": {
          "annotationdefaults": {
           "arrowcolor": "#2a3f5f",
           "arrowhead": 0,
           "arrowwidth": 1
          },
          "colorscale": {
           "diverging": [
            [
             0,
             "#8e0152"
            ],
            [
             0.1,
             "#c51b7d"
            ],
            [
             0.2,
             "#de77ae"
            ],
            [
             0.3,
             "#f1b6da"
            ],
            [
             0.4,
             "#fde0ef"
            ],
            [
             0.5,
             "#f7f7f7"
            ],
            [
             0.6,
             "#e6f5d0"
            ],
            [
             0.7,
             "#b8e186"
            ],
            [
             0.8,
             "#7fbc41"
            ],
            [
             0.9,
             "#4d9221"
            ],
            [
             1,
             "#276419"
            ]
           ],
           "sequential": [
            [
             0,
             "#0d0887"
            ],
            [
             0.1111111111111111,
             "#46039f"
            ],
            [
             0.2222222222222222,
             "#7201a8"
            ],
            [
             0.3333333333333333,
             "#9c179e"
            ],
            [
             0.4444444444444444,
             "#bd3786"
            ],
            [
             0.5555555555555556,
             "#d8576b"
            ],
            [
             0.6666666666666666,
             "#ed7953"
            ],
            [
             0.7777777777777778,
             "#fb9f3a"
            ],
            [
             0.8888888888888888,
             "#fdca26"
            ],
            [
             1,
             "#f0f921"
            ]
           ],
           "sequentialminus": [
            [
             0,
             "#0d0887"
            ],
            [
             0.1111111111111111,
             "#46039f"
            ],
            [
             0.2222222222222222,
             "#7201a8"
            ],
            [
             0.3333333333333333,
             "#9c179e"
            ],
            [
             0.4444444444444444,
             "#bd3786"
            ],
            [
             0.5555555555555556,
             "#d8576b"
            ],
            [
             0.6666666666666666,
             "#ed7953"
            ],
            [
             0.7777777777777778,
             "#fb9f3a"
            ],
            [
             0.8888888888888888,
             "#fdca26"
            ],
            [
             1,
             "#f0f921"
            ]
           ]
          },
          "colorway": [
           "#636efa",
           "#EF553B",
           "#00cc96",
           "#ab63fa",
           "#FFA15A",
           "#19d3f3",
           "#FF6692",
           "#B6E880",
           "#FF97FF",
           "#FECB52"
          ],
          "font": {
           "color": "#2a3f5f"
          },
          "geo": {
           "bgcolor": "white",
           "lakecolor": "white",
           "landcolor": "#E5ECF6",
           "showlakes": true,
           "showland": true,
           "subunitcolor": "white"
          },
          "hoverlabel": {
           "align": "left"
          },
          "hovermode": "closest",
          "mapbox": {
           "style": "light"
          },
          "paper_bgcolor": "white",
          "plot_bgcolor": "#E5ECF6",
          "polar": {
           "angularaxis": {
            "gridcolor": "white",
            "linecolor": "white",
            "ticks": ""
           },
           "bgcolor": "#E5ECF6",
           "radialaxis": {
            "gridcolor": "white",
            "linecolor": "white",
            "ticks": ""
           }
          },
          "scene": {
           "xaxis": {
            "backgroundcolor": "#E5ECF6",
            "gridcolor": "white",
            "gridwidth": 2,
            "linecolor": "white",
            "showbackground": true,
            "ticks": "",
            "zerolinecolor": "white"
           },
           "yaxis": {
            "backgroundcolor": "#E5ECF6",
            "gridcolor": "white",
            "gridwidth": 2,
            "linecolor": "white",
            "showbackground": true,
            "ticks": "",
            "zerolinecolor": "white"
           },
           "zaxis": {
            "backgroundcolor": "#E5ECF6",
            "gridcolor": "white",
            "gridwidth": 2,
            "linecolor": "white",
            "showbackground": true,
            "ticks": "",
            "zerolinecolor": "white"
           }
          },
          "shapedefaults": {
           "line": {
            "color": "#2a3f5f"
           }
          },
          "ternary": {
           "aaxis": {
            "gridcolor": "white",
            "linecolor": "white",
            "ticks": ""
           },
           "baxis": {
            "gridcolor": "white",
            "linecolor": "white",
            "ticks": ""
           },
           "bgcolor": "#E5ECF6",
           "caxis": {
            "gridcolor": "white",
            "linecolor": "white",
            "ticks": ""
           }
          },
          "title": {
           "x": 0.05
          },
          "xaxis": {
           "automargin": true,
           "gridcolor": "white",
           "linecolor": "white",
           "ticks": "",
           "zerolinecolor": "white",
           "zerolinewidth": 2
          },
          "yaxis": {
           "automargin": true,
           "gridcolor": "white",
           "linecolor": "white",
           "ticks": "",
           "zerolinecolor": "white",
           "zerolinewidth": 2
          }
         }
        },
        "title": {
         "text": "Energy Minimization"
        },
        "xaxis": {
         "title": {
          "text": "Energy Minimization Step"
         }
        },
        "yaxis": {
         "title": {
          "text": "Potential Energy KJ/mol-1"
         }
        }
       }
      },
      "text/html": [
       "<div>\n",
       "        \n",
       "        \n",
       "            <div id=\"fd7762cc-8cd9-4d11-8817-88c84aa5fd25\" class=\"plotly-graph-div\" style=\"height:525px; width:100%;\"></div>\n",
       "            <script type=\"text/javascript\">\n",
       "                require([\"plotly\"], function(Plotly) {\n",
       "                    window.PLOTLYENV=window.PLOTLYENV || {};\n",
       "                    \n",
       "                if (document.getElementById(\"fd7762cc-8cd9-4d11-8817-88c84aa5fd25\")) {\n",
       "                    Plotly.newPlot(\n",
       "                        'fd7762cc-8cd9-4d11-8817-88c84aa5fd25',\n",
       "                        [{\"type\": \"scatter\", \"x\": [0.0, 1.0, 2.0, 3.0, 4.0, 5.0, 6.0, 7.0, 8.0, 9.0, 10.0, 12.0, 13.0, 14.0, 16.0, 17.0, 18.0, 19.0, 20.0, 22.0, 23.0, 24.0, 26.0, 27.0, 28.0, 29.0, 31.0, 32.0, 33.0, 35.0, 36.0, 37.0, 39.0, 40.0, 41.0, 43.0, 44.0, 45.0, 46.0, 47.0, 49.0, 51.0, 52.0, 53.0, 54.0, 56.0, 57.0, 58.0, 60.0, 61.0, 62.0, 64.0, 65.0, 66.0, 67.0, 68.0, 70.0, 71.0, 72.0, 74.0, 75.0, 76.0, 78.0, 79.0, 80.0, 82.0, 83.0, 84.0, 85.0, 86.0, 88.0, 89.0, 90.0, 92.0, 93.0, 94.0, 95.0, 96.0, 98.0, 99.0, 100.0, 102.0, 103.0, 104.0, 105.0, 106.0, 108.0, 109.0, 110.0, 112.0, 113.0, 114.0, 115.0, 116.0, 118.0, 119.0, 120.0, 122.0, 123.0, 124.0, 125.0, 127.0, 128.0, 129.0, 131.0, 132.0, 133.0, 134.0, 136.0, 137.0, 138.0, 140.0, 141.0, 142.0, 143.0, 144.0, 146.0, 147.0, 148.0, 150.0, 151.0, 152.0, 153.0, 154.0, 156.0, 157.0, 158.0, 160.0, 161.0, 162.0, 163.0, 164.0, 165.0, 167.0, 168.0, 169.0, 171.0, 172.0, 174.0, 175.0, 176.0, 178.0, 179.0, 180.0, 181.0, 182.0, 184.0, 185.0, 186.0, 188.0, 189.0, 190.0, 191.0, 192.0, 194.0, 195.0, 196.0, 198.0, 199.0, 200.0, 201.0, 202.0, 204.0, 205.0, 206.0, 208.0, 209.0, 210.0, 211.0, 213.0, 214.0, 215.0, 217.0, 218.0, 219.0, 220.0, 222.0, 223.0, 224.0, 226.0, 227.0, 228.0, 229.0, 230.0, 232.0, 233.0, 234.0, 236.0, 237.0, 238.0, 239.0, 240.0, 242.0, 243.0, 244.0, 246.0, 247.0, 248.0, 249.0, 251.0, 252.0, 253.0, 255.0, 256.0, 257.0, 258.0, 260.0, 261.0, 262.0, 264.0, 265.0, 266.0, 267.0, 268.0, 270.0, 271.0, 272.0, 274.0, 275.0, 276.0, 277.0, 278.0, 279.0, 281.0, 282.0, 283.0, 285.0, 286.0, 288.0, 289.0, 290.0, 292.0, 293.0, 294.0, 295.0, 296.0, 298.0, 299.0, 300.0, 302.0, 303.0, 304.0, 305.0, 306.0, 308.0, 309.0, 310.0, 312.0, 313.0, 314.0, 315.0, 316.0, 317.0, 319.0, 320.0, 321.0, 323.0, 324.0, 326.0, 327.0, 328.0, 330.0, 331.0, 332.0, 333.0, 334.0, 336.0, 337.0, 338.0, 340.0, 341.0, 342.0, 343.0, 344.0, 345.0, 346.0, 348.0, 350.0, 351.0, 352.0, 353.0, 355.0, 356.0, 357.0, 359.0, 360.0, 361.0, 362.0, 363.0, 365.0, 366.0, 367.0, 369.0, 370.0, 371.0, 372.0, 373.0, 375.0, 376.0, 377.0, 379.0, 380.0, 381.0, 382.0, 383.0, 384.0, 386.0, 387.0, 388.0, 390.0, 391.0, 392.0, 393.0, 395.0, 396.0, 397.0, 399.0, 400.0, 401.0, 402.0, 404.0, 405.0, 406.0, 408.0, 409.0, 410.0, 411.0, 412.0, 414.0, 415.0, 416.0, 418.0, 419.0, 420.0, 421.0, 423.0, 424.0, 425.0, 427.0, 428.0, 429.0, 430.0, 432.0, 433.0, 434.0, 436.0, 437.0, 438.0, 439.0, 440.0, 441.0, 443.0, 444.0, 445.0, 447.0, 448.0, 450.0, 451.0, 452.0, 454.0, 455.0, 456.0, 457.0, 458.0, 459.0, 460.0, 462.0, 464.0, 465.0, 466.0, 467.0, 469.0, 470.0, 471.0, 473.0, 474.0, 475.0, 476.0, 477.0, 479.0, 480.0, 481.0, 483.0, 484.0, 485.0, 486.0, 487.0, 489.0, 490.0, 491.0, 493.0, 494.0, 495.0, 496.0, 497.0, 498.0, 500.0, 501.0, 502.0, 504.0, 505.0, 506.0, 507.0, 509.0, 510.0, 511.0, 513.0, 514.0, 515.0, 516.0, 518.0, 519.0, 520.0, 522.0, 523.0, 524.0, 525.0, 526.0, 527.0, 529.0, 530.0, 531.0, 533.0, 534.0, 536.0, 537.0, 538.0, 540.0, 541.0, 542.0, 543.0, 544.0, 545.0, 546.0, 548.0, 550.0, 551.0, 552.0, 553.0, 555.0, 556.0, 557.0, 559.0, 560.0, 561.0, 562.0, 563.0, 565.0, 566.0, 567.0, 569.0, 570.0, 571.0, 572.0, 573.0, 575.0, 576.0, 577.0, 579.0, 580.0, 581.0, 582.0, 583.0, 584.0, 586.0, 587.0, 588.0, 590.0, 591.0, 592.0, 593.0, 595.0, 596.0, 597.0, 599.0, 600.0, 601.0, 602.0, 604.0, 605.0, 606.0, 608.0, 609.0, 610.0, 611.0, 612.0, 613.0, 615.0, 616.0, 617.0, 619.0, 620.0, 621.0, 622.0, 624.0, 625.0, 626.0, 628.0, 629.0, 630.0, 631.0, 632.0, 634.0, 635.0, 636.0, 638.0, 639.0, 640.0, 641.0, 643.0, 644.0, 645.0, 647.0, 648.0, 649.0, 650.0, 652.0, 653.0, 654.0, 656.0, 657.0, 658.0, 659.0, 661.0, 662.0, 663.0, 665.0, 666.0, 667.0, 668.0, 669.0, 670.0, 672.0, 673.0, 674.0, 676.0, 677.0, 678.0, 679.0, 681.0, 682.0, 683.0, 685.0, 686.0, 687.0, 688.0, 690.0, 691.0, 692.0, 694.0, 695.0, 696.0, 697.0, 698.0, 699.0, 701.0, 702.0, 703.0, 705.0, 706.0, 707.0, 708.0, 710.0, 711.0, 712.0, 714.0, 715.0, 716.0, 717.0, 718.0, 720.0, 721.0, 722.0, 724.0, 725.0, 726.0, 727.0, 729.0, 730.0, 731.0, 733.0, 734.0, 735.0, 736.0, 737.0, 739.0, 740.0, 741.0, 743.0, 744.0, 745.0, 746.0, 748.0, 749.0, 750.0, 752.0, 753.0, 754.0, 755.0, 756.0, 758.0, 759.0, 760.0, 762.0, 763.0, 764.0, 765.0, 767.0, 768.0, 769.0, 771.0, 772.0, 773.0, 774.0, 775.0, 776.0, 778.0, 780.0, 781.0, 782.0, 783.0, 785.0, 786.0, 787.0, 789.0, 790.0, 791.0, 793.0, 794.0, 795.0, 796.0, 797.0, 799.0, 800.0, 801.0, 803.0, 804.0, 805.0, 806.0, 807.0, 809.0, 810.0, 811.0, 813.0, 814.0, 815.0, 816.0, 817.0, 819.0, 820.0, 821.0, 823.0, 824.0, 825.0, 826.0, 827.0, 828.0, 830.0, 831.0, 832.0, 834.0, 835.0, 836.0, 837.0, 839.0, 840.0, 841.0, 843.0, 844.0, 845.0, 846.0, 848.0, 849.0, 850.0, 852.0, 853.0, 854.0, 855.0, 857.0, 858.0, 859.0, 861.0, 862.0, 863.0, 864.0, 865.0, 866.0, 868.0, 869.0, 870.0, 872.0, 873.0, 874.0, 875.0, 877.0, 878.0, 879.0, 881.0, 882.0, 883.0, 884.0, 885.0, 887.0, 888.0, 889.0, 891.0, 892.0, 893.0, 894.0, 896.0, 897.0, 898.0, 900.0, 901.0, 902.0, 903.0, 904.0, 906.0, 907.0, 908.0, 910.0, 911.0, 912.0, 913.0, 915.0, 916.0, 917.0, 919.0, 920.0, 921.0, 922.0, 923.0, 925.0, 926.0, 927.0, 929.0, 930.0, 931.0, 932.0, 934.0, 935.0, 936.0, 938.0, 939.0, 940.0, 941.0, 942.0, 943.0, 945.0, 946.0, 947.0, 949.0, 950.0, 951.0, 952.0, 954.0, 955.0, 956.0, 958.0, 959.0, 960.0, 961.0, 963.0, 964.0, 965.0, 967.0, 968.0, 969.0, 970.0, 972.0, 973.0, 974.0, 976.0, 977.0, 978.0, 979.0, 980.0, 981.0, 983.0, 984.0, 985.0, 987.0, 988.0, 989.0, 990.0, 992.0, 993.0, 994.0, 996.0, 997.0, 998.0, 999.0, 1000.0, 1002.0, 1003.0, 1004.0, 1006.0, 1007.0, 1008.0, 1009.0, 1011.0, 1012.0, 1013.0, 1015.0, 1016.0, 1017.0, 1018.0, 1019.0, 1021.0, 1022.0, 1023.0, 1025.0, 1026.0, 1027.0, 1028.0, 1030.0, 1031.0, 1032.0, 1034.0, 1035.0, 1036.0, 1037.0, 1038.0, 1040.0, 1041.0, 1042.0, 1044.0, 1045.0, 1046.0, 1047.0, 1049.0, 1050.0, 1051.0, 1053.0, 1054.0, 1055.0, 1056.0, 1057.0, 1059.0, 1060.0, 1061.0, 1063.0, 1064.0, 1065.0, 1066.0, 1068.0, 1069.0, 1070.0, 1072.0, 1073.0, 1074.0, 1075.0, 1076.0, 1077.0, 1079.0, 1080.0, 1081.0, 1083.0, 1084.0, 1086.0, 1087.0, 1088.0, 1090.0, 1091.0, 1092.0, 1093.0, 1094.0, 1095.0, 1096.0, 1098.0, 1099.0, 1100.0, 1102.0, 1103.0, 1104.0, 1105.0, 1107.0, 1108.0, 1109.0, 1111.0, 1112.0, 1113.0, 1114.0, 1116.0, 1117.0, 1118.0, 1120.0, 1121.0, 1122.0, 1123.0, 1125.0, 1126.0, 1127.0, 1129.0, 1130.0, 1131.0, 1132.0, 1133.0, 1134.0, 1136.0, 1137.0, 1138.0, 1140.0, 1141.0, 1142.0, 1143.0, 1145.0, 1146.0, 1147.0, 1149.0, 1150.0, 1151.0, 1152.0, 1153.0, 1155.0, 1156.0, 1157.0, 1159.0, 1160.0, 1161.0, 1162.0, 1164.0, 1165.0, 1166.0, 1168.0, 1169.0, 1170.0, 1171.0, 1172.0, 1174.0, 1175.0, 1176.0, 1178.0, 1179.0, 1180.0, 1181.0, 1183.0, 1184.0, 1185.0, 1187.0, 1188.0, 1189.0, 1190.0, 1191.0, 1193.0, 1194.0, 1195.0, 1197.0, 1198.0, 1199.0, 1200.0, 1202.0, 1203.0, 1204.0, 1206.0, 1207.0, 1208.0, 1209.0, 1210.0, 1212.0, 1213.0, 1214.0, 1216.0, 1217.0, 1218.0, 1219.0, 1221.0, 1222.0, 1223.0, 1225.0, 1226.0, 1227.0, 1228.0, 1229.0, 1230.0, 1232.0, 1233.0, 1234.0, 1236.0, 1237.0, 1239.0, 1240.0, 1241.0, 1243.0, 1244.0, 1245.0, 1246.0, 1247.0, 1248.0, 1249.0, 1251.0, 1252.0, 1253.0, 1255.0, 1256.0, 1257.0, 1258.0, 1260.0, 1261.0, 1262.0, 1264.0, 1265.0, 1266.0, 1267.0, 1269.0, 1270.0, 1271.0, 1273.0, 1274.0, 1275.0, 1276.0, 1278.0, 1279.0, 1280.0, 1282.0, 1283.0, 1284.0, 1285.0, 1286.0, 1287.0, 1289.0, 1290.0, 1291.0, 1293.0, 1294.0, 1295.0, 1296.0, 1298.0, 1299.0, 1300.0, 1302.0, 1303.0, 1304.0, 1305.0, 1306.0, 1308.0, 1309.0, 1310.0, 1312.0, 1313.0, 1314.0, 1315.0, 1317.0, 1318.0, 1319.0, 1321.0, 1322.0, 1323.0, 1324.0, 1325.0, 1327.0, 1328.0, 1329.0, 1331.0, 1332.0, 1333.0, 1334.0, 1336.0, 1337.0, 1338.0, 1340.0, 1341.0, 1342.0, 1343.0, 1344.0, 1345.0, 1347.0, 1348.0, 1349.0, 1351.0, 1352.0, 1354.0, 1355.0, 1356.0, 1358.0, 1359.0, 1360.0, 1361.0, 1362.0, 1363.0, 1364.0, 1366.0, 1367.0, 1368.0, 1370.0, 1371.0, 1372.0, 1373.0, 1375.0, 1376.0, 1377.0, 1379.0, 1380.0, 1381.0, 1382.0, 1384.0, 1385.0, 1386.0, 1388.0, 1389.0, 1390.0, 1391.0, 1393.0, 1394.0, 1395.0, 1397.0, 1398.0, 1399.0, 1400.0, 1401.0, 1402.0, 1404.0, 1405.0, 1406.0, 1408.0, 1409.0, 1410.0, 1411.0, 1413.0, 1414.0, 1415.0, 1417.0, 1418.0, 1419.0, 1420.0, 1421.0, 1423.0, 1424.0, 1425.0, 1427.0, 1428.0, 1429.0, 1430.0, 1432.0, 1433.0, 1434.0, 1436.0, 1437.0, 1438.0, 1439.0, 1440.0, 1442.0, 1443.0, 1444.0, 1446.0, 1447.0, 1448.0, 1449.0, 1451.0, 1452.0, 1453.0, 1455.0, 1456.0, 1457.0, 1458.0, 1459.0, 1461.0, 1462.0, 1463.0, 1465.0, 1466.0, 1467.0, 1468.0, 1470.0, 1471.0, 1472.0, 1474.0, 1475.0, 1476.0, 1477.0, 1478.0, 1479.0, 1481.0, 1482.0, 1483.0, 1485.0, 1486.0, 1488.0, 1489.0, 1490.0, 1492.0, 1493.0, 1494.0, 1495.0, 1496.0, 1497.0, 1498.0, 1500.0, 1501.0, 1502.0, 1504.0, 1505.0, 1506.0, 1507.0, 1509.0, 1510.0, 1511.0, 1513.0, 1514.0, 1515.0, 1516.0, 1518.0, 1519.0, 1520.0, 1522.0, 1523.0, 1524.0, 1525.0, 1527.0, 1528.0, 1529.0, 1531.0, 1532.0, 1533.0, 1534.0, 1535.0, 1536.0, 1538.0, 1539.0, 1540.0, 1542.0, 1543.0, 1544.0, 1545.0, 1547.0, 1548.0, 1549.0, 1551.0, 1552.0, 1553.0, 1554.0, 1555.0, 1557.0, 1558.0, 1559.0, 1561.0, 1562.0, 1563.0, 1564.0, 1566.0, 1567.0, 1568.0, 1570.0, 1571.0, 1572.0, 1573.0, 1574.0, 1576.0, 1577.0, 1578.0, 1580.0, 1581.0, 1582.0, 1583.0, 1585.0, 1586.0, 1587.0, 1589.0, 1590.0, 1591.0, 1592.0, 1593.0, 1595.0, 1596.0, 1597.0, 1599.0, 1600.0, 1601.0, 1602.0, 1604.0, 1605.0, 1606.0, 1608.0, 1609.0, 1610.0, 1611.0, 1612.0, 1613.0, 1615.0, 1616.0, 1617.0, 1619.0, 1620.0, 1621.0, 1622.0, 1624.0, 1625.0, 1626.0, 1628.0, 1629.0, 1630.0, 1631.0, 1633.0, 1634.0, 1635.0, 1637.0, 1638.0, 1639.0, 1640.0, 1642.0, 1643.0, 1644.0, 1646.0, 1647.0, 1648.0, 1649.0, 1650.0, 1651.0, 1653.0, 1654.0, 1655.0, 1657.0, 1658.0, 1659.0, 1660.0, 1662.0, 1663.0, 1664.0, 1666.0, 1667.0, 1668.0, 1669.0, 1670.0, 1672.0, 1673.0, 1674.0, 1676.0, 1677.0, 1678.0, 1679.0, 1681.0, 1682.0, 1683.0, 1685.0, 1686.0, 1687.0, 1688.0, 1689.0, 1691.0, 1692.0, 1693.0, 1695.0, 1696.0, 1697.0, 1698.0, 1700.0, 1701.0, 1702.0, 1704.0, 1705.0, 1706.0, 1707.0, 1708.0, 1710.0], \"y\": [-266410.875, -309276.9375, -348003.84375, -376393.0, -397856.9375, -406579.0625, -413797.21875, -424182.90625, -427675.53125, -430730.21875, -433099.71875, -437163.3125, -438823.28125, -442339.8125, -444169.875, -445635.5, -447252.96875, -447968.9375, -449133.78125, -452039.40625, -453578.03125, -457525.78125, -458353.25, -459254.375, -459609.0625, -460269.875, -462626.09375, -463061.0, -466099.25, -466780.09375, -467170.03125, -467693.28125, -469278.75, -470216.40625, -472200.75, -472754.3125, -473161.96875, -473605.5625, -473710.90625, -473926.5, -475836.34375, -476598.65625, -477318.375, -477434.40625, -478251.03125, -478932.5625, -479181.28125, -479990.3125, -480510.78125, -480821.1875, -481397.34375, -481899.625, -482336.46875, -482925.53125, -482944.8125, -483616.375, -484210.3125, -484337.34375, -485055.53125, -485490.28125, -485694.84375, -486178.0625, -486615.6875, -486929.1875, -487450.25, -487790.6875, -488078.9375, -488450.0625, -488545.9375, -488930.28125, -489448.3125, -489659.6875, -490316.28125, -490608.5, -490801.25, -491090.1875, -491132.0, -491383.0, -492047.71875, -492163.75, -492989.125, -493227.875, -493393.28125, -493609.1875, -493666.0, -493826.34375, -494517.96875, -494727.59375, -495551.3125, -495741.53125, -495907.21875, -496055.46875, -496140.9375, -496210.75, -496902.375, -497227.6875, -498052.8125, -498202.875, -498364.6875, -498459.65625, -498559.40625, -499055.625, -499506.5, -500136.90625, -500280.09375, -500458.53125, -500533.40625, -500701.5625, -501024.46875, -501249.09375, -501643.09375, -501798.1875, -501927.75, -502073.34375, -502149.28125, -502269.15625, -502615.40625, -502878.625, -503304.8125, -503439.84375, -503561.0625, -503675.0625, -503753.09375, -503826.1875, -504200.59375, -504517.9375, -504980.78125, -505095.28125, -505211.28125, -505294.53125, -505374.15625, -505401.75, -505402.59375, -505943.78125, -506017.9375, -506733.09375, -506792.875, -506923.71875, -507126.9375, -507287.34375, -507537.6875, -507652.40625, -507749.5625, -507861.8125, -507918.90625, -508018.21875, -508245.84375, -508430.65625, -508714.6875, -508818.125, -508908.34375, -508999.65625, -509056.90625, -509124.1875, -509381.09375, -509599.71875, -509922.3125, -510012.8125, -510099.90625, -510169.34375, -510228.40625, -510260.75, -510551.6875, -510821.53125, -511186.59375, -511262.1875, -511347.96875, -511393.9375, -511454.65625, -511679.5, -511875.53125, -512175.5625, -512251.3125, -512339.59375, -512384.03125, -512463.71875, -512636.28125, -512775.03125, -512990.875, -513072.125, -513142.6875, -513215.9375, -513260.28125, -513315.375, -513513.4375, -513679.71875, -513930.34375, -514002.25, -514071.21875, -514126.84375, -514173.71875, -514200.65625, -514429.1875, -514640.875, -514931.375, -514991.21875, -515060.3125, -515097.09375, -515146.53125, -515326.03125, -515479.4375, -515719.25, -515780.65625, -515851.3125, -515887.625, -515951.1875, -516091.28125, -516206.75, -516383.21875, -516449.25, -516506.75, -516565.5, -516602.625, -516645.625, -516808.5625, -516952.0, -517159.4375, -517217.5625, -517274.8125, -517319.21875, -517359.3125, -517378.65625, -517381.46875, -517636.90625, -517709.15625, -518053.125, -518085.28125, -518154.28125, -518254.15625, -518336.125, -518460.5, -518520.5, -518572.125, -518632.0625, -518662.5625, -518716.75, -518833.03125, -518929.65625, -519076.03125, -519131.625, -519180.71875, -519230.53125, -519262.375, -519299.53125, -519435.40625, -519559.09375, -519732.375, -519782.0625, -519831.21875, -519869.1875, -519904.21875, -519920.9375, -519925.34375, -520138.71875, -520202.75, -520490.3125, -520519.0, -520577.5625, -520662.21875, -520735.53125, -520841.375, -520893.03125, -520937.875, -520989.0, -521016.6875, -521062.96875, -521161.75, -521250.8125, -521376.21875, -521423.84375, -521466.9375, -521509.375, -521538.875, -521570.40625, -521572.5, -521579.0, -521791.25, -521867.3125, -521945.21875, -521951.875, -522042.90625, -522109.28125, -522134.46875, -522214.3125, -522271.4375, -522310.28125, -522374.65625, -522378.21875, -522447.0, -522532.9375, -522555.5, -522665.0, -522714.0, -522746.3125, -522795.21875, -522806.21875, -522847.1875, -522958.59375, -522999.84375, -523146.96875, -523186.625, -523224.1875, -523253.28125, -523279.96875, -523287.46875, -523291.21875, -523476.4375, -523484.21875, -523726.53125, -523751.25, -523789.34375, -523793.9375, -523815.5625, -523961.90625, -523977.40625, -524174.65625, -524203.6875, -524242.15625, -524252.0, -524281.09375, -524399.0625, -524433.3125, -524586.25, -524621.0, -524653.125, -524678.125, -524696.0625, -524702.0625, -524846.25, -524917.6875, -525105.125, -525131.625, -525169.1875, -525178.5625, -525205.6875, -525316.0, -525352.375, -525499.4375, -525530.1875, -525564.3125, -525582.5625, -525608.875, -525701.875, -525768.75, -525888.6875, -525921.8125, -525954.1875, -525978.8125, -526001.6875, -526011.25, -526013.5, -526162.1875, -526195.125, -526394.625, -526413.625, -526452.3125, -526511.8125, -526562.4375, -526637.0, -526671.6875, -526702.5, -526736.125, -526755.5, -526784.875, -526784.9375, -526802.3125, -526929.6875, -526979.4375, -527027.75, -527041.0, -527096.3125, -527142.1875, -527168.125, -527223.0625, -527260.5, -527291.5, -527332.5625, -527343.5, -527386.5, -527443.6875, -527473.4375, -527546.375, -527579.875, -527606.3125, -527639.3125, -527653.625, -527681.125, -527752.8125, -527806.0, -527900.625, -527930.0, -527959.0, -527980.8125, -528004.25, -528012.5, -528022.6875, -528136.0, -528161.4375, -528309.8125, -528331.625, -528359.1875, -528368.5625, -528386.5625, -528478.3125, -528514.25, -528636.3125, -528660.0, -528688.6875, -528701.0625, -528723.9375, -528798.25, -528842.9375, -528939.25, -528965.75, -528990.9375, -529011.4375, -529029.0, -529037.1875, -529037.375, -529159.1875, -529188.625, -529351.6875, -529366.875, -529398.625, -529446.75, -529486.5625, -529547.5, -529575.75, -529600.75, -529628.0, -529643.75, -529667.5, -529667.625, -529680.9375, -529785.4375, -529826.375, -529866.125, -529876.625, -529923.0, -529960.25, -529980.6875, -530025.1875, -530055.8125, -530081.25, -530116.0625, -530124.3125, -530160.875, -530206.625, -530229.9375, -530287.75, -530315.9375, -530337.5, -530365.5625, -530376.75, -530401.0, -530459.0625, -530496.5, -530572.0625, -530596.6875, -530619.75, -530639.5625, -530656.5625, -530666.3125, -530671.5625, -530766.5, -530803.0, -530927.875, -530944.875, -530969.8125, -530975.4375, -530994.0625, -531066.9375, -531087.8125, -531184.625, -531205.375, -531227.25, -531240.3125, -531255.9375, -531319.625, -531372.625, -531455.125, -531477.0, -531499.875, -531514.75, -531532.5625, -531535.875, -531541.75, -531638.625, -531645.8125, -531775.1875, -531789.625, -531813.25, -531814.875, -531832.875, -531906.875, -531913.3125, -532010.5, -532030.6875, -532048.8125, -532062.0, -532071.5, -532071.9375, -532164.75, -532199.9375, -532322.5, -532336.1875, -532359.875, -532361.5625, -532380.5625, -532448.6875, -532456.3125, -532546.75, -532565.9375, -532584.1875, -532596.625, -532607.8125, -532669.875, -532725.6875, -532806.8125, -532825.25, -532847.0, -532857.6875, -532875.875, -532924.75, -532966.5, -533030.875, -533051.25, -533071.375, -533086.6875, -533103.3125, -533108.8125, -533116.4375, -533192.8125, -533212.4375, -533312.8125, -533328.125, -533348.25, -533354.25, -533368.125, -533429.125, -533452.5, -533533.5625, -533551.0, -533569.75, -533580.0, -533594.375, -533646.1875, -533686.6875, -533753.9375, -533772.3125, -533791.0625, -533804.25, -533819.0625, -533822.4375, -533827.375, -533907.1875, -533917.125, -534024.125, -534036.25, -534056.1875, -534058.0, -534072.8125, -534134.375, -534140.9375, -534221.375, -534238.3125, -534253.6875, -534264.9375, -534273.1875, -534273.4375, -534350.4375, -534385.0, -534486.75, -534498.0625, -534518.5625, -534519.5, -534536.125, -534592.0625, -534597.75, -534671.75, -534688.3125, -534702.8125, -534714.4375, -534722.8125, -534723.875, -534795.5, -534832.8125, -534928.1875, -534939.5, -534959.875, -534960.75, -534978.5, -535029.3125, -535034.1875, -535100.625, -535117.3125, -535130.5625, -535143.75, -535149.875, -535155.4375, -535219.25, -535240.8125, -535325.1875, -535337.5625, -535355.0625, -535359.6875, -535372.625, -535422.6875, -535439.875, -535505.6875, -535520.75, -535536.0625, -535545.9375, -535556.625, -535556.6875, -535557.4375, -535638.25, -535666.125, -535695.75, -535696.75, -535732.5625, -535756.0625, -535764.5, -535791.75, -535814.25, -535828.6875, -535854.8125, -535874.0, -535890.9375, -535912.5625, -535918.875, -535942.375, -535968.625, -535984.125, -536016.625, -536034.5625, -536048.75, -536067.0, -536074.1875, -536092.0625, -536124.5, -536144.125, -536185.0, -536201.4375, -536215.1875, -536229.9375, -536238.75, -536250.125, -536289.6875, -536323.25, -536374.75, -536389.0, -536404.0, -536414.625, -536426.875, -536430.125, -536434.75, -536495.0625, -536504.5625, -536585.25, -536595.3125, -536610.75, -536613.3125, -536624.75, -536671.75, -536681.125, -536743.125, -536756.0, -536768.8125, -536777.5625, -536785.25, -536827.4375, -536867.1875, -536923.4375, -536936.125, -536951.3125, -536958.5, -536972.3125, -537004.6875, -537029.3125, -537071.3125, -537085.6875, -537099.125, -537110.75, -537120.5625, -537126.6875, -537129.375, -537183.4375, -537213.125, -537285.375, -537294.9375, -537310.5625, -537312.5, -537326.5, -537365.5, -537373.0, -537424.25, -537437.5, -537448.5625, -537459.1875, -537464.5625, -537469.0625, -537518.625, -537543.0, -537608.3125, -537618.4375, -537633.0, -537636.4375, -537648.1875, -537685.875, -537698.875, -537748.4375, -537760.8125, -537773.0625, -537781.5625, -537789.5, -537791.875, -537839.4375, -537881.5625, -537944.875, -537954.25, -537969.75, -537972.0, -537985.875, -538019.6875, -538028.6875, -538072.3125, -538085.375, -538095.625, -538106.3125, -538111.9375, -538118.0, -538160.3125, -538183.625, -538239.4375, -538249.6875, -538262.625, -538268.0, -538278.125, -538311.625, -538330.3125, -538374.1875, -538386.0, -538398.125, -538406.625, -538414.9375, -538417.6875, -538419.5625, -538473.1875, -538479.3125, -538551.0, -538558.3125, -538571.625, -538572.125, -538581.3125, -538623.0625, -538625.375, -538680.0625, -538690.6875, -538701.0, -538707.3125, -538713.1875, -538750.1875, -538779.1875, -538828.5, -538838.375, -538851.0625, -538856.6875, -538867.1875, -538896.0625, -538915.6875, -538953.8125, -538965.4375, -538976.375, -538985.25, -538993.5, -538997.4375, -538999.625, -539046.875, -539061.25, -539124.1875, -539131.875, -539144.5, -539145.6875, -539155.8125, -539191.625, -539197.4375, -539244.1875, -539254.625, -539264.5, -539271.75, -539277.5625, -539278.125, -539323.625, -539349.8125, -539410.3125, -539417.875, -539431.0, -539431.9375, -539443.625, -539475.625, -539480.25, -539522.5625, -539533.5, -539542.3125, -539550.4375, -539554.8125, -539558.25, -539599.6875, -539616.75, -539671.375, -539679.6875, -539691.1875, -539694.0, -539703.5, -539734.6875, -539744.5, -539785.625, -539795.625, -539805.4375, -539812.8125, -539818.625, -539820.6875, -539860.4375, -539891.375, -539944.0625, -539951.6875, -539963.875, -539966.0625, -539977.0, -540005.375, -540012.6875, -540049.875, -540060.25, -540068.8125, -540077.375, -540082.0625, -540086.0, -540121.8125, -540142.75, -540190.625, -540199.125, -540209.8125, -540213.5, -540222.75, -540250.625, -540262.6875, -540298.9375, -540308.6875, -540317.9375, -540325.6875, -540332.0625, -540334.0625, -540334.4375, -540380.5, -540388.375, -540449.8125, -540455.4375, -540466.9375, -540485.9375, -540501.9375, -540525.9375, -540536.625, -540545.75, -540555.625, -540562.375, -540569.9375, -540571.5, -540573.875, -540615.6875, -540619.625, -540675.375, -540681.75, -540691.8125, -540693.125, -540700.3125, -540732.75, -540737.3125, -540780.375, -540788.6875, -540797.1875, -540802.4375, -540807.5, -540836.5, -540859.0, -540897.6875, -540905.6875, -540916.125, -540920.5625, -540929.0, -540952.0625, -540969.125, -540999.1875, -541008.25, -541017.5, -541024.75, -541031.6875, -541034.9375, -541037.1875, -541074.5, -541086.5625, -541136.125, -541142.6875, -541152.625, -541153.9375, -541162.25, -541190.25, -541196.1875, -541233.125, -541241.875, -541249.6875, -541255.8125, -541260.5, -541261.3125, -541297.3125, -541320.125, -541367.625, -541373.9375, -541384.625, -541385.3125, -541395.0, -541420.25, -541425.1875, -541458.1875, -541467.1875, -541474.5, -541481.5, -541485.125, -541488.25, -541520.3125, -541536.0, -541579.0625, -541585.6875, -541595.375, -541597.8125, -541605.5625, -541630.375, -541639.125, -541671.8125, -541680.375, -541688.0, -541693.9375, -541699.25, -541701.125, -541732.375, -541758.9375, -541800.4375, -541806.9375, -541817.5, -541819.125, -541828.3125, -541851.0, -541857.75, -541887.0625, -541895.6875, -541902.5625, -541909.9375, -541914.125, -541917.9375, -541946.1875, -541964.875, -542002.125, -542009.1875, -542018.25, -542021.5625, -542029.25, -542050.9375, -542062.5, -542091.0, -542099.3125, -542106.875, -542113.375, -542118.8125, -542121.1875, -542121.5625, -542158.25, -542166.6875, -542215.625, -542220.625, -542229.8125, -542244.8125, -542259.5, -542278.375, -542286.9375, -542294.6875, -542303.0, -542308.5, -542315.1875, -542316.9375, -542319.4375, -542352.9375, -542357.6875, -542402.0625, -542407.625, -542416.25, -542417.3125, -542423.5625, -542449.4375, -542454.875, -542489.0625, -542496.3125, -542503.375, -542507.875, -542512.5, -542535.625, -542556.1875, -542586.4375, -542593.8125, -542602.3125, -542606.5, -542613.6875, -542632.125, -542647.125, -542671.4375, -542679.125, -542687.125, -542693.5, -542699.1875, -542702.375, -542704.8125, -542734.3125, -542746.4375, -542786.0625, -542792.0625, -542800.25, -542801.75, -542808.875, -542831.3125, -542837.625, -542867.3125, -542874.75, -542881.5625, -542886.75, -542890.9375, -542892.4375, -542920.625, -542942.625, -542980.625, -542986.125, -542995.1875, -542996.625, -543004.375, -543024.75, -543030.125, -543056.875, -543064.375, -543070.5, -543076.6875, -543080.0, -543083.0625, -543109.0625, -543123.8125, -543158.125, -543164.0, -543172.4375, -543174.6875, -543181.3125, -543201.4375, -543210.6875, -543237.125, -543244.0625, -543250.875, -543256.25, -543261.375, -543262.9375, -543263.1875, -543296.6875, -543301.625, -543346.1875, -543350.5, -543358.875, -543372.4375, -543384.9375, -543402.6875, -543410.5, -543417.4375, -543424.625, -543429.625, -543434.6875, -543436.3125, -543437.8125, -543469.0, -543472.75, -543514.3125, -543519.1875, -543526.75, -543527.125, -543533.25, -543556.9375, -543559.5625, -543590.9375, -543597.125, -543603.125, -543607.1875, -543610.5625, -543632.4375, -543652.375, -543680.9375, -543687.0, -543694.8125, -543698.1875, -543704.8125, -543721.875, -543732.9375, -543754.375, -543761.5625, -543768.0625, -543774.1875, -543778.5625, -543781.9375, -543783.0, -543810.75, -543824.5, -543861.6875, -543866.3125, -543874.625, -543874.9375, -543882.0, -543902.1875, -543905.5625, -543932.5625, -543938.8125, -543944.6875, -543949.75, -543952.8125, -543954.6875, -543980.375, -543993.1875, -544027.4375, -544032.25, -544040.3125, -544041.5, -544048.0625, -544067.125, -544073.0, -544098.375, -544105.1875, -544111.125, -544115.9375, -544119.8125, -544121.1875, -544145.6875, -544164.8125, -544197.625, -544202.9375, -544210.5625, -544211.625, -544218.75, -544236.625, -544242.25, -544265.25, -544271.9375, -544277.4375, -544283.0625, -544286.25, -544289.0625, -544311.5, -544325.5, -544355.5, -544361.0625, -544367.75, -544370.25, -544376.0, -544393.625, -544402.4375, -544425.3125, -544431.6875, -544437.75, -544442.5625, -544446.8125, -544448.4375, -544449.0625, -544478.0625, -544483.0625, -544522.0, -544526.125, -544533.0625, -544545.5625, -544556.875, -544572.3125, -544579.0625, -544585.625, -544591.625, -544596.375, -544601.4375, -544602.5625, -544603.8125, -544631.0625, -544635.75, -544671.9375, -544676.3125, -544683.0625, -544683.6875, -544688.875, -544709.625, -544711.75, -544739.625, -544745.1875, -544750.625, -544754.5, -544757.75, -544776.625, -544795.25, -544820.75, -544826.0, -544832.8125, -544835.75, -544842.0, -544856.5625, -544866.4375, -544885.625, -544892.25, -544898.1875, -544903.4375, -544907.5625, -544910.5, -544911.0625, -544935.9375, -544949.4375, -544982.375, -544986.625, -544994.125, -544994.25, -545000.6875, -545018.375, -545021.5625, -545045.0, -545051.0, -545056.1875, -545060.6875, -545063.0, -545065.1875, -545087.75, -545098.5, -545128.4375, -545133.3125, -545139.75, -545141.0625, -545146.375, -545164.3125, -545170.0625, -545192.9375, -545199.0, -545204.0, -545208.0625, -545211.8125, -545212.75, -545234.8125, -545253.625, -545283.0625, -545287.5625, -545294.6875, -545295.5625, -545302.25, -545318.0, -545322.25, -545342.9375, -545348.875, -545353.75, -545359.125, -545361.625, -545364.6875, -545384.5, -545395.625, -545421.9375, -545427.0, -545433.4375, -545435.5625, -545440.875, -545456.4375, -545464.9375, -545485.6875, -545491.4375, -545497.0, -545501.1875, -545505.125, -545506.5, -545507.1875, -545533.1875, -545536.5625, -545571.0, -545574.75, -545581.0, -545581.375, -545585.8125, -545605.6875, -545606.875, -545632.875, -545637.75, -545643.0, -545646.125, -545648.9375, -545666.75, -545682.0, -545706.125, -545710.5625, -545717.125, -545719.9375, -545725.375, -545739.125, -545748.1875, -545766.625, -545772.4375, -545777.6875, -545781.875, -545786.0625, -545788.125, -545789.0625, -545812.4375, -545820.3125, -545851.625, -545855.5625, -545861.75, -545862.8125, -545867.625, -545885.1875, -545887.5, -545911.0, -545916.1875, -545920.8125, -545924.625, -545927.3125, -545927.75, -545950.4375, -545962.4375, -545992.8125, -545996.8125, -546003.5625, -546003.625, -546009.625, -546025.625, -546027.75, -546049.1875, -546054.4375, -546059.125, -546063.375, -546065.25, -546067.0, -546087.5, -546096.125, -546124.125, -546127.9375, -546134.0625, -546135.4375, -546140.1875, -546156.375, -546161.25, -546182.375, -546187.4375, -546192.625, -546196.3125, -546199.25, -546199.6875, -546220.5]}],\n",
       "                        {\"template\": {\"data\": {\"bar\": [{\"error_x\": {\"color\": \"#2a3f5f\"}, \"error_y\": {\"color\": \"#2a3f5f\"}, \"marker\": {\"line\": {\"color\": \"#E5ECF6\", \"width\": 0.5}}, \"type\": \"bar\"}], \"barpolar\": [{\"marker\": {\"line\": {\"color\": \"#E5ECF6\", \"width\": 0.5}}, \"type\": \"barpolar\"}], \"carpet\": [{\"aaxis\": {\"endlinecolor\": \"#2a3f5f\", \"gridcolor\": \"white\", \"linecolor\": \"white\", \"minorgridcolor\": \"white\", \"startlinecolor\": \"#2a3f5f\"}, \"baxis\": {\"endlinecolor\": \"#2a3f5f\", \"gridcolor\": \"white\", \"linecolor\": \"white\", \"minorgridcolor\": \"white\", \"startlinecolor\": \"#2a3f5f\"}, \"type\": \"carpet\"}], \"choropleth\": [{\"colorbar\": {\"outlinewidth\": 0, \"ticks\": \"\"}, \"type\": \"choropleth\"}], \"contour\": [{\"colorbar\": {\"outlinewidth\": 0, \"ticks\": \"\"}, \"colorscale\": [[0.0, \"#0d0887\"], [0.1111111111111111, \"#46039f\"], [0.2222222222222222, \"#7201a8\"], [0.3333333333333333, \"#9c179e\"], [0.4444444444444444, \"#bd3786\"], [0.5555555555555556, \"#d8576b\"], [0.6666666666666666, \"#ed7953\"], [0.7777777777777778, \"#fb9f3a\"], [0.8888888888888888, \"#fdca26\"], [1.0, \"#f0f921\"]], \"type\": \"contour\"}], \"contourcarpet\": [{\"colorbar\": {\"outlinewidth\": 0, \"ticks\": \"\"}, \"type\": \"contourcarpet\"}], \"heatmap\": [{\"colorbar\": {\"outlinewidth\": 0, \"ticks\": \"\"}, \"colorscale\": [[0.0, \"#0d0887\"], [0.1111111111111111, \"#46039f\"], [0.2222222222222222, \"#7201a8\"], [0.3333333333333333, \"#9c179e\"], [0.4444444444444444, \"#bd3786\"], [0.5555555555555556, \"#d8576b\"], [0.6666666666666666, \"#ed7953\"], [0.7777777777777778, \"#fb9f3a\"], [0.8888888888888888, \"#fdca26\"], [1.0, \"#f0f921\"]], \"type\": \"heatmap\"}], \"heatmapgl\": [{\"colorbar\": {\"outlinewidth\": 0, \"ticks\": \"\"}, \"colorscale\": [[0.0, \"#0d0887\"], [0.1111111111111111, \"#46039f\"], [0.2222222222222222, \"#7201a8\"], [0.3333333333333333, \"#9c179e\"], [0.4444444444444444, \"#bd3786\"], [0.5555555555555556, \"#d8576b\"], [0.6666666666666666, \"#ed7953\"], [0.7777777777777778, \"#fb9f3a\"], [0.8888888888888888, \"#fdca26\"], [1.0, \"#f0f921\"]], \"type\": \"heatmapgl\"}], \"histogram\": [{\"marker\": {\"colorbar\": {\"outlinewidth\": 0, \"ticks\": \"\"}}, \"type\": \"histogram\"}], \"histogram2d\": [{\"colorbar\": {\"outlinewidth\": 0, \"ticks\": \"\"}, \"colorscale\": [[0.0, \"#0d0887\"], [0.1111111111111111, \"#46039f\"], [0.2222222222222222, \"#7201a8\"], [0.3333333333333333, \"#9c179e\"], [0.4444444444444444, \"#bd3786\"], [0.5555555555555556, \"#d8576b\"], [0.6666666666666666, \"#ed7953\"], [0.7777777777777778, \"#fb9f3a\"], [0.8888888888888888, \"#fdca26\"], [1.0, \"#f0f921\"]], \"type\": \"histogram2d\"}], \"histogram2dcontour\": [{\"colorbar\": {\"outlinewidth\": 0, \"ticks\": \"\"}, \"colorscale\": [[0.0, \"#0d0887\"], [0.1111111111111111, \"#46039f\"], [0.2222222222222222, \"#7201a8\"], [0.3333333333333333, \"#9c179e\"], [0.4444444444444444, \"#bd3786\"], [0.5555555555555556, \"#d8576b\"], [0.6666666666666666, \"#ed7953\"], [0.7777777777777778, \"#fb9f3a\"], [0.8888888888888888, \"#fdca26\"], [1.0, \"#f0f921\"]], \"type\": \"histogram2dcontour\"}], \"mesh3d\": [{\"colorbar\": {\"outlinewidth\": 0, \"ticks\": \"\"}, \"type\": \"mesh3d\"}], \"parcoords\": [{\"line\": {\"colorbar\": {\"outlinewidth\": 0, \"ticks\": \"\"}}, \"type\": \"parcoords\"}], \"scatter\": [{\"marker\": {\"colorbar\": {\"outlinewidth\": 0, \"ticks\": \"\"}}, \"type\": \"scatter\"}], \"scatter3d\": [{\"line\": {\"colorbar\": {\"outlinewidth\": 0, \"ticks\": \"\"}}, \"marker\": {\"colorbar\": {\"outlinewidth\": 0, \"ticks\": \"\"}}, \"type\": \"scatter3d\"}], \"scattercarpet\": [{\"marker\": {\"colorbar\": {\"outlinewidth\": 0, \"ticks\": \"\"}}, \"type\": \"scattercarpet\"}], \"scattergeo\": [{\"marker\": {\"colorbar\": {\"outlinewidth\": 0, \"ticks\": \"\"}}, \"type\": \"scattergeo\"}], \"scattergl\": [{\"marker\": {\"colorbar\": {\"outlinewidth\": 0, \"ticks\": \"\"}}, \"type\": \"scattergl\"}], \"scattermapbox\": [{\"marker\": {\"colorbar\": {\"outlinewidth\": 0, \"ticks\": \"\"}}, \"type\": \"scattermapbox\"}], \"scatterpolar\": [{\"marker\": {\"colorbar\": {\"outlinewidth\": 0, \"ticks\": \"\"}}, \"type\": \"scatterpolar\"}], \"scatterpolargl\": [{\"marker\": {\"colorbar\": {\"outlinewidth\": 0, \"ticks\": \"\"}}, \"type\": \"scatterpolargl\"}], \"scatterternary\": [{\"marker\": {\"colorbar\": {\"outlinewidth\": 0, \"ticks\": \"\"}}, \"type\": \"scatterternary\"}], \"surface\": [{\"colorbar\": {\"outlinewidth\": 0, \"ticks\": \"\"}, \"colorscale\": [[0.0, \"#0d0887\"], [0.1111111111111111, \"#46039f\"], [0.2222222222222222, \"#7201a8\"], [0.3333333333333333, \"#9c179e\"], [0.4444444444444444, \"#bd3786\"], [0.5555555555555556, \"#d8576b\"], [0.6666666666666666, \"#ed7953\"], [0.7777777777777778, \"#fb9f3a\"], [0.8888888888888888, \"#fdca26\"], [1.0, \"#f0f921\"]], \"type\": \"surface\"}], \"table\": [{\"cells\": {\"fill\": {\"color\": \"#EBF0F8\"}, \"line\": {\"color\": \"white\"}}, \"header\": {\"fill\": {\"color\": \"#C8D4E3\"}, \"line\": {\"color\": \"white\"}}, \"type\": \"table\"}]}, \"layout\": {\"annotationdefaults\": {\"arrowcolor\": \"#2a3f5f\", \"arrowhead\": 0, \"arrowwidth\": 1}, \"colorscale\": {\"diverging\": [[0, \"#8e0152\"], [0.1, \"#c51b7d\"], [0.2, \"#de77ae\"], [0.3, \"#f1b6da\"], [0.4, \"#fde0ef\"], [0.5, \"#f7f7f7\"], [0.6, \"#e6f5d0\"], [0.7, \"#b8e186\"], [0.8, \"#7fbc41\"], [0.9, \"#4d9221\"], [1, \"#276419\"]], \"sequential\": [[0.0, \"#0d0887\"], [0.1111111111111111, \"#46039f\"], [0.2222222222222222, \"#7201a8\"], [0.3333333333333333, \"#9c179e\"], [0.4444444444444444, \"#bd3786\"], [0.5555555555555556, \"#d8576b\"], [0.6666666666666666, \"#ed7953\"], [0.7777777777777778, \"#fb9f3a\"], [0.8888888888888888, \"#fdca26\"], [1.0, \"#f0f921\"]], \"sequentialminus\": [[0.0, \"#0d0887\"], [0.1111111111111111, \"#46039f\"], [0.2222222222222222, \"#7201a8\"], [0.3333333333333333, \"#9c179e\"], [0.4444444444444444, \"#bd3786\"], [0.5555555555555556, \"#d8576b\"], [0.6666666666666666, \"#ed7953\"], [0.7777777777777778, \"#fb9f3a\"], [0.8888888888888888, \"#fdca26\"], [1.0, \"#f0f921\"]]}, \"colorway\": [\"#636efa\", \"#EF553B\", \"#00cc96\", \"#ab63fa\", \"#FFA15A\", \"#19d3f3\", \"#FF6692\", \"#B6E880\", \"#FF97FF\", \"#FECB52\"], \"font\": {\"color\": \"#2a3f5f\"}, \"geo\": {\"bgcolor\": \"white\", \"lakecolor\": \"white\", \"landcolor\": \"#E5ECF6\", \"showlakes\": true, \"showland\": true, \"subunitcolor\": \"white\"}, \"hoverlabel\": {\"align\": \"left\"}, \"hovermode\": \"closest\", \"mapbox\": {\"style\": \"light\"}, \"paper_bgcolor\": \"white\", \"plot_bgcolor\": \"#E5ECF6\", \"polar\": {\"angularaxis\": {\"gridcolor\": \"white\", \"linecolor\": \"white\", \"ticks\": \"\"}, \"bgcolor\": \"#E5ECF6\", \"radialaxis\": {\"gridcolor\": \"white\", \"linecolor\": \"white\", \"ticks\": \"\"}}, \"scene\": {\"xaxis\": {\"backgroundcolor\": \"#E5ECF6\", \"gridcolor\": \"white\", \"gridwidth\": 2, \"linecolor\": \"white\", \"showbackground\": true, \"ticks\": \"\", \"zerolinecolor\": \"white\"}, \"yaxis\": {\"backgroundcolor\": \"#E5ECF6\", \"gridcolor\": \"white\", \"gridwidth\": 2, \"linecolor\": \"white\", \"showbackground\": true, \"ticks\": \"\", \"zerolinecolor\": \"white\"}, \"zaxis\": {\"backgroundcolor\": \"#E5ECF6\", \"gridcolor\": \"white\", \"gridwidth\": 2, \"linecolor\": \"white\", \"showbackground\": true, \"ticks\": \"\", \"zerolinecolor\": \"white\"}}, \"shapedefaults\": {\"line\": {\"color\": \"#2a3f5f\"}}, \"ternary\": {\"aaxis\": {\"gridcolor\": \"white\", \"linecolor\": \"white\", \"ticks\": \"\"}, \"baxis\": {\"gridcolor\": \"white\", \"linecolor\": \"white\", \"ticks\": \"\"}, \"bgcolor\": \"#E5ECF6\", \"caxis\": {\"gridcolor\": \"white\", \"linecolor\": \"white\", \"ticks\": \"\"}}, \"title\": {\"x\": 0.05}, \"xaxis\": {\"automargin\": true, \"gridcolor\": \"white\", \"linecolor\": \"white\", \"ticks\": \"\", \"zerolinecolor\": \"white\", \"zerolinewidth\": 2}, \"yaxis\": {\"automargin\": true, \"gridcolor\": \"white\", \"linecolor\": \"white\", \"ticks\": \"\", \"zerolinecolor\": \"white\", \"zerolinewidth\": 2}}}, \"title\": {\"text\": \"Energy Minimization\"}, \"xaxis\": {\"title\": {\"text\": \"Energy Minimization Step\"}}, \"yaxis\": {\"title\": {\"text\": \"Potential Energy KJ/mol-1\"}}},\n",
       "                        {\"responsive\": true}\n",
       "                    ).then(function(){\n",
       "                            \n",
       "var gd = document.getElementById('fd7762cc-8cd9-4d11-8817-88c84aa5fd25');\n",
       "var x = new MutationObserver(function (mutations, observer) {{\n",
       "        var display = window.getComputedStyle(gd).display;\n",
       "        if (!display || display === 'none') {{\n",
       "            console.log([gd, 'removed!']);\n",
       "            Plotly.purge(gd);\n",
       "            observer.disconnect();\n",
       "        }}\n",
       "}});\n",
       "\n",
       "// Listen for the removal of the full notebook cells\n",
       "var notebookContainer = gd.closest('#notebook-container');\n",
       "if (notebookContainer) {{\n",
       "    x.observe(notebookContainer, {childList: true});\n",
       "}}\n",
       "\n",
       "// Listen for the clearing of the current output cell\n",
       "var outputEl = gd.closest('.output');\n",
       "if (outputEl) {{\n",
       "    x.observe(outputEl, {childList: true});\n",
       "}}\n",
       "\n",
       "                        })\n",
       "                };\n",
       "                });\n",
       "            </script>\n",
       "        </div>"
      ]
     },
     "metadata": {},
     "output_type": "display_data"
    }
   ],
   "source": [
    "import plotly\n",
    "import plotly.graph_objs as go\n",
    "\n",
    "#Read data from file and filter energy values higher than 1000 Kj/mol^-1\n",
    "with open(output_min_ene_xvg,'r') as energy_file:\n",
    "    x,y = map(\n",
    "        list,\n",
    "        zip(*[\n",
    "            (float(line.split()[0]),float(line.split()[1]))\n",
    "            for line in energy_file \n",
    "            if not line.startswith((\"#\",\"@\")) \n",
    "            if float(line.split()[1]) < 1000 \n",
    "        ])\n",
    "    )\n",
    "\n",
    "plotly.offline.init_notebook_mode(connected=True)\n",
    "\n",
    "fig = ({\n",
    "    \"data\": [go.Scatter(x=x, y=y)],\n",
    "    \"layout\": go.Layout(title=\"Energy Minimization\",\n",
    "                        xaxis=dict(title = \"Energy Minimization Step\"),\n",
    "                        yaxis=dict(title = \"Potential Energy KJ/mol-1\")\n",
    "                       )\n",
    "})\n",
    "\n",
    "plotly.offline.iplot(fig)"
   ]
  },
  {
   "cell_type": "markdown",
   "metadata": {},
   "source": [
    "<a id=\"nvt\"></a>\n",
    "***\n",
    "## Equilibrate the system (NVT)\n",
    "Equilibrate the **protein-ligand complex** system in NVT ensemble (constant Number of particles, Volume and Temperature). To avoid temperature coupling problems, a new *\"system\"* group will be created including the **protein** + the **ligand** to be assigned to a single thermostatting group.\n",
    "\n",
    "- [Step 1](#eqNVTStep1): Creating an index file with a new group including the **protein-ligand complex**.\n",
    "- [Step 2](#eqNVTStep3): Creating portable binary run file for system equilibration\n",
    "- [Step 3](#eqNVTStep3): Equilibrate the **protein-ligand complex** with NVT ensemble.\n",
    "- [Step 4](#eqNVTStep4): Checking **NVT Equilibration** results. Plotting **system temperature** by time during the **NVT equilibration** process. \n",
    "***\n",
    "**Building Blocks** used:\n",
    "- [MakeNdx](https://biobb-md.readthedocs.io/en/latest/gromacs.html#module-gromacs.make_ndx) from **biobb_md.gromacs.make_ndx** \n",
    "- [Grompp](https://biobb-md.readthedocs.io/en/latest/gromacs.html#module-gromacs.grompp) from **biobb_md.gromacs.grompp** \n",
    "- [Mdrun](https://biobb-md.readthedocs.io/en/latest/gromacs.html#module-gromacs.mdrun) from **biobb_md.gromacs.mdrun** \n",
    "- [GMXEnergy](https://biobb-analysis.readthedocs.io/en/latest/gromacs.html#module-gromacs.gmx_energy) from **biobb_analysis.gromacs.gmx_energy** \n",
    "***"
   ]
  },
  {
   "cell_type": "markdown",
   "metadata": {},
   "source": [
    "<a id=\"eqNVTStep1\"></a>\n",
    "### Step 1: Creating an index file with a new group including the **protein-ligand complex**"
   ]
  },
  {
   "cell_type": "code",
   "execution_count": 25,
   "metadata": {},
   "outputs": [
    {
     "name": "stderr",
     "output_type": "stream",
     "text": [
      "2019-10-16 12:22:30,875 [MainThread  ] [INFO ]  GROMACS MakeNdx 20191 version detected\n",
      "2019-10-16 12:22:31,100 [MainThread  ] [INFO ]  echo \"\\\"Protein\\\"|\\\"Other\\\" \n",
      " q\" | gmx -nobackup -nocopyright make_ndx -f 3HTB_JZ4_min.gro -o 3HTB_JZ4_index.ndx\n",
      "\n",
      "2019-10-16 12:22:31,101 [MainThread  ] [INFO ]  Exit code 0\n",
      "\n",
      "2019-10-16 12:22:31,102 [MainThread  ] [INFO ]  Going to read 0 old index file(s)\n",
      "Analysing residue names:\n",
      "There are:   163    Protein residues\n",
      "There are:     1      Other residues\n",
      "There are:  9505      Water residues\n",
      "There are:    26        Ion residues\n",
      "Analysing Protein...\n",
      "Analysing residues not classified as Protein/DNA/RNA/Water and splitting into groups...\n",
      "Analysing residues not classified as Protein/DNA/RNA/Water and splitting into groups...\n",
      "\n",
      "  0 System              : 31177 atoms\n",
      "  1 Protein             :  2614 atoms\n",
      "  2 Protein-H           :  1301 atoms\n",
      "  3 C-alpha             :   163 atoms\n",
      "  4 Backbone            :   489 atoms\n",
      "  5 MainChain           :   653 atoms\n",
      "  6 MainChain+Cb        :   805 atoms\n",
      "  7 MainChain+H         :   815 atoms\n",
      "  8 SideChain           :  1799 atoms\n",
      "  9 SideChain-H         :   648 atoms\n",
      " 10 Prot-Masses         :  2614 atoms\n",
      " 11 non-Protein         : 28563 atoms\n",
      " 12 Other               :    22 atoms\n",
      " 13 JZ4                 :    22 atoms\n",
      " 14 NA                  :    10 atoms\n",
      " 15 CL                  :    16 atoms\n",
      " 16 Water               : 28515 atoms\n",
      " 17 SOL                 : 28515 atoms\n",
      " 18 non-Water           :  2662 atoms\n",
      " 19 Ion                 :    26 atoms\n",
      " 20 JZ4                 :    22 atoms\n",
      " 21 NA                  :    10 atoms\n",
      " 22 CL                  :    16 atoms\n",
      " 23 Water_and_ions      : 28541 atoms\n",
      "\n",
      " nr : group      '!': not  'name' nr name   'splitch' nr    Enter: list groups\n",
      " 'a': atom       '&': and  'del' nr         'splitres' nr   'l': list residues\n",
      " 't': atom type  '|': or   'keep' nr        'splitat' nr    'h': help\n",
      " 'r': residue              'res' nr         'chain' char\n",
      " \"name\": group             'case': case sensitive           'q': save and quit\n",
      " 'ri': residue index\n",
      "\n",
      "> \n",
      "Copied index group 1 'Protein'\n",
      "Copied index group 12 'Other'\n",
      "Merged two groups with OR: 2614 22 -> 2636\n",
      "\n",
      " 24 Protein_Other       :  2636 atoms\n",
      "\n",
      "> \n",
      "\n",
      "2019-10-16 12:22:31,106 [MainThread  ] [INFO ]                       :-) GROMACS - gmx make_ndx, 2019.1 (-:\n",
      "\n",
      "Executable:   /anaconda3/envs/biobb_dev/bin/gmx\n",
      "Data prefix:  /anaconda3/envs/biobb_dev\n",
      "Working dir:  /home/gbayarri_local/projects/BioBB/tutorials/biobb_wf_protein-complex_md_setup/biobb_wf_protein-complex_md_setup/notebooks\n",
      "Command line:\n",
      "  gmx -nobackup -nocopyright make_ndx -f 3HTB_JZ4_min.gro -o 3HTB_JZ4_index.ndx\n",
      "\n",
      "\n",
      "Reading structure file\n",
      "\n",
      "GROMACS reminds you: \"Every Sperm is Sacred\" (Monty Python)\n",
      "\n",
      "\n"
     ]
    },
    {
     "data": {
      "text/plain": [
       "0"
      ]
     },
     "execution_count": 25,
     "metadata": {},
     "output_type": "execute_result"
    }
   ],
   "source": [
    "# MakeNdx: Creating index file with a new group (protein-ligand complex)\n",
    "from biobb_md.gromacs.make_ndx import MakeNdx\n",
    "\n",
    "# Create prop dict and inputs/outputs\n",
    "output_complex_ndx = pdbCode+'_'+ligandCode+'_index.ndx'\n",
    "prop = {\n",
    "    #'selection': \"\\\\\\\"Protein\\\\\\\"|\\\\\\\"\" + ligandCode + \"\\\\\\\"\"\n",
    "    'selection': \"\\\\\\\"Protein\\\\\\\"|\\\\\\\"Other\\\\\\\"\" \n",
    "}\n",
    "\n",
    "# Create and launch bb\n",
    "MakeNdx(input_structure_path=output_min_gro,\n",
    "        output_ndx_path=output_complex_ndx,\n",
    "        properties=prop).launch()"
   ]
  },
  {
   "cell_type": "markdown",
   "metadata": {},
   "source": [
    "<a id=\"eqNVTStep2\"></a>\n",
    "### Step 2: Creating portable binary run file for system equilibration (NVT)\n",
    "Note that for the purposes of temperature coupling, the **protein-ligand complex** (*Protein_Other*) is considered as a single entity."
   ]
  },
  {
   "cell_type": "code",
   "execution_count": 26,
   "metadata": {},
   "outputs": [
    {
     "name": "stderr",
     "output_type": "stream",
     "text": [
      "2019-10-16 12:22:37,436 [MainThread  ] [INFO ]  GROMACS Grompp 20191 version detected\n",
      "2019-10-16 12:22:37,439 [MainThread  ] [INFO ]  Will run a nvt md of 5000 steps\n",
      "2019-10-16 12:22:37,444 [MainThread  ] [INFO ]  Extracting: /home/gbayarri_local/projects/BioBB/tutorials/biobb_wf_protein-complex_md_setup/biobb_wf_protein-complex_md_setup/notebooks/3HTB_JZ4_genion_top.zip\n",
      "2019-10-16 12:22:37,445 [MainThread  ] [INFO ]  to:\n",
      "2019-10-16 12:22:37,447 [MainThread  ] [INFO ]  ['f10c1edc-2692-4615-9297-a5a41f9b621c/JZ4_posres.itp', 'f10c1edc-2692-4615-9297-a5a41f9b621c/JZ4params.itp', 'f10c1edc-2692-4615-9297-a5a41f9b621c/ligand.top', 'f10c1edc-2692-4615-9297-a5a41f9b621c/posre.itp']\n",
      "2019-10-16 12:22:37,448 [MainThread  ] [INFO ]  Unzipping: \n",
      "2019-10-16 12:22:37,449 [MainThread  ] [INFO ]  3HTB_JZ4_genion_top.zip\n",
      "2019-10-16 12:22:37,450 [MainThread  ] [INFO ]  To: \n",
      "2019-10-16 12:22:37,451 [MainThread  ] [INFO ]  f10c1edc-2692-4615-9297-a5a41f9b621c/JZ4_posres.itp\n",
      "2019-10-16 12:22:37,453 [MainThread  ] [INFO ]  f10c1edc-2692-4615-9297-a5a41f9b621c/JZ4params.itp\n",
      "2019-10-16 12:22:37,454 [MainThread  ] [INFO ]  f10c1edc-2692-4615-9297-a5a41f9b621c/ligand.top\n",
      "2019-10-16 12:22:37,455 [MainThread  ] [INFO ]  f10c1edc-2692-4615-9297-a5a41f9b621c/posre.itp\n",
      "2019-10-16 12:22:38,018 [MainThread  ] [INFO ]  gmx -nobackup -nocopyright grompp -f 4b772a90-9baf-4922-900f-dcff0ff6c6bc/grompp.mdp -c 3HTB_JZ4_min.gro -r 3HTB_JZ4_min.gro -p f10c1edc-2692-4615-9297-a5a41f9b621c/ligand.top -o 3HTB_JZ4gppnvt.tpr -po mdout.mdp -maxwarn 10 -n 3HTB_JZ4_index.ndx\n",
      "\n",
      "2019-10-16 12:22:38,019 [MainThread  ] [INFO ]  Exit code 0\n",
      "\n",
      "2019-10-16 12:22:38,020 [MainThread  ] [INFO ]  turning all bonds into constraints...\n",
      "turning all bonds into constraints...\n",
      "turning all bonds into constraints...\n",
      "turning all bonds into constraints...\n",
      "turning all bonds into constraints...\n",
      "Determining Verlet buffer for a tolerance of 0.005 kJ/mol/ps at 300 K\n",
      "Calculated rlist for 1x1 atom pair-list as 1.035 nm, buffer size 0.035 nm\n",
      "Set rlist, assuming 4x4 atom pair-list, to 1.000 nm, buffer size 0.000 nm\n",
      "Note that mdrun will redetermine rlist based on the actual pair-list setup\n",
      "Calculating fourier grid dimensions for X Y Z\n",
      "Using a fourier grid of 64x64x64, spacing 0.116 0.116 0.116\n",
      "This run will generate roughly 11 Mb of data\n",
      "\n",
      "2019-10-16 12:22:38,021 [MainThread  ] [INFO ]                        :-) GROMACS - gmx grompp, 2019.1 (-:\n",
      "\n",
      "Executable:   /anaconda3/envs/biobb_dev/bin/gmx\n",
      "Data prefix:  /anaconda3/envs/biobb_dev\n",
      "Working dir:  /home/gbayarri_local/projects/BioBB/tutorials/biobb_wf_protein-complex_md_setup/biobb_wf_protein-complex_md_setup/notebooks\n",
      "Command line:\n",
      "  gmx -nobackup -nocopyright grompp -f 4b772a90-9baf-4922-900f-dcff0ff6c6bc/grompp.mdp -c 3HTB_JZ4_min.gro -r 3HTB_JZ4_min.gro -p f10c1edc-2692-4615-9297-a5a41f9b621c/ligand.top -o 3HTB_JZ4gppnvt.tpr -po mdout.mdp -maxwarn 10 -n 3HTB_JZ4_index.ndx\n",
      "\n",
      "Setting the LD random seed to 501379697\n",
      "Generated 2556 of the 2556 non-bonded parameter combinations\n",
      "Generating 1-4 interactions: fudge = 0.5\n",
      "Generated 2556 of the 2556 1-4 parameter combinations\n",
      "Excluding 3 bonded neighbours molecule type 'Protein_chain_A'\n",
      "Excluding 3 bonded neighbours molecule type 'JZ4params'\n",
      "Excluding 2 bonded neighbours molecule type 'SOL'\n",
      "Excluding 1 bonded neighbours molecule type 'NA'\n",
      "Excluding 1 bonded neighbours molecule type 'CL'\n",
      "\n",
      "NOTE 1 [file unknown]:\n",
      "  You are using constraints on all bonds, whereas the forcefield has been\n",
      "  parametrized only with constraints involving hydrogen atoms. We suggest\n",
      "  using constraints = h-bonds instead, this will also improve performance.\n",
      "\n",
      "Setting gen_seed to 1780430801\n",
      "Velocities were taken from a Maxwell distribution at 300 K\n",
      "Removing all charge groups because cutoff-scheme=Verlet\n",
      "Number of degrees of freedom in T-Coupling group Protein_Other is 5251.75\n",
      "Number of degrees of freedom in T-Coupling group Water_and_ions is 57105.25\n",
      "Estimate for the relative computational load of the PME mesh part: 0.20\n",
      "\n",
      "There was 1 note\n",
      "\n",
      "GROMACS reminds you: \"FORTRAN was the language of choice for the same reason that three-legged races are popular.\" (Ken Thompson)\n",
      "\n",
      "\n",
      "2019-10-16 12:22:38,023 [MainThread  ] [INFO ]  Removed: ['mdout.mdp', '4b772a90-9baf-4922-900f-dcff0ff6c6bc', 'f10c1edc-2692-4615-9297-a5a41f9b621c']\n"
     ]
    },
    {
     "data": {
      "text/plain": [
       "0"
      ]
     },
     "execution_count": 26,
     "metadata": {},
     "output_type": "execute_result"
    }
   ],
   "source": [
    "# Grompp: Creating portable binary run file for NVT System Equilibration\n",
    "from biobb_md.gromacs.grompp import Grompp\n",
    "\n",
    "# Create prop dict and inputs/outputs\n",
    "output_gppnvt_tpr = pdbCode+'_'+ligandCode+'gppnvt.tpr'\n",
    "prop = {\n",
    "    'mdp':{\n",
    "        'type': 'nvt',\n",
    "        'nsteps':'5000',\n",
    "        'tc-grps': 'Protein_Other Water_and_ions',\n",
    "        'define': '-DPOSRES -D' + posresifdef\n",
    "    }\n",
    "}\n",
    "\n",
    "# Create and launch bb\n",
    "Grompp(input_gro_path=output_min_gro,\n",
    "       input_top_zip_path=output_genion_top_zip,\n",
    "       input_ndx_path=output_complex_ndx,\n",
    "       output_tpr_path=output_gppnvt_tpr,\n",
    "       properties=prop).launch()"
   ]
  },
  {
   "cell_type": "markdown",
   "metadata": {},
   "source": [
    "<a id=\"eqNVTStep3\"></a>\n",
    "### Step 3: Running NVT equilibration"
   ]
  },
  {
   "cell_type": "code",
   "execution_count": 27,
   "metadata": {},
   "outputs": [
    {
     "name": "stderr",
     "output_type": "stream",
     "text": [
      "2019-10-16 12:22:42,896 [MainThread  ] [INFO ]  GROMACS Mdrun 20191 version detected\n",
      "2019-10-16 12:22:42,903 [MainThread  ] [INFO ]  Not using any container\n",
      "2019-10-16 12:24:19,141 [MainThread  ] [INFO ]  gmx -nobackup -nocopyright mdrun -s 3HTB_JZ4gppnvt.tpr -o 3HTB_JZ4_nvt.trr -c 3HTB_JZ4_nvt.gro -e 3HTB_JZ4_nvt.edr -g 3HTB_JZ4_nvt.log -nt 0 -cpo 3HTB_JZ4_nvt.cpt\n",
      "\n",
      "2019-10-16 12:24:19,142 [MainThread  ] [INFO ]  Exit code 0\n",
      "\n",
      "2019-10-16 12:24:19,143 [MainThread  ] [INFO ]                        :-) GROMACS - gmx mdrun, 2019.1 (-:\n",
      "\n",
      "Executable:   /anaconda3/envs/biobb_dev/bin/gmx\n",
      "Data prefix:  /anaconda3/envs/biobb_dev\n",
      "Working dir:  /home/gbayarri_local/projects/BioBB/tutorials/biobb_wf_protein-complex_md_setup/biobb_wf_protein-complex_md_setup/notebooks\n",
      "Command line:\n",
      "  gmx -nobackup -nocopyright mdrun -s 3HTB_JZ4gppnvt.tpr -o 3HTB_JZ4_nvt.trr -c 3HTB_JZ4_nvt.gro -e 3HTB_JZ4_nvt.edr -g 3HTB_JZ4_nvt.log -nt 0 -cpo 3HTB_JZ4_nvt.cpt\n",
      "\n",
      "Compiled SIMD: SSE2, but for this host/run AVX2_256 might be better (see log).\n",
      "The current CPU can measure timings more accurately than the code in\n",
      "gmx mdrun was configured to use. This might affect your simulation\n",
      "speed as accurate timings are needed for load-balancing.\n",
      "Please consider rebuilding gmx mdrun with the GMX_USE_RDTSCP=ON CMake option.\n",
      "Reading file 3HTB_JZ4gppnvt.tpr, VERSION 2019.1 (single precision)\n",
      "Changing nstlist from 10 to 50, rlist from 1 to 1.113\n",
      "\n",
      "\n",
      "Using 1 MPI thread\n",
      "Using 8 OpenMP threads \n",
      "\n",
      "starting mdrun 'Protein in water'\n",
      "5000 steps,     10.0 ps.\n",
      "\n",
      "Writing final coordinates.\n",
      "\n",
      "               Core t (s)   Wall t (s)        (%)\n",
      "       Time:      752.487       94.061      800.0\n",
      "                 (ns/day)    (hour/ns)\n",
      "Performance:        9.187        2.612\n",
      "\n",
      "GROMACS reminds you: \"Read me your scripture and I will twist it\" (Red Hot Chili Peppers)\n",
      "\n",
      "\n",
      "2019-10-16 12:24:19,144 [MainThread  ] [INFO ]  Removed: []\n"
     ]
    },
    {
     "data": {
      "text/plain": [
       "0"
      ]
     },
     "execution_count": 27,
     "metadata": {},
     "output_type": "execute_result"
    }
   ],
   "source": [
    "# Mdrun: Running NVT System Equilibration \n",
    "from biobb_md.gromacs.mdrun import Mdrun\n",
    "\n",
    "# Create prop dict and inputs/outputs\n",
    "output_nvt_trr = pdbCode+'_'+ligandCode+'_nvt.trr'\n",
    "output_nvt_gro = pdbCode+'_'+ligandCode+'_nvt.gro'\n",
    "output_nvt_edr = pdbCode+'_'+ligandCode+'_nvt.edr'\n",
    "output_nvt_log = pdbCode+'_'+ligandCode+'_nvt.log'\n",
    "output_nvt_cpt = pdbCode+'_'+ligandCode+'_nvt.cpt'\n",
    "\n",
    "# Create and launch bb\n",
    "Mdrun(input_tpr_path=output_gppnvt_tpr,\n",
    "      output_trr_path=output_nvt_trr,\n",
    "      output_gro_path=output_nvt_gro,\n",
    "      output_edr_path=output_nvt_edr,\n",
    "      output_log_path=output_nvt_log,\n",
    "      output_cpt_path=output_nvt_cpt).launch()"
   ]
  },
  {
   "cell_type": "markdown",
   "metadata": {},
   "source": [
    "<a id=\"eqNVTStep4\"></a>\n",
    "### Step 4: Checking NVT Equilibration results\n",
    "Checking **NVT Equilibration** results. Plotting **system temperature** by time during the NVT equilibration process. "
   ]
  },
  {
   "cell_type": "code",
   "execution_count": 28,
   "metadata": {},
   "outputs": [
    {
     "name": "stderr",
     "output_type": "stream",
     "text": [
      "2019-10-16 12:25:06,024 [MainThread  ] [INFO ]  gmx energy -f /home/gbayarri_local/projects/BioBB/tutorials/biobb_wf_protein-complex_md_setup/biobb_wf_protein-complex_md_setup/notebooks/3HTB_JZ4_nvt.edr -o 3HTB_JZ4_nvt_temp.xvg -xvg none < 95a473f6-63b6-47f2-8239-f31c8b0a0390/instructions.in\n",
      "\n",
      "2019-10-16 12:25:06,026 [MainThread  ] [INFO ]  Exit code 0\n",
      "\n",
      "2019-10-16 12:25:06,027 [MainThread  ] [INFO ]  \n",
      "Statistics over 5001 steps [ 0.0000 through 10.0000 ps ], 1 data sets\n",
      "All statistics are over 51 points\n",
      "\n",
      "Energy                      Average   Err.Est.       RMSD  Tot-Drift\n",
      "-------------------------------------------------------------------------------\n",
      "Temperature                 297.563          2    8.64157    9.04898  (K)\n",
      "\n",
      "2019-10-16 12:25:06,028 [MainThread  ] [INFO ]                        :-) GROMACS - gmx energy, 2019.1 (-:\n",
      "\n",
      "                            GROMACS is written by:\n",
      "     Emile Apol      Rossen Apostolov      Paul Bauer     Herman J.C. Berendsen\n",
      "    Par Bjelkmar      Christian Blau   Viacheslav Bolnykh     Kevin Boyd    \n",
      " Aldert van Buuren   Rudi van Drunen     Anton Feenstra       Alan Gray     \n",
      "  Gerrit Groenhof     Anca Hamuraru    Vincent Hindriksen  M. Eric Irrgang  \n",
      "  Aleksei Iupinov   Christoph Junghans     Joe Jordan     Dimitrios Karkoulis\n",
      "    Peter Kasson        Jiri Kraus      Carsten Kutzner      Per Larsson    \n",
      "  Justin A. Lemkul    Viveca Lindahl    Magnus Lundborg     Erik Marklund   \n",
      "    Pascal Merz     Pieter Meulenhoff    Teemu Murtola       Szilard Pall   \n",
      "    Sander Pronk      Roland Schulz      Michael Shirts    Alexey Shvetsov  \n",
      "   Alfons Sijbers     Peter Tieleman      Jon Vincent      Teemu Virolainen \n",
      " Christian Wennberg    Maarten Wolf   \n",
      "                           and the project leaders:\n",
      "        Mark Abraham, Berk Hess, Erik Lindahl, and David van der Spoel\n",
      "\n",
      "Copyright (c) 1991-2000, University of Groningen, The Netherlands.\n",
      "Copyright (c) 2001-2018, The GROMACS development team at\n",
      "Uppsala University, Stockholm University and\n",
      "the Royal Institute of Technology, Sweden.\n",
      "check out http://www.gromacs.org for more information.\n",
      "\n",
      "GROMACS is free software; you can redistribute it and/or modify it\n",
      "under the terms of the GNU Lesser General Public License\n",
      "as published by the Free Software Foundation; either version 2.1\n",
      "of the License, or (at your option) any later version.\n",
      "\n",
      "GROMACS:      gmx energy, version 2019.1\n",
      "Executable:   /anaconda3/envs/biobb_dev/bin/gmx\n",
      "Data prefix:  /anaconda3/envs/biobb_dev\n",
      "Working dir:  /home/gbayarri_local/projects/BioBB/tutorials/biobb_wf_protein-complex_md_setup/biobb_wf_protein-complex_md_setup/notebooks\n",
      "Command line:\n",
      "  gmx energy -f /home/gbayarri_local/projects/BioBB/tutorials/biobb_wf_protein-complex_md_setup/biobb_wf_protein-complex_md_setup/notebooks/3HTB_JZ4_nvt.edr -o 3HTB_JZ4_nvt_temp.xvg -xvg none\n",
      "\n",
      "Opened /home/gbayarri_local/projects/BioBB/tutorials/biobb_wf_protein-complex_md_setup/biobb_wf_protein-complex_md_setup/notebooks/3HTB_JZ4_nvt.edr as single precision energy file\n",
      "\n",
      "Select the terms you want from the following list by\n",
      "selecting either (part of) the name or the number or a combination.\n",
      "End your selection with an empty line or a zero.\n",
      "-------------------------------------------------------------------\n",
      "  1  Angle            2  Proper-Dih.      3  Improper-Dih.    4  LJ-14         \n",
      "  5  Coulomb-14       6  LJ-(SR)          7  Disper.-corr.    8  Coulomb-(SR)  \n",
      "  9  Coul.-recip.    10  Position-Rest.  11  Potential       12  Kinetic-En.   \n",
      " 13  Total-Energy    14  Conserved-En.   15  Temperature     16  Pres.-DC      \n",
      " 17  Pressure        18  Constr.-rmsd    19  Vir-XX          20  Vir-XY        \n",
      " 21  Vir-XZ          22  Vir-YX          23  Vir-YY          24  Vir-YZ        \n",
      " 25  Vir-ZX          26  Vir-ZY          27  Vir-ZZ          28  Pres-XX       \n",
      " 29  Pres-XY         30  Pres-XZ         31  Pres-YX         32  Pres-YY       \n",
      " 33  Pres-YZ         34  Pres-ZX         35  Pres-ZY         36  Pres-ZZ       \n",
      " 37  #Surf*SurfTen                       38  T-Protein_Other                   \n",
      " 39  T-Water_and_ions                    40  Lamb-Protein_Other                \n",
      " 41  Lamb-Water_and_ions               \n",
      "\n",
      "\n",
      "Back Off! I just backed up 3HTB_JZ4_nvt_temp.xvg to ./#3HTB_JZ4_nvt_temp.xvg.1#\n",
      "Last energy frame read 10 time   10.000           \n",
      "\n",
      "GROMACS reminds you: \"There is just one thing I can promise you about the outer-space program: your tax dollar will go farther.\" (Wernher von Braun)\n",
      "\n",
      "\n",
      "2019-10-16 12:25:06,030 [MainThread  ] [INFO ]  Removed: [PurePosixPath('95a473f6-63b6-47f2-8239-f31c8b0a0390')]\n"
     ]
    },
    {
     "data": {
      "text/plain": [
       "0"
      ]
     },
     "execution_count": 28,
     "metadata": {},
     "output_type": "execute_result"
    }
   ],
   "source": [
    "# GMXEnergy: Getting system temperature by time during NVT Equilibration  \n",
    "from biobb_analysis.gromacs.gmx_energy import GMXEnergy\n",
    "\n",
    "# Create prop dict and inputs/outputs\n",
    "output_nvt_temp_xvg = pdbCode+'_'+ligandCode+'_nvt_temp.xvg'\n",
    "prop = {\n",
    "    'terms':  [\"Temperature\"]\n",
    "}\n",
    "\n",
    "# Create and launch bb\n",
    "GMXEnergy(input_energy_path=output_nvt_edr, \n",
    "          output_xvg_path=output_nvt_temp_xvg, \n",
    "          properties=prop).launch()"
   ]
  },
  {
   "cell_type": "code",
   "execution_count": 29,
   "metadata": {},
   "outputs": [
    {
     "data": {
      "text/html": [
       "        <script type=\"text/javascript\">\n",
       "        window.PlotlyConfig = {MathJaxConfig: 'local'};\n",
       "        if (window.MathJax) {MathJax.Hub.Config({SVG: {font: \"STIX-Web\"}});}\n",
       "        if (typeof require !== 'undefined') {\n",
       "        require.undef(\"plotly\");\n",
       "        requirejs.config({\n",
       "            paths: {\n",
       "                'plotly': ['https://cdn.plot.ly/plotly-latest.min']\n",
       "            }\n",
       "        });\n",
       "        require(['plotly'], function(Plotly) {\n",
       "            window._Plotly = Plotly;\n",
       "        });\n",
       "        }\n",
       "        </script>\n",
       "        "
      ]
     },
     "metadata": {},
     "output_type": "display_data"
    },
    {
     "data": {
      "application/vnd.plotly.v1+json": {
       "config": {
        "linkText": "Export to plot.ly",
        "plotlyServerURL": "https://plot.ly",
        "showLink": false
       },
       "data": [
        {
         "type": "scatter",
         "x": [
          0,
          1,
          2,
          3,
          4,
          5,
          6,
          7,
          8,
          9,
          10
         ],
         "y": [
          299.070129,
          297.187744,
          297.429413,
          301.185669,
          299.021515,
          301.959198,
          299.489136,
          300.583069,
          298.754852,
          300.241882,
          297.80426
         ]
        }
       ],
       "layout": {
        "template": {
         "data": {
          "bar": [
           {
            "error_x": {
             "color": "#2a3f5f"
            },
            "error_y": {
             "color": "#2a3f5f"
            },
            "marker": {
             "line": {
              "color": "#E5ECF6",
              "width": 0.5
             }
            },
            "type": "bar"
           }
          ],
          "barpolar": [
           {
            "marker": {
             "line": {
              "color": "#E5ECF6",
              "width": 0.5
             }
            },
            "type": "barpolar"
           }
          ],
          "carpet": [
           {
            "aaxis": {
             "endlinecolor": "#2a3f5f",
             "gridcolor": "white",
             "linecolor": "white",
             "minorgridcolor": "white",
             "startlinecolor": "#2a3f5f"
            },
            "baxis": {
             "endlinecolor": "#2a3f5f",
             "gridcolor": "white",
             "linecolor": "white",
             "minorgridcolor": "white",
             "startlinecolor": "#2a3f5f"
            },
            "type": "carpet"
           }
          ],
          "choropleth": [
           {
            "colorbar": {
             "outlinewidth": 0,
             "ticks": ""
            },
            "type": "choropleth"
           }
          ],
          "contour": [
           {
            "colorbar": {
             "outlinewidth": 0,
             "ticks": ""
            },
            "colorscale": [
             [
              0,
              "#0d0887"
             ],
             [
              0.1111111111111111,
              "#46039f"
             ],
             [
              0.2222222222222222,
              "#7201a8"
             ],
             [
              0.3333333333333333,
              "#9c179e"
             ],
             [
              0.4444444444444444,
              "#bd3786"
             ],
             [
              0.5555555555555556,
              "#d8576b"
             ],
             [
              0.6666666666666666,
              "#ed7953"
             ],
             [
              0.7777777777777778,
              "#fb9f3a"
             ],
             [
              0.8888888888888888,
              "#fdca26"
             ],
             [
              1,
              "#f0f921"
             ]
            ],
            "type": "contour"
           }
          ],
          "contourcarpet": [
           {
            "colorbar": {
             "outlinewidth": 0,
             "ticks": ""
            },
            "type": "contourcarpet"
           }
          ],
          "heatmap": [
           {
            "colorbar": {
             "outlinewidth": 0,
             "ticks": ""
            },
            "colorscale": [
             [
              0,
              "#0d0887"
             ],
             [
              0.1111111111111111,
              "#46039f"
             ],
             [
              0.2222222222222222,
              "#7201a8"
             ],
             [
              0.3333333333333333,
              "#9c179e"
             ],
             [
              0.4444444444444444,
              "#bd3786"
             ],
             [
              0.5555555555555556,
              "#d8576b"
             ],
             [
              0.6666666666666666,
              "#ed7953"
             ],
             [
              0.7777777777777778,
              "#fb9f3a"
             ],
             [
              0.8888888888888888,
              "#fdca26"
             ],
             [
              1,
              "#f0f921"
             ]
            ],
            "type": "heatmap"
           }
          ],
          "heatmapgl": [
           {
            "colorbar": {
             "outlinewidth": 0,
             "ticks": ""
            },
            "colorscale": [
             [
              0,
              "#0d0887"
             ],
             [
              0.1111111111111111,
              "#46039f"
             ],
             [
              0.2222222222222222,
              "#7201a8"
             ],
             [
              0.3333333333333333,
              "#9c179e"
             ],
             [
              0.4444444444444444,
              "#bd3786"
             ],
             [
              0.5555555555555556,
              "#d8576b"
             ],
             [
              0.6666666666666666,
              "#ed7953"
             ],
             [
              0.7777777777777778,
              "#fb9f3a"
             ],
             [
              0.8888888888888888,
              "#fdca26"
             ],
             [
              1,
              "#f0f921"
             ]
            ],
            "type": "heatmapgl"
           }
          ],
          "histogram": [
           {
            "marker": {
             "colorbar": {
              "outlinewidth": 0,
              "ticks": ""
             }
            },
            "type": "histogram"
           }
          ],
          "histogram2d": [
           {
            "colorbar": {
             "outlinewidth": 0,
             "ticks": ""
            },
            "colorscale": [
             [
              0,
              "#0d0887"
             ],
             [
              0.1111111111111111,
              "#46039f"
             ],
             [
              0.2222222222222222,
              "#7201a8"
             ],
             [
              0.3333333333333333,
              "#9c179e"
             ],
             [
              0.4444444444444444,
              "#bd3786"
             ],
             [
              0.5555555555555556,
              "#d8576b"
             ],
             [
              0.6666666666666666,
              "#ed7953"
             ],
             [
              0.7777777777777778,
              "#fb9f3a"
             ],
             [
              0.8888888888888888,
              "#fdca26"
             ],
             [
              1,
              "#f0f921"
             ]
            ],
            "type": "histogram2d"
           }
          ],
          "histogram2dcontour": [
           {
            "colorbar": {
             "outlinewidth": 0,
             "ticks": ""
            },
            "colorscale": [
             [
              0,
              "#0d0887"
             ],
             [
              0.1111111111111111,
              "#46039f"
             ],
             [
              0.2222222222222222,
              "#7201a8"
             ],
             [
              0.3333333333333333,
              "#9c179e"
             ],
             [
              0.4444444444444444,
              "#bd3786"
             ],
             [
              0.5555555555555556,
              "#d8576b"
             ],
             [
              0.6666666666666666,
              "#ed7953"
             ],
             [
              0.7777777777777778,
              "#fb9f3a"
             ],
             [
              0.8888888888888888,
              "#fdca26"
             ],
             [
              1,
              "#f0f921"
             ]
            ],
            "type": "histogram2dcontour"
           }
          ],
          "mesh3d": [
           {
            "colorbar": {
             "outlinewidth": 0,
             "ticks": ""
            },
            "type": "mesh3d"
           }
          ],
          "parcoords": [
           {
            "line": {
             "colorbar": {
              "outlinewidth": 0,
              "ticks": ""
             }
            },
            "type": "parcoords"
           }
          ],
          "scatter": [
           {
            "marker": {
             "colorbar": {
              "outlinewidth": 0,
              "ticks": ""
             }
            },
            "type": "scatter"
           }
          ],
          "scatter3d": [
           {
            "line": {
             "colorbar": {
              "outlinewidth": 0,
              "ticks": ""
             }
            },
            "marker": {
             "colorbar": {
              "outlinewidth": 0,
              "ticks": ""
             }
            },
            "type": "scatter3d"
           }
          ],
          "scattercarpet": [
           {
            "marker": {
             "colorbar": {
              "outlinewidth": 0,
              "ticks": ""
             }
            },
            "type": "scattercarpet"
           }
          ],
          "scattergeo": [
           {
            "marker": {
             "colorbar": {
              "outlinewidth": 0,
              "ticks": ""
             }
            },
            "type": "scattergeo"
           }
          ],
          "scattergl": [
           {
            "marker": {
             "colorbar": {
              "outlinewidth": 0,
              "ticks": ""
             }
            },
            "type": "scattergl"
           }
          ],
          "scattermapbox": [
           {
            "marker": {
             "colorbar": {
              "outlinewidth": 0,
              "ticks": ""
             }
            },
            "type": "scattermapbox"
           }
          ],
          "scatterpolar": [
           {
            "marker": {
             "colorbar": {
              "outlinewidth": 0,
              "ticks": ""
             }
            },
            "type": "scatterpolar"
           }
          ],
          "scatterpolargl": [
           {
            "marker": {
             "colorbar": {
              "outlinewidth": 0,
              "ticks": ""
             }
            },
            "type": "scatterpolargl"
           }
          ],
          "scatterternary": [
           {
            "marker": {
             "colorbar": {
              "outlinewidth": 0,
              "ticks": ""
             }
            },
            "type": "scatterternary"
           }
          ],
          "surface": [
           {
            "colorbar": {
             "outlinewidth": 0,
             "ticks": ""
            },
            "colorscale": [
             [
              0,
              "#0d0887"
             ],
             [
              0.1111111111111111,
              "#46039f"
             ],
             [
              0.2222222222222222,
              "#7201a8"
             ],
             [
              0.3333333333333333,
              "#9c179e"
             ],
             [
              0.4444444444444444,
              "#bd3786"
             ],
             [
              0.5555555555555556,
              "#d8576b"
             ],
             [
              0.6666666666666666,
              "#ed7953"
             ],
             [
              0.7777777777777778,
              "#fb9f3a"
             ],
             [
              0.8888888888888888,
              "#fdca26"
             ],
             [
              1,
              "#f0f921"
             ]
            ],
            "type": "surface"
           }
          ],
          "table": [
           {
            "cells": {
             "fill": {
              "color": "#EBF0F8"
             },
             "line": {
              "color": "white"
             }
            },
            "header": {
             "fill": {
              "color": "#C8D4E3"
             },
             "line": {
              "color": "white"
             }
            },
            "type": "table"
           }
          ]
         },
         "layout": {
          "annotationdefaults": {
           "arrowcolor": "#2a3f5f",
           "arrowhead": 0,
           "arrowwidth": 1
          },
          "colorscale": {
           "diverging": [
            [
             0,
             "#8e0152"
            ],
            [
             0.1,
             "#c51b7d"
            ],
            [
             0.2,
             "#de77ae"
            ],
            [
             0.3,
             "#f1b6da"
            ],
            [
             0.4,
             "#fde0ef"
            ],
            [
             0.5,
             "#f7f7f7"
            ],
            [
             0.6,
             "#e6f5d0"
            ],
            [
             0.7,
             "#b8e186"
            ],
            [
             0.8,
             "#7fbc41"
            ],
            [
             0.9,
             "#4d9221"
            ],
            [
             1,
             "#276419"
            ]
           ],
           "sequential": [
            [
             0,
             "#0d0887"
            ],
            [
             0.1111111111111111,
             "#46039f"
            ],
            [
             0.2222222222222222,
             "#7201a8"
            ],
            [
             0.3333333333333333,
             "#9c179e"
            ],
            [
             0.4444444444444444,
             "#bd3786"
            ],
            [
             0.5555555555555556,
             "#d8576b"
            ],
            [
             0.6666666666666666,
             "#ed7953"
            ],
            [
             0.7777777777777778,
             "#fb9f3a"
            ],
            [
             0.8888888888888888,
             "#fdca26"
            ],
            [
             1,
             "#f0f921"
            ]
           ],
           "sequentialminus": [
            [
             0,
             "#0d0887"
            ],
            [
             0.1111111111111111,
             "#46039f"
            ],
            [
             0.2222222222222222,
             "#7201a8"
            ],
            [
             0.3333333333333333,
             "#9c179e"
            ],
            [
             0.4444444444444444,
             "#bd3786"
            ],
            [
             0.5555555555555556,
             "#d8576b"
            ],
            [
             0.6666666666666666,
             "#ed7953"
            ],
            [
             0.7777777777777778,
             "#fb9f3a"
            ],
            [
             0.8888888888888888,
             "#fdca26"
            ],
            [
             1,
             "#f0f921"
            ]
           ]
          },
          "colorway": [
           "#636efa",
           "#EF553B",
           "#00cc96",
           "#ab63fa",
           "#FFA15A",
           "#19d3f3",
           "#FF6692",
           "#B6E880",
           "#FF97FF",
           "#FECB52"
          ],
          "font": {
           "color": "#2a3f5f"
          },
          "geo": {
           "bgcolor": "white",
           "lakecolor": "white",
           "landcolor": "#E5ECF6",
           "showlakes": true,
           "showland": true,
           "subunitcolor": "white"
          },
          "hoverlabel": {
           "align": "left"
          },
          "hovermode": "closest",
          "mapbox": {
           "style": "light"
          },
          "paper_bgcolor": "white",
          "plot_bgcolor": "#E5ECF6",
          "polar": {
           "angularaxis": {
            "gridcolor": "white",
            "linecolor": "white",
            "ticks": ""
           },
           "bgcolor": "#E5ECF6",
           "radialaxis": {
            "gridcolor": "white",
            "linecolor": "white",
            "ticks": ""
           }
          },
          "scene": {
           "xaxis": {
            "backgroundcolor": "#E5ECF6",
            "gridcolor": "white",
            "gridwidth": 2,
            "linecolor": "white",
            "showbackground": true,
            "ticks": "",
            "zerolinecolor": "white"
           },
           "yaxis": {
            "backgroundcolor": "#E5ECF6",
            "gridcolor": "white",
            "gridwidth": 2,
            "linecolor": "white",
            "showbackground": true,
            "ticks": "",
            "zerolinecolor": "white"
           },
           "zaxis": {
            "backgroundcolor": "#E5ECF6",
            "gridcolor": "white",
            "gridwidth": 2,
            "linecolor": "white",
            "showbackground": true,
            "ticks": "",
            "zerolinecolor": "white"
           }
          },
          "shapedefaults": {
           "line": {
            "color": "#2a3f5f"
           }
          },
          "ternary": {
           "aaxis": {
            "gridcolor": "white",
            "linecolor": "white",
            "ticks": ""
           },
           "baxis": {
            "gridcolor": "white",
            "linecolor": "white",
            "ticks": ""
           },
           "bgcolor": "#E5ECF6",
           "caxis": {
            "gridcolor": "white",
            "linecolor": "white",
            "ticks": ""
           }
          },
          "title": {
           "x": 0.05
          },
          "xaxis": {
           "automargin": true,
           "gridcolor": "white",
           "linecolor": "white",
           "ticks": "",
           "zerolinecolor": "white",
           "zerolinewidth": 2
          },
          "yaxis": {
           "automargin": true,
           "gridcolor": "white",
           "linecolor": "white",
           "ticks": "",
           "zerolinecolor": "white",
           "zerolinewidth": 2
          }
         }
        },
        "title": {
         "text": "Temperature during NVT Equilibration"
        },
        "xaxis": {
         "title": {
          "text": "Time (ps)"
         }
        },
        "yaxis": {
         "title": {
          "text": "Temperature (K)"
         }
        }
       }
      },
      "text/html": [
       "<div>\n",
       "        \n",
       "        \n",
       "            <div id=\"4f5498d5-3f7a-4af6-88e0-66082eaefaac\" class=\"plotly-graph-div\" style=\"height:525px; width:100%;\"></div>\n",
       "            <script type=\"text/javascript\">\n",
       "                require([\"plotly\"], function(Plotly) {\n",
       "                    window.PLOTLYENV=window.PLOTLYENV || {};\n",
       "                    \n",
       "                if (document.getElementById(\"4f5498d5-3f7a-4af6-88e0-66082eaefaac\")) {\n",
       "                    Plotly.newPlot(\n",
       "                        '4f5498d5-3f7a-4af6-88e0-66082eaefaac',\n",
       "                        [{\"type\": \"scatter\", \"x\": [0.0, 1.0, 2.0, 3.0, 4.0, 5.0, 6.0, 7.0, 8.0, 9.0, 10.0], \"y\": [299.070129, 297.187744, 297.429413, 301.185669, 299.021515, 301.959198, 299.489136, 300.583069, 298.754852, 300.241882, 297.80426]}],\n",
       "                        {\"template\": {\"data\": {\"bar\": [{\"error_x\": {\"color\": \"#2a3f5f\"}, \"error_y\": {\"color\": \"#2a3f5f\"}, \"marker\": {\"line\": {\"color\": \"#E5ECF6\", \"width\": 0.5}}, \"type\": \"bar\"}], \"barpolar\": [{\"marker\": {\"line\": {\"color\": \"#E5ECF6\", \"width\": 0.5}}, \"type\": \"barpolar\"}], \"carpet\": [{\"aaxis\": {\"endlinecolor\": \"#2a3f5f\", \"gridcolor\": \"white\", \"linecolor\": \"white\", \"minorgridcolor\": \"white\", \"startlinecolor\": \"#2a3f5f\"}, \"baxis\": {\"endlinecolor\": \"#2a3f5f\", \"gridcolor\": \"white\", \"linecolor\": \"white\", \"minorgridcolor\": \"white\", \"startlinecolor\": \"#2a3f5f\"}, \"type\": \"carpet\"}], \"choropleth\": [{\"colorbar\": {\"outlinewidth\": 0, \"ticks\": \"\"}, \"type\": \"choropleth\"}], \"contour\": [{\"colorbar\": {\"outlinewidth\": 0, \"ticks\": \"\"}, \"colorscale\": [[0.0, \"#0d0887\"], [0.1111111111111111, \"#46039f\"], [0.2222222222222222, \"#7201a8\"], [0.3333333333333333, \"#9c179e\"], [0.4444444444444444, \"#bd3786\"], [0.5555555555555556, \"#d8576b\"], [0.6666666666666666, \"#ed7953\"], [0.7777777777777778, \"#fb9f3a\"], [0.8888888888888888, \"#fdca26\"], [1.0, \"#f0f921\"]], \"type\": \"contour\"}], \"contourcarpet\": [{\"colorbar\": {\"outlinewidth\": 0, \"ticks\": \"\"}, \"type\": \"contourcarpet\"}], \"heatmap\": [{\"colorbar\": {\"outlinewidth\": 0, \"ticks\": \"\"}, \"colorscale\": [[0.0, \"#0d0887\"], [0.1111111111111111, \"#46039f\"], [0.2222222222222222, \"#7201a8\"], [0.3333333333333333, \"#9c179e\"], [0.4444444444444444, \"#bd3786\"], [0.5555555555555556, \"#d8576b\"], [0.6666666666666666, \"#ed7953\"], [0.7777777777777778, \"#fb9f3a\"], [0.8888888888888888, \"#fdca26\"], [1.0, \"#f0f921\"]], \"type\": \"heatmap\"}], \"heatmapgl\": [{\"colorbar\": {\"outlinewidth\": 0, \"ticks\": \"\"}, \"colorscale\": [[0.0, \"#0d0887\"], [0.1111111111111111, \"#46039f\"], [0.2222222222222222, \"#7201a8\"], [0.3333333333333333, \"#9c179e\"], [0.4444444444444444, \"#bd3786\"], [0.5555555555555556, \"#d8576b\"], [0.6666666666666666, \"#ed7953\"], [0.7777777777777778, \"#fb9f3a\"], [0.8888888888888888, \"#fdca26\"], [1.0, \"#f0f921\"]], \"type\": \"heatmapgl\"}], \"histogram\": [{\"marker\": {\"colorbar\": {\"outlinewidth\": 0, \"ticks\": \"\"}}, \"type\": \"histogram\"}], \"histogram2d\": [{\"colorbar\": {\"outlinewidth\": 0, \"ticks\": \"\"}, \"colorscale\": [[0.0, \"#0d0887\"], [0.1111111111111111, \"#46039f\"], [0.2222222222222222, \"#7201a8\"], [0.3333333333333333, \"#9c179e\"], [0.4444444444444444, \"#bd3786\"], [0.5555555555555556, \"#d8576b\"], [0.6666666666666666, \"#ed7953\"], [0.7777777777777778, \"#fb9f3a\"], [0.8888888888888888, \"#fdca26\"], [1.0, \"#f0f921\"]], \"type\": \"histogram2d\"}], \"histogram2dcontour\": [{\"colorbar\": {\"outlinewidth\": 0, \"ticks\": \"\"}, \"colorscale\": [[0.0, \"#0d0887\"], [0.1111111111111111, \"#46039f\"], [0.2222222222222222, \"#7201a8\"], [0.3333333333333333, \"#9c179e\"], [0.4444444444444444, \"#bd3786\"], [0.5555555555555556, \"#d8576b\"], [0.6666666666666666, \"#ed7953\"], [0.7777777777777778, \"#fb9f3a\"], [0.8888888888888888, \"#fdca26\"], [1.0, \"#f0f921\"]], \"type\": \"histogram2dcontour\"}], \"mesh3d\": [{\"colorbar\": {\"outlinewidth\": 0, \"ticks\": \"\"}, \"type\": \"mesh3d\"}], \"parcoords\": [{\"line\": {\"colorbar\": {\"outlinewidth\": 0, \"ticks\": \"\"}}, \"type\": \"parcoords\"}], \"scatter\": [{\"marker\": {\"colorbar\": {\"outlinewidth\": 0, \"ticks\": \"\"}}, \"type\": \"scatter\"}], \"scatter3d\": [{\"line\": {\"colorbar\": {\"outlinewidth\": 0, \"ticks\": \"\"}}, \"marker\": {\"colorbar\": {\"outlinewidth\": 0, \"ticks\": \"\"}}, \"type\": \"scatter3d\"}], \"scattercarpet\": [{\"marker\": {\"colorbar\": {\"outlinewidth\": 0, \"ticks\": \"\"}}, \"type\": \"scattercarpet\"}], \"scattergeo\": [{\"marker\": {\"colorbar\": {\"outlinewidth\": 0, \"ticks\": \"\"}}, \"type\": \"scattergeo\"}], \"scattergl\": [{\"marker\": {\"colorbar\": {\"outlinewidth\": 0, \"ticks\": \"\"}}, \"type\": \"scattergl\"}], \"scattermapbox\": [{\"marker\": {\"colorbar\": {\"outlinewidth\": 0, \"ticks\": \"\"}}, \"type\": \"scattermapbox\"}], \"scatterpolar\": [{\"marker\": {\"colorbar\": {\"outlinewidth\": 0, \"ticks\": \"\"}}, \"type\": \"scatterpolar\"}], \"scatterpolargl\": [{\"marker\": {\"colorbar\": {\"outlinewidth\": 0, \"ticks\": \"\"}}, \"type\": \"scatterpolargl\"}], \"scatterternary\": [{\"marker\": {\"colorbar\": {\"outlinewidth\": 0, \"ticks\": \"\"}}, \"type\": \"scatterternary\"}], \"surface\": [{\"colorbar\": {\"outlinewidth\": 0, \"ticks\": \"\"}, \"colorscale\": [[0.0, \"#0d0887\"], [0.1111111111111111, \"#46039f\"], [0.2222222222222222, \"#7201a8\"], [0.3333333333333333, \"#9c179e\"], [0.4444444444444444, \"#bd3786\"], [0.5555555555555556, \"#d8576b\"], [0.6666666666666666, \"#ed7953\"], [0.7777777777777778, \"#fb9f3a\"], [0.8888888888888888, \"#fdca26\"], [1.0, \"#f0f921\"]], \"type\": \"surface\"}], \"table\": [{\"cells\": {\"fill\": {\"color\": \"#EBF0F8\"}, \"line\": {\"color\": \"white\"}}, \"header\": {\"fill\": {\"color\": \"#C8D4E3\"}, \"line\": {\"color\": \"white\"}}, \"type\": \"table\"}]}, \"layout\": {\"annotationdefaults\": {\"arrowcolor\": \"#2a3f5f\", \"arrowhead\": 0, \"arrowwidth\": 1}, \"colorscale\": {\"diverging\": [[0, \"#8e0152\"], [0.1, \"#c51b7d\"], [0.2, \"#de77ae\"], [0.3, \"#f1b6da\"], [0.4, \"#fde0ef\"], [0.5, \"#f7f7f7\"], [0.6, \"#e6f5d0\"], [0.7, \"#b8e186\"], [0.8, \"#7fbc41\"], [0.9, \"#4d9221\"], [1, \"#276419\"]], \"sequential\": [[0.0, \"#0d0887\"], [0.1111111111111111, \"#46039f\"], [0.2222222222222222, \"#7201a8\"], [0.3333333333333333, \"#9c179e\"], [0.4444444444444444, \"#bd3786\"], [0.5555555555555556, \"#d8576b\"], [0.6666666666666666, \"#ed7953\"], [0.7777777777777778, \"#fb9f3a\"], [0.8888888888888888, \"#fdca26\"], [1.0, \"#f0f921\"]], \"sequentialminus\": [[0.0, \"#0d0887\"], [0.1111111111111111, \"#46039f\"], [0.2222222222222222, \"#7201a8\"], [0.3333333333333333, \"#9c179e\"], [0.4444444444444444, \"#bd3786\"], [0.5555555555555556, \"#d8576b\"], [0.6666666666666666, \"#ed7953\"], [0.7777777777777778, \"#fb9f3a\"], [0.8888888888888888, \"#fdca26\"], [1.0, \"#f0f921\"]]}, \"colorway\": [\"#636efa\", \"#EF553B\", \"#00cc96\", \"#ab63fa\", \"#FFA15A\", \"#19d3f3\", \"#FF6692\", \"#B6E880\", \"#FF97FF\", \"#FECB52\"], \"font\": {\"color\": \"#2a3f5f\"}, \"geo\": {\"bgcolor\": \"white\", \"lakecolor\": \"white\", \"landcolor\": \"#E5ECF6\", \"showlakes\": true, \"showland\": true, \"subunitcolor\": \"white\"}, \"hoverlabel\": {\"align\": \"left\"}, \"hovermode\": \"closest\", \"mapbox\": {\"style\": \"light\"}, \"paper_bgcolor\": \"white\", \"plot_bgcolor\": \"#E5ECF6\", \"polar\": {\"angularaxis\": {\"gridcolor\": \"white\", \"linecolor\": \"white\", \"ticks\": \"\"}, \"bgcolor\": \"#E5ECF6\", \"radialaxis\": {\"gridcolor\": \"white\", \"linecolor\": \"white\", \"ticks\": \"\"}}, \"scene\": {\"xaxis\": {\"backgroundcolor\": \"#E5ECF6\", \"gridcolor\": \"white\", \"gridwidth\": 2, \"linecolor\": \"white\", \"showbackground\": true, \"ticks\": \"\", \"zerolinecolor\": \"white\"}, \"yaxis\": {\"backgroundcolor\": \"#E5ECF6\", \"gridcolor\": \"white\", \"gridwidth\": 2, \"linecolor\": \"white\", \"showbackground\": true, \"ticks\": \"\", \"zerolinecolor\": \"white\"}, \"zaxis\": {\"backgroundcolor\": \"#E5ECF6\", \"gridcolor\": \"white\", \"gridwidth\": 2, \"linecolor\": \"white\", \"showbackground\": true, \"ticks\": \"\", \"zerolinecolor\": \"white\"}}, \"shapedefaults\": {\"line\": {\"color\": \"#2a3f5f\"}}, \"ternary\": {\"aaxis\": {\"gridcolor\": \"white\", \"linecolor\": \"white\", \"ticks\": \"\"}, \"baxis\": {\"gridcolor\": \"white\", \"linecolor\": \"white\", \"ticks\": \"\"}, \"bgcolor\": \"#E5ECF6\", \"caxis\": {\"gridcolor\": \"white\", \"linecolor\": \"white\", \"ticks\": \"\"}}, \"title\": {\"x\": 0.05}, \"xaxis\": {\"automargin\": true, \"gridcolor\": \"white\", \"linecolor\": \"white\", \"ticks\": \"\", \"zerolinecolor\": \"white\", \"zerolinewidth\": 2}, \"yaxis\": {\"automargin\": true, \"gridcolor\": \"white\", \"linecolor\": \"white\", \"ticks\": \"\", \"zerolinecolor\": \"white\", \"zerolinewidth\": 2}}}, \"title\": {\"text\": \"Temperature during NVT Equilibration\"}, \"xaxis\": {\"title\": {\"text\": \"Time (ps)\"}}, \"yaxis\": {\"title\": {\"text\": \"Temperature (K)\"}}},\n",
       "                        {\"responsive\": true}\n",
       "                    ).then(function(){\n",
       "                            \n",
       "var gd = document.getElementById('4f5498d5-3f7a-4af6-88e0-66082eaefaac');\n",
       "var x = new MutationObserver(function (mutations, observer) {{\n",
       "        var display = window.getComputedStyle(gd).display;\n",
       "        if (!display || display === 'none') {{\n",
       "            console.log([gd, 'removed!']);\n",
       "            Plotly.purge(gd);\n",
       "            observer.disconnect();\n",
       "        }}\n",
       "}});\n",
       "\n",
       "// Listen for the removal of the full notebook cells\n",
       "var notebookContainer = gd.closest('#notebook-container');\n",
       "if (notebookContainer) {{\n",
       "    x.observe(notebookContainer, {childList: true});\n",
       "}}\n",
       "\n",
       "// Listen for the clearing of the current output cell\n",
       "var outputEl = gd.closest('.output');\n",
       "if (outputEl) {{\n",
       "    x.observe(outputEl, {childList: true});\n",
       "}}\n",
       "\n",
       "                        })\n",
       "                };\n",
       "                });\n",
       "            </script>\n",
       "        </div>"
      ]
     },
     "metadata": {},
     "output_type": "display_data"
    }
   ],
   "source": [
    "import plotly\n",
    "import plotly.graph_objs as go\n",
    "\n",
    "# Read temperature data from file \n",
    "with open(output_nvt_temp_xvg,'r') as temperature_file:\n",
    "    x,y = map(\n",
    "        list,\n",
    "        zip(*[\n",
    "            (float(line.split()[0]),float(line.split()[1]))\n",
    "            for line in temperature_file \n",
    "            if not line.startswith((\"#\",\"@\")) \n",
    "        ])\n",
    "    )\n",
    "\n",
    "plotly.offline.init_notebook_mode(connected=True)\n",
    "\n",
    "fig = ({\n",
    "    \"data\": [go.Scatter(x=x, y=y)],\n",
    "    \"layout\": go.Layout(title=\"Temperature during NVT Equilibration\",\n",
    "                        xaxis=dict(title = \"Time (ps)\"),\n",
    "                        yaxis=dict(title = \"Temperature (K)\")\n",
    "                       )\n",
    "})\n",
    "\n",
    "plotly.offline.iplot(fig)"
   ]
  },
  {
   "cell_type": "markdown",
   "metadata": {},
   "source": [
    "<a id=\"npt\"></a>\n",
    "***\n",
    "## Equilibrate the system (NPT)\n",
    "Equilibrate the **protein-ligand complex** system in NPT ensemble (constant Number of particles, Pressure and Temperature) .\n",
    "- [Step 1](#eqNPTStep1): Creating portable binary run file for system equilibration\n",
    "- [Step 2](#eqNPTStep2): Equilibrate the **protein-ligand complex** with NPT ensemble.\n",
    "- [Step 3](#eqNPTStep3): Checking **NPT Equilibration** results. Plotting **system pressure and density** by time during the **NPT equilibration** process.\n",
    "***\n",
    "**Building Blocks** used:\n",
    " - [Grompp](https://biobb-md.readthedocs.io/en/latest/gromacs.html#module-gromacs.grompp) from **biobb_md.gromacs.grompp** \n",
    " - [Mdrun](https://biobb-md.readthedocs.io/en/latest/gromacs.html#module-gromacs.mdrun) from **biobb_md.gromacs.mdrun** \n",
    " - [GMXEnergy](https://biobb-analysis.readthedocs.io/en/latest/gromacs.html#module-gromacs.gmx_energy) from **biobb_analysis.gromacs.gmx_energy** \n",
    "***"
   ]
  },
  {
   "cell_type": "markdown",
   "metadata": {},
   "source": [
    "<a id=\"eqNPTStep1\"></a>\n",
    "### Step 1: Creating portable binary run file for system equilibration (NPT)"
   ]
  },
  {
   "cell_type": "code",
   "execution_count": 30,
   "metadata": {},
   "outputs": [
    {
     "name": "stderr",
     "output_type": "stream",
     "text": [
      "2019-10-16 12:25:14,372 [MainThread  ] [INFO ]  GROMACS Grompp 20191 version detected\n",
      "2019-10-16 12:25:14,374 [MainThread  ] [INFO ]  Will run a npt md of 5000 steps\n",
      "2019-10-16 12:25:14,379 [MainThread  ] [INFO ]  Extracting: /home/gbayarri_local/projects/BioBB/tutorials/biobb_wf_protein-complex_md_setup/biobb_wf_protein-complex_md_setup/notebooks/3HTB_JZ4_genion_top.zip\n",
      "2019-10-16 12:25:14,379 [MainThread  ] [INFO ]  to:\n",
      "2019-10-16 12:25:14,380 [MainThread  ] [INFO ]  ['e39d095d-7fa0-4ca2-8325-482d8180916d/JZ4_posres.itp', 'e39d095d-7fa0-4ca2-8325-482d8180916d/JZ4params.itp', 'e39d095d-7fa0-4ca2-8325-482d8180916d/ligand.top', 'e39d095d-7fa0-4ca2-8325-482d8180916d/posre.itp']\n",
      "2019-10-16 12:25:14,381 [MainThread  ] [INFO ]  Unzipping: \n",
      "2019-10-16 12:25:14,382 [MainThread  ] [INFO ]  3HTB_JZ4_genion_top.zip\n",
      "2019-10-16 12:25:14,383 [MainThread  ] [INFO ]  To: \n",
      "2019-10-16 12:25:14,384 [MainThread  ] [INFO ]  e39d095d-7fa0-4ca2-8325-482d8180916d/JZ4_posres.itp\n",
      "2019-10-16 12:25:14,385 [MainThread  ] [INFO ]  e39d095d-7fa0-4ca2-8325-482d8180916d/JZ4params.itp\n",
      "2019-10-16 12:25:14,386 [MainThread  ] [INFO ]  e39d095d-7fa0-4ca2-8325-482d8180916d/ligand.top\n",
      "2019-10-16 12:25:14,389 [MainThread  ] [INFO ]  e39d095d-7fa0-4ca2-8325-482d8180916d/posre.itp\n",
      "2019-10-16 12:25:15,061 [MainThread  ] [INFO ]  gmx -nobackup -nocopyright grompp -f 92e99bce-9483-4405-9fb7-002472bdc295/grompp.mdp -c 3HTB_JZ4_nvt.gro -r 3HTB_JZ4_nvt.gro -p e39d095d-7fa0-4ca2-8325-482d8180916d/ligand.top -o 3HTB_JZ4_gppnpt.tpr -po mdout.mdp -maxwarn 10 -t 3HTB_JZ4_nvt.cpt -n 3HTB_JZ4_index.ndx\n",
      "\n",
      "2019-10-16 12:25:15,062 [MainThread  ] [INFO ]  Exit code 0\n",
      "\n",
      "2019-10-16 12:25:15,063 [MainThread  ] [INFO ]  turning all bonds into constraints...\n",
      "turning all bonds into constraints...\n",
      "turning all bonds into constraints...\n",
      "turning all bonds into constraints...\n",
      "turning all bonds into constraints...\n",
      "Determining Verlet buffer for a tolerance of 0.005 kJ/mol/ps at 300 K\n",
      "Calculated rlist for 1x1 atom pair-list as 1.035 nm, buffer size 0.035 nm\n",
      "Set rlist, assuming 4x4 atom pair-list, to 1.000 nm, buffer size 0.000 nm\n",
      "Note that mdrun will redetermine rlist based on the actual pair-list setup\n",
      "Calculating fourier grid dimensions for X Y Z\n",
      "Using a fourier grid of 64x64x64, spacing 0.116 0.116 0.116\n",
      "This run will generate roughly 11 Mb of data\n",
      "\n",
      "2019-10-16 12:25:15,064 [MainThread  ] [INFO ]                        :-) GROMACS - gmx grompp, 2019.1 (-:\n",
      "\n",
      "Executable:   /anaconda3/envs/biobb_dev/bin/gmx\n",
      "Data prefix:  /anaconda3/envs/biobb_dev\n",
      "Working dir:  /home/gbayarri_local/projects/BioBB/tutorials/biobb_wf_protein-complex_md_setup/biobb_wf_protein-complex_md_setup/notebooks\n",
      "Command line:\n",
      "  gmx -nobackup -nocopyright grompp -f 92e99bce-9483-4405-9fb7-002472bdc295/grompp.mdp -c 3HTB_JZ4_nvt.gro -r 3HTB_JZ4_nvt.gro -p e39d095d-7fa0-4ca2-8325-482d8180916d/ligand.top -o 3HTB_JZ4_gppnpt.tpr -po mdout.mdp -maxwarn 10 -t 3HTB_JZ4_nvt.cpt -n 3HTB_JZ4_index.ndx\n",
      "\n",
      "Setting the LD random seed to 1267796025\n",
      "Generated 2556 of the 2556 non-bonded parameter combinations\n",
      "Generating 1-4 interactions: fudge = 0.5\n",
      "Generated 2556 of the 2556 1-4 parameter combinations\n",
      "Excluding 3 bonded neighbours molecule type 'Protein_chain_A'\n",
      "Excluding 3 bonded neighbours molecule type 'JZ4params'\n",
      "Excluding 2 bonded neighbours molecule type 'SOL'\n",
      "Excluding 1 bonded neighbours molecule type 'NA'\n",
      "Excluding 1 bonded neighbours molecule type 'CL'\n",
      "\n",
      "NOTE 1 [file unknown]:\n",
      "  You are using constraints on all bonds, whereas the forcefield has been\n",
      "  parametrized only with constraints involving hydrogen atoms. We suggest\n",
      "  using constraints = h-bonds instead, this will also improve performance.\n",
      "\n",
      "Removing all charge groups because cutoff-scheme=Verlet\n",
      "\n",
      "NOTE 2 [file unknown]:\n",
      "  You are combining position restraints with Parrinello-Rahman pressure\n",
      "  coupling, which can lead to instabilities. If you really want to combine\n",
      "  position restraints with pressure coupling, we suggest to use Berendsen\n",
      "  pressure coupling instead.\n",
      "\n",
      "The center of mass of the position restraint coord's is  3.723  5.271  3.046\n",
      "The center of mass of the position restraint coord's is  3.723  5.271  3.046\n",
      "Number of degrees of freedom in T-Coupling group Protein_Other is 5251.75\n",
      "Number of degrees of freedom in T-Coupling group Water_and_ions is 57105.25\n",
      "Reading Coordinates, Velocities and Box size from old trajectory\n",
      "Will read whole trajectory\n",
      "Last frame         -1 time   10.000   \n",
      "Using frame at t = 10 ps\n",
      "Starting time for run is 0 ps\n",
      "Estimate for the relative computational load of the PME mesh part: 0.20\n",
      "\n",
      "There were 2 notes\n",
      "\n",
      "GROMACS reminds you: \"You Fill Me With Inertia\" (The Long Blondes)\n",
      "\n",
      "\n",
      "2019-10-16 12:25:15,066 [MainThread  ] [INFO ]  Removed: ['mdout.mdp', '92e99bce-9483-4405-9fb7-002472bdc295', 'e39d095d-7fa0-4ca2-8325-482d8180916d']\n"
     ]
    },
    {
     "data": {
      "text/plain": [
       "0"
      ]
     },
     "execution_count": 30,
     "metadata": {},
     "output_type": "execute_result"
    }
   ],
   "source": [
    "# Grompp: Creating portable binary run file for (NPT) System Equilibration\n",
    "from biobb_md.gromacs.grompp import Grompp\n",
    "\n",
    "# Create prop dict and inputs/outputs\n",
    "output_gppnpt_tpr = pdbCode+'_'+ligandCode+'_gppnpt.tpr'\n",
    "prop = {\n",
    "    'mdp':{\n",
    "        'type': 'npt',\n",
    "        'nsteps':'5000',\n",
    "        'tc-grps': 'Protein_Other Water_and_ions',\n",
    "        'define': '-DPOSRES -D' + posresifdef\n",
    "    }\n",
    "}\n",
    "\n",
    "# Create and launch bb\n",
    "Grompp(input_gro_path=output_nvt_gro,\n",
    "       input_top_zip_path=output_genion_top_zip,\n",
    "       input_ndx_path=output_complex_ndx,\n",
    "       output_tpr_path=output_gppnpt_tpr,\n",
    "       input_cpt_path=output_nvt_cpt,\n",
    "       properties=prop).launch()\n"
   ]
  },
  {
   "cell_type": "markdown",
   "metadata": {},
   "source": [
    "<a id=\"eqNPTStep2\"></a>\n",
    "### Step 2: Running NPT equilibration"
   ]
  },
  {
   "cell_type": "code",
   "execution_count": 31,
   "metadata": {},
   "outputs": [
    {
     "name": "stderr",
     "output_type": "stream",
     "text": [
      "2019-10-16 12:25:16,461 [MainThread  ] [INFO ]  GROMACS Mdrun 20191 version detected\n",
      "2019-10-16 12:25:16,462 [MainThread  ] [INFO ]  Not using any container\n",
      "2019-10-16 12:26:54,084 [MainThread  ] [INFO ]  gmx -nobackup -nocopyright mdrun -s 3HTB_JZ4_gppnpt.tpr -o 3HTB_JZ4_npt.trr -c 3HTB_JZ4_npt.gro -e 3HTB_JZ4_npt.edr -g 3HTB_JZ4_npt.log -nt 0 -cpo 3HTB_JZ4_npt.cpt\n",
      "\n",
      "2019-10-16 12:26:54,086 [MainThread  ] [INFO ]  Exit code 0\n",
      "\n",
      "2019-10-16 12:26:54,086 [MainThread  ] [INFO ]                        :-) GROMACS - gmx mdrun, 2019.1 (-:\n",
      "\n",
      "Executable:   /anaconda3/envs/biobb_dev/bin/gmx\n",
      "Data prefix:  /anaconda3/envs/biobb_dev\n",
      "Working dir:  /home/gbayarri_local/projects/BioBB/tutorials/biobb_wf_protein-complex_md_setup/biobb_wf_protein-complex_md_setup/notebooks\n",
      "Command line:\n",
      "  gmx -nobackup -nocopyright mdrun -s 3HTB_JZ4_gppnpt.tpr -o 3HTB_JZ4_npt.trr -c 3HTB_JZ4_npt.gro -e 3HTB_JZ4_npt.edr -g 3HTB_JZ4_npt.log -nt 0 -cpo 3HTB_JZ4_npt.cpt\n",
      "\n",
      "Compiled SIMD: SSE2, but for this host/run AVX2_256 might be better (see log).\n",
      "The current CPU can measure timings more accurately than the code in\n",
      "gmx mdrun was configured to use. This might affect your simulation\n",
      "speed as accurate timings are needed for load-balancing.\n",
      "Please consider rebuilding gmx mdrun with the GMX_USE_RDTSCP=ON CMake option.\n",
      "Reading file 3HTB_JZ4_gppnpt.tpr, VERSION 2019.1 (single precision)\n",
      "Changing nstlist from 10 to 50, rlist from 1 to 1.113\n",
      "\n",
      "\n",
      "Using 1 MPI thread\n",
      "Using 8 OpenMP threads \n",
      "\n",
      "starting mdrun 'Protein in water'\n",
      "5000 steps,     10.0 ps.\n",
      "\n",
      "Writing final coordinates.\n",
      "\n",
      "               Core t (s)   Wall t (s)        (%)\n",
      "       Time:      763.552       95.444      800.0\n",
      "                 (ns/day)    (hour/ns)\n",
      "Performance:        9.054        2.651\n",
      "\n",
      "GROMACS reminds you: \"Act like Prometheus would\" (Gogol Bordello)\n",
      "\n",
      "\n",
      "2019-10-16 12:26:54,087 [MainThread  ] [INFO ]  Removed: []\n"
     ]
    },
    {
     "data": {
      "text/plain": [
       "0"
      ]
     },
     "execution_count": 31,
     "metadata": {},
     "output_type": "execute_result"
    }
   ],
   "source": [
    "# Mdrun: Running NPT System Equilibration\n",
    "from biobb_md.gromacs.mdrun import Mdrun\n",
    "\n",
    "# Create prop dict and inputs/outputs\n",
    "output_npt_trr = pdbCode+'_'+ligandCode+'_npt.trr'\n",
    "output_npt_gro = pdbCode+'_'+ligandCode+'_npt.gro'\n",
    "output_npt_edr = pdbCode+'_'+ligandCode+'_npt.edr'\n",
    "output_npt_log = pdbCode+'_'+ligandCode+'_npt.log'\n",
    "output_npt_cpt = pdbCode+'_'+ligandCode+'_npt.cpt'\n",
    "\n",
    "# Create and launch bb\n",
    "Mdrun(input_tpr_path=output_gppnpt_tpr,\n",
    "      output_trr_path=output_npt_trr,\n",
    "      output_gro_path=output_npt_gro,\n",
    "      output_edr_path=output_npt_edr,\n",
    "      output_log_path=output_npt_log,\n",
    "      output_cpt_path=output_npt_cpt).launch()"
   ]
  },
  {
   "cell_type": "markdown",
   "metadata": {},
   "source": [
    "<a id=\"eqNPTStep3\"></a>\n",
    "### Step 3: Checking NPT Equilibration results\n",
    "Checking **NPT Equilibration** results. Plotting **system pressure and density** by time during the **NPT equilibration** process. "
   ]
  },
  {
   "cell_type": "code",
   "execution_count": 32,
   "metadata": {},
   "outputs": [
    {
     "name": "stderr",
     "output_type": "stream",
     "text": [
      "2019-10-16 12:26:57,367 [MainThread  ] [INFO ]  gmx energy -f /home/gbayarri_local/projects/BioBB/tutorials/biobb_wf_protein-complex_md_setup/biobb_wf_protein-complex_md_setup/notebooks/3HTB_JZ4_npt.edr -o 3HTB_JZ4_npt_PD.xvg -xvg none < b2d9617d-5462-4a84-9ad9-b5722e27c0b1/instructions.in\n",
      "\n",
      "2019-10-16 12:26:57,369 [MainThread  ] [INFO ]  Exit code 0\n",
      "\n",
      "2019-10-16 12:26:57,370 [MainThread  ] [INFO ]  \n",
      "Statistics over 5001 steps [ 0.0000 through 10.0000 ps ], 2 data sets\n",
      "All statistics are over 51 points\n",
      "\n",
      "Energy                      Average   Err.Est.       RMSD  Tot-Drift\n",
      "-------------------------------------------------------------------------------\n",
      "Pressure                   -43.5454         18    212.879    98.7151  (bar)\n",
      "Density                     1026.78        2.8    7.09696    17.4178  (kg/m^3)\n",
      "\n",
      "2019-10-16 12:26:57,373 [MainThread  ] [INFO ]                        :-) GROMACS - gmx energy, 2019.1 (-:\n",
      "\n",
      "                            GROMACS is written by:\n",
      "     Emile Apol      Rossen Apostolov      Paul Bauer     Herman J.C. Berendsen\n",
      "    Par Bjelkmar      Christian Blau   Viacheslav Bolnykh     Kevin Boyd    \n",
      " Aldert van Buuren   Rudi van Drunen     Anton Feenstra       Alan Gray     \n",
      "  Gerrit Groenhof     Anca Hamuraru    Vincent Hindriksen  M. Eric Irrgang  \n",
      "  Aleksei Iupinov   Christoph Junghans     Joe Jordan     Dimitrios Karkoulis\n",
      "    Peter Kasson        Jiri Kraus      Carsten Kutzner      Per Larsson    \n",
      "  Justin A. Lemkul    Viveca Lindahl    Magnus Lundborg     Erik Marklund   \n",
      "    Pascal Merz     Pieter Meulenhoff    Teemu Murtola       Szilard Pall   \n",
      "    Sander Pronk      Roland Schulz      Michael Shirts    Alexey Shvetsov  \n",
      "   Alfons Sijbers     Peter Tieleman      Jon Vincent      Teemu Virolainen \n",
      " Christian Wennberg    Maarten Wolf   \n",
      "                           and the project leaders:\n",
      "        Mark Abraham, Berk Hess, Erik Lindahl, and David van der Spoel\n",
      "\n",
      "Copyright (c) 1991-2000, University of Groningen, The Netherlands.\n",
      "Copyright (c) 2001-2018, The GROMACS development team at\n",
      "Uppsala University, Stockholm University and\n",
      "the Royal Institute of Technology, Sweden.\n",
      "check out http://www.gromacs.org for more information.\n",
      "\n",
      "GROMACS is free software; you can redistribute it and/or modify it\n",
      "under the terms of the GNU Lesser General Public License\n",
      "as published by the Free Software Foundation; either version 2.1\n",
      "of the License, or (at your option) any later version.\n",
      "\n",
      "GROMACS:      gmx energy, version 2019.1\n",
      "Executable:   /anaconda3/envs/biobb_dev/bin/gmx\n",
      "Data prefix:  /anaconda3/envs/biobb_dev\n",
      "Working dir:  /home/gbayarri_local/projects/BioBB/tutorials/biobb_wf_protein-complex_md_setup/biobb_wf_protein-complex_md_setup/notebooks\n",
      "Command line:\n",
      "  gmx energy -f /home/gbayarri_local/projects/BioBB/tutorials/biobb_wf_protein-complex_md_setup/biobb_wf_protein-complex_md_setup/notebooks/3HTB_JZ4_npt.edr -o 3HTB_JZ4_npt_PD.xvg -xvg none\n",
      "\n",
      "Opened /home/gbayarri_local/projects/BioBB/tutorials/biobb_wf_protein-complex_md_setup/biobb_wf_protein-complex_md_setup/notebooks/3HTB_JZ4_npt.edr as single precision energy file\n",
      "\n",
      "Select the terms you want from the following list by\n",
      "selecting either (part of) the name or the number or a combination.\n",
      "End your selection with an empty line or a zero.\n",
      "-------------------------------------------------------------------\n",
      "  1  Angle            2  Proper-Dih.      3  Improper-Dih.    4  LJ-14         \n",
      "  5  Coulomb-14       6  LJ-(SR)          7  Disper.-corr.    8  Coulomb-(SR)  \n",
      "  9  Coul.-recip.    10  Position-Rest.  11  Potential       12  Kinetic-En.   \n",
      " 13  Total-Energy    14  Conserved-En.   15  Temperature     16  Pres.-DC      \n",
      " 17  Pressure        18  Constr.-rmsd    19  Box-X           20  Box-Y         \n",
      " 21  Box-Z           22  Volume          23  Density         24  pV            \n",
      " 25  Enthalpy        26  Vir-XX          27  Vir-XY          28  Vir-XZ        \n",
      " 29  Vir-YX          30  Vir-YY          31  Vir-YZ          32  Vir-ZX        \n",
      " 33  Vir-ZY          34  Vir-ZZ          35  Pres-XX         36  Pres-XY       \n",
      " 37  Pres-XZ         38  Pres-YX         39  Pres-YY         40  Pres-YZ       \n",
      " 41  Pres-ZX         42  Pres-ZY         43  Pres-ZZ         44  #Surf*SurfTen \n",
      " 45  Box-Vel-XX                          46  Box-Vel-YY                        \n",
      " 47  Box-Vel-ZZ                          48  T-Protein_Other                   \n",
      " 49  T-Water_and_ions                    50  Lamb-Protein_Other                \n",
      " 51  Lamb-Water_and_ions               \n",
      "\n",
      "\n",
      "Back Off! I just backed up 3HTB_JZ4_npt_PD.xvg to ./#3HTB_JZ4_npt_PD.xvg.1#\n",
      "Last energy frame read 10 time   10.000           \n",
      "\n",
      "GROMACS reminds you: \"There is just one thing I can promise you about the outer-space program: your tax dollar will go farther.\" (Wernher von Braun)\n",
      "\n",
      "\n",
      "2019-10-16 12:26:57,381 [MainThread  ] [INFO ]  Removed: [PurePosixPath('b2d9617d-5462-4a84-9ad9-b5722e27c0b1')]\n"
     ]
    },
    {
     "data": {
      "text/plain": [
       "0"
      ]
     },
     "execution_count": 32,
     "metadata": {},
     "output_type": "execute_result"
    }
   ],
   "source": [
    "# GMXEnergy: Getting system pressure and density by time during NPT Equilibration  \n",
    "from biobb_analysis.gromacs.gmx_energy import GMXEnergy\n",
    "\n",
    "# Create prop dict and inputs/outputs\n",
    "output_npt_pd_xvg = pdbCode+'_'+ligandCode+'_npt_PD.xvg'\n",
    "prop = {\n",
    "    'terms':  [\"Pressure\",\"Density\"]\n",
    "}\n",
    "\n",
    "# Create and launch bb\n",
    "GMXEnergy(input_energy_path=output_npt_edr, \n",
    "          output_xvg_path=output_npt_pd_xvg, \n",
    "          properties=prop).launch()"
   ]
  },
  {
   "cell_type": "code",
   "execution_count": 33,
   "metadata": {},
   "outputs": [
    {
     "data": {
      "text/html": [
       "        <script type=\"text/javascript\">\n",
       "        window.PlotlyConfig = {MathJaxConfig: 'local'};\n",
       "        if (window.MathJax) {MathJax.Hub.Config({SVG: {font: \"STIX-Web\"}});}\n",
       "        if (typeof require !== 'undefined') {\n",
       "        require.undef(\"plotly\");\n",
       "        requirejs.config({\n",
       "            paths: {\n",
       "                'plotly': ['https://cdn.plot.ly/plotly-latest.min']\n",
       "            }\n",
       "        });\n",
       "        require(['plotly'], function(Plotly) {\n",
       "            window._Plotly = Plotly;\n",
       "        });\n",
       "        }\n",
       "        </script>\n",
       "        "
      ]
     },
     "metadata": {},
     "output_type": "display_data"
    },
    {
     "name": "stderr",
     "output_type": "stream",
     "text": [
      "/anaconda3/envs/biobb_dev/lib/python3.6/site-packages/plotly/tools.py:465: DeprecationWarning:\n",
      "\n",
      "plotly.tools.make_subplots is deprecated, please use plotly.subplots.make_subplots instead\n",
      "\n"
     ]
    },
    {
     "data": {
      "application/vnd.plotly.v1+json": {
       "config": {
        "linkText": "Export to plot.ly",
        "plotlyServerURL": "https://plot.ly",
        "showLink": false
       },
       "data": [
        {
         "type": "scatter",
         "x": [
          0,
          1,
          2,
          3,
          4,
          5,
          6,
          7,
          8,
          9,
          10
         ],
         "xaxis": "x",
         "y": [
          -641.712769,
          -333.119446,
          -40.5495,
          -314.415619,
          -216.742462,
          -218.525848,
          -275.107025,
          28.685928,
          -56.691956,
          111.827667,
          58.04744
         ],
         "yaxis": "y"
        },
        {
         "type": "scatter",
         "x": [
          0,
          1,
          2,
          3,
          4,
          5,
          6,
          7,
          8,
          9,
          10
         ],
         "xaxis": "x2",
         "y": [
          995.065735,
          1017.763977,
          1019.166626,
          1026.778809,
          1030.073242,
          1024.67981,
          1027.347656,
          1030.210449,
          1029.408813,
          1030.838257,
          1033.616455
         ],
         "yaxis": "y2"
        }
       ],
       "layout": {
        "showlegend": false,
        "template": {
         "data": {
          "bar": [
           {
            "error_x": {
             "color": "#2a3f5f"
            },
            "error_y": {
             "color": "#2a3f5f"
            },
            "marker": {
             "line": {
              "color": "#E5ECF6",
              "width": 0.5
             }
            },
            "type": "bar"
           }
          ],
          "barpolar": [
           {
            "marker": {
             "line": {
              "color": "#E5ECF6",
              "width": 0.5
             }
            },
            "type": "barpolar"
           }
          ],
          "carpet": [
           {
            "aaxis": {
             "endlinecolor": "#2a3f5f",
             "gridcolor": "white",
             "linecolor": "white",
             "minorgridcolor": "white",
             "startlinecolor": "#2a3f5f"
            },
            "baxis": {
             "endlinecolor": "#2a3f5f",
             "gridcolor": "white",
             "linecolor": "white",
             "minorgridcolor": "white",
             "startlinecolor": "#2a3f5f"
            },
            "type": "carpet"
           }
          ],
          "choropleth": [
           {
            "colorbar": {
             "outlinewidth": 0,
             "ticks": ""
            },
            "type": "choropleth"
           }
          ],
          "contour": [
           {
            "colorbar": {
             "outlinewidth": 0,
             "ticks": ""
            },
            "colorscale": [
             [
              0,
              "#0d0887"
             ],
             [
              0.1111111111111111,
              "#46039f"
             ],
             [
              0.2222222222222222,
              "#7201a8"
             ],
             [
              0.3333333333333333,
              "#9c179e"
             ],
             [
              0.4444444444444444,
              "#bd3786"
             ],
             [
              0.5555555555555556,
              "#d8576b"
             ],
             [
              0.6666666666666666,
              "#ed7953"
             ],
             [
              0.7777777777777778,
              "#fb9f3a"
             ],
             [
              0.8888888888888888,
              "#fdca26"
             ],
             [
              1,
              "#f0f921"
             ]
            ],
            "type": "contour"
           }
          ],
          "contourcarpet": [
           {
            "colorbar": {
             "outlinewidth": 0,
             "ticks": ""
            },
            "type": "contourcarpet"
           }
          ],
          "heatmap": [
           {
            "colorbar": {
             "outlinewidth": 0,
             "ticks": ""
            },
            "colorscale": [
             [
              0,
              "#0d0887"
             ],
             [
              0.1111111111111111,
              "#46039f"
             ],
             [
              0.2222222222222222,
              "#7201a8"
             ],
             [
              0.3333333333333333,
              "#9c179e"
             ],
             [
              0.4444444444444444,
              "#bd3786"
             ],
             [
              0.5555555555555556,
              "#d8576b"
             ],
             [
              0.6666666666666666,
              "#ed7953"
             ],
             [
              0.7777777777777778,
              "#fb9f3a"
             ],
             [
              0.8888888888888888,
              "#fdca26"
             ],
             [
              1,
              "#f0f921"
             ]
            ],
            "type": "heatmap"
           }
          ],
          "heatmapgl": [
           {
            "colorbar": {
             "outlinewidth": 0,
             "ticks": ""
            },
            "colorscale": [
             [
              0,
              "#0d0887"
             ],
             [
              0.1111111111111111,
              "#46039f"
             ],
             [
              0.2222222222222222,
              "#7201a8"
             ],
             [
              0.3333333333333333,
              "#9c179e"
             ],
             [
              0.4444444444444444,
              "#bd3786"
             ],
             [
              0.5555555555555556,
              "#d8576b"
             ],
             [
              0.6666666666666666,
              "#ed7953"
             ],
             [
              0.7777777777777778,
              "#fb9f3a"
             ],
             [
              0.8888888888888888,
              "#fdca26"
             ],
             [
              1,
              "#f0f921"
             ]
            ],
            "type": "heatmapgl"
           }
          ],
          "histogram": [
           {
            "marker": {
             "colorbar": {
              "outlinewidth": 0,
              "ticks": ""
             }
            },
            "type": "histogram"
           }
          ],
          "histogram2d": [
           {
            "colorbar": {
             "outlinewidth": 0,
             "ticks": ""
            },
            "colorscale": [
             [
              0,
              "#0d0887"
             ],
             [
              0.1111111111111111,
              "#46039f"
             ],
             [
              0.2222222222222222,
              "#7201a8"
             ],
             [
              0.3333333333333333,
              "#9c179e"
             ],
             [
              0.4444444444444444,
              "#bd3786"
             ],
             [
              0.5555555555555556,
              "#d8576b"
             ],
             [
              0.6666666666666666,
              "#ed7953"
             ],
             [
              0.7777777777777778,
              "#fb9f3a"
             ],
             [
              0.8888888888888888,
              "#fdca26"
             ],
             [
              1,
              "#f0f921"
             ]
            ],
            "type": "histogram2d"
           }
          ],
          "histogram2dcontour": [
           {
            "colorbar": {
             "outlinewidth": 0,
             "ticks": ""
            },
            "colorscale": [
             [
              0,
              "#0d0887"
             ],
             [
              0.1111111111111111,
              "#46039f"
             ],
             [
              0.2222222222222222,
              "#7201a8"
             ],
             [
              0.3333333333333333,
              "#9c179e"
             ],
             [
              0.4444444444444444,
              "#bd3786"
             ],
             [
              0.5555555555555556,
              "#d8576b"
             ],
             [
              0.6666666666666666,
              "#ed7953"
             ],
             [
              0.7777777777777778,
              "#fb9f3a"
             ],
             [
              0.8888888888888888,
              "#fdca26"
             ],
             [
              1,
              "#f0f921"
             ]
            ],
            "type": "histogram2dcontour"
           }
          ],
          "mesh3d": [
           {
            "colorbar": {
             "outlinewidth": 0,
             "ticks": ""
            },
            "type": "mesh3d"
           }
          ],
          "parcoords": [
           {
            "line": {
             "colorbar": {
              "outlinewidth": 0,
              "ticks": ""
             }
            },
            "type": "parcoords"
           }
          ],
          "scatter": [
           {
            "marker": {
             "colorbar": {
              "outlinewidth": 0,
              "ticks": ""
             }
            },
            "type": "scatter"
           }
          ],
          "scatter3d": [
           {
            "line": {
             "colorbar": {
              "outlinewidth": 0,
              "ticks": ""
             }
            },
            "marker": {
             "colorbar": {
              "outlinewidth": 0,
              "ticks": ""
             }
            },
            "type": "scatter3d"
           }
          ],
          "scattercarpet": [
           {
            "marker": {
             "colorbar": {
              "outlinewidth": 0,
              "ticks": ""
             }
            },
            "type": "scattercarpet"
           }
          ],
          "scattergeo": [
           {
            "marker": {
             "colorbar": {
              "outlinewidth": 0,
              "ticks": ""
             }
            },
            "type": "scattergeo"
           }
          ],
          "scattergl": [
           {
            "marker": {
             "colorbar": {
              "outlinewidth": 0,
              "ticks": ""
             }
            },
            "type": "scattergl"
           }
          ],
          "scattermapbox": [
           {
            "marker": {
             "colorbar": {
              "outlinewidth": 0,
              "ticks": ""
             }
            },
            "type": "scattermapbox"
           }
          ],
          "scatterpolar": [
           {
            "marker": {
             "colorbar": {
              "outlinewidth": 0,
              "ticks": ""
             }
            },
            "type": "scatterpolar"
           }
          ],
          "scatterpolargl": [
           {
            "marker": {
             "colorbar": {
              "outlinewidth": 0,
              "ticks": ""
             }
            },
            "type": "scatterpolargl"
           }
          ],
          "scatterternary": [
           {
            "marker": {
             "colorbar": {
              "outlinewidth": 0,
              "ticks": ""
             }
            },
            "type": "scatterternary"
           }
          ],
          "surface": [
           {
            "colorbar": {
             "outlinewidth": 0,
             "ticks": ""
            },
            "colorscale": [
             [
              0,
              "#0d0887"
             ],
             [
              0.1111111111111111,
              "#46039f"
             ],
             [
              0.2222222222222222,
              "#7201a8"
             ],
             [
              0.3333333333333333,
              "#9c179e"
             ],
             [
              0.4444444444444444,
              "#bd3786"
             ],
             [
              0.5555555555555556,
              "#d8576b"
             ],
             [
              0.6666666666666666,
              "#ed7953"
             ],
             [
              0.7777777777777778,
              "#fb9f3a"
             ],
             [
              0.8888888888888888,
              "#fdca26"
             ],
             [
              1,
              "#f0f921"
             ]
            ],
            "type": "surface"
           }
          ],
          "table": [
           {
            "cells": {
             "fill": {
              "color": "#EBF0F8"
             },
             "line": {
              "color": "white"
             }
            },
            "header": {
             "fill": {
              "color": "#C8D4E3"
             },
             "line": {
              "color": "white"
             }
            },
            "type": "table"
           }
          ]
         },
         "layout": {
          "annotationdefaults": {
           "arrowcolor": "#2a3f5f",
           "arrowhead": 0,
           "arrowwidth": 1
          },
          "colorscale": {
           "diverging": [
            [
             0,
             "#8e0152"
            ],
            [
             0.1,
             "#c51b7d"
            ],
            [
             0.2,
             "#de77ae"
            ],
            [
             0.3,
             "#f1b6da"
            ],
            [
             0.4,
             "#fde0ef"
            ],
            [
             0.5,
             "#f7f7f7"
            ],
            [
             0.6,
             "#e6f5d0"
            ],
            [
             0.7,
             "#b8e186"
            ],
            [
             0.8,
             "#7fbc41"
            ],
            [
             0.9,
             "#4d9221"
            ],
            [
             1,
             "#276419"
            ]
           ],
           "sequential": [
            [
             0,
             "#0d0887"
            ],
            [
             0.1111111111111111,
             "#46039f"
            ],
            [
             0.2222222222222222,
             "#7201a8"
            ],
            [
             0.3333333333333333,
             "#9c179e"
            ],
            [
             0.4444444444444444,
             "#bd3786"
            ],
            [
             0.5555555555555556,
             "#d8576b"
            ],
            [
             0.6666666666666666,
             "#ed7953"
            ],
            [
             0.7777777777777778,
             "#fb9f3a"
            ],
            [
             0.8888888888888888,
             "#fdca26"
            ],
            [
             1,
             "#f0f921"
            ]
           ],
           "sequentialminus": [
            [
             0,
             "#0d0887"
            ],
            [
             0.1111111111111111,
             "#46039f"
            ],
            [
             0.2222222222222222,
             "#7201a8"
            ],
            [
             0.3333333333333333,
             "#9c179e"
            ],
            [
             0.4444444444444444,
             "#bd3786"
            ],
            [
             0.5555555555555556,
             "#d8576b"
            ],
            [
             0.6666666666666666,
             "#ed7953"
            ],
            [
             0.7777777777777778,
             "#fb9f3a"
            ],
            [
             0.8888888888888888,
             "#fdca26"
            ],
            [
             1,
             "#f0f921"
            ]
           ]
          },
          "colorway": [
           "#636efa",
           "#EF553B",
           "#00cc96",
           "#ab63fa",
           "#FFA15A",
           "#19d3f3",
           "#FF6692",
           "#B6E880",
           "#FF97FF",
           "#FECB52"
          ],
          "font": {
           "color": "#2a3f5f"
          },
          "geo": {
           "bgcolor": "white",
           "lakecolor": "white",
           "landcolor": "#E5ECF6",
           "showlakes": true,
           "showland": true,
           "subunitcolor": "white"
          },
          "hoverlabel": {
           "align": "left"
          },
          "hovermode": "closest",
          "mapbox": {
           "style": "light"
          },
          "paper_bgcolor": "white",
          "plot_bgcolor": "#E5ECF6",
          "polar": {
           "angularaxis": {
            "gridcolor": "white",
            "linecolor": "white",
            "ticks": ""
           },
           "bgcolor": "#E5ECF6",
           "radialaxis": {
            "gridcolor": "white",
            "linecolor": "white",
            "ticks": ""
           }
          },
          "scene": {
           "xaxis": {
            "backgroundcolor": "#E5ECF6",
            "gridcolor": "white",
            "gridwidth": 2,
            "linecolor": "white",
            "showbackground": true,
            "ticks": "",
            "zerolinecolor": "white"
           },
           "yaxis": {
            "backgroundcolor": "#E5ECF6",
            "gridcolor": "white",
            "gridwidth": 2,
            "linecolor": "white",
            "showbackground": true,
            "ticks": "",
            "zerolinecolor": "white"
           },
           "zaxis": {
            "backgroundcolor": "#E5ECF6",
            "gridcolor": "white",
            "gridwidth": 2,
            "linecolor": "white",
            "showbackground": true,
            "ticks": "",
            "zerolinecolor": "white"
           }
          },
          "shapedefaults": {
           "line": {
            "color": "#2a3f5f"
           }
          },
          "ternary": {
           "aaxis": {
            "gridcolor": "white",
            "linecolor": "white",
            "ticks": ""
           },
           "baxis": {
            "gridcolor": "white",
            "linecolor": "white",
            "ticks": ""
           },
           "bgcolor": "#E5ECF6",
           "caxis": {
            "gridcolor": "white",
            "linecolor": "white",
            "ticks": ""
           }
          },
          "title": {
           "x": 0.05
          },
          "xaxis": {
           "automargin": true,
           "gridcolor": "white",
           "linecolor": "white",
           "ticks": "",
           "zerolinecolor": "white",
           "zerolinewidth": 2
          },
          "yaxis": {
           "automargin": true,
           "gridcolor": "white",
           "linecolor": "white",
           "ticks": "",
           "zerolinecolor": "white",
           "zerolinewidth": 2
          }
         }
        },
        "title": {
         "text": "Pressure and Density during NPT Equilibration"
        },
        "xaxis": {
         "anchor": "y",
         "domain": [
          0,
          0.45
         ],
         "title": {
          "text": "Time (ps)"
         }
        },
        "xaxis2": {
         "anchor": "y2",
         "domain": [
          0.55,
          1
         ],
         "title": {
          "text": "Time (ps)"
         }
        },
        "yaxis": {
         "anchor": "x",
         "domain": [
          0,
          1
         ],
         "title": {
          "text": "Pressure (bar)"
         }
        },
        "yaxis2": {
         "anchor": "x2",
         "domain": [
          0,
          1
         ],
         "title": {
          "text": "Density (Kg*m^-3)"
         }
        }
       }
      },
      "text/html": [
       "<div>\n",
       "        \n",
       "        \n",
       "            <div id=\"aafb1938-5526-4e82-8acf-0bd357e0e910\" class=\"plotly-graph-div\" style=\"height:525px; width:100%;\"></div>\n",
       "            <script type=\"text/javascript\">\n",
       "                require([\"plotly\"], function(Plotly) {\n",
       "                    window.PLOTLYENV=window.PLOTLYENV || {};\n",
       "                    \n",
       "                if (document.getElementById(\"aafb1938-5526-4e82-8acf-0bd357e0e910\")) {\n",
       "                    Plotly.newPlot(\n",
       "                        'aafb1938-5526-4e82-8acf-0bd357e0e910',\n",
       "                        [{\"type\": \"scatter\", \"x\": [0.0, 1.0, 2.0, 3.0, 4.0, 5.0, 6.0, 7.0, 8.0, 9.0, 10.0], \"xaxis\": \"x\", \"y\": [-641.712769, -333.119446, -40.5495, -314.415619, -216.742462, -218.525848, -275.107025, 28.685928, -56.691956, 111.827667, 58.04744], \"yaxis\": \"y\"}, {\"type\": \"scatter\", \"x\": [0.0, 1.0, 2.0, 3.0, 4.0, 5.0, 6.0, 7.0, 8.0, 9.0, 10.0], \"xaxis\": \"x2\", \"y\": [995.065735, 1017.763977, 1019.166626, 1026.778809, 1030.073242, 1024.67981, 1027.347656, 1030.210449, 1029.408813, 1030.838257, 1033.616455], \"yaxis\": \"y2\"}],\n",
       "                        {\"showlegend\": false, \"template\": {\"data\": {\"bar\": [{\"error_x\": {\"color\": \"#2a3f5f\"}, \"error_y\": {\"color\": \"#2a3f5f\"}, \"marker\": {\"line\": {\"color\": \"#E5ECF6\", \"width\": 0.5}}, \"type\": \"bar\"}], \"barpolar\": [{\"marker\": {\"line\": {\"color\": \"#E5ECF6\", \"width\": 0.5}}, \"type\": \"barpolar\"}], \"carpet\": [{\"aaxis\": {\"endlinecolor\": \"#2a3f5f\", \"gridcolor\": \"white\", \"linecolor\": \"white\", \"minorgridcolor\": \"white\", \"startlinecolor\": \"#2a3f5f\"}, \"baxis\": {\"endlinecolor\": \"#2a3f5f\", \"gridcolor\": \"white\", \"linecolor\": \"white\", \"minorgridcolor\": \"white\", \"startlinecolor\": \"#2a3f5f\"}, \"type\": \"carpet\"}], \"choropleth\": [{\"colorbar\": {\"outlinewidth\": 0, \"ticks\": \"\"}, \"type\": \"choropleth\"}], \"contour\": [{\"colorbar\": {\"outlinewidth\": 0, \"ticks\": \"\"}, \"colorscale\": [[0.0, \"#0d0887\"], [0.1111111111111111, \"#46039f\"], [0.2222222222222222, \"#7201a8\"], [0.3333333333333333, \"#9c179e\"], [0.4444444444444444, \"#bd3786\"], [0.5555555555555556, \"#d8576b\"], [0.6666666666666666, \"#ed7953\"], [0.7777777777777778, \"#fb9f3a\"], [0.8888888888888888, \"#fdca26\"], [1.0, \"#f0f921\"]], \"type\": \"contour\"}], \"contourcarpet\": [{\"colorbar\": {\"outlinewidth\": 0, \"ticks\": \"\"}, \"type\": \"contourcarpet\"}], \"heatmap\": [{\"colorbar\": {\"outlinewidth\": 0, \"ticks\": \"\"}, \"colorscale\": [[0.0, \"#0d0887\"], [0.1111111111111111, \"#46039f\"], [0.2222222222222222, \"#7201a8\"], [0.3333333333333333, \"#9c179e\"], [0.4444444444444444, \"#bd3786\"], [0.5555555555555556, \"#d8576b\"], [0.6666666666666666, \"#ed7953\"], [0.7777777777777778, \"#fb9f3a\"], [0.8888888888888888, \"#fdca26\"], [1.0, \"#f0f921\"]], \"type\": \"heatmap\"}], \"heatmapgl\": [{\"colorbar\": {\"outlinewidth\": 0, \"ticks\": \"\"}, \"colorscale\": [[0.0, \"#0d0887\"], [0.1111111111111111, \"#46039f\"], [0.2222222222222222, \"#7201a8\"], [0.3333333333333333, \"#9c179e\"], [0.4444444444444444, \"#bd3786\"], [0.5555555555555556, \"#d8576b\"], [0.6666666666666666, \"#ed7953\"], [0.7777777777777778, \"#fb9f3a\"], [0.8888888888888888, \"#fdca26\"], [1.0, \"#f0f921\"]], \"type\": \"heatmapgl\"}], \"histogram\": [{\"marker\": {\"colorbar\": {\"outlinewidth\": 0, \"ticks\": \"\"}}, \"type\": \"histogram\"}], \"histogram2d\": [{\"colorbar\": {\"outlinewidth\": 0, \"ticks\": \"\"}, \"colorscale\": [[0.0, \"#0d0887\"], [0.1111111111111111, \"#46039f\"], [0.2222222222222222, \"#7201a8\"], [0.3333333333333333, \"#9c179e\"], [0.4444444444444444, \"#bd3786\"], [0.5555555555555556, \"#d8576b\"], [0.6666666666666666, \"#ed7953\"], [0.7777777777777778, \"#fb9f3a\"], [0.8888888888888888, \"#fdca26\"], [1.0, \"#f0f921\"]], \"type\": \"histogram2d\"}], \"histogram2dcontour\": [{\"colorbar\": {\"outlinewidth\": 0, \"ticks\": \"\"}, \"colorscale\": [[0.0, \"#0d0887\"], [0.1111111111111111, \"#46039f\"], [0.2222222222222222, \"#7201a8\"], [0.3333333333333333, \"#9c179e\"], [0.4444444444444444, \"#bd3786\"], [0.5555555555555556, \"#d8576b\"], [0.6666666666666666, \"#ed7953\"], [0.7777777777777778, \"#fb9f3a\"], [0.8888888888888888, \"#fdca26\"], [1.0, \"#f0f921\"]], \"type\": \"histogram2dcontour\"}], \"mesh3d\": [{\"colorbar\": {\"outlinewidth\": 0, \"ticks\": \"\"}, \"type\": \"mesh3d\"}], \"parcoords\": [{\"line\": {\"colorbar\": {\"outlinewidth\": 0, \"ticks\": \"\"}}, \"type\": \"parcoords\"}], \"scatter\": [{\"marker\": {\"colorbar\": {\"outlinewidth\": 0, \"ticks\": \"\"}}, \"type\": \"scatter\"}], \"scatter3d\": [{\"line\": {\"colorbar\": {\"outlinewidth\": 0, \"ticks\": \"\"}}, \"marker\": {\"colorbar\": {\"outlinewidth\": 0, \"ticks\": \"\"}}, \"type\": \"scatter3d\"}], \"scattercarpet\": [{\"marker\": {\"colorbar\": {\"outlinewidth\": 0, \"ticks\": \"\"}}, \"type\": \"scattercarpet\"}], \"scattergeo\": [{\"marker\": {\"colorbar\": {\"outlinewidth\": 0, \"ticks\": \"\"}}, \"type\": \"scattergeo\"}], \"scattergl\": [{\"marker\": {\"colorbar\": {\"outlinewidth\": 0, \"ticks\": \"\"}}, \"type\": \"scattergl\"}], \"scattermapbox\": [{\"marker\": {\"colorbar\": {\"outlinewidth\": 0, \"ticks\": \"\"}}, \"type\": \"scattermapbox\"}], \"scatterpolar\": [{\"marker\": {\"colorbar\": {\"outlinewidth\": 0, \"ticks\": \"\"}}, \"type\": \"scatterpolar\"}], \"scatterpolargl\": [{\"marker\": {\"colorbar\": {\"outlinewidth\": 0, \"ticks\": \"\"}}, \"type\": \"scatterpolargl\"}], \"scatterternary\": [{\"marker\": {\"colorbar\": {\"outlinewidth\": 0, \"ticks\": \"\"}}, \"type\": \"scatterternary\"}], \"surface\": [{\"colorbar\": {\"outlinewidth\": 0, \"ticks\": \"\"}, \"colorscale\": [[0.0, \"#0d0887\"], [0.1111111111111111, \"#46039f\"], [0.2222222222222222, \"#7201a8\"], [0.3333333333333333, \"#9c179e\"], [0.4444444444444444, \"#bd3786\"], [0.5555555555555556, \"#d8576b\"], [0.6666666666666666, \"#ed7953\"], [0.7777777777777778, \"#fb9f3a\"], [0.8888888888888888, \"#fdca26\"], [1.0, \"#f0f921\"]], \"type\": \"surface\"}], \"table\": [{\"cells\": {\"fill\": {\"color\": \"#EBF0F8\"}, \"line\": {\"color\": \"white\"}}, \"header\": {\"fill\": {\"color\": \"#C8D4E3\"}, \"line\": {\"color\": \"white\"}}, \"type\": \"table\"}]}, \"layout\": {\"annotationdefaults\": {\"arrowcolor\": \"#2a3f5f\", \"arrowhead\": 0, \"arrowwidth\": 1}, \"colorscale\": {\"diverging\": [[0, \"#8e0152\"], [0.1, \"#c51b7d\"], [0.2, \"#de77ae\"], [0.3, \"#f1b6da\"], [0.4, \"#fde0ef\"], [0.5, \"#f7f7f7\"], [0.6, \"#e6f5d0\"], [0.7, \"#b8e186\"], [0.8, \"#7fbc41\"], [0.9, \"#4d9221\"], [1, \"#276419\"]], \"sequential\": [[0.0, \"#0d0887\"], [0.1111111111111111, \"#46039f\"], [0.2222222222222222, \"#7201a8\"], [0.3333333333333333, \"#9c179e\"], [0.4444444444444444, \"#bd3786\"], [0.5555555555555556, \"#d8576b\"], [0.6666666666666666, \"#ed7953\"], [0.7777777777777778, \"#fb9f3a\"], [0.8888888888888888, \"#fdca26\"], [1.0, \"#f0f921\"]], \"sequentialminus\": [[0.0, \"#0d0887\"], [0.1111111111111111, \"#46039f\"], [0.2222222222222222, \"#7201a8\"], [0.3333333333333333, \"#9c179e\"], [0.4444444444444444, \"#bd3786\"], [0.5555555555555556, \"#d8576b\"], [0.6666666666666666, \"#ed7953\"], [0.7777777777777778, \"#fb9f3a\"], [0.8888888888888888, \"#fdca26\"], [1.0, \"#f0f921\"]]}, \"colorway\": [\"#636efa\", \"#EF553B\", \"#00cc96\", \"#ab63fa\", \"#FFA15A\", \"#19d3f3\", \"#FF6692\", \"#B6E880\", \"#FF97FF\", \"#FECB52\"], \"font\": {\"color\": \"#2a3f5f\"}, \"geo\": {\"bgcolor\": \"white\", \"lakecolor\": \"white\", \"landcolor\": \"#E5ECF6\", \"showlakes\": true, \"showland\": true, \"subunitcolor\": \"white\"}, \"hoverlabel\": {\"align\": \"left\"}, \"hovermode\": \"closest\", \"mapbox\": {\"style\": \"light\"}, \"paper_bgcolor\": \"white\", \"plot_bgcolor\": \"#E5ECF6\", \"polar\": {\"angularaxis\": {\"gridcolor\": \"white\", \"linecolor\": \"white\", \"ticks\": \"\"}, \"bgcolor\": \"#E5ECF6\", \"radialaxis\": {\"gridcolor\": \"white\", \"linecolor\": \"white\", \"ticks\": \"\"}}, \"scene\": {\"xaxis\": {\"backgroundcolor\": \"#E5ECF6\", \"gridcolor\": \"white\", \"gridwidth\": 2, \"linecolor\": \"white\", \"showbackground\": true, \"ticks\": \"\", \"zerolinecolor\": \"white\"}, \"yaxis\": {\"backgroundcolor\": \"#E5ECF6\", \"gridcolor\": \"white\", \"gridwidth\": 2, \"linecolor\": \"white\", \"showbackground\": true, \"ticks\": \"\", \"zerolinecolor\": \"white\"}, \"zaxis\": {\"backgroundcolor\": \"#E5ECF6\", \"gridcolor\": \"white\", \"gridwidth\": 2, \"linecolor\": \"white\", \"showbackground\": true, \"ticks\": \"\", \"zerolinecolor\": \"white\"}}, \"shapedefaults\": {\"line\": {\"color\": \"#2a3f5f\"}}, \"ternary\": {\"aaxis\": {\"gridcolor\": \"white\", \"linecolor\": \"white\", \"ticks\": \"\"}, \"baxis\": {\"gridcolor\": \"white\", \"linecolor\": \"white\", \"ticks\": \"\"}, \"bgcolor\": \"#E5ECF6\", \"caxis\": {\"gridcolor\": \"white\", \"linecolor\": \"white\", \"ticks\": \"\"}}, \"title\": {\"x\": 0.05}, \"xaxis\": {\"automargin\": true, \"gridcolor\": \"white\", \"linecolor\": \"white\", \"ticks\": \"\", \"zerolinecolor\": \"white\", \"zerolinewidth\": 2}, \"yaxis\": {\"automargin\": true, \"gridcolor\": \"white\", \"linecolor\": \"white\", \"ticks\": \"\", \"zerolinecolor\": \"white\", \"zerolinewidth\": 2}}}, \"title\": {\"text\": \"Pressure and Density during NPT Equilibration\"}, \"xaxis\": {\"anchor\": \"y\", \"domain\": [0.0, 0.45], \"title\": {\"text\": \"Time (ps)\"}}, \"xaxis2\": {\"anchor\": \"y2\", \"domain\": [0.55, 1.0], \"title\": {\"text\": \"Time (ps)\"}}, \"yaxis\": {\"anchor\": \"x\", \"domain\": [0.0, 1.0], \"title\": {\"text\": \"Pressure (bar)\"}}, \"yaxis2\": {\"anchor\": \"x2\", \"domain\": [0.0, 1.0], \"title\": {\"text\": \"Density (Kg*m^-3)\"}}},\n",
       "                        {\"responsive\": true}\n",
       "                    ).then(function(){\n",
       "                            \n",
       "var gd = document.getElementById('aafb1938-5526-4e82-8acf-0bd357e0e910');\n",
       "var x = new MutationObserver(function (mutations, observer) {{\n",
       "        var display = window.getComputedStyle(gd).display;\n",
       "        if (!display || display === 'none') {{\n",
       "            console.log([gd, 'removed!']);\n",
       "            Plotly.purge(gd);\n",
       "            observer.disconnect();\n",
       "        }}\n",
       "}});\n",
       "\n",
       "// Listen for the removal of the full notebook cells\n",
       "var notebookContainer = gd.closest('#notebook-container');\n",
       "if (notebookContainer) {{\n",
       "    x.observe(notebookContainer, {childList: true});\n",
       "}}\n",
       "\n",
       "// Listen for the clearing of the current output cell\n",
       "var outputEl = gd.closest('.output');\n",
       "if (outputEl) {{\n",
       "    x.observe(outputEl, {childList: true});\n",
       "}}\n",
       "\n",
       "                        })\n",
       "                };\n",
       "                });\n",
       "            </script>\n",
       "        </div>"
      ]
     },
     "metadata": {},
     "output_type": "display_data"
    }
   ],
   "source": [
    "import plotly\n",
    "from plotly import tools\n",
    "import plotly.graph_objs as go\n",
    "\n",
    "# Read pressure and density data from file \n",
    "with open(output_npt_pd_xvg,'r') as pd_file:\n",
    "    x,y,z = map(\n",
    "        list,\n",
    "        zip(*[\n",
    "            (float(line.split()[0]),float(line.split()[1]),float(line.split()[2]))\n",
    "            for line in pd_file \n",
    "            if not line.startswith((\"#\",\"@\")) \n",
    "        ])\n",
    "    )\n",
    "\n",
    "plotly.offline.init_notebook_mode(connected=True)\n",
    "\n",
    "trace1 = go.Scatter(\n",
    "    x=x,y=y\n",
    ")\n",
    "trace2 = go.Scatter(\n",
    "    x=x,y=z\n",
    ")\n",
    "\n",
    "fig = tools.make_subplots(rows=1, cols=2, print_grid=False)\n",
    "\n",
    "fig.append_trace(trace1, 1, 1)\n",
    "fig.append_trace(trace2, 1, 2)\n",
    "\n",
    "fig['layout']['xaxis1'].update(title='Time (ps)')\n",
    "fig['layout']['xaxis2'].update(title='Time (ps)')\n",
    "fig['layout']['yaxis1'].update(title='Pressure (bar)')\n",
    "fig['layout']['yaxis2'].update(title='Density (Kg*m^-3)')\n",
    "\n",
    "fig['layout'].update(title='Pressure and Density during NPT Equilibration')\n",
    "fig['layout'].update(showlegend=False)\n",
    "\n",
    "plotly.offline.iplot(fig)"
   ]
  },
  {
   "cell_type": "markdown",
   "metadata": {},
   "source": [
    "<a id=\"free\"></a>\n",
    "***\n",
    "## Free Molecular Dynamics Simulation\n",
    "Upon completion of the **two equilibration phases (NVT and NPT)**, the system is now well-equilibrated at the desired temperature and pressure. The **position restraints** can now be released. The last step of the **protein-ligand complex** MD setup is a short, **free MD simulation**, to ensure the robustness of the system. \n",
    "- [Step 1](#mdStep1): Creating portable binary run file to run a **free MD simulation**.\n",
    "- [Step 2](#mdStep2): Run short MD simulation of the **protein-ligand complex**.\n",
    "- [Step 3](#mdStep3): Checking results for the final step of the setup process, the **free MD run**. Plotting **Root Mean Square deviation (RMSd)** and **Radius of Gyration (Rgyr)** by time during the **free MD run** step. \n",
    "***\n",
    "**Building Blocks** used:\n",
    " - [Grompp](https://biobb-md.readthedocs.io/en/latest/gromacs.html#module-gromacs.grompp) from **biobb_md.gromacs.grompp** \n",
    " - [Mdrun](https://biobb-md.readthedocs.io/en/latest/gromacs.html#module-gromacs.mdrun) from **biobb_md.gromacs.mdrun** \n",
    " - [GMXRms](https://biobb-analysis.readthedocs.io/en/latest/gromacs.html#module-gromacs.gmx_rms) from **biobb_analysis.gromacs.gmx_rms** \n",
    " - [GMXRgyr](https://biobb-analysis.readthedocs.io/en/latest/gromacs.html#module-gromacs.gmx_rgyr) from **biobb_analysis.gromacs.gmx_rgyr** \n",
    "***"
   ]
  },
  {
   "cell_type": "markdown",
   "metadata": {},
   "source": [
    "<a id=\"mdStep1\"></a>\n",
    "### Step 1: Creating portable binary run file to run a free MD simulation"
   ]
  },
  {
   "cell_type": "code",
   "execution_count": 34,
   "metadata": {},
   "outputs": [
    {
     "name": "stderr",
     "output_type": "stream",
     "text": [
      "2019-10-16 12:27:40,536 [MainThread  ] [INFO ]  GROMACS Grompp 20191 version detected\n",
      "2019-10-16 12:27:40,541 [MainThread  ] [INFO ]  Will run a free md of 50.0 pico seconds\n",
      "2019-10-16 12:27:40,551 [MainThread  ] [INFO ]  Extracting: /home/gbayarri_local/projects/BioBB/tutorials/biobb_wf_protein-complex_md_setup/biobb_wf_protein-complex_md_setup/notebooks/3HTB_JZ4_genion_top.zip\n",
      "2019-10-16 12:27:40,552 [MainThread  ] [INFO ]  to:\n",
      "2019-10-16 12:27:40,553 [MainThread  ] [INFO ]  ['cd20be40-2abe-4fb4-9d05-0425cfb4d516/JZ4_posres.itp', 'cd20be40-2abe-4fb4-9d05-0425cfb4d516/JZ4params.itp', 'cd20be40-2abe-4fb4-9d05-0425cfb4d516/ligand.top', 'cd20be40-2abe-4fb4-9d05-0425cfb4d516/posre.itp']\n",
      "2019-10-16 12:27:40,554 [MainThread  ] [INFO ]  Unzipping: \n",
      "2019-10-16 12:27:40,555 [MainThread  ] [INFO ]  3HTB_JZ4_genion_top.zip\n",
      "2019-10-16 12:27:40,557 [MainThread  ] [INFO ]  To: \n",
      "2019-10-16 12:27:40,558 [MainThread  ] [INFO ]  cd20be40-2abe-4fb4-9d05-0425cfb4d516/JZ4_posres.itp\n",
      "2019-10-16 12:27:40,559 [MainThread  ] [INFO ]  cd20be40-2abe-4fb4-9d05-0425cfb4d516/JZ4params.itp\n",
      "2019-10-16 12:27:40,559 [MainThread  ] [INFO ]  cd20be40-2abe-4fb4-9d05-0425cfb4d516/ligand.top\n",
      "2019-10-16 12:27:40,561 [MainThread  ] [INFO ]  cd20be40-2abe-4fb4-9d05-0425cfb4d516/posre.itp\n",
      "2019-10-16 12:27:41,045 [MainThread  ] [INFO ]  gmx -nobackup -nocopyright grompp -f 117b58b4-6187-456f-83ee-bdf900b9c1a9/grompp.mdp -c 3HTB_JZ4_npt.gro -r 3HTB_JZ4_npt.gro -p cd20be40-2abe-4fb4-9d05-0425cfb4d516/ligand.top -o 3HTB_JZ4_gppmd.tpr -po mdout.mdp -maxwarn 10 -t 3HTB_JZ4_npt.cpt\n",
      "\n",
      "2019-10-16 12:27:41,046 [MainThread  ] [INFO ]  Exit code 0\n",
      "\n",
      "2019-10-16 12:27:41,047 [MainThread  ] [INFO ]  turning all bonds into constraints...\n",
      "turning all bonds into constraints...\n",
      "turning all bonds into constraints...\n",
      "turning all bonds into constraints...\n",
      "turning all bonds into constraints...\n",
      "Analysing residue names:\n",
      "There are:   163    Protein residues\n",
      "There are:     1      Other residues\n",
      "There are:  9505      Water residues\n",
      "There are:    26        Ion residues\n",
      "Analysing Protein...\n",
      "Analysing residues not classified as Protein/DNA/RNA/Water and splitting into groups...\n",
      "Analysing residues not classified as Protein/DNA/RNA/Water and splitting into groups...\n",
      "Determining Verlet buffer for a tolerance of 0.005 kJ/mol/ps at 300 K\n",
      "Calculated rlist for 1x1 atom pair-list as 1.035 nm, buffer size 0.035 nm\n",
      "Set rlist, assuming 4x4 atom pair-list, to 1.000 nm, buffer size 0.000 nm\n",
      "Note that mdrun will redetermine rlist based on the actual pair-list setup\n",
      "Calculating fourier grid dimensions for X Y Z\n",
      "Using a fourier grid of 64x64x64, spacing 0.115 0.115 0.115\n",
      "This run will generate roughly 11 Mb of data\n",
      "\n",
      "2019-10-16 12:27:41,047 [MainThread  ] [INFO ]                        :-) GROMACS - gmx grompp, 2019.1 (-:\n",
      "\n",
      "Executable:   /anaconda3/envs/biobb_dev/bin/gmx\n",
      "Data prefix:  /anaconda3/envs/biobb_dev\n",
      "Working dir:  /home/gbayarri_local/projects/BioBB/tutorials/biobb_wf_protein-complex_md_setup/biobb_wf_protein-complex_md_setup/notebooks\n",
      "Command line:\n",
      "  gmx -nobackup -nocopyright grompp -f 117b58b4-6187-456f-83ee-bdf900b9c1a9/grompp.mdp -c 3HTB_JZ4_npt.gro -r 3HTB_JZ4_npt.gro -p cd20be40-2abe-4fb4-9d05-0425cfb4d516/ligand.top -o 3HTB_JZ4_gppmd.tpr -po mdout.mdp -maxwarn 10 -t 3HTB_JZ4_npt.cpt\n",
      "\n",
      "Setting the LD random seed to 751487056\n",
      "Generated 2556 of the 2556 non-bonded parameter combinations\n",
      "Generating 1-4 interactions: fudge = 0.5\n",
      "Generated 2556 of the 2556 1-4 parameter combinations\n",
      "Excluding 3 bonded neighbours molecule type 'Protein_chain_A'\n",
      "Excluding 3 bonded neighbours molecule type 'JZ4params'\n",
      "Excluding 2 bonded neighbours molecule type 'SOL'\n",
      "Excluding 1 bonded neighbours molecule type 'NA'\n",
      "Excluding 1 bonded neighbours molecule type 'CL'\n",
      "\n",
      "NOTE 1 [file unknown]:\n",
      "  You are using constraints on all bonds, whereas the forcefield has been\n",
      "  parametrized only with constraints involving hydrogen atoms. We suggest\n",
      "  using constraints = h-bonds instead, this will also improve performance.\n",
      "\n",
      "Removing all charge groups because cutoff-scheme=Verlet\n",
      "Number of degrees of freedom in T-Coupling group Protein is 5207.75\n",
      "Number of degrees of freedom in T-Coupling group non-Protein is 57149.25\n",
      "Reading Coordinates, Velocities and Box size from old trajectory\n",
      "Will read whole trajectory\n",
      "Last frame         -1 time   10.000   \n",
      "Using frame at t = 10 ps\n",
      "Starting time for run is 0 ps\n",
      "Estimate for the relative computational load of the PME mesh part: 0.20\n",
      "\n",
      "There was 1 note\n",
      "\n",
      "GROMACS reminds you: \"Every revolutionary idea seems to evoke three stages of reaction. They may be summed up by the phrases: (1) It's completely impossible. (2) It's possible, but not worth doing. (3) I said it was a good idea all along.\" (Arthur C. Clarke)\n",
      "\n",
      "\n",
      "2019-10-16 12:27:41,049 [MainThread  ] [INFO ]  Removed: ['mdout.mdp', '117b58b4-6187-456f-83ee-bdf900b9c1a9', 'cd20be40-2abe-4fb4-9d05-0425cfb4d516']\n"
     ]
    },
    {
     "data": {
      "text/plain": [
       "0"
      ]
     },
     "execution_count": 34,
     "metadata": {},
     "output_type": "execute_result"
    }
   ],
   "source": [
    "# Grompp: Creating portable binary run file for mdrun\n",
    "from biobb_md.gromacs.grompp import Grompp\n",
    "\n",
    "# Create prop dict and inputs/outputs\n",
    "prop = {\n",
    "    'mdp':{\n",
    "        'type': 'free',\n",
    "        #'nsteps':'500000' # 1 ns (500,000 steps x 2fs per step)\n",
    "        #'nsteps':'5000' # 10 ps (5,000 steps x 2fs per step)\n",
    "        'nsteps':'25000' # 50 ps (25,000 steps x 2fs per step)\n",
    "    }\n",
    "}\n",
    "output_gppmd_tpr = pdbCode+'_'+ligandCode + '_gppmd.tpr'\n",
    "\n",
    "# Create and launch bb\n",
    "Grompp(input_gro_path=output_npt_gro,\n",
    "       input_top_zip_path=output_genion_top_zip,\n",
    "       output_tpr_path=output_gppmd_tpr,\n",
    "       input_cpt_path=output_npt_cpt,\n",
    "       properties=prop).launch()"
   ]
  },
  {
   "cell_type": "markdown",
   "metadata": {},
   "source": [
    "<a id=\"mdStep2\"></a>\n",
    "### Step 2: Running short free MD simulation"
   ]
  },
  {
   "cell_type": "code",
   "execution_count": 35,
   "metadata": {},
   "outputs": [
    {
     "name": "stderr",
     "output_type": "stream",
     "text": [
      "2019-10-16 12:27:42,675 [MainThread  ] [INFO ]  GROMACS Mdrun 20191 version detected\n",
      "2019-10-16 12:27:42,676 [MainThread  ] [INFO ]  Not using any container\n",
      "2019-10-16 12:35:42,076 [MainThread  ] [INFO ]  gmx -nobackup -nocopyright mdrun -s 3HTB_JZ4_gppmd.tpr -o 3HTB_JZ4_md.trr -c 3HTB_JZ4_md.gro -e 3HTB_JZ4_md.edr -g 3HTB_JZ4_md.log -nt 0 -cpo 3HTB_JZ4_md.cpt\n",
      "\n",
      "2019-10-16 12:35:42,077 [MainThread  ] [INFO ]  Exit code 0\n",
      "\n",
      "2019-10-16 12:35:42,078 [MainThread  ] [INFO ]                        :-) GROMACS - gmx mdrun, 2019.1 (-:\n",
      "\n",
      "Executable:   /anaconda3/envs/biobb_dev/bin/gmx\n",
      "Data prefix:  /anaconda3/envs/biobb_dev\n",
      "Working dir:  /home/gbayarri_local/projects/BioBB/tutorials/biobb_wf_protein-complex_md_setup/biobb_wf_protein-complex_md_setup/notebooks\n",
      "Command line:\n",
      "  gmx -nobackup -nocopyright mdrun -s 3HTB_JZ4_gppmd.tpr -o 3HTB_JZ4_md.trr -c 3HTB_JZ4_md.gro -e 3HTB_JZ4_md.edr -g 3HTB_JZ4_md.log -nt 0 -cpo 3HTB_JZ4_md.cpt\n",
      "\n",
      "Compiled SIMD: SSE2, but for this host/run AVX2_256 might be better (see log).\n",
      "The current CPU can measure timings more accurately than the code in\n",
      "gmx mdrun was configured to use. This might affect your simulation\n",
      "speed as accurate timings are needed for load-balancing.\n",
      "Please consider rebuilding gmx mdrun with the GMX_USE_RDTSCP=ON CMake option.\n",
      "Reading file 3HTB_JZ4_gppmd.tpr, VERSION 2019.1 (single precision)\n",
      "Changing nstlist from 10 to 50, rlist from 1 to 1.115\n",
      "\n",
      "\n",
      "Using 1 MPI thread\n",
      "Using 8 OpenMP threads \n",
      "\n",
      "starting mdrun 'Protein in water'\n",
      "25000 steps,     50.0 ps.\n",
      "\n",
      "Writing final coordinates.\n",
      "\n",
      "               Core t (s)   Wall t (s)        (%)\n",
      "       Time:     3816.122      477.016      800.0\n",
      "                 (ns/day)    (hour/ns)\n",
      "Performance:        9.057        2.650\n",
      "\n",
      "GROMACS reminds you: \"Bad As This Shit Is, This Shit Ain't As Bad As You Think It Is.\" (Jackie Brown)\n",
      "\n",
      "\n",
      "2019-10-16 12:35:42,078 [MainThread  ] [INFO ]  Removed: []\n"
     ]
    },
    {
     "data": {
      "text/plain": [
       "0"
      ]
     },
     "execution_count": 35,
     "metadata": {},
     "output_type": "execute_result"
    }
   ],
   "source": [
    "# Mdrun: Running free dynamics\n",
    "from biobb_md.gromacs.mdrun import Mdrun\n",
    "\n",
    "# Create prop dict and inputs/outputs\n",
    "output_md_trr = pdbCode+'_'+ligandCode+'_md.trr'\n",
    "output_md_gro = pdbCode+'_'+ligandCode+'_md.gro'\n",
    "output_md_edr = pdbCode+'_'+ligandCode+'_md.edr'\n",
    "output_md_log = pdbCode+'_'+ligandCode+'_md.log'\n",
    "output_md_cpt = pdbCode+'_'+ligandCode+'_md.cpt'\n",
    "\n",
    "# Create and launch bb\n",
    "Mdrun(input_tpr_path=output_gppmd_tpr,\n",
    "      output_trr_path=output_md_trr,\n",
    "      output_gro_path=output_md_gro,\n",
    "      output_edr_path=output_md_edr,\n",
    "      output_log_path=output_md_log,\n",
    "      output_cpt_path=output_md_cpt).launch()"
   ]
  },
  {
   "cell_type": "markdown",
   "metadata": {},
   "source": [
    "<a id=\"mdStep3\"></a>\n",
    "### Step 3: Checking free MD simulation results\n",
    "Checking results for the final step of the setup process, the **free MD run**. Plotting **Root Mean Square deviation (RMSd)** and **Radius of Gyration (Rgyr)** by time during the **free MD run** step. **RMSd** against the **experimental structure** (input structure of the pipeline) and against the **minimized and equilibrated structure** (output structure of the NPT equilibration step)."
   ]
  },
  {
   "cell_type": "code",
   "execution_count": 36,
   "metadata": {},
   "outputs": [
    {
     "name": "stderr",
     "output_type": "stream",
     "text": [
      "2019-10-16 12:35:47,921 [MainThread  ] [INFO ]  echo \"Backbone Backbone\" | gmx rms -s /home/gbayarri_local/projects/BioBB/tutorials/biobb_wf_protein-complex_md_setup/biobb_wf_protein-complex_md_setup/notebooks/3HTB_JZ4_gppmd.tpr -f /home/gbayarri_local/projects/BioBB/tutorials/biobb_wf_protein-complex_md_setup/biobb_wf_protein-complex_md_setup/notebooks/3HTB_JZ4_md.trr -o 3HTB_JZ4_rms_first.xvg -xvg none\n",
      "\n",
      "2019-10-16 12:35:47,923 [MainThread  ] [INFO ]  Exit code 0\n",
      "\n",
      "2019-10-16 12:35:47,926 [MainThread  ] [INFO ]  Selected 4: 'Backbone'\n",
      "Selected 4: 'Backbone'\n",
      "\n",
      "2019-10-16 12:35:47,931 [MainThread  ] [INFO ]                         :-) GROMACS - gmx rms, 2019.1 (-:\n",
      "\n",
      "                            GROMACS is written by:\n",
      "     Emile Apol      Rossen Apostolov      Paul Bauer     Herman J.C. Berendsen\n",
      "    Par Bjelkmar      Christian Blau   Viacheslav Bolnykh     Kevin Boyd    \n",
      " Aldert van Buuren   Rudi van Drunen     Anton Feenstra       Alan Gray     \n",
      "  Gerrit Groenhof     Anca Hamuraru    Vincent Hindriksen  M. Eric Irrgang  \n",
      "  Aleksei Iupinov   Christoph Junghans     Joe Jordan     Dimitrios Karkoulis\n",
      "    Peter Kasson        Jiri Kraus      Carsten Kutzner      Per Larsson    \n",
      "  Justin A. Lemkul    Viveca Lindahl    Magnus Lundborg     Erik Marklund   \n",
      "    Pascal Merz     Pieter Meulenhoff    Teemu Murtola       Szilard Pall   \n",
      "    Sander Pronk      Roland Schulz      Michael Shirts    Alexey Shvetsov  \n",
      "   Alfons Sijbers     Peter Tieleman      Jon Vincent      Teemu Virolainen \n",
      " Christian Wennberg    Maarten Wolf   \n",
      "                           and the project leaders:\n",
      "        Mark Abraham, Berk Hess, Erik Lindahl, and David van der Spoel\n",
      "\n",
      "Copyright (c) 1991-2000, University of Groningen, The Netherlands.\n",
      "Copyright (c) 2001-2018, The GROMACS development team at\n",
      "Uppsala University, Stockholm University and\n",
      "the Royal Institute of Technology, Sweden.\n",
      "check out http://www.gromacs.org for more information.\n",
      "\n",
      "GROMACS is free software; you can redistribute it and/or modify it\n",
      "under the terms of the GNU Lesser General Public License\n",
      "as published by the Free Software Foundation; either version 2.1\n",
      "of the License, or (at your option) any later version.\n",
      "\n",
      "GROMACS:      gmx rms, version 2019.1\n",
      "Executable:   /anaconda3/envs/biobb_dev/bin/gmx\n",
      "Data prefix:  /anaconda3/envs/biobb_dev\n",
      "Working dir:  /home/gbayarri_local/projects/BioBB/tutorials/biobb_wf_protein-complex_md_setup/biobb_wf_protein-complex_md_setup/notebooks\n",
      "Command line:\n",
      "  gmx rms -s /home/gbayarri_local/projects/BioBB/tutorials/biobb_wf_protein-complex_md_setup/biobb_wf_protein-complex_md_setup/notebooks/3HTB_JZ4_gppmd.tpr -f /home/gbayarri_local/projects/BioBB/tutorials/biobb_wf_protein-complex_md_setup/biobb_wf_protein-complex_md_setup/notebooks/3HTB_JZ4_md.trr -o 3HTB_JZ4_rms_first.xvg -xvg none\n",
      "\n",
      "Reading file /home/gbayarri_local/projects/BioBB/tutorials/biobb_wf_protein-complex_md_setup/biobb_wf_protein-complex_md_setup/notebooks/3HTB_JZ4_gppmd.tpr, VERSION 2019.1 (single precision)\n",
      "Reading file /home/gbayarri_local/projects/BioBB/tutorials/biobb_wf_protein-complex_md_setup/biobb_wf_protein-complex_md_setup/notebooks/3HTB_JZ4_gppmd.tpr, VERSION 2019.1 (single precision)\n",
      "Select group for least squares fit\n",
      "Group     0 (         System) has 31177 elements\n",
      "Group     1 (        Protein) has  2614 elements\n",
      "Group     2 (      Protein-H) has  1301 elements\n",
      "Group     3 (        C-alpha) has   163 elements\n",
      "Group     4 (       Backbone) has   489 elements\n",
      "Group     5 (      MainChain) has   653 elements\n",
      "Group     6 (   MainChain+Cb) has   805 elements\n",
      "Group     7 (    MainChain+H) has   815 elements\n",
      "Group     8 (      SideChain) has  1799 elements\n",
      "Group     9 (    SideChain-H) has   648 elements\n",
      "Group    10 (    Prot-Masses) has  2614 elements\n",
      "Group    11 (    non-Protein) has 28563 elements\n",
      "Group    12 (          Other) has    22 elements\n",
      "Group    13 (            JZ4) has    22 elements\n",
      "Group    14 (             NA) has    10 elements\n",
      "Group    15 (             CL) has    16 elements\n",
      "Group    16 (          Water) has 28515 elements\n",
      "Group    17 (            SOL) has 28515 elements\n",
      "Group    18 (      non-Water) has  2662 elements\n",
      "Group    19 (            Ion) has    26 elements\n",
      "Group    20 (            JZ4) has    22 elements\n",
      "Group    21 (             NA) has    10 elements\n",
      "Group    22 (             CL) has    16 elements\n",
      "Group    23 ( Water_and_ions) has 28541 elements\n",
      "Select a group: Select group for RMSD calculation\n",
      "Group     0 (         System) has 31177 elements\n",
      "Group     1 (        Protein) has  2614 elements\n",
      "Group     2 (      Protein-H) has  1301 elements\n",
      "Group     3 (        C-alpha) has   163 elements\n",
      "Group     4 (       Backbone) has   489 elements\n",
      "Group     5 (      MainChain) has   653 elements\n",
      "Group     6 (   MainChain+Cb) has   805 elements\n",
      "Group     7 (    MainChain+H) has   815 elements\n",
      "Group     8 (      SideChain) has  1799 elements\n",
      "Group     9 (    SideChain-H) has   648 elements\n",
      "Group    10 (    Prot-Masses) has  2614 elements\n",
      "Group    11 (    non-Protein) has 28563 elements\n",
      "Group    12 (          Other) has    22 elements\n",
      "Group    13 (            JZ4) has    22 elements\n",
      "Group    14 (             NA) has    10 elements\n",
      "Group    15 (             CL) has    16 elements\n",
      "Group    16 (          Water) has 28515 elements\n",
      "Group    17 (            SOL) has 28515 elements\n",
      "Group    18 (      non-Water) has  2662 elements\n",
      "Group    19 (            Ion) has    26 elements\n",
      "Group    20 (            JZ4) has    22 elements\n",
      "Group    21 (             NA) has    10 elements\n",
      "Group    22 (             CL) has    16 elements\n",
      "Group    23 ( Water_and_ions) has 28541 elements\n",
      "Select a group: trr version: GMX_trn_file (single precision)\n",
      "Last frame          5 time   50.000   \n",
      "\n",
      "Back Off! I just backed up 3HTB_JZ4_rms_first.xvg to ./#3HTB_JZ4_rms_first.xvg.1#\n",
      "\n",
      "GROMACS reminds you: \"Can someone please tell Icarus that he's not the only one falling from the sky?\" (Urban Dance Squad)\n",
      "\n",
      "\n"
     ]
    },
    {
     "data": {
      "text/plain": [
       "0"
      ]
     },
     "execution_count": 36,
     "metadata": {},
     "output_type": "execute_result"
    }
   ],
   "source": [
    "# GMXRms: Computing Root Mean Square deviation to analyse structural stability \n",
    "#         RMSd against minimized and equilibrated snapshot (backbone atoms)   \n",
    "\n",
    "from biobb_analysis.gromacs.gmx_rms import GMXRms\n",
    "\n",
    "# Create prop dict and inputs/outputs\n",
    "output_rms_first = pdbCode+'_'+ligandCode+'_rms_first.xvg'\n",
    "prop = {\n",
    "    'selection':  'Backbone'\n",
    "}\n",
    "\n",
    "# Create and launch bb\n",
    "GMXRms(input_structure_path=output_gppmd_tpr,\n",
    "         input_traj_path=output_md_trr,\n",
    "         output_xvg_path=output_rms_first, \n",
    "          properties=prop).launch()"
   ]
  },
  {
   "cell_type": "code",
   "execution_count": 37,
   "metadata": {},
   "outputs": [
    {
     "name": "stderr",
     "output_type": "stream",
     "text": [
      "2019-10-16 12:35:49,213 [MainThread  ] [INFO ]  echo \"Backbone Backbone\" | gmx rms -s /home/gbayarri_local/projects/BioBB/tutorials/biobb_wf_protein-complex_md_setup/biobb_wf_protein-complex_md_setup/notebooks/3HTB_JZ4_gppmin.tpr -f /home/gbayarri_local/projects/BioBB/tutorials/biobb_wf_protein-complex_md_setup/biobb_wf_protein-complex_md_setup/notebooks/3HTB_JZ4_md.trr -o 3HTB_JZ4_rms_exp.xvg -xvg none\n",
      "\n",
      "2019-10-16 12:35:49,215 [MainThread  ] [INFO ]  Exit code 0\n",
      "\n",
      "2019-10-16 12:35:49,216 [MainThread  ] [INFO ]  Selected 4: 'Backbone'\n",
      "Selected 4: 'Backbone'\n",
      "\n",
      "2019-10-16 12:35:49,217 [MainThread  ] [INFO ]                         :-) GROMACS - gmx rms, 2019.1 (-:\n",
      "\n",
      "                            GROMACS is written by:\n",
      "     Emile Apol      Rossen Apostolov      Paul Bauer     Herman J.C. Berendsen\n",
      "    Par Bjelkmar      Christian Blau   Viacheslav Bolnykh     Kevin Boyd    \n",
      " Aldert van Buuren   Rudi van Drunen     Anton Feenstra       Alan Gray     \n",
      "  Gerrit Groenhof     Anca Hamuraru    Vincent Hindriksen  M. Eric Irrgang  \n",
      "  Aleksei Iupinov   Christoph Junghans     Joe Jordan     Dimitrios Karkoulis\n",
      "    Peter Kasson        Jiri Kraus      Carsten Kutzner      Per Larsson    \n",
      "  Justin A. Lemkul    Viveca Lindahl    Magnus Lundborg     Erik Marklund   \n",
      "    Pascal Merz     Pieter Meulenhoff    Teemu Murtola       Szilard Pall   \n",
      "    Sander Pronk      Roland Schulz      Michael Shirts    Alexey Shvetsov  \n",
      "   Alfons Sijbers     Peter Tieleman      Jon Vincent      Teemu Virolainen \n",
      " Christian Wennberg    Maarten Wolf   \n",
      "                           and the project leaders:\n",
      "        Mark Abraham, Berk Hess, Erik Lindahl, and David van der Spoel\n",
      "\n",
      "Copyright (c) 1991-2000, University of Groningen, The Netherlands.\n",
      "Copyright (c) 2001-2018, The GROMACS development team at\n",
      "Uppsala University, Stockholm University and\n",
      "the Royal Institute of Technology, Sweden.\n",
      "check out http://www.gromacs.org for more information.\n",
      "\n",
      "GROMACS is free software; you can redistribute it and/or modify it\n",
      "under the terms of the GNU Lesser General Public License\n",
      "as published by the Free Software Foundation; either version 2.1\n",
      "of the License, or (at your option) any later version.\n",
      "\n",
      "GROMACS:      gmx rms, version 2019.1\n",
      "Executable:   /anaconda3/envs/biobb_dev/bin/gmx\n",
      "Data prefix:  /anaconda3/envs/biobb_dev\n",
      "Working dir:  /home/gbayarri_local/projects/BioBB/tutorials/biobb_wf_protein-complex_md_setup/biobb_wf_protein-complex_md_setup/notebooks\n",
      "Command line:\n",
      "  gmx rms -s /home/gbayarri_local/projects/BioBB/tutorials/biobb_wf_protein-complex_md_setup/biobb_wf_protein-complex_md_setup/notebooks/3HTB_JZ4_gppmin.tpr -f /home/gbayarri_local/projects/BioBB/tutorials/biobb_wf_protein-complex_md_setup/biobb_wf_protein-complex_md_setup/notebooks/3HTB_JZ4_md.trr -o 3HTB_JZ4_rms_exp.xvg -xvg none\n",
      "\n",
      "Reading file /home/gbayarri_local/projects/BioBB/tutorials/biobb_wf_protein-complex_md_setup/biobb_wf_protein-complex_md_setup/notebooks/3HTB_JZ4_gppmin.tpr, VERSION 2019.1 (single precision)\n",
      "Reading file /home/gbayarri_local/projects/BioBB/tutorials/biobb_wf_protein-complex_md_setup/biobb_wf_protein-complex_md_setup/notebooks/3HTB_JZ4_gppmin.tpr, VERSION 2019.1 (single precision)\n",
      "Select group for least squares fit\n",
      "Group     0 (         System) has 31177 elements\n",
      "Group     1 (        Protein) has  2614 elements\n",
      "Group     2 (      Protein-H) has  1301 elements\n",
      "Group     3 (        C-alpha) has   163 elements\n",
      "Group     4 (       Backbone) has   489 elements\n",
      "Group     5 (      MainChain) has   653 elements\n",
      "Group     6 (   MainChain+Cb) has   805 elements\n",
      "Group     7 (    MainChain+H) has   815 elements\n",
      "Group     8 (      SideChain) has  1799 elements\n",
      "Group     9 (    SideChain-H) has   648 elements\n",
      "Group    10 (    Prot-Masses) has  2614 elements\n",
      "Group    11 (    non-Protein) has 28563 elements\n",
      "Group    12 (          Other) has    22 elements\n",
      "Group    13 (            JZ4) has    22 elements\n",
      "Group    14 (             NA) has    10 elements\n",
      "Group    15 (             CL) has    16 elements\n",
      "Group    16 (          Water) has 28515 elements\n",
      "Group    17 (            SOL) has 28515 elements\n",
      "Group    18 (      non-Water) has  2662 elements\n",
      "Group    19 (            Ion) has    26 elements\n",
      "Group    20 (            JZ4) has    22 elements\n",
      "Group    21 (             NA) has    10 elements\n",
      "Group    22 (             CL) has    16 elements\n",
      "Group    23 ( Water_and_ions) has 28541 elements\n",
      "Select a group: Select group for RMSD calculation\n",
      "Group     0 (         System) has 31177 elements\n",
      "Group     1 (        Protein) has  2614 elements\n",
      "Group     2 (      Protein-H) has  1301 elements\n",
      "Group     3 (        C-alpha) has   163 elements\n",
      "Group     4 (       Backbone) has   489 elements\n",
      "Group     5 (      MainChain) has   653 elements\n",
      "Group     6 (   MainChain+Cb) has   805 elements\n",
      "Group     7 (    MainChain+H) has   815 elements\n",
      "Group     8 (      SideChain) has  1799 elements\n",
      "Group     9 (    SideChain-H) has   648 elements\n",
      "Group    10 (    Prot-Masses) has  2614 elements\n",
      "Group    11 (    non-Protein) has 28563 elements\n",
      "Group    12 (          Other) has    22 elements\n",
      "Group    13 (            JZ4) has    22 elements\n",
      "Group    14 (             NA) has    10 elements\n",
      "Group    15 (             CL) has    16 elements\n",
      "Group    16 (          Water) has 28515 elements\n",
      "Group    17 (            SOL) has 28515 elements\n",
      "Group    18 (      non-Water) has  2662 elements\n",
      "Group    19 (            Ion) has    26 elements\n",
      "Group    20 (            JZ4) has    22 elements\n",
      "Group    21 (             NA) has    10 elements\n",
      "Group    22 (             CL) has    16 elements\n",
      "Group    23 ( Water_and_ions) has 28541 elements\n",
      "Select a group: trr version: GMX_trn_file (single precision)\n",
      "Last frame          5 time   50.000   \n",
      "\n",
      "Back Off! I just backed up 3HTB_JZ4_rms_exp.xvg to ./#3HTB_JZ4_rms_exp.xvg.1#\n",
      "\n",
      "GROMACS reminds you: \"I believe the big bang of self-driving cars is about to come.\" (Jen-Hsun Huang, CEO NVIDIA)\n",
      "\n",
      "\n"
     ]
    },
    {
     "data": {
      "text/plain": [
       "0"
      ]
     },
     "execution_count": 37,
     "metadata": {},
     "output_type": "execute_result"
    }
   ],
   "source": [
    "# GMXRms: Computing Root Mean Square deviation to analyse structural stability \n",
    "#         RMSd against experimental structure (backbone atoms)   \n",
    "\n",
    "from biobb_analysis.gromacs.gmx_rms import GMXRms\n",
    "\n",
    "# Create prop dict and inputs/outputs\n",
    "output_rms_exp = pdbCode+'_'+ligandCode+'_rms_exp.xvg'\n",
    "prop = {\n",
    "    'selection':  'Backbone'\n",
    "}\n",
    "\n",
    "# Create and launch bb\n",
    "GMXRms(input_structure_path=output_gppmin_tpr,\n",
    "         input_traj_path=output_md_trr,\n",
    "         output_xvg_path=output_rms_exp, \n",
    "          properties=prop).launch()"
   ]
  },
  {
   "cell_type": "code",
   "execution_count": 38,
   "metadata": {},
   "outputs": [
    {
     "data": {
      "text/html": [
       "        <script type=\"text/javascript\">\n",
       "        window.PlotlyConfig = {MathJaxConfig: 'local'};\n",
       "        if (window.MathJax) {MathJax.Hub.Config({SVG: {font: \"STIX-Web\"}});}\n",
       "        if (typeof require !== 'undefined') {\n",
       "        require.undef(\"plotly\");\n",
       "        requirejs.config({\n",
       "            paths: {\n",
       "                'plotly': ['https://cdn.plot.ly/plotly-latest.min']\n",
       "            }\n",
       "        });\n",
       "        require(['plotly'], function(Plotly) {\n",
       "            window._Plotly = Plotly;\n",
       "        });\n",
       "        }\n",
       "        </script>\n",
       "        "
      ]
     },
     "metadata": {},
     "output_type": "display_data"
    },
    {
     "data": {
      "application/vnd.plotly.v1+json": {
       "config": {
        "linkText": "Export to plot.ly",
        "plotlyServerURL": "https://plot.ly",
        "showLink": false
       },
       "data": [
        {
         "name": "RMSd vs first",
         "type": "scatter",
         "x": [
          0,
          10,
          20,
          30,
          40,
          50
         ],
         "y": [
          1e-07,
          0.0762173,
          0.0545393,
          0.0543255,
          0.0624739,
          0.0700813
         ]
        },
        {
         "name": "RMSd vs exp",
         "type": "scatter",
         "x": [
          0,
          10,
          20,
          30,
          40,
          50
         ],
         "y": [
          0.0322569,
          0.0739825,
          0.057876,
          0.0547859,
          0.0634828,
          0.0690862
         ]
        }
       ],
       "layout": {
        "template": {
         "data": {
          "bar": [
           {
            "error_x": {
             "color": "#2a3f5f"
            },
            "error_y": {
             "color": "#2a3f5f"
            },
            "marker": {
             "line": {
              "color": "#E5ECF6",
              "width": 0.5
             }
            },
            "type": "bar"
           }
          ],
          "barpolar": [
           {
            "marker": {
             "line": {
              "color": "#E5ECF6",
              "width": 0.5
             }
            },
            "type": "barpolar"
           }
          ],
          "carpet": [
           {
            "aaxis": {
             "endlinecolor": "#2a3f5f",
             "gridcolor": "white",
             "linecolor": "white",
             "minorgridcolor": "white",
             "startlinecolor": "#2a3f5f"
            },
            "baxis": {
             "endlinecolor": "#2a3f5f",
             "gridcolor": "white",
             "linecolor": "white",
             "minorgridcolor": "white",
             "startlinecolor": "#2a3f5f"
            },
            "type": "carpet"
           }
          ],
          "choropleth": [
           {
            "colorbar": {
             "outlinewidth": 0,
             "ticks": ""
            },
            "type": "choropleth"
           }
          ],
          "contour": [
           {
            "colorbar": {
             "outlinewidth": 0,
             "ticks": ""
            },
            "colorscale": [
             [
              0,
              "#0d0887"
             ],
             [
              0.1111111111111111,
              "#46039f"
             ],
             [
              0.2222222222222222,
              "#7201a8"
             ],
             [
              0.3333333333333333,
              "#9c179e"
             ],
             [
              0.4444444444444444,
              "#bd3786"
             ],
             [
              0.5555555555555556,
              "#d8576b"
             ],
             [
              0.6666666666666666,
              "#ed7953"
             ],
             [
              0.7777777777777778,
              "#fb9f3a"
             ],
             [
              0.8888888888888888,
              "#fdca26"
             ],
             [
              1,
              "#f0f921"
             ]
            ],
            "type": "contour"
           }
          ],
          "contourcarpet": [
           {
            "colorbar": {
             "outlinewidth": 0,
             "ticks": ""
            },
            "type": "contourcarpet"
           }
          ],
          "heatmap": [
           {
            "colorbar": {
             "outlinewidth": 0,
             "ticks": ""
            },
            "colorscale": [
             [
              0,
              "#0d0887"
             ],
             [
              0.1111111111111111,
              "#46039f"
             ],
             [
              0.2222222222222222,
              "#7201a8"
             ],
             [
              0.3333333333333333,
              "#9c179e"
             ],
             [
              0.4444444444444444,
              "#bd3786"
             ],
             [
              0.5555555555555556,
              "#d8576b"
             ],
             [
              0.6666666666666666,
              "#ed7953"
             ],
             [
              0.7777777777777778,
              "#fb9f3a"
             ],
             [
              0.8888888888888888,
              "#fdca26"
             ],
             [
              1,
              "#f0f921"
             ]
            ],
            "type": "heatmap"
           }
          ],
          "heatmapgl": [
           {
            "colorbar": {
             "outlinewidth": 0,
             "ticks": ""
            },
            "colorscale": [
             [
              0,
              "#0d0887"
             ],
             [
              0.1111111111111111,
              "#46039f"
             ],
             [
              0.2222222222222222,
              "#7201a8"
             ],
             [
              0.3333333333333333,
              "#9c179e"
             ],
             [
              0.4444444444444444,
              "#bd3786"
             ],
             [
              0.5555555555555556,
              "#d8576b"
             ],
             [
              0.6666666666666666,
              "#ed7953"
             ],
             [
              0.7777777777777778,
              "#fb9f3a"
             ],
             [
              0.8888888888888888,
              "#fdca26"
             ],
             [
              1,
              "#f0f921"
             ]
            ],
            "type": "heatmapgl"
           }
          ],
          "histogram": [
           {
            "marker": {
             "colorbar": {
              "outlinewidth": 0,
              "ticks": ""
             }
            },
            "type": "histogram"
           }
          ],
          "histogram2d": [
           {
            "colorbar": {
             "outlinewidth": 0,
             "ticks": ""
            },
            "colorscale": [
             [
              0,
              "#0d0887"
             ],
             [
              0.1111111111111111,
              "#46039f"
             ],
             [
              0.2222222222222222,
              "#7201a8"
             ],
             [
              0.3333333333333333,
              "#9c179e"
             ],
             [
              0.4444444444444444,
              "#bd3786"
             ],
             [
              0.5555555555555556,
              "#d8576b"
             ],
             [
              0.6666666666666666,
              "#ed7953"
             ],
             [
              0.7777777777777778,
              "#fb9f3a"
             ],
             [
              0.8888888888888888,
              "#fdca26"
             ],
             [
              1,
              "#f0f921"
             ]
            ],
            "type": "histogram2d"
           }
          ],
          "histogram2dcontour": [
           {
            "colorbar": {
             "outlinewidth": 0,
             "ticks": ""
            },
            "colorscale": [
             [
              0,
              "#0d0887"
             ],
             [
              0.1111111111111111,
              "#46039f"
             ],
             [
              0.2222222222222222,
              "#7201a8"
             ],
             [
              0.3333333333333333,
              "#9c179e"
             ],
             [
              0.4444444444444444,
              "#bd3786"
             ],
             [
              0.5555555555555556,
              "#d8576b"
             ],
             [
              0.6666666666666666,
              "#ed7953"
             ],
             [
              0.7777777777777778,
              "#fb9f3a"
             ],
             [
              0.8888888888888888,
              "#fdca26"
             ],
             [
              1,
              "#f0f921"
             ]
            ],
            "type": "histogram2dcontour"
           }
          ],
          "mesh3d": [
           {
            "colorbar": {
             "outlinewidth": 0,
             "ticks": ""
            },
            "type": "mesh3d"
           }
          ],
          "parcoords": [
           {
            "line": {
             "colorbar": {
              "outlinewidth": 0,
              "ticks": ""
             }
            },
            "type": "parcoords"
           }
          ],
          "scatter": [
           {
            "marker": {
             "colorbar": {
              "outlinewidth": 0,
              "ticks": ""
             }
            },
            "type": "scatter"
           }
          ],
          "scatter3d": [
           {
            "line": {
             "colorbar": {
              "outlinewidth": 0,
              "ticks": ""
             }
            },
            "marker": {
             "colorbar": {
              "outlinewidth": 0,
              "ticks": ""
             }
            },
            "type": "scatter3d"
           }
          ],
          "scattercarpet": [
           {
            "marker": {
             "colorbar": {
              "outlinewidth": 0,
              "ticks": ""
             }
            },
            "type": "scattercarpet"
           }
          ],
          "scattergeo": [
           {
            "marker": {
             "colorbar": {
              "outlinewidth": 0,
              "ticks": ""
             }
            },
            "type": "scattergeo"
           }
          ],
          "scattergl": [
           {
            "marker": {
             "colorbar": {
              "outlinewidth": 0,
              "ticks": ""
             }
            },
            "type": "scattergl"
           }
          ],
          "scattermapbox": [
           {
            "marker": {
             "colorbar": {
              "outlinewidth": 0,
              "ticks": ""
             }
            },
            "type": "scattermapbox"
           }
          ],
          "scatterpolar": [
           {
            "marker": {
             "colorbar": {
              "outlinewidth": 0,
              "ticks": ""
             }
            },
            "type": "scatterpolar"
           }
          ],
          "scatterpolargl": [
           {
            "marker": {
             "colorbar": {
              "outlinewidth": 0,
              "ticks": ""
             }
            },
            "type": "scatterpolargl"
           }
          ],
          "scatterternary": [
           {
            "marker": {
             "colorbar": {
              "outlinewidth": 0,
              "ticks": ""
             }
            },
            "type": "scatterternary"
           }
          ],
          "surface": [
           {
            "colorbar": {
             "outlinewidth": 0,
             "ticks": ""
            },
            "colorscale": [
             [
              0,
              "#0d0887"
             ],
             [
              0.1111111111111111,
              "#46039f"
             ],
             [
              0.2222222222222222,
              "#7201a8"
             ],
             [
              0.3333333333333333,
              "#9c179e"
             ],
             [
              0.4444444444444444,
              "#bd3786"
             ],
             [
              0.5555555555555556,
              "#d8576b"
             ],
             [
              0.6666666666666666,
              "#ed7953"
             ],
             [
              0.7777777777777778,
              "#fb9f3a"
             ],
             [
              0.8888888888888888,
              "#fdca26"
             ],
             [
              1,
              "#f0f921"
             ]
            ],
            "type": "surface"
           }
          ],
          "table": [
           {
            "cells": {
             "fill": {
              "color": "#EBF0F8"
             },
             "line": {
              "color": "white"
             }
            },
            "header": {
             "fill": {
              "color": "#C8D4E3"
             },
             "line": {
              "color": "white"
             }
            },
            "type": "table"
           }
          ]
         },
         "layout": {
          "annotationdefaults": {
           "arrowcolor": "#2a3f5f",
           "arrowhead": 0,
           "arrowwidth": 1
          },
          "colorscale": {
           "diverging": [
            [
             0,
             "#8e0152"
            ],
            [
             0.1,
             "#c51b7d"
            ],
            [
             0.2,
             "#de77ae"
            ],
            [
             0.3,
             "#f1b6da"
            ],
            [
             0.4,
             "#fde0ef"
            ],
            [
             0.5,
             "#f7f7f7"
            ],
            [
             0.6,
             "#e6f5d0"
            ],
            [
             0.7,
             "#b8e186"
            ],
            [
             0.8,
             "#7fbc41"
            ],
            [
             0.9,
             "#4d9221"
            ],
            [
             1,
             "#276419"
            ]
           ],
           "sequential": [
            [
             0,
             "#0d0887"
            ],
            [
             0.1111111111111111,
             "#46039f"
            ],
            [
             0.2222222222222222,
             "#7201a8"
            ],
            [
             0.3333333333333333,
             "#9c179e"
            ],
            [
             0.4444444444444444,
             "#bd3786"
            ],
            [
             0.5555555555555556,
             "#d8576b"
            ],
            [
             0.6666666666666666,
             "#ed7953"
            ],
            [
             0.7777777777777778,
             "#fb9f3a"
            ],
            [
             0.8888888888888888,
             "#fdca26"
            ],
            [
             1,
             "#f0f921"
            ]
           ],
           "sequentialminus": [
            [
             0,
             "#0d0887"
            ],
            [
             0.1111111111111111,
             "#46039f"
            ],
            [
             0.2222222222222222,
             "#7201a8"
            ],
            [
             0.3333333333333333,
             "#9c179e"
            ],
            [
             0.4444444444444444,
             "#bd3786"
            ],
            [
             0.5555555555555556,
             "#d8576b"
            ],
            [
             0.6666666666666666,
             "#ed7953"
            ],
            [
             0.7777777777777778,
             "#fb9f3a"
            ],
            [
             0.8888888888888888,
             "#fdca26"
            ],
            [
             1,
             "#f0f921"
            ]
           ]
          },
          "colorway": [
           "#636efa",
           "#EF553B",
           "#00cc96",
           "#ab63fa",
           "#FFA15A",
           "#19d3f3",
           "#FF6692",
           "#B6E880",
           "#FF97FF",
           "#FECB52"
          ],
          "font": {
           "color": "#2a3f5f"
          },
          "geo": {
           "bgcolor": "white",
           "lakecolor": "white",
           "landcolor": "#E5ECF6",
           "showlakes": true,
           "showland": true,
           "subunitcolor": "white"
          },
          "hoverlabel": {
           "align": "left"
          },
          "hovermode": "closest",
          "mapbox": {
           "style": "light"
          },
          "paper_bgcolor": "white",
          "plot_bgcolor": "#E5ECF6",
          "polar": {
           "angularaxis": {
            "gridcolor": "white",
            "linecolor": "white",
            "ticks": ""
           },
           "bgcolor": "#E5ECF6",
           "radialaxis": {
            "gridcolor": "white",
            "linecolor": "white",
            "ticks": ""
           }
          },
          "scene": {
           "xaxis": {
            "backgroundcolor": "#E5ECF6",
            "gridcolor": "white",
            "gridwidth": 2,
            "linecolor": "white",
            "showbackground": true,
            "ticks": "",
            "zerolinecolor": "white"
           },
           "yaxis": {
            "backgroundcolor": "#E5ECF6",
            "gridcolor": "white",
            "gridwidth": 2,
            "linecolor": "white",
            "showbackground": true,
            "ticks": "",
            "zerolinecolor": "white"
           },
           "zaxis": {
            "backgroundcolor": "#E5ECF6",
            "gridcolor": "white",
            "gridwidth": 2,
            "linecolor": "white",
            "showbackground": true,
            "ticks": "",
            "zerolinecolor": "white"
           }
          },
          "shapedefaults": {
           "line": {
            "color": "#2a3f5f"
           }
          },
          "ternary": {
           "aaxis": {
            "gridcolor": "white",
            "linecolor": "white",
            "ticks": ""
           },
           "baxis": {
            "gridcolor": "white",
            "linecolor": "white",
            "ticks": ""
           },
           "bgcolor": "#E5ECF6",
           "caxis": {
            "gridcolor": "white",
            "linecolor": "white",
            "ticks": ""
           }
          },
          "title": {
           "x": 0.05
          },
          "xaxis": {
           "automargin": true,
           "gridcolor": "white",
           "linecolor": "white",
           "ticks": "",
           "zerolinecolor": "white",
           "zerolinewidth": 2
          },
          "yaxis": {
           "automargin": true,
           "gridcolor": "white",
           "linecolor": "white",
           "ticks": "",
           "zerolinecolor": "white",
           "zerolinewidth": 2
          }
         }
        },
        "title": {
         "text": "RMSd during free MD Simulation"
        },
        "xaxis": {
         "title": {
          "text": "Time (ps)"
         }
        },
        "yaxis": {
         "title": {
          "text": "RMSd (nm)"
         }
        }
       }
      },
      "text/html": [
       "<div>\n",
       "        \n",
       "        \n",
       "            <div id=\"27c09982-8629-467a-9ce9-0920947451e3\" class=\"plotly-graph-div\" style=\"height:525px; width:100%;\"></div>\n",
       "            <script type=\"text/javascript\">\n",
       "                require([\"plotly\"], function(Plotly) {\n",
       "                    window.PLOTLYENV=window.PLOTLYENV || {};\n",
       "                    \n",
       "                if (document.getElementById(\"27c09982-8629-467a-9ce9-0920947451e3\")) {\n",
       "                    Plotly.newPlot(\n",
       "                        '27c09982-8629-467a-9ce9-0920947451e3',\n",
       "                        [{\"name\": \"RMSd vs first\", \"type\": \"scatter\", \"x\": [0.0, 10.0, 20.0, 30.0, 40.0, 50.0], \"y\": [1e-07, 0.0762173, 0.0545393, 0.0543255, 0.0624739, 0.0700813]}, {\"name\": \"RMSd vs exp\", \"type\": \"scatter\", \"x\": [0.0, 10.0, 20.0, 30.0, 40.0, 50.0], \"y\": [0.0322569, 0.0739825, 0.057876, 0.0547859, 0.0634828, 0.0690862]}],\n",
       "                        {\"template\": {\"data\": {\"bar\": [{\"error_x\": {\"color\": \"#2a3f5f\"}, \"error_y\": {\"color\": \"#2a3f5f\"}, \"marker\": {\"line\": {\"color\": \"#E5ECF6\", \"width\": 0.5}}, \"type\": \"bar\"}], \"barpolar\": [{\"marker\": {\"line\": {\"color\": \"#E5ECF6\", \"width\": 0.5}}, \"type\": \"barpolar\"}], \"carpet\": [{\"aaxis\": {\"endlinecolor\": \"#2a3f5f\", \"gridcolor\": \"white\", \"linecolor\": \"white\", \"minorgridcolor\": \"white\", \"startlinecolor\": \"#2a3f5f\"}, \"baxis\": {\"endlinecolor\": \"#2a3f5f\", \"gridcolor\": \"white\", \"linecolor\": \"white\", \"minorgridcolor\": \"white\", \"startlinecolor\": \"#2a3f5f\"}, \"type\": \"carpet\"}], \"choropleth\": [{\"colorbar\": {\"outlinewidth\": 0, \"ticks\": \"\"}, \"type\": \"choropleth\"}], \"contour\": [{\"colorbar\": {\"outlinewidth\": 0, \"ticks\": \"\"}, \"colorscale\": [[0.0, \"#0d0887\"], [0.1111111111111111, \"#46039f\"], [0.2222222222222222, \"#7201a8\"], [0.3333333333333333, \"#9c179e\"], [0.4444444444444444, \"#bd3786\"], [0.5555555555555556, \"#d8576b\"], [0.6666666666666666, \"#ed7953\"], [0.7777777777777778, \"#fb9f3a\"], [0.8888888888888888, \"#fdca26\"], [1.0, \"#f0f921\"]], \"type\": \"contour\"}], \"contourcarpet\": [{\"colorbar\": {\"outlinewidth\": 0, \"ticks\": \"\"}, \"type\": \"contourcarpet\"}], \"heatmap\": [{\"colorbar\": {\"outlinewidth\": 0, \"ticks\": \"\"}, \"colorscale\": [[0.0, \"#0d0887\"], [0.1111111111111111, \"#46039f\"], [0.2222222222222222, \"#7201a8\"], [0.3333333333333333, \"#9c179e\"], [0.4444444444444444, \"#bd3786\"], [0.5555555555555556, \"#d8576b\"], [0.6666666666666666, \"#ed7953\"], [0.7777777777777778, \"#fb9f3a\"], [0.8888888888888888, \"#fdca26\"], [1.0, \"#f0f921\"]], \"type\": \"heatmap\"}], \"heatmapgl\": [{\"colorbar\": {\"outlinewidth\": 0, \"ticks\": \"\"}, \"colorscale\": [[0.0, \"#0d0887\"], [0.1111111111111111, \"#46039f\"], [0.2222222222222222, \"#7201a8\"], [0.3333333333333333, \"#9c179e\"], [0.4444444444444444, \"#bd3786\"], [0.5555555555555556, \"#d8576b\"], [0.6666666666666666, \"#ed7953\"], [0.7777777777777778, \"#fb9f3a\"], [0.8888888888888888, \"#fdca26\"], [1.0, \"#f0f921\"]], \"type\": \"heatmapgl\"}], \"histogram\": [{\"marker\": {\"colorbar\": {\"outlinewidth\": 0, \"ticks\": \"\"}}, \"type\": \"histogram\"}], \"histogram2d\": [{\"colorbar\": {\"outlinewidth\": 0, \"ticks\": \"\"}, \"colorscale\": [[0.0, \"#0d0887\"], [0.1111111111111111, \"#46039f\"], [0.2222222222222222, \"#7201a8\"], [0.3333333333333333, \"#9c179e\"], [0.4444444444444444, \"#bd3786\"], [0.5555555555555556, \"#d8576b\"], [0.6666666666666666, \"#ed7953\"], [0.7777777777777778, \"#fb9f3a\"], [0.8888888888888888, \"#fdca26\"], [1.0, \"#f0f921\"]], \"type\": \"histogram2d\"}], \"histogram2dcontour\": [{\"colorbar\": {\"outlinewidth\": 0, \"ticks\": \"\"}, \"colorscale\": [[0.0, \"#0d0887\"], [0.1111111111111111, \"#46039f\"], [0.2222222222222222, \"#7201a8\"], [0.3333333333333333, \"#9c179e\"], [0.4444444444444444, \"#bd3786\"], [0.5555555555555556, \"#d8576b\"], [0.6666666666666666, \"#ed7953\"], [0.7777777777777778, \"#fb9f3a\"], [0.8888888888888888, \"#fdca26\"], [1.0, \"#f0f921\"]], \"type\": \"histogram2dcontour\"}], \"mesh3d\": [{\"colorbar\": {\"outlinewidth\": 0, \"ticks\": \"\"}, \"type\": \"mesh3d\"}], \"parcoords\": [{\"line\": {\"colorbar\": {\"outlinewidth\": 0, \"ticks\": \"\"}}, \"type\": \"parcoords\"}], \"scatter\": [{\"marker\": {\"colorbar\": {\"outlinewidth\": 0, \"ticks\": \"\"}}, \"type\": \"scatter\"}], \"scatter3d\": [{\"line\": {\"colorbar\": {\"outlinewidth\": 0, \"ticks\": \"\"}}, \"marker\": {\"colorbar\": {\"outlinewidth\": 0, \"ticks\": \"\"}}, \"type\": \"scatter3d\"}], \"scattercarpet\": [{\"marker\": {\"colorbar\": {\"outlinewidth\": 0, \"ticks\": \"\"}}, \"type\": \"scattercarpet\"}], \"scattergeo\": [{\"marker\": {\"colorbar\": {\"outlinewidth\": 0, \"ticks\": \"\"}}, \"type\": \"scattergeo\"}], \"scattergl\": [{\"marker\": {\"colorbar\": {\"outlinewidth\": 0, \"ticks\": \"\"}}, \"type\": \"scattergl\"}], \"scattermapbox\": [{\"marker\": {\"colorbar\": {\"outlinewidth\": 0, \"ticks\": \"\"}}, \"type\": \"scattermapbox\"}], \"scatterpolar\": [{\"marker\": {\"colorbar\": {\"outlinewidth\": 0, \"ticks\": \"\"}}, \"type\": \"scatterpolar\"}], \"scatterpolargl\": [{\"marker\": {\"colorbar\": {\"outlinewidth\": 0, \"ticks\": \"\"}}, \"type\": \"scatterpolargl\"}], \"scatterternary\": [{\"marker\": {\"colorbar\": {\"outlinewidth\": 0, \"ticks\": \"\"}}, \"type\": \"scatterternary\"}], \"surface\": [{\"colorbar\": {\"outlinewidth\": 0, \"ticks\": \"\"}, \"colorscale\": [[0.0, \"#0d0887\"], [0.1111111111111111, \"#46039f\"], [0.2222222222222222, \"#7201a8\"], [0.3333333333333333, \"#9c179e\"], [0.4444444444444444, \"#bd3786\"], [0.5555555555555556, \"#d8576b\"], [0.6666666666666666, \"#ed7953\"], [0.7777777777777778, \"#fb9f3a\"], [0.8888888888888888, \"#fdca26\"], [1.0, \"#f0f921\"]], \"type\": \"surface\"}], \"table\": [{\"cells\": {\"fill\": {\"color\": \"#EBF0F8\"}, \"line\": {\"color\": \"white\"}}, \"header\": {\"fill\": {\"color\": \"#C8D4E3\"}, \"line\": {\"color\": \"white\"}}, \"type\": \"table\"}]}, \"layout\": {\"annotationdefaults\": {\"arrowcolor\": \"#2a3f5f\", \"arrowhead\": 0, \"arrowwidth\": 1}, \"colorscale\": {\"diverging\": [[0, \"#8e0152\"], [0.1, \"#c51b7d\"], [0.2, \"#de77ae\"], [0.3, \"#f1b6da\"], [0.4, \"#fde0ef\"], [0.5, \"#f7f7f7\"], [0.6, \"#e6f5d0\"], [0.7, \"#b8e186\"], [0.8, \"#7fbc41\"], [0.9, \"#4d9221\"], [1, \"#276419\"]], \"sequential\": [[0.0, \"#0d0887\"], [0.1111111111111111, \"#46039f\"], [0.2222222222222222, \"#7201a8\"], [0.3333333333333333, \"#9c179e\"], [0.4444444444444444, \"#bd3786\"], [0.5555555555555556, \"#d8576b\"], [0.6666666666666666, \"#ed7953\"], [0.7777777777777778, \"#fb9f3a\"], [0.8888888888888888, \"#fdca26\"], [1.0, \"#f0f921\"]], \"sequentialminus\": [[0.0, \"#0d0887\"], [0.1111111111111111, \"#46039f\"], [0.2222222222222222, \"#7201a8\"], [0.3333333333333333, \"#9c179e\"], [0.4444444444444444, \"#bd3786\"], [0.5555555555555556, \"#d8576b\"], [0.6666666666666666, \"#ed7953\"], [0.7777777777777778, \"#fb9f3a\"], [0.8888888888888888, \"#fdca26\"], [1.0, \"#f0f921\"]]}, \"colorway\": [\"#636efa\", \"#EF553B\", \"#00cc96\", \"#ab63fa\", \"#FFA15A\", \"#19d3f3\", \"#FF6692\", \"#B6E880\", \"#FF97FF\", \"#FECB52\"], \"font\": {\"color\": \"#2a3f5f\"}, \"geo\": {\"bgcolor\": \"white\", \"lakecolor\": \"white\", \"landcolor\": \"#E5ECF6\", \"showlakes\": true, \"showland\": true, \"subunitcolor\": \"white\"}, \"hoverlabel\": {\"align\": \"left\"}, \"hovermode\": \"closest\", \"mapbox\": {\"style\": \"light\"}, \"paper_bgcolor\": \"white\", \"plot_bgcolor\": \"#E5ECF6\", \"polar\": {\"angularaxis\": {\"gridcolor\": \"white\", \"linecolor\": \"white\", \"ticks\": \"\"}, \"bgcolor\": \"#E5ECF6\", \"radialaxis\": {\"gridcolor\": \"white\", \"linecolor\": \"white\", \"ticks\": \"\"}}, \"scene\": {\"xaxis\": {\"backgroundcolor\": \"#E5ECF6\", \"gridcolor\": \"white\", \"gridwidth\": 2, \"linecolor\": \"white\", \"showbackground\": true, \"ticks\": \"\", \"zerolinecolor\": \"white\"}, \"yaxis\": {\"backgroundcolor\": \"#E5ECF6\", \"gridcolor\": \"white\", \"gridwidth\": 2, \"linecolor\": \"white\", \"showbackground\": true, \"ticks\": \"\", \"zerolinecolor\": \"white\"}, \"zaxis\": {\"backgroundcolor\": \"#E5ECF6\", \"gridcolor\": \"white\", \"gridwidth\": 2, \"linecolor\": \"white\", \"showbackground\": true, \"ticks\": \"\", \"zerolinecolor\": \"white\"}}, \"shapedefaults\": {\"line\": {\"color\": \"#2a3f5f\"}}, \"ternary\": {\"aaxis\": {\"gridcolor\": \"white\", \"linecolor\": \"white\", \"ticks\": \"\"}, \"baxis\": {\"gridcolor\": \"white\", \"linecolor\": \"white\", \"ticks\": \"\"}, \"bgcolor\": \"#E5ECF6\", \"caxis\": {\"gridcolor\": \"white\", \"linecolor\": \"white\", \"ticks\": \"\"}}, \"title\": {\"x\": 0.05}, \"xaxis\": {\"automargin\": true, \"gridcolor\": \"white\", \"linecolor\": \"white\", \"ticks\": \"\", \"zerolinecolor\": \"white\", \"zerolinewidth\": 2}, \"yaxis\": {\"automargin\": true, \"gridcolor\": \"white\", \"linecolor\": \"white\", \"ticks\": \"\", \"zerolinecolor\": \"white\", \"zerolinewidth\": 2}}}, \"title\": {\"text\": \"RMSd during free MD Simulation\"}, \"xaxis\": {\"title\": {\"text\": \"Time (ps)\"}}, \"yaxis\": {\"title\": {\"text\": \"RMSd (nm)\"}}},\n",
       "                        {\"responsive\": true}\n",
       "                    ).then(function(){\n",
       "                            \n",
       "var gd = document.getElementById('27c09982-8629-467a-9ce9-0920947451e3');\n",
       "var x = new MutationObserver(function (mutations, observer) {{\n",
       "        var display = window.getComputedStyle(gd).display;\n",
       "        if (!display || display === 'none') {{\n",
       "            console.log([gd, 'removed!']);\n",
       "            Plotly.purge(gd);\n",
       "            observer.disconnect();\n",
       "        }}\n",
       "}});\n",
       "\n",
       "// Listen for the removal of the full notebook cells\n",
       "var notebookContainer = gd.closest('#notebook-container');\n",
       "if (notebookContainer) {{\n",
       "    x.observe(notebookContainer, {childList: true});\n",
       "}}\n",
       "\n",
       "// Listen for the clearing of the current output cell\n",
       "var outputEl = gd.closest('.output');\n",
       "if (outputEl) {{\n",
       "    x.observe(outputEl, {childList: true});\n",
       "}}\n",
       "\n",
       "                        })\n",
       "                };\n",
       "                });\n",
       "            </script>\n",
       "        </div>"
      ]
     },
     "metadata": {},
     "output_type": "display_data"
    }
   ],
   "source": [
    "import plotly\n",
    "import plotly.graph_objs as go\n",
    "\n",
    "# Read RMS vs first snapshot data from file \n",
    "with open(output_rms_first,'r') as rms_first_file:\n",
    "    x,y = map(\n",
    "        list,\n",
    "        zip(*[\n",
    "            (float(line.split()[0]),float(line.split()[1]))\n",
    "            for line in rms_first_file \n",
    "            if not line.startswith((\"#\",\"@\")) \n",
    "        ])\n",
    "    )\n",
    "\n",
    "# Read RMS vs experimental structure data from file \n",
    "with open(output_rms_exp,'r') as rms_exp_file:\n",
    "    x2,y2 = map(\n",
    "        list,\n",
    "        zip(*[\n",
    "            (float(line.split()[0]),float(line.split()[1]))\n",
    "            for line in rms_exp_file\n",
    "            if not line.startswith((\"#\",\"@\")) \n",
    "        ])\n",
    "    )\n",
    "    \n",
    "trace1 = go.Scatter(\n",
    "    x = x,\n",
    "    y = y,\n",
    "    name = 'RMSd vs first'\n",
    ")\n",
    "\n",
    "trace2 = go.Scatter(\n",
    "    x = x,\n",
    "    y = y2,\n",
    "    name = 'RMSd vs exp'\n",
    ")\n",
    "\n",
    "data = [trace1, trace2]\n",
    "\n",
    "plotly.offline.init_notebook_mode(connected=True)\n",
    "\n",
    "fig = ({\n",
    "    \"data\": data,\n",
    "    \"layout\": go.Layout(title=\"RMSd during free MD Simulation\",\n",
    "                        xaxis=dict(title = \"Time (ps)\"),\n",
    "                        yaxis=dict(title = \"RMSd (nm)\")\n",
    "                       )\n",
    "})\n",
    "\n",
    "plotly.offline.iplot(fig)"
   ]
  },
  {
   "cell_type": "code",
   "execution_count": 39,
   "metadata": {},
   "outputs": [
    {
     "name": "stderr",
     "output_type": "stream",
     "text": [
      "2019-10-16 12:35:53,184 [MainThread  ] [INFO ]  echo \"Backbone Backbone\" | gmx rms -s /home/gbayarri_local/projects/BioBB/tutorials/biobb_wf_protein-complex_md_setup/biobb_wf_protein-complex_md_setup/notebooks/3HTB_JZ4_gppmin.tpr -f /home/gbayarri_local/projects/BioBB/tutorials/biobb_wf_protein-complex_md_setup/biobb_wf_protein-complex_md_setup/notebooks/3HTB_JZ4_md.trr -o 3HTB_JZ4_rgyr.xvg -xvg none\n",
      "\n",
      "2019-10-16 12:35:53,186 [MainThread  ] [INFO ]  Exit code 0\n",
      "\n",
      "2019-10-16 12:35:53,186 [MainThread  ] [INFO ]  Selected 4: 'Backbone'\n",
      "Selected 4: 'Backbone'\n",
      "\n",
      "2019-10-16 12:35:53,187 [MainThread  ] [INFO ]                         :-) GROMACS - gmx rms, 2019.1 (-:\n",
      "\n",
      "                            GROMACS is written by:\n",
      "     Emile Apol      Rossen Apostolov      Paul Bauer     Herman J.C. Berendsen\n",
      "    Par Bjelkmar      Christian Blau   Viacheslav Bolnykh     Kevin Boyd    \n",
      " Aldert van Buuren   Rudi van Drunen     Anton Feenstra       Alan Gray     \n",
      "  Gerrit Groenhof     Anca Hamuraru    Vincent Hindriksen  M. Eric Irrgang  \n",
      "  Aleksei Iupinov   Christoph Junghans     Joe Jordan     Dimitrios Karkoulis\n",
      "    Peter Kasson        Jiri Kraus      Carsten Kutzner      Per Larsson    \n",
      "  Justin A. Lemkul    Viveca Lindahl    Magnus Lundborg     Erik Marklund   \n",
      "    Pascal Merz     Pieter Meulenhoff    Teemu Murtola       Szilard Pall   \n",
      "    Sander Pronk      Roland Schulz      Michael Shirts    Alexey Shvetsov  \n",
      "   Alfons Sijbers     Peter Tieleman      Jon Vincent      Teemu Virolainen \n",
      " Christian Wennberg    Maarten Wolf   \n",
      "                           and the project leaders:\n",
      "        Mark Abraham, Berk Hess, Erik Lindahl, and David van der Spoel\n",
      "\n",
      "Copyright (c) 1991-2000, University of Groningen, The Netherlands.\n",
      "Copyright (c) 2001-2018, The GROMACS development team at\n",
      "Uppsala University, Stockholm University and\n",
      "the Royal Institute of Technology, Sweden.\n",
      "check out http://www.gromacs.org for more information.\n",
      "\n",
      "GROMACS is free software; you can redistribute it and/or modify it\n",
      "under the terms of the GNU Lesser General Public License\n",
      "as published by the Free Software Foundation; either version 2.1\n",
      "of the License, or (at your option) any later version.\n",
      "\n",
      "GROMACS:      gmx rms, version 2019.1\n",
      "Executable:   /anaconda3/envs/biobb_dev/bin/gmx\n",
      "Data prefix:  /anaconda3/envs/biobb_dev\n",
      "Working dir:  /home/gbayarri_local/projects/BioBB/tutorials/biobb_wf_protein-complex_md_setup/biobb_wf_protein-complex_md_setup/notebooks\n",
      "Command line:\n",
      "  gmx rms -s /home/gbayarri_local/projects/BioBB/tutorials/biobb_wf_protein-complex_md_setup/biobb_wf_protein-complex_md_setup/notebooks/3HTB_JZ4_gppmin.tpr -f /home/gbayarri_local/projects/BioBB/tutorials/biobb_wf_protein-complex_md_setup/biobb_wf_protein-complex_md_setup/notebooks/3HTB_JZ4_md.trr -o 3HTB_JZ4_rgyr.xvg -xvg none\n",
      "\n",
      "Reading file /home/gbayarri_local/projects/BioBB/tutorials/biobb_wf_protein-complex_md_setup/biobb_wf_protein-complex_md_setup/notebooks/3HTB_JZ4_gppmin.tpr, VERSION 2019.1 (single precision)\n",
      "Reading file /home/gbayarri_local/projects/BioBB/tutorials/biobb_wf_protein-complex_md_setup/biobb_wf_protein-complex_md_setup/notebooks/3HTB_JZ4_gppmin.tpr, VERSION 2019.1 (single precision)\n",
      "Select group for least squares fit\n",
      "Group     0 (         System) has 31177 elements\n",
      "Group     1 (        Protein) has  2614 elements\n",
      "Group     2 (      Protein-H) has  1301 elements\n",
      "Group     3 (        C-alpha) has   163 elements\n",
      "Group     4 (       Backbone) has   489 elements\n",
      "Group     5 (      MainChain) has   653 elements\n",
      "Group     6 (   MainChain+Cb) has   805 elements\n",
      "Group     7 (    MainChain+H) has   815 elements\n",
      "Group     8 (      SideChain) has  1799 elements\n",
      "Group     9 (    SideChain-H) has   648 elements\n",
      "Group    10 (    Prot-Masses) has  2614 elements\n",
      "Group    11 (    non-Protein) has 28563 elements\n",
      "Group    12 (          Other) has    22 elements\n",
      "Group    13 (            JZ4) has    22 elements\n",
      "Group    14 (             NA) has    10 elements\n",
      "Group    15 (             CL) has    16 elements\n",
      "Group    16 (          Water) has 28515 elements\n",
      "Group    17 (            SOL) has 28515 elements\n",
      "Group    18 (      non-Water) has  2662 elements\n",
      "Group    19 (            Ion) has    26 elements\n",
      "Group    20 (            JZ4) has    22 elements\n",
      "Group    21 (             NA) has    10 elements\n",
      "Group    22 (             CL) has    16 elements\n",
      "Group    23 ( Water_and_ions) has 28541 elements\n",
      "Select a group: Select group for RMSD calculation\n",
      "Group     0 (         System) has 31177 elements\n",
      "Group     1 (        Protein) has  2614 elements\n",
      "Group     2 (      Protein-H) has  1301 elements\n",
      "Group     3 (        C-alpha) has   163 elements\n",
      "Group     4 (       Backbone) has   489 elements\n",
      "Group     5 (      MainChain) has   653 elements\n",
      "Group     6 (   MainChain+Cb) has   805 elements\n",
      "Group     7 (    MainChain+H) has   815 elements\n",
      "Group     8 (      SideChain) has  1799 elements\n",
      "Group     9 (    SideChain-H) has   648 elements\n",
      "Group    10 (    Prot-Masses) has  2614 elements\n",
      "Group    11 (    non-Protein) has 28563 elements\n",
      "Group    12 (          Other) has    22 elements\n",
      "Group    13 (            JZ4) has    22 elements\n",
      "Group    14 (             NA) has    10 elements\n",
      "Group    15 (             CL) has    16 elements\n",
      "Group    16 (          Water) has 28515 elements\n",
      "Group    17 (            SOL) has 28515 elements\n",
      "Group    18 (      non-Water) has  2662 elements\n",
      "Group    19 (            Ion) has    26 elements\n",
      "Group    20 (            JZ4) has    22 elements\n",
      "Group    21 (             NA) has    10 elements\n",
      "Group    22 (             CL) has    16 elements\n",
      "Group    23 ( Water_and_ions) has 28541 elements\n",
      "Select a group: trr version: GMX_trn_file (single precision)\n",
      "Last frame          5 time   50.000   \n",
      "\n",
      "Back Off! I just backed up 3HTB_JZ4_rgyr.xvg to ./#3HTB_JZ4_rgyr.xvg.1#\n",
      "\n",
      "GROMACS reminds you: \"Physics isn't a religion. If it were, we'd have a much easier time raising money.\" (Leon Lederman)\n",
      "\n",
      "\n"
     ]
    },
    {
     "data": {
      "text/plain": [
       "0"
      ]
     },
     "execution_count": 39,
     "metadata": {},
     "output_type": "execute_result"
    }
   ],
   "source": [
    "# GMXRgyr: Computing Radius of Gyration to measure the protein compactness during the free MD simulation \n",
    "\n",
    "from biobb_analysis.gromacs.gmx_rgyr import GMXRgyr\n",
    "\n",
    "# Create prop dict and inputs/outputs\n",
    "output_rgyr = pdbCode+'_'+ligandCode+'_rgyr.xvg'\n",
    "prop = {\n",
    "    'selection':  'Backbone'\n",
    "}\n",
    "\n",
    "# Create and launch bb\n",
    "GMXRms(input_structure_path=output_gppmin_tpr,\n",
    "         input_traj_path=output_md_trr,\n",
    "         output_xvg_path=output_rgyr, \n",
    "          properties=prop).launch()"
   ]
  },
  {
   "cell_type": "code",
   "execution_count": 40,
   "metadata": {},
   "outputs": [
    {
     "data": {
      "text/html": [
       "        <script type=\"text/javascript\">\n",
       "        window.PlotlyConfig = {MathJaxConfig: 'local'};\n",
       "        if (window.MathJax) {MathJax.Hub.Config({SVG: {font: \"STIX-Web\"}});}\n",
       "        if (typeof require !== 'undefined') {\n",
       "        require.undef(\"plotly\");\n",
       "        requirejs.config({\n",
       "            paths: {\n",
       "                'plotly': ['https://cdn.plot.ly/plotly-latest.min']\n",
       "            }\n",
       "        });\n",
       "        require(['plotly'], function(Plotly) {\n",
       "            window._Plotly = Plotly;\n",
       "        });\n",
       "        }\n",
       "        </script>\n",
       "        "
      ]
     },
     "metadata": {},
     "output_type": "display_data"
    },
    {
     "data": {
      "application/vnd.plotly.v1+json": {
       "config": {
        "linkText": "Export to plot.ly",
        "plotlyServerURL": "https://plot.ly",
        "showLink": false
       },
       "data": [
        {
         "type": "scatter",
         "x": [
          0,
          10,
          20,
          30,
          40,
          50
         ],
         "y": [
          0.0322569,
          0.0739825,
          0.057876,
          0.0547859,
          0.0634828,
          0.0690862
         ]
        }
       ],
       "layout": {
        "template": {
         "data": {
          "bar": [
           {
            "error_x": {
             "color": "#2a3f5f"
            },
            "error_y": {
             "color": "#2a3f5f"
            },
            "marker": {
             "line": {
              "color": "#E5ECF6",
              "width": 0.5
             }
            },
            "type": "bar"
           }
          ],
          "barpolar": [
           {
            "marker": {
             "line": {
              "color": "#E5ECF6",
              "width": 0.5
             }
            },
            "type": "barpolar"
           }
          ],
          "carpet": [
           {
            "aaxis": {
             "endlinecolor": "#2a3f5f",
             "gridcolor": "white",
             "linecolor": "white",
             "minorgridcolor": "white",
             "startlinecolor": "#2a3f5f"
            },
            "baxis": {
             "endlinecolor": "#2a3f5f",
             "gridcolor": "white",
             "linecolor": "white",
             "minorgridcolor": "white",
             "startlinecolor": "#2a3f5f"
            },
            "type": "carpet"
           }
          ],
          "choropleth": [
           {
            "colorbar": {
             "outlinewidth": 0,
             "ticks": ""
            },
            "type": "choropleth"
           }
          ],
          "contour": [
           {
            "colorbar": {
             "outlinewidth": 0,
             "ticks": ""
            },
            "colorscale": [
             [
              0,
              "#0d0887"
             ],
             [
              0.1111111111111111,
              "#46039f"
             ],
             [
              0.2222222222222222,
              "#7201a8"
             ],
             [
              0.3333333333333333,
              "#9c179e"
             ],
             [
              0.4444444444444444,
              "#bd3786"
             ],
             [
              0.5555555555555556,
              "#d8576b"
             ],
             [
              0.6666666666666666,
              "#ed7953"
             ],
             [
              0.7777777777777778,
              "#fb9f3a"
             ],
             [
              0.8888888888888888,
              "#fdca26"
             ],
             [
              1,
              "#f0f921"
             ]
            ],
            "type": "contour"
           }
          ],
          "contourcarpet": [
           {
            "colorbar": {
             "outlinewidth": 0,
             "ticks": ""
            },
            "type": "contourcarpet"
           }
          ],
          "heatmap": [
           {
            "colorbar": {
             "outlinewidth": 0,
             "ticks": ""
            },
            "colorscale": [
             [
              0,
              "#0d0887"
             ],
             [
              0.1111111111111111,
              "#46039f"
             ],
             [
              0.2222222222222222,
              "#7201a8"
             ],
             [
              0.3333333333333333,
              "#9c179e"
             ],
             [
              0.4444444444444444,
              "#bd3786"
             ],
             [
              0.5555555555555556,
              "#d8576b"
             ],
             [
              0.6666666666666666,
              "#ed7953"
             ],
             [
              0.7777777777777778,
              "#fb9f3a"
             ],
             [
              0.8888888888888888,
              "#fdca26"
             ],
             [
              1,
              "#f0f921"
             ]
            ],
            "type": "heatmap"
           }
          ],
          "heatmapgl": [
           {
            "colorbar": {
             "outlinewidth": 0,
             "ticks": ""
            },
            "colorscale": [
             [
              0,
              "#0d0887"
             ],
             [
              0.1111111111111111,
              "#46039f"
             ],
             [
              0.2222222222222222,
              "#7201a8"
             ],
             [
              0.3333333333333333,
              "#9c179e"
             ],
             [
              0.4444444444444444,
              "#bd3786"
             ],
             [
              0.5555555555555556,
              "#d8576b"
             ],
             [
              0.6666666666666666,
              "#ed7953"
             ],
             [
              0.7777777777777778,
              "#fb9f3a"
             ],
             [
              0.8888888888888888,
              "#fdca26"
             ],
             [
              1,
              "#f0f921"
             ]
            ],
            "type": "heatmapgl"
           }
          ],
          "histogram": [
           {
            "marker": {
             "colorbar": {
              "outlinewidth": 0,
              "ticks": ""
             }
            },
            "type": "histogram"
           }
          ],
          "histogram2d": [
           {
            "colorbar": {
             "outlinewidth": 0,
             "ticks": ""
            },
            "colorscale": [
             [
              0,
              "#0d0887"
             ],
             [
              0.1111111111111111,
              "#46039f"
             ],
             [
              0.2222222222222222,
              "#7201a8"
             ],
             [
              0.3333333333333333,
              "#9c179e"
             ],
             [
              0.4444444444444444,
              "#bd3786"
             ],
             [
              0.5555555555555556,
              "#d8576b"
             ],
             [
              0.6666666666666666,
              "#ed7953"
             ],
             [
              0.7777777777777778,
              "#fb9f3a"
             ],
             [
              0.8888888888888888,
              "#fdca26"
             ],
             [
              1,
              "#f0f921"
             ]
            ],
            "type": "histogram2d"
           }
          ],
          "histogram2dcontour": [
           {
            "colorbar": {
             "outlinewidth": 0,
             "ticks": ""
            },
            "colorscale": [
             [
              0,
              "#0d0887"
             ],
             [
              0.1111111111111111,
              "#46039f"
             ],
             [
              0.2222222222222222,
              "#7201a8"
             ],
             [
              0.3333333333333333,
              "#9c179e"
             ],
             [
              0.4444444444444444,
              "#bd3786"
             ],
             [
              0.5555555555555556,
              "#d8576b"
             ],
             [
              0.6666666666666666,
              "#ed7953"
             ],
             [
              0.7777777777777778,
              "#fb9f3a"
             ],
             [
              0.8888888888888888,
              "#fdca26"
             ],
             [
              1,
              "#f0f921"
             ]
            ],
            "type": "histogram2dcontour"
           }
          ],
          "mesh3d": [
           {
            "colorbar": {
             "outlinewidth": 0,
             "ticks": ""
            },
            "type": "mesh3d"
           }
          ],
          "parcoords": [
           {
            "line": {
             "colorbar": {
              "outlinewidth": 0,
              "ticks": ""
             }
            },
            "type": "parcoords"
           }
          ],
          "scatter": [
           {
            "marker": {
             "colorbar": {
              "outlinewidth": 0,
              "ticks": ""
             }
            },
            "type": "scatter"
           }
          ],
          "scatter3d": [
           {
            "line": {
             "colorbar": {
              "outlinewidth": 0,
              "ticks": ""
             }
            },
            "marker": {
             "colorbar": {
              "outlinewidth": 0,
              "ticks": ""
             }
            },
            "type": "scatter3d"
           }
          ],
          "scattercarpet": [
           {
            "marker": {
             "colorbar": {
              "outlinewidth": 0,
              "ticks": ""
             }
            },
            "type": "scattercarpet"
           }
          ],
          "scattergeo": [
           {
            "marker": {
             "colorbar": {
              "outlinewidth": 0,
              "ticks": ""
             }
            },
            "type": "scattergeo"
           }
          ],
          "scattergl": [
           {
            "marker": {
             "colorbar": {
              "outlinewidth": 0,
              "ticks": ""
             }
            },
            "type": "scattergl"
           }
          ],
          "scattermapbox": [
           {
            "marker": {
             "colorbar": {
              "outlinewidth": 0,
              "ticks": ""
             }
            },
            "type": "scattermapbox"
           }
          ],
          "scatterpolar": [
           {
            "marker": {
             "colorbar": {
              "outlinewidth": 0,
              "ticks": ""
             }
            },
            "type": "scatterpolar"
           }
          ],
          "scatterpolargl": [
           {
            "marker": {
             "colorbar": {
              "outlinewidth": 0,
              "ticks": ""
             }
            },
            "type": "scatterpolargl"
           }
          ],
          "scatterternary": [
           {
            "marker": {
             "colorbar": {
              "outlinewidth": 0,
              "ticks": ""
             }
            },
            "type": "scatterternary"
           }
          ],
          "surface": [
           {
            "colorbar": {
             "outlinewidth": 0,
             "ticks": ""
            },
            "colorscale": [
             [
              0,
              "#0d0887"
             ],
             [
              0.1111111111111111,
              "#46039f"
             ],
             [
              0.2222222222222222,
              "#7201a8"
             ],
             [
              0.3333333333333333,
              "#9c179e"
             ],
             [
              0.4444444444444444,
              "#bd3786"
             ],
             [
              0.5555555555555556,
              "#d8576b"
             ],
             [
              0.6666666666666666,
              "#ed7953"
             ],
             [
              0.7777777777777778,
              "#fb9f3a"
             ],
             [
              0.8888888888888888,
              "#fdca26"
             ],
             [
              1,
              "#f0f921"
             ]
            ],
            "type": "surface"
           }
          ],
          "table": [
           {
            "cells": {
             "fill": {
              "color": "#EBF0F8"
             },
             "line": {
              "color": "white"
             }
            },
            "header": {
             "fill": {
              "color": "#C8D4E3"
             },
             "line": {
              "color": "white"
             }
            },
            "type": "table"
           }
          ]
         },
         "layout": {
          "annotationdefaults": {
           "arrowcolor": "#2a3f5f",
           "arrowhead": 0,
           "arrowwidth": 1
          },
          "colorscale": {
           "diverging": [
            [
             0,
             "#8e0152"
            ],
            [
             0.1,
             "#c51b7d"
            ],
            [
             0.2,
             "#de77ae"
            ],
            [
             0.3,
             "#f1b6da"
            ],
            [
             0.4,
             "#fde0ef"
            ],
            [
             0.5,
             "#f7f7f7"
            ],
            [
             0.6,
             "#e6f5d0"
            ],
            [
             0.7,
             "#b8e186"
            ],
            [
             0.8,
             "#7fbc41"
            ],
            [
             0.9,
             "#4d9221"
            ],
            [
             1,
             "#276419"
            ]
           ],
           "sequential": [
            [
             0,
             "#0d0887"
            ],
            [
             0.1111111111111111,
             "#46039f"
            ],
            [
             0.2222222222222222,
             "#7201a8"
            ],
            [
             0.3333333333333333,
             "#9c179e"
            ],
            [
             0.4444444444444444,
             "#bd3786"
            ],
            [
             0.5555555555555556,
             "#d8576b"
            ],
            [
             0.6666666666666666,
             "#ed7953"
            ],
            [
             0.7777777777777778,
             "#fb9f3a"
            ],
            [
             0.8888888888888888,
             "#fdca26"
            ],
            [
             1,
             "#f0f921"
            ]
           ],
           "sequentialminus": [
            [
             0,
             "#0d0887"
            ],
            [
             0.1111111111111111,
             "#46039f"
            ],
            [
             0.2222222222222222,
             "#7201a8"
            ],
            [
             0.3333333333333333,
             "#9c179e"
            ],
            [
             0.4444444444444444,
             "#bd3786"
            ],
            [
             0.5555555555555556,
             "#d8576b"
            ],
            [
             0.6666666666666666,
             "#ed7953"
            ],
            [
             0.7777777777777778,
             "#fb9f3a"
            ],
            [
             0.8888888888888888,
             "#fdca26"
            ],
            [
             1,
             "#f0f921"
            ]
           ]
          },
          "colorway": [
           "#636efa",
           "#EF553B",
           "#00cc96",
           "#ab63fa",
           "#FFA15A",
           "#19d3f3",
           "#FF6692",
           "#B6E880",
           "#FF97FF",
           "#FECB52"
          ],
          "font": {
           "color": "#2a3f5f"
          },
          "geo": {
           "bgcolor": "white",
           "lakecolor": "white",
           "landcolor": "#E5ECF6",
           "showlakes": true,
           "showland": true,
           "subunitcolor": "white"
          },
          "hoverlabel": {
           "align": "left"
          },
          "hovermode": "closest",
          "mapbox": {
           "style": "light"
          },
          "paper_bgcolor": "white",
          "plot_bgcolor": "#E5ECF6",
          "polar": {
           "angularaxis": {
            "gridcolor": "white",
            "linecolor": "white",
            "ticks": ""
           },
           "bgcolor": "#E5ECF6",
           "radialaxis": {
            "gridcolor": "white",
            "linecolor": "white",
            "ticks": ""
           }
          },
          "scene": {
           "xaxis": {
            "backgroundcolor": "#E5ECF6",
            "gridcolor": "white",
            "gridwidth": 2,
            "linecolor": "white",
            "showbackground": true,
            "ticks": "",
            "zerolinecolor": "white"
           },
           "yaxis": {
            "backgroundcolor": "#E5ECF6",
            "gridcolor": "white",
            "gridwidth": 2,
            "linecolor": "white",
            "showbackground": true,
            "ticks": "",
            "zerolinecolor": "white"
           },
           "zaxis": {
            "backgroundcolor": "#E5ECF6",
            "gridcolor": "white",
            "gridwidth": 2,
            "linecolor": "white",
            "showbackground": true,
            "ticks": "",
            "zerolinecolor": "white"
           }
          },
          "shapedefaults": {
           "line": {
            "color": "#2a3f5f"
           }
          },
          "ternary": {
           "aaxis": {
            "gridcolor": "white",
            "linecolor": "white",
            "ticks": ""
           },
           "baxis": {
            "gridcolor": "white",
            "linecolor": "white",
            "ticks": ""
           },
           "bgcolor": "#E5ECF6",
           "caxis": {
            "gridcolor": "white",
            "linecolor": "white",
            "ticks": ""
           }
          },
          "title": {
           "x": 0.05
          },
          "xaxis": {
           "automargin": true,
           "gridcolor": "white",
           "linecolor": "white",
           "ticks": "",
           "zerolinecolor": "white",
           "zerolinewidth": 2
          },
          "yaxis": {
           "automargin": true,
           "gridcolor": "white",
           "linecolor": "white",
           "ticks": "",
           "zerolinecolor": "white",
           "zerolinewidth": 2
          }
         }
        },
        "title": {
         "text": "Radius of Gyration"
        },
        "xaxis": {
         "title": {
          "text": "Time (ps)"
         }
        },
        "yaxis": {
         "title": {
          "text": "Rgyr (nm)"
         }
        }
       }
      },
      "text/html": [
       "<div>\n",
       "        \n",
       "        \n",
       "            <div id=\"f7577eda-1f67-4703-992f-92e922897537\" class=\"plotly-graph-div\" style=\"height:525px; width:100%;\"></div>\n",
       "            <script type=\"text/javascript\">\n",
       "                require([\"plotly\"], function(Plotly) {\n",
       "                    window.PLOTLYENV=window.PLOTLYENV || {};\n",
       "                    \n",
       "                if (document.getElementById(\"f7577eda-1f67-4703-992f-92e922897537\")) {\n",
       "                    Plotly.newPlot(\n",
       "                        'f7577eda-1f67-4703-992f-92e922897537',\n",
       "                        [{\"type\": \"scatter\", \"x\": [0.0, 10.0, 20.0, 30.0, 40.0, 50.0], \"y\": [0.0322569, 0.0739825, 0.057876, 0.0547859, 0.0634828, 0.0690862]}],\n",
       "                        {\"template\": {\"data\": {\"bar\": [{\"error_x\": {\"color\": \"#2a3f5f\"}, \"error_y\": {\"color\": \"#2a3f5f\"}, \"marker\": {\"line\": {\"color\": \"#E5ECF6\", \"width\": 0.5}}, \"type\": \"bar\"}], \"barpolar\": [{\"marker\": {\"line\": {\"color\": \"#E5ECF6\", \"width\": 0.5}}, \"type\": \"barpolar\"}], \"carpet\": [{\"aaxis\": {\"endlinecolor\": \"#2a3f5f\", \"gridcolor\": \"white\", \"linecolor\": \"white\", \"minorgridcolor\": \"white\", \"startlinecolor\": \"#2a3f5f\"}, \"baxis\": {\"endlinecolor\": \"#2a3f5f\", \"gridcolor\": \"white\", \"linecolor\": \"white\", \"minorgridcolor\": \"white\", \"startlinecolor\": \"#2a3f5f\"}, \"type\": \"carpet\"}], \"choropleth\": [{\"colorbar\": {\"outlinewidth\": 0, \"ticks\": \"\"}, \"type\": \"choropleth\"}], \"contour\": [{\"colorbar\": {\"outlinewidth\": 0, \"ticks\": \"\"}, \"colorscale\": [[0.0, \"#0d0887\"], [0.1111111111111111, \"#46039f\"], [0.2222222222222222, \"#7201a8\"], [0.3333333333333333, \"#9c179e\"], [0.4444444444444444, \"#bd3786\"], [0.5555555555555556, \"#d8576b\"], [0.6666666666666666, \"#ed7953\"], [0.7777777777777778, \"#fb9f3a\"], [0.8888888888888888, \"#fdca26\"], [1.0, \"#f0f921\"]], \"type\": \"contour\"}], \"contourcarpet\": [{\"colorbar\": {\"outlinewidth\": 0, \"ticks\": \"\"}, \"type\": \"contourcarpet\"}], \"heatmap\": [{\"colorbar\": {\"outlinewidth\": 0, \"ticks\": \"\"}, \"colorscale\": [[0.0, \"#0d0887\"], [0.1111111111111111, \"#46039f\"], [0.2222222222222222, \"#7201a8\"], [0.3333333333333333, \"#9c179e\"], [0.4444444444444444, \"#bd3786\"], [0.5555555555555556, \"#d8576b\"], [0.6666666666666666, \"#ed7953\"], [0.7777777777777778, \"#fb9f3a\"], [0.8888888888888888, \"#fdca26\"], [1.0, \"#f0f921\"]], \"type\": \"heatmap\"}], \"heatmapgl\": [{\"colorbar\": {\"outlinewidth\": 0, \"ticks\": \"\"}, \"colorscale\": [[0.0, \"#0d0887\"], [0.1111111111111111, \"#46039f\"], [0.2222222222222222, \"#7201a8\"], [0.3333333333333333, \"#9c179e\"], [0.4444444444444444, \"#bd3786\"], [0.5555555555555556, \"#d8576b\"], [0.6666666666666666, \"#ed7953\"], [0.7777777777777778, \"#fb9f3a\"], [0.8888888888888888, \"#fdca26\"], [1.0, \"#f0f921\"]], \"type\": \"heatmapgl\"}], \"histogram\": [{\"marker\": {\"colorbar\": {\"outlinewidth\": 0, \"ticks\": \"\"}}, \"type\": \"histogram\"}], \"histogram2d\": [{\"colorbar\": {\"outlinewidth\": 0, \"ticks\": \"\"}, \"colorscale\": [[0.0, \"#0d0887\"], [0.1111111111111111, \"#46039f\"], [0.2222222222222222, \"#7201a8\"], [0.3333333333333333, \"#9c179e\"], [0.4444444444444444, \"#bd3786\"], [0.5555555555555556, \"#d8576b\"], [0.6666666666666666, \"#ed7953\"], [0.7777777777777778, \"#fb9f3a\"], [0.8888888888888888, \"#fdca26\"], [1.0, \"#f0f921\"]], \"type\": \"histogram2d\"}], \"histogram2dcontour\": [{\"colorbar\": {\"outlinewidth\": 0, \"ticks\": \"\"}, \"colorscale\": [[0.0, \"#0d0887\"], [0.1111111111111111, \"#46039f\"], [0.2222222222222222, \"#7201a8\"], [0.3333333333333333, \"#9c179e\"], [0.4444444444444444, \"#bd3786\"], [0.5555555555555556, \"#d8576b\"], [0.6666666666666666, \"#ed7953\"], [0.7777777777777778, \"#fb9f3a\"], [0.8888888888888888, \"#fdca26\"], [1.0, \"#f0f921\"]], \"type\": \"histogram2dcontour\"}], \"mesh3d\": [{\"colorbar\": {\"outlinewidth\": 0, \"ticks\": \"\"}, \"type\": \"mesh3d\"}], \"parcoords\": [{\"line\": {\"colorbar\": {\"outlinewidth\": 0, \"ticks\": \"\"}}, \"type\": \"parcoords\"}], \"scatter\": [{\"marker\": {\"colorbar\": {\"outlinewidth\": 0, \"ticks\": \"\"}}, \"type\": \"scatter\"}], \"scatter3d\": [{\"line\": {\"colorbar\": {\"outlinewidth\": 0, \"ticks\": \"\"}}, \"marker\": {\"colorbar\": {\"outlinewidth\": 0, \"ticks\": \"\"}}, \"type\": \"scatter3d\"}], \"scattercarpet\": [{\"marker\": {\"colorbar\": {\"outlinewidth\": 0, \"ticks\": \"\"}}, \"type\": \"scattercarpet\"}], \"scattergeo\": [{\"marker\": {\"colorbar\": {\"outlinewidth\": 0, \"ticks\": \"\"}}, \"type\": \"scattergeo\"}], \"scattergl\": [{\"marker\": {\"colorbar\": {\"outlinewidth\": 0, \"ticks\": \"\"}}, \"type\": \"scattergl\"}], \"scattermapbox\": [{\"marker\": {\"colorbar\": {\"outlinewidth\": 0, \"ticks\": \"\"}}, \"type\": \"scattermapbox\"}], \"scatterpolar\": [{\"marker\": {\"colorbar\": {\"outlinewidth\": 0, \"ticks\": \"\"}}, \"type\": \"scatterpolar\"}], \"scatterpolargl\": [{\"marker\": {\"colorbar\": {\"outlinewidth\": 0, \"ticks\": \"\"}}, \"type\": \"scatterpolargl\"}], \"scatterternary\": [{\"marker\": {\"colorbar\": {\"outlinewidth\": 0, \"ticks\": \"\"}}, \"type\": \"scatterternary\"}], \"surface\": [{\"colorbar\": {\"outlinewidth\": 0, \"ticks\": \"\"}, \"colorscale\": [[0.0, \"#0d0887\"], [0.1111111111111111, \"#46039f\"], [0.2222222222222222, \"#7201a8\"], [0.3333333333333333, \"#9c179e\"], [0.4444444444444444, \"#bd3786\"], [0.5555555555555556, \"#d8576b\"], [0.6666666666666666, \"#ed7953\"], [0.7777777777777778, \"#fb9f3a\"], [0.8888888888888888, \"#fdca26\"], [1.0, \"#f0f921\"]], \"type\": \"surface\"}], \"table\": [{\"cells\": {\"fill\": {\"color\": \"#EBF0F8\"}, \"line\": {\"color\": \"white\"}}, \"header\": {\"fill\": {\"color\": \"#C8D4E3\"}, \"line\": {\"color\": \"white\"}}, \"type\": \"table\"}]}, \"layout\": {\"annotationdefaults\": {\"arrowcolor\": \"#2a3f5f\", \"arrowhead\": 0, \"arrowwidth\": 1}, \"colorscale\": {\"diverging\": [[0, \"#8e0152\"], [0.1, \"#c51b7d\"], [0.2, \"#de77ae\"], [0.3, \"#f1b6da\"], [0.4, \"#fde0ef\"], [0.5, \"#f7f7f7\"], [0.6, \"#e6f5d0\"], [0.7, \"#b8e186\"], [0.8, \"#7fbc41\"], [0.9, \"#4d9221\"], [1, \"#276419\"]], \"sequential\": [[0.0, \"#0d0887\"], [0.1111111111111111, \"#46039f\"], [0.2222222222222222, \"#7201a8\"], [0.3333333333333333, \"#9c179e\"], [0.4444444444444444, \"#bd3786\"], [0.5555555555555556, \"#d8576b\"], [0.6666666666666666, \"#ed7953\"], [0.7777777777777778, \"#fb9f3a\"], [0.8888888888888888, \"#fdca26\"], [1.0, \"#f0f921\"]], \"sequentialminus\": [[0.0, \"#0d0887\"], [0.1111111111111111, \"#46039f\"], [0.2222222222222222, \"#7201a8\"], [0.3333333333333333, \"#9c179e\"], [0.4444444444444444, \"#bd3786\"], [0.5555555555555556, \"#d8576b\"], [0.6666666666666666, \"#ed7953\"], [0.7777777777777778, \"#fb9f3a\"], [0.8888888888888888, \"#fdca26\"], [1.0, \"#f0f921\"]]}, \"colorway\": [\"#636efa\", \"#EF553B\", \"#00cc96\", \"#ab63fa\", \"#FFA15A\", \"#19d3f3\", \"#FF6692\", \"#B6E880\", \"#FF97FF\", \"#FECB52\"], \"font\": {\"color\": \"#2a3f5f\"}, \"geo\": {\"bgcolor\": \"white\", \"lakecolor\": \"white\", \"landcolor\": \"#E5ECF6\", \"showlakes\": true, \"showland\": true, \"subunitcolor\": \"white\"}, \"hoverlabel\": {\"align\": \"left\"}, \"hovermode\": \"closest\", \"mapbox\": {\"style\": \"light\"}, \"paper_bgcolor\": \"white\", \"plot_bgcolor\": \"#E5ECF6\", \"polar\": {\"angularaxis\": {\"gridcolor\": \"white\", \"linecolor\": \"white\", \"ticks\": \"\"}, \"bgcolor\": \"#E5ECF6\", \"radialaxis\": {\"gridcolor\": \"white\", \"linecolor\": \"white\", \"ticks\": \"\"}}, \"scene\": {\"xaxis\": {\"backgroundcolor\": \"#E5ECF6\", \"gridcolor\": \"white\", \"gridwidth\": 2, \"linecolor\": \"white\", \"showbackground\": true, \"ticks\": \"\", \"zerolinecolor\": \"white\"}, \"yaxis\": {\"backgroundcolor\": \"#E5ECF6\", \"gridcolor\": \"white\", \"gridwidth\": 2, \"linecolor\": \"white\", \"showbackground\": true, \"ticks\": \"\", \"zerolinecolor\": \"white\"}, \"zaxis\": {\"backgroundcolor\": \"#E5ECF6\", \"gridcolor\": \"white\", \"gridwidth\": 2, \"linecolor\": \"white\", \"showbackground\": true, \"ticks\": \"\", \"zerolinecolor\": \"white\"}}, \"shapedefaults\": {\"line\": {\"color\": \"#2a3f5f\"}}, \"ternary\": {\"aaxis\": {\"gridcolor\": \"white\", \"linecolor\": \"white\", \"ticks\": \"\"}, \"baxis\": {\"gridcolor\": \"white\", \"linecolor\": \"white\", \"ticks\": \"\"}, \"bgcolor\": \"#E5ECF6\", \"caxis\": {\"gridcolor\": \"white\", \"linecolor\": \"white\", \"ticks\": \"\"}}, \"title\": {\"x\": 0.05}, \"xaxis\": {\"automargin\": true, \"gridcolor\": \"white\", \"linecolor\": \"white\", \"ticks\": \"\", \"zerolinecolor\": \"white\", \"zerolinewidth\": 2}, \"yaxis\": {\"automargin\": true, \"gridcolor\": \"white\", \"linecolor\": \"white\", \"ticks\": \"\", \"zerolinecolor\": \"white\", \"zerolinewidth\": 2}}}, \"title\": {\"text\": \"Radius of Gyration\"}, \"xaxis\": {\"title\": {\"text\": \"Time (ps)\"}}, \"yaxis\": {\"title\": {\"text\": \"Rgyr (nm)\"}}},\n",
       "                        {\"responsive\": true}\n",
       "                    ).then(function(){\n",
       "                            \n",
       "var gd = document.getElementById('f7577eda-1f67-4703-992f-92e922897537');\n",
       "var x = new MutationObserver(function (mutations, observer) {{\n",
       "        var display = window.getComputedStyle(gd).display;\n",
       "        if (!display || display === 'none') {{\n",
       "            console.log([gd, 'removed!']);\n",
       "            Plotly.purge(gd);\n",
       "            observer.disconnect();\n",
       "        }}\n",
       "}});\n",
       "\n",
       "// Listen for the removal of the full notebook cells\n",
       "var notebookContainer = gd.closest('#notebook-container');\n",
       "if (notebookContainer) {{\n",
       "    x.observe(notebookContainer, {childList: true});\n",
       "}}\n",
       "\n",
       "// Listen for the clearing of the current output cell\n",
       "var outputEl = gd.closest('.output');\n",
       "if (outputEl) {{\n",
       "    x.observe(outputEl, {childList: true});\n",
       "}}\n",
       "\n",
       "                        })\n",
       "                };\n",
       "                });\n",
       "            </script>\n",
       "        </div>"
      ]
     },
     "metadata": {},
     "output_type": "display_data"
    }
   ],
   "source": [
    "import plotly\n",
    "import plotly.graph_objs as go\n",
    "\n",
    "# Read Rgyr data from file \n",
    "with open(output_rgyr,'r') as rgyr_file:\n",
    "    x,y = map(\n",
    "        list,\n",
    "        zip(*[\n",
    "            (float(line.split()[0]),float(line.split()[1]))\n",
    "            for line in rgyr_file \n",
    "            if not line.startswith((\"#\",\"@\")) \n",
    "        ])\n",
    "    )\n",
    "\n",
    "plotly.offline.init_notebook_mode(connected=True)\n",
    "\n",
    "fig = ({\n",
    "    \"data\": [go.Scatter(x=x, y=y)],\n",
    "    \"layout\": go.Layout(title=\"Radius of Gyration\",\n",
    "                        xaxis=dict(title = \"Time (ps)\"),\n",
    "                        yaxis=dict(title = \"Rgyr (nm)\")\n",
    "                       )\n",
    "})\n",
    "\n",
    "plotly.offline.iplot(fig)"
   ]
  },
  {
   "cell_type": "markdown",
   "metadata": {},
   "source": [
    "<a id=\"post\"></a>\n",
    "***\n",
    "## Post-processing and Visualizing resulting 3D trajectory\n",
    "Post-processing and Visualizing the **protein-ligand complex system** MD setup **resulting trajectory** using **NGL**\n",
    "- [Step 1](#ppStep1): *Imaging* the resulting trajectory, **stripping out water molecules and ions** and **correcting periodicity issues**.\n",
    "- [Step 2](#ppStep2): Generating a *dry* structure, **removing water molecules and ions** from the final snapshot of the MD setup pipeline.\n",
    "- [Step 3](#ppStep3): Visualizing the *imaged* trajectory using the *dry* structure as a **topology**. \n",
    "***\n",
    "**Building Blocks** used:\n",
    " - [GMXImage](https://biobb-analysis.readthedocs.io/en/latest/gromacs.html#module-gromacs.gmx_image) from **biobb_analysis.gromacs.gmx_image** \n",
    " - [GMXTrjConvStr](https://biobb-analysis.readthedocs.io/en/latest/gromacs.html#module-gromacs.gmx_trjconv_str) from **biobb_analysis.gromacs.gmx_trjconv_str** \n",
    "***"
   ]
  },
  {
   "cell_type": "markdown",
   "metadata": {},
   "source": [
    "<a id=\"ppStep1\"></a>\n",
    "### Step 1: *Imaging* the resulting trajectory.\n",
    "Stripping out **water molecules and ions** and **correcting periodicity issues**  "
   ]
  },
  {
   "cell_type": "code",
   "execution_count": 41,
   "metadata": {},
   "outputs": [
    {
     "name": "stderr",
     "output_type": "stream",
     "text": [
      "2019-10-16 12:35:59,689 [MainThread  ] [INFO ]  echo \"Protein_Other\" \"Protein_Other\" | gmx trjconv -f /home/gbayarri_local/projects/BioBB/tutorials/biobb_wf_protein-complex_md_setup/biobb_wf_protein-complex_md_setup/notebooks/3HTB_JZ4_md.trr -s /home/gbayarri_local/projects/BioBB/tutorials/biobb_wf_protein-complex_md_setup/biobb_wf_protein-complex_md_setup/notebooks/3HTB_JZ4_gppmd.tpr -fit none -o 3HTB_imaged_traj.trr -n /home/gbayarri_local/projects/BioBB/tutorials/biobb_wf_protein-complex_md_setup/biobb_wf_protein-complex_md_setup/notebooks/3HTB_JZ4_index.ndx -center -pbc mol -ur compact\n",
      "\n",
      "2019-10-16 12:35:59,690 [MainThread  ] [INFO ]  Exit code 0\n",
      "\n",
      "2019-10-16 12:35:59,691 [MainThread  ] [INFO ]  Note that major changes are planned in future for trjconv, to improve usability and utility.Select group for centering\n",
      "Selected 24: 'Protein_Other'\n",
      "Select group for output\n",
      "Selected 24: 'Protein_Other'\n",
      "\n",
      "2019-10-16 12:35:59,692 [MainThread  ] [INFO ]                       :-) GROMACS - gmx trjconv, 2019.1 (-:\n",
      "\n",
      "                            GROMACS is written by:\n",
      "     Emile Apol      Rossen Apostolov      Paul Bauer     Herman J.C. Berendsen\n",
      "    Par Bjelkmar      Christian Blau   Viacheslav Bolnykh     Kevin Boyd    \n",
      " Aldert van Buuren   Rudi van Drunen     Anton Feenstra       Alan Gray     \n",
      "  Gerrit Groenhof     Anca Hamuraru    Vincent Hindriksen  M. Eric Irrgang  \n",
      "  Aleksei Iupinov   Christoph Junghans     Joe Jordan     Dimitrios Karkoulis\n",
      "    Peter Kasson        Jiri Kraus      Carsten Kutzner      Per Larsson    \n",
      "  Justin A. Lemkul    Viveca Lindahl    Magnus Lundborg     Erik Marklund   \n",
      "    Pascal Merz     Pieter Meulenhoff    Teemu Murtola       Szilard Pall   \n",
      "    Sander Pronk      Roland Schulz      Michael Shirts    Alexey Shvetsov  \n",
      "   Alfons Sijbers     Peter Tieleman      Jon Vincent      Teemu Virolainen \n",
      " Christian Wennberg    Maarten Wolf   \n",
      "                           and the project leaders:\n",
      "        Mark Abraham, Berk Hess, Erik Lindahl, and David van der Spoel\n",
      "\n",
      "Copyright (c) 1991-2000, University of Groningen, The Netherlands.\n",
      "Copyright (c) 2001-2018, The GROMACS development team at\n",
      "Uppsala University, Stockholm University and\n",
      "the Royal Institute of Technology, Sweden.\n",
      "check out http://www.gromacs.org for more information.\n",
      "\n",
      "GROMACS is free software; you can redistribute it and/or modify it\n",
      "under the terms of the GNU Lesser General Public License\n",
      "as published by the Free Software Foundation; either version 2.1\n",
      "of the License, or (at your option) any later version.\n",
      "\n",
      "GROMACS:      gmx trjconv, version 2019.1\n",
      "Executable:   /anaconda3/envs/biobb_dev/bin/gmx\n",
      "Data prefix:  /anaconda3/envs/biobb_dev\n",
      "Working dir:  /home/gbayarri_local/projects/BioBB/tutorials/biobb_wf_protein-complex_md_setup/biobb_wf_protein-complex_md_setup/notebooks\n",
      "Command line:\n",
      "  gmx trjconv -f /home/gbayarri_local/projects/BioBB/tutorials/biobb_wf_protein-complex_md_setup/biobb_wf_protein-complex_md_setup/notebooks/3HTB_JZ4_md.trr -s /home/gbayarri_local/projects/BioBB/tutorials/biobb_wf_protein-complex_md_setup/biobb_wf_protein-complex_md_setup/notebooks/3HTB_JZ4_gppmd.tpr -fit none -o 3HTB_imaged_traj.trr -n /home/gbayarri_local/projects/BioBB/tutorials/biobb_wf_protein-complex_md_setup/biobb_wf_protein-complex_md_setup/notebooks/3HTB_JZ4_index.ndx -center -pbc mol -ur compact\n",
      "\n",
      "Will write trr: Trajectory in portable xdr format\n",
      "Reading file /home/gbayarri_local/projects/BioBB/tutorials/biobb_wf_protein-complex_md_setup/biobb_wf_protein-complex_md_setup/notebooks/3HTB_JZ4_gppmd.tpr, VERSION 2019.1 (single precision)\n",
      "Reading file /home/gbayarri_local/projects/BioBB/tutorials/biobb_wf_protein-complex_md_setup/biobb_wf_protein-complex_md_setup/notebooks/3HTB_JZ4_gppmd.tpr, VERSION 2019.1 (single precision)\n",
      "Group     0 (         System) has 31177 elements\n",
      "Group     1 (        Protein) has  2614 elements\n",
      "Group     2 (      Protein-H) has  1301 elements\n",
      "Group     3 (        C-alpha) has   163 elements\n",
      "Group     4 (       Backbone) has   489 elements\n",
      "Group     5 (      MainChain) has   653 elements\n",
      "Group     6 (   MainChain+Cb) has   805 elements\n",
      "Group     7 (    MainChain+H) has   815 elements\n",
      "Group     8 (      SideChain) has  1799 elements\n",
      "Group     9 (    SideChain-H) has   648 elements\n",
      "Group    10 (    Prot-Masses) has  2614 elements\n",
      "Group    11 (    non-Protein) has 28563 elements\n",
      "Group    12 (          Other) has    22 elements\n",
      "Group    13 (            JZ4) has    22 elements\n",
      "Group    14 (             NA) has    10 elements\n",
      "Group    15 (             CL) has    16 elements\n",
      "Group    16 (          Water) has 28515 elements\n",
      "Group    17 (            SOL) has 28515 elements\n",
      "Group    18 (      non-Water) has  2662 elements\n",
      "Group    19 (            Ion) has    26 elements\n",
      "Group    20 (            JZ4) has    22 elements\n",
      "Group    21 (             NA) has    10 elements\n",
      "Group    22 (             CL) has    16 elements\n",
      "Group    23 ( Water_and_ions) has 28541 elements\n",
      "Group    24 (  Protein_Other) has  2636 elements\n",
      "Select a group: Group     0 (         System) has 31177 elements\n",
      "Group     1 (        Protein) has  2614 elements\n",
      "Group     2 (      Protein-H) has  1301 elements\n",
      "Group     3 (        C-alpha) has   163 elements\n",
      "Group     4 (       Backbone) has   489 elements\n",
      "Group     5 (      MainChain) has   653 elements\n",
      "Group     6 (   MainChain+Cb) has   805 elements\n",
      "Group     7 (    MainChain+H) has   815 elements\n",
      "Group     8 (      SideChain) has  1799 elements\n",
      "Group     9 (    SideChain-H) has   648 elements\n",
      "Group    10 (    Prot-Masses) has  2614 elements\n",
      "Group    11 (    non-Protein) has 28563 elements\n",
      "Group    12 (          Other) has    22 elements\n",
      "Group    13 (            JZ4) has    22 elements\n",
      "Group    14 (             NA) has    10 elements\n",
      "Group    15 (             CL) has    16 elements\n",
      "Group    16 (          Water) has 28515 elements\n",
      "Group    17 (            SOL) has 28515 elements\n",
      "Group    18 (      non-Water) has  2662 elements\n",
      "Group    19 (            Ion) has    26 elements\n",
      "Group    20 (            JZ4) has    22 elements\n",
      "Group    21 (             NA) has    10 elements\n",
      "Group    22 (             CL) has    16 elements\n",
      "Group    23 ( Water_and_ions) has 28541 elements\n",
      "Group    24 (  Protein_Other) has  2636 elements\n",
      "Select a group: trr version: GMX_trn_file (single precision)\n",
      "Reading frame       0 time    0.000   \n",
      "Back Off! I just backed up 3HTB_imaged_traj.trr to ./#3HTB_imaged_traj.trr.1#\n",
      "Last frame          5 time   50.000    ->  frame      5 time   50.000      \n",
      "\n",
      "\n",
      "GROMACS reminds you: \"Live for Liposuction\" (Robbie Williams)\n",
      "\n",
      "\n"
     ]
    },
    {
     "data": {
      "text/plain": [
       "0"
      ]
     },
     "execution_count": 41,
     "metadata": {},
     "output_type": "execute_result"
    }
   ],
   "source": [
    "# GMXImage: \"Imaging\" the resulting trajectory\n",
    "#           Removing water molecules and ions from the resulting structure\n",
    "from biobb_analysis.gromacs.gmx_image import GMXImage\n",
    "\n",
    "# Create prop dict and inputs/outputs\n",
    "output_imaged_traj = pdbCode+'_imaged_traj.trr'\n",
    "prop = {\n",
    "    'center_selection':  'Protein_Other',\n",
    "    'output_selection': 'Protein_Other',\n",
    "    'pbc' : 'mol',\n",
    "    'center' : True\n",
    "}\n",
    "\n",
    "# Create and launch bb\n",
    "GMXImage(input_traj_path=output_md_trr,\n",
    "         input_top_path=output_gppmd_tpr,\n",
    "         input_index_path=output_complex_ndx,\n",
    "         output_traj_path=output_imaged_traj, \n",
    "          properties=prop).launch()"
   ]
  },
  {
   "cell_type": "markdown",
   "metadata": {},
   "source": [
    "<a id=\"ppStep2\"></a>\n",
    "### Step 2: Generating the output *dry* structure.\n",
    "**Removing water molecules and ions** from the resulting structure"
   ]
  },
  {
   "cell_type": "code",
   "execution_count": 42,
   "metadata": {},
   "outputs": [
    {
     "name": "stderr",
     "output_type": "stream",
     "text": [
      "2019-10-16 12:36:03,423 [MainThread  ] [INFO ]  echo \"Protein_Other\" | gmx trjconv -f /home/gbayarri_local/projects/BioBB/tutorials/biobb_wf_protein-complex_md_setup/biobb_wf_protein-complex_md_setup/notebooks/3HTB_JZ4_md.gro -s /home/gbayarri_local/projects/BioBB/tutorials/biobb_wf_protein-complex_md_setup/biobb_wf_protein-complex_md_setup/notebooks/3HTB_JZ4_gppmd.tpr -o 3HTB_md_dry.gro -n /home/gbayarri_local/projects/BioBB/tutorials/biobb_wf_protein-complex_md_setup/biobb_wf_protein-complex_md_setup/notebooks/3HTB_JZ4_index.ndx\n",
      "\n",
      "2019-10-16 12:36:03,425 [MainThread  ] [INFO ]  Exit code 0\n",
      "\n",
      "2019-10-16 12:36:03,426 [MainThread  ] [INFO ]  Note that major changes are planned in future for trjconv, to improve usability and utility.Select group for output\n",
      "Selected 24: 'Protein_Other'\n",
      "\n",
      "2019-10-16 12:36:03,427 [MainThread  ] [INFO ]                       :-) GROMACS - gmx trjconv, 2019.1 (-:\n",
      "\n",
      "                            GROMACS is written by:\n",
      "     Emile Apol      Rossen Apostolov      Paul Bauer     Herman J.C. Berendsen\n",
      "    Par Bjelkmar      Christian Blau   Viacheslav Bolnykh     Kevin Boyd    \n",
      " Aldert van Buuren   Rudi van Drunen     Anton Feenstra       Alan Gray     \n",
      "  Gerrit Groenhof     Anca Hamuraru    Vincent Hindriksen  M. Eric Irrgang  \n",
      "  Aleksei Iupinov   Christoph Junghans     Joe Jordan     Dimitrios Karkoulis\n",
      "    Peter Kasson        Jiri Kraus      Carsten Kutzner      Per Larsson    \n",
      "  Justin A. Lemkul    Viveca Lindahl    Magnus Lundborg     Erik Marklund   \n",
      "    Pascal Merz     Pieter Meulenhoff    Teemu Murtola       Szilard Pall   \n",
      "    Sander Pronk      Roland Schulz      Michael Shirts    Alexey Shvetsov  \n",
      "   Alfons Sijbers     Peter Tieleman      Jon Vincent      Teemu Virolainen \n",
      " Christian Wennberg    Maarten Wolf   \n",
      "                           and the project leaders:\n",
      "        Mark Abraham, Berk Hess, Erik Lindahl, and David van der Spoel\n",
      "\n",
      "Copyright (c) 1991-2000, University of Groningen, The Netherlands.\n",
      "Copyright (c) 2001-2018, The GROMACS development team at\n",
      "Uppsala University, Stockholm University and\n",
      "the Royal Institute of Technology, Sweden.\n",
      "check out http://www.gromacs.org for more information.\n",
      "\n",
      "GROMACS is free software; you can redistribute it and/or modify it\n",
      "under the terms of the GNU Lesser General Public License\n",
      "as published by the Free Software Foundation; either version 2.1\n",
      "of the License, or (at your option) any later version.\n",
      "\n",
      "GROMACS:      gmx trjconv, version 2019.1\n",
      "Executable:   /anaconda3/envs/biobb_dev/bin/gmx\n",
      "Data prefix:  /anaconda3/envs/biobb_dev\n",
      "Working dir:  /home/gbayarri_local/projects/BioBB/tutorials/biobb_wf_protein-complex_md_setup/biobb_wf_protein-complex_md_setup/notebooks\n",
      "Command line:\n",
      "  gmx trjconv -f /home/gbayarri_local/projects/BioBB/tutorials/biobb_wf_protein-complex_md_setup/biobb_wf_protein-complex_md_setup/notebooks/3HTB_JZ4_md.gro -s /home/gbayarri_local/projects/BioBB/tutorials/biobb_wf_protein-complex_md_setup/biobb_wf_protein-complex_md_setup/notebooks/3HTB_JZ4_gppmd.tpr -o 3HTB_md_dry.gro -n /home/gbayarri_local/projects/BioBB/tutorials/biobb_wf_protein-complex_md_setup/biobb_wf_protein-complex_md_setup/notebooks/3HTB_JZ4_index.ndx\n",
      "\n",
      "Will write gro: Coordinate file in Gromos-87 format\n",
      "Reading file /home/gbayarri_local/projects/BioBB/tutorials/biobb_wf_protein-complex_md_setup/biobb_wf_protein-complex_md_setup/notebooks/3HTB_JZ4_gppmd.tpr, VERSION 2019.1 (single precision)\n",
      "Reading file /home/gbayarri_local/projects/BioBB/tutorials/biobb_wf_protein-complex_md_setup/biobb_wf_protein-complex_md_setup/notebooks/3HTB_JZ4_gppmd.tpr, VERSION 2019.1 (single precision)\n",
      "Group     0 (         System) has 31177 elements\n",
      "Group     1 (        Protein) has  2614 elements\n",
      "Group     2 (      Protein-H) has  1301 elements\n",
      "Group     3 (        C-alpha) has   163 elements\n",
      "Group     4 (       Backbone) has   489 elements\n",
      "Group     5 (      MainChain) has   653 elements\n",
      "Group     6 (   MainChain+Cb) has   805 elements\n",
      "Group     7 (    MainChain+H) has   815 elements\n",
      "Group     8 (      SideChain) has  1799 elements\n",
      "Group     9 (    SideChain-H) has   648 elements\n",
      "Group    10 (    Prot-Masses) has  2614 elements\n",
      "Group    11 (    non-Protein) has 28563 elements\n",
      "Group    12 (          Other) has    22 elements\n",
      "Group    13 (            JZ4) has    22 elements\n",
      "Group    14 (             NA) has    10 elements\n",
      "Group    15 (             CL) has    16 elements\n",
      "Group    16 (          Water) has 28515 elements\n",
      "Group    17 (            SOL) has 28515 elements\n",
      "Group    18 (      non-Water) has  2662 elements\n",
      "Group    19 (            Ion) has    26 elements\n",
      "Group    20 (            JZ4) has    22 elements\n",
      "Group    21 (             NA) has    10 elements\n",
      "Group    22 (             CL) has    16 elements\n",
      "Group    23 ( Water_and_ions) has 28541 elements\n",
      "Group    24 (  Protein_Other) has  2636 elements\n",
      "Select a group: Reading frames from gro file 'Protein in water', 31177 atoms.\n",
      "Reading frame       0 time    0.000   \n",
      "Precision of /home/gbayarri_local/projects/BioBB/tutorials/biobb_wf_protein-complex_md_setup/biobb_wf_protein-complex_md_setup/notebooks/3HTB_JZ4_md.gro is 0.001 (nm)\n",
      "\n",
      "Back Off! I just backed up 3HTB_md_dry.gro to ./#3HTB_md_dry.gro.1#\n",
      "Last frame          0 time    0.000   \n",
      "\n",
      "\n",
      "GROMACS reminds you: \"Your theory is crazy, but it's not crazy enough to be true.\" (Niels Bohr)\n",
      "\n",
      "\n"
     ]
    },
    {
     "data": {
      "text/plain": [
       "0"
      ]
     },
     "execution_count": 42,
     "metadata": {},
     "output_type": "execute_result"
    }
   ],
   "source": [
    "# GMXTrjConvStr: Converting and/or manipulating a structure\n",
    "#                Removing water molecules and ions from the resulting structure\n",
    "#                The \"dry\" structure will be used as a topology to visualize \n",
    "#                the \"imaged dry\" trajectory generated in the previous step.\n",
    "from biobb_analysis.gromacs.gmx_trjconv_str import GMXTrjConvStr\n",
    "\n",
    "# Create prop dict and inputs/outputs\n",
    "output_dry_gro = pdbCode+'_md_dry.gro'\n",
    "prop = {\n",
    "    'selection':  'Protein_Other'\n",
    "}\n",
    "\n",
    "# Create and launch bb\n",
    "GMXTrjConvStr(input_structure_path=output_md_gro,\n",
    "         input_top_path=output_gppmd_tpr,\n",
    "         input_index_path=output_complex_ndx,\n",
    "         output_str_path=output_dry_gro, \n",
    "          properties=prop).launch()"
   ]
  },
  {
   "cell_type": "markdown",
   "metadata": {},
   "source": [
    "<a id=\"ppStep3\"></a>\n",
    "### Step 3: Visualizing the generated dehydrated trajectory.\n",
    "Using the **imaged trajectory** (output of the [Post-processing step 1](#ppStep1)) with the **dry structure** (output of the [Post-processing step 2](#ppStep2)) as a topology."
   ]
  },
  {
   "cell_type": "code",
   "execution_count": null,
   "metadata": {},
   "outputs": [],
   "source": [
    "# Show trajectory\n",
    "#import simpletraj\n",
    "nglview.show_simpletraj(nglview.SimpletrajTrajectory(output_imaged_traj, output_dry_gro), gui=True)"
   ]
  },
  {
   "cell_type": "markdown",
   "metadata": {},
   "source": [
    "<a id=\"output\"></a>\n",
    "## Output files\n",
    "\n",
    "Important **Output files** generated:\n",
    " - {{output_md_gro}}: **Final structure** (snapshot) of the MD setup protocol.\n",
    " - {{output_md_trr}}: **Final trajectory** of the MD setup protocol.\n",
    " - {{output_md_cpt}}: **Final checkpoint file**, with information about the state of the simulation. It can be used to **restart** or **continue** a MD simulation.\n",
    " - {{output_gppmd_tpr}}: **Final tpr file**, GROMACS portable binary run input file. This file contains the starting structure of the **MD setup free MD simulation step**, together with the molecular topology and all the simulation parameters. It can be used to **extend** the simulation.\n",
    " - {{output_genion_top_zip}}: **Final topology** of the MD system. It is a compressed zip file including a **topology file** (.top) and a set of auxiliar **include topology** files (.itp).\n",
    "\n",
    "**Analysis** (MD setup check) output files generated:\n",
    " - {{output_rms_first}}: **Root Mean Square deviation (RMSd)** against **minimized and equilibrated structure** of the final **free MD run step**.\n",
    " - {{output_rms_exp}}: **Root Mean Square deviation (RMSd)** against **experimental structure** of the final **free MD run step**.\n",
    " - {{output_rgyr}}: **Radius of Gyration** of the final **free MD run step** of the **setup pipeline**.\n",
    " "
   ]
  },
  {
   "cell_type": "code",
   "execution_count": null,
   "metadata": {},
   "outputs": [],
   "source": []
  }
 ],
 "metadata": {
  "anaconda-cloud": {},
  "kernelspec": {
   "display_name": "Python 3",
   "language": "python",
   "name": "python3"
  },
  "language_info": {
   "codemirror_mode": {
    "name": "ipython",
    "version": 3
   },
   "file_extension": ".py",
   "mimetype": "text/x-python",
   "name": "python",
   "nbconvert_exporter": "python",
   "pygments_lexer": "ipython3",
   "version": "3.6.0"
  }
 },
 "nbformat": 4,
 "nbformat_minor": 2
}

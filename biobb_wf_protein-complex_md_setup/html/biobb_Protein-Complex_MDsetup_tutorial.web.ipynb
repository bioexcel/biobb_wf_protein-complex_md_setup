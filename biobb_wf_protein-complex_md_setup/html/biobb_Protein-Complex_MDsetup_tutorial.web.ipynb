{
 "cells": [
  {
   "cell_type": "markdown",
   "metadata": {},
   "source": [
    "# Protein Ligand Complex MD Setup tutorial using BioExcel Building Blocks (biobb)\n",
    "### Based on the official Gromacs tutorial: http://www.mdtutorials.com/gmx/complex/index.html\n",
    "***\n",
    "This tutorial aims to illustrate the process of **setting up a simulation system** containing a **protein in complex with a ligand**, step by step, using the **BioExcel Building Blocks library (biobb)**. The particular example used is the **T4 lysozyme** L99A/M102Q protein (PDB code 3HTB), in complex with the **2-propylphenol** small molecule (3-letter Code JZ4). \n",
    "***\n",
    "**Biobb modules** used:\n",
    "\n",
    " - [biobb_io](https://github.com/bioexcel/biobb_io): Tools to fetch biomolecular data from public databases.\n",
    " - [biobb_model](https://github.com/bioexcel/biobb_model): Tools to model macromolecular structures.\n",
    " - [biobb_chemistry](https://github.com/bioexcel/biobb_chemistry): Tools to manipulate chemical data.\n",
    " - [biobb_md](https://github.com/bioexcel/biobb_md): Tools to setup and run Molecular Dynamics simulations.\n",
    " - [biobb_analysis](https://github.com/bioexcel/biobb_analysis): Tools to analyse Molecular Dynamics trajectories.\n",
    " - [biobb_structure_utils](https://github.com/bioexcel/biobb_structure_utils):  Tools to modify or extract information from a PDB structure file.\n",
    " \n",
    "**Auxiliar libraries** used:\n",
    "\n",
    " - [nb_conda_kernels](https://github.com/Anaconda-Platform/nb_conda_kernels): Enables a Jupyter Notebook or JupyterLab application in one conda environment to access kernels for Python, R, and other languages found in other environments.\n",
    " - [nglview](http://nglviewer.org/#nglview): Jupyter/IPython widget to interactively view molecular structures and trajectories in notebooks.\n",
    " - [ipywidgets](https://github.com/jupyter-widgets/ipywidgets): Interactive HTML widgets for Jupyter notebooks and the IPython kernel.\n",
    " - [os](https://docs.python.org/3/library/os.html): Python miscellaneous operating system interfaces\n",
    " - [plotly](https://plot.ly/python/offline/): Python interactive graphing library integrated in Jupyter notebooks.\n",
    " - [simpletraj](https://github.com/arose/simpletraj): Lightweight coordinate-only trajectory reader based on code from GROMACS, MDAnalysis and VMD.\n",
    "\n",
    "\n",
    "### Conda Installation and Launch\n",
    "\n",
    "```console\n",
    "git clone https://github.com/bioexcel/biobb_wf_protein-complex_md_setup.git\n",
    "cd biobb_wf_protein-complex_md_setup\n",
    "conda env create -f conda_env/environment.yml\n",
    "conda activate biobb_Protein-Complex_MDsetup_tutorial\n",
    "jupyter-nbextension enable --py --user widgetsnbextension\n",
    "jupyter-nbextension enable --py --user nglview\n",
    "jupyter-notebook biobb_wf_protein-complex_md_setup/notebooks/biobb_Protein-Complex_MDsetup_tutorial.ipynb\n",
    "  ``` \n",
    "\n",
    "***\n",
    "### Pipeline steps:\n",
    " 1. [Input Parameters](#input)\n",
    " 2. [Fetching PDB Structure](#fetch)\n",
    " 3. [Fix Protein Structure](#fix)\n",
    " 4. [Create Protein System Topology](#top)\n",
    " 5. [Create ligand system topology](#ligtop)\n",
    " 6. [Preparing Ligand Restraints](#restraints)\n",
    " 7. [Create new protein-ligand complex structure file](#complex)\n",
    " 8. [Create new protein-ligand complex topology file](#complextop)\n",
    " 9. [Create Solvent Box](#box)\n",
    " 10. [Fill the Box with Water Molecules](#water)\n",
    " 11. [Adding Ions](#ions)\n",
    " 12. [Energetically Minimize the System](#min)\n",
    " 13. [Equilibrate the System (NVT)](#nvt)\n",
    " 14. [Equilibrate the System (NPT)](#npt)\n",
    " 15. [Free Molecular Dynamics Simulation](#free)\n",
    " 16. [Post-processing and Visualizing Resulting 3D Trajectory](#post)\n",
    " 17. [Output Files](#output)\n",
    " 18. [Questions & Comments](#questions)\n",
    " \n",
    "***\n",
    "***\n",
    "<img src=\"https://bioexcel.eu/wp-content/uploads/2019/04/Bioexcell_logo_1080px_transp.png\" alt=\"Bioexcel2 logo\"\n",
    "\ttitle=\"Bioexcel2 logo\" width=\"400\" />\n",
    "***\n"
   ]
  },
  {
   "cell_type": "markdown",
   "metadata": {},
   "source": [
    "<a id=\"input\"></a>\n",
    "## Input parameters\n",
    "**Input parameters** needed:\n",
    " - **pdbCode**: PDB code of the protein-ligand complex structure (e.g. 3HTB)\n",
    " - **ligandCode**: Small molecule 3-letter code for the ligand structure (e.g. JZ4)\n",
    " - **mol_charge**: Charge of the small molecule, needed to add hydrogen atoms."
   ]
  },
  {
   "cell_type": "code",
   "execution_count": 1,
   "metadata": {
    "scrolled": true
   },
   "outputs": [
    {
     "data": {
      "application/vnd.jupyter.widget-view+json": {
       "model_id": "3514f7726e3c41cda79d00d0d22d61f3",
       "version_major": 2,
       "version_minor": 0
      },
      "text/plain": []
     },
     "metadata": {},
     "output_type": "display_data"
    }
   ],
   "source": [
    "import nglview\n",
    "import ipywidgets\n",
    "import os\n",
    "import zipfile\n",
    "\n",
    "pdbCode = \"3HTB\"\n",
    "ligandCode = \"JZ4\"\n",
    "mol_charge = 0"
   ]
  },
  {
   "cell_type": "markdown",
   "metadata": {},
   "source": [
    "<a id=\"fetch\"></a>\n",
    "***\n",
    "## Fetching PDB structure\n",
    "Downloading **PDB structure** with the **protein-ligand complex** from the RCSB PDB database.<br>\n",
    "Alternatively, a PDB file can be used as starting structure. <br>\n",
    "Splitting the molecule in **three different files**: \n",
    "- **proteinFile**: Protein structure\n",
    "- **ligandFile**: Ligand structure\n",
    "- **complexFile**: Protein-ligand complex structure \n",
    "\n",
    "***\n",
    "**Building Blocks** used:\n",
    " - [Pdb](https://biobb-io.readthedocs.io/en/latest/api.html#module-api.pdb) from **biobb_io.api.pdb**\n",
    "***"
   ]
  },
  {
   "cell_type": "code",
   "execution_count": 2,
   "metadata": {
    "scrolled": true
   },
   "outputs": [
    {
     "name": "stdout",
     "output_type": "stream",
     "text": [
      "2021-07-02 08:38:16,814 [MainThread  ] [INFO ]  Downloading: 3htb from: https://www.ebi.ac.uk/pdbe/entry-files/download/pdb3htb.ent\n",
      "2021-07-02 08:38:17,319 [MainThread  ] [INFO ]  Writting pdb to: 3HTB.orig.pdb\n"
     ]
    },
    {
     "name": "stderr",
     "output_type": "stream",
     "text": [
      "/anaconda3/envs/biobb_Protein-Complex_MDsetup_tutorial/lib/python3.7/site-packages/urllib3/connectionpool.py:1020: InsecureRequestWarning: Unverified HTTPS request is being made to host 'www.ebi.ac.uk'. Adding certificate verification is strongly advised. See: https://urllib3.readthedocs.io/en/1.26.x/advanced-usage.html#ssl-warnings\n",
      "  InsecureRequestWarning,\n"
     ]
    },
    {
     "data": {
      "text/plain": [
       "0"
      ]
     },
     "execution_count": 2,
     "metadata": {},
     "output_type": "execute_result"
    }
   ],
   "source": [
    "# Downloading desired PDB file \n",
    "# Import module\n",
    "from biobb_io.api.pdb import pdb\n",
    "\n",
    "# Create properties dict and inputs/outputs\n",
    "downloaded_pdb = pdbCode+'.orig.pdb'\n",
    "prop = {\n",
    "    'pdb_code': pdbCode,\n",
    "    'filter': False\n",
    "}\n",
    "\n",
    "# Create and launch bb\n",
    "pdb(output_pdb_path=downloaded_pdb,\n",
    "    properties=prop)"
   ]
  },
  {
   "cell_type": "code",
   "execution_count": 3,
   "metadata": {
    "scrolled": false
   },
   "outputs": [
    {
     "name": "stdout",
     "output_type": "stream",
     "text": [
      "2021-07-02 08:38:18,375 [MainThread  ] [INFO ]  File JZ4.pdb created\n",
      "2021-07-02 08:38:18,378 [MainThread  ] [INFO ]  Creating a82b8c91-d8cf-4de9-a09c-8fccdc6fc4dd temporary folder\n",
      "2021-07-02 08:38:18,958 [MainThread  ] [INFO ]  check_structure -i /home/gbayarri_local/projects/BioBB/tutorials/biobb_wf_protein-complex_md_setup/biobb_wf_protein-complex_md_setup/notebooks/3HTB.orig.pdb -o 3HTB.pdb --force_save --non_interactive command_list --list a82b8c91-d8cf-4de9-a09c-8fccdc6fc4dd/extract_prot.lst\n",
      "\n",
      "2021-07-02 08:38:18,959 [MainThread  ] [INFO ]  Exit code 0\n",
      "\n",
      "2021-07-02 08:38:18,960 [MainThread  ] [INFO ]  ===============================================================================\n",
      "=                   BioBB structure checking utility v3.8.1                   =\n",
      "=                 A. Hospital, P. Andrio, J.L. Gelpi 2018-21                  =\n",
      "===============================================================================\n",
      "\n",
      "Warning: sequence features only available in mmCIF format or with external fasta input\n",
      "Structure /home/gbayarri_local/projects/BioBB/tutorials/biobb_wf_protein-complex_md_setup/biobb_wf_protein-complex_md_setup/notebooks/3HTB.orig.pdb loaded\n",
      " Title: 2-propylphenol in complex with t4 lysozyme l99a/m102q\n",
      " Experimental method: x-ray diffraction\n",
      " Keywords: hydrolase,glycosidase, bacteriolytic enzyme, antimicrobial\n",
      " Resolution (A): 1.81\n",
      "\n",
      " Num. models: 1\n",
      " Num. chains: 1 (A: Protein)\n",
      " Num. residues:  387\n",
      " Num. residues with ins. codes:  0\n",
      " Num. HETATM residues:  224\n",
      " Num. ligands or modified residues:  4\n",
      " Num. water mol.:  220\n",
      " Num. atoms:  1544\n",
      "Small mol ligands found\n",
      "PO4 A165\n",
      "PO4 A166\n",
      "JZ4 A167\n",
      "BME A168\n",
      "\n",
      "\n",
      "Step 1: ligands --remove All\n",
      "\n",
      "Running ligands. Options: --remove All\n",
      "4 Ligands detected\n",
      " PO4 A165\n",
      " PO4 A166\n",
      " JZ4 A167\n",
      " BME A168\n",
      "Ligands removed All (4)\n",
      "\n",
      "Step 2: water --remove Yes\n",
      "\n",
      "Running water. Options: --remove Yes\n",
      "220 Water molecules detected\n",
      "220 Water molecules removed\n",
      "Command list completed\n",
      "Final Num. models: 1\n",
      "Final Num. chains: 1 (A: Protein)\n",
      "Final Num. residues:  163\n",
      "Final Num. residues with ins. codes:  0\n",
      "Final Num. HETATM residues:  0\n",
      "Final Num. ligands or modified residues:  0\n",
      "Final Num. water mol.:  0\n",
      "Final Num. atoms:  1300\n",
      "Structure saved on 3HTB.pdb\n",
      "\n",
      "2021-07-02 08:38:18,962 [MainThread  ] [INFO ]  Removing a82b8c91-d8cf-4de9-a09c-8fccdc6fc4dd temporary folder\n",
      "3HTB.pdb JZ4.pdb 3HTB_JZ4.pdb\n",
      "2021-07-02 08:38:18,968 [MainThread  ] [INFO ]  File 3HTB_JZ4.pdb created\n"
     ]
    },
    {
     "data": {
      "text/plain": [
       "0"
      ]
     },
     "execution_count": 3,
     "metadata": {},
     "output_type": "execute_result"
    }
   ],
   "source": [
    "# Extracting Protein, Ligand and Protein-Ligand Complex to three different files\n",
    "# Import module\n",
    "from biobb_structure_utils.utils.extract_heteroatoms import extract_heteroatoms\n",
    "from biobb_structure_utils.utils.extract_molecule import extract_molecule\n",
    "from biobb_structure_utils.utils.cat_pdb import cat_pdb\n",
    "\n",
    "# Create properties dict and inputs/outputs\n",
    "proteinFile = pdbCode+'.pdb'\n",
    "ligandFile = ligandCode+'.pdb'\n",
    "complexFile = pdbCode+'_'+ligandCode+'.pdb'\n",
    "\n",
    "prop = {\n",
    "     'heteroatoms' : [{\"name\": \"JZ4\"}]\n",
    "}\n",
    "\n",
    "extract_heteroatoms(input_structure_path=downloaded_pdb,\n",
    "     output_heteroatom_path=ligandFile,\n",
    "     properties=prop)\n",
    "\n",
    "extract_molecule(input_structure_path=downloaded_pdb,\n",
    "     output_molecule_path=proteinFile)\n",
    "\n",
    "print(proteinFile, ligandFile, complexFile)\n",
    "\n",
    "cat_pdb(input_structure1=proteinFile,\n",
    "       input_structure2=ligandFile,\n",
    "       output_structure_path=complexFile)"
   ]
  },
  {
   "cell_type": "markdown",
   "metadata": {},
   "source": [
    "### Visualizing 3D structures\n",
    "Visualizing the generated **PDB structures** using **NGL**:  \n",
    "- **Protein structure** (Left)\n",
    "- **Ligand structure** (Center)\n",
    "- **Protein-ligand complex** (Right)  "
   ]
  },
  {
   "cell_type": "code",
   "execution_count": 46,
   "metadata": {
    "scrolled": true
   },
   "outputs": [
    {
     "data": {
      "application/vnd.jupyter.widget-view+json": {
       "model_id": "2cbaf2ec178a41b8ae145ab327e7ea2b",
       "version_major": 2,
       "version_minor": 0
      },
      "text/plain": [
       "HBox(children=(NGLWidget(), NGLWidget(), NGLWidget()))"
      ]
     },
     "metadata": {},
     "output_type": "display_data"
    }
   ],
   "source": [
    "# Show structures: protein, ligand and protein-ligand complex\n",
    "view1 = nglview.show_structure_file(proteinFile)\n",
    "view1._remote_call('setSize', target='Widget', args=['350px','400px'])\n",
    "view1.camera='orthographic'\n",
    "\n",
    "view1.render_image()\n",
    "view1.download_image(filename='ngl1.png')\n",
    "\n",
    "view1\n",
    "view2 = nglview.show_structure_file(ligandFile)\n",
    "view2.add_representation(repr_type='ball+stick')\n",
    "view2._remote_call('setSize', target='Widget', args=['350px','400px'])\n",
    "view2.camera='orthographic'\n",
    "\n",
    "view2.render_image()\n",
    "view2.download_image(filename='ngl2.png')\n",
    "\n",
    "view2\n",
    "view3 = nglview.show_structure_file(complexFile)\n",
    "view3.add_representation(repr_type='licorice', radius='.5', selection=ligandCode)\n",
    "view3._remote_call('setSize', target='Widget', args=['350px','400px'])\n",
    "view3.camera='orthographic'\n",
    "\n",
    "view3.render_image()\n",
    "view3.download_image(filename='ngl3.png')\n",
    "\n",
    "view3\n",
    "ipywidgets.HBox([view1, view2, view3])"
   ]
  },
  {
   "cell_type": "markdown",
   "metadata": {},
   "source": [
    "<img src='ngl1.png' style='float: left;width:33%'></img><img src='ngl2.png' style='float: left;width:33%'></img><img src='ngl3.png' style='float: left;width:33%'></img>"
   ]
  },
  {
   "cell_type": "markdown",
   "metadata": {},
   "source": [
    "<a id=\"fix\"></a>\n",
    "***\n",
    "## Fix protein structure\n",
    "**Checking** and **fixing** (if needed) the protein structure:<br>\n",
    "- **Modeling** **missing side-chain atoms**, modifying incorrect **amide assignments**, choosing **alternative locations**.<br>\n",
    "- **Checking** for missing **backbone atoms**, **heteroatoms**, **modified residues** and possible **atomic clashes**.\n",
    "\n",
    "***\n",
    "**Building Blocks** used:\n",
    " - [FixSideChain](https://biobb-model.readthedocs.io/en/latest/model.html#module-model.fix_side_chain) from **biobb_model.model.fix_side_chain**\n",
    "***"
   ]
  },
  {
   "cell_type": "code",
   "execution_count": 5,
   "metadata": {
    "scrolled": false
   },
   "outputs": [
    {
     "name": "stdout",
     "output_type": "stream",
     "text": [
      "2021-07-02 08:38:23,211 [MainThread  ] [INFO ]  check_structure -i 3HTB.pdb -o 3HTB_fixed.pdb --force_save fixside --fix ALL\n",
      "\n",
      "2021-07-02 08:38:23,213 [MainThread  ] [INFO ]  Exit code 0\n",
      "\n",
      "2021-07-02 08:38:23,213 [MainThread  ] [INFO ]  ===============================================================================\n",
      "=                   BioBB structure checking utility v3.8.1                   =\n",
      "=                 A. Hospital, P. Andrio, J.L. Gelpi 2018-21                  =\n",
      "===============================================================================\n",
      "\n",
      "Warning: sequence features only available in mmCIF format or with external fasta input\n",
      "Structure 3HTB.pdb loaded\n",
      " Title: \n",
      " Experimental method: unknown\n",
      " Resolution (A): N.A.\n",
      "\n",
      " Num. models: 1\n",
      " Num. chains: 1 (A: Protein)\n",
      " Num. residues:  163\n",
      " Num. residues with ins. codes:  0\n",
      " Num. HETATM residues:  0\n",
      " Num. ligands or modified residues:  0\n",
      " Num. water mol.:  0\n",
      " Num. atoms:  1300\n",
      "\n",
      "Running fixside. Options: --fix ALL\n",
      "No residues with missing or unknown side chain atoms found\n",
      "Structure not modified, saving due to --force_save option\n",
      "Final Num. models: 1\n",
      "Final Num. chains: 1 (A: Protein)\n",
      "Final Num. residues:  163\n",
      "Final Num. residues with ins. codes:  0\n",
      "Final Num. HETATM residues:  0\n",
      "Final Num. ligands or modified residues:  0\n",
      "Final Num. water mol.:  0\n",
      "Final Num. atoms:  1300\n",
      "Structure saved on 3HTB_fixed.pdb\n",
      "\n",
      "2021-07-02 08:38:23,214 [MainThread  ] [INFO ]  Removed: []\n"
     ]
    },
    {
     "data": {
      "text/plain": [
       "0"
      ]
     },
     "execution_count": 5,
     "metadata": {},
     "output_type": "execute_result"
    }
   ],
   "source": [
    "# Check & Fix Protein Structure\n",
    "# Import module\n",
    "from biobb_model.model.fix_side_chain import fix_side_chain\n",
    "\n",
    "# Create prop dict and inputs/outputs\n",
    "fixed_pdb = pdbCode+'_fixed.pdb'\n",
    "\n",
    "# Create and launch bb\n",
    "fix_side_chain(input_pdb_path=proteinFile,\n",
    "             output_pdb_path=fixed_pdb)"
   ]
  },
  {
   "cell_type": "markdown",
   "metadata": {},
   "source": [
    "<a id=\"top\"></a>\n",
    "***\n",
    "## Create protein system topology\n",
    "**Building GROMACS topology** corresponding to the protein structure.<br>\n",
    "Force field used in this tutorial is [**amber99sb-ildn**](https://dx.doi.org/10.1002%2Fprot.22711): AMBER **parm99** force field with **corrections on backbone** (sb) and **side-chain torsion potentials** (ildn). Water molecules type used in this tutorial is [**spc/e**](https://pubs.acs.org/doi/abs/10.1021/j100308a038).<br>\n",
    "Adding **hydrogen atoms** if missing. Automatically identifying **disulfide bridges**. <br>\n",
    "\n",
    "Generating two output files: \n",
    "- **GROMACS structure** (gro file)\n",
    "- **GROMACS topology** ZIP compressed file containing:\n",
    "    - *GROMACS topology top file* (top file)\n",
    "    - *GROMACS position restraint file/s* (itp file/s)\n",
    "***\n",
    "**Building Blocks** used:\n",
    " - [Pdb2gmx](https://biobb-md.readthedocs.io/en/latest/gromacs.html#module-gromacs.pdb2gmx) from **biobb_md.gromacs.pdb2gmx**\n",
    "***"
   ]
  },
  {
   "cell_type": "code",
   "execution_count": 6,
   "metadata": {
    "scrolled": false
   },
   "outputs": [
    {
     "name": "stdout",
     "output_type": "stream",
     "text": [
      "2021-07-02 08:38:25,001 [MainThread  ] [INFO ]  GROMACS Pdb2gmx 20190 version detected\n",
      "2021-07-02 08:38:25,003 [MainThread  ] [INFO ]  Not using any container\n",
      "2021-07-02 08:38:25,577 [MainThread  ] [INFO ]  gmx -nobackup -nocopyright pdb2gmx -f 3HTB_fixed.pdb -o 3HTB_pdb2gmx.gro -p p2g.top -water spce -ff amber99sb-ildn -i posre.itp\n",
      "\n",
      "2021-07-02 08:38:25,578 [MainThread  ] [INFO ]  Exit code 0\n",
      "\n",
      "2021-07-02 08:38:25,579 [MainThread  ] [INFO ]  \n",
      "Using the Amber99sb-ildn force field in directory amber99sb-ildn.ff\n",
      "\n",
      "going to rename amber99sb-ildn.ff/aminoacids.r2b\n",
      "going to rename amber99sb-ildn.ff/dna.r2b\n",
      "going to rename amber99sb-ildn.ff/rna.r2b\n",
      "Reading 3HTB_fixed.pdb...\n",
      "Read '', 1364 atoms\n",
      "Analyzing pdb file\n",
      "Splitting chemical chains based on TER records or chain id changing.\n",
      "There are 1 chains and 0 blocks of water and 163 residues with 1364 atoms\n",
      "\n",
      "  chain  #res #atoms\n",
      "  1 'A'   163   1364  \n",
      "\n",
      "Reading residue database... (Amber99sb-ildn)\n",
      "Processing chain 1 'A' (1364 atoms, 163 residues)\n",
      "Identified residue MET1 as a starting terminus.\n",
      "Identified residue ASN163 as a ending terminus.\n",
      "Checking for duplicate atoms....\n",
      "Now there are 1300 atoms. Deleted 64 duplicates.\n",
      "Generating any missing hydrogen atoms and/or adding termini.\n",
      "Now there are 163 residues with 2614 atoms\n",
      "\t\t--------- PLEASE NOTE ------------\n",
      "You have successfully generated a topology from: 3HTB_fixed.pdb.\n",
      "The Amber99sb-ildn force field and the spce water model are used.\n",
      "\t\t--------- ETON ESAELP ------------\n",
      "\n",
      "2021-07-02 08:38:25,579 [MainThread  ] [INFO ]                        :-) GROMACS - gmx pdb2gmx, 2019 (-:\n",
      "\n",
      "Executable:   /usr/local/gromacs/bin/gmx\n",
      "Data prefix:  /usr/local/gromacs\n",
      "Working dir:  /home/gbayarri_local/projects/BioBB/tutorials/biobb_wf_protein-complex_md_setup/biobb_wf_protein-complex_md_setup/notebooks\n",
      "Command line:\n",
      "  gmx -nobackup -nocopyright pdb2gmx -f 3HTB_fixed.pdb -o 3HTB_pdb2gmx.gro -p p2g.top -water spce -ff amber99sb-ildn -i posre.itp\n",
      "\n",
      "Opening force field file /usr/local/gromacs/share/gromacs/top/amber99sb-ildn.ff/aminoacids.r2b\n",
      "Opening force field file /usr/local/gromacs/share/gromacs/top/amber99sb-ildn.ff/dna.r2b\n",
      "Opening force field file /usr/local/gromacs/share/gromacs/top/amber99sb-ildn.ff/rna.r2b\n",
      "\n",
      "WARNING: there were 0 atoms with zero occupancy and 178 atoms with\n",
      "         occupancy unequal to one (out of 1364 atoms). Check your pdb file.\n",
      "\n",
      "Opening force field file /usr/local/gromacs/share/gromacs/top/amber99sb-ildn.ff/atomtypes.atp\n",
      "Atomtype 67\n",
      "Opening force field file /usr/local/gromacs/share/gromacs/top/amber99sb-ildn.ff/aminoacids.rtp\n",
      "Residue 93\n",
      "Sorting it all out...\n",
      "Opening force field file /usr/local/gromacs/share/gromacs/top/amber99sb-ildn.ff/dna.rtp\n",
      "Residue 109\n",
      "Sorting it all out...\n",
      "Opening force field file /usr/local/gromacs/share/gromacs/top/amber99sb-ildn.ff/rna.rtp\n",
      "Residue 125\n",
      "Sorting it all out...\n",
      "Opening force field file /usr/local/gromacs/share/gromacs/top/amber99sb-ildn.ff/aminoacids.hdb\n",
      "Opening force field file /usr/local/gromacs/share/gromacs/top/amber99sb-ildn.ff/dna.hdb\n",
      "Opening force field file /usr/local/gromacs/share/gromacs/top/amber99sb-ildn.ff/rna.hdb\n",
      "Opening force field file /usr/local/gromacs/share/gromacs/top/amber99sb-ildn.ff/aminoacids.n.tdb\n",
      "Opening force field file /usr/local/gromacs/share/gromacs/top/amber99sb-ildn.ff/aminoacids.c.tdb\n",
      "Analysing hydrogen-bonding network for automated assignment of histidine\n",
      " protonation. 273 donors and 248 acceptors were found.\n",
      "There are 347 hydrogen bonds\n",
      "Will use HISD for residue 31\n",
      "8 out of 8 lines of specbond.dat converted successfully\n",
      "Special Atom Distance matrix:\n",
      "                    MET1    MET6   HIS31   CYS54   CYS97  MET106\n",
      "                    SD10    SD56  NE2276   SG446   SG808   SD883\n",
      "    MET6    SD56   0.631\n",
      "   HIS31  NE2276   2.196   1.931\n",
      "   CYS54   SG446   2.781   2.718   1.052\n",
      "   CYS97   SG808   0.820   0.539   2.117   2.897\n",
      "  MET106   SD883   1.900   1.314   1.848   2.841   1.635\n",
      "  MET120   SD982   2.525   2.014   3.286   4.293   2.112   1.520\n",
      "Opening force field file /usr/local/gromacs/share/gromacs/top/amber99sb-ildn.ff/aminoacids.arn\n",
      "Opening force field file /usr/local/gromacs/share/gromacs/top/amber99sb-ildn.ff/dna.arn\n",
      "Opening force field file /usr/local/gromacs/share/gromacs/top/amber99sb-ildn.ff/rna.arn\n",
      "Making bonds...\n",
      "Number of bonds was 2635, now 2634\n",
      "Generating angles, dihedrals and pairs...\n",
      "Before cleaning: 6889 pairs\n",
      "Before cleaning: 7252 dihedrals\n",
      "Keeping all generated dihedrals\n",
      "Making cmap torsions...\n",
      "There are 7252 dihedrals,  522 impropers, 4751 angles\n",
      "          6847 pairs,     2634 bonds and     0 virtual sites\n",
      "Total mass 18512.384 a.m.u.\n",
      "Total charge 6.000 e\n",
      "Writing topology\n",
      "\n",
      "Writing coordinate file...\n",
      "\n",
      "GROMACS reminds you: \"How Do You Like Your Vacation So Far ?\" (Speed 2 - Cruise Control)\n",
      "\n",
      "\n",
      "2021-07-02 08:38:25,580 [MainThread  ] [INFO ]  Compressing topology to: 3HTB_pdb2gmx_top.zip\n",
      "2021-07-02 08:38:25,582 [MainThread  ] [INFO ]  Ignored file amber99sb-ildn.ff/forcefield.itp\n",
      "2021-07-02 08:38:25,599 [MainThread  ] [INFO ]  Ignored file amber99sb-ildn.ff/spce.itp\n",
      "2021-07-02 08:38:25,600 [MainThread  ] [INFO ]  Ignored file amber99sb-ildn.ff/ions.itp\n",
      "2021-07-02 08:38:25,605 [MainThread  ] [INFO ]  Adding:\n",
      "2021-07-02 08:38:25,606 [MainThread  ] [INFO ]  ['p2g.top', 'posre.itp']\n",
      "2021-07-02 08:38:25,607 [MainThread  ] [INFO ]  to: /home/gbayarri_local/projects/BioBB/tutorials/biobb_wf_protein-complex_md_setup/biobb_wf_protein-complex_md_setup/notebooks/3HTB_pdb2gmx_top.zip\n",
      "2021-07-02 08:38:25,609 [MainThread  ] [INFO ]  Removed: ['p2g.top', 'posre.itp']\n"
     ]
    },
    {
     "data": {
      "text/plain": [
       "0"
      ]
     },
     "execution_count": 6,
     "metadata": {},
     "output_type": "execute_result"
    }
   ],
   "source": [
    "# Create Protein system topology\n",
    "# Import module\n",
    "from biobb_md.gromacs.pdb2gmx import pdb2gmx\n",
    "\n",
    "# Create inputs/outputs\n",
    "output_pdb2gmx_gro = pdbCode+'_pdb2gmx.gro'\n",
    "output_pdb2gmx_top_zip = pdbCode+'_pdb2gmx_top.zip'\n",
    "prop = {\n",
    "    'force_field' : 'amber99sb-ildn',\n",
    "    'water_type': 'spce'\n",
    "}\n",
    "\n",
    "# Create and launch bb\n",
    "pdb2gmx(input_pdb_path=fixed_pdb,\n",
    "        output_gro_path=output_pdb2gmx_gro,\n",
    "        output_top_zip_path=output_pdb2gmx_top_zip,\n",
    "        properties=prop)"
   ]
  },
  {
   "cell_type": "markdown",
   "metadata": {},
   "source": [
    "<a id=\"ligtop\"></a>\n",
    "***\n",
    "## Create ligand system topology\n",
    "**Building GROMACS topology** corresponding to the ligand structure.<br>\n",
    "Force field used in this tutorial step is **amberGAFF**: [General AMBER Force Field](http://ambermd.org/antechamber/gaff.html), designed for rational drug design.<br>\n",
    "- [Step 1](#ligandTopologyStep1): Add **hydrogen atoms** if missing.\n",
    "- [Step 2](#ligandTopologyStep2): **Energetically minimize the system** with the new hydrogen atoms. \n",
    "- [Step 3](#ligandTopologyStep3): Generate **ligand topology** (parameters). \n",
    "***\n",
    "**Building Blocks** used:\n",
    " - [ReduceAddHydrogens](https://biobb-chemistry.readthedocs.io/en/latest/ambertools.html#module-ambertools.reduce_add_hydrogens) from **biobb_chemistry.ambertools.reduce_add_hydrogens**\n",
    " - [BabelMinimize](https://biobb-chemistry.readthedocs.io/en/latest/babelm.html#module-babelm.babel_minimize) from **biobb_chemistry.babelm.babel_minimize** \n",
    " - [AcpypeParamsGMX](https://biobb-chemistry.readthedocs.io/en/latest/acpype.html#module-acpype.acpype_params_gmx) from **biobb_chemistry.acpype.acpype_params_gmx** \n",
    "***"
   ]
  },
  {
   "cell_type": "markdown",
   "metadata": {},
   "source": [
    "<a id=\"ligandTopologyStep1\"></a>\n",
    "### Step 1: Add **hydrogen atoms**"
   ]
  },
  {
   "cell_type": "code",
   "execution_count": 7,
   "metadata": {
    "scrolled": false
   },
   "outputs": [
    {
     "name": "stdout",
     "output_type": "stream",
     "text": [
      "2021-07-02 08:38:27,650 [MainThread  ] [INFO ]  Not using any container\n",
      "2021-07-02 08:38:27,775 [MainThread  ] [INFO ]  reduce -NUClear -OH -ROTNH3 -ALLALT JZ4.pdb > JZ4.reduce.H.pdb\n",
      "\n",
      "2021-07-02 08:38:27,776 [MainThread  ] [INFO ]  Exit code 0\n",
      "\n",
      "2021-07-02 08:38:27,777 [MainThread  ] [INFO ]  reduce: version 3.3 06/02/2016, Copyright 1997-2016, J. Michael Word\n",
      "Processing file: \"JZ4.pdb\"\n",
      "Database of HETATM connections: \"/anaconda3/envs/biobb_Protein-Complex_MDsetup_tutorial//dat/reduce_wwPDB_het_dict.txt\"\n",
      "VDW dot density = 16/A^2\n",
      "Orientation penalty scale = 1 (100%)\n",
      "Eliminate contacts within 3 bonds.\n",
      "Ignore atoms with |occupancy| <= 0.01 during adjustments.\n",
      "Waters ignored if B-Factor >= 40 or |occupancy| < 0.66\n",
      "Aromatic rings in amino acids accept hydrogen bonds.\n",
      "Building or keeping OH & SH Hydrogens.\n",
      "Rotating NH3 Hydrogens.\n",
      "Not processing Met methyls.\n",
      "WARNING: atom H13A from JZ4 will be treated as hydrogen\n",
      "WARNING: atom H14A from JZ4 will be treated as hydrogen\n",
      "WARNING: atom H13A from JZ4 will be treated as hydrogen\n",
      "WARNING: atom H13A from JZ4 will be treated as hydrogen\n",
      "WARNING: atom H14A from JZ4 will be treated as hydrogen\n",
      "WARNING: atom H14A from JZ4 will be treated as hydrogen\n",
      "WARNING: atom H14A from JZ4 will be treated as hydrogen\n",
      "WARNING: atom H14A from JZ4 will be treated as hydrogen\n",
      "WARNING: atom H13A from JZ4 will be treated as hydrogen\n",
      "WARNING: atom H13A from JZ4 will be treated as hydrogen\n",
      "WARNING: atom H14A from JZ4 will be treated as hydrogen\n",
      "WARNING: atom H13A from JZ4 will be treated as hydrogen\n",
      " Singles(size 1): A 167 JZ4 OAB \n",
      " orientation 1: A 167 JZ4 OAB :   rot  120: bump=0.000, HB=0.000, total=0.000\n",
      "Found 0 hydrogens (0 hets)\n",
      "Standardized 0 hydrogens (0 hets)\n",
      "Added 12 hydrogens (12 hets)\n",
      "Removed 0 hydrogens (0 hets)\n",
      "Adjusted 1 group(s)\n",
      "If you publish work which uses reduce, please cite:\n",
      "Word, et. al. (1999) J. Mol. Biol. 285, 1735-1747.\n",
      "For more information see http://kinemage.biochem.duke.edu\n",
      "\n"
     ]
    },
    {
     "data": {
      "text/plain": [
       "0"
      ]
     },
     "execution_count": 7,
     "metadata": {},
     "output_type": "execute_result"
    }
   ],
   "source": [
    "# Create Ligand system topology, STEP 1\n",
    "# Reduce_add_hydrogens: add Hydrogen atoms to a small molecule (using Reduce tool from Ambertools package)\n",
    "# Import module\n",
    "from biobb_chemistry.ambertools.reduce_add_hydrogens import reduce_add_hydrogens\n",
    "\n",
    "# Create prop dict and inputs/outputs\n",
    "output_reduce_h = ligandCode+'.reduce.H.pdb' \n",
    "prop = {\n",
    "    'nuclear' : 'true'\n",
    "}\n",
    "\n",
    "# Create and launch bb\n",
    "reduce_add_hydrogens(input_path=ligandFile,\n",
    "                   output_path=output_reduce_h,\n",
    "                   properties=prop)\n"
   ]
  },
  {
   "cell_type": "markdown",
   "metadata": {},
   "source": [
    "<a id=\"ligandTopologyStep2\"></a>\n",
    "### Step 2: **Energetically minimize the system** with the new hydrogen atoms. "
   ]
  },
  {
   "cell_type": "code",
   "execution_count": 8,
   "metadata": {
    "scrolled": false
   },
   "outputs": [
    {
     "name": "stdout",
     "output_type": "stream",
     "text": [
      "2021-07-02 08:38:29,052 [MainThread  ] [INFO ]  Hydrogens  is not correct, assigned default value: False\n",
      "2021-07-02 08:38:29,053 [MainThread  ] [INFO ]  Steps  is not correct, assigned default value: 2500\n",
      "2021-07-02 08:38:29,055 [MainThread  ] [INFO ]  Cut-off  is not correct, assigned default value: False\n",
      "2021-07-02 08:38:29,056 [MainThread  ] [INFO ]  Rvdw  is not correct, assigned default value: 6.0\n",
      "2021-07-02 08:38:29,057 [MainThread  ] [INFO ]  Rele  is not correct, assigned default value: 10.0\n",
      "2021-07-02 08:38:29,058 [MainThread  ] [INFO ]  Frequency  is not correct, assigned default value: 10\n",
      "2021-07-02 08:38:29,060 [MainThread  ] [INFO ]  Not using any container\n",
      "2021-07-02 08:38:29,653 [MainThread  ] [INFO ]  obminimize -c 1e-10 -sd -ff GAFF -ipdb JZ4.reduce.H.pdb -omol2 > JZ4.H.min.mol2\n",
      "\n",
      "2021-07-02 08:38:29,655 [MainThread  ] [INFO ]  Exit code 0\n",
      "\n",
      "2021-07-02 08:38:29,655 [MainThread  ] [INFO ]  \n",
      "A T O M   T Y P E S\n",
      "\n",
      "IDX\tTYPE\tRING\n",
      "1\tc3\tNO\n",
      "2\tca\tAR\n",
      "3\tca\tAR\n",
      "4\tca\tAR\n",
      "5\tca\tAR\n",
      "6\tca\tAR\n",
      "7\tca\tAR\n",
      "8\tc3\tNO\n",
      "9\tc3\tNO\n",
      "10\toh\tNO\n",
      "11\tho\tNO\n",
      "12\thc\tNO\n",
      "13\thc\tNO\n",
      "14\tha\tNO\n",
      "15\tha\tNO\n",
      "16\tha\tNO\n",
      "17\thc\tNO\n",
      "18\thc\tNO\n",
      "19\thc\tNO\n",
      "20\thc\tNO\n",
      "21\thc\tNO\n",
      "22\tha\tNO\n",
      "\n",
      "C H A R G E S\n",
      "\n",
      "IDX\tCHARGE\n",
      "1\t-0.064979\n",
      "2\t-0.061278\n",
      "3\t-0.058294\n",
      "4\t-0.019907\n",
      "5\t0.120013\n",
      "6\t-0.055115\n",
      "7\t-0.005954\n",
      "8\t-0.024481\n",
      "9\t-0.051799\n",
      "10\t-0.506496\n",
      "11\t0.292144\n",
      "12\t0.026577\n",
      "13\t0.031423\n",
      "14\t0.065403\n",
      "15\t0.061871\n",
      "16\t0.061769\n",
      "17\t0.022987\n",
      "18\t0.022987\n",
      "19\t0.022987\n",
      "20\t0.026577\n",
      "21\t0.031423\n",
      "22\t0.062142\n",
      "\n",
      "S E T T I N G   U P   C A L C U L A T I O N S\n",
      "\n",
      "SETTING UP BOND CALCULATIONS...\n",
      "SETTING UP ANGLE CALCULATIONS...\n",
      "SETTING UP TORSION CALCULATIONS...\n",
      "SETTING UP IMPROPER TORSION CALCULATIONS...\n",
      "SETTING UP VAN DER WAALS CALCULATIONS...\n",
      "SETTING UP ELECTROSTATIC CALCULATIONS...\n",
      "\n",
      "S T E E P E S T   D E S C E N T\n",
      "\n",
      "STEPS = 2500\n",
      "\n",
      "STEP n       E(n)         E(n-1)    \n",
      "------------------------------------\n",
      "    0      50.048      ----\n",
      "   10    36.21724    36.73363\n",
      "   20    32.62519    32.90050\n",
      "   30    30.42176    30.60740\n",
      "   40    28.84022    28.98002\n",
      "   50    27.60107    27.71398\n",
      "   60    26.57419    26.66957\n",
      "   70    25.69242    25.77532\n",
      "   80    24.91809    24.99145\n",
      "   90    24.22825    24.29392\n",
      "  100    23.60848    23.66758\n",
      "  110    23.04960    23.10303\n",
      "  120    22.54147    22.59027\n",
      "  130    22.07638    22.12112\n",
      "  140    21.64899    21.69018\n",
      "  150    21.25485    21.29289\n",
      "  160    20.89018    20.92542\n",
      "  170    20.55172    20.58448\n",
      "  180    20.23672    20.26724\n",
      "  190    19.94279    19.97131\n",
      "  200    19.66791    19.69460\n",
      "  210    19.41032    19.43536\n",
      "  220    19.16851    19.19203\n",
      "  230    18.94116    18.96329\n",
      "  240    18.72713    18.74797\n",
      "  250    18.52541    18.54506\n",
      "  260    18.33510    18.35365\n",
      "  270    18.15542    18.17293\n",
      "  280    17.98563    18.00219\n",
      "  290    17.82510    17.84076\n",
      "  300    17.67323    17.68805\n",
      "  310    17.52948    17.54351\n",
      "  320    17.39335    17.40664\n",
      "  330    17.26438    17.27697\n",
      "  340    17.14215    17.15408\n",
      "  350    17.02625    17.03757\n",
      "  360    16.91633    16.92707\n",
      "  370    16.81204    16.82223\n",
      "  380    16.71305    16.72272\n",
      "  390    16.61907    16.62825\n",
      "  400    16.52981    16.53853\n",
      "  410    16.44502    16.45331\n",
      "  420    16.36444    16.37232\n",
      "  430    16.28785    16.29534\n",
      "  440    16.21503    16.22215\n",
      "  450    16.14577    16.15255\n",
      "  460    16.07989    16.08634\n",
      "  470    16.01721    16.02334\n",
      "  480    15.95755    15.96338\n",
      "  490    15.90076    15.90631\n",
      "  500    15.84668    15.85198\n",
      "  510    15.79519    15.80023\n",
      "  520    15.74614    15.75094\n",
      "  530    15.69941    15.70398\n",
      "  540    15.65488    15.65924\n",
      "  550    15.61245    15.61660\n",
      "  560    15.57200    15.57596\n",
      "  570    15.53344    15.53721\n",
      "  580    15.49667    15.50027\n",
      "  590    15.46160    15.46504\n",
      "  600    15.42816    15.43144\n",
      "  610    15.39626    15.39939\n",
      "  620    15.36583    15.36881\n",
      "  630    15.33679    15.33963\n",
      "  640    15.30908    15.31179\n",
      "  650    15.28263    15.28522\n",
      "  660    15.25739    15.25986\n",
      "  670    15.23329    15.23565\n",
      "  680    15.21029    15.21254\n",
      "  690    15.18832    15.19047\n",
      "  700    15.16735    15.16940\n",
      "  710    15.14731    15.14928\n",
      "  720    15.12818    15.13005\n",
      "  730    15.10990    15.11169\n",
      "  740    15.09243    15.09415\n",
      "  750    15.07575    15.07738\n",
      "  760    15.05980    15.06137\n",
      "  770    15.04456    15.04606\n",
      "  780    15.03000    15.03143\n",
      "  790    15.01607    15.01744\n",
      "  800    15.00276    15.00406\n",
      "  810    14.99003    14.99127\n",
      "  820    14.97785    14.97904\n",
      "  830    14.96620    14.96734\n",
      "  840    14.95506    14.95615\n",
      "  850    14.94439    14.94544\n",
      "  860    14.93419    14.93519\n",
      "  870    14.92442    14.92538\n",
      "  880    14.91507    14.91598\n",
      "  890    14.90611    14.90699\n",
      "  900    14.89753    14.89837\n",
      "  910    14.88931    14.89011\n",
      "  920    14.88143    14.88220\n",
      "  930    14.87388    14.87462\n",
      "  940    14.86663    14.86735\n",
      "  950    14.85969    14.86037\n",
      "  960    14.85302    14.85368\n",
      "  970    14.84662    14.84725\n",
      "  980    14.84048    14.84108\n",
      "  990    14.83458    14.83516\n",
      " 1000    14.82891    14.82946\n",
      " 1010    14.82345    14.82399\n",
      " 1020    14.81821    14.81873\n",
      " 1030    14.81316    14.81366\n",
      " 1040    14.80831    14.80878\n",
      " 1050    14.80362    14.80409\n",
      " 1060    14.79911    14.79956\n",
      " 1070    14.79476    14.79519\n",
      " 1080    14.79056    14.79098\n",
      " 1090    14.78650    14.78691\n",
      " 1100    14.78258    14.78297\n",
      " 1110    14.77879    14.77917\n",
      " 1120    14.77512    14.77548\n",
      " 1130    14.77156    14.77191\n",
      " 1140    14.76835    14.76859\n",
      " 1150    14.76655    14.76671\n",
      " 1160    14.76491    14.76508\n",
      " 1170    14.76332    14.76348\n",
      " 1180    14.76177    14.76192\n",
      " 1190    14.76025    14.76040\n",
      " 1200    14.75876    14.75891\n",
      " 1210    14.75731    14.75746\n",
      " 1220    14.75589    14.75603\n",
      " 1230    14.75450    14.75464\n",
      " 1240    14.75315    14.75328\n",
      " 1250    14.75181    14.75195\n",
      " 1260    14.75051    14.75064\n",
      " 1270    14.74924    14.74936\n",
      " 1280    14.74798    14.74811\n",
      " 1290    14.74676    14.74688\n",
      " 1300    14.74556    14.74568\n",
      " 1310    14.74438    14.74449\n",
      " 1320    14.74322    14.74333\n",
      " 1330    14.74208    14.74220\n",
      " 1340    14.74097    14.74108\n",
      " 1350    14.73987    14.73998\n",
      " 1360    14.73880    14.73890\n",
      " 1370    14.73774    14.73784\n",
      " 1380    14.73669    14.73680\n",
      " 1390    14.73567    14.73577\n",
      " 1400    14.73466    14.73476\n",
      " 1410    14.73367    14.73377\n",
      " 1420    14.73269    14.73279\n",
      " 1430    14.73173    14.73182\n",
      " 1440    14.73078    14.73087\n",
      " 1450    14.72984    14.72993\n",
      " 1460    14.72891    14.72901\n",
      " 1470    14.72800    14.72809\n",
      " 1480    14.72710    14.72719\n",
      " 1490    14.72621    14.72630\n",
      " 1500    14.72549    14.72554\n",
      " 1510    14.72504    14.72509\n",
      " 1520    14.72461    14.72466\n",
      " 1530    14.72419    14.72423\n",
      " 1540    14.72377    14.72381\n",
      " 1550    14.72336    14.72340\n",
      " 1560    14.72295    14.72299\n",
      " 1570    14.72255    14.72259\n",
      " 1580    14.72216    14.72220\n",
      " 1590    14.72177    14.72181\n",
      " 1600    14.72138    14.72142\n",
      " 1610    14.72100    14.72104\n",
      " 1620    14.72063    14.72067\n",
      " 1630    14.72026    14.72030\n",
      " 1640    14.71989    14.71993\n",
      " 1650    14.71953    14.71957\n",
      " 1660    14.71918    14.71921\n",
      " 1670    14.71883    14.71886\n",
      " 1680    14.71848    14.71851\n",
      " 1690    14.71813    14.71817\n",
      " 1700    14.71780    14.71783\n",
      " 1710    14.71746    14.71749\n",
      " 1720    14.71713    14.71716\n",
      " 1730    14.71680    14.71683\n",
      " 1740    14.71648    14.71651\n",
      " 1750    14.71616    14.71619\n",
      " 1760    14.71584    14.71587\n",
      " 1770    14.71553    14.71556\n",
      " 1780    14.71522    14.71525\n",
      " 1790    14.71491    14.71495\n",
      " 1800    14.71461    14.71464\n",
      " 1810    14.71431    14.71434\n",
      " 1820    14.71402    14.71405\n",
      " 1830    14.71372    14.71375\n",
      " 1840    14.71344    14.71346\n",
      " 1850    14.71323    14.71324\n",
      " 1860    14.71308    14.71309\n",
      " 1870    14.71293    14.71294\n",
      " 1880    14.71278    14.71280\n",
      " 1890    14.71264    14.71265\n",
      " 1900    14.71250    14.71251\n",
      " 1910    14.71236    14.71237\n",
      " 1920    14.71222    14.71223\n",
      " 1930    14.71208    14.71209\n",
      " 1940    14.71194    14.71196\n",
      " 1950    14.71181    14.71182\n",
      " 1960    14.71168    14.71169\n",
      " 1970    14.71155    14.71156\n",
      " 1980    14.71142    14.71144\n",
      " 1990    14.71130    14.71131\n",
      " 2000    14.71117    14.71119\n",
      " 2010    14.71105    14.71107\n",
      " 2020    14.71093    14.71095\n",
      " 2030    14.71082    14.71083\n",
      " 2040    14.71070    14.71071\n",
      " 2050    14.71058    14.71060\n",
      " 2060    14.71047    14.71048\n",
      " 2070    14.71036    14.71037\n",
      " 2080    14.71025    14.71026\n",
      " 2090    14.71014    14.71015\n",
      " 2100    14.71003    14.71005\n",
      " 2110    14.70993    14.70994\n",
      " 2120    14.70982    14.70983\n",
      " 2130    14.70972    14.70973\n",
      " 2140    14.70962    14.70963\n",
      " 2150    14.70952    14.70953\n",
      " 2160    14.70942    14.70943\n",
      " 2170    14.70933    14.70934\n",
      " 2180    14.70923    14.70924\n",
      " 2190    14.70914    14.70915\n",
      " 2200    14.70904    14.70905\n",
      " 2210    14.70896    14.70896\n",
      " 2220    14.70889    14.70890\n",
      " 2230    14.70884    14.70885\n",
      " 2240    14.70879    14.70880\n",
      " 2250    14.70874    14.70875\n",
      " 2260    14.70869    14.70870\n",
      " 2270    14.70865    14.70865\n",
      " 2280    14.70860    14.70860\n",
      " 2290    14.70855    14.70856\n",
      " 2300    14.70851    14.70851\n",
      " 2310    14.70846    14.70847\n",
      " 2320    14.70842    14.70842\n",
      " 2330    14.70837    14.70838\n",
      " 2340    14.70833    14.70833\n",
      " 2350    14.70829    14.70829\n",
      " 2360    14.70825    14.70825\n",
      " 2370    14.70820    14.70821\n",
      " 2380    14.70816    14.70817\n",
      " 2390    14.70812    14.70813\n",
      " 2400    14.70808    14.70809\n",
      " 2410    14.70805    14.70805\n",
      " 2420    14.70801    14.70801\n",
      " 2430    14.70797    14.70797\n",
      " 2440    14.70793    14.70794\n",
      " 2450    14.70790    14.70790\n",
      " 2460    14.70786    14.70786\n",
      " 2470    14.70783    14.70783\n",
      " 2480    14.70779    14.70779\n",
      " 2490    14.70776    14.70776\n",
      " 2500    14.70772    14.70773\n",
      "Time: 0.46329seconds. Iterations per second: 5398.35\n",
      "\n"
     ]
    },
    {
     "data": {
      "text/plain": [
       "0"
      ]
     },
     "execution_count": 8,
     "metadata": {},
     "output_type": "execute_result"
    }
   ],
   "source": [
    "# Create Ligand system topology, STEP 2\n",
    "# Babel_minimize: Structure energy minimization of a small molecule after being modified adding hydrogen atoms\n",
    "# Import module\n",
    "from biobb_chemistry.babelm.babel_minimize import babel_minimize\n",
    "\n",
    "# Create prop dict and inputs/outputs\n",
    "output_babel_min = ligandCode+'.H.min.mol2'                              \n",
    "prop = {\n",
    "    'method' : 'sd',\n",
    "    'criteria' : '1e-10',\n",
    "    'force_field' : 'GAFF'\n",
    "}\n",
    "\n",
    "\n",
    "# Create and launch bb\n",
    "babel_minimize(input_path=output_reduce_h,\n",
    "              output_path=output_babel_min,\n",
    "              properties=prop)"
   ]
  },
  {
   "cell_type": "markdown",
   "metadata": {},
   "source": [
    "### Visualizing 3D structures\n",
    "Visualizing the small molecule generated **PDB structures** using **NGL**:  \n",
    "- **Original Ligand Structure** (Left)\n",
    "- **Ligand Structure with hydrogen atoms added** (with Reduce program) (Center)\n",
    "- **Ligand Structure with hydrogen atoms added** (with Reduce program), **energy minimized** (with Open Babel) (Right) "
   ]
  },
  {
   "cell_type": "code",
   "execution_count": 47,
   "metadata": {
    "scrolled": false
   },
   "outputs": [
    {
     "data": {
      "application/vnd.jupyter.widget-view+json": {
       "model_id": "e71a672211294ad8ab9109982ed1c9e9",
       "version_major": 2,
       "version_minor": 0
      },
      "text/plain": [
       "HBox(children=(NGLWidget(), NGLWidget(), NGLWidget()))"
      ]
     },
     "metadata": {},
     "output_type": "display_data"
    }
   ],
   "source": [
    "# Show different structures generated (for comparison)\n",
    "\n",
    "view1 = nglview.show_structure_file(ligandFile)\n",
    "view1.add_representation(repr_type='ball+stick')\n",
    "view1._remote_call('setSize', target='Widget', args=['350px','400px'])\n",
    "view1.camera='orthographic'\n",
    "\n",
    "view1.render_image()\n",
    "view1.download_image(filename='ngl4.png')\n",
    "\n",
    "view1\n",
    "view2 = nglview.show_structure_file(output_reduce_h)\n",
    "view2.add_representation(repr_type='ball+stick')\n",
    "view2._remote_call('setSize', target='Widget', args=['350px','400px'])\n",
    "view2.camera='orthographic'\n",
    "\n",
    "view2.render_image()\n",
    "view2.download_image(filename='ngl5.png')\n",
    "\n",
    "view2\n",
    "view3 = nglview.show_structure_file(output_babel_min)\n",
    "view3.add_representation(repr_type='ball+stick')\n",
    "view3._remote_call('setSize', target='Widget', args=['350px','400px'])\n",
    "view3.camera='orthographic'\n",
    "\n",
    "view3.render_image()\n",
    "view3.download_image(filename='ngl6.png')\n",
    "\n",
    "view3\n",
    "ipywidgets.HBox([view1, view2, view3])"
   ]
  },
  {
   "cell_type": "markdown",
   "metadata": {},
   "source": [
    "<img src='ngl4.png' style='float: left;width:33%'></img><img src='ngl5.png' style='float: left;width:33%'></img><img src='ngl6.png' style='float: left;width:33%'></img>"
   ]
  },
  {
   "cell_type": "markdown",
   "metadata": {},
   "source": [
    "<a id=\"ligandTopologyStep3\"></a>\n",
    "### Step 3: Generate **ligand topology** (parameters)."
   ]
  },
  {
   "cell_type": "code",
   "execution_count": 10,
   "metadata": {
    "scrolled": false
   },
   "outputs": [
    {
     "name": "stdout",
     "output_type": "stream",
     "text": [
      "2021-07-02 08:38:38,884 [MainThread  ] [INFO ]  Running acpype, this execution can take a while\n",
      "2021-07-02 08:38:38,885 [MainThread  ] [INFO ]  Not using any container\n",
      "2021-07-02 08:38:41,541 [MainThread  ] [INFO ]  acpype -i /home/gbayarri_local/projects/BioBB/tutorials/biobb_wf_protein-complex_md_setup/biobb_wf_protein-complex_md_setup/notebooks/JZ4.H.min.mol2 -b JZ4params.mpev2s -n 0\n",
      "\n",
      "2021-07-02 08:38:41,542 [MainThread  ] [INFO ]  Exit code 0\n",
      "\n",
      "2021-07-02 08:38:41,543 [MainThread  ] [INFO ]  ========================================================================================\n",
      "| ACPYPE: AnteChamber PYthon Parser interfacE v. 2019-11-07T23:16:00CET (c) 2021 AWSdS |\n",
      "========================================================================================\n",
      "==> ... charge set to 0\n",
      "==> Executing Antechamber...\n",
      "==> * Antechamber OK *\n",
      "==> * Parmchk OK *\n",
      "==> Executing Tleap...\n",
      "++++++++++start_quote+++++++++++++++++++++++++++++++++++++++++++++++++++++++++++\n",
      "Checking 'JZ4'....\n",
      "Checking parameters for unit 'JZ4'.\n",
      "Checking for bond parameters.\n",
      "Checking for angle parameters.\n",
      "Unit is OK.\n",
      "++++++++++end_quote+++++++++++++++++++++++++++++++++++++++++++++++++++++++++++++\n",
      "==> * Tleap OK *\n",
      "==> Removing temporary files...\n",
      "==> Writing NEW PDB file\n",
      "\n",
      "==> Writing CNS/XPLOR files\n",
      "\n",
      "==> Writing GROMACS files\n",
      "\n",
      "==> Writing GMX dihedrals for GMX 4.5 and higher.\n",
      "\n",
      "==> Writing CHARMM files\n",
      "\n",
      "==> Writing pickle file JZ4params.mpev2s.pkl\n",
      "Total time of execution: 3s\n",
      "\n",
      "2021-07-02 08:38:41,545 [MainThread  ] [INFO ]  File JZ4params.top succesfully created\n",
      "2021-07-02 08:38:41,547 [MainThread  ] [INFO ]  File JZ4params.itp succesfully created\n",
      "2021-07-02 08:38:41,549 [MainThread  ] [INFO ]  File JZ4params.gro succesfully created\n",
      "2021-07-02 08:38:41,551 [MainThread  ] [INFO ]  Removed temporary folder: JZ4params.mpev2s.acpype\n"
     ]
    },
    {
     "data": {
      "text/plain": [
       "0"
      ]
     },
     "execution_count": 10,
     "metadata": {},
     "output_type": "execute_result"
    }
   ],
   "source": [
    "# Create Ligand system topology, STEP 3\n",
    "# Acpype_params_gmx: Generation of topologies for GROMACS with ACPype\n",
    "# Import module\n",
    "from biobb_chemistry.acpype.acpype_params_gmx import acpype_params_gmx\n",
    "\n",
    "# Create prop dict and inputs/outputs\n",
    "output_acpype_gro = ligandCode+'params.gro'\n",
    "output_acpype_itp = ligandCode+'params.itp'\n",
    "output_acpype_top = ligandCode+'params.top'\n",
    "output_acpype = ligandCode+'params'\n",
    "prop = {\n",
    "    'basename' : output_acpype,\n",
    "    'charge' : mol_charge\n",
    "}\n",
    "\n",
    "# Create and launch bb\n",
    "acpype_params_gmx(input_path=output_babel_min, \n",
    "                output_path_gro=output_acpype_gro,\n",
    "                output_path_itp=output_acpype_itp,\n",
    "                output_path_top=output_acpype_top,\n",
    "                properties=prop)"
   ]
  },
  {
   "cell_type": "markdown",
   "metadata": {},
   "source": [
    "<a id=\"restraints\"></a>\n",
    "***\n",
    "## Preparing Ligand Restraints\n",
    "In subsequent steps of the pipeline, such as the equilibration stages of the **protein-ligand complex** system, it is recommended to apply some **restraints** to the small molecule, to avoid a possible change in position due to protein repulsion. **Position restraints** will be applied to the ligand, using a **force constant of 1000 KJ/mol\\*nm^2** on the three coordinates: x, y and z. In this steps the **restriction files** will be created and integrated in the **ligand topology**.\n",
    "- [Step 1](#restraintsStep1): Creating an index file with a new group including just the **small molecule heavy atoms**.\n",
    "- [Step 2](#restraintsStep2): Generating the **position restraints** file.\n",
    "***\n",
    "**Building Blocks** used:\n",
    " - [MakeNdx](https://biobb-md.readthedocs.io/en/latest/gromacs.html#module-gromacs.make_ndx) from **biobb_md.gromacs.make_ndx** \n",
    " - [Genrestr](https://biobb-md.readthedocs.io/en/latest/gromacs.html#module-gromacs.genrestr) from **biobb_md.gromacs.genrestr** \n",
    "***"
   ]
  },
  {
   "cell_type": "markdown",
   "metadata": {},
   "source": [
    "<a id=\"restraintsStep1\"></a>\n",
    "### Step 1: Creating an index file for the small molecule heavy atoms"
   ]
  },
  {
   "cell_type": "code",
   "execution_count": 11,
   "metadata": {
    "scrolled": false
   },
   "outputs": [
    {
     "name": "stdout",
     "output_type": "stream",
     "text": [
      "2021-07-02 08:38:45,693 [MainThread  ] [INFO ]  GROMACS MakeNdx 20190 version detected\n",
      "2021-07-02 08:38:45,694 [MainThread  ] [INFO ]  Not using any container\n",
      "2021-07-02 08:38:45,712 [MainThread  ] [INFO ]  echo -e '0 & ! a H*\\nq' | gmx -nobackup -nocopyright make_ndx -f JZ4params.gro -o JZ4_index.ndx\n",
      "\n",
      "2021-07-02 08:38:45,713 [MainThread  ] [INFO ]  Exit code 0\n",
      "\n",
      "2021-07-02 08:38:45,714 [MainThread  ] [INFO ]  Going to read 0 old index file(s)\n",
      "Analysing residue names:\n",
      "There are:     1      Other residues\n",
      "Analysing residues not classified as Protein/DNA/RNA/Water and splitting into groups...\n",
      "\n",
      "  0 System              :    22 atoms\n",
      "  1 Other               :    22 atoms\n",
      "  2 JZ4                 :    22 atoms\n",
      "\n",
      " nr : group      '!': not  'name' nr name   'splitch' nr    Enter: list groups\n",
      " 'a': atom       '&': and  'del' nr         'splitres' nr   'l': list residues\n",
      " 't': atom type  '|': or   'keep' nr        'splitat' nr    'h': help\n",
      " 'r': residue              'res' nr         'chain' char\n",
      " \"name\": group             'case': case sensitive           'q': save and quit\n",
      " 'ri': residue index\n",
      "\n",
      "> \n",
      "Copied index group 0 'System'\n",
      "Found 12 atoms with name H*\n",
      "Complemented group: 10 atoms\n",
      "Merged two groups with AND: 22 10 -> 10\n",
      "\n",
      "  3 System_&_!H*        :    10 atoms\n",
      "\n",
      "> \n",
      "\n",
      "2021-07-02 08:38:45,715 [MainThread  ] [INFO ]                        :-) GROMACS - gmx make_ndx, 2019 (-:\n",
      "\n",
      "Executable:   /usr/local/gromacs/bin/gmx\n",
      "Data prefix:  /usr/local/gromacs\n",
      "Working dir:  /home/gbayarri_local/projects/BioBB/tutorials/biobb_wf_protein-complex_md_setup/biobb_wf_protein-complex_md_setup/notebooks\n",
      "Command line:\n",
      "  gmx -nobackup -nocopyright make_ndx -f JZ4params.gro -o JZ4_index.ndx\n",
      "\n",
      "\n",
      "Reading structure file\n",
      "\n",
      "GROMACS reminds you: \"Bring Out the Gimp\" (Pulp Fiction)\n",
      "\n",
      "\n",
      "2021-07-02 08:38:45,715 [MainThread  ] [INFO ]  Removed: []\n"
     ]
    },
    {
     "data": {
      "text/plain": [
       "0"
      ]
     },
     "execution_count": 11,
     "metadata": {},
     "output_type": "execute_result"
    }
   ],
   "source": [
    "# MakeNdx: Creating index file with a new group (small molecule heavy atoms)\n",
    "from biobb_md.gromacs.make_ndx import make_ndx\n",
    "\n",
    "# Create prop dict and inputs/outputs\n",
    "output_ligand_ndx = ligandCode+'_index.ndx'\n",
    "prop = {\n",
    "    'selection': \"0 & ! a H*\"\n",
    "}\n",
    "\n",
    "# Create and launch bb\n",
    "make_ndx(input_structure_path=output_acpype_gro,\n",
    "        output_ndx_path=output_ligand_ndx,\n",
    "        properties=prop)"
   ]
  },
  {
   "cell_type": "markdown",
   "metadata": {},
   "source": [
    "<a id=\"restraintsStep2\"></a>\n",
    "### Step 2: Generating the position restraints file"
   ]
  },
  {
   "cell_type": "code",
   "execution_count": 12,
   "metadata": {
    "scrolled": false
   },
   "outputs": [
    {
     "name": "stdout",
     "output_type": "stream",
     "text": [
      "2021-07-02 08:38:47,230 [MainThread  ] [INFO ]  GROMACS Genrestr 20190 version detected\n",
      "2021-07-02 08:38:47,232 [MainThread  ] [INFO ]  Not using any container\n",
      "2021-07-02 08:38:47,251 [MainThread  ] [INFO ]  echo \"System\" | gmx -nobackup -nocopyright genrestr -f JZ4params.gro -o JZ4_posres.itp -fc 1000 1000 1000 -n JZ4_index.ndx\n",
      "\n",
      "2021-07-02 08:38:47,253 [MainThread  ] [INFO ]  Exit code 0\n",
      "\n",
      "2021-07-02 08:38:47,253 [MainThread  ] [INFO ]  Select group to position restrain\n",
      "Selected 0: 'System'\n",
      "\n",
      "2021-07-02 08:38:47,254 [MainThread  ] [INFO ]                        :-) GROMACS - gmx genrestr, 2019 (-:\n",
      "\n",
      "Executable:   /usr/local/gromacs/bin/gmx\n",
      "Data prefix:  /usr/local/gromacs\n",
      "Working dir:  /home/gbayarri_local/projects/BioBB/tutorials/biobb_wf_protein-complex_md_setup/biobb_wf_protein-complex_md_setup/notebooks\n",
      "Command line:\n",
      "  gmx -nobackup -nocopyright genrestr -f JZ4params.gro -o JZ4_posres.itp -fc 1000 1000 1000 -n JZ4_index.ndx\n",
      "\n",
      "\n",
      "Reading structure file\n",
      "Group     0 (         System) has    22 elements\n",
      "Group     1 (          Other) has    22 elements\n",
      "Group     2 (            JZ4) has    22 elements\n",
      "Group     3 (   System_&_!H*) has    10 elements\n",
      "Select a group: \n",
      "GROMACS reminds you: \"Proceed, With Fingers Crossed\" (TeX)\n",
      "\n",
      "\n",
      "2021-07-02 08:38:47,255 [MainThread  ] [INFO ]  Removed: []\n"
     ]
    },
    {
     "data": {
      "text/plain": [
       "0"
      ]
     },
     "execution_count": 12,
     "metadata": {},
     "output_type": "execute_result"
    }
   ],
   "source": [
    "# Genrestr: Generating the position restraints file\n",
    "from biobb_md.gromacs.genrestr import genrestr\n",
    "\n",
    "# Create prop dict and inputs/outputs\n",
    "output_restraints_top = ligandCode+'_posres.itp'\n",
    "prop = {\n",
    "    'force_constants': \"1000 1000 1000\",\n",
    "    'restrained_group': \"System\"\n",
    "}\n",
    "\n",
    "# Create and launch bb\n",
    "genrestr(input_structure_path=output_acpype_gro,\n",
    "         input_ndx_path=output_ligand_ndx,\n",
    "         output_itp_path=output_restraints_top,\n",
    "         properties=prop)"
   ]
  },
  {
   "cell_type": "markdown",
   "metadata": {},
   "source": [
    "<a id=\"complex\"></a>\n",
    "***\n",
    "## Create new protein-ligand complex structure file\n",
    "Building new **protein-ligand complex** PDB file with:\n",
    "- The new **protein system** with fixed problems from *Fix Protein Structure* step and hydrogens atoms added from *Create Protein System Topology* step.\n",
    "- The new **ligand system** with hydrogens atoms added from *Create Ligand System Topology* step. \n",
    "\n",
    "This new structure is needed for **GROMACS** as it is **force field-compliant**, it **has all the new hydrogen atoms**, and the **atom names are matching the newly generated protein and ligand topologies**.\n",
    "***\n",
    "**Building Blocks** used:\n",
    " - [GMXTrjConvStr](https://biobb-analysis.readthedocs.io/en/latest/gromacs.html#module-gromacs.gmx_trjconv_str) from **biobb_analysis.gromacs.gmx_trjconv_str**\n",
    "***"
   ]
  },
  {
   "cell_type": "code",
   "execution_count": 13,
   "metadata": {
    "scrolled": false
   },
   "outputs": [
    {
     "name": "stdout",
     "output_type": "stream",
     "text": [
      "2021-07-02 08:38:48,527 [MainThread  ] [INFO ]  Not using any container\n",
      "2021-07-02 08:38:48,570 [MainThread  ] [INFO ]  echo \"System\" | gmx trjconv -f /home/gbayarri_local/projects/BioBB/tutorials/biobb_wf_protein-complex_md_setup/biobb_wf_protein-complex_md_setup/notebooks/3HTB_pdb2gmx.gro -s /home/gbayarri_local/projects/BioBB/tutorials/biobb_wf_protein-complex_md_setup/biobb_wf_protein-complex_md_setup/notebooks/3HTB_pdb2gmx.gro -o 3HTB_JZ4_complex_H.pdb\n",
      "\n",
      "2021-07-02 08:38:48,572 [MainThread  ] [INFO ]  Exit code 0\n",
      "\n",
      "2021-07-02 08:38:48,573 [MainThread  ] [INFO ]  Note that major changes are planned in future for trjconv, to improve usability and utility.Select group for output\n",
      "Selected 0: 'System'\n",
      "\n",
      "2021-07-02 08:38:48,573 [MainThread  ] [INFO ]                        :-) GROMACS - gmx trjconv, 2019 (-:\n",
      "\n",
      "                            GROMACS is written by:\n",
      "     Emile Apol      Rossen Apostolov      Paul Bauer     Herman J.C. Berendsen\n",
      "    Par Bjelkmar      Christian Blau   Viacheslav Bolnykh     Kevin Boyd    \n",
      " Aldert van Buuren   Rudi van Drunen     Anton Feenstra       Alan Gray     \n",
      "  Gerrit Groenhof     Anca Hamuraru    Vincent Hindriksen  M. Eric Irrgang  \n",
      "  Aleksei Iupinov   Christoph Junghans     Joe Jordan     Dimitrios Karkoulis\n",
      "    Peter Kasson        Jiri Kraus      Carsten Kutzner      Per Larsson    \n",
      "  Justin A. Lemkul    Viveca Lindahl    Magnus Lundborg     Erik Marklund   \n",
      "    Pascal Merz     Pieter Meulenhoff    Teemu Murtola       Szilard Pall   \n",
      "    Sander Pronk      Roland Schulz      Michael Shirts    Alexey Shvetsov  \n",
      "   Alfons Sijbers     Peter Tieleman      Jon Vincent      Teemu Virolainen \n",
      " Christian Wennberg    Maarten Wolf   \n",
      "                           and the project leaders:\n",
      "        Mark Abraham, Berk Hess, Erik Lindahl, and David van der Spoel\n",
      "\n",
      "Copyright (c) 1991-2000, University of Groningen, The Netherlands.\n",
      "Copyright (c) 2001-2018, The GROMACS development team at\n",
      "Uppsala University, Stockholm University and\n",
      "the Royal Institute of Technology, Sweden.\n",
      "check out http://www.gromacs.org for more information.\n",
      "\n",
      "GROMACS is free software; you can redistribute it and/or modify it\n",
      "under the terms of the GNU Lesser General Public License\n",
      "as published by the Free Software Foundation; either version 2.1\n",
      "of the License, or (at your option) any later version.\n",
      "\n",
      "GROMACS:      gmx trjconv, version 2019\n",
      "Executable:   /usr/local/gromacs/bin/gmx\n",
      "Data prefix:  /usr/local/gromacs\n",
      "Working dir:  /home/gbayarri_local/projects/BioBB/tutorials/biobb_wf_protein-complex_md_setup/biobb_wf_protein-complex_md_setup/notebooks\n",
      "Command line:\n",
      "  gmx trjconv -f /home/gbayarri_local/projects/BioBB/tutorials/biobb_wf_protein-complex_md_setup/biobb_wf_protein-complex_md_setup/notebooks/3HTB_pdb2gmx.gro -s /home/gbayarri_local/projects/BioBB/tutorials/biobb_wf_protein-complex_md_setup/biobb_wf_protein-complex_md_setup/notebooks/3HTB_pdb2gmx.gro -o 3HTB_JZ4_complex_H.pdb\n",
      "\n",
      "Will write pdb: Protein data bank file\n",
      "Group     0 (         System) has  2614 elements\n",
      "Group     1 (        Protein) has  2614 elements\n",
      "Group     2 (      Protein-H) has  1301 elements\n",
      "Group     3 (        C-alpha) has   163 elements\n",
      "Group     4 (       Backbone) has   489 elements\n",
      "Group     5 (      MainChain) has   653 elements\n",
      "Group     6 (   MainChain+Cb) has   805 elements\n",
      "Group     7 (    MainChain+H) has   815 elements\n",
      "Group     8 (      SideChain) has  1799 elements\n",
      "Group     9 (    SideChain-H) has   648 elements\n",
      "Select a group: Reading frames from gro file 'Grunge ROck MAChoS', 2614 atoms.\n",
      "Reading frame       0 time    0.000   \n",
      "Precision of /home/gbayarri_local/projects/BioBB/tutorials/biobb_wf_protein-complex_md_setup/biobb_wf_protein-complex_md_setup/notebooks/3HTB_pdb2gmx.gro is 0.001 (nm)\n",
      "Last frame          0 time    0.000   \n",
      "\n",
      "\n",
      "GROMACS reminds you: \"It's just the way this stuff is done\" (Built to Spill)\n",
      "\n",
      "\n",
      "2021-07-02 08:38:48,579 [MainThread  ] [INFO ]  Not using any container\n",
      "2021-07-02 08:38:48,601 [MainThread  ] [INFO ]  echo \"System\" | gmx trjconv -f /home/gbayarri_local/projects/BioBB/tutorials/biobb_wf_protein-complex_md_setup/biobb_wf_protein-complex_md_setup/notebooks/JZ4params.gro -s /home/gbayarri_local/projects/BioBB/tutorials/biobb_wf_protein-complex_md_setup/biobb_wf_protein-complex_md_setup/notebooks/JZ4params.gro -o JZ4_complex_H.pdb\n",
      "\n",
      "2021-07-02 08:38:48,602 [MainThread  ] [INFO ]  Exit code 0\n",
      "\n",
      "2021-07-02 08:38:48,603 [MainThread  ] [INFO ]  Note that major changes are planned in future for trjconv, to improve usability and utility.Select group for output\n",
      "Selected 0: 'System'\n",
      "\n",
      "2021-07-02 08:38:48,604 [MainThread  ] [INFO ]                        :-) GROMACS - gmx trjconv, 2019 (-:\n",
      "\n",
      "                            GROMACS is written by:\n",
      "     Emile Apol      Rossen Apostolov      Paul Bauer     Herman J.C. Berendsen\n",
      "    Par Bjelkmar      Christian Blau   Viacheslav Bolnykh     Kevin Boyd    \n",
      " Aldert van Buuren   Rudi van Drunen     Anton Feenstra       Alan Gray     \n",
      "  Gerrit Groenhof     Anca Hamuraru    Vincent Hindriksen  M. Eric Irrgang  \n",
      "  Aleksei Iupinov   Christoph Junghans     Joe Jordan     Dimitrios Karkoulis\n",
      "    Peter Kasson        Jiri Kraus      Carsten Kutzner      Per Larsson    \n",
      "  Justin A. Lemkul    Viveca Lindahl    Magnus Lundborg     Erik Marklund   \n",
      "    Pascal Merz     Pieter Meulenhoff    Teemu Murtola       Szilard Pall   \n",
      "    Sander Pronk      Roland Schulz      Michael Shirts    Alexey Shvetsov  \n",
      "   Alfons Sijbers     Peter Tieleman      Jon Vincent      Teemu Virolainen \n",
      " Christian Wennberg    Maarten Wolf   \n",
      "                           and the project leaders:\n",
      "        Mark Abraham, Berk Hess, Erik Lindahl, and David van der Spoel\n",
      "\n",
      "Copyright (c) 1991-2000, University of Groningen, The Netherlands.\n",
      "Copyright (c) 2001-2018, The GROMACS development team at\n",
      "Uppsala University, Stockholm University and\n",
      "the Royal Institute of Technology, Sweden.\n",
      "check out http://www.gromacs.org for more information.\n",
      "\n",
      "GROMACS is free software; you can redistribute it and/or modify it\n",
      "under the terms of the GNU Lesser General Public License\n",
      "as published by the Free Software Foundation; either version 2.1\n",
      "of the License, or (at your option) any later version.\n",
      "\n",
      "GROMACS:      gmx trjconv, version 2019\n",
      "Executable:   /usr/local/gromacs/bin/gmx\n",
      "Data prefix:  /usr/local/gromacs\n",
      "Working dir:  /home/gbayarri_local/projects/BioBB/tutorials/biobb_wf_protein-complex_md_setup/biobb_wf_protein-complex_md_setup/notebooks\n",
      "Command line:\n",
      "  gmx trjconv -f /home/gbayarri_local/projects/BioBB/tutorials/biobb_wf_protein-complex_md_setup/biobb_wf_protein-complex_md_setup/notebooks/JZ4params.gro -s /home/gbayarri_local/projects/BioBB/tutorials/biobb_wf_protein-complex_md_setup/biobb_wf_protein-complex_md_setup/notebooks/JZ4params.gro -o JZ4_complex_H.pdb\n",
      "\n",
      "Will write pdb: Protein data bank file\n",
      "Group     0 (         System) has    22 elements\n",
      "Group     1 (          Other) has    22 elements\n",
      "Group     2 (            JZ4) has    22 elements\n",
      "Select a group: Reading frames from gro file 'JZ4params_GMX.gro created by acpype (v: 2019-11-07T23:16:00CET) on Fri Jul  2 08:38:38 2021', 22 atoms.\n",
      "Reading frame       0 time    0.000   \n",
      "Precision of /home/gbayarri_local/projects/BioBB/tutorials/biobb_wf_protein-complex_md_setup/biobb_wf_protein-complex_md_setup/notebooks/JZ4params.gro is 0.001 (nm)\n",
      "Last frame          0 time    0.000   \n",
      "\n",
      "\n",
      "GROMACS reminds you: \"I ought to warn you, I have no faith\" (Jane Eyre in Jane Eyre by Charlotte Bronte)\n",
      "\n",
      "\n",
      "2021-07-02 08:38:48,617 [MainThread  ] [INFO ]  File 3HTB_JZ4_H.pdb created\n"
     ]
    },
    {
     "data": {
      "text/plain": [
       "0"
      ]
     },
     "execution_count": 13,
     "metadata": {},
     "output_type": "execute_result"
    }
   ],
   "source": [
    "# biobb analysis module\n",
    "from biobb_analysis.gromacs.gmx_trjconv_str import gmx_trjconv_str\n",
    "from biobb_structure_utils.utils.cat_pdb import cat_pdb\n",
    "\n",
    "# Convert gro (with hydrogens) to pdb (PROTEIN)\n",
    "proteinFile_H = pdbCode+'_'+ligandCode+'_complex_H.pdb'\n",
    "prop = {\n",
    "    'selection' : 'System'\n",
    "}\n",
    "\n",
    "# Create and launch bb\n",
    "gmx_trjconv_str(input_structure_path=output_pdb2gmx_gro,\n",
    "              input_top_path=output_pdb2gmx_gro,\n",
    "              output_str_path=proteinFile_H, \n",
    "              properties=prop)\n",
    "\n",
    "# Convert gro (with hydrogens) to pdb (LIGAND)\n",
    "ligandFile_H = ligandCode+'_complex_H.pdb'\n",
    "prop = {\n",
    "    'selection' : 'System'\n",
    "}\n",
    "\n",
    "# Create and launch bb\n",
    "gmx_trjconv_str(input_structure_path=output_acpype_gro,\n",
    "              input_top_path=output_acpype_gro,\n",
    "              output_str_path=ligandFile_H, \n",
    "              properties=prop)\n",
    "\n",
    "\n",
    "# Concatenating both PDB files: Protein + Ligand\n",
    "complexFile_H = pdbCode+'_'+ligandCode+'_H.pdb'\n",
    "\n",
    "# Create and launch bb\n",
    "cat_pdb(input_structure1=proteinFile_H,\n",
    "       input_structure2=ligandFile_H,\n",
    "       output_structure_path=complexFile_H)"
   ]
  },
  {
   "cell_type": "markdown",
   "metadata": {},
   "source": [
    "<a id=\"complextop\"></a>\n",
    "***\n",
    "## Create new protein-ligand complex topology file\n",
    "Building new **protein-ligand complex** GROMACS topology file with:\n",
    "- The new **protein system** topology generated from *Create Protein System Topology* step.\n",
    "- The new **ligand system** topology generated from *Create Ligand System Topology* step. \n",
    "\n",
    "NOTE: From this point on, the **protein-ligand complex structure and topology** generated can be used in a regular MD setup.\n",
    "***\n",
    "**Building Blocks** used:\n",
    " - [AppendLigand](https://biobb-md.readthedocs.io/en/latest/modules.html) from **biobb_md.gromacs_extra.append_ligand**  (NOTE: link should be updated with the documentation)\n",
    "***"
   ]
  },
  {
   "cell_type": "code",
   "execution_count": 14,
   "metadata": {
    "scrolled": false
   },
   "outputs": [
    {
     "name": "stdout",
     "output_type": "stream",
     "text": [
      "2021-07-02 08:38:50,511 [MainThread  ] [INFO ]  Extracting: /home/gbayarri_local/projects/BioBB/tutorials/biobb_wf_protein-complex_md_setup/biobb_wf_protein-complex_md_setup/notebooks/3HTB_pdb2gmx_top.zip\n",
      "2021-07-02 08:38:50,512 [MainThread  ] [INFO ]  to:\n",
      "2021-07-02 08:38:50,513 [MainThread  ] [INFO ]  ['d84d8c28-8dbf-421c-bdf3-4b4fe0cea8eb/p2g.top', 'd84d8c28-8dbf-421c-bdf3-4b4fe0cea8eb/posre.itp']\n",
      "2021-07-02 08:38:50,514 [MainThread  ] [INFO ]  Unzipping: \n",
      "2021-07-02 08:38:50,515 [MainThread  ] [INFO ]  3HTB_pdb2gmx_top.zip\n",
      "2021-07-02 08:38:50,516 [MainThread  ] [INFO ]  To: \n",
      "2021-07-02 08:38:50,516 [MainThread  ] [INFO ]  d84d8c28-8dbf-421c-bdf3-4b4fe0cea8eb/p2g.top\n",
      "2021-07-02 08:38:50,517 [MainThread  ] [INFO ]  d84d8c28-8dbf-421c-bdf3-4b4fe0cea8eb/posre.itp\n",
      "2021-07-02 08:38:50,552 [MainThread  ] [INFO ]  Compressing topology to: 3HTB_JZ4_complex.top.zip\n",
      "2021-07-02 08:38:50,554 [MainThread  ] [INFO ]  Ignored file d84d8c28-8dbf-421c-bdf3-4b4fe0cea8eb/amber99sb-ildn.ff/forcefield.itp\n",
      "2021-07-02 08:38:50,567 [MainThread  ] [INFO ]  Ignored file d84d8c28-8dbf-421c-bdf3-4b4fe0cea8eb/amber99sb-ildn.ff/spce.itp\n",
      "2021-07-02 08:38:50,568 [MainThread  ] [INFO ]  Ignored file d84d8c28-8dbf-421c-bdf3-4b4fe0cea8eb/amber99sb-ildn.ff/ions.itp\n",
      "2021-07-02 08:38:50,573 [MainThread  ] [INFO ]  Adding:\n",
      "2021-07-02 08:38:50,573 [MainThread  ] [INFO ]  ['d84d8c28-8dbf-421c-bdf3-4b4fe0cea8eb/JZ4_posres.itp', 'd84d8c28-8dbf-421c-bdf3-4b4fe0cea8eb/JZ4params.itp', 'd84d8c28-8dbf-421c-bdf3-4b4fe0cea8eb/ligand.top', 'd84d8c28-8dbf-421c-bdf3-4b4fe0cea8eb/posre.itp']\n",
      "2021-07-02 08:38:50,575 [MainThread  ] [INFO ]  to: /home/gbayarri_local/projects/BioBB/tutorials/biobb_wf_protein-complex_md_setup/biobb_wf_protein-complex_md_setup/notebooks/3HTB_JZ4_complex.top.zip\n",
      "2021-07-02 08:38:50,576 [MainThread  ] [INFO ]  Removed: ['d84d8c28-8dbf-421c-bdf3-4b4fe0cea8eb']\n"
     ]
    },
    {
     "data": {
      "text/plain": [
       "0"
      ]
     },
     "execution_count": 14,
     "metadata": {},
     "output_type": "execute_result"
    }
   ],
   "source": [
    "# AppendLigand: Append a ligand to a GROMACS topology\n",
    "# Import module\n",
    "from biobb_md.gromacs_extra.append_ligand import append_ligand\n",
    "\n",
    "# Create prop dict and inputs/outputs\n",
    "output_complex_top = pdbCode+'_'+ligandCode+'_complex.top.zip'\n",
    "\n",
    "posresifdef = \"POSRES_\"+ligandCode.upper()\n",
    "prop = {\n",
    "    'posres_name': posresifdef\n",
    "}\n",
    "\n",
    "# Create and launch bb\n",
    "append_ligand(input_top_zip_path=output_pdb2gmx_top_zip,\n",
    "             input_posres_itp_path=output_restraints_top,\n",
    "             input_itp_path=output_acpype_itp, \n",
    "             output_top_zip_path=output_complex_top,\n",
    "             properties=prop)"
   ]
  },
  {
   "cell_type": "markdown",
   "metadata": {},
   "source": [
    "<a id=\"box\"></a>\n",
    "***\n",
    "## Create solvent box\n",
    "Define the unit cell for the **protein-ligand complex** to fill it with water molecules.<br>\n",
    "**Truncated octahedron** box is used for the unit cell. This box type is the one which best reflects the geometry of the solute/protein, in this case a **globular protein**, as it approximates a sphere. It is also convenient for the computational point of view, as it accumulates **less water molecules at the corners**, reducing the final number of water molecules in the system and making the simulation run faster.<br> A **protein to box** distance of **0.8 nm** is used, and the protein is **centered in the box**.  \n",
    "\n",
    "***\n",
    "**Building Blocks** used:\n",
    " - [Editconf](https://biobb-md.readthedocs.io/en/latest/gromacs.html#module-gromacs.editconf) from **biobb_md.gromacs.editconf** \n",
    "***"
   ]
  },
  {
   "cell_type": "code",
   "execution_count": 15,
   "metadata": {
    "scrolled": false
   },
   "outputs": [
    {
     "name": "stdout",
     "output_type": "stream",
     "text": [
      "2021-07-02 08:38:52,118 [MainThread  ] [INFO ]  GROMACS Editconf 20190 version detected\n",
      "2021-07-02 08:38:52,119 [MainThread  ] [INFO ]  Centering molecule in the box.\n",
      "2021-07-02 08:38:52,120 [MainThread  ] [INFO ]  Distance of the box to molecule:   0.80\n",
      "2021-07-02 08:38:52,121 [MainThread  ] [INFO ]  Box type: octahedron\n",
      "2021-07-02 08:38:52,121 [MainThread  ] [INFO ]  Not using any container\n",
      "2021-07-02 08:38:52,178 [MainThread  ] [INFO ]  gmx -nobackup -nocopyright editconf -f 3HTB_JZ4_H.pdb -o 3HTB_JZ4_complex_editconf.gro -d 0.8 -bt octahedron -c\n",
      "\n",
      "2021-07-02 08:38:52,180 [MainThread  ] [INFO ]  Exit code 0\n",
      "\n",
      "2021-07-02 08:38:52,182 [MainThread  ] [INFO ]  Note that major changes are planned in future for editconf, to improve usability and utility.Read 2636 atoms\n",
      "Volume: 1322.64 nm^3, corresponds to roughly 595100 electrons\n",
      "No velocities found\n",
      "    system size :  4.069  4.192  5.073 (nm)\n",
      "    diameter    :  5.849               (nm)\n",
      "    center      :  2.241 -1.669 -0.935 (nm)\n",
      "    box vectors :  8.398 10.808 14.572 (nm)\n",
      "    box angles  :  90.00  90.00  90.00 (degrees)\n",
      "    box volume  :1322.64               (nm^3)\n",
      "    shift       :  1.483  6.937  3.976 (nm)\n",
      "new center      :  3.725  5.267  3.041 (nm)\n",
      "new box vectors :  7.449  7.449  7.449 (nm)\n",
      "new box angles  :  70.53 109.47  70.53 (degrees)\n",
      "new box volume  : 318.21               (nm^3)\n",
      "\n",
      "2021-07-02 08:38:52,183 [MainThread  ] [INFO ]                        :-) GROMACS - gmx editconf, 2019 (-:\n",
      "\n",
      "Executable:   /usr/local/gromacs/bin/gmx\n",
      "Data prefix:  /usr/local/gromacs\n",
      "Working dir:  /home/gbayarri_local/projects/BioBB/tutorials/biobb_wf_protein-complex_md_setup/biobb_wf_protein-complex_md_setup/notebooks\n",
      "Command line:\n",
      "  gmx -nobackup -nocopyright editconf -f 3HTB_JZ4_H.pdb -o 3HTB_JZ4_complex_editconf.gro -d 0.8 -bt octahedron -c\n",
      "\n",
      "\n",
      "GROMACS reminds you: \"It doesn't pay to make predictions\" (Crowded House)\n",
      "\n",
      "\n",
      "2021-07-02 08:38:52,185 [MainThread  ] [INFO ]  Removed: []\n"
     ]
    },
    {
     "data": {
      "text/plain": [
       "0"
      ]
     },
     "execution_count": 15,
     "metadata": {},
     "output_type": "execute_result"
    }
   ],
   "source": [
    "# Editconf: Create solvent box\n",
    "# Import module\n",
    "from biobb_md.gromacs.editconf import editconf\n",
    "\n",
    "# Create prop dict and inputs/outputs\n",
    "output_editconf_gro = pdbCode+'_'+ligandCode+'_complex_editconf.gro'\n",
    "\n",
    "prop = {\n",
    "    'box_type': 'octahedron',\n",
    "    'distance_to_molecule': 0.8\n",
    "}\n",
    "\n",
    "# Create and launch bb\n",
    "editconf(input_gro_path=complexFile_H, \n",
    "         output_gro_path=output_editconf_gro,\n",
    "         properties=prop)"
   ]
  },
  {
   "cell_type": "markdown",
   "metadata": {},
   "source": [
    "<a id=\"water\"></a>\n",
    "***\n",
    "## Fill the box with water molecules\n",
    "Fill the unit cell for the **protein-ligand complex** with water molecules.<br>\n",
    "The solvent type used is the default **Simple Point Charge water (SPC)**, a generic equilibrated 3-point solvent model. \n",
    "\n",
    "***\n",
    "**Building Blocks** used:\n",
    " - [Solvate](https://biobb-md.readthedocs.io/en/latest/gromacs.html#module-gromacs.solvate) from **biobb_md.gromacs.solvate** \n",
    "***"
   ]
  },
  {
   "cell_type": "code",
   "execution_count": 16,
   "metadata": {
    "scrolled": false
   },
   "outputs": [
    {
     "name": "stdout",
     "output_type": "stream",
     "text": [
      "2021-07-02 08:38:53,630 [MainThread  ] [INFO ]  GROMACS Solvate 20190 version detected\n",
      "2021-07-02 08:38:53,635 [MainThread  ] [INFO ]  Extracting: /home/gbayarri_local/projects/BioBB/tutorials/biobb_wf_protein-complex_md_setup/biobb_wf_protein-complex_md_setup/notebooks/3HTB_JZ4_complex.top.zip\n",
      "2021-07-02 08:38:53,636 [MainThread  ] [INFO ]  to:\n",
      "2021-07-02 08:38:53,636 [MainThread  ] [INFO ]  ['3e06d90a-55bd-475d-855a-9ec3e98e0ba8/JZ4_posres.itp', '3e06d90a-55bd-475d-855a-9ec3e98e0ba8/JZ4params.itp', '3e06d90a-55bd-475d-855a-9ec3e98e0ba8/ligand.top', '3e06d90a-55bd-475d-855a-9ec3e98e0ba8/posre.itp']\n",
      "2021-07-02 08:38:53,637 [MainThread  ] [INFO ]  Unzipping: \n",
      "2021-07-02 08:38:53,638 [MainThread  ] [INFO ]  3HTB_JZ4_complex.top.zip\n",
      "2021-07-02 08:38:53,639 [MainThread  ] [INFO ]  To: \n",
      "2021-07-02 08:38:53,640 [MainThread  ] [INFO ]  3e06d90a-55bd-475d-855a-9ec3e98e0ba8/JZ4_posres.itp\n",
      "2021-07-02 08:38:53,640 [MainThread  ] [INFO ]  3e06d90a-55bd-475d-855a-9ec3e98e0ba8/JZ4params.itp\n",
      "2021-07-02 08:38:53,642 [MainThread  ] [INFO ]  3e06d90a-55bd-475d-855a-9ec3e98e0ba8/ligand.top\n",
      "2021-07-02 08:38:53,643 [MainThread  ] [INFO ]  3e06d90a-55bd-475d-855a-9ec3e98e0ba8/posre.itp\n",
      "2021-07-02 08:38:53,644 [MainThread  ] [INFO ]  Not using any container\n",
      "2021-07-02 08:38:54,161 [MainThread  ] [INFO ]  gmx -nobackup -nocopyright solvate -cp 3HTB_JZ4_complex_editconf.gro -cs spc216.gro -o 3HTB_JZ4_solvate.gro -p 3e06d90a-55bd-475d-855a-9ec3e98e0ba8/ligand.top\n",
      "\n",
      "2021-07-02 08:38:54,162 [MainThread  ] [INFO ]  Exit code 0\n",
      "\n",
      "2021-07-02 08:38:54,162 [MainThread  ] [INFO ]  \n",
      "WARNING: Masses and atomic (Van der Waals) radii will be guessed\n",
      "         based on residue and atom names, since they could not be\n",
      "         definitively assigned from the information in your input\n",
      "         files. These guessed numbers might deviate from the mass\n",
      "         and radius of the atom type. Please check the output\n",
      "         files if necessary.\n",
      "\n",
      "\n",
      "WARNING: Masses and atomic (Van der Waals) radii will be guessed\n",
      "         based on residue and atom names, since they could not be\n",
      "         definitively assigned from the information in your input\n",
      "         files. These guessed numbers might deviate from the mass\n",
      "         and radius of the atom type. Please check the output\n",
      "         files if necessary.\n",
      "\n",
      "\n",
      "WARNING: Masses and atomic (Van der Waals) radii will be guessed\n",
      "         based on residue and atom names, since they could not be\n",
      "         definitively assigned from the information in your input\n",
      "         files. These guessed numbers might deviate from the mass\n",
      "         and radius of the atom type. Please check the output\n",
      "         files if necessary.\n",
      "\n",
      "NOTE: From version 5.0 gmx solvate uses the Van der Waals radii\n",
      "from the source below. This means the results may be different\n",
      "compared to previous GROMACS versions.\n",
      "\n",
      "++++ PLEASE READ AND CITE THE FOLLOWING REFERENCE ++++\n",
      "A. Bondi\n",
      "van der Waals Volumes and Radii\n",
      "J. Phys. Chem. 68 (1964) pp. 441-451\n",
      "-------- -------- --- Thank You --- -------- --------\n",
      "\n",
      "Adding line for 9531 solvent molecules with resname (SOL) to topology file (3e06d90a-55bd-475d-855a-9ec3e98e0ba8/ligand.top)\n",
      "\n",
      "2021-07-02 08:38:54,163 [MainThread  ] [INFO ]                        :-) GROMACS - gmx solvate, 2019 (-:\n",
      "\n",
      "Executable:   /usr/local/gromacs/bin/gmx\n",
      "Data prefix:  /usr/local/gromacs\n",
      "Working dir:  /home/gbayarri_local/projects/BioBB/tutorials/biobb_wf_protein-complex_md_setup/biobb_wf_protein-complex_md_setup/notebooks\n",
      "Command line:\n",
      "  gmx -nobackup -nocopyright solvate -cp 3HTB_JZ4_complex_editconf.gro -cs spc216.gro -o 3HTB_JZ4_solvate.gro -p 3e06d90a-55bd-475d-855a-9ec3e98e0ba8/ligand.top\n",
      "\n",
      "Reading solute configuration\n",
      "\n",
      "Initialising inter-atomic distances...\n",
      "Generating solvent configuration\n",
      "Will generate new solvent configuration of 5x4x4 boxes\n",
      "Solvent box contains 36060 atoms in 12020 residues\n",
      "Removed 5094 solvent atoms due to solvent-solvent overlap\n",
      "Removed 2373 solvent atoms due to solute-solvent overlap\n",
      "Sorting configuration\n",
      "Found 1 molecule type:\n",
      "    SOL (   3 atoms):  9531 residues\n",
      "Generated solvent containing 28593 atoms in 9531 residues\n",
      "Writing generated configuration to 3HTB_JZ4_solvate.gro\n",
      "\n",
      "Output configuration contains 31229 atoms in 9695 residues\n",
      "Volume                 :     318.205 (nm^3)\n",
      "Density                :     1000.12 (g/l)\n",
      "Number of solvent molecules:   9531   \n",
      "\n",
      "Processing topology\n",
      "\n",
      "GROMACS reminds you: \"I can’t go to a restaurant and order food because I keep looking at the fonts on the menu. Five minutes later I realize that it’s also talking about food.\" (Donald Knuth)\n",
      "\n",
      "\n",
      "2021-07-02 08:38:54,164 [MainThread  ] [INFO ]  Compressing topology to: 3HTB_JZ4_solvate_top.zip\n",
      "2021-07-02 08:38:54,165 [MainThread  ] [INFO ]  Ignored file 3e06d90a-55bd-475d-855a-9ec3e98e0ba8/amber99sb-ildn.ff/forcefield.itp\n",
      "2021-07-02 08:38:54,185 [MainThread  ] [INFO ]  Ignored file 3e06d90a-55bd-475d-855a-9ec3e98e0ba8/amber99sb-ildn.ff/spce.itp\n",
      "2021-07-02 08:38:54,186 [MainThread  ] [INFO ]  Ignored file 3e06d90a-55bd-475d-855a-9ec3e98e0ba8/amber99sb-ildn.ff/ions.itp\n",
      "2021-07-02 08:38:54,191 [MainThread  ] [INFO ]  Adding:\n",
      "2021-07-02 08:38:54,192 [MainThread  ] [INFO ]  ['3e06d90a-55bd-475d-855a-9ec3e98e0ba8/JZ4_posres.itp', '3e06d90a-55bd-475d-855a-9ec3e98e0ba8/JZ4params.itp', '3e06d90a-55bd-475d-855a-9ec3e98e0ba8/ligand.top', '3e06d90a-55bd-475d-855a-9ec3e98e0ba8/posre.itp']\n",
      "2021-07-02 08:38:54,193 [MainThread  ] [INFO ]  to: /home/gbayarri_local/projects/BioBB/tutorials/biobb_wf_protein-complex_md_setup/biobb_wf_protein-complex_md_setup/notebooks/3HTB_JZ4_solvate_top.zip\n",
      "2021-07-02 08:38:54,194 [MainThread  ] [INFO ]  Removed: ['3e06d90a-55bd-475d-855a-9ec3e98e0ba8']\n"
     ]
    },
    {
     "data": {
      "text/plain": [
       "0"
      ]
     },
     "execution_count": 16,
     "metadata": {},
     "output_type": "execute_result"
    }
   ],
   "source": [
    "# Solvate: Fill the box with water molecules\n",
    "from biobb_md.gromacs.solvate import solvate\n",
    "\n",
    "# Create prop dict and inputs/outputs\n",
    "output_solvate_gro = pdbCode+'_'+ligandCode+'_solvate.gro'\n",
    "output_solvate_top_zip = pdbCode+'_'+ligandCode+'_solvate_top.zip'\n",
    "\n",
    "# Create and launch bb\n",
    "solvate(input_solute_gro_path=output_editconf_gro,\n",
    "        output_gro_path=output_solvate_gro,\n",
    "        input_top_zip_path=output_complex_top,\n",
    "        output_top_zip_path=output_solvate_top_zip)"
   ]
  },
  {
   "cell_type": "markdown",
   "metadata": {},
   "source": [
    "### Visualizing 3D structure\n",
    "Visualizing the **protein-ligand complex** with the newly added **solvent box** using **NGL**<br>\n",
    "Note the **octahedral box** filled with **water molecules** surrounding the **protein structure**, which is **centered** right in the middle of the box."
   ]
  },
  {
   "cell_type": "code",
   "execution_count": 49,
   "metadata": {
    "scrolled": true
   },
   "outputs": [
    {
     "data": {
      "application/vnd.jupyter.widget-view+json": {
       "model_id": "2bcd292a114941939800d2405b38a072",
       "version_major": 2,
       "version_minor": 0
      },
      "text/plain": [
       "NGLWidget()"
      ]
     },
     "metadata": {},
     "output_type": "display_data"
    }
   ],
   "source": [
    "#Show protein\n",
    "view = nglview.show_structure_file(output_solvate_gro)\n",
    "view.clear_representations()\n",
    "view.add_representation(repr_type='cartoon', selection='protein', color='sstruc')\n",
    "view.add_representation(repr_type='licorice', radius='.5', selection=ligandCode)\n",
    "view.add_representation(repr_type='line', linewidth='1', selection='SOL', opacity='.3')\n",
    "view._remote_call('setSize', target='Widget', args=['','600px'])\n",
    "view.camera='orthographic'\n",
    "\n",
    "view.render_image()\n",
    "view.download_image(filename='ngl7.png')\n",
    "\n",
    "view"
   ]
  },
  {
   "cell_type": "markdown",
   "metadata": {},
   "source": [
    "<img src='ngl7.png'></img>"
   ]
  },
  {
   "cell_type": "markdown",
   "metadata": {},
   "source": [
    "<a id=\"ions\"></a>\n",
    "***\n",
    "## Adding ions\n",
    "Add ions to neutralize the **protein-ligand complex** and reach a desired ionic concentration.\n",
    "- [Step 1](#ionsStep1): Creating portable binary run file for ion generation\n",
    "- [Step 2](#ionsStep2): Adding ions to **neutralize** the system and reach a **0.05 molar ionic concentration**\n",
    "***\n",
    "**Building Blocks** used:\n",
    " - [Grompp](https://biobb-md.readthedocs.io/en/latest/gromacs.html#module-gromacs.grompp) from **biobb_md.gromacs.grompp** \n",
    " - [Genion](https://biobb-md.readthedocs.io/en/latest/gromacs.html#module-gromacs.genion) from **biobb_md.gromacs.genion** \n",
    "***"
   ]
  },
  {
   "cell_type": "markdown",
   "metadata": {},
   "source": [
    "<a id=\"ionsStep1\"></a>\n",
    "### Step 1: Creating portable binary run file for ion generation"
   ]
  },
  {
   "cell_type": "code",
   "execution_count": 19,
   "metadata": {
    "scrolled": false
   },
   "outputs": [
    {
     "name": "stdout",
     "output_type": "stream",
     "text": [
      "2021-07-02 08:39:15,434 [MainThread  ] [INFO ]  GROMACS Grompp 20190 version detected\n",
      "2021-07-02 08:39:15,440 [MainThread  ] [INFO ]  Extracting: /home/gbayarri_local/projects/BioBB/tutorials/biobb_wf_protein-complex_md_setup/biobb_wf_protein-complex_md_setup/notebooks/3HTB_JZ4_solvate_top.zip\n",
      "2021-07-02 08:39:15,441 [MainThread  ] [INFO ]  to:\n",
      "2021-07-02 08:39:15,442 [MainThread  ] [INFO ]  ['99ff8d84-890e-4a7c-a38a-53f49d72f2cb/JZ4_posres.itp', '99ff8d84-890e-4a7c-a38a-53f49d72f2cb/JZ4params.itp', '99ff8d84-890e-4a7c-a38a-53f49d72f2cb/ligand.top', '99ff8d84-890e-4a7c-a38a-53f49d72f2cb/posre.itp']\n",
      "2021-07-02 08:39:15,442 [MainThread  ] [INFO ]  Unzipping: \n",
      "2021-07-02 08:39:15,443 [MainThread  ] [INFO ]  3HTB_JZ4_solvate_top.zip\n",
      "2021-07-02 08:39:15,444 [MainThread  ] [INFO ]  To: \n",
      "2021-07-02 08:39:15,445 [MainThread  ] [INFO ]  99ff8d84-890e-4a7c-a38a-53f49d72f2cb/JZ4_posres.itp\n",
      "2021-07-02 08:39:15,446 [MainThread  ] [INFO ]  99ff8d84-890e-4a7c-a38a-53f49d72f2cb/JZ4params.itp\n",
      "2021-07-02 08:39:15,447 [MainThread  ] [INFO ]  99ff8d84-890e-4a7c-a38a-53f49d72f2cb/ligand.top\n",
      "2021-07-02 08:39:15,447 [MainThread  ] [INFO ]  99ff8d84-890e-4a7c-a38a-53f49d72f2cb/posre.itp\n",
      "2021-07-02 08:39:15,451 [MainThread  ] [INFO ]  Not using any container\n",
      "2021-07-02 08:39:15,806 [MainThread  ] [INFO ]  gmx -nobackup -nocopyright grompp -f 5232e2a7-8460-420c-8fdf-730560836a7b/grompp.mdp -c 3HTB_JZ4_solvate.gro -r 3HTB_JZ4_solvate.gro -p 99ff8d84-890e-4a7c-a38a-53f49d72f2cb/ligand.top -o 3HTB_JZ4_complex_gppion.tpr -po mdout.mdp -maxwarn 1\n",
      "\n",
      "2021-07-02 08:39:15,807 [MainThread  ] [INFO ]  Exit code 0\n",
      "\n",
      "2021-07-02 08:39:15,808 [MainThread  ] [INFO ]  \n",
      "++++ PLEASE READ AND CITE THE FOLLOWING REFERENCE ++++\n",
      "J. S. Hub, B. L. de Groot, H. Grubmueller, G. Groenhof\n",
      "Quantifying Artifacts in Ewald Simulations of Inhomogeneous Systems with a Net\n",
      "Charge\n",
      "J. Chem. Theory Comput. 10 (2014) pp. 381-393\n",
      "-------- -------- --- Thank You --- -------- --------\n",
      "\n",
      "Analysing residue names:\n",
      "There are:   163    Protein residues\n",
      "There are:     1      Other residues\n",
      "There are:  9531      Water residues\n",
      "Analysing Protein...\n",
      "Analysing residues not classified as Protein/DNA/RNA/Water and splitting into groups...\n",
      "Calculating fourier grid dimensions for X Y Z\n",
      "Using a fourier grid of 64x64x64, spacing 0.116 0.116 0.116\n",
      "This run will generate roughly 2 Mb of data\n",
      "\n",
      "2021-07-02 08:39:15,809 [MainThread  ] [INFO ]                         :-) GROMACS - gmx grompp, 2019 (-:\n",
      "\n",
      "Executable:   /usr/local/gromacs/bin/gmx\n",
      "Data prefix:  /usr/local/gromacs\n",
      "Working dir:  /home/gbayarri_local/projects/BioBB/tutorials/biobb_wf_protein-complex_md_setup/biobb_wf_protein-complex_md_setup/notebooks\n",
      "Command line:\n",
      "  gmx -nobackup -nocopyright grompp -f 5232e2a7-8460-420c-8fdf-730560836a7b/grompp.mdp -c 3HTB_JZ4_solvate.gro -r 3HTB_JZ4_solvate.gro -p 99ff8d84-890e-4a7c-a38a-53f49d72f2cb/ligand.top -o 3HTB_JZ4_complex_gppion.tpr -po mdout.mdp -maxwarn 1\n",
      "\n",
      "Setting the LD random seed to 2139432209\n",
      "Generated 2556 of the 2556 non-bonded parameter combinations\n",
      "Generating 1-4 interactions: fudge = 0.5\n",
      "Generated 2556 of the 2556 1-4 parameter combinations\n",
      "Excluding 3 bonded neighbours molecule type 'Protein_chain_A'\n",
      "Excluding 3 bonded neighbours molecule type 'JZ4params'\n",
      "Excluding 2 bonded neighbours molecule type 'SOL'\n",
      "\n",
      "NOTE 1 [file ligand.top, line 24863]:\n",
      "  System has non-zero total charge: 5.999999\n",
      "  Total charge should normally be an integer. See\n",
      "  http://www.gromacs.org/Documentation/Floating_Point_Arithmetic\n",
      "  for discussion on how close it should be to an integer.\n",
      "  \n",
      "\n",
      "\n",
      "\n",
      "WARNING 1 [file ligand.top, line 24863]:\n",
      "  You are using Ewald electrostatics in a system with net charge. This can\n",
      "  lead to severe artifacts, such as ions moving into regions with low\n",
      "  dielectric, due to the uniform background charge. We suggest to\n",
      "  neutralize your system with counter ions, possibly in combination with a\n",
      "  physiological salt concentration.\n",
      "\n",
      "Removing all charge groups because cutoff-scheme=Verlet\n",
      "Number of degrees of freedom in T-Coupling group rest is 65091.00\n",
      "Estimate for the relative computational load of the PME mesh part: 0.25\n",
      "\n",
      "There was 1 note\n",
      "\n",
      "There was 1 warning\n",
      "\n",
      "GROMACS reminds you: \"If it's all right with Dirac, it's all right with me.\" (Enrico Fermi, on being told that there was experimental evidence He-3 nuclei obey Fermi-Dirac statistics.)\n",
      "\n",
      "\n",
      "2021-07-02 08:39:15,811 [MainThread  ] [INFO ]  Removed: ['mdout.mdp', '99ff8d84-890e-4a7c-a38a-53f49d72f2cb', '5232e2a7-8460-420c-8fdf-730560836a7b']\n"
     ]
    },
    {
     "data": {
      "text/plain": [
       "0"
      ]
     },
     "execution_count": 19,
     "metadata": {},
     "output_type": "execute_result"
    }
   ],
   "source": [
    "# Grompp: Creating portable binary run file for ion generation\n",
    "from biobb_md.gromacs.grompp import grompp\n",
    "\n",
    "# Create prop dict and inputs/outputs\n",
    "prop = {\n",
    "    'mdp':{\n",
    "        'nsteps':'5000'\n",
    "    },\n",
    "    'simulation_type':'minimization',\n",
    "    'maxwarn': 1\n",
    "}\n",
    "output_gppion_tpr = pdbCode+'_'+ligandCode+'_complex_gppion.tpr'\n",
    "\n",
    "# Create and launch bb\n",
    "grompp(input_gro_path=output_solvate_gro,\n",
    "       input_top_zip_path=output_solvate_top_zip, \n",
    "       output_tpr_path=output_gppion_tpr,\n",
    "       properties=prop)"
   ]
  },
  {
   "cell_type": "markdown",
   "metadata": {},
   "source": [
    "<a id=\"ionsStep2\"></a>\n",
    "### Step 2: Adding ions to neutralize the system and reach a 0.05 molar concentration\n",
    "Replace **solvent molecules** with **ions** to **neutralize** the system and reaching a **0.05 molar ionic concentration**"
   ]
  },
  {
   "cell_type": "code",
   "execution_count": 20,
   "metadata": {
    "scrolled": false
   },
   "outputs": [
    {
     "name": "stdout",
     "output_type": "stream",
     "text": [
      "2021-07-02 08:39:21,159 [MainThread  ] [INFO ]  GROMACS Genion 20190 version detected\n",
      "2021-07-02 08:39:21,164 [MainThread  ] [INFO ]  Extracting: /home/gbayarri_local/projects/BioBB/tutorials/biobb_wf_protein-complex_md_setup/biobb_wf_protein-complex_md_setup/notebooks/3HTB_JZ4_solvate_top.zip\n",
      "2021-07-02 08:39:21,165 [MainThread  ] [INFO ]  to:\n",
      "2021-07-02 08:39:21,165 [MainThread  ] [INFO ]  ['14a536d3-5dfb-4af1-8346-00876dc89242/JZ4_posres.itp', '14a536d3-5dfb-4af1-8346-00876dc89242/JZ4params.itp', '14a536d3-5dfb-4af1-8346-00876dc89242/ligand.top', '14a536d3-5dfb-4af1-8346-00876dc89242/posre.itp']\n",
      "2021-07-02 08:39:21,166 [MainThread  ] [INFO ]  Unzipping: \n",
      "2021-07-02 08:39:21,167 [MainThread  ] [INFO ]  3HTB_JZ4_solvate_top.zip\n",
      "2021-07-02 08:39:21,167 [MainThread  ] [INFO ]  To: \n",
      "2021-07-02 08:39:21,168 [MainThread  ] [INFO ]  14a536d3-5dfb-4af1-8346-00876dc89242/JZ4_posres.itp\n",
      "2021-07-02 08:39:21,168 [MainThread  ] [INFO ]  14a536d3-5dfb-4af1-8346-00876dc89242/JZ4params.itp\n",
      "2021-07-02 08:39:21,171 [MainThread  ] [INFO ]  14a536d3-5dfb-4af1-8346-00876dc89242/ligand.top\n",
      "2021-07-02 08:39:21,172 [MainThread  ] [INFO ]  14a536d3-5dfb-4af1-8346-00876dc89242/posre.itp\n",
      "2021-07-02 08:39:21,174 [MainThread  ] [INFO ]  To reach up 0.05 mol/litre concentration\n",
      "2021-07-02 08:39:21,176 [MainThread  ] [INFO ]  Not using any container\n",
      "2021-07-02 08:39:21,316 [MainThread  ] [INFO ]  echo \"SOL\" | gmx -nobackup -nocopyright genion -s 3HTB_JZ4_complex_gppion.tpr -o 3HTB_JZ4_genion.gro -p 14a536d3-5dfb-4af1-8346-00876dc89242/ligand.top -neutral -conc 0.05 -seed 1993\n",
      "\n",
      "2021-07-02 08:39:21,317 [MainThread  ] [INFO ]  Exit code 0\n",
      "\n",
      "2021-07-02 08:39:21,317 [MainThread  ] [INFO ]  Will try to add 10 NA ions and 16 CL ions.\n",
      "Select a continuous group of solvent molecules\n",
      "Selected 15: 'SOL'\n",
      "\n",
      "Processing topology\n",
      "Replacing 26 solute molecules in topology file (14a536d3-5dfb-4af1-8346-00876dc89242/ligand.top)  by 10 NA and 16 CL ions.\n",
      "\n",
      "2021-07-02 08:39:21,318 [MainThread  ] [INFO ]                         :-) GROMACS - gmx genion, 2019 (-:\n",
      "\n",
      "Executable:   /usr/local/gromacs/bin/gmx\n",
      "Data prefix:  /usr/local/gromacs\n",
      "Working dir:  /home/gbayarri_local/projects/BioBB/tutorials/biobb_wf_protein-complex_md_setup/biobb_wf_protein-complex_md_setup/notebooks\n",
      "Command line:\n",
      "  gmx -nobackup -nocopyright genion -s 3HTB_JZ4_complex_gppion.tpr -o 3HTB_JZ4_genion.gro -p 14a536d3-5dfb-4af1-8346-00876dc89242/ligand.top -neutral -conc 0.05 -seed 1993\n",
      "\n",
      "Reading file 3HTB_JZ4_complex_gppion.tpr, VERSION 2019 (single precision)\n",
      "Reading file 3HTB_JZ4_complex_gppion.tpr, VERSION 2019 (single precision)\n",
      "Group     0 (         System) has 31229 elements\n",
      "Group     1 (        Protein) has  2614 elements\n",
      "Group     2 (      Protein-H) has  1301 elements\n",
      "Group     3 (        C-alpha) has   163 elements\n",
      "Group     4 (       Backbone) has   489 elements\n",
      "Group     5 (      MainChain) has   653 elements\n",
      "Group     6 (   MainChain+Cb) has   805 elements\n",
      "Group     7 (    MainChain+H) has   815 elements\n",
      "Group     8 (      SideChain) has  1799 elements\n",
      "Group     9 (    SideChain-H) has   648 elements\n",
      "Group    10 (    Prot-Masses) has  2614 elements\n",
      "Group    11 (    non-Protein) has 28615 elements\n",
      "Group    12 (          Other) has    22 elements\n",
      "Group    13 (            JZ4) has    22 elements\n",
      "Group    14 (          Water) has 28593 elements\n",
      "Group    15 (            SOL) has 28593 elements\n",
      "Group    16 (      non-Water) has  2636 elements\n",
      "Select a group: Number of (3-atomic) solvent molecules: 9531\n",
      "Using random seed 1993.\n",
      "Replacing solvent molecule 6684 (atom 22688) with NA\n",
      "Replacing solvent molecule 3713 (atom 13775) with NA\n",
      "Replacing solvent molecule 6865 (atom 23231) with NA\n",
      "Replacing solvent molecule 6607 (atom 22457) with NA\n",
      "Replacing solvent molecule 2054 (atom 8798) with NA\n",
      "Replacing solvent molecule 3610 (atom 13466) with NA\n",
      "Replacing solvent molecule 2213 (atom 9275) with NA\n",
      "Replacing solvent molecule 2304 (atom 9548) with NA\n",
      "Replacing solvent molecule 1640 (atom 7556) with NA\n",
      "Replacing solvent molecule 2994 (atom 11618) with NA\n",
      "Replacing solvent molecule 905 (atom 5351) with CL\n",
      "Replacing solvent molecule 4068 (atom 14840) with CL\n",
      "Replacing solvent molecule 9064 (atom 29828) with CL\n",
      "Replacing solvent molecule 4558 (atom 16310) with CL\n",
      "Replacing solvent molecule 1900 (atom 8336) with CL\n",
      "Replacing solvent molecule 7505 (atom 25151) with CL\n",
      "Replacing solvent molecule 9184 (atom 30188) with CL\n",
      "Replacing solvent molecule 5771 (atom 19949) with CL\n",
      "Replacing solvent molecule 6751 (atom 22889) with CL\n",
      "Replacing solvent molecule 2902 (atom 11342) with CL\n",
      "Replacing solvent molecule 2024 (atom 8708) with CL\n",
      "Replacing solvent molecule 8521 (atom 28199) with CL\n",
      "Replacing solvent molecule 909 (atom 5363) with CL\n",
      "Replacing solvent molecule 3452 (atom 12992) with CL\n",
      "Replacing solvent molecule 3869 (atom 14243) with CL\n",
      "Replacing solvent molecule 4530 (atom 16226) with CL\n",
      "\n",
      "\n",
      "GROMACS reminds you: \"Performance and power are great targets for tuning, but really you want to tune for money!\" (Erik Lindahl)\n",
      "\n",
      "\n",
      "2021-07-02 08:39:21,319 [MainThread  ] [INFO ]  Compressing topology to: 3HTB_JZ4_genion_top.zip\n",
      "2021-07-02 08:39:21,320 [MainThread  ] [INFO ]  Ignored file 14a536d3-5dfb-4af1-8346-00876dc89242/amber99sb-ildn.ff/forcefield.itp\n",
      "2021-07-02 08:39:21,340 [MainThread  ] [INFO ]  Ignored file 14a536d3-5dfb-4af1-8346-00876dc89242/amber99sb-ildn.ff/spce.itp\n",
      "2021-07-02 08:39:21,341 [MainThread  ] [INFO ]  Ignored file 14a536d3-5dfb-4af1-8346-00876dc89242/amber99sb-ildn.ff/ions.itp\n",
      "2021-07-02 08:39:21,346 [MainThread  ] [INFO ]  Adding:\n",
      "2021-07-02 08:39:21,348 [MainThread  ] [INFO ]  ['14a536d3-5dfb-4af1-8346-00876dc89242/JZ4_posres.itp', '14a536d3-5dfb-4af1-8346-00876dc89242/JZ4params.itp', '14a536d3-5dfb-4af1-8346-00876dc89242/ligand.top', '14a536d3-5dfb-4af1-8346-00876dc89242/posre.itp']\n",
      "2021-07-02 08:39:21,350 [MainThread  ] [INFO ]  to: /home/gbayarri_local/projects/BioBB/tutorials/biobb_wf_protein-complex_md_setup/biobb_wf_protein-complex_md_setup/notebooks/3HTB_JZ4_genion_top.zip\n",
      "2021-07-02 08:39:21,351 [MainThread  ] [INFO ]  Removed: ['14a536d3-5dfb-4af1-8346-00876dc89242']\n"
     ]
    },
    {
     "data": {
      "text/plain": [
       "0"
      ]
     },
     "execution_count": 20,
     "metadata": {},
     "output_type": "execute_result"
    }
   ],
   "source": [
    "# Genion: Adding ions to reach a 0.05 molar concentration\n",
    "from biobb_md.gromacs.genion import genion\n",
    "\n",
    "# Create prop dict and inputs/outputs\n",
    "prop={\n",
    "    'neutral':True,\n",
    "    'concentration':0.05\n",
    "}\n",
    "output_genion_gro = pdbCode+'_'+ligandCode+'_genion.gro'\n",
    "output_genion_top_zip = pdbCode+'_'+ligandCode+'_genion_top.zip'\n",
    "\n",
    "# Create and launch bb\n",
    "genion(input_tpr_path=output_gppion_tpr,\n",
    "       output_gro_path=output_genion_gro, \n",
    "       input_top_zip_path=output_solvate_top_zip,\n",
    "       output_top_zip_path=output_genion_top_zip, \n",
    "       properties=prop)"
   ]
  },
  {
   "cell_type": "markdown",
   "metadata": {},
   "source": [
    "### Visualizing 3D structure\n",
    "Visualizing the **protein-ligand complex** with the newly added **ionic concentration** using **NGL**"
   ]
  },
  {
   "cell_type": "code",
   "execution_count": 50,
   "metadata": {
    "scrolled": true
   },
   "outputs": [
    {
     "data": {
      "application/vnd.jupyter.widget-view+json": {
       "model_id": "987047ff345c46b493e8a7cc564e50bb",
       "version_major": 2,
       "version_minor": 0
      },
      "text/plain": [
       "NGLWidget()"
      ]
     },
     "metadata": {},
     "output_type": "display_data"
    }
   ],
   "source": [
    "#Show protein\n",
    "view = nglview.show_structure_file(output_genion_gro)\n",
    "view.clear_representations()\n",
    "view.add_representation(repr_type='cartoon', selection='protein', color='sstruc')\n",
    "view.add_representation(repr_type='licorice', radius='.5', selection=ligandCode)\n",
    "view.add_representation(repr_type='ball+stick', selection='NA')\n",
    "view.add_representation(repr_type='ball+stick', selection='CL')\n",
    "view._remote_call('setSize', target='Widget', args=['','600px'])\n",
    "view.camera='orthographic'\n",
    "\n",
    "view.render_image()\n",
    "view.download_image(filename='ngl8.png')\n",
    "\n",
    "view"
   ]
  },
  {
   "cell_type": "markdown",
   "metadata": {},
   "source": [
    "<img src='ngl8.png'></img>"
   ]
  },
  {
   "cell_type": "markdown",
   "metadata": {},
   "source": [
    "<a id=\"min\"></a>\n",
    "***\n",
    "## Energetically minimize the system\n",
    "Energetically minimize the **protein-ligand complex** till reaching a desired potential energy.\n",
    "- [Step 1](#emStep1): Creating portable binary run file for energy minimization\n",
    "- [Step 2](#emStep2): Energetically minimize the **protein-ligand complex** till reaching a force of 500 kJ mol-1 nm-1.\n",
    "- [Step 3](#emStep3): Checking **energy minimization** results. Plotting energy by time during the **minimization** process.\n",
    "***\n",
    "**Building Blocks** used:\n",
    " - [Grompp](https://biobb-md.readthedocs.io/en/latest/gromacs.html#module-gromacs.grompp) from **biobb_md.gromacs.grompp** \n",
    " - [Mdrun](https://biobb-md.readthedocs.io/en/latest/gromacs.html#module-gromacs.mdrun) from **biobb_md.gromacs.mdrun** \n",
    " - [GMXEnergy](https://biobb-analysis.readthedocs.io/en/latest/gromacs.html#module-gromacs.gmx_energy) from **biobb_analysis.gromacs.gmx_energy** \n",
    "***"
   ]
  },
  {
   "cell_type": "markdown",
   "metadata": {},
   "source": [
    "<a id=\"emStep1\"></a>\n",
    "### Step 1: Creating portable binary run file for energy minimization\n",
    "Method used to run the **energy minimization** is a **steepest descent**, with a **maximum force of 500 KJ/mol\\*nm^2**, and a minimization **step size of 1fs**. The **maximum number of steps** to perform if the maximum force is not reached is **5,000 steps**. "
   ]
  },
  {
   "cell_type": "code",
   "execution_count": 22,
   "metadata": {
    "scrolled": true
   },
   "outputs": [
    {
     "name": "stdout",
     "output_type": "stream",
     "text": [
      "2021-07-02 08:39:29,801 [MainThread  ] [INFO ]  GROMACS Grompp 20190 version detected\n",
      "2021-07-02 08:39:29,807 [MainThread  ] [INFO ]  Extracting: /home/gbayarri_local/projects/BioBB/tutorials/biobb_wf_protein-complex_md_setup/biobb_wf_protein-complex_md_setup/notebooks/3HTB_JZ4_genion_top.zip\n",
      "2021-07-02 08:39:29,808 [MainThread  ] [INFO ]  to:\n",
      "2021-07-02 08:39:29,809 [MainThread  ] [INFO ]  ['f1db2f16-4da5-4647-87df-19e706c707f1/JZ4_posres.itp', 'f1db2f16-4da5-4647-87df-19e706c707f1/JZ4params.itp', 'f1db2f16-4da5-4647-87df-19e706c707f1/ligand.top', 'f1db2f16-4da5-4647-87df-19e706c707f1/posre.itp']\n",
      "2021-07-02 08:39:29,809 [MainThread  ] [INFO ]  Unzipping: \n",
      "2021-07-02 08:39:29,810 [MainThread  ] [INFO ]  3HTB_JZ4_genion_top.zip\n",
      "2021-07-02 08:39:29,811 [MainThread  ] [INFO ]  To: \n",
      "2021-07-02 08:39:29,813 [MainThread  ] [INFO ]  f1db2f16-4da5-4647-87df-19e706c707f1/JZ4_posres.itp\n",
      "2021-07-02 08:39:29,814 [MainThread  ] [INFO ]  f1db2f16-4da5-4647-87df-19e706c707f1/JZ4params.itp\n",
      "2021-07-02 08:39:29,816 [MainThread  ] [INFO ]  f1db2f16-4da5-4647-87df-19e706c707f1/ligand.top\n",
      "2021-07-02 08:39:29,818 [MainThread  ] [INFO ]  f1db2f16-4da5-4647-87df-19e706c707f1/posre.itp\n",
      "2021-07-02 08:39:29,821 [MainThread  ] [INFO ]  Not using any container\n",
      "2021-07-02 08:39:30,160 [MainThread  ] [INFO ]  gmx -nobackup -nocopyright grompp -f edeced40-b405-4a7a-94db-237b4a3c5812/grompp.mdp -c 3HTB_JZ4_genion.gro -r 3HTB_JZ4_genion.gro -p f1db2f16-4da5-4647-87df-19e706c707f1/ligand.top -o 3HTB_JZ4_gppmin.tpr -po mdout.mdp -maxwarn 0\n",
      "\n",
      "2021-07-02 08:39:30,161 [MainThread  ] [INFO ]  Exit code 0\n",
      "\n",
      "2021-07-02 08:39:30,162 [MainThread  ] [INFO ]  Analysing residue names:\n",
      "There are:   163    Protein residues\n",
      "There are:     1      Other residues\n",
      "There are:  9505      Water residues\n",
      "There are:    26        Ion residues\n",
      "Analysing Protein...\n",
      "Analysing residues not classified as Protein/DNA/RNA/Water and splitting into groups...\n",
      "Analysing residues not classified as Protein/DNA/RNA/Water and splitting into groups...\n",
      "Calculating fourier grid dimensions for X Y Z\n",
      "Using a fourier grid of 64x64x64, spacing 0.116 0.116 0.116\n",
      "This run will generate roughly 2 Mb of data\n",
      "\n",
      "2021-07-02 08:39:30,162 [MainThread  ] [INFO ]                         :-) GROMACS - gmx grompp, 2019 (-:\n",
      "\n",
      "Executable:   /usr/local/gromacs/bin/gmx\n",
      "Data prefix:  /usr/local/gromacs\n",
      "Working dir:  /home/gbayarri_local/projects/BioBB/tutorials/biobb_wf_protein-complex_md_setup/biobb_wf_protein-complex_md_setup/notebooks\n",
      "Command line:\n",
      "  gmx -nobackup -nocopyright grompp -f edeced40-b405-4a7a-94db-237b4a3c5812/grompp.mdp -c 3HTB_JZ4_genion.gro -r 3HTB_JZ4_genion.gro -p f1db2f16-4da5-4647-87df-19e706c707f1/ligand.top -o 3HTB_JZ4_gppmin.tpr -po mdout.mdp -maxwarn 0\n",
      "\n",
      "Setting the LD random seed to 633383413\n",
      "Generated 2556 of the 2556 non-bonded parameter combinations\n",
      "Generating 1-4 interactions: fudge = 0.5\n",
      "Generated 2556 of the 2556 1-4 parameter combinations\n",
      "Excluding 3 bonded neighbours molecule type 'Protein_chain_A'\n",
      "Excluding 3 bonded neighbours molecule type 'JZ4params'\n",
      "Excluding 2 bonded neighbours molecule type 'SOL'\n",
      "Excluding 1 bonded neighbours molecule type 'NA'\n",
      "Excluding 1 bonded neighbours molecule type 'CL'\n",
      "Removing all charge groups because cutoff-scheme=Verlet\n",
      "Number of degrees of freedom in T-Coupling group rest is 65013.00\n",
      "Estimate for the relative computational load of the PME mesh part: 0.25\n",
      "\n",
      "GROMACS reminds you: \"Shaken, not Stirred\" (J. Bond)\n",
      "\n",
      "\n",
      "2021-07-02 08:39:30,164 [MainThread  ] [INFO ]  Removed: ['mdout.mdp', 'f1db2f16-4da5-4647-87df-19e706c707f1', 'edeced40-b405-4a7a-94db-237b4a3c5812']\n"
     ]
    },
    {
     "data": {
      "text/plain": [
       "0"
      ]
     },
     "execution_count": 22,
     "metadata": {},
     "output_type": "execute_result"
    }
   ],
   "source": [
    "# Grompp: Creating portable binary run file for mdrun\n",
    "from biobb_md.gromacs.grompp import grompp\n",
    "\n",
    "# Create prop dict and inputs/outputs\n",
    "prop = {\n",
    "    'mdp':{\n",
    "        'nsteps':'5000',\n",
    "        'emstep': 0.01,\n",
    "        'emtol':'500'\n",
    "    },\n",
    "    'simulation_type':'minimization'\n",
    "}\n",
    "output_gppmin_tpr = pdbCode+'_'+ligandCode+'_gppmin.tpr'\n",
    "\n",
    "# Create and launch bb\n",
    "grompp(input_gro_path=output_genion_gro,\n",
    "       input_top_zip_path=output_genion_top_zip,\n",
    "       output_tpr_path=output_gppmin_tpr,\n",
    "       properties=prop)"
   ]
  },
  {
   "cell_type": "markdown",
   "metadata": {},
   "source": [
    "<a id=\"emStep2\"></a>\n",
    "### Step 2: Running Energy Minimization\n",
    "Running **energy minimization** using the **tpr file** generated in the previous step."
   ]
  },
  {
   "cell_type": "code",
   "execution_count": 23,
   "metadata": {
    "scrolled": true
   },
   "outputs": [
    {
     "name": "stdout",
     "output_type": "stream",
     "text": [
      "2021-07-02 08:39:34,381 [MainThread  ] [INFO ]  GROMACS Mdrun 20190 version detected\n",
      "2021-07-02 08:39:34,382 [MainThread  ] [INFO ]  Not using any container\n",
      "2021-07-02 08:40:40,649 [MainThread  ] [INFO ]  gmx -nobackup -nocopyright mdrun -s 3HTB_JZ4_gppmin.tpr -o 3HTB_JZ4_min.trr -c 3HTB_JZ4_min.gro -e 3HTB_JZ4_min.edr -g 3HTB_JZ4_min.log\n",
      "\n",
      "2021-07-02 08:40:40,650 [MainThread  ] [INFO ]  Exit code 0\n",
      "\n",
      "2021-07-02 08:40:40,651 [MainThread  ] [INFO ]                         :-) GROMACS - gmx mdrun, 2019 (-:\n",
      "\n",
      "Executable:   /usr/local/gromacs/bin/gmx\n",
      "Data prefix:  /usr/local/gromacs\n",
      "Working dir:  /home/gbayarri_local/projects/BioBB/tutorials/biobb_wf_protein-complex_md_setup/biobb_wf_protein-complex_md_setup/notebooks\n",
      "Command line:\n",
      "  gmx -nobackup -nocopyright mdrun -s 3HTB_JZ4_gppmin.tpr -o 3HTB_JZ4_min.trr -c 3HTB_JZ4_min.gro -e 3HTB_JZ4_min.edr -g 3HTB_JZ4_min.log\n",
      "\n",
      "Reading file 3HTB_JZ4_gppmin.tpr, VERSION 2019 (single precision)\n",
      "Using 1 MPI thread\n",
      "Using 8 OpenMP threads \n",
      "\n",
      "\n",
      "Steepest Descents:\n",
      "   Tolerance (Fmax)   =  5.00000e+02\n",
      "   Number of steps    =         5000\n",
      "\n",
      "writing lowest energy coordinates.\n",
      "\n",
      "Steepest Descents converged to Fmax < 500 in 1692 steps\n",
      "Potential Energy  = -5.4609906e+05\n",
      "Maximum force     =  4.7766879e+02 on atom 1462\n",
      "Norm of force     =  1.2627373e+01\n",
      "\n",
      "GROMACS reminds you: \"It's just the way this stuff is done\" (Built to Spill)\n",
      "\n",
      "\n",
      "2021-07-02 08:40:40,651 [MainThread  ] [INFO ]  Removed: []\n"
     ]
    },
    {
     "data": {
      "text/plain": [
       "0"
      ]
     },
     "execution_count": 23,
     "metadata": {},
     "output_type": "execute_result"
    }
   ],
   "source": [
    "# Mdrun: Running minimization\n",
    "from biobb_md.gromacs.mdrun import mdrun\n",
    "\n",
    "# Create prop dict and inputs/outputs\n",
    "output_min_trr = pdbCode+'_'+ligandCode+'_min.trr'\n",
    "output_min_gro = pdbCode+'_'+ligandCode+'_min.gro'\n",
    "output_min_edr = pdbCode+'_'+ligandCode+'_min.edr'\n",
    "output_min_log = pdbCode+'_'+ligandCode+'_min.log'\n",
    "\n",
    "# Create and launch bb\n",
    "mdrun(input_tpr_path=output_gppmin_tpr,\n",
    "      output_trr_path=output_min_trr, \n",
    "      output_gro_path=output_min_gro,\n",
    "      output_edr_path=output_min_edr, \n",
    "      output_log_path=output_min_log)"
   ]
  },
  {
   "cell_type": "markdown",
   "metadata": {},
   "source": [
    "<a id=\"emStep3\"></a>\n",
    "### Step 3: Checking Energy Minimization results\n",
    "Checking **energy minimization** results. Plotting **potential energy** by time during the minimization process. "
   ]
  },
  {
   "cell_type": "code",
   "execution_count": 24,
   "metadata": {
    "scrolled": true
   },
   "outputs": [
    {
     "name": "stdout",
     "output_type": "stream",
     "text": [
      "2021-07-02 08:40:44,732 [MainThread  ] [INFO ]  Not using any container\n",
      "2021-07-02 08:40:44,759 [MainThread  ] [INFO ]  gmx energy -f /home/gbayarri_local/projects/BioBB/tutorials/biobb_wf_protein-complex_md_setup/biobb_wf_protein-complex_md_setup/notebooks/3HTB_JZ4_min.edr -o 3HTB_JZ4_min_ene.xvg -xvg none < fa483218-3004-46af-89b6-7566e158a0be/instructions.in\n",
      "\n",
      "2021-07-02 08:40:44,760 [MainThread  ] [INFO ]  Exit code 0\n",
      "\n",
      "2021-07-02 08:40:44,762 [MainThread  ] [INFO ]  \n",
      "Statistics over 1692 steps [ 0.0000 through 1691.0000 ps ], 1 data sets\n",
      "All statistics are over 1339 points (frames)\n",
      "\n",
      "Energy                      Average   Err.Est.       RMSD  Tot-Drift\n",
      "-------------------------------------------------------------------------------\n",
      "Potential                   -529449       8800    22628.7   -57523.8  (kJ/mol)\n",
      "\n",
      "2021-07-02 08:40:44,763 [MainThread  ] [INFO ]                         :-) GROMACS - gmx energy, 2019 (-:\n",
      "\n",
      "                            GROMACS is written by:\n",
      "     Emile Apol      Rossen Apostolov      Paul Bauer     Herman J.C. Berendsen\n",
      "    Par Bjelkmar      Christian Blau   Viacheslav Bolnykh     Kevin Boyd    \n",
      " Aldert van Buuren   Rudi van Drunen     Anton Feenstra       Alan Gray     \n",
      "  Gerrit Groenhof     Anca Hamuraru    Vincent Hindriksen  M. Eric Irrgang  \n",
      "  Aleksei Iupinov   Christoph Junghans     Joe Jordan     Dimitrios Karkoulis\n",
      "    Peter Kasson        Jiri Kraus      Carsten Kutzner      Per Larsson    \n",
      "  Justin A. Lemkul    Viveca Lindahl    Magnus Lundborg     Erik Marklund   \n",
      "    Pascal Merz     Pieter Meulenhoff    Teemu Murtola       Szilard Pall   \n",
      "    Sander Pronk      Roland Schulz      Michael Shirts    Alexey Shvetsov  \n",
      "   Alfons Sijbers     Peter Tieleman      Jon Vincent      Teemu Virolainen \n",
      " Christian Wennberg    Maarten Wolf   \n",
      "                           and the project leaders:\n",
      "        Mark Abraham, Berk Hess, Erik Lindahl, and David van der Spoel\n",
      "\n",
      "Copyright (c) 1991-2000, University of Groningen, The Netherlands.\n",
      "Copyright (c) 2001-2018, The GROMACS development team at\n",
      "Uppsala University, Stockholm University and\n",
      "the Royal Institute of Technology, Sweden.\n",
      "check out http://www.gromacs.org for more information.\n",
      "\n",
      "GROMACS is free software; you can redistribute it and/or modify it\n",
      "under the terms of the GNU Lesser General Public License\n",
      "as published by the Free Software Foundation; either version 2.1\n",
      "of the License, or (at your option) any later version.\n",
      "\n",
      "GROMACS:      gmx energy, version 2019\n",
      "Executable:   /usr/local/gromacs/bin/gmx\n",
      "Data prefix:  /usr/local/gromacs\n",
      "Working dir:  /home/gbayarri_local/projects/BioBB/tutorials/biobb_wf_protein-complex_md_setup/biobb_wf_protein-complex_md_setup/notebooks\n",
      "Command line:\n",
      "  gmx energy -f /home/gbayarri_local/projects/BioBB/tutorials/biobb_wf_protein-complex_md_setup/biobb_wf_protein-complex_md_setup/notebooks/3HTB_JZ4_min.edr -o 3HTB_JZ4_min_ene.xvg -xvg none\n",
      "\n",
      "Opened /home/gbayarri_local/projects/BioBB/tutorials/biobb_wf_protein-complex_md_setup/biobb_wf_protein-complex_md_setup/notebooks/3HTB_JZ4_min.edr as single precision energy file\n",
      "\n",
      "Select the terms you want from the following list by\n",
      "selecting either (part of) the name or the number or a combination.\n",
      "End your selection with an empty line or a zero.\n",
      "-------------------------------------------------------------------\n",
      "  1  Bond             2  Angle            3  Proper-Dih.      4  Improper-Dih. \n",
      "  5  LJ-14            6  Coulomb-14       7  LJ-(SR)          8  Coulomb-(SR)  \n",
      "  9  Coul.-recip.    10  Position-Rest.  11  Potential       12  Pressure      \n",
      " 13  Vir-XX          14  Vir-XY          15  Vir-XZ          16  Vir-YX        \n",
      " 17  Vir-YY          18  Vir-YZ          19  Vir-ZX          20  Vir-ZY        \n",
      " 21  Vir-ZZ          22  Pres-XX         23  Pres-XY         24  Pres-XZ       \n",
      " 25  Pres-YX         26  Pres-YY         27  Pres-YZ         28  Pres-ZX       \n",
      " 29  Pres-ZY         30  Pres-ZZ         31  #Surf*SurfTen   32  T-rest        \n",
      "\n",
      "Last energy frame read 1338 time 1691.000         \n",
      "\n",
      "GROMACS reminds you: \"Right Now My Job is Eating These Doughnuts\" (Bodycount)\n",
      "\n",
      "\n",
      "2021-07-02 08:40:44,765 [MainThread  ] [INFO ]  Removed: [PurePosixPath('fa483218-3004-46af-89b6-7566e158a0be')]\n"
     ]
    },
    {
     "data": {
      "text/plain": [
       "0"
      ]
     },
     "execution_count": 24,
     "metadata": {},
     "output_type": "execute_result"
    }
   ],
   "source": [
    "# GMXEnergy: Getting system energy by time  \n",
    "from biobb_analysis.gromacs.gmx_energy import gmx_energy\n",
    "\n",
    "# Create prop dict and inputs/outputs\n",
    "output_min_ene_xvg = pdbCode+'_'+ligandCode+'_min_ene.xvg'\n",
    "prop = {\n",
    "    'terms':  [\"Potential\"]\n",
    "}\n",
    "\n",
    "# Create and launch bb\n",
    "gmx_energy(input_energy_path=output_min_edr, \n",
    "          output_xvg_path=output_min_ene_xvg, \n",
    "          properties=prop)"
   ]
  },
  {
   "cell_type": "code",
   "execution_count": 25,
   "metadata": {
    "scrolled": false
   },
   "outputs": [
    {
     "data": {
      "text/html": [
       "        <script type=\"text/javascript\">\n",
       "        window.PlotlyConfig = {MathJaxConfig: 'local'};\n",
       "        if (window.MathJax) {MathJax.Hub.Config({SVG: {font: \"STIX-Web\"}});}\n",
       "        if (typeof require !== 'undefined') {\n",
       "        require.undef(\"plotly\");\n",
       "        requirejs.config({\n",
       "            paths: {\n",
       "                'plotly': ['https://cdn.plot.ly/plotly-2.2.0.min']\n",
       "            }\n",
       "        });\n",
       "        require(['plotly'], function(Plotly) {\n",
       "            window._Plotly = Plotly;\n",
       "        });\n",
       "        }\n",
       "        </script>\n",
       "        "
      ]
     },
     "metadata": {},
     "output_type": "display_data"
    },
    {
     "data": {
      "application/vnd.plotly.v1+json": {
       "config": {
        "linkText": "Export to plot.ly",
        "plotlyServerURL": "https://plot.ly",
        "showLink": false
       },
       "data": [
        {
         "type": "scatter",
         "x": [
          0,
          1,
          2,
          3,
          4,
          5,
          6,
          7,
          8,
          9,
          10,
          12,
          13,
          14,
          16,
          17,
          18,
          19,
          20,
          22,
          23,
          24,
          26,
          27,
          28,
          29,
          31,
          32,
          33,
          35,
          36,
          37,
          39,
          40,
          41,
          43,
          44,
          45,
          46,
          47,
          49,
          51,
          52,
          53,
          54,
          56,
          57,
          58,
          60,
          61,
          62,
          64,
          65,
          66,
          67,
          68,
          70,
          71,
          72,
          74,
          75,
          76,
          78,
          79,
          80,
          82,
          83,
          84,
          85,
          86,
          88,
          89,
          90,
          92,
          93,
          94,
          95,
          96,
          98,
          99,
          100,
          102,
          103,
          104,
          105,
          106,
          108,
          109,
          110,
          112,
          113,
          114,
          115,
          116,
          118,
          119,
          120,
          122,
          123,
          124,
          125,
          127,
          128,
          129,
          131,
          132,
          133,
          134,
          136,
          137,
          138,
          140,
          141,
          142,
          143,
          144,
          146,
          147,
          148,
          150,
          151,
          152,
          153,
          154,
          156,
          157,
          158,
          160,
          161,
          162,
          163,
          164,
          165,
          167,
          168,
          169,
          171,
          172,
          174,
          175,
          176,
          178,
          179,
          180,
          181,
          182,
          184,
          185,
          186,
          188,
          189,
          190,
          191,
          192,
          194,
          195,
          196,
          198,
          199,
          200,
          201,
          202,
          204,
          205,
          206,
          208,
          209,
          210,
          211,
          213,
          214,
          215,
          217,
          218,
          219,
          220,
          222,
          223,
          224,
          226,
          227,
          228,
          229,
          230,
          232,
          233,
          234,
          236,
          237,
          238,
          239,
          240,
          242,
          243,
          244,
          246,
          247,
          248,
          249,
          251,
          252,
          253,
          255,
          256,
          257,
          258,
          260,
          261,
          262,
          264,
          265,
          266,
          267,
          268,
          270,
          271,
          272,
          274,
          275,
          276,
          277,
          278,
          279,
          281,
          282,
          283,
          285,
          286,
          288,
          289,
          290,
          292,
          293,
          294,
          295,
          296,
          298,
          299,
          300,
          302,
          303,
          304,
          305,
          306,
          308,
          309,
          310,
          312,
          313,
          314,
          315,
          316,
          317,
          319,
          320,
          321,
          323,
          324,
          326,
          327,
          328,
          330,
          331,
          332,
          333,
          334,
          336,
          337,
          338,
          340,
          341,
          342,
          343,
          344,
          345,
          346,
          348,
          350,
          351,
          352,
          353,
          355,
          356,
          357,
          359,
          360,
          361,
          362,
          363,
          365,
          366,
          367,
          369,
          370,
          371,
          372,
          373,
          375,
          376,
          377,
          379,
          380,
          381,
          382,
          383,
          384,
          386,
          387,
          388,
          390,
          391,
          392,
          393,
          395,
          396,
          397,
          399,
          400,
          401,
          402,
          404,
          405,
          406,
          408,
          409,
          410,
          411,
          412,
          414,
          415,
          416,
          418,
          419,
          420,
          421,
          423,
          424,
          425,
          427,
          428,
          429,
          430,
          432,
          433,
          434,
          436,
          437,
          438,
          439,
          440,
          441,
          443,
          444,
          445,
          447,
          448,
          450,
          451,
          452,
          454,
          455,
          456,
          457,
          458,
          459,
          460,
          462,
          464,
          465,
          466,
          467,
          469,
          470,
          471,
          473,
          474,
          475,
          476,
          477,
          479,
          480,
          481,
          483,
          484,
          485,
          486,
          487,
          489,
          490,
          491,
          493,
          494,
          495,
          496,
          497,
          498,
          500,
          501,
          502,
          504,
          505,
          506,
          507,
          509,
          510,
          511,
          513,
          514,
          515,
          516,
          518,
          519,
          520,
          522,
          523,
          524,
          525,
          526,
          527,
          529,
          530,
          531,
          533,
          534,
          536,
          537,
          538,
          540,
          541,
          542,
          543,
          544,
          545,
          546,
          548,
          550,
          551,
          552,
          553,
          555,
          556,
          557,
          559,
          560,
          561,
          562,
          563,
          565,
          566,
          567,
          569,
          570,
          571,
          572,
          573,
          575,
          576,
          577,
          579,
          580,
          581,
          582,
          583,
          584,
          586,
          587,
          588,
          590,
          591,
          592,
          593,
          595,
          596,
          597,
          599,
          600,
          601,
          602,
          604,
          605,
          606,
          608,
          609,
          610,
          611,
          612,
          613,
          615,
          616,
          617,
          619,
          620,
          621,
          622,
          624,
          625,
          626,
          628,
          629,
          630,
          631,
          632,
          634,
          635,
          636,
          638,
          639,
          640,
          641,
          643,
          644,
          645,
          647,
          648,
          649,
          650,
          652,
          653,
          654,
          656,
          657,
          658,
          659,
          661,
          662,
          663,
          665,
          666,
          667,
          668,
          669,
          670,
          672,
          673,
          674,
          676,
          677,
          678,
          679,
          681,
          682,
          683,
          685,
          686,
          687,
          688,
          690,
          691,
          692,
          694,
          695,
          696,
          697,
          698,
          699,
          701,
          702,
          703,
          705,
          706,
          707,
          708,
          710,
          711,
          712,
          714,
          715,
          716,
          717,
          718,
          720,
          721,
          722,
          724,
          725,
          726,
          727,
          729,
          730,
          731,
          733,
          734,
          735,
          736,
          737,
          739,
          740,
          741,
          743,
          744,
          745,
          746,
          748,
          749,
          750,
          752,
          753,
          754,
          755,
          756,
          758,
          759,
          760,
          762,
          763,
          764,
          765,
          767,
          768,
          769,
          771,
          772,
          773,
          774,
          775,
          776,
          778,
          780,
          781,
          782,
          783,
          785,
          786,
          787,
          789,
          790,
          791,
          793,
          794,
          795,
          796,
          797,
          799,
          800,
          801,
          803,
          804,
          805,
          806,
          807,
          809,
          810,
          811,
          813,
          814,
          815,
          816,
          817,
          819,
          820,
          821,
          823,
          824,
          825,
          826,
          827,
          828,
          830,
          831,
          832,
          834,
          835,
          836,
          837,
          839,
          840,
          841,
          843,
          844,
          845,
          846,
          848,
          849,
          850,
          852,
          853,
          854,
          855,
          857,
          858,
          859,
          861,
          862,
          863,
          864,
          865,
          866,
          868,
          869,
          870,
          872,
          873,
          874,
          875,
          877,
          878,
          879,
          881,
          882,
          883,
          884,
          885,
          887,
          888,
          889,
          891,
          892,
          893,
          894,
          896,
          897,
          898,
          900,
          901,
          902,
          903,
          904,
          906,
          907,
          908,
          910,
          911,
          912,
          913,
          915,
          916,
          917,
          919,
          920,
          921,
          922,
          923,
          925,
          926,
          927,
          929,
          930,
          931,
          932,
          934,
          935,
          936,
          938,
          939,
          940,
          941,
          942,
          943,
          945,
          946,
          947,
          949,
          950,
          951,
          952,
          954,
          955,
          956,
          958,
          959,
          960,
          961,
          963,
          964,
          965,
          967,
          968,
          969,
          970,
          972,
          973,
          974,
          976,
          977,
          978,
          979,
          980,
          981,
          983,
          984,
          985,
          987,
          988,
          989,
          990,
          992,
          993,
          994,
          996,
          997,
          998,
          999,
          1000,
          1002,
          1003,
          1004,
          1006,
          1007,
          1008,
          1009,
          1011,
          1012,
          1013,
          1015,
          1016,
          1017,
          1018,
          1019,
          1021,
          1022,
          1023,
          1025,
          1026,
          1027,
          1028,
          1030,
          1031,
          1032,
          1034,
          1035,
          1036,
          1037,
          1038,
          1040,
          1041,
          1042,
          1044,
          1045,
          1046,
          1047,
          1049,
          1050,
          1051,
          1053,
          1054,
          1055,
          1056,
          1057,
          1059,
          1060,
          1061,
          1063,
          1064,
          1065,
          1066,
          1068,
          1069,
          1070,
          1072,
          1073,
          1074,
          1075,
          1076,
          1078,
          1079,
          1080,
          1082,
          1083,
          1084,
          1085,
          1087,
          1088,
          1089,
          1091,
          1092,
          1093,
          1094,
          1095,
          1097,
          1098,
          1099,
          1101,
          1102,
          1103,
          1104,
          1106,
          1107,
          1108,
          1110,
          1111,
          1112,
          1113,
          1114,
          1115,
          1117,
          1118,
          1119,
          1121,
          1122,
          1123,
          1124,
          1126,
          1127,
          1128,
          1130,
          1131,
          1132,
          1133,
          1134,
          1136,
          1137,
          1138,
          1140,
          1141,
          1142,
          1143,
          1145,
          1146,
          1147,
          1149,
          1150,
          1151,
          1152,
          1153,
          1155,
          1156,
          1157,
          1159,
          1160,
          1161,
          1162,
          1164,
          1165,
          1166,
          1168,
          1169,
          1170,
          1171,
          1172,
          1174,
          1175,
          1176,
          1178,
          1179,
          1180,
          1181,
          1183,
          1184,
          1185,
          1187,
          1188,
          1189,
          1190,
          1191,
          1193,
          1194,
          1195,
          1197,
          1198,
          1199,
          1200,
          1202,
          1203,
          1204,
          1206,
          1207,
          1208,
          1209,
          1210,
          1212,
          1213,
          1214,
          1216,
          1217,
          1218,
          1219,
          1221,
          1222,
          1223,
          1225,
          1226,
          1227,
          1228,
          1229,
          1231,
          1232,
          1233,
          1235,
          1236,
          1237,
          1238,
          1240,
          1241,
          1242,
          1244,
          1245,
          1246,
          1247,
          1248,
          1250,
          1251,
          1252,
          1254,
          1255,
          1256,
          1257,
          1259,
          1260,
          1261,
          1263,
          1264,
          1265,
          1266,
          1267,
          1268,
          1270,
          1271,
          1272,
          1274,
          1275,
          1276,
          1277,
          1279,
          1280,
          1281,
          1283,
          1284,
          1285,
          1286,
          1287,
          1289,
          1290,
          1291,
          1293,
          1294,
          1295,
          1296,
          1298,
          1299,
          1300,
          1302,
          1303,
          1304,
          1305,
          1306,
          1308,
          1309,
          1310,
          1312,
          1313,
          1314,
          1315,
          1317,
          1318,
          1319,
          1321,
          1322,
          1323,
          1324,
          1325,
          1327,
          1328,
          1329,
          1331,
          1332,
          1333,
          1334,
          1336,
          1337,
          1338,
          1340,
          1341,
          1342,
          1343,
          1344,
          1345,
          1347,
          1348,
          1349,
          1351,
          1352,
          1354,
          1355,
          1356,
          1358,
          1359,
          1360,
          1361,
          1362,
          1363,
          1364,
          1366,
          1367,
          1368,
          1370,
          1371,
          1372,
          1373,
          1375,
          1376,
          1377,
          1379,
          1380,
          1381,
          1382,
          1384,
          1385,
          1386,
          1388,
          1389,
          1390,
          1391,
          1393,
          1394,
          1395,
          1397,
          1398,
          1399,
          1400,
          1401,
          1402,
          1404,
          1405,
          1406,
          1408,
          1409,
          1410,
          1411,
          1413,
          1414,
          1415,
          1417,
          1418,
          1419,
          1420,
          1421,
          1423,
          1424,
          1425,
          1427,
          1428,
          1429,
          1430,
          1432,
          1433,
          1434,
          1436,
          1437,
          1438,
          1439,
          1440,
          1442,
          1443,
          1444,
          1446,
          1447,
          1448,
          1449,
          1451,
          1452,
          1453,
          1455,
          1456,
          1457,
          1458,
          1459,
          1461,
          1462,
          1463,
          1465,
          1466,
          1467,
          1468,
          1470,
          1471,
          1472,
          1474,
          1475,
          1476,
          1477,
          1478,
          1479,
          1481,
          1482,
          1483,
          1485,
          1486,
          1488,
          1489,
          1490,
          1492,
          1493,
          1494,
          1495,
          1496,
          1497,
          1498,
          1500,
          1501,
          1502,
          1504,
          1505,
          1506,
          1507,
          1509,
          1510,
          1511,
          1513,
          1514,
          1515,
          1516,
          1518,
          1519,
          1520,
          1522,
          1523,
          1524,
          1525,
          1527,
          1528,
          1529,
          1531,
          1532,
          1533,
          1534,
          1535,
          1536,
          1538,
          1539,
          1540,
          1542,
          1543,
          1544,
          1545,
          1547,
          1548,
          1549,
          1551,
          1552,
          1553,
          1554,
          1555,
          1557,
          1558,
          1559,
          1561,
          1562,
          1563,
          1564,
          1566,
          1567,
          1568,
          1570,
          1571,
          1572,
          1573,
          1574,
          1576,
          1577,
          1578,
          1580,
          1581,
          1582,
          1583,
          1585,
          1586,
          1587,
          1589,
          1590,
          1591,
          1592,
          1593,
          1595,
          1596,
          1597,
          1599,
          1600,
          1601,
          1602,
          1604,
          1605,
          1606,
          1608,
          1609,
          1610,
          1611,
          1612,
          1613,
          1615,
          1616,
          1617,
          1619,
          1620,
          1622,
          1623,
          1624,
          1626,
          1627,
          1628,
          1629,
          1630,
          1631,
          1632,
          1634,
          1635,
          1636,
          1638,
          1639,
          1640,
          1641,
          1643,
          1644,
          1645,
          1647,
          1648,
          1649,
          1650,
          1651,
          1653,
          1654,
          1655,
          1657,
          1658,
          1660,
          1661,
          1662,
          1664,
          1665,
          1666,
          1667,
          1668,
          1669,
          1670,
          1672,
          1673,
          1674,
          1676,
          1677,
          1678,
          1679,
          1681,
          1682,
          1683,
          1685,
          1686,
          1687,
          1688,
          1689,
          1691
         ],
         "y": [
          -266411.90625,
          -309277.71875,
          -348004.9375,
          -376393.5625,
          -397857.40625,
          -406579.09375,
          -413798,
          -424183.40625,
          -427676.0625,
          -430730.6875,
          -433100.03125,
          -437164.09375,
          -438823.53125,
          -442340.125,
          -444170.71875,
          -445636.03125,
          -447253.84375,
          -447969.59375,
          -449134.65625,
          -452040.6875,
          -453578.0625,
          -457526.40625,
          -458353.8125,
          -459254.84375,
          -459609.40625,
          -460270.125,
          -462627.0625,
          -463061.0625,
          -466099.90625,
          -466781.1875,
          -467170.71875,
          -467694.03125,
          -469279.90625,
          -470216.5625,
          -472200.75,
          -472754.71875,
          -473162.6875,
          -473606.09375,
          -473711.125,
          -473927.09375,
          -475837,
          -476599.46875,
          -477319.25,
          -477435.0625,
          -478251.65625,
          -478933.25,
          -479182.03125,
          -479991.0625,
          -480511.78125,
          -480822.1875,
          -481397.84375,
          -481900.625,
          -482337.5,
          -482926.6875,
          -482945.71875,
          -483617.53125,
          -484211.5625,
          -484338.34375,
          -485057.21875,
          -485491.5,
          -485695.40625,
          -486179.5625,
          -486617,
          -486930,
          -487451.0625,
          -487791.84375,
          -488080.03125,
          -488451.40625,
          -488547.21875,
          -488931.40625,
          -489449.9375,
          -489660.65625,
          -490317.5,
          -490609.8125,
          -490802.34375,
          -491091.5625,
          -491133.375,
          -491384.3125,
          -492049.21875,
          -492165.03125,
          -492990.34375,
          -493229.21875,
          -493394.21875,
          -493610.28125,
          -493667.5,
          -493827.75,
          -494519.0625,
          -494728.84375,
          -495552,
          -495742.78125,
          -495908.21875,
          -496056.53125,
          -496142,
          -496211.90625,
          -496903.53125,
          -497228.71875,
          -498053.46875,
          -498203.84375,
          -498365.5625,
          -498460.625,
          -498560.15625,
          -499056.1875,
          -499507.625,
          -500137.84375,
          -500281.15625,
          -500459.625,
          -500534.78125,
          -500702.53125,
          -501025.21875,
          -501250.78125,
          -501644.125,
          -501799.625,
          -501929,
          -502074.46875,
          -502150.4375,
          -502270.53125,
          -502616.875,
          -502880,
          -503305.46875,
          -503440.875,
          -503562.09375,
          -503676.0625,
          -503754.15625,
          -503827.28125,
          -504201.625,
          -504519.1875,
          -504981.65625,
          -505096.1875,
          -505212.1875,
          -505294.96875,
          -505375.0625,
          -505402.75,
          -505403.625,
          -505944.65625,
          -506019.15625,
          -506734.03125,
          -506793.6875,
          -506924.84375,
          -507127.6875,
          -507288.5625,
          -507538.6875,
          -507653.28125,
          -507750.4375,
          -507862.1875,
          -507919.78125,
          -508019.21875,
          -508247,
          -508431.625,
          -508715.46875,
          -508818.9375,
          -508908.9375,
          -509000.75,
          -509058.15625,
          -509125.28125,
          -509382.03125,
          -509600.71875,
          -509923.4375,
          -510013.59375,
          -510100.40625,
          -510170.21875,
          -510229.09375,
          -510261.625,
          -510552.21875,
          -510821.6875,
          -511187.15625,
          -511262.53125,
          -511348.21875,
          -511394.34375,
          -511454.96875,
          -511679.9375,
          -511876.5,
          -512175.875,
          -512252.375,
          -512340.09375,
          -512385.03125,
          -512464.84375,
          -512636.78125,
          -512775.75,
          -512991.3125,
          -513072.78125,
          -513143.625,
          -513216.78125,
          -513261.3125,
          -513316.25,
          -513514.3125,
          -513680.65625,
          -513931.03125,
          -514002.84375,
          -514071.375,
          -514127.59375,
          -514174.4375,
          -514201.1875,
          -514430.125,
          -514641.9375,
          -514931.9375,
          -514992.125,
          -515061.25,
          -515097.875,
          -515147.3125,
          -515326.71875,
          -515480.5625,
          -515720.1875,
          -515781.375,
          -515852.21875,
          -515888.5,
          -515952.09375,
          -516092.0625,
          -516207.8125,
          -516384.125,
          -516450.125,
          -516507.78125,
          -516566.40625,
          -516603.78125,
          -516646.71875,
          -516809.375,
          -516953.09375,
          -517159.75,
          -517218.125,
          -517275.375,
          -517319.9375,
          -517359.96875,
          -517379.53125,
          -517382.21875,
          -517637.59375,
          -517710.59375,
          -518054.5,
          -518086.53125,
          -518155.625,
          -518255.375,
          -518337.21875,
          -518461.65625,
          -518521.90625,
          -518573.25,
          -518632.875,
          -518663.40625,
          -518717.9375,
          -518833.90625,
          -518930.6875,
          -519077.21875,
          -519132.5,
          -519181.5625,
          -519231.59375,
          -519263.3125,
          -519300.28125,
          -519436.125,
          -519560.09375,
          -519732.90625,
          -519782.90625,
          -519832.125,
          -519870.03125,
          -519905.09375,
          -519922.09375,
          -519926.4375,
          -520139.75,
          -520204.4375,
          -520491.59375,
          -520520.15625,
          -520578.71875,
          -520663.40625,
          -520737.1875,
          -520842.4375,
          -520893.9375,
          -520938.875,
          -520989.9375,
          -521017.9375,
          -521064,
          -521162.875,
          -521251.96875,
          -521376.59375,
          -521425.03125,
          -521468.1875,
          -521510.59375,
          -521539.96875,
          -521571.53125,
          -521574.03125,
          -521580.59375,
          -521792.5625,
          -521868.625,
          -521946.5625,
          -521953.0625,
          -522043.875,
          -522110.4375,
          -522135.875,
          -522215.34375,
          -522272.25,
          -522311.5625,
          -522375.78125,
          -522379.59375,
          -522448.34375,
          -522534.03125,
          -522556.53125,
          -522666.1875,
          -522715.125,
          -522747.71875,
          -522796.09375,
          -522807.40625,
          -522848.59375,
          -522959.46875,
          -523001.4375,
          -523148.3125,
          -523187.84375,
          -523225.6875,
          -523254.8125,
          -523281.28125,
          -523288.875,
          -523292.71875,
          -523477.40625,
          -523486.125,
          -523727.53125,
          -523752.78125,
          -523790.40625,
          -523795.46875,
          -523816.96875,
          -523963.25,
          -523978.90625,
          -524176.28125,
          -524204.8125,
          -524243.40625,
          -524253.5,
          -524282.78125,
          -524400.5,
          -524435,
          -524587.6875,
          -524622.375,
          -524654.625,
          -524679.5625,
          -524697.5,
          -524703.625,
          -524847.125,
          -524919.4375,
          -525106.625,
          -525133,
          -525170.5625,
          -525179.9375,
          -525207.1875,
          -525317.0625,
          -525353.5625,
          -525501,
          -525531.5,
          -525566.0625,
          -525584.0625,
          -525610.4375,
          -525702.875,
          -525770.1875,
          -525889.75,
          -525923.0625,
          -525955.5,
          -525980.125,
          -526003.375,
          -526012.8125,
          -526015.1875,
          -526163.4375,
          -526196.875,
          -526396,
          -526414.6875,
          -526453.875,
          -526513.1875,
          -526563.6875,
          -526638.125,
          -526673,
          -526703.3125,
          -526737.6875,
          -526756.9375,
          -526786.375,
          -526786.75,
          -526803.875,
          -526931,
          -526980.6875,
          -527029.25,
          -527042.0625,
          -527098,
          -527143.625,
          -527169.25,
          -527224.5,
          -527261.3125,
          -527292.4375,
          -527333.9375,
          -527345.125,
          -527388.0625,
          -527445.0625,
          -527474.8125,
          -527547.5625,
          -527581.1875,
          -527607.625,
          -527640.5625,
          -527655.0625,
          -527682.75,
          -527754.4375,
          -527807.75,
          -527902,
          -527931.375,
          -527960.5,
          -527982.5,
          -528006.1875,
          -528013.9375,
          -528024.5,
          -528137.6875,
          -528163.125,
          -528311.0625,
          -528333.25,
          -528360.75,
          -528370.125,
          -528388.1875,
          -528479.5625,
          -528515.8125,
          -528637.875,
          -528661.5625,
          -528690,
          -528702.5625,
          -528725.25,
          -528799.625,
          -528844.3125,
          -528940.25,
          -528967,
          -528992.25,
          -529012.9375,
          -529030.25,
          -529038.6875,
          -529038.8125,
          -529160.4375,
          -529190.1875,
          -529353.1875,
          -529367.875,
          -529399.625,
          -529448,
          -529488.1875,
          -529548.875,
          -529577.0625,
          -529601.75,
          -529629.5625,
          -529645.25,
          -529668.5,
          -529669.1875,
          -529682.375,
          -529786.75,
          -529827.75,
          -529867.375,
          -529878.1875,
          -529924.125,
          -529961.4375,
          -529981.9375,
          -530026.25,
          -530057,
          -530082.75,
          -530117.3125,
          -530125.875,
          -530162.25,
          -530208.3125,
          -530231.25,
          -530289.375,
          -530317.3125,
          -530339.375,
          -530367.125,
          -530378.125,
          -530402.5625,
          -530460.125,
          -530498.125,
          -530573.875,
          -530598.25,
          -530621.375,
          -530640.9375,
          -530658.375,
          -530668.125,
          -530673.375,
          -530768.3125,
          -530804.3125,
          -530929,
          -530946.25,
          -530971.0625,
          -530976.4375,
          -530995.5,
          -531068.4375,
          -531089.3125,
          -531186,
          -531206.75,
          -531228.5,
          -531241.9375,
          -531257.375,
          -531320.625,
          -531374.125,
          -531456.125,
          -531477.9375,
          -531500.9375,
          -531515.9375,
          -531534,
          -531537.375,
          -531543.1875,
          -531639.5625,
          -531647.625,
          -531776.75,
          -531791.125,
          -531814.875,
          -531816.4375,
          -531834.375,
          -531908.6875,
          -531915.25,
          -532012.3125,
          -532031.9375,
          -532049.9375,
          -532063.3125,
          -532072.6875,
          -532074,
          -532166.3125,
          -532201.375,
          -532323.625,
          -532337.375,
          -532360.875,
          -532362.4375,
          -532381.125,
          -532449.75,
          -532457.5,
          -532548.375,
          -532567.0625,
          -532585.25,
          -532597.625,
          -532608.875,
          -532670.375,
          -532726.3125,
          -532807.875,
          -532826,
          -532847.9375,
          -532858.75,
          -532876.5625,
          -532925.9375,
          -532967.5625,
          -533032.1875,
          -533052.125,
          -533072.5,
          -533087.4375,
          -533104.0625,
          -533109.8125,
          -533117.75,
          -533193.6875,
          -533213.25,
          -533313.8125,
          -533328.75,
          -533348.6875,
          -533355.125,
          -533368.75,
          -533429.75,
          -533453.625,
          -533534.6875,
          -533551.75,
          -533570.75,
          -533581.25,
          -533595.4375,
          -533646.9375,
          -533687.625,
          -533755.0625,
          -533773.3125,
          -533792.3125,
          -533805.25,
          -533819.9375,
          -533823.4375,
          -533828.0625,
          -533908.125,
          -533918.25,
          -534024.75,
          -534037.25,
          -534057.125,
          -534058.8125,
          -534074.1875,
          -534135.4375,
          -534142.375,
          -534222.6875,
          -534239.1875,
          -534254.75,
          -534266,
          -534274.25,
          -534274.75,
          -534351.625,
          -534385.6875,
          -534487.5625,
          -534498.9375,
          -534519.5,
          -534520.75,
          -534537.1875,
          -534593.3125,
          -534599.1875,
          -534673,
          -534689.125,
          -534704.1875,
          -534715.5,
          -534723.6875,
          -534725.375,
          -534796.5,
          -534834,
          -534929.5,
          -534940.4375,
          -534961.0625,
          -534961.75,
          -534979.625,
          -535030.375,
          -535035.875,
          -535101.8125,
          -535118.625,
          -535131.6875,
          -535145.0625,
          -535151.125,
          -535156.8125,
          -535220.625,
          -535242.375,
          -535326.8125,
          -535339.125,
          -535356.5,
          -535360.75,
          -535374,
          -535423.75,
          -535441.125,
          -535506.875,
          -535521.875,
          -535537.25,
          -535546.875,
          -535557.75,
          -535557.8125,
          -535558.625,
          -535639.4375,
          -535667.375,
          -535696.8125,
          -535697.8125,
          -535733.5,
          -535757,
          -535765.5625,
          -535793.25,
          -535815.375,
          -535830,
          -535856.0625,
          -535874.8125,
          -535892.375,
          -535913.875,
          -535920.375,
          -535943.5625,
          -535970.125,
          -535985.4375,
          -536018,
          -536035.6875,
          -536049.875,
          -536068.5,
          -536075.1875,
          -536093.3125,
          -536125.25,
          -536145.25,
          -536186.375,
          -536202.5625,
          -536216.1875,
          -536231.3125,
          -536240.0625,
          -536251.4375,
          -536290.75,
          -536324.5,
          -536376.0625,
          -536390.25,
          -536405.5625,
          -536415.9375,
          -536427.9375,
          -536431.1875,
          -536435.875,
          -536496.1875,
          -536505.5,
          -536586.3125,
          -536596.4375,
          -536611.6875,
          -536614.3125,
          -536625.4375,
          -536672.8125,
          -536681.875,
          -536743.8125,
          -536757,
          -536770.0625,
          -536778.75,
          -536786.375,
          -536828.625,
          -536868.375,
          -536924.625,
          -536937.125,
          -536952.6875,
          -536959.6875,
          -536973.0625,
          -537005.625,
          -537030.4375,
          -537072.6875,
          -537086.8125,
          -537100.3125,
          -537112.125,
          -537121.8125,
          -537128.5,
          -537130.625,
          -537184.5625,
          -537214.1875,
          -537286.25,
          -537295.8125,
          -537311.9375,
          -537313.625,
          -537327.25,
          -537366.6875,
          -537374.3125,
          -537425.4375,
          -537438.5625,
          -537449.8125,
          -537460.125,
          -537466.0625,
          -537470.25,
          -537519.8125,
          -537544.0625,
          -537609.5,
          -537619.8125,
          -537634.3125,
          -537637.875,
          -537649.375,
          -537687.25,
          -537700.1875,
          -537749.875,
          -537762.0625,
          -537774.25,
          -537783.25,
          -537791.0625,
          -537793.0625,
          -537840.9375,
          -537882.75,
          -537946.3125,
          -537955.625,
          -537970.9375,
          -537973.375,
          -537987.0625,
          -538020.8125,
          -538030.0625,
          -538073.9375,
          -538086.75,
          -538097.1875,
          -538107.8125,
          -538113.5625,
          -538119.4375,
          -538161.625,
          -538184.625,
          -538240.375,
          -538251.0625,
          -538264.375,
          -538269.125,
          -538280.0625,
          -538313.25,
          -538331.75,
          -538375.5,
          -538387.4375,
          -538399.375,
          -538407.5625,
          -538416.3125,
          -538418.6875,
          -538420.8125,
          -538474.8125,
          -538480.5,
          -538552.4375,
          -538559.5,
          -538572.6875,
          -538573.3125,
          -538582.5625,
          -538624.1875,
          -538626.625,
          -538681.5625,
          -538691.6875,
          -538702.0625,
          -538708.75,
          -538714.375,
          -538751.5625,
          -538780.6875,
          -538829.5,
          -538839.8125,
          -538852.5625,
          -538857.875,
          -538868.4375,
          -538897.4375,
          -538916.8125,
          -538955,
          -538966.375,
          -538977.625,
          -538986.875,
          -538995.3125,
          -538998.8125,
          -539000.875,
          -539048.1875,
          -539062.6875,
          -539125.8125,
          -539133.3125,
          -539146,
          -539147.3125,
          -539157.5625,
          -539193.125,
          -539198.625,
          -539245.8125,
          -539256,
          -539266.125,
          -539273.125,
          -539278.6875,
          -539279.75,
          -539324.8125,
          -539351.875,
          -539412.125,
          -539419.5625,
          -539432.625,
          -539433.4375,
          -539444.875,
          -539477.1875,
          -539481.5625,
          -539524,
          -539534.875,
          -539543.75,
          -539552.0625,
          -539556.1875,
          -539560.125,
          -539600.6875,
          -539618.1875,
          -539672.75,
          -539680.75,
          -539692.8125,
          -539695.3125,
          -539704.75,
          -539736.0625,
          -539746.125,
          -539787.375,
          -539797.25,
          -539806.875,
          -539814.25,
          -539820.4375,
          -539822.1875,
          -539861.9375,
          -539893.1875,
          -539945.75,
          -539953.125,
          -539965.4375,
          -539967.375,
          -539978.5625,
          -540007,
          -540014.25,
          -540051.125,
          -540061.5625,
          -540070.5625,
          -540078.5625,
          -540083.75,
          -540087.625,
          -540123.5625,
          -540144.1875,
          -540191.75,
          -540199.9375,
          -540211.0625,
          -540214.5625,
          -540223.6875,
          -540251.375,
          -540263.625,
          -540299.4375,
          -540309.4375,
          -540319.375,
          -540326.375,
          -540332.5625,
          -540335.6875,
          -540370.0625,
          -540403.5625,
          -540449,
          -540457.3125,
          -540468.9375,
          -540471.8125,
          -540482.1875,
          -540507.4375,
          -540516.9375,
          -540549.5,
          -540559.5625,
          -540568.3125,
          -540576.5625,
          -540581.75,
          -540586.4375,
          -540617.75,
          -540641.9375,
          -540683.25,
          -540691.5625,
          -540702.0625,
          -540706.3125,
          -540715.3125,
          -540739.4375,
          -540753.875,
          -540785.5,
          -540795,
          -540803.875,
          -540811.5625,
          -540817.6875,
          -540821.5625,
          -540822.4375,
          -540862.8125,
          -540875.375,
          -540929.625,
          -540935.375,
          -540946.125,
          -540946.625,
          -540955.75,
          -540985.1875,
          -540987.75,
          -541026.5625,
          -541035.625,
          -541042.875,
          -541049.5625,
          -541053.375,
          -541054.5,
          -541092.375,
          -541108.75,
          -541159.125,
          -541165.25,
          -541175.875,
          -541176.625,
          -541185.4375,
          -541213,
          -541217,
          -541253.5,
          -541262.125,
          -541269.5625,
          -541276.4375,
          -541280.4375,
          -541281.75,
          -541317.125,
          -541335.5,
          -541382.4375,
          -541388.4375,
          -541399.3125,
          -541400.25,
          -541408.875,
          -541435,
          -541440.5625,
          -541474.25,
          -541483.25,
          -541490.8125,
          -541497.25,
          -541501.625,
          -541503.8125,
          -541536.6875,
          -541556,
          -541599.8125,
          -541606.375,
          -541616.375,
          -541618,
          -541626.6875,
          -541651.125,
          -541658.25,
          -541690,
          -541698.625,
          -541706.0625,
          -541712.9375,
          -541717.375,
          -541719.875,
          -541750.8125,
          -541772.5,
          -541813.875,
          -541820,
          -541829.5625,
          -541831.9375,
          -541840.5625,
          -541863.25,
          -541871.5,
          -541901.625,
          -541909.875,
          -541917.5,
          -541924.0625,
          -541928.5625,
          -541931.375,
          -541960.1875,
          -541982.75,
          -542020.8125,
          -542027.6875,
          -542037.3125,
          -542039.625,
          -542048,
          -542069.4375,
          -542079.125,
          -542107.375,
          -542115.625,
          -542122.9375,
          -542129.625,
          -542134.375,
          -542137.75,
          -542164.625,
          -542188.75,
          -542224.75,
          -542231.8125,
          -542240.875,
          -542243.875,
          -542252.25,
          -542272.0625,
          -542283,
          -542309.375,
          -542317.5,
          -542324.9375,
          -542331.625,
          -542336.4375,
          -542340.3125,
          -542365.625,
          -542390.25,
          -542424.3125,
          -542430.9375,
          -542440,
          -542443.375,
          -542451.4375,
          -542470.3125,
          -542482.0625,
          -542506.625,
          -542514.8125,
          -542522.3125,
          -542528.8125,
          -542533.9375,
          -542537.8125,
          -542538.25,
          -542570.5625,
          -542587.3125,
          -542630.9375,
          -542635.875,
          -542645.375,
          -542645.75,
          -542653.8125,
          -542677,
          -542679.6875,
          -542710.375,
          -542717.8125,
          -542724.5,
          -542730.125,
          -542733.25,
          -542735.375,
          -542765.0625,
          -542777.4375,
          -542817.125,
          -542822.4375,
          -542830.875,
          -542832.4375,
          -542839.5625,
          -542861.8125,
          -542867.9375,
          -542897.875,
          -542904.875,
          -542911.75,
          -542917.0625,
          -542921.1875,
          -542922.5,
          -542951.375,
          -542972.5,
          -543010.375,
          -543015.75,
          -543024.8125,
          -543025.875,
          -543033.9375,
          -543054.1875,
          -543059.625,
          -543086.25,
          -543093.8125,
          -543100.25,
          -543106.1875,
          -543109.5625,
          -543112.6875,
          -543138.5625,
          -543153.25,
          -543187.4375,
          -543193.5,
          -543201.5,
          -543204.0625,
          -543210.9375,
          -543230.8125,
          -543240,
          -543266.25,
          -543273.5625,
          -543280.125,
          -543285.375,
          -543289.9375,
          -543291.6875,
          -543291.875,
          -543325.75,
          -543330.625,
          -543375.4375,
          -543379.1875,
          -543387.9375,
          -543401.5625,
          -543413.5625,
          -543431.3125,
          -543439.0625,
          -543446,
          -543453.0625,
          -543458.3125,
          -543463.75,
          -543465,
          -543466.1875,
          -543497.25,
          -543501.625,
          -543542.4375,
          -543547.25,
          -543554.8125,
          -543555.5625,
          -543561,
          -543585.125,
          -543587.375,
          -543618.8125,
          -543625.1875,
          -543631.3125,
          -543635.375,
          -543638.8125,
          -543660.375,
          -543679.8125,
          -543708.3125,
          -543714.8125,
          -543722.375,
          -543725.875,
          -543732.3125,
          -543749.0625,
          -543760.125,
          -543782.1875,
          -543789.0625,
          -543795.8125,
          -543801.125,
          -543806.0625,
          -543809.3125,
          -543810.25,
          -543838.125,
          -543851.5625,
          -543888.3125,
          -543893.25,
          -543901.0625,
          -543902,
          -543908.8125,
          -543929.4375,
          -543932.375,
          -543959.3125,
          -543965.75,
          -543971.75,
          -543976.5,
          -543979.5625,
          -543981.25,
          -544006.875,
          -544019.8125,
          -544054.125,
          -544059.125,
          -544066.875,
          -544068.5625,
          -544074.375,
          -544094.0625,
          -544099.5,
          -544125.5,
          -544131.6875,
          -544137.9375,
          -544142.5,
          -544146.25,
          -544147.875,
          -544172.375,
          -544191.0625,
          -544223.75,
          -544229,
          -544236.875,
          -544238.3125,
          -544244.8125,
          -544262.8125,
          -544267.875,
          -544291.4375,
          -544297.75,
          -544303.375,
          -544309,
          -544312.1875,
          -544314.5625,
          -544337.5625,
          -544351.3125,
          -544381.0625,
          -544386.5625,
          -544394,
          -544396.125,
          -544402.125,
          -544419.3125,
          -544428.1875,
          -544450.8125,
          -544457.1875,
          -544463.4375,
          -544468.125,
          -544472.3125,
          -544474.1875,
          -544474.4375,
          -544503.6875,
          -544509,
          -544547.75,
          -544551.75,
          -544558.75,
          -544570.875,
          -544581.875,
          -544597.8125,
          -544604.5625,
          -544611.125,
          -544617.125,
          -544621.25,
          -544626.1875,
          -544627.9375,
          -544629.4375,
          -544656,
          -544660.6875,
          -544696.875,
          -544700.8125,
          -544708.3125,
          -544708.625,
          -544713.8125,
          -544734.625,
          -544737.125,
          -544764.1875,
          -544770.3125,
          -544775.375,
          -544779.4375,
          -544782.75,
          -544801.5625,
          -544820.1875,
          -544845.125,
          -544850.6875,
          -544857.75,
          -544860.8125,
          -544866.9375,
          -544881.5,
          -544891.0625,
          -544910.25,
          -544916.625,
          -544922.3125,
          -544927.875,
          -544931.9375,
          -544934.9375,
          -544935.75,
          -544960.4375,
          -544973.875,
          -545006.9375,
          -545010.875,
          -545018,
          -545018.75,
          -545025,
          -545042.5,
          -545045.6875,
          -545069.0625,
          -545074.9375,
          -545079.875,
          -545084.6875,
          -545087.625,
          -545089.25,
          -545111.75,
          -545122.4375,
          -545152.875,
          -545157.4375,
          -545163.9375,
          -545165.3125,
          -545170.875,
          -545188,
          -545194,
          -545216.9375,
          -545222.375,
          -545227.875,
          -545232,
          -545235.9375,
          -545236.625,
          -545258.875,
          -545277.1875,
          -545306.5,
          -545311.125,
          -545318.375,
          -545319.25,
          -545325.8125,
          -545341.375,
          -545346,
          -545366.5,
          -545372.3125,
          -545377.6875,
          -545382.25,
          -545385.1875,
          -545387.75,
          -545407.625,
          -545418.875,
          -545445.1875,
          -545450.125,
          -545456.4375,
          -545458.875,
          -545464.1875,
          -545479.75,
          -545488,
          -545508.625,
          -545514.6875,
          -545520.25,
          -545524.5,
          -545528.5,
          -545529.875,
          -545530.4375,
          -545556.1875,
          -545559.5625,
          -545594.0625,
          -545597.75,
          -545604.25,
          -545614.9375,
          -545625.625,
          -545639.6875,
          -545646,
          -545651.625,
          -545657.125,
          -545661,
          -545665.5625,
          -545667.125,
          -545667.875,
          -545692.5625,
          -545697.9375,
          -545730.625,
          -545734.375,
          -545740.6875,
          -545741.25,
          -545746.125,
          -545764.4375,
          -545766.625,
          -545790.8125,
          -545796,
          -545800.625,
          -545804.375,
          -545806.75,
          -545807.1875,
          -545830.875,
          -545841.375,
          -545873.1875,
          -545876.625,
          -545883.25,
          -545892.9375,
          -545903,
          -545915.4375,
          -545921.3125,
          -545926.375,
          -545932.375,
          -545936.4375,
          -545941.1875,
          -545942.5625,
          -545945.125,
          -545966.3125,
          -545971.25,
          -545999.75,
          -546003.8125,
          -546009.4375,
          -546010.875,
          -546015.0625,
          -546032.25,
          -546037.875,
          -546060.1875,
          -546065.5,
          -546070.3125,
          -546074,
          -546076.9375,
          -546077.1875,
          -546099.0625
         ]
        }
       ],
       "layout": {
        "template": {
         "data": {
          "bar": [
           {
            "error_x": {
             "color": "#2a3f5f"
            },
            "error_y": {
             "color": "#2a3f5f"
            },
            "marker": {
             "line": {
              "color": "#E5ECF6",
              "width": 0.5
             },
             "pattern": {
              "fillmode": "overlay",
              "size": 10,
              "solidity": 0.2
             }
            },
            "type": "bar"
           }
          ],
          "barpolar": [
           {
            "marker": {
             "line": {
              "color": "#E5ECF6",
              "width": 0.5
             },
             "pattern": {
              "fillmode": "overlay",
              "size": 10,
              "solidity": 0.2
             }
            },
            "type": "barpolar"
           }
          ],
          "carpet": [
           {
            "aaxis": {
             "endlinecolor": "#2a3f5f",
             "gridcolor": "white",
             "linecolor": "white",
             "minorgridcolor": "white",
             "startlinecolor": "#2a3f5f"
            },
            "baxis": {
             "endlinecolor": "#2a3f5f",
             "gridcolor": "white",
             "linecolor": "white",
             "minorgridcolor": "white",
             "startlinecolor": "#2a3f5f"
            },
            "type": "carpet"
           }
          ],
          "choropleth": [
           {
            "colorbar": {
             "outlinewidth": 0,
             "ticks": ""
            },
            "type": "choropleth"
           }
          ],
          "contour": [
           {
            "colorbar": {
             "outlinewidth": 0,
             "ticks": ""
            },
            "colorscale": [
             [
              0,
              "#0d0887"
             ],
             [
              0.1111111111111111,
              "#46039f"
             ],
             [
              0.2222222222222222,
              "#7201a8"
             ],
             [
              0.3333333333333333,
              "#9c179e"
             ],
             [
              0.4444444444444444,
              "#bd3786"
             ],
             [
              0.5555555555555556,
              "#d8576b"
             ],
             [
              0.6666666666666666,
              "#ed7953"
             ],
             [
              0.7777777777777778,
              "#fb9f3a"
             ],
             [
              0.8888888888888888,
              "#fdca26"
             ],
             [
              1,
              "#f0f921"
             ]
            ],
            "type": "contour"
           }
          ],
          "contourcarpet": [
           {
            "colorbar": {
             "outlinewidth": 0,
             "ticks": ""
            },
            "type": "contourcarpet"
           }
          ],
          "heatmap": [
           {
            "colorbar": {
             "outlinewidth": 0,
             "ticks": ""
            },
            "colorscale": [
             [
              0,
              "#0d0887"
             ],
             [
              0.1111111111111111,
              "#46039f"
             ],
             [
              0.2222222222222222,
              "#7201a8"
             ],
             [
              0.3333333333333333,
              "#9c179e"
             ],
             [
              0.4444444444444444,
              "#bd3786"
             ],
             [
              0.5555555555555556,
              "#d8576b"
             ],
             [
              0.6666666666666666,
              "#ed7953"
             ],
             [
              0.7777777777777778,
              "#fb9f3a"
             ],
             [
              0.8888888888888888,
              "#fdca26"
             ],
             [
              1,
              "#f0f921"
             ]
            ],
            "type": "heatmap"
           }
          ],
          "heatmapgl": [
           {
            "colorbar": {
             "outlinewidth": 0,
             "ticks": ""
            },
            "colorscale": [
             [
              0,
              "#0d0887"
             ],
             [
              0.1111111111111111,
              "#46039f"
             ],
             [
              0.2222222222222222,
              "#7201a8"
             ],
             [
              0.3333333333333333,
              "#9c179e"
             ],
             [
              0.4444444444444444,
              "#bd3786"
             ],
             [
              0.5555555555555556,
              "#d8576b"
             ],
             [
              0.6666666666666666,
              "#ed7953"
             ],
             [
              0.7777777777777778,
              "#fb9f3a"
             ],
             [
              0.8888888888888888,
              "#fdca26"
             ],
             [
              1,
              "#f0f921"
             ]
            ],
            "type": "heatmapgl"
           }
          ],
          "histogram": [
           {
            "marker": {
             "pattern": {
              "fillmode": "overlay",
              "size": 10,
              "solidity": 0.2
             }
            },
            "type": "histogram"
           }
          ],
          "histogram2d": [
           {
            "colorbar": {
             "outlinewidth": 0,
             "ticks": ""
            },
            "colorscale": [
             [
              0,
              "#0d0887"
             ],
             [
              0.1111111111111111,
              "#46039f"
             ],
             [
              0.2222222222222222,
              "#7201a8"
             ],
             [
              0.3333333333333333,
              "#9c179e"
             ],
             [
              0.4444444444444444,
              "#bd3786"
             ],
             [
              0.5555555555555556,
              "#d8576b"
             ],
             [
              0.6666666666666666,
              "#ed7953"
             ],
             [
              0.7777777777777778,
              "#fb9f3a"
             ],
             [
              0.8888888888888888,
              "#fdca26"
             ],
             [
              1,
              "#f0f921"
             ]
            ],
            "type": "histogram2d"
           }
          ],
          "histogram2dcontour": [
           {
            "colorbar": {
             "outlinewidth": 0,
             "ticks": ""
            },
            "colorscale": [
             [
              0,
              "#0d0887"
             ],
             [
              0.1111111111111111,
              "#46039f"
             ],
             [
              0.2222222222222222,
              "#7201a8"
             ],
             [
              0.3333333333333333,
              "#9c179e"
             ],
             [
              0.4444444444444444,
              "#bd3786"
             ],
             [
              0.5555555555555556,
              "#d8576b"
             ],
             [
              0.6666666666666666,
              "#ed7953"
             ],
             [
              0.7777777777777778,
              "#fb9f3a"
             ],
             [
              0.8888888888888888,
              "#fdca26"
             ],
             [
              1,
              "#f0f921"
             ]
            ],
            "type": "histogram2dcontour"
           }
          ],
          "mesh3d": [
           {
            "colorbar": {
             "outlinewidth": 0,
             "ticks": ""
            },
            "type": "mesh3d"
           }
          ],
          "parcoords": [
           {
            "line": {
             "colorbar": {
              "outlinewidth": 0,
              "ticks": ""
             }
            },
            "type": "parcoords"
           }
          ],
          "pie": [
           {
            "automargin": true,
            "type": "pie"
           }
          ],
          "scatter": [
           {
            "marker": {
             "colorbar": {
              "outlinewidth": 0,
              "ticks": ""
             }
            },
            "type": "scatter"
           }
          ],
          "scatter3d": [
           {
            "line": {
             "colorbar": {
              "outlinewidth": 0,
              "ticks": ""
             }
            },
            "marker": {
             "colorbar": {
              "outlinewidth": 0,
              "ticks": ""
             }
            },
            "type": "scatter3d"
           }
          ],
          "scattercarpet": [
           {
            "marker": {
             "colorbar": {
              "outlinewidth": 0,
              "ticks": ""
             }
            },
            "type": "scattercarpet"
           }
          ],
          "scattergeo": [
           {
            "marker": {
             "colorbar": {
              "outlinewidth": 0,
              "ticks": ""
             }
            },
            "type": "scattergeo"
           }
          ],
          "scattergl": [
           {
            "marker": {
             "colorbar": {
              "outlinewidth": 0,
              "ticks": ""
             }
            },
            "type": "scattergl"
           }
          ],
          "scattermapbox": [
           {
            "marker": {
             "colorbar": {
              "outlinewidth": 0,
              "ticks": ""
             }
            },
            "type": "scattermapbox"
           }
          ],
          "scatterpolar": [
           {
            "marker": {
             "colorbar": {
              "outlinewidth": 0,
              "ticks": ""
             }
            },
            "type": "scatterpolar"
           }
          ],
          "scatterpolargl": [
           {
            "marker": {
             "colorbar": {
              "outlinewidth": 0,
              "ticks": ""
             }
            },
            "type": "scatterpolargl"
           }
          ],
          "scatterternary": [
           {
            "marker": {
             "colorbar": {
              "outlinewidth": 0,
              "ticks": ""
             }
            },
            "type": "scatterternary"
           }
          ],
          "surface": [
           {
            "colorbar": {
             "outlinewidth": 0,
             "ticks": ""
            },
            "colorscale": [
             [
              0,
              "#0d0887"
             ],
             [
              0.1111111111111111,
              "#46039f"
             ],
             [
              0.2222222222222222,
              "#7201a8"
             ],
             [
              0.3333333333333333,
              "#9c179e"
             ],
             [
              0.4444444444444444,
              "#bd3786"
             ],
             [
              0.5555555555555556,
              "#d8576b"
             ],
             [
              0.6666666666666666,
              "#ed7953"
             ],
             [
              0.7777777777777778,
              "#fb9f3a"
             ],
             [
              0.8888888888888888,
              "#fdca26"
             ],
             [
              1,
              "#f0f921"
             ]
            ],
            "type": "surface"
           }
          ],
          "table": [
           {
            "cells": {
             "fill": {
              "color": "#EBF0F8"
             },
             "line": {
              "color": "white"
             }
            },
            "header": {
             "fill": {
              "color": "#C8D4E3"
             },
             "line": {
              "color": "white"
             }
            },
            "type": "table"
           }
          ]
         },
         "layout": {
          "annotationdefaults": {
           "arrowcolor": "#2a3f5f",
           "arrowhead": 0,
           "arrowwidth": 1
          },
          "autotypenumbers": "strict",
          "coloraxis": {
           "colorbar": {
            "outlinewidth": 0,
            "ticks": ""
           }
          },
          "colorscale": {
           "diverging": [
            [
             0,
             "#8e0152"
            ],
            [
             0.1,
             "#c51b7d"
            ],
            [
             0.2,
             "#de77ae"
            ],
            [
             0.3,
             "#f1b6da"
            ],
            [
             0.4,
             "#fde0ef"
            ],
            [
             0.5,
             "#f7f7f7"
            ],
            [
             0.6,
             "#e6f5d0"
            ],
            [
             0.7,
             "#b8e186"
            ],
            [
             0.8,
             "#7fbc41"
            ],
            [
             0.9,
             "#4d9221"
            ],
            [
             1,
             "#276419"
            ]
           ],
           "sequential": [
            [
             0,
             "#0d0887"
            ],
            [
             0.1111111111111111,
             "#46039f"
            ],
            [
             0.2222222222222222,
             "#7201a8"
            ],
            [
             0.3333333333333333,
             "#9c179e"
            ],
            [
             0.4444444444444444,
             "#bd3786"
            ],
            [
             0.5555555555555556,
             "#d8576b"
            ],
            [
             0.6666666666666666,
             "#ed7953"
            ],
            [
             0.7777777777777778,
             "#fb9f3a"
            ],
            [
             0.8888888888888888,
             "#fdca26"
            ],
            [
             1,
             "#f0f921"
            ]
           ],
           "sequentialminus": [
            [
             0,
             "#0d0887"
            ],
            [
             0.1111111111111111,
             "#46039f"
            ],
            [
             0.2222222222222222,
             "#7201a8"
            ],
            [
             0.3333333333333333,
             "#9c179e"
            ],
            [
             0.4444444444444444,
             "#bd3786"
            ],
            [
             0.5555555555555556,
             "#d8576b"
            ],
            [
             0.6666666666666666,
             "#ed7953"
            ],
            [
             0.7777777777777778,
             "#fb9f3a"
            ],
            [
             0.8888888888888888,
             "#fdca26"
            ],
            [
             1,
             "#f0f921"
            ]
           ]
          },
          "colorway": [
           "#636efa",
           "#EF553B",
           "#00cc96",
           "#ab63fa",
           "#FFA15A",
           "#19d3f3",
           "#FF6692",
           "#B6E880",
           "#FF97FF",
           "#FECB52"
          ],
          "font": {
           "color": "#2a3f5f"
          },
          "geo": {
           "bgcolor": "white",
           "lakecolor": "white",
           "landcolor": "#E5ECF6",
           "showlakes": true,
           "showland": true,
           "subunitcolor": "white"
          },
          "hoverlabel": {
           "align": "left"
          },
          "hovermode": "closest",
          "mapbox": {
           "style": "light"
          },
          "paper_bgcolor": "white",
          "plot_bgcolor": "#E5ECF6",
          "polar": {
           "angularaxis": {
            "gridcolor": "white",
            "linecolor": "white",
            "ticks": ""
           },
           "bgcolor": "#E5ECF6",
           "radialaxis": {
            "gridcolor": "white",
            "linecolor": "white",
            "ticks": ""
           }
          },
          "scene": {
           "xaxis": {
            "backgroundcolor": "#E5ECF6",
            "gridcolor": "white",
            "gridwidth": 2,
            "linecolor": "white",
            "showbackground": true,
            "ticks": "",
            "zerolinecolor": "white"
           },
           "yaxis": {
            "backgroundcolor": "#E5ECF6",
            "gridcolor": "white",
            "gridwidth": 2,
            "linecolor": "white",
            "showbackground": true,
            "ticks": "",
            "zerolinecolor": "white"
           },
           "zaxis": {
            "backgroundcolor": "#E5ECF6",
            "gridcolor": "white",
            "gridwidth": 2,
            "linecolor": "white",
            "showbackground": true,
            "ticks": "",
            "zerolinecolor": "white"
           }
          },
          "shapedefaults": {
           "line": {
            "color": "#2a3f5f"
           }
          },
          "ternary": {
           "aaxis": {
            "gridcolor": "white",
            "linecolor": "white",
            "ticks": ""
           },
           "baxis": {
            "gridcolor": "white",
            "linecolor": "white",
            "ticks": ""
           },
           "bgcolor": "#E5ECF6",
           "caxis": {
            "gridcolor": "white",
            "linecolor": "white",
            "ticks": ""
           }
          },
          "title": {
           "x": 0.05
          },
          "xaxis": {
           "automargin": true,
           "gridcolor": "white",
           "linecolor": "white",
           "ticks": "",
           "title": {
            "standoff": 15
           },
           "zerolinecolor": "white",
           "zerolinewidth": 2
          },
          "yaxis": {
           "automargin": true,
           "gridcolor": "white",
           "linecolor": "white",
           "ticks": "",
           "title": {
            "standoff": 15
           },
           "zerolinecolor": "white",
           "zerolinewidth": 2
          }
         }
        },
        "title": {
         "text": "Energy Minimization"
        },
        "xaxis": {
         "title": {
          "text": "Energy Minimization Step"
         }
        },
        "yaxis": {
         "title": {
          "text": "Potential Energy KJ/mol-1"
         }
        }
       }
      },
      "text/html": [
       "<div>                            <div id=\"42fbfa9f-a36c-4b60-9746-90a7d2b46dcb\" class=\"plotly-graph-div\" style=\"height:525px; width:100%;\"></div>            <script type=\"text/javascript\">                require([\"plotly\"], function(Plotly) {                    window.PLOTLYENV=window.PLOTLYENV || {};                                    if (document.getElementById(\"42fbfa9f-a36c-4b60-9746-90a7d2b46dcb\")) {                    Plotly.newPlot(                        \"42fbfa9f-a36c-4b60-9746-90a7d2b46dcb\",                        [{\"type\":\"scatter\",\"x\":[0.0,1.0,2.0,3.0,4.0,5.0,6.0,7.0,8.0,9.0,10.0,12.0,13.0,14.0,16.0,17.0,18.0,19.0,20.0,22.0,23.0,24.0,26.0,27.0,28.0,29.0,31.0,32.0,33.0,35.0,36.0,37.0,39.0,40.0,41.0,43.0,44.0,45.0,46.0,47.0,49.0,51.0,52.0,53.0,54.0,56.0,57.0,58.0,60.0,61.0,62.0,64.0,65.0,66.0,67.0,68.0,70.0,71.0,72.0,74.0,75.0,76.0,78.0,79.0,80.0,82.0,83.0,84.0,85.0,86.0,88.0,89.0,90.0,92.0,93.0,94.0,95.0,96.0,98.0,99.0,100.0,102.0,103.0,104.0,105.0,106.0,108.0,109.0,110.0,112.0,113.0,114.0,115.0,116.0,118.0,119.0,120.0,122.0,123.0,124.0,125.0,127.0,128.0,129.0,131.0,132.0,133.0,134.0,136.0,137.0,138.0,140.0,141.0,142.0,143.0,144.0,146.0,147.0,148.0,150.0,151.0,152.0,153.0,154.0,156.0,157.0,158.0,160.0,161.0,162.0,163.0,164.0,165.0,167.0,168.0,169.0,171.0,172.0,174.0,175.0,176.0,178.0,179.0,180.0,181.0,182.0,184.0,185.0,186.0,188.0,189.0,190.0,191.0,192.0,194.0,195.0,196.0,198.0,199.0,200.0,201.0,202.0,204.0,205.0,206.0,208.0,209.0,210.0,211.0,213.0,214.0,215.0,217.0,218.0,219.0,220.0,222.0,223.0,224.0,226.0,227.0,228.0,229.0,230.0,232.0,233.0,234.0,236.0,237.0,238.0,239.0,240.0,242.0,243.0,244.0,246.0,247.0,248.0,249.0,251.0,252.0,253.0,255.0,256.0,257.0,258.0,260.0,261.0,262.0,264.0,265.0,266.0,267.0,268.0,270.0,271.0,272.0,274.0,275.0,276.0,277.0,278.0,279.0,281.0,282.0,283.0,285.0,286.0,288.0,289.0,290.0,292.0,293.0,294.0,295.0,296.0,298.0,299.0,300.0,302.0,303.0,304.0,305.0,306.0,308.0,309.0,310.0,312.0,313.0,314.0,315.0,316.0,317.0,319.0,320.0,321.0,323.0,324.0,326.0,327.0,328.0,330.0,331.0,332.0,333.0,334.0,336.0,337.0,338.0,340.0,341.0,342.0,343.0,344.0,345.0,346.0,348.0,350.0,351.0,352.0,353.0,355.0,356.0,357.0,359.0,360.0,361.0,362.0,363.0,365.0,366.0,367.0,369.0,370.0,371.0,372.0,373.0,375.0,376.0,377.0,379.0,380.0,381.0,382.0,383.0,384.0,386.0,387.0,388.0,390.0,391.0,392.0,393.0,395.0,396.0,397.0,399.0,400.0,401.0,402.0,404.0,405.0,406.0,408.0,409.0,410.0,411.0,412.0,414.0,415.0,416.0,418.0,419.0,420.0,421.0,423.0,424.0,425.0,427.0,428.0,429.0,430.0,432.0,433.0,434.0,436.0,437.0,438.0,439.0,440.0,441.0,443.0,444.0,445.0,447.0,448.0,450.0,451.0,452.0,454.0,455.0,456.0,457.0,458.0,459.0,460.0,462.0,464.0,465.0,466.0,467.0,469.0,470.0,471.0,473.0,474.0,475.0,476.0,477.0,479.0,480.0,481.0,483.0,484.0,485.0,486.0,487.0,489.0,490.0,491.0,493.0,494.0,495.0,496.0,497.0,498.0,500.0,501.0,502.0,504.0,505.0,506.0,507.0,509.0,510.0,511.0,513.0,514.0,515.0,516.0,518.0,519.0,520.0,522.0,523.0,524.0,525.0,526.0,527.0,529.0,530.0,531.0,533.0,534.0,536.0,537.0,538.0,540.0,541.0,542.0,543.0,544.0,545.0,546.0,548.0,550.0,551.0,552.0,553.0,555.0,556.0,557.0,559.0,560.0,561.0,562.0,563.0,565.0,566.0,567.0,569.0,570.0,571.0,572.0,573.0,575.0,576.0,577.0,579.0,580.0,581.0,582.0,583.0,584.0,586.0,587.0,588.0,590.0,591.0,592.0,593.0,595.0,596.0,597.0,599.0,600.0,601.0,602.0,604.0,605.0,606.0,608.0,609.0,610.0,611.0,612.0,613.0,615.0,616.0,617.0,619.0,620.0,621.0,622.0,624.0,625.0,626.0,628.0,629.0,630.0,631.0,632.0,634.0,635.0,636.0,638.0,639.0,640.0,641.0,643.0,644.0,645.0,647.0,648.0,649.0,650.0,652.0,653.0,654.0,656.0,657.0,658.0,659.0,661.0,662.0,663.0,665.0,666.0,667.0,668.0,669.0,670.0,672.0,673.0,674.0,676.0,677.0,678.0,679.0,681.0,682.0,683.0,685.0,686.0,687.0,688.0,690.0,691.0,692.0,694.0,695.0,696.0,697.0,698.0,699.0,701.0,702.0,703.0,705.0,706.0,707.0,708.0,710.0,711.0,712.0,714.0,715.0,716.0,717.0,718.0,720.0,721.0,722.0,724.0,725.0,726.0,727.0,729.0,730.0,731.0,733.0,734.0,735.0,736.0,737.0,739.0,740.0,741.0,743.0,744.0,745.0,746.0,748.0,749.0,750.0,752.0,753.0,754.0,755.0,756.0,758.0,759.0,760.0,762.0,763.0,764.0,765.0,767.0,768.0,769.0,771.0,772.0,773.0,774.0,775.0,776.0,778.0,780.0,781.0,782.0,783.0,785.0,786.0,787.0,789.0,790.0,791.0,793.0,794.0,795.0,796.0,797.0,799.0,800.0,801.0,803.0,804.0,805.0,806.0,807.0,809.0,810.0,811.0,813.0,814.0,815.0,816.0,817.0,819.0,820.0,821.0,823.0,824.0,825.0,826.0,827.0,828.0,830.0,831.0,832.0,834.0,835.0,836.0,837.0,839.0,840.0,841.0,843.0,844.0,845.0,846.0,848.0,849.0,850.0,852.0,853.0,854.0,855.0,857.0,858.0,859.0,861.0,862.0,863.0,864.0,865.0,866.0,868.0,869.0,870.0,872.0,873.0,874.0,875.0,877.0,878.0,879.0,881.0,882.0,883.0,884.0,885.0,887.0,888.0,889.0,891.0,892.0,893.0,894.0,896.0,897.0,898.0,900.0,901.0,902.0,903.0,904.0,906.0,907.0,908.0,910.0,911.0,912.0,913.0,915.0,916.0,917.0,919.0,920.0,921.0,922.0,923.0,925.0,926.0,927.0,929.0,930.0,931.0,932.0,934.0,935.0,936.0,938.0,939.0,940.0,941.0,942.0,943.0,945.0,946.0,947.0,949.0,950.0,951.0,952.0,954.0,955.0,956.0,958.0,959.0,960.0,961.0,963.0,964.0,965.0,967.0,968.0,969.0,970.0,972.0,973.0,974.0,976.0,977.0,978.0,979.0,980.0,981.0,983.0,984.0,985.0,987.0,988.0,989.0,990.0,992.0,993.0,994.0,996.0,997.0,998.0,999.0,1000.0,1002.0,1003.0,1004.0,1006.0,1007.0,1008.0,1009.0,1011.0,1012.0,1013.0,1015.0,1016.0,1017.0,1018.0,1019.0,1021.0,1022.0,1023.0,1025.0,1026.0,1027.0,1028.0,1030.0,1031.0,1032.0,1034.0,1035.0,1036.0,1037.0,1038.0,1040.0,1041.0,1042.0,1044.0,1045.0,1046.0,1047.0,1049.0,1050.0,1051.0,1053.0,1054.0,1055.0,1056.0,1057.0,1059.0,1060.0,1061.0,1063.0,1064.0,1065.0,1066.0,1068.0,1069.0,1070.0,1072.0,1073.0,1074.0,1075.0,1076.0,1078.0,1079.0,1080.0,1082.0,1083.0,1084.0,1085.0,1087.0,1088.0,1089.0,1091.0,1092.0,1093.0,1094.0,1095.0,1097.0,1098.0,1099.0,1101.0,1102.0,1103.0,1104.0,1106.0,1107.0,1108.0,1110.0,1111.0,1112.0,1113.0,1114.0,1115.0,1117.0,1118.0,1119.0,1121.0,1122.0,1123.0,1124.0,1126.0,1127.0,1128.0,1130.0,1131.0,1132.0,1133.0,1134.0,1136.0,1137.0,1138.0,1140.0,1141.0,1142.0,1143.0,1145.0,1146.0,1147.0,1149.0,1150.0,1151.0,1152.0,1153.0,1155.0,1156.0,1157.0,1159.0,1160.0,1161.0,1162.0,1164.0,1165.0,1166.0,1168.0,1169.0,1170.0,1171.0,1172.0,1174.0,1175.0,1176.0,1178.0,1179.0,1180.0,1181.0,1183.0,1184.0,1185.0,1187.0,1188.0,1189.0,1190.0,1191.0,1193.0,1194.0,1195.0,1197.0,1198.0,1199.0,1200.0,1202.0,1203.0,1204.0,1206.0,1207.0,1208.0,1209.0,1210.0,1212.0,1213.0,1214.0,1216.0,1217.0,1218.0,1219.0,1221.0,1222.0,1223.0,1225.0,1226.0,1227.0,1228.0,1229.0,1231.0,1232.0,1233.0,1235.0,1236.0,1237.0,1238.0,1240.0,1241.0,1242.0,1244.0,1245.0,1246.0,1247.0,1248.0,1250.0,1251.0,1252.0,1254.0,1255.0,1256.0,1257.0,1259.0,1260.0,1261.0,1263.0,1264.0,1265.0,1266.0,1267.0,1268.0,1270.0,1271.0,1272.0,1274.0,1275.0,1276.0,1277.0,1279.0,1280.0,1281.0,1283.0,1284.0,1285.0,1286.0,1287.0,1289.0,1290.0,1291.0,1293.0,1294.0,1295.0,1296.0,1298.0,1299.0,1300.0,1302.0,1303.0,1304.0,1305.0,1306.0,1308.0,1309.0,1310.0,1312.0,1313.0,1314.0,1315.0,1317.0,1318.0,1319.0,1321.0,1322.0,1323.0,1324.0,1325.0,1327.0,1328.0,1329.0,1331.0,1332.0,1333.0,1334.0,1336.0,1337.0,1338.0,1340.0,1341.0,1342.0,1343.0,1344.0,1345.0,1347.0,1348.0,1349.0,1351.0,1352.0,1354.0,1355.0,1356.0,1358.0,1359.0,1360.0,1361.0,1362.0,1363.0,1364.0,1366.0,1367.0,1368.0,1370.0,1371.0,1372.0,1373.0,1375.0,1376.0,1377.0,1379.0,1380.0,1381.0,1382.0,1384.0,1385.0,1386.0,1388.0,1389.0,1390.0,1391.0,1393.0,1394.0,1395.0,1397.0,1398.0,1399.0,1400.0,1401.0,1402.0,1404.0,1405.0,1406.0,1408.0,1409.0,1410.0,1411.0,1413.0,1414.0,1415.0,1417.0,1418.0,1419.0,1420.0,1421.0,1423.0,1424.0,1425.0,1427.0,1428.0,1429.0,1430.0,1432.0,1433.0,1434.0,1436.0,1437.0,1438.0,1439.0,1440.0,1442.0,1443.0,1444.0,1446.0,1447.0,1448.0,1449.0,1451.0,1452.0,1453.0,1455.0,1456.0,1457.0,1458.0,1459.0,1461.0,1462.0,1463.0,1465.0,1466.0,1467.0,1468.0,1470.0,1471.0,1472.0,1474.0,1475.0,1476.0,1477.0,1478.0,1479.0,1481.0,1482.0,1483.0,1485.0,1486.0,1488.0,1489.0,1490.0,1492.0,1493.0,1494.0,1495.0,1496.0,1497.0,1498.0,1500.0,1501.0,1502.0,1504.0,1505.0,1506.0,1507.0,1509.0,1510.0,1511.0,1513.0,1514.0,1515.0,1516.0,1518.0,1519.0,1520.0,1522.0,1523.0,1524.0,1525.0,1527.0,1528.0,1529.0,1531.0,1532.0,1533.0,1534.0,1535.0,1536.0,1538.0,1539.0,1540.0,1542.0,1543.0,1544.0,1545.0,1547.0,1548.0,1549.0,1551.0,1552.0,1553.0,1554.0,1555.0,1557.0,1558.0,1559.0,1561.0,1562.0,1563.0,1564.0,1566.0,1567.0,1568.0,1570.0,1571.0,1572.0,1573.0,1574.0,1576.0,1577.0,1578.0,1580.0,1581.0,1582.0,1583.0,1585.0,1586.0,1587.0,1589.0,1590.0,1591.0,1592.0,1593.0,1595.0,1596.0,1597.0,1599.0,1600.0,1601.0,1602.0,1604.0,1605.0,1606.0,1608.0,1609.0,1610.0,1611.0,1612.0,1613.0,1615.0,1616.0,1617.0,1619.0,1620.0,1622.0,1623.0,1624.0,1626.0,1627.0,1628.0,1629.0,1630.0,1631.0,1632.0,1634.0,1635.0,1636.0,1638.0,1639.0,1640.0,1641.0,1643.0,1644.0,1645.0,1647.0,1648.0,1649.0,1650.0,1651.0,1653.0,1654.0,1655.0,1657.0,1658.0,1660.0,1661.0,1662.0,1664.0,1665.0,1666.0,1667.0,1668.0,1669.0,1670.0,1672.0,1673.0,1674.0,1676.0,1677.0,1678.0,1679.0,1681.0,1682.0,1683.0,1685.0,1686.0,1687.0,1688.0,1689.0,1691.0],\"y\":[-266411.90625,-309277.71875,-348004.9375,-376393.5625,-397857.40625,-406579.09375,-413798.0,-424183.40625,-427676.0625,-430730.6875,-433100.03125,-437164.09375,-438823.53125,-442340.125,-444170.71875,-445636.03125,-447253.84375,-447969.59375,-449134.65625,-452040.6875,-453578.0625,-457526.40625,-458353.8125,-459254.84375,-459609.40625,-460270.125,-462627.0625,-463061.0625,-466099.90625,-466781.1875,-467170.71875,-467694.03125,-469279.90625,-470216.5625,-472200.75,-472754.71875,-473162.6875,-473606.09375,-473711.125,-473927.09375,-475837.0,-476599.46875,-477319.25,-477435.0625,-478251.65625,-478933.25,-479182.03125,-479991.0625,-480511.78125,-480822.1875,-481397.84375,-481900.625,-482337.5,-482926.6875,-482945.71875,-483617.53125,-484211.5625,-484338.34375,-485057.21875,-485491.5,-485695.40625,-486179.5625,-486617.0,-486930.0,-487451.0625,-487791.84375,-488080.03125,-488451.40625,-488547.21875,-488931.40625,-489449.9375,-489660.65625,-490317.5,-490609.8125,-490802.34375,-491091.5625,-491133.375,-491384.3125,-492049.21875,-492165.03125,-492990.34375,-493229.21875,-493394.21875,-493610.28125,-493667.5,-493827.75,-494519.0625,-494728.84375,-495552.0,-495742.78125,-495908.21875,-496056.53125,-496142.0,-496211.90625,-496903.53125,-497228.71875,-498053.46875,-498203.84375,-498365.5625,-498460.625,-498560.15625,-499056.1875,-499507.625,-500137.84375,-500281.15625,-500459.625,-500534.78125,-500702.53125,-501025.21875,-501250.78125,-501644.125,-501799.625,-501929.0,-502074.46875,-502150.4375,-502270.53125,-502616.875,-502880.0,-503305.46875,-503440.875,-503562.09375,-503676.0625,-503754.15625,-503827.28125,-504201.625,-504519.1875,-504981.65625,-505096.1875,-505212.1875,-505294.96875,-505375.0625,-505402.75,-505403.625,-505944.65625,-506019.15625,-506734.03125,-506793.6875,-506924.84375,-507127.6875,-507288.5625,-507538.6875,-507653.28125,-507750.4375,-507862.1875,-507919.78125,-508019.21875,-508247.0,-508431.625,-508715.46875,-508818.9375,-508908.9375,-509000.75,-509058.15625,-509125.28125,-509382.03125,-509600.71875,-509923.4375,-510013.59375,-510100.40625,-510170.21875,-510229.09375,-510261.625,-510552.21875,-510821.6875,-511187.15625,-511262.53125,-511348.21875,-511394.34375,-511454.96875,-511679.9375,-511876.5,-512175.875,-512252.375,-512340.09375,-512385.03125,-512464.84375,-512636.78125,-512775.75,-512991.3125,-513072.78125,-513143.625,-513216.78125,-513261.3125,-513316.25,-513514.3125,-513680.65625,-513931.03125,-514002.84375,-514071.375,-514127.59375,-514174.4375,-514201.1875,-514430.125,-514641.9375,-514931.9375,-514992.125,-515061.25,-515097.875,-515147.3125,-515326.71875,-515480.5625,-515720.1875,-515781.375,-515852.21875,-515888.5,-515952.09375,-516092.0625,-516207.8125,-516384.125,-516450.125,-516507.78125,-516566.40625,-516603.78125,-516646.71875,-516809.375,-516953.09375,-517159.75,-517218.125,-517275.375,-517319.9375,-517359.96875,-517379.53125,-517382.21875,-517637.59375,-517710.59375,-518054.5,-518086.53125,-518155.625,-518255.375,-518337.21875,-518461.65625,-518521.90625,-518573.25,-518632.875,-518663.40625,-518717.9375,-518833.90625,-518930.6875,-519077.21875,-519132.5,-519181.5625,-519231.59375,-519263.3125,-519300.28125,-519436.125,-519560.09375,-519732.90625,-519782.90625,-519832.125,-519870.03125,-519905.09375,-519922.09375,-519926.4375,-520139.75,-520204.4375,-520491.59375,-520520.15625,-520578.71875,-520663.40625,-520737.1875,-520842.4375,-520893.9375,-520938.875,-520989.9375,-521017.9375,-521064.0,-521162.875,-521251.96875,-521376.59375,-521425.03125,-521468.1875,-521510.59375,-521539.96875,-521571.53125,-521574.03125,-521580.59375,-521792.5625,-521868.625,-521946.5625,-521953.0625,-522043.875,-522110.4375,-522135.875,-522215.34375,-522272.25,-522311.5625,-522375.78125,-522379.59375,-522448.34375,-522534.03125,-522556.53125,-522666.1875,-522715.125,-522747.71875,-522796.09375,-522807.40625,-522848.59375,-522959.46875,-523001.4375,-523148.3125,-523187.84375,-523225.6875,-523254.8125,-523281.28125,-523288.875,-523292.71875,-523477.40625,-523486.125,-523727.53125,-523752.78125,-523790.40625,-523795.46875,-523816.96875,-523963.25,-523978.90625,-524176.28125,-524204.8125,-524243.40625,-524253.5,-524282.78125,-524400.5,-524435.0,-524587.6875,-524622.375,-524654.625,-524679.5625,-524697.5,-524703.625,-524847.125,-524919.4375,-525106.625,-525133.0,-525170.5625,-525179.9375,-525207.1875,-525317.0625,-525353.5625,-525501.0,-525531.5,-525566.0625,-525584.0625,-525610.4375,-525702.875,-525770.1875,-525889.75,-525923.0625,-525955.5,-525980.125,-526003.375,-526012.8125,-526015.1875,-526163.4375,-526196.875,-526396.0,-526414.6875,-526453.875,-526513.1875,-526563.6875,-526638.125,-526673.0,-526703.3125,-526737.6875,-526756.9375,-526786.375,-526786.75,-526803.875,-526931.0,-526980.6875,-527029.25,-527042.0625,-527098.0,-527143.625,-527169.25,-527224.5,-527261.3125,-527292.4375,-527333.9375,-527345.125,-527388.0625,-527445.0625,-527474.8125,-527547.5625,-527581.1875,-527607.625,-527640.5625,-527655.0625,-527682.75,-527754.4375,-527807.75,-527902.0,-527931.375,-527960.5,-527982.5,-528006.1875,-528013.9375,-528024.5,-528137.6875,-528163.125,-528311.0625,-528333.25,-528360.75,-528370.125,-528388.1875,-528479.5625,-528515.8125,-528637.875,-528661.5625,-528690.0,-528702.5625,-528725.25,-528799.625,-528844.3125,-528940.25,-528967.0,-528992.25,-529012.9375,-529030.25,-529038.6875,-529038.8125,-529160.4375,-529190.1875,-529353.1875,-529367.875,-529399.625,-529448.0,-529488.1875,-529548.875,-529577.0625,-529601.75,-529629.5625,-529645.25,-529668.5,-529669.1875,-529682.375,-529786.75,-529827.75,-529867.375,-529878.1875,-529924.125,-529961.4375,-529981.9375,-530026.25,-530057.0,-530082.75,-530117.3125,-530125.875,-530162.25,-530208.3125,-530231.25,-530289.375,-530317.3125,-530339.375,-530367.125,-530378.125,-530402.5625,-530460.125,-530498.125,-530573.875,-530598.25,-530621.375,-530640.9375,-530658.375,-530668.125,-530673.375,-530768.3125,-530804.3125,-530929.0,-530946.25,-530971.0625,-530976.4375,-530995.5,-531068.4375,-531089.3125,-531186.0,-531206.75,-531228.5,-531241.9375,-531257.375,-531320.625,-531374.125,-531456.125,-531477.9375,-531500.9375,-531515.9375,-531534.0,-531537.375,-531543.1875,-531639.5625,-531647.625,-531776.75,-531791.125,-531814.875,-531816.4375,-531834.375,-531908.6875,-531915.25,-532012.3125,-532031.9375,-532049.9375,-532063.3125,-532072.6875,-532074.0,-532166.3125,-532201.375,-532323.625,-532337.375,-532360.875,-532362.4375,-532381.125,-532449.75,-532457.5,-532548.375,-532567.0625,-532585.25,-532597.625,-532608.875,-532670.375,-532726.3125,-532807.875,-532826.0,-532847.9375,-532858.75,-532876.5625,-532925.9375,-532967.5625,-533032.1875,-533052.125,-533072.5,-533087.4375,-533104.0625,-533109.8125,-533117.75,-533193.6875,-533213.25,-533313.8125,-533328.75,-533348.6875,-533355.125,-533368.75,-533429.75,-533453.625,-533534.6875,-533551.75,-533570.75,-533581.25,-533595.4375,-533646.9375,-533687.625,-533755.0625,-533773.3125,-533792.3125,-533805.25,-533819.9375,-533823.4375,-533828.0625,-533908.125,-533918.25,-534024.75,-534037.25,-534057.125,-534058.8125,-534074.1875,-534135.4375,-534142.375,-534222.6875,-534239.1875,-534254.75,-534266.0,-534274.25,-534274.75,-534351.625,-534385.6875,-534487.5625,-534498.9375,-534519.5,-534520.75,-534537.1875,-534593.3125,-534599.1875,-534673.0,-534689.125,-534704.1875,-534715.5,-534723.6875,-534725.375,-534796.5,-534834.0,-534929.5,-534940.4375,-534961.0625,-534961.75,-534979.625,-535030.375,-535035.875,-535101.8125,-535118.625,-535131.6875,-535145.0625,-535151.125,-535156.8125,-535220.625,-535242.375,-535326.8125,-535339.125,-535356.5,-535360.75,-535374.0,-535423.75,-535441.125,-535506.875,-535521.875,-535537.25,-535546.875,-535557.75,-535557.8125,-535558.625,-535639.4375,-535667.375,-535696.8125,-535697.8125,-535733.5,-535757.0,-535765.5625,-535793.25,-535815.375,-535830.0,-535856.0625,-535874.8125,-535892.375,-535913.875,-535920.375,-535943.5625,-535970.125,-535985.4375,-536018.0,-536035.6875,-536049.875,-536068.5,-536075.1875,-536093.3125,-536125.25,-536145.25,-536186.375,-536202.5625,-536216.1875,-536231.3125,-536240.0625,-536251.4375,-536290.75,-536324.5,-536376.0625,-536390.25,-536405.5625,-536415.9375,-536427.9375,-536431.1875,-536435.875,-536496.1875,-536505.5,-536586.3125,-536596.4375,-536611.6875,-536614.3125,-536625.4375,-536672.8125,-536681.875,-536743.8125,-536757.0,-536770.0625,-536778.75,-536786.375,-536828.625,-536868.375,-536924.625,-536937.125,-536952.6875,-536959.6875,-536973.0625,-537005.625,-537030.4375,-537072.6875,-537086.8125,-537100.3125,-537112.125,-537121.8125,-537128.5,-537130.625,-537184.5625,-537214.1875,-537286.25,-537295.8125,-537311.9375,-537313.625,-537327.25,-537366.6875,-537374.3125,-537425.4375,-537438.5625,-537449.8125,-537460.125,-537466.0625,-537470.25,-537519.8125,-537544.0625,-537609.5,-537619.8125,-537634.3125,-537637.875,-537649.375,-537687.25,-537700.1875,-537749.875,-537762.0625,-537774.25,-537783.25,-537791.0625,-537793.0625,-537840.9375,-537882.75,-537946.3125,-537955.625,-537970.9375,-537973.375,-537987.0625,-538020.8125,-538030.0625,-538073.9375,-538086.75,-538097.1875,-538107.8125,-538113.5625,-538119.4375,-538161.625,-538184.625,-538240.375,-538251.0625,-538264.375,-538269.125,-538280.0625,-538313.25,-538331.75,-538375.5,-538387.4375,-538399.375,-538407.5625,-538416.3125,-538418.6875,-538420.8125,-538474.8125,-538480.5,-538552.4375,-538559.5,-538572.6875,-538573.3125,-538582.5625,-538624.1875,-538626.625,-538681.5625,-538691.6875,-538702.0625,-538708.75,-538714.375,-538751.5625,-538780.6875,-538829.5,-538839.8125,-538852.5625,-538857.875,-538868.4375,-538897.4375,-538916.8125,-538955.0,-538966.375,-538977.625,-538986.875,-538995.3125,-538998.8125,-539000.875,-539048.1875,-539062.6875,-539125.8125,-539133.3125,-539146.0,-539147.3125,-539157.5625,-539193.125,-539198.625,-539245.8125,-539256.0,-539266.125,-539273.125,-539278.6875,-539279.75,-539324.8125,-539351.875,-539412.125,-539419.5625,-539432.625,-539433.4375,-539444.875,-539477.1875,-539481.5625,-539524.0,-539534.875,-539543.75,-539552.0625,-539556.1875,-539560.125,-539600.6875,-539618.1875,-539672.75,-539680.75,-539692.8125,-539695.3125,-539704.75,-539736.0625,-539746.125,-539787.375,-539797.25,-539806.875,-539814.25,-539820.4375,-539822.1875,-539861.9375,-539893.1875,-539945.75,-539953.125,-539965.4375,-539967.375,-539978.5625,-540007.0,-540014.25,-540051.125,-540061.5625,-540070.5625,-540078.5625,-540083.75,-540087.625,-540123.5625,-540144.1875,-540191.75,-540199.9375,-540211.0625,-540214.5625,-540223.6875,-540251.375,-540263.625,-540299.4375,-540309.4375,-540319.375,-540326.375,-540332.5625,-540335.6875,-540370.0625,-540403.5625,-540449.0,-540457.3125,-540468.9375,-540471.8125,-540482.1875,-540507.4375,-540516.9375,-540549.5,-540559.5625,-540568.3125,-540576.5625,-540581.75,-540586.4375,-540617.75,-540641.9375,-540683.25,-540691.5625,-540702.0625,-540706.3125,-540715.3125,-540739.4375,-540753.875,-540785.5,-540795.0,-540803.875,-540811.5625,-540817.6875,-540821.5625,-540822.4375,-540862.8125,-540875.375,-540929.625,-540935.375,-540946.125,-540946.625,-540955.75,-540985.1875,-540987.75,-541026.5625,-541035.625,-541042.875,-541049.5625,-541053.375,-541054.5,-541092.375,-541108.75,-541159.125,-541165.25,-541175.875,-541176.625,-541185.4375,-541213.0,-541217.0,-541253.5,-541262.125,-541269.5625,-541276.4375,-541280.4375,-541281.75,-541317.125,-541335.5,-541382.4375,-541388.4375,-541399.3125,-541400.25,-541408.875,-541435.0,-541440.5625,-541474.25,-541483.25,-541490.8125,-541497.25,-541501.625,-541503.8125,-541536.6875,-541556.0,-541599.8125,-541606.375,-541616.375,-541618.0,-541626.6875,-541651.125,-541658.25,-541690.0,-541698.625,-541706.0625,-541712.9375,-541717.375,-541719.875,-541750.8125,-541772.5,-541813.875,-541820.0,-541829.5625,-541831.9375,-541840.5625,-541863.25,-541871.5,-541901.625,-541909.875,-541917.5,-541924.0625,-541928.5625,-541931.375,-541960.1875,-541982.75,-542020.8125,-542027.6875,-542037.3125,-542039.625,-542048.0,-542069.4375,-542079.125,-542107.375,-542115.625,-542122.9375,-542129.625,-542134.375,-542137.75,-542164.625,-542188.75,-542224.75,-542231.8125,-542240.875,-542243.875,-542252.25,-542272.0625,-542283.0,-542309.375,-542317.5,-542324.9375,-542331.625,-542336.4375,-542340.3125,-542365.625,-542390.25,-542424.3125,-542430.9375,-542440.0,-542443.375,-542451.4375,-542470.3125,-542482.0625,-542506.625,-542514.8125,-542522.3125,-542528.8125,-542533.9375,-542537.8125,-542538.25,-542570.5625,-542587.3125,-542630.9375,-542635.875,-542645.375,-542645.75,-542653.8125,-542677.0,-542679.6875,-542710.375,-542717.8125,-542724.5,-542730.125,-542733.25,-542735.375,-542765.0625,-542777.4375,-542817.125,-542822.4375,-542830.875,-542832.4375,-542839.5625,-542861.8125,-542867.9375,-542897.875,-542904.875,-542911.75,-542917.0625,-542921.1875,-542922.5,-542951.375,-542972.5,-543010.375,-543015.75,-543024.8125,-543025.875,-543033.9375,-543054.1875,-543059.625,-543086.25,-543093.8125,-543100.25,-543106.1875,-543109.5625,-543112.6875,-543138.5625,-543153.25,-543187.4375,-543193.5,-543201.5,-543204.0625,-543210.9375,-543230.8125,-543240.0,-543266.25,-543273.5625,-543280.125,-543285.375,-543289.9375,-543291.6875,-543291.875,-543325.75,-543330.625,-543375.4375,-543379.1875,-543387.9375,-543401.5625,-543413.5625,-543431.3125,-543439.0625,-543446.0,-543453.0625,-543458.3125,-543463.75,-543465.0,-543466.1875,-543497.25,-543501.625,-543542.4375,-543547.25,-543554.8125,-543555.5625,-543561.0,-543585.125,-543587.375,-543618.8125,-543625.1875,-543631.3125,-543635.375,-543638.8125,-543660.375,-543679.8125,-543708.3125,-543714.8125,-543722.375,-543725.875,-543732.3125,-543749.0625,-543760.125,-543782.1875,-543789.0625,-543795.8125,-543801.125,-543806.0625,-543809.3125,-543810.25,-543838.125,-543851.5625,-543888.3125,-543893.25,-543901.0625,-543902.0,-543908.8125,-543929.4375,-543932.375,-543959.3125,-543965.75,-543971.75,-543976.5,-543979.5625,-543981.25,-544006.875,-544019.8125,-544054.125,-544059.125,-544066.875,-544068.5625,-544074.375,-544094.0625,-544099.5,-544125.5,-544131.6875,-544137.9375,-544142.5,-544146.25,-544147.875,-544172.375,-544191.0625,-544223.75,-544229.0,-544236.875,-544238.3125,-544244.8125,-544262.8125,-544267.875,-544291.4375,-544297.75,-544303.375,-544309.0,-544312.1875,-544314.5625,-544337.5625,-544351.3125,-544381.0625,-544386.5625,-544394.0,-544396.125,-544402.125,-544419.3125,-544428.1875,-544450.8125,-544457.1875,-544463.4375,-544468.125,-544472.3125,-544474.1875,-544474.4375,-544503.6875,-544509.0,-544547.75,-544551.75,-544558.75,-544570.875,-544581.875,-544597.8125,-544604.5625,-544611.125,-544617.125,-544621.25,-544626.1875,-544627.9375,-544629.4375,-544656.0,-544660.6875,-544696.875,-544700.8125,-544708.3125,-544708.625,-544713.8125,-544734.625,-544737.125,-544764.1875,-544770.3125,-544775.375,-544779.4375,-544782.75,-544801.5625,-544820.1875,-544845.125,-544850.6875,-544857.75,-544860.8125,-544866.9375,-544881.5,-544891.0625,-544910.25,-544916.625,-544922.3125,-544927.875,-544931.9375,-544934.9375,-544935.75,-544960.4375,-544973.875,-545006.9375,-545010.875,-545018.0,-545018.75,-545025.0,-545042.5,-545045.6875,-545069.0625,-545074.9375,-545079.875,-545084.6875,-545087.625,-545089.25,-545111.75,-545122.4375,-545152.875,-545157.4375,-545163.9375,-545165.3125,-545170.875,-545188.0,-545194.0,-545216.9375,-545222.375,-545227.875,-545232.0,-545235.9375,-545236.625,-545258.875,-545277.1875,-545306.5,-545311.125,-545318.375,-545319.25,-545325.8125,-545341.375,-545346.0,-545366.5,-545372.3125,-545377.6875,-545382.25,-545385.1875,-545387.75,-545407.625,-545418.875,-545445.1875,-545450.125,-545456.4375,-545458.875,-545464.1875,-545479.75,-545488.0,-545508.625,-545514.6875,-545520.25,-545524.5,-545528.5,-545529.875,-545530.4375,-545556.1875,-545559.5625,-545594.0625,-545597.75,-545604.25,-545614.9375,-545625.625,-545639.6875,-545646.0,-545651.625,-545657.125,-545661.0,-545665.5625,-545667.125,-545667.875,-545692.5625,-545697.9375,-545730.625,-545734.375,-545740.6875,-545741.25,-545746.125,-545764.4375,-545766.625,-545790.8125,-545796.0,-545800.625,-545804.375,-545806.75,-545807.1875,-545830.875,-545841.375,-545873.1875,-545876.625,-545883.25,-545892.9375,-545903.0,-545915.4375,-545921.3125,-545926.375,-545932.375,-545936.4375,-545941.1875,-545942.5625,-545945.125,-545966.3125,-545971.25,-545999.75,-546003.8125,-546009.4375,-546010.875,-546015.0625,-546032.25,-546037.875,-546060.1875,-546065.5,-546070.3125,-546074.0,-546076.9375,-546077.1875,-546099.0625]}],                        {\"template\":{\"data\":{\"bar\":[{\"error_x\":{\"color\":\"#2a3f5f\"},\"error_y\":{\"color\":\"#2a3f5f\"},\"marker\":{\"line\":{\"color\":\"#E5ECF6\",\"width\":0.5},\"pattern\":{\"fillmode\":\"overlay\",\"size\":10,\"solidity\":0.2}},\"type\":\"bar\"}],\"barpolar\":[{\"marker\":{\"line\":{\"color\":\"#E5ECF6\",\"width\":0.5},\"pattern\":{\"fillmode\":\"overlay\",\"size\":10,\"solidity\":0.2}},\"type\":\"barpolar\"}],\"carpet\":[{\"aaxis\":{\"endlinecolor\":\"#2a3f5f\",\"gridcolor\":\"white\",\"linecolor\":\"white\",\"minorgridcolor\":\"white\",\"startlinecolor\":\"#2a3f5f\"},\"baxis\":{\"endlinecolor\":\"#2a3f5f\",\"gridcolor\":\"white\",\"linecolor\":\"white\",\"minorgridcolor\":\"white\",\"startlinecolor\":\"#2a3f5f\"},\"type\":\"carpet\"}],\"choropleth\":[{\"colorbar\":{\"outlinewidth\":0,\"ticks\":\"\"},\"type\":\"choropleth\"}],\"contour\":[{\"colorbar\":{\"outlinewidth\":0,\"ticks\":\"\"},\"colorscale\":[[0.0,\"#0d0887\"],[0.1111111111111111,\"#46039f\"],[0.2222222222222222,\"#7201a8\"],[0.3333333333333333,\"#9c179e\"],[0.4444444444444444,\"#bd3786\"],[0.5555555555555556,\"#d8576b\"],[0.6666666666666666,\"#ed7953\"],[0.7777777777777778,\"#fb9f3a\"],[0.8888888888888888,\"#fdca26\"],[1.0,\"#f0f921\"]],\"type\":\"contour\"}],\"contourcarpet\":[{\"colorbar\":{\"outlinewidth\":0,\"ticks\":\"\"},\"type\":\"contourcarpet\"}],\"heatmap\":[{\"colorbar\":{\"outlinewidth\":0,\"ticks\":\"\"},\"colorscale\":[[0.0,\"#0d0887\"],[0.1111111111111111,\"#46039f\"],[0.2222222222222222,\"#7201a8\"],[0.3333333333333333,\"#9c179e\"],[0.4444444444444444,\"#bd3786\"],[0.5555555555555556,\"#d8576b\"],[0.6666666666666666,\"#ed7953\"],[0.7777777777777778,\"#fb9f3a\"],[0.8888888888888888,\"#fdca26\"],[1.0,\"#f0f921\"]],\"type\":\"heatmap\"}],\"heatmapgl\":[{\"colorbar\":{\"outlinewidth\":0,\"ticks\":\"\"},\"colorscale\":[[0.0,\"#0d0887\"],[0.1111111111111111,\"#46039f\"],[0.2222222222222222,\"#7201a8\"],[0.3333333333333333,\"#9c179e\"],[0.4444444444444444,\"#bd3786\"],[0.5555555555555556,\"#d8576b\"],[0.6666666666666666,\"#ed7953\"],[0.7777777777777778,\"#fb9f3a\"],[0.8888888888888888,\"#fdca26\"],[1.0,\"#f0f921\"]],\"type\":\"heatmapgl\"}],\"histogram\":[{\"marker\":{\"pattern\":{\"fillmode\":\"overlay\",\"size\":10,\"solidity\":0.2}},\"type\":\"histogram\"}],\"histogram2d\":[{\"colorbar\":{\"outlinewidth\":0,\"ticks\":\"\"},\"colorscale\":[[0.0,\"#0d0887\"],[0.1111111111111111,\"#46039f\"],[0.2222222222222222,\"#7201a8\"],[0.3333333333333333,\"#9c179e\"],[0.4444444444444444,\"#bd3786\"],[0.5555555555555556,\"#d8576b\"],[0.6666666666666666,\"#ed7953\"],[0.7777777777777778,\"#fb9f3a\"],[0.8888888888888888,\"#fdca26\"],[1.0,\"#f0f921\"]],\"type\":\"histogram2d\"}],\"histogram2dcontour\":[{\"colorbar\":{\"outlinewidth\":0,\"ticks\":\"\"},\"colorscale\":[[0.0,\"#0d0887\"],[0.1111111111111111,\"#46039f\"],[0.2222222222222222,\"#7201a8\"],[0.3333333333333333,\"#9c179e\"],[0.4444444444444444,\"#bd3786\"],[0.5555555555555556,\"#d8576b\"],[0.6666666666666666,\"#ed7953\"],[0.7777777777777778,\"#fb9f3a\"],[0.8888888888888888,\"#fdca26\"],[1.0,\"#f0f921\"]],\"type\":\"histogram2dcontour\"}],\"mesh3d\":[{\"colorbar\":{\"outlinewidth\":0,\"ticks\":\"\"},\"type\":\"mesh3d\"}],\"parcoords\":[{\"line\":{\"colorbar\":{\"outlinewidth\":0,\"ticks\":\"\"}},\"type\":\"parcoords\"}],\"pie\":[{\"automargin\":true,\"type\":\"pie\"}],\"scatter\":[{\"marker\":{\"colorbar\":{\"outlinewidth\":0,\"ticks\":\"\"}},\"type\":\"scatter\"}],\"scatter3d\":[{\"line\":{\"colorbar\":{\"outlinewidth\":0,\"ticks\":\"\"}},\"marker\":{\"colorbar\":{\"outlinewidth\":0,\"ticks\":\"\"}},\"type\":\"scatter3d\"}],\"scattercarpet\":[{\"marker\":{\"colorbar\":{\"outlinewidth\":0,\"ticks\":\"\"}},\"type\":\"scattercarpet\"}],\"scattergeo\":[{\"marker\":{\"colorbar\":{\"outlinewidth\":0,\"ticks\":\"\"}},\"type\":\"scattergeo\"}],\"scattergl\":[{\"marker\":{\"colorbar\":{\"outlinewidth\":0,\"ticks\":\"\"}},\"type\":\"scattergl\"}],\"scattermapbox\":[{\"marker\":{\"colorbar\":{\"outlinewidth\":0,\"ticks\":\"\"}},\"type\":\"scattermapbox\"}],\"scatterpolar\":[{\"marker\":{\"colorbar\":{\"outlinewidth\":0,\"ticks\":\"\"}},\"type\":\"scatterpolar\"}],\"scatterpolargl\":[{\"marker\":{\"colorbar\":{\"outlinewidth\":0,\"ticks\":\"\"}},\"type\":\"scatterpolargl\"}],\"scatterternary\":[{\"marker\":{\"colorbar\":{\"outlinewidth\":0,\"ticks\":\"\"}},\"type\":\"scatterternary\"}],\"surface\":[{\"colorbar\":{\"outlinewidth\":0,\"ticks\":\"\"},\"colorscale\":[[0.0,\"#0d0887\"],[0.1111111111111111,\"#46039f\"],[0.2222222222222222,\"#7201a8\"],[0.3333333333333333,\"#9c179e\"],[0.4444444444444444,\"#bd3786\"],[0.5555555555555556,\"#d8576b\"],[0.6666666666666666,\"#ed7953\"],[0.7777777777777778,\"#fb9f3a\"],[0.8888888888888888,\"#fdca26\"],[1.0,\"#f0f921\"]],\"type\":\"surface\"}],\"table\":[{\"cells\":{\"fill\":{\"color\":\"#EBF0F8\"},\"line\":{\"color\":\"white\"}},\"header\":{\"fill\":{\"color\":\"#C8D4E3\"},\"line\":{\"color\":\"white\"}},\"type\":\"table\"}]},\"layout\":{\"annotationdefaults\":{\"arrowcolor\":\"#2a3f5f\",\"arrowhead\":0,\"arrowwidth\":1},\"autotypenumbers\":\"strict\",\"coloraxis\":{\"colorbar\":{\"outlinewidth\":0,\"ticks\":\"\"}},\"colorscale\":{\"diverging\":[[0,\"#8e0152\"],[0.1,\"#c51b7d\"],[0.2,\"#de77ae\"],[0.3,\"#f1b6da\"],[0.4,\"#fde0ef\"],[0.5,\"#f7f7f7\"],[0.6,\"#e6f5d0\"],[0.7,\"#b8e186\"],[0.8,\"#7fbc41\"],[0.9,\"#4d9221\"],[1,\"#276419\"]],\"sequential\":[[0.0,\"#0d0887\"],[0.1111111111111111,\"#46039f\"],[0.2222222222222222,\"#7201a8\"],[0.3333333333333333,\"#9c179e\"],[0.4444444444444444,\"#bd3786\"],[0.5555555555555556,\"#d8576b\"],[0.6666666666666666,\"#ed7953\"],[0.7777777777777778,\"#fb9f3a\"],[0.8888888888888888,\"#fdca26\"],[1.0,\"#f0f921\"]],\"sequentialminus\":[[0.0,\"#0d0887\"],[0.1111111111111111,\"#46039f\"],[0.2222222222222222,\"#7201a8\"],[0.3333333333333333,\"#9c179e\"],[0.4444444444444444,\"#bd3786\"],[0.5555555555555556,\"#d8576b\"],[0.6666666666666666,\"#ed7953\"],[0.7777777777777778,\"#fb9f3a\"],[0.8888888888888888,\"#fdca26\"],[1.0,\"#f0f921\"]]},\"colorway\":[\"#636efa\",\"#EF553B\",\"#00cc96\",\"#ab63fa\",\"#FFA15A\",\"#19d3f3\",\"#FF6692\",\"#B6E880\",\"#FF97FF\",\"#FECB52\"],\"font\":{\"color\":\"#2a3f5f\"},\"geo\":{\"bgcolor\":\"white\",\"lakecolor\":\"white\",\"landcolor\":\"#E5ECF6\",\"showlakes\":true,\"showland\":true,\"subunitcolor\":\"white\"},\"hoverlabel\":{\"align\":\"left\"},\"hovermode\":\"closest\",\"mapbox\":{\"style\":\"light\"},\"paper_bgcolor\":\"white\",\"plot_bgcolor\":\"#E5ECF6\",\"polar\":{\"angularaxis\":{\"gridcolor\":\"white\",\"linecolor\":\"white\",\"ticks\":\"\"},\"bgcolor\":\"#E5ECF6\",\"radialaxis\":{\"gridcolor\":\"white\",\"linecolor\":\"white\",\"ticks\":\"\"}},\"scene\":{\"xaxis\":{\"backgroundcolor\":\"#E5ECF6\",\"gridcolor\":\"white\",\"gridwidth\":2,\"linecolor\":\"white\",\"showbackground\":true,\"ticks\":\"\",\"zerolinecolor\":\"white\"},\"yaxis\":{\"backgroundcolor\":\"#E5ECF6\",\"gridcolor\":\"white\",\"gridwidth\":2,\"linecolor\":\"white\",\"showbackground\":true,\"ticks\":\"\",\"zerolinecolor\":\"white\"},\"zaxis\":{\"backgroundcolor\":\"#E5ECF6\",\"gridcolor\":\"white\",\"gridwidth\":2,\"linecolor\":\"white\",\"showbackground\":true,\"ticks\":\"\",\"zerolinecolor\":\"white\"}},\"shapedefaults\":{\"line\":{\"color\":\"#2a3f5f\"}},\"ternary\":{\"aaxis\":{\"gridcolor\":\"white\",\"linecolor\":\"white\",\"ticks\":\"\"},\"baxis\":{\"gridcolor\":\"white\",\"linecolor\":\"white\",\"ticks\":\"\"},\"bgcolor\":\"#E5ECF6\",\"caxis\":{\"gridcolor\":\"white\",\"linecolor\":\"white\",\"ticks\":\"\"}},\"title\":{\"x\":0.05},\"xaxis\":{\"automargin\":true,\"gridcolor\":\"white\",\"linecolor\":\"white\",\"ticks\":\"\",\"title\":{\"standoff\":15},\"zerolinecolor\":\"white\",\"zerolinewidth\":2},\"yaxis\":{\"automargin\":true,\"gridcolor\":\"white\",\"linecolor\":\"white\",\"ticks\":\"\",\"title\":{\"standoff\":15},\"zerolinecolor\":\"white\",\"zerolinewidth\":2}}},\"title\":{\"text\":\"Energy Minimization\"},\"xaxis\":{\"title\":{\"text\":\"Energy Minimization Step\"}},\"yaxis\":{\"title\":{\"text\":\"Potential Energy KJ/mol-1\"}}},                        {\"responsive\": true}                    ).then(function(){\n",
       "                            \n",
       "var gd = document.getElementById('42fbfa9f-a36c-4b60-9746-90a7d2b46dcb');\n",
       "var x = new MutationObserver(function (mutations, observer) {{\n",
       "        var display = window.getComputedStyle(gd).display;\n",
       "        if (!display || display === 'none') {{\n",
       "            console.log([gd, 'removed!']);\n",
       "            Plotly.purge(gd);\n",
       "            observer.disconnect();\n",
       "        }}\n",
       "}});\n",
       "\n",
       "// Listen for the removal of the full notebook cells\n",
       "var notebookContainer = gd.closest('#notebook-container');\n",
       "if (notebookContainer) {{\n",
       "    x.observe(notebookContainer, {childList: true});\n",
       "}}\n",
       "\n",
       "// Listen for the clearing of the current output cell\n",
       "var outputEl = gd.closest('.output');\n",
       "if (outputEl) {{\n",
       "    x.observe(outputEl, {childList: true});\n",
       "}}\n",
       "\n",
       "                        })                };                });            </script>        </div>"
      ]
     },
     "metadata": {},
     "output_type": "display_data"
    }
   ],
   "source": [
    "import plotly\n",
    "import plotly.graph_objs as go\n",
    "\n",
    "#Read data from file and filter energy values higher than 1000 Kj/mol^-1\n",
    "with open(output_min_ene_xvg,'r') as energy_file:\n",
    "    x,y = map(\n",
    "        list,\n",
    "        zip(*[\n",
    "            (float(line.split()[0]),float(line.split()[1]))\n",
    "            for line in energy_file \n",
    "            if not line.startswith((\"#\",\"@\")) \n",
    "            if float(line.split()[1]) < 1000 \n",
    "        ])\n",
    "    )\n",
    "\n",
    "plotly.offline.init_notebook_mode(connected=True)\n",
    "\n",
    "fig = ({\n",
    "    \"data\": [go.Scatter(x=x, y=y)],\n",
    "    \"layout\": go.Layout(title=\"Energy Minimization\",\n",
    "                        xaxis=dict(title = \"Energy Minimization Step\"),\n",
    "                        yaxis=dict(title = \"Potential Energy KJ/mol-1\")\n",
    "                       )\n",
    "})\n",
    "\n",
    "plotly.offline.iplot(fig)"
   ]
  },
  {
   "cell_type": "markdown",
   "metadata": {},
   "source": [
    "<a id=\"nvt\"></a>\n",
    "***\n",
    "## Equilibrate the system (NVT)\n",
    "Equilibrate the **protein-ligand complex** system in NVT ensemble (constant Number of particles, Volume and Temperature). To avoid temperature coupling problems, a new *\"system\"* group will be created including the **protein** + the **ligand** to be assigned to a single thermostatting group.\n",
    "\n",
    "- [Step 1](#eqNVTStep1): Creating an index file with a new group including the **protein-ligand complex**.\n",
    "- [Step 2](#eqNVTStep3): Creating portable binary run file for system equilibration\n",
    "- [Step 3](#eqNVTStep3): Equilibrate the **protein-ligand complex** with NVT ensemble.\n",
    "- [Step 4](#eqNVTStep4): Checking **NVT Equilibration** results. Plotting **system temperature** by time during the **NVT equilibration** process. \n",
    "***\n",
    "**Building Blocks** used:\n",
    "- [MakeNdx](https://biobb-md.readthedocs.io/en/latest/gromacs.html#module-gromacs.make_ndx) from **biobb_md.gromacs.make_ndx** \n",
    "- [Grompp](https://biobb-md.readthedocs.io/en/latest/gromacs.html#module-gromacs.grompp) from **biobb_md.gromacs.grompp** \n",
    "- [Mdrun](https://biobb-md.readthedocs.io/en/latest/gromacs.html#module-gromacs.mdrun) from **biobb_md.gromacs.mdrun** \n",
    "- [GMXEnergy](https://biobb-analysis.readthedocs.io/en/latest/gromacs.html#module-gromacs.gmx_energy) from **biobb_analysis.gromacs.gmx_energy** \n",
    "***"
   ]
  },
  {
   "cell_type": "markdown",
   "metadata": {},
   "source": [
    "<a id=\"eqNVTStep1\"></a>\n",
    "### Step 1: Creating an index file with a new group including the **protein-ligand complex**"
   ]
  },
  {
   "cell_type": "code",
   "execution_count": 26,
   "metadata": {
    "scrolled": true
   },
   "outputs": [
    {
     "name": "stdout",
     "output_type": "stream",
     "text": [
      "2021-07-02 08:40:55,154 [MainThread  ] [INFO ]  GROMACS MakeNdx 20190 version detected\n",
      "2021-07-02 08:40:55,156 [MainThread  ] [INFO ]  Not using any container\n",
      "2021-07-02 08:40:55,319 [MainThread  ] [INFO ]  echo -e '\"Protein\"|\"Other\"\\nq' | gmx -nobackup -nocopyright make_ndx -f 3HTB_JZ4_min.gro -o 3HTB_JZ4_index.ndx\n",
      "\n",
      "2021-07-02 08:40:55,320 [MainThread  ] [INFO ]  Exit code 0\n",
      "\n",
      "2021-07-02 08:40:55,321 [MainThread  ] [INFO ]  Going to read 0 old index file(s)\n",
      "Analysing residue names:\n",
      "There are:   163    Protein residues\n",
      "There are:     1      Other residues\n",
      "There are:  9505      Water residues\n",
      "There are:    26        Ion residues\n",
      "Analysing Protein...\n",
      "Analysing residues not classified as Protein/DNA/RNA/Water and splitting into groups...\n",
      "Analysing residues not classified as Protein/DNA/RNA/Water and splitting into groups...\n",
      "\n",
      "  0 System              : 31177 atoms\n",
      "  1 Protein             :  2614 atoms\n",
      "  2 Protein-H           :  1301 atoms\n",
      "  3 C-alpha             :   163 atoms\n",
      "  4 Backbone            :   489 atoms\n",
      "  5 MainChain           :   653 atoms\n",
      "  6 MainChain+Cb        :   805 atoms\n",
      "  7 MainChain+H         :   815 atoms\n",
      "  8 SideChain           :  1799 atoms\n",
      "  9 SideChain-H         :   648 atoms\n",
      " 10 Prot-Masses         :  2614 atoms\n",
      " 11 non-Protein         : 28563 atoms\n",
      " 12 Other               :    22 atoms\n",
      " 13 JZ4                 :    22 atoms\n",
      " 14 NA                  :    10 atoms\n",
      " 15 CL                  :    16 atoms\n",
      " 16 Water               : 28515 atoms\n",
      " 17 SOL                 : 28515 atoms\n",
      " 18 non-Water           :  2662 atoms\n",
      " 19 Ion                 :    26 atoms\n",
      " 20 JZ4                 :    22 atoms\n",
      " 21 NA                  :    10 atoms\n",
      " 22 CL                  :    16 atoms\n",
      " 23 Water_and_ions      : 28541 atoms\n",
      "\n",
      " nr : group      '!': not  'name' nr name   'splitch' nr    Enter: list groups\n",
      " 'a': atom       '&': and  'del' nr         'splitres' nr   'l': list residues\n",
      " 't': atom type  '|': or   'keep' nr        'splitat' nr    'h': help\n",
      " 'r': residue              'res' nr         'chain' char\n",
      " \"name\": group             'case': case sensitive           'q': save and quit\n",
      " 'ri': residue index\n",
      "\n",
      "> \n",
      "Copied index group 1 'Protein'\n",
      "Copied index group 12 'Other'\n",
      "Merged two groups with OR: 2614 22 -> 2636\n",
      "\n",
      " 24 Protein_Other       :  2636 atoms\n",
      "\n",
      "> \n",
      "\n",
      "2021-07-02 08:40:55,321 [MainThread  ] [INFO ]                        :-) GROMACS - gmx make_ndx, 2019 (-:\n",
      "\n",
      "Executable:   /usr/local/gromacs/bin/gmx\n",
      "Data prefix:  /usr/local/gromacs\n",
      "Working dir:  /home/gbayarri_local/projects/BioBB/tutorials/biobb_wf_protein-complex_md_setup/biobb_wf_protein-complex_md_setup/notebooks\n",
      "Command line:\n",
      "  gmx -nobackup -nocopyright make_ndx -f 3HTB_JZ4_min.gro -o 3HTB_JZ4_index.ndx\n",
      "\n",
      "\n",
      "Reading structure file\n",
      "\n",
      "GROMACS reminds you: \"Uh-oh .... Right Again\" (Laurie Anderson)\n",
      "\n",
      "\n",
      "2021-07-02 08:40:55,322 [MainThread  ] [INFO ]  Removed: []\n"
     ]
    },
    {
     "data": {
      "text/plain": [
       "0"
      ]
     },
     "execution_count": 26,
     "metadata": {},
     "output_type": "execute_result"
    }
   ],
   "source": [
    "# MakeNdx: Creating index file with a new group (protein-ligand complex)\n",
    "from biobb_md.gromacs.make_ndx import make_ndx\n",
    "\n",
    "# Create prop dict and inputs/outputs\n",
    "output_complex_ndx = pdbCode+'_'+ligandCode+'_index.ndx'\n",
    "prop = {\n",
    "    'selection': \"\\\"Protein\\\"|\\\"Other\\\"\" \n",
    "}\n",
    "\n",
    "# Create and launch bb\n",
    "make_ndx(input_structure_path=output_min_gro,\n",
    "        output_ndx_path=output_complex_ndx,\n",
    "        properties=prop)"
   ]
  },
  {
   "cell_type": "markdown",
   "metadata": {},
   "source": [
    "<a id=\"eqNVTStep2\"></a>\n",
    "### Step 2: Creating portable binary run file for system equilibration (NVT)\n",
    "Note that for the purposes of temperature coupling, the **protein-ligand complex** (*Protein_Other*) is considered as a single entity."
   ]
  },
  {
   "cell_type": "code",
   "execution_count": 27,
   "metadata": {
    "scrolled": true
   },
   "outputs": [
    {
     "name": "stdout",
     "output_type": "stream",
     "text": [
      "2021-07-02 08:40:59,408 [MainThread  ] [INFO ]  GROMACS Grompp 20190 version detected\n",
      "2021-07-02 08:40:59,415 [MainThread  ] [INFO ]  Extracting: /home/gbayarri_local/projects/BioBB/tutorials/biobb_wf_protein-complex_md_setup/biobb_wf_protein-complex_md_setup/notebooks/3HTB_JZ4_genion_top.zip\n",
      "2021-07-02 08:40:59,416 [MainThread  ] [INFO ]  to:\n",
      "2021-07-02 08:40:59,417 [MainThread  ] [INFO ]  ['064d5f4a-c5ce-475b-94a1-14d9c7f820ef/JZ4_posres.itp', '064d5f4a-c5ce-475b-94a1-14d9c7f820ef/JZ4params.itp', '064d5f4a-c5ce-475b-94a1-14d9c7f820ef/ligand.top', '064d5f4a-c5ce-475b-94a1-14d9c7f820ef/posre.itp']\n",
      "2021-07-02 08:40:59,417 [MainThread  ] [INFO ]  Unzipping: \n",
      "2021-07-02 08:40:59,418 [MainThread  ] [INFO ]  3HTB_JZ4_genion_top.zip\n",
      "2021-07-02 08:40:59,419 [MainThread  ] [INFO ]  To: \n",
      "2021-07-02 08:40:59,420 [MainThread  ] [INFO ]  064d5f4a-c5ce-475b-94a1-14d9c7f820ef/JZ4_posres.itp\n",
      "2021-07-02 08:40:59,421 [MainThread  ] [INFO ]  064d5f4a-c5ce-475b-94a1-14d9c7f820ef/JZ4params.itp\n",
      "2021-07-02 08:40:59,422 [MainThread  ] [INFO ]  064d5f4a-c5ce-475b-94a1-14d9c7f820ef/ligand.top\n",
      "2021-07-02 08:40:59,423 [MainThread  ] [INFO ]  064d5f4a-c5ce-475b-94a1-14d9c7f820ef/posre.itp\n",
      "2021-07-02 08:40:59,425 [MainThread  ] [INFO ]  Not using any container\n",
      "2021-07-02 08:40:59,874 [MainThread  ] [INFO ]  gmx -nobackup -nocopyright grompp -f b08b00d1-188a-4745-850e-980372283e54/grompp.mdp -c 3HTB_JZ4_min.gro -r 3HTB_JZ4_min.gro -p 064d5f4a-c5ce-475b-94a1-14d9c7f820ef/ligand.top -o 3HTB_JZ4gppnvt.tpr -po mdout.mdp -maxwarn 0 -n 3HTB_JZ4_index.ndx\n",
      "\n",
      "2021-07-02 08:40:59,875 [MainThread  ] [INFO ]  Exit code 0\n",
      "\n",
      "2021-07-02 08:40:59,876 [MainThread  ] [INFO ]  turning H bonds into constraints...\n",
      "turning H bonds into constraints...\n",
      "turning H bonds into constraints...\n",
      "turning H bonds into constraints...\n",
      "turning H bonds into constraints...\n",
      "Determining Verlet buffer for a tolerance of 0.005 kJ/mol/ps at 300 K\n",
      "Calculated rlist for 1x1 atom pair-list as 1.034 nm, buffer size 0.034 nm\n",
      "Set rlist, assuming 4x4 atom pair-list, to 1.000 nm, buffer size 0.000 nm\n",
      "Note that mdrun will redetermine rlist based on the actual pair-list setup\n",
      "Calculating fourier grid dimensions for X Y Z\n",
      "Using a fourier grid of 64x64x64, spacing 0.116 0.116 0.116\n",
      "This run will generate roughly 11 Mb of data\n",
      "\n",
      "2021-07-02 08:40:59,876 [MainThread  ] [INFO ]                         :-) GROMACS - gmx grompp, 2019 (-:\n",
      "\n",
      "Executable:   /usr/local/gromacs/bin/gmx\n",
      "Data prefix:  /usr/local/gromacs\n",
      "Working dir:  /home/gbayarri_local/projects/BioBB/tutorials/biobb_wf_protein-complex_md_setup/biobb_wf_protein-complex_md_setup/notebooks\n",
      "Command line:\n",
      "  gmx -nobackup -nocopyright grompp -f b08b00d1-188a-4745-850e-980372283e54/grompp.mdp -c 3HTB_JZ4_min.gro -r 3HTB_JZ4_min.gro -p 064d5f4a-c5ce-475b-94a1-14d9c7f820ef/ligand.top -o 3HTB_JZ4gppnvt.tpr -po mdout.mdp -maxwarn 0 -n 3HTB_JZ4_index.ndx\n",
      "\n",
      "Setting the LD random seed to -99240323\n",
      "Generated 2556 of the 2556 non-bonded parameter combinations\n",
      "Generating 1-4 interactions: fudge = 0.5\n",
      "Generated 2556 of the 2556 1-4 parameter combinations\n",
      "Excluding 3 bonded neighbours molecule type 'Protein_chain_A'\n",
      "Excluding 3 bonded neighbours molecule type 'JZ4params'\n",
      "Excluding 2 bonded neighbours molecule type 'SOL'\n",
      "Excluding 1 bonded neighbours molecule type 'NA'\n",
      "Excluding 1 bonded neighbours molecule type 'CL'\n",
      "Setting gen_seed to 929752571\n",
      "Velocities were taken from a Maxwell distribution at 300 K\n",
      "Removing all charge groups because cutoff-scheme=Verlet\n",
      "Number of degrees of freedom in T-Coupling group Protein_Other is 6582.69\n",
      "Number of degrees of freedom in T-Coupling group Water_and_ions is 57105.31\n",
      "Estimate for the relative computational load of the PME mesh part: 0.28\n",
      "\n",
      "GROMACS reminds you: \"I was elected to lead, not to read\" (President A. Schwarzenegger)\n",
      "\n",
      "\n",
      "2021-07-02 08:40:59,878 [MainThread  ] [INFO ]  Removed: ['mdout.mdp', '064d5f4a-c5ce-475b-94a1-14d9c7f820ef', 'b08b00d1-188a-4745-850e-980372283e54']\n"
     ]
    },
    {
     "data": {
      "text/plain": [
       "0"
      ]
     },
     "execution_count": 27,
     "metadata": {},
     "output_type": "execute_result"
    }
   ],
   "source": [
    "# Grompp: Creating portable binary run file for NVT System Equilibration\n",
    "from biobb_md.gromacs.grompp import grompp\n",
    "\n",
    "# Create prop dict and inputs/outputs\n",
    "output_gppnvt_tpr = pdbCode+'_'+ligandCode+'gppnvt.tpr'\n",
    "prop = {\n",
    "    'mdp':{\n",
    "        'nsteps':'5000',\n",
    "        'tc-grps': 'Protein_Other Water_and_ions',\n",
    "        'Define': '-DPOSRES -D' + posresifdef\n",
    "    },\n",
    "    'simulation_type':'nvt'\n",
    "}\n",
    "\n",
    "# Create and launch bb\n",
    "grompp(input_gro_path=output_min_gro,\n",
    "       input_top_zip_path=output_genion_top_zip,\n",
    "       input_ndx_path=output_complex_ndx,\n",
    "       output_tpr_path=output_gppnvt_tpr,\n",
    "       properties=prop)"
   ]
  },
  {
   "cell_type": "markdown",
   "metadata": {},
   "source": [
    "<a id=\"eqNVTStep3\"></a>\n",
    "### Step 3: Running NVT equilibration"
   ]
  },
  {
   "cell_type": "code",
   "execution_count": 28,
   "metadata": {
    "scrolled": true
   },
   "outputs": [
    {
     "name": "stdout",
     "output_type": "stream",
     "text": [
      "2021-07-02 08:41:06,514 [MainThread  ] [INFO ]  GROMACS Mdrun 20190 version detected\n",
      "2021-07-02 08:41:06,516 [MainThread  ] [INFO ]  Not using any container\n",
      "2021-07-02 08:42:07,351 [MainThread  ] [INFO ]  gmx -nobackup -nocopyright mdrun -s 3HTB_JZ4gppnvt.tpr -o 3HTB_JZ4_nvt.trr -c 3HTB_JZ4_nvt.gro -e 3HTB_JZ4_nvt.edr -g 3HTB_JZ4_nvt.log -cpo 3HTB_JZ4_nvt.cpt\n",
      "\n",
      "2021-07-02 08:42:07,353 [MainThread  ] [INFO ]  Exit code 0\n",
      "\n",
      "2021-07-02 08:42:07,353 [MainThread  ] [INFO ]                         :-) GROMACS - gmx mdrun, 2019 (-:\n",
      "\n",
      "Executable:   /usr/local/gromacs/bin/gmx\n",
      "Data prefix:  /usr/local/gromacs\n",
      "Working dir:  /home/gbayarri_local/projects/BioBB/tutorials/biobb_wf_protein-complex_md_setup/biobb_wf_protein-complex_md_setup/notebooks\n",
      "Command line:\n",
      "  gmx -nobackup -nocopyright mdrun -s 3HTB_JZ4gppnvt.tpr -o 3HTB_JZ4_nvt.trr -c 3HTB_JZ4_nvt.gro -e 3HTB_JZ4_nvt.edr -g 3HTB_JZ4_nvt.log -cpo 3HTB_JZ4_nvt.cpt\n",
      "\n",
      "Reading file 3HTB_JZ4gppnvt.tpr, VERSION 2019 (single precision)\n",
      "Changing nstlist from 10 to 50, rlist from 1 to 1.112\n",
      "\n",
      "Using 1 MPI thread\n",
      "Using 8 OpenMP threads \n",
      "\n",
      "starting mdrun 'Protein in water'\n",
      "5000 steps,     10.0 ps.\n",
      "\n",
      "Writing final coordinates.\n",
      "\n",
      "               Core t (s)   Wall t (s)        (%)\n",
      "       Time:      474.106       59.263      800.0\n",
      "                 (ns/day)    (hour/ns)\n",
      "Performance:       14.582        1.646\n",
      "\n",
      "GROMACS reminds you: \"Give a Man a Fish\" (Arrested Development)\n",
      "\n",
      "\n",
      "2021-07-02 08:42:07,354 [MainThread  ] [INFO ]  Removed: []\n"
     ]
    },
    {
     "data": {
      "text/plain": [
       "0"
      ]
     },
     "execution_count": 28,
     "metadata": {},
     "output_type": "execute_result"
    }
   ],
   "source": [
    "# Mdrun: Running NVT System Equilibration \n",
    "from biobb_md.gromacs.mdrun import mdrun\n",
    "\n",
    "# Create prop dict and inputs/outputs\n",
    "output_nvt_trr = pdbCode+'_'+ligandCode+'_nvt.trr'\n",
    "output_nvt_gro = pdbCode+'_'+ligandCode+'_nvt.gro'\n",
    "output_nvt_edr = pdbCode+'_'+ligandCode+'_nvt.edr'\n",
    "output_nvt_log = pdbCode+'_'+ligandCode+'_nvt.log'\n",
    "output_nvt_cpt = pdbCode+'_'+ligandCode+'_nvt.cpt'\n",
    "\n",
    "# Create and launch bb\n",
    "mdrun(input_tpr_path=output_gppnvt_tpr,\n",
    "      output_trr_path=output_nvt_trr,\n",
    "      output_gro_path=output_nvt_gro,\n",
    "      output_edr_path=output_nvt_edr,\n",
    "      output_log_path=output_nvt_log,\n",
    "      output_cpt_path=output_nvt_cpt)"
   ]
  },
  {
   "cell_type": "markdown",
   "metadata": {},
   "source": [
    "<a id=\"eqNVTStep4\"></a>\n",
    "### Step 4: Checking NVT Equilibration results\n",
    "Checking **NVT Equilibration** results. Plotting **system temperature** by time during the NVT equilibration process. "
   ]
  },
  {
   "cell_type": "code",
   "execution_count": 29,
   "metadata": {
    "scrolled": true
   },
   "outputs": [
    {
     "name": "stdout",
     "output_type": "stream",
     "text": [
      "2021-07-02 08:42:11,714 [MainThread  ] [INFO ]  Not using any container\n",
      "2021-07-02 08:42:11,732 [MainThread  ] [INFO ]  gmx energy -f /home/gbayarri_local/projects/BioBB/tutorials/biobb_wf_protein-complex_md_setup/biobb_wf_protein-complex_md_setup/notebooks/3HTB_JZ4_nvt.edr -o 3HTB_JZ4_nvt_temp.xvg -xvg none < 6ecc1c45-9174-4187-a693-288877ec38a4/instructions.in\n",
      "\n",
      "2021-07-02 08:42:11,733 [MainThread  ] [INFO ]  Exit code 0\n",
      "\n",
      "2021-07-02 08:42:11,734 [MainThread  ] [INFO ]  \n",
      "Statistics over 5001 steps [ 0.0000 through 10.0000 ps ], 1 data sets\n",
      "All statistics are over 51 points\n",
      "\n",
      "Energy                      Average   Err.Est.       RMSD  Tot-Drift\n",
      "-------------------------------------------------------------------------------\n",
      "Temperature                 297.984        1.8    9.17874    10.7425  (K)\n",
      "\n",
      "2021-07-02 08:42:11,735 [MainThread  ] [INFO ]                         :-) GROMACS - gmx energy, 2019 (-:\n",
      "\n",
      "                            GROMACS is written by:\n",
      "     Emile Apol      Rossen Apostolov      Paul Bauer     Herman J.C. Berendsen\n",
      "    Par Bjelkmar      Christian Blau   Viacheslav Bolnykh     Kevin Boyd    \n",
      " Aldert van Buuren   Rudi van Drunen     Anton Feenstra       Alan Gray     \n",
      "  Gerrit Groenhof     Anca Hamuraru    Vincent Hindriksen  M. Eric Irrgang  \n",
      "  Aleksei Iupinov   Christoph Junghans     Joe Jordan     Dimitrios Karkoulis\n",
      "    Peter Kasson        Jiri Kraus      Carsten Kutzner      Per Larsson    \n",
      "  Justin A. Lemkul    Viveca Lindahl    Magnus Lundborg     Erik Marklund   \n",
      "    Pascal Merz     Pieter Meulenhoff    Teemu Murtola       Szilard Pall   \n",
      "    Sander Pronk      Roland Schulz      Michael Shirts    Alexey Shvetsov  \n",
      "   Alfons Sijbers     Peter Tieleman      Jon Vincent      Teemu Virolainen \n",
      " Christian Wennberg    Maarten Wolf   \n",
      "                           and the project leaders:\n",
      "        Mark Abraham, Berk Hess, Erik Lindahl, and David van der Spoel\n",
      "\n",
      "Copyright (c) 1991-2000, University of Groningen, The Netherlands.\n",
      "Copyright (c) 2001-2018, The GROMACS development team at\n",
      "Uppsala University, Stockholm University and\n",
      "the Royal Institute of Technology, Sweden.\n",
      "check out http://www.gromacs.org for more information.\n",
      "\n",
      "GROMACS is free software; you can redistribute it and/or modify it\n",
      "under the terms of the GNU Lesser General Public License\n",
      "as published by the Free Software Foundation; either version 2.1\n",
      "of the License, or (at your option) any later version.\n",
      "\n",
      "GROMACS:      gmx energy, version 2019\n",
      "Executable:   /usr/local/gromacs/bin/gmx\n",
      "Data prefix:  /usr/local/gromacs\n",
      "Working dir:  /home/gbayarri_local/projects/BioBB/tutorials/biobb_wf_protein-complex_md_setup/biobb_wf_protein-complex_md_setup/notebooks\n",
      "Command line:\n",
      "  gmx energy -f /home/gbayarri_local/projects/BioBB/tutorials/biobb_wf_protein-complex_md_setup/biobb_wf_protein-complex_md_setup/notebooks/3HTB_JZ4_nvt.edr -o 3HTB_JZ4_nvt_temp.xvg -xvg none\n",
      "\n",
      "Opened /home/gbayarri_local/projects/BioBB/tutorials/biobb_wf_protein-complex_md_setup/biobb_wf_protein-complex_md_setup/notebooks/3HTB_JZ4_nvt.edr as single precision energy file\n",
      "\n",
      "Select the terms you want from the following list by\n",
      "selecting either (part of) the name or the number or a combination.\n",
      "End your selection with an empty line or a zero.\n",
      "-------------------------------------------------------------------\n",
      "  1  Bond             2  Angle            3  Proper-Dih.      4  Improper-Dih. \n",
      "  5  LJ-14            6  Coulomb-14       7  LJ-(SR)          8  Disper.-corr. \n",
      "  9  Coulomb-(SR)    10  Coul.-recip.    11  Position-Rest.  12  Potential     \n",
      " 13  Kinetic-En.     14  Total-Energy    15  Conserved-En.   16  Temperature   \n",
      " 17  Pres.-DC        18  Pressure        19  Constr.-rmsd    20  Vir-XX        \n",
      " 21  Vir-XY          22  Vir-XZ          23  Vir-YX          24  Vir-YY        \n",
      " 25  Vir-YZ          26  Vir-ZX          27  Vir-ZY          28  Vir-ZZ        \n",
      " 29  Pres-XX         30  Pres-XY         31  Pres-XZ         32  Pres-YX       \n",
      " 33  Pres-YY         34  Pres-YZ         35  Pres-ZX         36  Pres-ZY       \n",
      " 37  Pres-ZZ                             38  #Surf*SurfTen                     \n",
      " 39  T-Protein_Other                     40  T-Water_and_ions                  \n",
      " 41  Lamb-Protein_Other                  42  Lamb-Water_and_ions               \n",
      "\n",
      "Last energy frame read 10 time   10.000           \n",
      "\n",
      "GROMACS reminds you: \"Hang On to Your Ego\" (F. Black)\n",
      "\n",
      "\n",
      "2021-07-02 08:42:11,737 [MainThread  ] [INFO ]  Removed: [PurePosixPath('6ecc1c45-9174-4187-a693-288877ec38a4')]\n"
     ]
    },
    {
     "data": {
      "text/plain": [
       "0"
      ]
     },
     "execution_count": 29,
     "metadata": {},
     "output_type": "execute_result"
    }
   ],
   "source": [
    "# GMXEnergy: Getting system temperature by time during NVT Equilibration  \n",
    "from biobb_analysis.gromacs.gmx_energy import gmx_energy\n",
    "\n",
    "# Create prop dict and inputs/outputs\n",
    "output_nvt_temp_xvg = pdbCode+'_'+ligandCode+'_nvt_temp.xvg'\n",
    "prop = {\n",
    "    'terms':  [\"Temperature\"]\n",
    "}\n",
    "\n",
    "# Create and launch bb\n",
    "gmx_energy(input_energy_path=output_nvt_edr, \n",
    "          output_xvg_path=output_nvt_temp_xvg, \n",
    "          properties=prop)"
   ]
  },
  {
   "cell_type": "code",
   "execution_count": 30,
   "metadata": {
    "scrolled": false
   },
   "outputs": [
    {
     "data": {
      "text/html": [
       "        <script type=\"text/javascript\">\n",
       "        window.PlotlyConfig = {MathJaxConfig: 'local'};\n",
       "        if (window.MathJax) {MathJax.Hub.Config({SVG: {font: \"STIX-Web\"}});}\n",
       "        if (typeof require !== 'undefined') {\n",
       "        require.undef(\"plotly\");\n",
       "        requirejs.config({\n",
       "            paths: {\n",
       "                'plotly': ['https://cdn.plot.ly/plotly-2.2.0.min']\n",
       "            }\n",
       "        });\n",
       "        require(['plotly'], function(Plotly) {\n",
       "            window._Plotly = Plotly;\n",
       "        });\n",
       "        }\n",
       "        </script>\n",
       "        "
      ]
     },
     "metadata": {},
     "output_type": "display_data"
    },
    {
     "data": {
      "application/vnd.plotly.v1+json": {
       "config": {
        "linkText": "Export to plot.ly",
        "plotlyServerURL": "https://plot.ly",
        "showLink": false
       },
       "data": [
        {
         "type": "scatter",
         "x": [
          0,
          1,
          2,
          3,
          4,
          5,
          6,
          7,
          8,
          9,
          10
         ],
         "y": [
          299.872681,
          297.02417,
          299.880005,
          297.68338,
          301.192871,
          301.933899,
          301.996613,
          300.182922,
          297.256927,
          297.608337,
          301.078705
         ]
        }
       ],
       "layout": {
        "template": {
         "data": {
          "bar": [
           {
            "error_x": {
             "color": "#2a3f5f"
            },
            "error_y": {
             "color": "#2a3f5f"
            },
            "marker": {
             "line": {
              "color": "#E5ECF6",
              "width": 0.5
             },
             "pattern": {
              "fillmode": "overlay",
              "size": 10,
              "solidity": 0.2
             }
            },
            "type": "bar"
           }
          ],
          "barpolar": [
           {
            "marker": {
             "line": {
              "color": "#E5ECF6",
              "width": 0.5
             },
             "pattern": {
              "fillmode": "overlay",
              "size": 10,
              "solidity": 0.2
             }
            },
            "type": "barpolar"
           }
          ],
          "carpet": [
           {
            "aaxis": {
             "endlinecolor": "#2a3f5f",
             "gridcolor": "white",
             "linecolor": "white",
             "minorgridcolor": "white",
             "startlinecolor": "#2a3f5f"
            },
            "baxis": {
             "endlinecolor": "#2a3f5f",
             "gridcolor": "white",
             "linecolor": "white",
             "minorgridcolor": "white",
             "startlinecolor": "#2a3f5f"
            },
            "type": "carpet"
           }
          ],
          "choropleth": [
           {
            "colorbar": {
             "outlinewidth": 0,
             "ticks": ""
            },
            "type": "choropleth"
           }
          ],
          "contour": [
           {
            "colorbar": {
             "outlinewidth": 0,
             "ticks": ""
            },
            "colorscale": [
             [
              0,
              "#0d0887"
             ],
             [
              0.1111111111111111,
              "#46039f"
             ],
             [
              0.2222222222222222,
              "#7201a8"
             ],
             [
              0.3333333333333333,
              "#9c179e"
             ],
             [
              0.4444444444444444,
              "#bd3786"
             ],
             [
              0.5555555555555556,
              "#d8576b"
             ],
             [
              0.6666666666666666,
              "#ed7953"
             ],
             [
              0.7777777777777778,
              "#fb9f3a"
             ],
             [
              0.8888888888888888,
              "#fdca26"
             ],
             [
              1,
              "#f0f921"
             ]
            ],
            "type": "contour"
           }
          ],
          "contourcarpet": [
           {
            "colorbar": {
             "outlinewidth": 0,
             "ticks": ""
            },
            "type": "contourcarpet"
           }
          ],
          "heatmap": [
           {
            "colorbar": {
             "outlinewidth": 0,
             "ticks": ""
            },
            "colorscale": [
             [
              0,
              "#0d0887"
             ],
             [
              0.1111111111111111,
              "#46039f"
             ],
             [
              0.2222222222222222,
              "#7201a8"
             ],
             [
              0.3333333333333333,
              "#9c179e"
             ],
             [
              0.4444444444444444,
              "#bd3786"
             ],
             [
              0.5555555555555556,
              "#d8576b"
             ],
             [
              0.6666666666666666,
              "#ed7953"
             ],
             [
              0.7777777777777778,
              "#fb9f3a"
             ],
             [
              0.8888888888888888,
              "#fdca26"
             ],
             [
              1,
              "#f0f921"
             ]
            ],
            "type": "heatmap"
           }
          ],
          "heatmapgl": [
           {
            "colorbar": {
             "outlinewidth": 0,
             "ticks": ""
            },
            "colorscale": [
             [
              0,
              "#0d0887"
             ],
             [
              0.1111111111111111,
              "#46039f"
             ],
             [
              0.2222222222222222,
              "#7201a8"
             ],
             [
              0.3333333333333333,
              "#9c179e"
             ],
             [
              0.4444444444444444,
              "#bd3786"
             ],
             [
              0.5555555555555556,
              "#d8576b"
             ],
             [
              0.6666666666666666,
              "#ed7953"
             ],
             [
              0.7777777777777778,
              "#fb9f3a"
             ],
             [
              0.8888888888888888,
              "#fdca26"
             ],
             [
              1,
              "#f0f921"
             ]
            ],
            "type": "heatmapgl"
           }
          ],
          "histogram": [
           {
            "marker": {
             "pattern": {
              "fillmode": "overlay",
              "size": 10,
              "solidity": 0.2
             }
            },
            "type": "histogram"
           }
          ],
          "histogram2d": [
           {
            "colorbar": {
             "outlinewidth": 0,
             "ticks": ""
            },
            "colorscale": [
             [
              0,
              "#0d0887"
             ],
             [
              0.1111111111111111,
              "#46039f"
             ],
             [
              0.2222222222222222,
              "#7201a8"
             ],
             [
              0.3333333333333333,
              "#9c179e"
             ],
             [
              0.4444444444444444,
              "#bd3786"
             ],
             [
              0.5555555555555556,
              "#d8576b"
             ],
             [
              0.6666666666666666,
              "#ed7953"
             ],
             [
              0.7777777777777778,
              "#fb9f3a"
             ],
             [
              0.8888888888888888,
              "#fdca26"
             ],
             [
              1,
              "#f0f921"
             ]
            ],
            "type": "histogram2d"
           }
          ],
          "histogram2dcontour": [
           {
            "colorbar": {
             "outlinewidth": 0,
             "ticks": ""
            },
            "colorscale": [
             [
              0,
              "#0d0887"
             ],
             [
              0.1111111111111111,
              "#46039f"
             ],
             [
              0.2222222222222222,
              "#7201a8"
             ],
             [
              0.3333333333333333,
              "#9c179e"
             ],
             [
              0.4444444444444444,
              "#bd3786"
             ],
             [
              0.5555555555555556,
              "#d8576b"
             ],
             [
              0.6666666666666666,
              "#ed7953"
             ],
             [
              0.7777777777777778,
              "#fb9f3a"
             ],
             [
              0.8888888888888888,
              "#fdca26"
             ],
             [
              1,
              "#f0f921"
             ]
            ],
            "type": "histogram2dcontour"
           }
          ],
          "mesh3d": [
           {
            "colorbar": {
             "outlinewidth": 0,
             "ticks": ""
            },
            "type": "mesh3d"
           }
          ],
          "parcoords": [
           {
            "line": {
             "colorbar": {
              "outlinewidth": 0,
              "ticks": ""
             }
            },
            "type": "parcoords"
           }
          ],
          "pie": [
           {
            "automargin": true,
            "type": "pie"
           }
          ],
          "scatter": [
           {
            "marker": {
             "colorbar": {
              "outlinewidth": 0,
              "ticks": ""
             }
            },
            "type": "scatter"
           }
          ],
          "scatter3d": [
           {
            "line": {
             "colorbar": {
              "outlinewidth": 0,
              "ticks": ""
             }
            },
            "marker": {
             "colorbar": {
              "outlinewidth": 0,
              "ticks": ""
             }
            },
            "type": "scatter3d"
           }
          ],
          "scattercarpet": [
           {
            "marker": {
             "colorbar": {
              "outlinewidth": 0,
              "ticks": ""
             }
            },
            "type": "scattercarpet"
           }
          ],
          "scattergeo": [
           {
            "marker": {
             "colorbar": {
              "outlinewidth": 0,
              "ticks": ""
             }
            },
            "type": "scattergeo"
           }
          ],
          "scattergl": [
           {
            "marker": {
             "colorbar": {
              "outlinewidth": 0,
              "ticks": ""
             }
            },
            "type": "scattergl"
           }
          ],
          "scattermapbox": [
           {
            "marker": {
             "colorbar": {
              "outlinewidth": 0,
              "ticks": ""
             }
            },
            "type": "scattermapbox"
           }
          ],
          "scatterpolar": [
           {
            "marker": {
             "colorbar": {
              "outlinewidth": 0,
              "ticks": ""
             }
            },
            "type": "scatterpolar"
           }
          ],
          "scatterpolargl": [
           {
            "marker": {
             "colorbar": {
              "outlinewidth": 0,
              "ticks": ""
             }
            },
            "type": "scatterpolargl"
           }
          ],
          "scatterternary": [
           {
            "marker": {
             "colorbar": {
              "outlinewidth": 0,
              "ticks": ""
             }
            },
            "type": "scatterternary"
           }
          ],
          "surface": [
           {
            "colorbar": {
             "outlinewidth": 0,
             "ticks": ""
            },
            "colorscale": [
             [
              0,
              "#0d0887"
             ],
             [
              0.1111111111111111,
              "#46039f"
             ],
             [
              0.2222222222222222,
              "#7201a8"
             ],
             [
              0.3333333333333333,
              "#9c179e"
             ],
             [
              0.4444444444444444,
              "#bd3786"
             ],
             [
              0.5555555555555556,
              "#d8576b"
             ],
             [
              0.6666666666666666,
              "#ed7953"
             ],
             [
              0.7777777777777778,
              "#fb9f3a"
             ],
             [
              0.8888888888888888,
              "#fdca26"
             ],
             [
              1,
              "#f0f921"
             ]
            ],
            "type": "surface"
           }
          ],
          "table": [
           {
            "cells": {
             "fill": {
              "color": "#EBF0F8"
             },
             "line": {
              "color": "white"
             }
            },
            "header": {
             "fill": {
              "color": "#C8D4E3"
             },
             "line": {
              "color": "white"
             }
            },
            "type": "table"
           }
          ]
         },
         "layout": {
          "annotationdefaults": {
           "arrowcolor": "#2a3f5f",
           "arrowhead": 0,
           "arrowwidth": 1
          },
          "autotypenumbers": "strict",
          "coloraxis": {
           "colorbar": {
            "outlinewidth": 0,
            "ticks": ""
           }
          },
          "colorscale": {
           "diverging": [
            [
             0,
             "#8e0152"
            ],
            [
             0.1,
             "#c51b7d"
            ],
            [
             0.2,
             "#de77ae"
            ],
            [
             0.3,
             "#f1b6da"
            ],
            [
             0.4,
             "#fde0ef"
            ],
            [
             0.5,
             "#f7f7f7"
            ],
            [
             0.6,
             "#e6f5d0"
            ],
            [
             0.7,
             "#b8e186"
            ],
            [
             0.8,
             "#7fbc41"
            ],
            [
             0.9,
             "#4d9221"
            ],
            [
             1,
             "#276419"
            ]
           ],
           "sequential": [
            [
             0,
             "#0d0887"
            ],
            [
             0.1111111111111111,
             "#46039f"
            ],
            [
             0.2222222222222222,
             "#7201a8"
            ],
            [
             0.3333333333333333,
             "#9c179e"
            ],
            [
             0.4444444444444444,
             "#bd3786"
            ],
            [
             0.5555555555555556,
             "#d8576b"
            ],
            [
             0.6666666666666666,
             "#ed7953"
            ],
            [
             0.7777777777777778,
             "#fb9f3a"
            ],
            [
             0.8888888888888888,
             "#fdca26"
            ],
            [
             1,
             "#f0f921"
            ]
           ],
           "sequentialminus": [
            [
             0,
             "#0d0887"
            ],
            [
             0.1111111111111111,
             "#46039f"
            ],
            [
             0.2222222222222222,
             "#7201a8"
            ],
            [
             0.3333333333333333,
             "#9c179e"
            ],
            [
             0.4444444444444444,
             "#bd3786"
            ],
            [
             0.5555555555555556,
             "#d8576b"
            ],
            [
             0.6666666666666666,
             "#ed7953"
            ],
            [
             0.7777777777777778,
             "#fb9f3a"
            ],
            [
             0.8888888888888888,
             "#fdca26"
            ],
            [
             1,
             "#f0f921"
            ]
           ]
          },
          "colorway": [
           "#636efa",
           "#EF553B",
           "#00cc96",
           "#ab63fa",
           "#FFA15A",
           "#19d3f3",
           "#FF6692",
           "#B6E880",
           "#FF97FF",
           "#FECB52"
          ],
          "font": {
           "color": "#2a3f5f"
          },
          "geo": {
           "bgcolor": "white",
           "lakecolor": "white",
           "landcolor": "#E5ECF6",
           "showlakes": true,
           "showland": true,
           "subunitcolor": "white"
          },
          "hoverlabel": {
           "align": "left"
          },
          "hovermode": "closest",
          "mapbox": {
           "style": "light"
          },
          "paper_bgcolor": "white",
          "plot_bgcolor": "#E5ECF6",
          "polar": {
           "angularaxis": {
            "gridcolor": "white",
            "linecolor": "white",
            "ticks": ""
           },
           "bgcolor": "#E5ECF6",
           "radialaxis": {
            "gridcolor": "white",
            "linecolor": "white",
            "ticks": ""
           }
          },
          "scene": {
           "xaxis": {
            "backgroundcolor": "#E5ECF6",
            "gridcolor": "white",
            "gridwidth": 2,
            "linecolor": "white",
            "showbackground": true,
            "ticks": "",
            "zerolinecolor": "white"
           },
           "yaxis": {
            "backgroundcolor": "#E5ECF6",
            "gridcolor": "white",
            "gridwidth": 2,
            "linecolor": "white",
            "showbackground": true,
            "ticks": "",
            "zerolinecolor": "white"
           },
           "zaxis": {
            "backgroundcolor": "#E5ECF6",
            "gridcolor": "white",
            "gridwidth": 2,
            "linecolor": "white",
            "showbackground": true,
            "ticks": "",
            "zerolinecolor": "white"
           }
          },
          "shapedefaults": {
           "line": {
            "color": "#2a3f5f"
           }
          },
          "ternary": {
           "aaxis": {
            "gridcolor": "white",
            "linecolor": "white",
            "ticks": ""
           },
           "baxis": {
            "gridcolor": "white",
            "linecolor": "white",
            "ticks": ""
           },
           "bgcolor": "#E5ECF6",
           "caxis": {
            "gridcolor": "white",
            "linecolor": "white",
            "ticks": ""
           }
          },
          "title": {
           "x": 0.05
          },
          "xaxis": {
           "automargin": true,
           "gridcolor": "white",
           "linecolor": "white",
           "ticks": "",
           "title": {
            "standoff": 15
           },
           "zerolinecolor": "white",
           "zerolinewidth": 2
          },
          "yaxis": {
           "automargin": true,
           "gridcolor": "white",
           "linecolor": "white",
           "ticks": "",
           "title": {
            "standoff": 15
           },
           "zerolinecolor": "white",
           "zerolinewidth": 2
          }
         }
        },
        "title": {
         "text": "Temperature during NVT Equilibration"
        },
        "xaxis": {
         "title": {
          "text": "Time (ps)"
         }
        },
        "yaxis": {
         "title": {
          "text": "Temperature (K)"
         }
        }
       }
      },
      "text/html": [
       "<div>                            <div id=\"cc9d69ce-8370-45c5-930e-613409a5acd4\" class=\"plotly-graph-div\" style=\"height:525px; width:100%;\"></div>            <script type=\"text/javascript\">                require([\"plotly\"], function(Plotly) {                    window.PLOTLYENV=window.PLOTLYENV || {};                                    if (document.getElementById(\"cc9d69ce-8370-45c5-930e-613409a5acd4\")) {                    Plotly.newPlot(                        \"cc9d69ce-8370-45c5-930e-613409a5acd4\",                        [{\"type\":\"scatter\",\"x\":[0.0,1.0,2.0,3.0,4.0,5.0,6.0,7.0,8.0,9.0,10.0],\"y\":[299.872681,297.02417,299.880005,297.68338,301.192871,301.933899,301.996613,300.182922,297.256927,297.608337,301.078705]}],                        {\"template\":{\"data\":{\"bar\":[{\"error_x\":{\"color\":\"#2a3f5f\"},\"error_y\":{\"color\":\"#2a3f5f\"},\"marker\":{\"line\":{\"color\":\"#E5ECF6\",\"width\":0.5},\"pattern\":{\"fillmode\":\"overlay\",\"size\":10,\"solidity\":0.2}},\"type\":\"bar\"}],\"barpolar\":[{\"marker\":{\"line\":{\"color\":\"#E5ECF6\",\"width\":0.5},\"pattern\":{\"fillmode\":\"overlay\",\"size\":10,\"solidity\":0.2}},\"type\":\"barpolar\"}],\"carpet\":[{\"aaxis\":{\"endlinecolor\":\"#2a3f5f\",\"gridcolor\":\"white\",\"linecolor\":\"white\",\"minorgridcolor\":\"white\",\"startlinecolor\":\"#2a3f5f\"},\"baxis\":{\"endlinecolor\":\"#2a3f5f\",\"gridcolor\":\"white\",\"linecolor\":\"white\",\"minorgridcolor\":\"white\",\"startlinecolor\":\"#2a3f5f\"},\"type\":\"carpet\"}],\"choropleth\":[{\"colorbar\":{\"outlinewidth\":0,\"ticks\":\"\"},\"type\":\"choropleth\"}],\"contour\":[{\"colorbar\":{\"outlinewidth\":0,\"ticks\":\"\"},\"colorscale\":[[0.0,\"#0d0887\"],[0.1111111111111111,\"#46039f\"],[0.2222222222222222,\"#7201a8\"],[0.3333333333333333,\"#9c179e\"],[0.4444444444444444,\"#bd3786\"],[0.5555555555555556,\"#d8576b\"],[0.6666666666666666,\"#ed7953\"],[0.7777777777777778,\"#fb9f3a\"],[0.8888888888888888,\"#fdca26\"],[1.0,\"#f0f921\"]],\"type\":\"contour\"}],\"contourcarpet\":[{\"colorbar\":{\"outlinewidth\":0,\"ticks\":\"\"},\"type\":\"contourcarpet\"}],\"heatmap\":[{\"colorbar\":{\"outlinewidth\":0,\"ticks\":\"\"},\"colorscale\":[[0.0,\"#0d0887\"],[0.1111111111111111,\"#46039f\"],[0.2222222222222222,\"#7201a8\"],[0.3333333333333333,\"#9c179e\"],[0.4444444444444444,\"#bd3786\"],[0.5555555555555556,\"#d8576b\"],[0.6666666666666666,\"#ed7953\"],[0.7777777777777778,\"#fb9f3a\"],[0.8888888888888888,\"#fdca26\"],[1.0,\"#f0f921\"]],\"type\":\"heatmap\"}],\"heatmapgl\":[{\"colorbar\":{\"outlinewidth\":0,\"ticks\":\"\"},\"colorscale\":[[0.0,\"#0d0887\"],[0.1111111111111111,\"#46039f\"],[0.2222222222222222,\"#7201a8\"],[0.3333333333333333,\"#9c179e\"],[0.4444444444444444,\"#bd3786\"],[0.5555555555555556,\"#d8576b\"],[0.6666666666666666,\"#ed7953\"],[0.7777777777777778,\"#fb9f3a\"],[0.8888888888888888,\"#fdca26\"],[1.0,\"#f0f921\"]],\"type\":\"heatmapgl\"}],\"histogram\":[{\"marker\":{\"pattern\":{\"fillmode\":\"overlay\",\"size\":10,\"solidity\":0.2}},\"type\":\"histogram\"}],\"histogram2d\":[{\"colorbar\":{\"outlinewidth\":0,\"ticks\":\"\"},\"colorscale\":[[0.0,\"#0d0887\"],[0.1111111111111111,\"#46039f\"],[0.2222222222222222,\"#7201a8\"],[0.3333333333333333,\"#9c179e\"],[0.4444444444444444,\"#bd3786\"],[0.5555555555555556,\"#d8576b\"],[0.6666666666666666,\"#ed7953\"],[0.7777777777777778,\"#fb9f3a\"],[0.8888888888888888,\"#fdca26\"],[1.0,\"#f0f921\"]],\"type\":\"histogram2d\"}],\"histogram2dcontour\":[{\"colorbar\":{\"outlinewidth\":0,\"ticks\":\"\"},\"colorscale\":[[0.0,\"#0d0887\"],[0.1111111111111111,\"#46039f\"],[0.2222222222222222,\"#7201a8\"],[0.3333333333333333,\"#9c179e\"],[0.4444444444444444,\"#bd3786\"],[0.5555555555555556,\"#d8576b\"],[0.6666666666666666,\"#ed7953\"],[0.7777777777777778,\"#fb9f3a\"],[0.8888888888888888,\"#fdca26\"],[1.0,\"#f0f921\"]],\"type\":\"histogram2dcontour\"}],\"mesh3d\":[{\"colorbar\":{\"outlinewidth\":0,\"ticks\":\"\"},\"type\":\"mesh3d\"}],\"parcoords\":[{\"line\":{\"colorbar\":{\"outlinewidth\":0,\"ticks\":\"\"}},\"type\":\"parcoords\"}],\"pie\":[{\"automargin\":true,\"type\":\"pie\"}],\"scatter\":[{\"marker\":{\"colorbar\":{\"outlinewidth\":0,\"ticks\":\"\"}},\"type\":\"scatter\"}],\"scatter3d\":[{\"line\":{\"colorbar\":{\"outlinewidth\":0,\"ticks\":\"\"}},\"marker\":{\"colorbar\":{\"outlinewidth\":0,\"ticks\":\"\"}},\"type\":\"scatter3d\"}],\"scattercarpet\":[{\"marker\":{\"colorbar\":{\"outlinewidth\":0,\"ticks\":\"\"}},\"type\":\"scattercarpet\"}],\"scattergeo\":[{\"marker\":{\"colorbar\":{\"outlinewidth\":0,\"ticks\":\"\"}},\"type\":\"scattergeo\"}],\"scattergl\":[{\"marker\":{\"colorbar\":{\"outlinewidth\":0,\"ticks\":\"\"}},\"type\":\"scattergl\"}],\"scattermapbox\":[{\"marker\":{\"colorbar\":{\"outlinewidth\":0,\"ticks\":\"\"}},\"type\":\"scattermapbox\"}],\"scatterpolar\":[{\"marker\":{\"colorbar\":{\"outlinewidth\":0,\"ticks\":\"\"}},\"type\":\"scatterpolar\"}],\"scatterpolargl\":[{\"marker\":{\"colorbar\":{\"outlinewidth\":0,\"ticks\":\"\"}},\"type\":\"scatterpolargl\"}],\"scatterternary\":[{\"marker\":{\"colorbar\":{\"outlinewidth\":0,\"ticks\":\"\"}},\"type\":\"scatterternary\"}],\"surface\":[{\"colorbar\":{\"outlinewidth\":0,\"ticks\":\"\"},\"colorscale\":[[0.0,\"#0d0887\"],[0.1111111111111111,\"#46039f\"],[0.2222222222222222,\"#7201a8\"],[0.3333333333333333,\"#9c179e\"],[0.4444444444444444,\"#bd3786\"],[0.5555555555555556,\"#d8576b\"],[0.6666666666666666,\"#ed7953\"],[0.7777777777777778,\"#fb9f3a\"],[0.8888888888888888,\"#fdca26\"],[1.0,\"#f0f921\"]],\"type\":\"surface\"}],\"table\":[{\"cells\":{\"fill\":{\"color\":\"#EBF0F8\"},\"line\":{\"color\":\"white\"}},\"header\":{\"fill\":{\"color\":\"#C8D4E3\"},\"line\":{\"color\":\"white\"}},\"type\":\"table\"}]},\"layout\":{\"annotationdefaults\":{\"arrowcolor\":\"#2a3f5f\",\"arrowhead\":0,\"arrowwidth\":1},\"autotypenumbers\":\"strict\",\"coloraxis\":{\"colorbar\":{\"outlinewidth\":0,\"ticks\":\"\"}},\"colorscale\":{\"diverging\":[[0,\"#8e0152\"],[0.1,\"#c51b7d\"],[0.2,\"#de77ae\"],[0.3,\"#f1b6da\"],[0.4,\"#fde0ef\"],[0.5,\"#f7f7f7\"],[0.6,\"#e6f5d0\"],[0.7,\"#b8e186\"],[0.8,\"#7fbc41\"],[0.9,\"#4d9221\"],[1,\"#276419\"]],\"sequential\":[[0.0,\"#0d0887\"],[0.1111111111111111,\"#46039f\"],[0.2222222222222222,\"#7201a8\"],[0.3333333333333333,\"#9c179e\"],[0.4444444444444444,\"#bd3786\"],[0.5555555555555556,\"#d8576b\"],[0.6666666666666666,\"#ed7953\"],[0.7777777777777778,\"#fb9f3a\"],[0.8888888888888888,\"#fdca26\"],[1.0,\"#f0f921\"]],\"sequentialminus\":[[0.0,\"#0d0887\"],[0.1111111111111111,\"#46039f\"],[0.2222222222222222,\"#7201a8\"],[0.3333333333333333,\"#9c179e\"],[0.4444444444444444,\"#bd3786\"],[0.5555555555555556,\"#d8576b\"],[0.6666666666666666,\"#ed7953\"],[0.7777777777777778,\"#fb9f3a\"],[0.8888888888888888,\"#fdca26\"],[1.0,\"#f0f921\"]]},\"colorway\":[\"#636efa\",\"#EF553B\",\"#00cc96\",\"#ab63fa\",\"#FFA15A\",\"#19d3f3\",\"#FF6692\",\"#B6E880\",\"#FF97FF\",\"#FECB52\"],\"font\":{\"color\":\"#2a3f5f\"},\"geo\":{\"bgcolor\":\"white\",\"lakecolor\":\"white\",\"landcolor\":\"#E5ECF6\",\"showlakes\":true,\"showland\":true,\"subunitcolor\":\"white\"},\"hoverlabel\":{\"align\":\"left\"},\"hovermode\":\"closest\",\"mapbox\":{\"style\":\"light\"},\"paper_bgcolor\":\"white\",\"plot_bgcolor\":\"#E5ECF6\",\"polar\":{\"angularaxis\":{\"gridcolor\":\"white\",\"linecolor\":\"white\",\"ticks\":\"\"},\"bgcolor\":\"#E5ECF6\",\"radialaxis\":{\"gridcolor\":\"white\",\"linecolor\":\"white\",\"ticks\":\"\"}},\"scene\":{\"xaxis\":{\"backgroundcolor\":\"#E5ECF6\",\"gridcolor\":\"white\",\"gridwidth\":2,\"linecolor\":\"white\",\"showbackground\":true,\"ticks\":\"\",\"zerolinecolor\":\"white\"},\"yaxis\":{\"backgroundcolor\":\"#E5ECF6\",\"gridcolor\":\"white\",\"gridwidth\":2,\"linecolor\":\"white\",\"showbackground\":true,\"ticks\":\"\",\"zerolinecolor\":\"white\"},\"zaxis\":{\"backgroundcolor\":\"#E5ECF6\",\"gridcolor\":\"white\",\"gridwidth\":2,\"linecolor\":\"white\",\"showbackground\":true,\"ticks\":\"\",\"zerolinecolor\":\"white\"}},\"shapedefaults\":{\"line\":{\"color\":\"#2a3f5f\"}},\"ternary\":{\"aaxis\":{\"gridcolor\":\"white\",\"linecolor\":\"white\",\"ticks\":\"\"},\"baxis\":{\"gridcolor\":\"white\",\"linecolor\":\"white\",\"ticks\":\"\"},\"bgcolor\":\"#E5ECF6\",\"caxis\":{\"gridcolor\":\"white\",\"linecolor\":\"white\",\"ticks\":\"\"}},\"title\":{\"x\":0.05},\"xaxis\":{\"automargin\":true,\"gridcolor\":\"white\",\"linecolor\":\"white\",\"ticks\":\"\",\"title\":{\"standoff\":15},\"zerolinecolor\":\"white\",\"zerolinewidth\":2},\"yaxis\":{\"automargin\":true,\"gridcolor\":\"white\",\"linecolor\":\"white\",\"ticks\":\"\",\"title\":{\"standoff\":15},\"zerolinecolor\":\"white\",\"zerolinewidth\":2}}},\"title\":{\"text\":\"Temperature during NVT Equilibration\"},\"xaxis\":{\"title\":{\"text\":\"Time (ps)\"}},\"yaxis\":{\"title\":{\"text\":\"Temperature (K)\"}}},                        {\"responsive\": true}                    ).then(function(){\n",
       "                            \n",
       "var gd = document.getElementById('cc9d69ce-8370-45c5-930e-613409a5acd4');\n",
       "var x = new MutationObserver(function (mutations, observer) {{\n",
       "        var display = window.getComputedStyle(gd).display;\n",
       "        if (!display || display === 'none') {{\n",
       "            console.log([gd, 'removed!']);\n",
       "            Plotly.purge(gd);\n",
       "            observer.disconnect();\n",
       "        }}\n",
       "}});\n",
       "\n",
       "// Listen for the removal of the full notebook cells\n",
       "var notebookContainer = gd.closest('#notebook-container');\n",
       "if (notebookContainer) {{\n",
       "    x.observe(notebookContainer, {childList: true});\n",
       "}}\n",
       "\n",
       "// Listen for the clearing of the current output cell\n",
       "var outputEl = gd.closest('.output');\n",
       "if (outputEl) {{\n",
       "    x.observe(outputEl, {childList: true});\n",
       "}}\n",
       "\n",
       "                        })                };                });            </script>        </div>"
      ]
     },
     "metadata": {},
     "output_type": "display_data"
    }
   ],
   "source": [
    "import plotly\n",
    "import plotly.graph_objs as go\n",
    "\n",
    "# Read temperature data from file \n",
    "with open(output_nvt_temp_xvg,'r') as temperature_file:\n",
    "    x,y = map(\n",
    "        list,\n",
    "        zip(*[\n",
    "            (float(line.split()[0]),float(line.split()[1]))\n",
    "            for line in temperature_file \n",
    "            if not line.startswith((\"#\",\"@\")) \n",
    "        ])\n",
    "    )\n",
    "\n",
    "plotly.offline.init_notebook_mode(connected=True)\n",
    "\n",
    "fig = ({\n",
    "    \"data\": [go.Scatter(x=x, y=y)],\n",
    "    \"layout\": go.Layout(title=\"Temperature during NVT Equilibration\",\n",
    "                        xaxis=dict(title = \"Time (ps)\"),\n",
    "                        yaxis=dict(title = \"Temperature (K)\")\n",
    "                       )\n",
    "})\n",
    "\n",
    "plotly.offline.iplot(fig)"
   ]
  },
  {
   "cell_type": "markdown",
   "metadata": {},
   "source": [
    "<a id=\"npt\"></a>\n",
    "***\n",
    "## Equilibrate the system (NPT)\n",
    "Equilibrate the **protein-ligand complex** system in NPT ensemble (constant Number of particles, Pressure and Temperature) .\n",
    "- [Step 1](#eqNPTStep1): Creating portable binary run file for system equilibration\n",
    "- [Step 2](#eqNPTStep2): Equilibrate the **protein-ligand complex** with NPT ensemble.\n",
    "- [Step 3](#eqNPTStep3): Checking **NPT Equilibration** results. Plotting **system pressure and density** by time during the **NPT equilibration** process.\n",
    "***\n",
    "**Building Blocks** used:\n",
    " - [Grompp](https://biobb-md.readthedocs.io/en/latest/gromacs.html#module-gromacs.grompp) from **biobb_md.gromacs.grompp** \n",
    " - [Mdrun](https://biobb-md.readthedocs.io/en/latest/gromacs.html#module-gromacs.mdrun) from **biobb_md.gromacs.mdrun** \n",
    " - [GMXEnergy](https://biobb-analysis.readthedocs.io/en/latest/gromacs.html#module-gromacs.gmx_energy) from **biobb_analysis.gromacs.gmx_energy** \n",
    "***"
   ]
  },
  {
   "cell_type": "markdown",
   "metadata": {},
   "source": [
    "<a id=\"eqNPTStep1\"></a>\n",
    "### Step 1: Creating portable binary run file for system equilibration (NPT)"
   ]
  },
  {
   "cell_type": "code",
   "execution_count": 31,
   "metadata": {
    "scrolled": true
   },
   "outputs": [
    {
     "name": "stdout",
     "output_type": "stream",
     "text": [
      "2021-07-02 08:42:19,810 [MainThread  ] [INFO ]  GROMACS Grompp 20190 version detected\n",
      "2021-07-02 08:42:19,817 [MainThread  ] [INFO ]  Extracting: /home/gbayarri_local/projects/BioBB/tutorials/biobb_wf_protein-complex_md_setup/biobb_wf_protein-complex_md_setup/notebooks/3HTB_JZ4_genion_top.zip\n",
      "2021-07-02 08:42:19,818 [MainThread  ] [INFO ]  to:\n",
      "2021-07-02 08:42:19,818 [MainThread  ] [INFO ]  ['1f9c351d-a172-4f79-a0f9-186b198519d9/JZ4_posres.itp', '1f9c351d-a172-4f79-a0f9-186b198519d9/JZ4params.itp', '1f9c351d-a172-4f79-a0f9-186b198519d9/ligand.top', '1f9c351d-a172-4f79-a0f9-186b198519d9/posre.itp']\n",
      "2021-07-02 08:42:19,819 [MainThread  ] [INFO ]  Unzipping: \n",
      "2021-07-02 08:42:19,820 [MainThread  ] [INFO ]  3HTB_JZ4_genion_top.zip\n",
      "2021-07-02 08:42:19,820 [MainThread  ] [INFO ]  To: \n",
      "2021-07-02 08:42:19,821 [MainThread  ] [INFO ]  1f9c351d-a172-4f79-a0f9-186b198519d9/JZ4_posres.itp\n",
      "2021-07-02 08:42:19,822 [MainThread  ] [INFO ]  1f9c351d-a172-4f79-a0f9-186b198519d9/JZ4params.itp\n",
      "2021-07-02 08:42:19,822 [MainThread  ] [INFO ]  1f9c351d-a172-4f79-a0f9-186b198519d9/ligand.top\n",
      "2021-07-02 08:42:19,823 [MainThread  ] [INFO ]  1f9c351d-a172-4f79-a0f9-186b198519d9/posre.itp\n",
      "2021-07-02 08:42:19,825 [MainThread  ] [INFO ]  Not using any container\n",
      "2021-07-02 08:42:20,330 [MainThread  ] [INFO ]  gmx -nobackup -nocopyright grompp -f 1828838d-0e0c-475c-addf-e9273c3afebb/grompp.mdp -c 3HTB_JZ4_nvt.gro -r 3HTB_JZ4_nvt.gro -p 1f9c351d-a172-4f79-a0f9-186b198519d9/ligand.top -o 3HTB_JZ4_gppnpt.tpr -po mdout.mdp -maxwarn 0 -t 3HTB_JZ4_nvt.cpt -n 3HTB_JZ4_index.ndx\n",
      "\n",
      "2021-07-02 08:42:20,332 [MainThread  ] [INFO ]  Exit code 0\n",
      "\n",
      "2021-07-02 08:42:20,332 [MainThread  ] [INFO ]  turning H bonds into constraints...\n",
      "turning H bonds into constraints...\n",
      "turning H bonds into constraints...\n",
      "turning H bonds into constraints...\n",
      "turning H bonds into constraints...\n",
      "Determining Verlet buffer for a tolerance of 0.005 kJ/mol/ps at 300 K\n",
      "Calculated rlist for 1x1 atom pair-list as 1.034 nm, buffer size 0.034 nm\n",
      "Set rlist, assuming 4x4 atom pair-list, to 1.000 nm, buffer size 0.000 nm\n",
      "Note that mdrun will redetermine rlist based on the actual pair-list setup\n",
      "Calculating fourier grid dimensions for X Y Z\n",
      "Using a fourier grid of 64x64x64, spacing 0.116 0.116 0.116\n",
      "This run will generate roughly 11 Mb of data\n",
      "\n",
      "2021-07-02 08:42:20,332 [MainThread  ] [INFO ]                         :-) GROMACS - gmx grompp, 2019 (-:\n",
      "\n",
      "Executable:   /usr/local/gromacs/bin/gmx\n",
      "Data prefix:  /usr/local/gromacs\n",
      "Working dir:  /home/gbayarri_local/projects/BioBB/tutorials/biobb_wf_protein-complex_md_setup/biobb_wf_protein-complex_md_setup/notebooks\n",
      "Command line:\n",
      "  gmx -nobackup -nocopyright grompp -f 1828838d-0e0c-475c-addf-e9273c3afebb/grompp.mdp -c 3HTB_JZ4_nvt.gro -r 3HTB_JZ4_nvt.gro -p 1f9c351d-a172-4f79-a0f9-186b198519d9/ligand.top -o 3HTB_JZ4_gppnpt.tpr -po mdout.mdp -maxwarn 0 -t 3HTB_JZ4_nvt.cpt -n 3HTB_JZ4_index.ndx\n",
      "\n",
      "Setting the LD random seed to 1854571395\n",
      "Generated 2556 of the 2556 non-bonded parameter combinations\n",
      "Generating 1-4 interactions: fudge = 0.5\n",
      "Generated 2556 of the 2556 1-4 parameter combinations\n",
      "Excluding 3 bonded neighbours molecule type 'Protein_chain_A'\n",
      "Excluding 3 bonded neighbours molecule type 'JZ4params'\n",
      "Excluding 2 bonded neighbours molecule type 'SOL'\n",
      "Excluding 1 bonded neighbours molecule type 'NA'\n",
      "Excluding 1 bonded neighbours molecule type 'CL'\n",
      "Removing all charge groups because cutoff-scheme=Verlet\n",
      "\n",
      "NOTE 1 [file ligand.top, line 24865]:\n",
      "  You are combining position restraints with Parrinello-Rahman pressure\n",
      "  coupling, which can lead to instabilities. If you really want to combine\n",
      "  position restraints with pressure coupling, we suggest to use Berendsen\n",
      "  pressure coupling instead.\n",
      "\n",
      "The center of mass of the position restraint coord's is  3.723  5.272  3.046\n",
      "The center of mass of the position restraint coord's is  3.723  5.272  3.046\n",
      "Number of degrees of freedom in T-Coupling group Protein_Other is 6582.69\n",
      "Number of degrees of freedom in T-Coupling group Water_and_ions is 57105.31\n",
      "Reading Coordinates, Velocities and Box size from old trajectory\n",
      "Will read whole trajectory\n",
      "Last frame         -1 time   10.000   \n",
      "Using frame at t = 10 ps\n",
      "Starting time for run is 0 ps\n",
      "Estimate for the relative computational load of the PME mesh part: 0.28\n",
      "\n",
      "There was 1 note\n",
      "\n",
      "GROMACS reminds you: \"I'd be Safe and Warm if I was in L.A.\" (The Mamas and the Papas)\n",
      "\n",
      "\n",
      "2021-07-02 08:42:20,334 [MainThread  ] [INFO ]  Removed: ['mdout.mdp', '1f9c351d-a172-4f79-a0f9-186b198519d9', '1828838d-0e0c-475c-addf-e9273c3afebb']\n"
     ]
    },
    {
     "data": {
      "text/plain": [
       "0"
      ]
     },
     "execution_count": 31,
     "metadata": {},
     "output_type": "execute_result"
    }
   ],
   "source": [
    "# Grompp: Creating portable binary run file for (NPT) System Equilibration\n",
    "from biobb_md.gromacs.grompp import grompp\n",
    "\n",
    "# Create prop dict and inputs/outputs\n",
    "output_gppnpt_tpr = pdbCode+'_'+ligandCode+'_gppnpt.tpr'\n",
    "prop = {\n",
    "    'mdp':{\n",
    "        'type': 'npt',\n",
    "        'nsteps':'5000',\n",
    "        'tc-grps': 'Protein_Other Water_and_ions',\n",
    "        'Define': '-DPOSRES -D' + posresifdef\n",
    "    },\n",
    "    'simulation_type':'npt'\n",
    "}\n",
    "\n",
    "# Create and launch bb\n",
    "grompp(input_gro_path=output_nvt_gro,\n",
    "       input_top_zip_path=output_genion_top_zip,\n",
    "       input_ndx_path=output_complex_ndx,\n",
    "       output_tpr_path=output_gppnpt_tpr,\n",
    "       input_cpt_path=output_nvt_cpt,\n",
    "       properties=prop)"
   ]
  },
  {
   "cell_type": "markdown",
   "metadata": {},
   "source": [
    "<a id=\"eqNPTStep2\"></a>\n",
    "### Step 2: Running NPT equilibration"
   ]
  },
  {
   "cell_type": "code",
   "execution_count": 32,
   "metadata": {
    "scrolled": true
   },
   "outputs": [
    {
     "name": "stdout",
     "output_type": "stream",
     "text": [
      "2021-07-02 08:42:25,313 [MainThread  ] [INFO ]  GROMACS Mdrun 20190 version detected\n",
      "2021-07-02 08:42:25,315 [MainThread  ] [INFO ]  Not using any container\n",
      "2021-07-02 08:43:41,645 [MainThread  ] [INFO ]  gmx -nobackup -nocopyright mdrun -s 3HTB_JZ4_gppnpt.tpr -o 3HTB_JZ4_npt.trr -c 3HTB_JZ4_npt.gro -e 3HTB_JZ4_npt.edr -g 3HTB_JZ4_npt.log -cpo 3HTB_JZ4_npt.cpt\n",
      "\n",
      "2021-07-02 08:43:41,646 [MainThread  ] [INFO ]  Exit code 0\n",
      "\n",
      "2021-07-02 08:43:41,647 [MainThread  ] [INFO ]                         :-) GROMACS - gmx mdrun, 2019 (-:\n",
      "\n",
      "Executable:   /usr/local/gromacs/bin/gmx\n",
      "Data prefix:  /usr/local/gromacs\n",
      "Working dir:  /home/gbayarri_local/projects/BioBB/tutorials/biobb_wf_protein-complex_md_setup/biobb_wf_protein-complex_md_setup/notebooks\n",
      "Command line:\n",
      "  gmx -nobackup -nocopyright mdrun -s 3HTB_JZ4_gppnpt.tpr -o 3HTB_JZ4_npt.trr -c 3HTB_JZ4_npt.gro -e 3HTB_JZ4_npt.edr -g 3HTB_JZ4_npt.log -cpo 3HTB_JZ4_npt.cpt\n",
      "\n",
      "Reading file 3HTB_JZ4_gppnpt.tpr, VERSION 2019 (single precision)\n",
      "Changing nstlist from 10 to 50, rlist from 1 to 1.112\n",
      "\n",
      "Using 1 MPI thread\n",
      "Using 8 OpenMP threads \n",
      "\n",
      "starting mdrun 'Protein in water'\n",
      "5000 steps,     10.0 ps.\n",
      "\n",
      "Writing final coordinates.\n",
      "\n",
      "               Core t (s)   Wall t (s)        (%)\n",
      "       Time:      597.976       74.747      800.0\n",
      "                 (ns/day)    (hour/ns)\n",
      "Performance:       11.561        2.076\n",
      "\n",
      "GROMACS reminds you: \"If You Touch Me, You'll Get Shocked\" (Beastie Boys)\n",
      "\n",
      "\n",
      "2021-07-02 08:43:41,648 [MainThread  ] [INFO ]  Removed: []\n"
     ]
    },
    {
     "data": {
      "text/plain": [
       "0"
      ]
     },
     "execution_count": 32,
     "metadata": {},
     "output_type": "execute_result"
    }
   ],
   "source": [
    "# Mdrun: Running NPT System Equilibration\n",
    "from biobb_md.gromacs.mdrun import mdrun\n",
    "\n",
    "# Create prop dict and inputs/outputs\n",
    "output_npt_trr = pdbCode+'_'+ligandCode+'_npt.trr'\n",
    "output_npt_gro = pdbCode+'_'+ligandCode+'_npt.gro'\n",
    "output_npt_edr = pdbCode+'_'+ligandCode+'_npt.edr'\n",
    "output_npt_log = pdbCode+'_'+ligandCode+'_npt.log'\n",
    "output_npt_cpt = pdbCode+'_'+ligandCode+'_npt.cpt'\n",
    "\n",
    "# Create and launch bb\n",
    "mdrun(input_tpr_path=output_gppnpt_tpr,\n",
    "      output_trr_path=output_npt_trr,\n",
    "      output_gro_path=output_npt_gro,\n",
    "      output_edr_path=output_npt_edr,\n",
    "      output_log_path=output_npt_log,\n",
    "      output_cpt_path=output_npt_cpt)"
   ]
  },
  {
   "cell_type": "markdown",
   "metadata": {},
   "source": [
    "<a id=\"eqNPTStep3\"></a>\n",
    "### Step 3: Checking NPT Equilibration results\n",
    "Checking **NPT Equilibration** results. Plotting **system pressure and density** by time during the **NPT equilibration** process. "
   ]
  },
  {
   "cell_type": "code",
   "execution_count": 33,
   "metadata": {
    "scrolled": true
   },
   "outputs": [
    {
     "name": "stdout",
     "output_type": "stream",
     "text": [
      "2021-07-02 08:44:11,906 [MainThread  ] [INFO ]  Not using any container\n",
      "2021-07-02 08:44:11,922 [MainThread  ] [INFO ]  gmx energy -f /home/gbayarri_local/projects/BioBB/tutorials/biobb_wf_protein-complex_md_setup/biobb_wf_protein-complex_md_setup/notebooks/3HTB_JZ4_npt.edr -o 3HTB_JZ4_npt_PD.xvg -xvg none < 4300a80b-6cd2-47e7-9208-19122b0596e2/instructions.in\n",
      "\n",
      "2021-07-02 08:44:11,924 [MainThread  ] [INFO ]  Exit code 0\n",
      "\n",
      "2021-07-02 08:44:11,924 [MainThread  ] [INFO ]  \n",
      "Statistics over 5001 steps [ 0.0000 through 10.0000 ps ], 2 data sets\n",
      "All statistics are over 51 points\n",
      "\n",
      "Energy                      Average   Err.Est.       RMSD  Tot-Drift\n",
      "-------------------------------------------------------------------------------\n",
      "Pressure                     -34.55         22    200.767   -102.276  (bar)\n",
      "Density                     1025.88        2.1    6.38201    12.1115  (kg/m^3)\n",
      "\n",
      "2021-07-02 08:44:11,925 [MainThread  ] [INFO ]                         :-) GROMACS - gmx energy, 2019 (-:\n",
      "\n",
      "                            GROMACS is written by:\n",
      "     Emile Apol      Rossen Apostolov      Paul Bauer     Herman J.C. Berendsen\n",
      "    Par Bjelkmar      Christian Blau   Viacheslav Bolnykh     Kevin Boyd    \n",
      " Aldert van Buuren   Rudi van Drunen     Anton Feenstra       Alan Gray     \n",
      "  Gerrit Groenhof     Anca Hamuraru    Vincent Hindriksen  M. Eric Irrgang  \n",
      "  Aleksei Iupinov   Christoph Junghans     Joe Jordan     Dimitrios Karkoulis\n",
      "    Peter Kasson        Jiri Kraus      Carsten Kutzner      Per Larsson    \n",
      "  Justin A. Lemkul    Viveca Lindahl    Magnus Lundborg     Erik Marklund   \n",
      "    Pascal Merz     Pieter Meulenhoff    Teemu Murtola       Szilard Pall   \n",
      "    Sander Pronk      Roland Schulz      Michael Shirts    Alexey Shvetsov  \n",
      "   Alfons Sijbers     Peter Tieleman      Jon Vincent      Teemu Virolainen \n",
      " Christian Wennberg    Maarten Wolf   \n",
      "                           and the project leaders:\n",
      "        Mark Abraham, Berk Hess, Erik Lindahl, and David van der Spoel\n",
      "\n",
      "Copyright (c) 1991-2000, University of Groningen, The Netherlands.\n",
      "Copyright (c) 2001-2018, The GROMACS development team at\n",
      "Uppsala University, Stockholm University and\n",
      "the Royal Institute of Technology, Sweden.\n",
      "check out http://www.gromacs.org for more information.\n",
      "\n",
      "GROMACS is free software; you can redistribute it and/or modify it\n",
      "under the terms of the GNU Lesser General Public License\n",
      "as published by the Free Software Foundation; either version 2.1\n",
      "of the License, or (at your option) any later version.\n",
      "\n",
      "GROMACS:      gmx energy, version 2019\n",
      "Executable:   /usr/local/gromacs/bin/gmx\n",
      "Data prefix:  /usr/local/gromacs\n",
      "Working dir:  /home/gbayarri_local/projects/BioBB/tutorials/biobb_wf_protein-complex_md_setup/biobb_wf_protein-complex_md_setup/notebooks\n",
      "Command line:\n",
      "  gmx energy -f /home/gbayarri_local/projects/BioBB/tutorials/biobb_wf_protein-complex_md_setup/biobb_wf_protein-complex_md_setup/notebooks/3HTB_JZ4_npt.edr -o 3HTB_JZ4_npt_PD.xvg -xvg none\n",
      "\n",
      "Opened /home/gbayarri_local/projects/BioBB/tutorials/biobb_wf_protein-complex_md_setup/biobb_wf_protein-complex_md_setup/notebooks/3HTB_JZ4_npt.edr as single precision energy file\n",
      "\n",
      "Select the terms you want from the following list by\n",
      "selecting either (part of) the name or the number or a combination.\n",
      "End your selection with an empty line or a zero.\n",
      "-------------------------------------------------------------------\n",
      "  1  Bond             2  Angle            3  Proper-Dih.      4  Improper-Dih. \n",
      "  5  LJ-14            6  Coulomb-14       7  LJ-(SR)          8  Disper.-corr. \n",
      "  9  Coulomb-(SR)    10  Coul.-recip.    11  Position-Rest.  12  Potential     \n",
      " 13  Kinetic-En.     14  Total-Energy    15  Conserved-En.   16  Temperature   \n",
      " 17  Pres.-DC        18  Pressure        19  Constr.-rmsd    20  Box-X         \n",
      " 21  Box-Y           22  Box-Z           23  Volume          24  Density       \n",
      " 25  pV              26  Enthalpy        27  Vir-XX          28  Vir-XY        \n",
      " 29  Vir-XZ          30  Vir-YX          31  Vir-YY          32  Vir-YZ        \n",
      " 33  Vir-ZX          34  Vir-ZY          35  Vir-ZZ          36  Pres-XX       \n",
      " 37  Pres-XY         38  Pres-XZ         39  Pres-YX         40  Pres-YY       \n",
      " 41  Pres-YZ         42  Pres-ZX         43  Pres-ZY         44  Pres-ZZ       \n",
      " 45  #Surf*SurfTen   46  Box-Vel-XX      47  Box-Vel-YY      48  Box-Vel-ZZ    \n",
      " 49  T-Protein_Other                     50  T-Water_and_ions                  \n",
      " 51  Lamb-Protein_Other                  52  Lamb-Water_and_ions               \n",
      "\n",
      "Last energy frame read 10 time   10.000           \n",
      "\n",
      "GROMACS reminds you: \"Proceed, With Fingers Crossed\" (TeX)\n",
      "\n",
      "\n",
      "2021-07-02 08:44:11,927 [MainThread  ] [INFO ]  Removed: [PurePosixPath('4300a80b-6cd2-47e7-9208-19122b0596e2')]\n"
     ]
    },
    {
     "data": {
      "text/plain": [
       "0"
      ]
     },
     "execution_count": 33,
     "metadata": {},
     "output_type": "execute_result"
    }
   ],
   "source": [
    "# GMXEnergy: Getting system pressure and density by time during NPT Equilibration  \n",
    "from biobb_analysis.gromacs.gmx_energy import gmx_energy\n",
    "\n",
    "# Create prop dict and inputs/outputs\n",
    "output_npt_pd_xvg = pdbCode+'_'+ligandCode+'_npt_PD.xvg'\n",
    "prop = {\n",
    "    'terms':  [\"Pressure\",\"Density\"]\n",
    "}\n",
    "\n",
    "# Create and launch bb\n",
    "gmx_energy(input_energy_path=output_npt_edr, \n",
    "          output_xvg_path=output_npt_pd_xvg, \n",
    "          properties=prop)"
   ]
  },
  {
   "cell_type": "code",
   "execution_count": 34,
   "metadata": {
    "scrolled": false
   },
   "outputs": [
    {
     "data": {
      "text/html": [
       "        <script type=\"text/javascript\">\n",
       "        window.PlotlyConfig = {MathJaxConfig: 'local'};\n",
       "        if (window.MathJax) {MathJax.Hub.Config({SVG: {font: \"STIX-Web\"}});}\n",
       "        if (typeof require !== 'undefined') {\n",
       "        require.undef(\"plotly\");\n",
       "        requirejs.config({\n",
       "            paths: {\n",
       "                'plotly': ['https://cdn.plot.ly/plotly-2.2.0.min']\n",
       "            }\n",
       "        });\n",
       "        require(['plotly'], function(Plotly) {\n",
       "            window._Plotly = Plotly;\n",
       "        });\n",
       "        }\n",
       "        </script>\n",
       "        "
      ]
     },
     "metadata": {},
     "output_type": "display_data"
    },
    {
     "data": {
      "application/vnd.plotly.v1+json": {
       "config": {
        "linkText": "Export to plot.ly",
        "plotlyServerURL": "https://plot.ly",
        "showLink": false
       },
       "data": [
        {
         "type": "scatter",
         "x": [
          0,
          1,
          2,
          3,
          4,
          5,
          6,
          7,
          8,
          9,
          10
         ],
         "xaxis": "x",
         "y": [
          -624.998718,
          133.087799,
          186.728668,
          -56.281601,
          169.146027,
          -34.106506,
          12.745529,
          154.715424,
          -168.240997,
          59.713165,
          107.684006
         ],
         "yaxis": "y"
        },
        {
         "type": "scatter",
         "x": [
          0,
          1,
          2,
          3,
          4,
          5,
          6,
          7,
          8,
          9,
          10
         ],
         "xaxis": "x2",
         "y": [
          995.065735,
          1022.554565,
          1026.120483,
          1027.394409,
          1030.514038,
          1028.807617,
          1028.382324,
          1032.802734,
          1030.571167,
          1032.121094,
          1028.516479
         ],
         "yaxis": "y2"
        }
       ],
       "layout": {
        "showlegend": false,
        "template": {
         "data": {
          "bar": [
           {
            "error_x": {
             "color": "#2a3f5f"
            },
            "error_y": {
             "color": "#2a3f5f"
            },
            "marker": {
             "line": {
              "color": "#E5ECF6",
              "width": 0.5
             },
             "pattern": {
              "fillmode": "overlay",
              "size": 10,
              "solidity": 0.2
             }
            },
            "type": "bar"
           }
          ],
          "barpolar": [
           {
            "marker": {
             "line": {
              "color": "#E5ECF6",
              "width": 0.5
             },
             "pattern": {
              "fillmode": "overlay",
              "size": 10,
              "solidity": 0.2
             }
            },
            "type": "barpolar"
           }
          ],
          "carpet": [
           {
            "aaxis": {
             "endlinecolor": "#2a3f5f",
             "gridcolor": "white",
             "linecolor": "white",
             "minorgridcolor": "white",
             "startlinecolor": "#2a3f5f"
            },
            "baxis": {
             "endlinecolor": "#2a3f5f",
             "gridcolor": "white",
             "linecolor": "white",
             "minorgridcolor": "white",
             "startlinecolor": "#2a3f5f"
            },
            "type": "carpet"
           }
          ],
          "choropleth": [
           {
            "colorbar": {
             "outlinewidth": 0,
             "ticks": ""
            },
            "type": "choropleth"
           }
          ],
          "contour": [
           {
            "colorbar": {
             "outlinewidth": 0,
             "ticks": ""
            },
            "colorscale": [
             [
              0,
              "#0d0887"
             ],
             [
              0.1111111111111111,
              "#46039f"
             ],
             [
              0.2222222222222222,
              "#7201a8"
             ],
             [
              0.3333333333333333,
              "#9c179e"
             ],
             [
              0.4444444444444444,
              "#bd3786"
             ],
             [
              0.5555555555555556,
              "#d8576b"
             ],
             [
              0.6666666666666666,
              "#ed7953"
             ],
             [
              0.7777777777777778,
              "#fb9f3a"
             ],
             [
              0.8888888888888888,
              "#fdca26"
             ],
             [
              1,
              "#f0f921"
             ]
            ],
            "type": "contour"
           }
          ],
          "contourcarpet": [
           {
            "colorbar": {
             "outlinewidth": 0,
             "ticks": ""
            },
            "type": "contourcarpet"
           }
          ],
          "heatmap": [
           {
            "colorbar": {
             "outlinewidth": 0,
             "ticks": ""
            },
            "colorscale": [
             [
              0,
              "#0d0887"
             ],
             [
              0.1111111111111111,
              "#46039f"
             ],
             [
              0.2222222222222222,
              "#7201a8"
             ],
             [
              0.3333333333333333,
              "#9c179e"
             ],
             [
              0.4444444444444444,
              "#bd3786"
             ],
             [
              0.5555555555555556,
              "#d8576b"
             ],
             [
              0.6666666666666666,
              "#ed7953"
             ],
             [
              0.7777777777777778,
              "#fb9f3a"
             ],
             [
              0.8888888888888888,
              "#fdca26"
             ],
             [
              1,
              "#f0f921"
             ]
            ],
            "type": "heatmap"
           }
          ],
          "heatmapgl": [
           {
            "colorbar": {
             "outlinewidth": 0,
             "ticks": ""
            },
            "colorscale": [
             [
              0,
              "#0d0887"
             ],
             [
              0.1111111111111111,
              "#46039f"
             ],
             [
              0.2222222222222222,
              "#7201a8"
             ],
             [
              0.3333333333333333,
              "#9c179e"
             ],
             [
              0.4444444444444444,
              "#bd3786"
             ],
             [
              0.5555555555555556,
              "#d8576b"
             ],
             [
              0.6666666666666666,
              "#ed7953"
             ],
             [
              0.7777777777777778,
              "#fb9f3a"
             ],
             [
              0.8888888888888888,
              "#fdca26"
             ],
             [
              1,
              "#f0f921"
             ]
            ],
            "type": "heatmapgl"
           }
          ],
          "histogram": [
           {
            "marker": {
             "pattern": {
              "fillmode": "overlay",
              "size": 10,
              "solidity": 0.2
             }
            },
            "type": "histogram"
           }
          ],
          "histogram2d": [
           {
            "colorbar": {
             "outlinewidth": 0,
             "ticks": ""
            },
            "colorscale": [
             [
              0,
              "#0d0887"
             ],
             [
              0.1111111111111111,
              "#46039f"
             ],
             [
              0.2222222222222222,
              "#7201a8"
             ],
             [
              0.3333333333333333,
              "#9c179e"
             ],
             [
              0.4444444444444444,
              "#bd3786"
             ],
             [
              0.5555555555555556,
              "#d8576b"
             ],
             [
              0.6666666666666666,
              "#ed7953"
             ],
             [
              0.7777777777777778,
              "#fb9f3a"
             ],
             [
              0.8888888888888888,
              "#fdca26"
             ],
             [
              1,
              "#f0f921"
             ]
            ],
            "type": "histogram2d"
           }
          ],
          "histogram2dcontour": [
           {
            "colorbar": {
             "outlinewidth": 0,
             "ticks": ""
            },
            "colorscale": [
             [
              0,
              "#0d0887"
             ],
             [
              0.1111111111111111,
              "#46039f"
             ],
             [
              0.2222222222222222,
              "#7201a8"
             ],
             [
              0.3333333333333333,
              "#9c179e"
             ],
             [
              0.4444444444444444,
              "#bd3786"
             ],
             [
              0.5555555555555556,
              "#d8576b"
             ],
             [
              0.6666666666666666,
              "#ed7953"
             ],
             [
              0.7777777777777778,
              "#fb9f3a"
             ],
             [
              0.8888888888888888,
              "#fdca26"
             ],
             [
              1,
              "#f0f921"
             ]
            ],
            "type": "histogram2dcontour"
           }
          ],
          "mesh3d": [
           {
            "colorbar": {
             "outlinewidth": 0,
             "ticks": ""
            },
            "type": "mesh3d"
           }
          ],
          "parcoords": [
           {
            "line": {
             "colorbar": {
              "outlinewidth": 0,
              "ticks": ""
             }
            },
            "type": "parcoords"
           }
          ],
          "pie": [
           {
            "automargin": true,
            "type": "pie"
           }
          ],
          "scatter": [
           {
            "marker": {
             "colorbar": {
              "outlinewidth": 0,
              "ticks": ""
             }
            },
            "type": "scatter"
           }
          ],
          "scatter3d": [
           {
            "line": {
             "colorbar": {
              "outlinewidth": 0,
              "ticks": ""
             }
            },
            "marker": {
             "colorbar": {
              "outlinewidth": 0,
              "ticks": ""
             }
            },
            "type": "scatter3d"
           }
          ],
          "scattercarpet": [
           {
            "marker": {
             "colorbar": {
              "outlinewidth": 0,
              "ticks": ""
             }
            },
            "type": "scattercarpet"
           }
          ],
          "scattergeo": [
           {
            "marker": {
             "colorbar": {
              "outlinewidth": 0,
              "ticks": ""
             }
            },
            "type": "scattergeo"
           }
          ],
          "scattergl": [
           {
            "marker": {
             "colorbar": {
              "outlinewidth": 0,
              "ticks": ""
             }
            },
            "type": "scattergl"
           }
          ],
          "scattermapbox": [
           {
            "marker": {
             "colorbar": {
              "outlinewidth": 0,
              "ticks": ""
             }
            },
            "type": "scattermapbox"
           }
          ],
          "scatterpolar": [
           {
            "marker": {
             "colorbar": {
              "outlinewidth": 0,
              "ticks": ""
             }
            },
            "type": "scatterpolar"
           }
          ],
          "scatterpolargl": [
           {
            "marker": {
             "colorbar": {
              "outlinewidth": 0,
              "ticks": ""
             }
            },
            "type": "scatterpolargl"
           }
          ],
          "scatterternary": [
           {
            "marker": {
             "colorbar": {
              "outlinewidth": 0,
              "ticks": ""
             }
            },
            "type": "scatterternary"
           }
          ],
          "surface": [
           {
            "colorbar": {
             "outlinewidth": 0,
             "ticks": ""
            },
            "colorscale": [
             [
              0,
              "#0d0887"
             ],
             [
              0.1111111111111111,
              "#46039f"
             ],
             [
              0.2222222222222222,
              "#7201a8"
             ],
             [
              0.3333333333333333,
              "#9c179e"
             ],
             [
              0.4444444444444444,
              "#bd3786"
             ],
             [
              0.5555555555555556,
              "#d8576b"
             ],
             [
              0.6666666666666666,
              "#ed7953"
             ],
             [
              0.7777777777777778,
              "#fb9f3a"
             ],
             [
              0.8888888888888888,
              "#fdca26"
             ],
             [
              1,
              "#f0f921"
             ]
            ],
            "type": "surface"
           }
          ],
          "table": [
           {
            "cells": {
             "fill": {
              "color": "#EBF0F8"
             },
             "line": {
              "color": "white"
             }
            },
            "header": {
             "fill": {
              "color": "#C8D4E3"
             },
             "line": {
              "color": "white"
             }
            },
            "type": "table"
           }
          ]
         },
         "layout": {
          "annotationdefaults": {
           "arrowcolor": "#2a3f5f",
           "arrowhead": 0,
           "arrowwidth": 1
          },
          "autotypenumbers": "strict",
          "coloraxis": {
           "colorbar": {
            "outlinewidth": 0,
            "ticks": ""
           }
          },
          "colorscale": {
           "diverging": [
            [
             0,
             "#8e0152"
            ],
            [
             0.1,
             "#c51b7d"
            ],
            [
             0.2,
             "#de77ae"
            ],
            [
             0.3,
             "#f1b6da"
            ],
            [
             0.4,
             "#fde0ef"
            ],
            [
             0.5,
             "#f7f7f7"
            ],
            [
             0.6,
             "#e6f5d0"
            ],
            [
             0.7,
             "#b8e186"
            ],
            [
             0.8,
             "#7fbc41"
            ],
            [
             0.9,
             "#4d9221"
            ],
            [
             1,
             "#276419"
            ]
           ],
           "sequential": [
            [
             0,
             "#0d0887"
            ],
            [
             0.1111111111111111,
             "#46039f"
            ],
            [
             0.2222222222222222,
             "#7201a8"
            ],
            [
             0.3333333333333333,
             "#9c179e"
            ],
            [
             0.4444444444444444,
             "#bd3786"
            ],
            [
             0.5555555555555556,
             "#d8576b"
            ],
            [
             0.6666666666666666,
             "#ed7953"
            ],
            [
             0.7777777777777778,
             "#fb9f3a"
            ],
            [
             0.8888888888888888,
             "#fdca26"
            ],
            [
             1,
             "#f0f921"
            ]
           ],
           "sequentialminus": [
            [
             0,
             "#0d0887"
            ],
            [
             0.1111111111111111,
             "#46039f"
            ],
            [
             0.2222222222222222,
             "#7201a8"
            ],
            [
             0.3333333333333333,
             "#9c179e"
            ],
            [
             0.4444444444444444,
             "#bd3786"
            ],
            [
             0.5555555555555556,
             "#d8576b"
            ],
            [
             0.6666666666666666,
             "#ed7953"
            ],
            [
             0.7777777777777778,
             "#fb9f3a"
            ],
            [
             0.8888888888888888,
             "#fdca26"
            ],
            [
             1,
             "#f0f921"
            ]
           ]
          },
          "colorway": [
           "#636efa",
           "#EF553B",
           "#00cc96",
           "#ab63fa",
           "#FFA15A",
           "#19d3f3",
           "#FF6692",
           "#B6E880",
           "#FF97FF",
           "#FECB52"
          ],
          "font": {
           "color": "#2a3f5f"
          },
          "geo": {
           "bgcolor": "white",
           "lakecolor": "white",
           "landcolor": "#E5ECF6",
           "showlakes": true,
           "showland": true,
           "subunitcolor": "white"
          },
          "hoverlabel": {
           "align": "left"
          },
          "hovermode": "closest",
          "mapbox": {
           "style": "light"
          },
          "paper_bgcolor": "white",
          "plot_bgcolor": "#E5ECF6",
          "polar": {
           "angularaxis": {
            "gridcolor": "white",
            "linecolor": "white",
            "ticks": ""
           },
           "bgcolor": "#E5ECF6",
           "radialaxis": {
            "gridcolor": "white",
            "linecolor": "white",
            "ticks": ""
           }
          },
          "scene": {
           "xaxis": {
            "backgroundcolor": "#E5ECF6",
            "gridcolor": "white",
            "gridwidth": 2,
            "linecolor": "white",
            "showbackground": true,
            "ticks": "",
            "zerolinecolor": "white"
           },
           "yaxis": {
            "backgroundcolor": "#E5ECF6",
            "gridcolor": "white",
            "gridwidth": 2,
            "linecolor": "white",
            "showbackground": true,
            "ticks": "",
            "zerolinecolor": "white"
           },
           "zaxis": {
            "backgroundcolor": "#E5ECF6",
            "gridcolor": "white",
            "gridwidth": 2,
            "linecolor": "white",
            "showbackground": true,
            "ticks": "",
            "zerolinecolor": "white"
           }
          },
          "shapedefaults": {
           "line": {
            "color": "#2a3f5f"
           }
          },
          "ternary": {
           "aaxis": {
            "gridcolor": "white",
            "linecolor": "white",
            "ticks": ""
           },
           "baxis": {
            "gridcolor": "white",
            "linecolor": "white",
            "ticks": ""
           },
           "bgcolor": "#E5ECF6",
           "caxis": {
            "gridcolor": "white",
            "linecolor": "white",
            "ticks": ""
           }
          },
          "title": {
           "x": 0.05
          },
          "xaxis": {
           "automargin": true,
           "gridcolor": "white",
           "linecolor": "white",
           "ticks": "",
           "title": {
            "standoff": 15
           },
           "zerolinecolor": "white",
           "zerolinewidth": 2
          },
          "yaxis": {
           "automargin": true,
           "gridcolor": "white",
           "linecolor": "white",
           "ticks": "",
           "title": {
            "standoff": 15
           },
           "zerolinecolor": "white",
           "zerolinewidth": 2
          }
         }
        },
        "title": {
         "text": "Pressure and Density during NPT Equilibration"
        },
        "xaxis": {
         "anchor": "y",
         "domain": [
          0,
          0.45
         ],
         "title": {
          "text": "Time (ps)"
         }
        },
        "xaxis2": {
         "anchor": "y2",
         "domain": [
          0.55,
          1
         ],
         "title": {
          "text": "Time (ps)"
         }
        },
        "yaxis": {
         "anchor": "x",
         "domain": [
          0,
          1
         ],
         "title": {
          "text": "Pressure (bar)"
         }
        },
        "yaxis2": {
         "anchor": "x2",
         "domain": [
          0,
          1
         ],
         "title": {
          "text": "Density (Kg*m^-3)"
         }
        }
       }
      },
      "text/html": [
       "<div>                            <div id=\"22a91793-e752-4f13-a0af-7a10ce90abd2\" class=\"plotly-graph-div\" style=\"height:525px; width:100%;\"></div>            <script type=\"text/javascript\">                require([\"plotly\"], function(Plotly) {                    window.PLOTLYENV=window.PLOTLYENV || {};                                    if (document.getElementById(\"22a91793-e752-4f13-a0af-7a10ce90abd2\")) {                    Plotly.newPlot(                        \"22a91793-e752-4f13-a0af-7a10ce90abd2\",                        [{\"type\":\"scatter\",\"x\":[0.0,1.0,2.0,3.0,4.0,5.0,6.0,7.0,8.0,9.0,10.0],\"xaxis\":\"x\",\"y\":[-624.998718,133.087799,186.728668,-56.281601,169.146027,-34.106506,12.745529,154.715424,-168.240997,59.713165,107.684006],\"yaxis\":\"y\"},{\"type\":\"scatter\",\"x\":[0.0,1.0,2.0,3.0,4.0,5.0,6.0,7.0,8.0,9.0,10.0],\"xaxis\":\"x2\",\"y\":[995.065735,1022.554565,1026.120483,1027.394409,1030.514038,1028.807617,1028.382324,1032.802734,1030.571167,1032.121094,1028.516479],\"yaxis\":\"y2\"}],                        {\"showlegend\":false,\"template\":{\"data\":{\"bar\":[{\"error_x\":{\"color\":\"#2a3f5f\"},\"error_y\":{\"color\":\"#2a3f5f\"},\"marker\":{\"line\":{\"color\":\"#E5ECF6\",\"width\":0.5},\"pattern\":{\"fillmode\":\"overlay\",\"size\":10,\"solidity\":0.2}},\"type\":\"bar\"}],\"barpolar\":[{\"marker\":{\"line\":{\"color\":\"#E5ECF6\",\"width\":0.5},\"pattern\":{\"fillmode\":\"overlay\",\"size\":10,\"solidity\":0.2}},\"type\":\"barpolar\"}],\"carpet\":[{\"aaxis\":{\"endlinecolor\":\"#2a3f5f\",\"gridcolor\":\"white\",\"linecolor\":\"white\",\"minorgridcolor\":\"white\",\"startlinecolor\":\"#2a3f5f\"},\"baxis\":{\"endlinecolor\":\"#2a3f5f\",\"gridcolor\":\"white\",\"linecolor\":\"white\",\"minorgridcolor\":\"white\",\"startlinecolor\":\"#2a3f5f\"},\"type\":\"carpet\"}],\"choropleth\":[{\"colorbar\":{\"outlinewidth\":0,\"ticks\":\"\"},\"type\":\"choropleth\"}],\"contour\":[{\"colorbar\":{\"outlinewidth\":0,\"ticks\":\"\"},\"colorscale\":[[0.0,\"#0d0887\"],[0.1111111111111111,\"#46039f\"],[0.2222222222222222,\"#7201a8\"],[0.3333333333333333,\"#9c179e\"],[0.4444444444444444,\"#bd3786\"],[0.5555555555555556,\"#d8576b\"],[0.6666666666666666,\"#ed7953\"],[0.7777777777777778,\"#fb9f3a\"],[0.8888888888888888,\"#fdca26\"],[1.0,\"#f0f921\"]],\"type\":\"contour\"}],\"contourcarpet\":[{\"colorbar\":{\"outlinewidth\":0,\"ticks\":\"\"},\"type\":\"contourcarpet\"}],\"heatmap\":[{\"colorbar\":{\"outlinewidth\":0,\"ticks\":\"\"},\"colorscale\":[[0.0,\"#0d0887\"],[0.1111111111111111,\"#46039f\"],[0.2222222222222222,\"#7201a8\"],[0.3333333333333333,\"#9c179e\"],[0.4444444444444444,\"#bd3786\"],[0.5555555555555556,\"#d8576b\"],[0.6666666666666666,\"#ed7953\"],[0.7777777777777778,\"#fb9f3a\"],[0.8888888888888888,\"#fdca26\"],[1.0,\"#f0f921\"]],\"type\":\"heatmap\"}],\"heatmapgl\":[{\"colorbar\":{\"outlinewidth\":0,\"ticks\":\"\"},\"colorscale\":[[0.0,\"#0d0887\"],[0.1111111111111111,\"#46039f\"],[0.2222222222222222,\"#7201a8\"],[0.3333333333333333,\"#9c179e\"],[0.4444444444444444,\"#bd3786\"],[0.5555555555555556,\"#d8576b\"],[0.6666666666666666,\"#ed7953\"],[0.7777777777777778,\"#fb9f3a\"],[0.8888888888888888,\"#fdca26\"],[1.0,\"#f0f921\"]],\"type\":\"heatmapgl\"}],\"histogram\":[{\"marker\":{\"pattern\":{\"fillmode\":\"overlay\",\"size\":10,\"solidity\":0.2}},\"type\":\"histogram\"}],\"histogram2d\":[{\"colorbar\":{\"outlinewidth\":0,\"ticks\":\"\"},\"colorscale\":[[0.0,\"#0d0887\"],[0.1111111111111111,\"#46039f\"],[0.2222222222222222,\"#7201a8\"],[0.3333333333333333,\"#9c179e\"],[0.4444444444444444,\"#bd3786\"],[0.5555555555555556,\"#d8576b\"],[0.6666666666666666,\"#ed7953\"],[0.7777777777777778,\"#fb9f3a\"],[0.8888888888888888,\"#fdca26\"],[1.0,\"#f0f921\"]],\"type\":\"histogram2d\"}],\"histogram2dcontour\":[{\"colorbar\":{\"outlinewidth\":0,\"ticks\":\"\"},\"colorscale\":[[0.0,\"#0d0887\"],[0.1111111111111111,\"#46039f\"],[0.2222222222222222,\"#7201a8\"],[0.3333333333333333,\"#9c179e\"],[0.4444444444444444,\"#bd3786\"],[0.5555555555555556,\"#d8576b\"],[0.6666666666666666,\"#ed7953\"],[0.7777777777777778,\"#fb9f3a\"],[0.8888888888888888,\"#fdca26\"],[1.0,\"#f0f921\"]],\"type\":\"histogram2dcontour\"}],\"mesh3d\":[{\"colorbar\":{\"outlinewidth\":0,\"ticks\":\"\"},\"type\":\"mesh3d\"}],\"parcoords\":[{\"line\":{\"colorbar\":{\"outlinewidth\":0,\"ticks\":\"\"}},\"type\":\"parcoords\"}],\"pie\":[{\"automargin\":true,\"type\":\"pie\"}],\"scatter\":[{\"marker\":{\"colorbar\":{\"outlinewidth\":0,\"ticks\":\"\"}},\"type\":\"scatter\"}],\"scatter3d\":[{\"line\":{\"colorbar\":{\"outlinewidth\":0,\"ticks\":\"\"}},\"marker\":{\"colorbar\":{\"outlinewidth\":0,\"ticks\":\"\"}},\"type\":\"scatter3d\"}],\"scattercarpet\":[{\"marker\":{\"colorbar\":{\"outlinewidth\":0,\"ticks\":\"\"}},\"type\":\"scattercarpet\"}],\"scattergeo\":[{\"marker\":{\"colorbar\":{\"outlinewidth\":0,\"ticks\":\"\"}},\"type\":\"scattergeo\"}],\"scattergl\":[{\"marker\":{\"colorbar\":{\"outlinewidth\":0,\"ticks\":\"\"}},\"type\":\"scattergl\"}],\"scattermapbox\":[{\"marker\":{\"colorbar\":{\"outlinewidth\":0,\"ticks\":\"\"}},\"type\":\"scattermapbox\"}],\"scatterpolar\":[{\"marker\":{\"colorbar\":{\"outlinewidth\":0,\"ticks\":\"\"}},\"type\":\"scatterpolar\"}],\"scatterpolargl\":[{\"marker\":{\"colorbar\":{\"outlinewidth\":0,\"ticks\":\"\"}},\"type\":\"scatterpolargl\"}],\"scatterternary\":[{\"marker\":{\"colorbar\":{\"outlinewidth\":0,\"ticks\":\"\"}},\"type\":\"scatterternary\"}],\"surface\":[{\"colorbar\":{\"outlinewidth\":0,\"ticks\":\"\"},\"colorscale\":[[0.0,\"#0d0887\"],[0.1111111111111111,\"#46039f\"],[0.2222222222222222,\"#7201a8\"],[0.3333333333333333,\"#9c179e\"],[0.4444444444444444,\"#bd3786\"],[0.5555555555555556,\"#d8576b\"],[0.6666666666666666,\"#ed7953\"],[0.7777777777777778,\"#fb9f3a\"],[0.8888888888888888,\"#fdca26\"],[1.0,\"#f0f921\"]],\"type\":\"surface\"}],\"table\":[{\"cells\":{\"fill\":{\"color\":\"#EBF0F8\"},\"line\":{\"color\":\"white\"}},\"header\":{\"fill\":{\"color\":\"#C8D4E3\"},\"line\":{\"color\":\"white\"}},\"type\":\"table\"}]},\"layout\":{\"annotationdefaults\":{\"arrowcolor\":\"#2a3f5f\",\"arrowhead\":0,\"arrowwidth\":1},\"autotypenumbers\":\"strict\",\"coloraxis\":{\"colorbar\":{\"outlinewidth\":0,\"ticks\":\"\"}},\"colorscale\":{\"diverging\":[[0,\"#8e0152\"],[0.1,\"#c51b7d\"],[0.2,\"#de77ae\"],[0.3,\"#f1b6da\"],[0.4,\"#fde0ef\"],[0.5,\"#f7f7f7\"],[0.6,\"#e6f5d0\"],[0.7,\"#b8e186\"],[0.8,\"#7fbc41\"],[0.9,\"#4d9221\"],[1,\"#276419\"]],\"sequential\":[[0.0,\"#0d0887\"],[0.1111111111111111,\"#46039f\"],[0.2222222222222222,\"#7201a8\"],[0.3333333333333333,\"#9c179e\"],[0.4444444444444444,\"#bd3786\"],[0.5555555555555556,\"#d8576b\"],[0.6666666666666666,\"#ed7953\"],[0.7777777777777778,\"#fb9f3a\"],[0.8888888888888888,\"#fdca26\"],[1.0,\"#f0f921\"]],\"sequentialminus\":[[0.0,\"#0d0887\"],[0.1111111111111111,\"#46039f\"],[0.2222222222222222,\"#7201a8\"],[0.3333333333333333,\"#9c179e\"],[0.4444444444444444,\"#bd3786\"],[0.5555555555555556,\"#d8576b\"],[0.6666666666666666,\"#ed7953\"],[0.7777777777777778,\"#fb9f3a\"],[0.8888888888888888,\"#fdca26\"],[1.0,\"#f0f921\"]]},\"colorway\":[\"#636efa\",\"#EF553B\",\"#00cc96\",\"#ab63fa\",\"#FFA15A\",\"#19d3f3\",\"#FF6692\",\"#B6E880\",\"#FF97FF\",\"#FECB52\"],\"font\":{\"color\":\"#2a3f5f\"},\"geo\":{\"bgcolor\":\"white\",\"lakecolor\":\"white\",\"landcolor\":\"#E5ECF6\",\"showlakes\":true,\"showland\":true,\"subunitcolor\":\"white\"},\"hoverlabel\":{\"align\":\"left\"},\"hovermode\":\"closest\",\"mapbox\":{\"style\":\"light\"},\"paper_bgcolor\":\"white\",\"plot_bgcolor\":\"#E5ECF6\",\"polar\":{\"angularaxis\":{\"gridcolor\":\"white\",\"linecolor\":\"white\",\"ticks\":\"\"},\"bgcolor\":\"#E5ECF6\",\"radialaxis\":{\"gridcolor\":\"white\",\"linecolor\":\"white\",\"ticks\":\"\"}},\"scene\":{\"xaxis\":{\"backgroundcolor\":\"#E5ECF6\",\"gridcolor\":\"white\",\"gridwidth\":2,\"linecolor\":\"white\",\"showbackground\":true,\"ticks\":\"\",\"zerolinecolor\":\"white\"},\"yaxis\":{\"backgroundcolor\":\"#E5ECF6\",\"gridcolor\":\"white\",\"gridwidth\":2,\"linecolor\":\"white\",\"showbackground\":true,\"ticks\":\"\",\"zerolinecolor\":\"white\"},\"zaxis\":{\"backgroundcolor\":\"#E5ECF6\",\"gridcolor\":\"white\",\"gridwidth\":2,\"linecolor\":\"white\",\"showbackground\":true,\"ticks\":\"\",\"zerolinecolor\":\"white\"}},\"shapedefaults\":{\"line\":{\"color\":\"#2a3f5f\"}},\"ternary\":{\"aaxis\":{\"gridcolor\":\"white\",\"linecolor\":\"white\",\"ticks\":\"\"},\"baxis\":{\"gridcolor\":\"white\",\"linecolor\":\"white\",\"ticks\":\"\"},\"bgcolor\":\"#E5ECF6\",\"caxis\":{\"gridcolor\":\"white\",\"linecolor\":\"white\",\"ticks\":\"\"}},\"title\":{\"x\":0.05},\"xaxis\":{\"automargin\":true,\"gridcolor\":\"white\",\"linecolor\":\"white\",\"ticks\":\"\",\"title\":{\"standoff\":15},\"zerolinecolor\":\"white\",\"zerolinewidth\":2},\"yaxis\":{\"automargin\":true,\"gridcolor\":\"white\",\"linecolor\":\"white\",\"ticks\":\"\",\"title\":{\"standoff\":15},\"zerolinecolor\":\"white\",\"zerolinewidth\":2}}},\"title\":{\"text\":\"Pressure and Density during NPT Equilibration\"},\"xaxis\":{\"anchor\":\"y\",\"domain\":[0.0,0.45],\"title\":{\"text\":\"Time (ps)\"}},\"xaxis2\":{\"anchor\":\"y2\",\"domain\":[0.55,1.0],\"title\":{\"text\":\"Time (ps)\"}},\"yaxis\":{\"anchor\":\"x\",\"domain\":[0.0,1.0],\"title\":{\"text\":\"Pressure (bar)\"}},\"yaxis2\":{\"anchor\":\"x2\",\"domain\":[0.0,1.0],\"title\":{\"text\":\"Density (Kg*m^-3)\"}}},                        {\"responsive\": true}                    ).then(function(){\n",
       "                            \n",
       "var gd = document.getElementById('22a91793-e752-4f13-a0af-7a10ce90abd2');\n",
       "var x = new MutationObserver(function (mutations, observer) {{\n",
       "        var display = window.getComputedStyle(gd).display;\n",
       "        if (!display || display === 'none') {{\n",
       "            console.log([gd, 'removed!']);\n",
       "            Plotly.purge(gd);\n",
       "            observer.disconnect();\n",
       "        }}\n",
       "}});\n",
       "\n",
       "// Listen for the removal of the full notebook cells\n",
       "var notebookContainer = gd.closest('#notebook-container');\n",
       "if (notebookContainer) {{\n",
       "    x.observe(notebookContainer, {childList: true});\n",
       "}}\n",
       "\n",
       "// Listen for the clearing of the current output cell\n",
       "var outputEl = gd.closest('.output');\n",
       "if (outputEl) {{\n",
       "    x.observe(outputEl, {childList: true});\n",
       "}}\n",
       "\n",
       "                        })                };                });            </script>        </div>"
      ]
     },
     "metadata": {},
     "output_type": "display_data"
    }
   ],
   "source": [
    "import plotly\n",
    "from plotly import subplots\n",
    "import plotly.graph_objs as go\n",
    "\n",
    "# Read pressure and density data from file \n",
    "with open(output_npt_pd_xvg,'r') as pd_file:\n",
    "    x,y,z = map(\n",
    "        list,\n",
    "        zip(*[\n",
    "            (float(line.split()[0]),float(line.split()[1]),float(line.split()[2]))\n",
    "            for line in pd_file \n",
    "            if not line.startswith((\"#\",\"@\")) \n",
    "        ])\n",
    "    )\n",
    "\n",
    "plotly.offline.init_notebook_mode(connected=True)\n",
    "\n",
    "trace1 = go.Scatter(\n",
    "    x=x,y=y\n",
    ")\n",
    "trace2 = go.Scatter(\n",
    "    x=x,y=z\n",
    ")\n",
    "\n",
    "fig = subplots.make_subplots(rows=1, cols=2, print_grid=False)\n",
    "\n",
    "fig.append_trace(trace1, 1, 1)\n",
    "fig.append_trace(trace2, 1, 2)\n",
    "\n",
    "fig['layout']['xaxis1'].update(title='Time (ps)')\n",
    "fig['layout']['xaxis2'].update(title='Time (ps)')\n",
    "fig['layout']['yaxis1'].update(title='Pressure (bar)')\n",
    "fig['layout']['yaxis2'].update(title='Density (Kg*m^-3)')\n",
    "\n",
    "fig['layout'].update(title='Pressure and Density during NPT Equilibration')\n",
    "fig['layout'].update(showlegend=False)\n",
    "\n",
    "plotly.offline.iplot(fig)"
   ]
  },
  {
   "cell_type": "markdown",
   "metadata": {},
   "source": [
    "<a id=\"free\"></a>\n",
    "***\n",
    "## Free Molecular Dynamics Simulation\n",
    "Upon completion of the **two equilibration phases (NVT and NPT)**, the system is now well-equilibrated at the desired temperature and pressure. The **position restraints** can now be released. The last step of the **protein-ligand complex** MD setup is a short, **free MD simulation**, to ensure the robustness of the system. \n",
    "- [Step 1](#mdStep1): Creating portable binary run file to run a **free MD simulation**.\n",
    "- [Step 2](#mdStep2): Run short MD simulation of the **protein-ligand complex**.\n",
    "- [Step 3](#mdStep3): Checking results for the final step of the setup process, the **free MD run**. Plotting **Root Mean Square deviation (RMSd)** and **Radius of Gyration (Rgyr)** by time during the **free MD run** step. \n",
    "***\n",
    "**Building Blocks** used:\n",
    " - [Grompp](https://biobb-md.readthedocs.io/en/latest/gromacs.html#module-gromacs.grompp) from **biobb_md.gromacs.grompp** \n",
    " - [Mdrun](https://biobb-md.readthedocs.io/en/latest/gromacs.html#module-gromacs.mdrun) from **biobb_md.gromacs.mdrun** \n",
    " - [GMXRms](https://biobb-analysis.readthedocs.io/en/latest/gromacs.html#module-gromacs.gmx_rms) from **biobb_analysis.gromacs.gmx_rms** \n",
    " - [GMXRgyr](https://biobb-analysis.readthedocs.io/en/latest/gromacs.html#module-gromacs.gmx_rgyr) from **biobb_analysis.gromacs.gmx_rgyr** \n",
    "***"
   ]
  },
  {
   "cell_type": "markdown",
   "metadata": {},
   "source": [
    "<a id=\"mdStep1\"></a>\n",
    "### Step 1: Creating portable binary run file to run a free MD simulation"
   ]
  },
  {
   "cell_type": "code",
   "execution_count": 35,
   "metadata": {
    "scrolled": true
   },
   "outputs": [
    {
     "name": "stdout",
     "output_type": "stream",
     "text": [
      "2021-07-02 08:44:15,850 [MainThread  ] [INFO ]  GROMACS Grompp 20190 version detected\n",
      "2021-07-02 08:44:15,857 [MainThread  ] [INFO ]  Extracting: /home/gbayarri_local/projects/BioBB/tutorials/biobb_wf_protein-complex_md_setup/biobb_wf_protein-complex_md_setup/notebooks/3HTB_JZ4_genion_top.zip\n",
      "2021-07-02 08:44:15,857 [MainThread  ] [INFO ]  to:\n",
      "2021-07-02 08:44:15,858 [MainThread  ] [INFO ]  ['4fa206e0-659e-4fe4-a775-391a25b85464/JZ4_posres.itp', '4fa206e0-659e-4fe4-a775-391a25b85464/JZ4params.itp', '4fa206e0-659e-4fe4-a775-391a25b85464/ligand.top', '4fa206e0-659e-4fe4-a775-391a25b85464/posre.itp']\n",
      "2021-07-02 08:44:15,859 [MainThread  ] [INFO ]  Unzipping: \n",
      "2021-07-02 08:44:15,860 [MainThread  ] [INFO ]  3HTB_JZ4_genion_top.zip\n",
      "2021-07-02 08:44:15,860 [MainThread  ] [INFO ]  To: \n",
      "2021-07-02 08:44:15,861 [MainThread  ] [INFO ]  4fa206e0-659e-4fe4-a775-391a25b85464/JZ4_posres.itp\n",
      "2021-07-02 08:44:15,862 [MainThread  ] [INFO ]  4fa206e0-659e-4fe4-a775-391a25b85464/JZ4params.itp\n",
      "2021-07-02 08:44:15,863 [MainThread  ] [INFO ]  4fa206e0-659e-4fe4-a775-391a25b85464/ligand.top\n",
      "2021-07-02 08:44:15,866 [MainThread  ] [INFO ]  4fa206e0-659e-4fe4-a775-391a25b85464/posre.itp\n",
      "2021-07-02 08:44:15,869 [MainThread  ] [INFO ]  Not using any container\n",
      "2021-07-02 08:44:16,219 [MainThread  ] [INFO ]  gmx -nobackup -nocopyright grompp -f b4ed0e5e-74cc-42b4-81a5-fe7e2465d24e/grompp.mdp -c 3HTB_JZ4_npt.gro -r 3HTB_JZ4_npt.gro -p 4fa206e0-659e-4fe4-a775-391a25b85464/ligand.top -o 3HTB_JZ4_gppmd.tpr -po mdout.mdp -maxwarn 0 -t 3HTB_JZ4_npt.cpt\n",
      "\n",
      "2021-07-02 08:44:16,220 [MainThread  ] [INFO ]  Exit code 0\n",
      "\n",
      "2021-07-02 08:44:16,221 [MainThread  ] [INFO ]  turning H bonds into constraints...\n",
      "turning H bonds into constraints...\n",
      "turning H bonds into constraints...\n",
      "turning H bonds into constraints...\n",
      "turning H bonds into constraints...\n",
      "Analysing residue names:\n",
      "There are:   163    Protein residues\n",
      "There are:     1      Other residues\n",
      "There are:  9505      Water residues\n",
      "There are:    26        Ion residues\n",
      "Analysing Protein...\n",
      "Analysing residues not classified as Protein/DNA/RNA/Water and splitting into groups...\n",
      "Analysing residues not classified as Protein/DNA/RNA/Water and splitting into groups...\n",
      "Determining Verlet buffer for a tolerance of 0.005 kJ/mol/ps at 300 K\n",
      "Calculated rlist for 1x1 atom pair-list as 1.035 nm, buffer size 0.035 nm\n",
      "Set rlist, assuming 4x4 atom pair-list, to 1.000 nm, buffer size 0.000 nm\n",
      "Note that mdrun will redetermine rlist based on the actual pair-list setup\n",
      "Calculating fourier grid dimensions for X Y Z\n",
      "Using a fourier grid of 64x64x64, spacing 0.115 0.115 0.115\n",
      "This run will generate roughly 11 Mb of data\n",
      "\n",
      "2021-07-02 08:44:16,221 [MainThread  ] [INFO ]                         :-) GROMACS - gmx grompp, 2019 (-:\n",
      "\n",
      "Executable:   /usr/local/gromacs/bin/gmx\n",
      "Data prefix:  /usr/local/gromacs\n",
      "Working dir:  /home/gbayarri_local/projects/BioBB/tutorials/biobb_wf_protein-complex_md_setup/biobb_wf_protein-complex_md_setup/notebooks\n",
      "Command line:\n",
      "  gmx -nobackup -nocopyright grompp -f b4ed0e5e-74cc-42b4-81a5-fe7e2465d24e/grompp.mdp -c 3HTB_JZ4_npt.gro -r 3HTB_JZ4_npt.gro -p 4fa206e0-659e-4fe4-a775-391a25b85464/ligand.top -o 3HTB_JZ4_gppmd.tpr -po mdout.mdp -maxwarn 0 -t 3HTB_JZ4_npt.cpt\n",
      "\n",
      "Setting the LD random seed to 1258841467\n",
      "Generated 2556 of the 2556 non-bonded parameter combinations\n",
      "Generating 1-4 interactions: fudge = 0.5\n",
      "Generated 2556 of the 2556 1-4 parameter combinations\n",
      "Excluding 3 bonded neighbours molecule type 'Protein_chain_A'\n",
      "Excluding 3 bonded neighbours molecule type 'JZ4params'\n",
      "Excluding 2 bonded neighbours molecule type 'SOL'\n",
      "Excluding 1 bonded neighbours molecule type 'NA'\n",
      "Excluding 1 bonded neighbours molecule type 'CL'\n",
      "Removing all charge groups because cutoff-scheme=Verlet\n",
      "Number of degrees of freedom in T-Coupling group Protein is 6528.69\n",
      "Number of degrees of freedom in T-Coupling group non-Protein is 57159.31\n",
      "Reading Coordinates, Velocities and Box size from old trajectory\n",
      "Will read whole trajectory\n",
      "Last frame         -1 time   10.000   \n",
      "Using frame at t = 10 ps\n",
      "Starting time for run is 0 ps\n",
      "Estimate for the relative computational load of the PME mesh part: 0.27\n",
      "\n",
      "GROMACS reminds you: \"You Can Be Too Early, You Can Be Too Late and You Can Be On Time\" (J. Cruijff)\n",
      "\n",
      "\n",
      "2021-07-02 08:44:16,223 [MainThread  ] [INFO ]  Removed: ['mdout.mdp', '4fa206e0-659e-4fe4-a775-391a25b85464', 'b4ed0e5e-74cc-42b4-81a5-fe7e2465d24e']\n"
     ]
    },
    {
     "data": {
      "text/plain": [
       "0"
      ]
     },
     "execution_count": 35,
     "metadata": {},
     "output_type": "execute_result"
    }
   ],
   "source": [
    "# Grompp: Creating portable binary run file for mdrun\n",
    "from biobb_md.gromacs.grompp import grompp\n",
    "\n",
    "# Create prop dict and inputs/outputs\n",
    "prop = {\n",
    "    'mdp':{\n",
    "        #'nsteps':'500000' # 1 ns (500,000 steps x 2fs per step)\n",
    "        #'nsteps':'5000' # 10 ps (5,000 steps x 2fs per step)\n",
    "        'nsteps':'25000' # 50 ps (25,000 steps x 2fs per step)\n",
    "    },\n",
    "    'simulation_type':'free'\n",
    "}\n",
    "output_gppmd_tpr = pdbCode+'_'+ligandCode + '_gppmd.tpr'\n",
    "\n",
    "# Create and launch bb\n",
    "grompp(input_gro_path=output_npt_gro,\n",
    "       input_top_zip_path=output_genion_top_zip,\n",
    "       output_tpr_path=output_gppmd_tpr,\n",
    "       input_cpt_path=output_npt_cpt,\n",
    "       properties=prop)"
   ]
  },
  {
   "cell_type": "markdown",
   "metadata": {},
   "source": [
    "<a id=\"mdStep2\"></a>\n",
    "### Step 2: Running short free MD simulation"
   ]
  },
  {
   "cell_type": "code",
   "execution_count": 36,
   "metadata": {
    "scrolled": true
   },
   "outputs": [
    {
     "name": "stdout",
     "output_type": "stream",
     "text": [
      "2021-07-02 08:44:21,189 [MainThread  ] [INFO ]  GROMACS Mdrun 20190 version detected\n",
      "2021-07-02 08:44:21,190 [MainThread  ] [INFO ]  Not using any container\n",
      "2021-07-02 08:49:10,854 [MainThread  ] [INFO ]  gmx -nobackup -nocopyright mdrun -s 3HTB_JZ4_gppmd.tpr -o 3HTB_JZ4_md.trr -c 3HTB_JZ4_md.gro -e 3HTB_JZ4_md.edr -g 3HTB_JZ4_md.log -cpo 3HTB_JZ4_md.cpt\n",
      "\n",
      "2021-07-02 08:49:10,855 [MainThread  ] [INFO ]  Exit code 0\n",
      "\n",
      "2021-07-02 08:49:10,855 [MainThread  ] [INFO ]                         :-) GROMACS - gmx mdrun, 2019 (-:\n",
      "\n",
      "Executable:   /usr/local/gromacs/bin/gmx\n",
      "Data prefix:  /usr/local/gromacs\n",
      "Working dir:  /home/gbayarri_local/projects/BioBB/tutorials/biobb_wf_protein-complex_md_setup/biobb_wf_protein-complex_md_setup/notebooks\n",
      "Command line:\n",
      "  gmx -nobackup -nocopyright mdrun -s 3HTB_JZ4_gppmd.tpr -o 3HTB_JZ4_md.trr -c 3HTB_JZ4_md.gro -e 3HTB_JZ4_md.edr -g 3HTB_JZ4_md.log -cpo 3HTB_JZ4_md.cpt\n",
      "\n",
      "Reading file 3HTB_JZ4_gppmd.tpr, VERSION 2019 (single precision)\n",
      "Changing nstlist from 10 to 50, rlist from 1 to 1.114\n",
      "\n",
      "Using 1 MPI thread\n",
      "Using 8 OpenMP threads \n",
      "\n",
      "starting mdrun 'Protein in water'\n",
      "25000 steps,     50.0 ps.\n",
      "\n",
      "Writing final coordinates.\n",
      "\n",
      "               Core t (s)   Wall t (s)        (%)\n",
      "       Time:     2304.842      288.105      800.0\n",
      "                 (ns/day)    (hour/ns)\n",
      "Performance:       14.995        1.601\n",
      "\n",
      "GROMACS reminds you: \"I Calculate My Birthright\" (P.J. Harvey)\n",
      "\n",
      "\n",
      "2021-07-02 08:49:10,856 [MainThread  ] [INFO ]  Removed: []\n"
     ]
    },
    {
     "data": {
      "text/plain": [
       "0"
      ]
     },
     "execution_count": 36,
     "metadata": {},
     "output_type": "execute_result"
    }
   ],
   "source": [
    "# Mdrun: Running free dynamics\n",
    "from biobb_md.gromacs.mdrun import mdrun\n",
    "\n",
    "# Create prop dict and inputs/outputs\n",
    "output_md_trr = pdbCode+'_'+ligandCode+'_md.trr'\n",
    "output_md_gro = pdbCode+'_'+ligandCode+'_md.gro'\n",
    "output_md_edr = pdbCode+'_'+ligandCode+'_md.edr'\n",
    "output_md_log = pdbCode+'_'+ligandCode+'_md.log'\n",
    "output_md_cpt = pdbCode+'_'+ligandCode+'_md.cpt'\n",
    "\n",
    "# Create and launch bb\n",
    "mdrun(input_tpr_path=output_gppmd_tpr,\n",
    "      output_trr_path=output_md_trr,\n",
    "      output_gro_path=output_md_gro,\n",
    "      output_edr_path=output_md_edr,\n",
    "      output_log_path=output_md_log,\n",
    "      output_cpt_path=output_md_cpt)"
   ]
  },
  {
   "cell_type": "markdown",
   "metadata": {},
   "source": [
    "<a id=\"mdStep3\"></a>\n",
    "### Step 3: Checking free MD simulation results\n",
    "Checking results for the final step of the setup process, the **free MD run**. Plotting **Root Mean Square deviation (RMSd)** and **Radius of Gyration (Rgyr)** by time during the **free MD run** step. **RMSd** against the **experimental structure** (input structure of the pipeline) and against the **minimized and equilibrated structure** (output structure of the NPT equilibration step)."
   ]
  },
  {
   "cell_type": "code",
   "execution_count": 37,
   "metadata": {
    "scrolled": false
   },
   "outputs": [
    {
     "name": "stdout",
     "output_type": "stream",
     "text": [
      "2021-07-02 09:18:18,734 [MainThread  ] [INFO ]  Not using any container\n",
      "2021-07-02 09:18:18,895 [MainThread  ] [INFO ]  echo 'Backbone Backbone' | gmx rms -s /home/gbayarri_local/projects/BioBB/tutorials/biobb_wf_protein-complex_md_setup/biobb_wf_protein-complex_md_setup/notebooks/3HTB_JZ4_gppmd.tpr -f /home/gbayarri_local/projects/BioBB/tutorials/biobb_wf_protein-complex_md_setup/biobb_wf_protein-complex_md_setup/notebooks/3HTB_JZ4_md.trr -o 3HTB_JZ4_rms_first.xvg -xvg none\n",
      "\n",
      "2021-07-02 09:18:18,896 [MainThread  ] [INFO ]  Exit code 0\n",
      "\n",
      "2021-07-02 09:18:18,897 [MainThread  ] [INFO ]  Selected 4: 'Backbone'\n",
      "Selected 4: 'Backbone'\n",
      "\n",
      "2021-07-02 09:18:18,897 [MainThread  ] [INFO ]                          :-) GROMACS - gmx rms, 2019 (-:\n",
      "\n",
      "                            GROMACS is written by:\n",
      "     Emile Apol      Rossen Apostolov      Paul Bauer     Herman J.C. Berendsen\n",
      "    Par Bjelkmar      Christian Blau   Viacheslav Bolnykh     Kevin Boyd    \n",
      " Aldert van Buuren   Rudi van Drunen     Anton Feenstra       Alan Gray     \n",
      "  Gerrit Groenhof     Anca Hamuraru    Vincent Hindriksen  M. Eric Irrgang  \n",
      "  Aleksei Iupinov   Christoph Junghans     Joe Jordan     Dimitrios Karkoulis\n",
      "    Peter Kasson        Jiri Kraus      Carsten Kutzner      Per Larsson    \n",
      "  Justin A. Lemkul    Viveca Lindahl    Magnus Lundborg     Erik Marklund   \n",
      "    Pascal Merz     Pieter Meulenhoff    Teemu Murtola       Szilard Pall   \n",
      "    Sander Pronk      Roland Schulz      Michael Shirts    Alexey Shvetsov  \n",
      "   Alfons Sijbers     Peter Tieleman      Jon Vincent      Teemu Virolainen \n",
      " Christian Wennberg    Maarten Wolf   \n",
      "                           and the project leaders:\n",
      "        Mark Abraham, Berk Hess, Erik Lindahl, and David van der Spoel\n",
      "\n",
      "Copyright (c) 1991-2000, University of Groningen, The Netherlands.\n",
      "Copyright (c) 2001-2018, The GROMACS development team at\n",
      "Uppsala University, Stockholm University and\n",
      "the Royal Institute of Technology, Sweden.\n",
      "check out http://www.gromacs.org for more information.\n",
      "\n",
      "GROMACS is free software; you can redistribute it and/or modify it\n",
      "under the terms of the GNU Lesser General Public License\n",
      "as published by the Free Software Foundation; either version 2.1\n",
      "of the License, or (at your option) any later version.\n",
      "\n",
      "GROMACS:      gmx rms, version 2019\n",
      "Executable:   /usr/local/gromacs/bin/gmx\n",
      "Data prefix:  /usr/local/gromacs\n",
      "Working dir:  /home/gbayarri_local/projects/BioBB/tutorials/biobb_wf_protein-complex_md_setup/biobb_wf_protein-complex_md_setup/notebooks\n",
      "Command line:\n",
      "  gmx rms -s /home/gbayarri_local/projects/BioBB/tutorials/biobb_wf_protein-complex_md_setup/biobb_wf_protein-complex_md_setup/notebooks/3HTB_JZ4_gppmd.tpr -f /home/gbayarri_local/projects/BioBB/tutorials/biobb_wf_protein-complex_md_setup/biobb_wf_protein-complex_md_setup/notebooks/3HTB_JZ4_md.trr -o 3HTB_JZ4_rms_first.xvg -xvg none\n",
      "\n",
      "Reading file /home/gbayarri_local/projects/BioBB/tutorials/biobb_wf_protein-complex_md_setup/biobb_wf_protein-complex_md_setup/notebooks/3HTB_JZ4_gppmd.tpr, VERSION 2019 (single precision)\n",
      "Reading file /home/gbayarri_local/projects/BioBB/tutorials/biobb_wf_protein-complex_md_setup/biobb_wf_protein-complex_md_setup/notebooks/3HTB_JZ4_gppmd.tpr, VERSION 2019 (single precision)\n",
      "Select group for least squares fit\n",
      "Group     0 (         System) has 31177 elements\n",
      "Group     1 (        Protein) has  2614 elements\n",
      "Group     2 (      Protein-H) has  1301 elements\n",
      "Group     3 (        C-alpha) has   163 elements\n",
      "Group     4 (       Backbone) has   489 elements\n",
      "Group     5 (      MainChain) has   653 elements\n",
      "Group     6 (   MainChain+Cb) has   805 elements\n",
      "Group     7 (    MainChain+H) has   815 elements\n",
      "Group     8 (      SideChain) has  1799 elements\n",
      "Group     9 (    SideChain-H) has   648 elements\n",
      "Group    10 (    Prot-Masses) has  2614 elements\n",
      "Group    11 (    non-Protein) has 28563 elements\n",
      "Group    12 (          Other) has    22 elements\n",
      "Group    13 (            JZ4) has    22 elements\n",
      "Group    14 (             NA) has    10 elements\n",
      "Group    15 (             CL) has    16 elements\n",
      "Group    16 (          Water) has 28515 elements\n",
      "Group    17 (            SOL) has 28515 elements\n",
      "Group    18 (      non-Water) has  2662 elements\n",
      "Group    19 (            Ion) has    26 elements\n",
      "Group    20 (            JZ4) has    22 elements\n",
      "Group    21 (             NA) has    10 elements\n",
      "Group    22 (             CL) has    16 elements\n",
      "Group    23 ( Water_and_ions) has 28541 elements\n",
      "Select a group: Select group for RMSD calculation\n",
      "Group     0 (         System) has 31177 elements\n",
      "Group     1 (        Protein) has  2614 elements\n",
      "Group     2 (      Protein-H) has  1301 elements\n",
      "Group     3 (        C-alpha) has   163 elements\n",
      "Group     4 (       Backbone) has   489 elements\n",
      "Group     5 (      MainChain) has   653 elements\n",
      "Group     6 (   MainChain+Cb) has   805 elements\n",
      "Group     7 (    MainChain+H) has   815 elements\n",
      "Group     8 (      SideChain) has  1799 elements\n",
      "Group     9 (    SideChain-H) has   648 elements\n",
      "Group    10 (    Prot-Masses) has  2614 elements\n",
      "Group    11 (    non-Protein) has 28563 elements\n",
      "Group    12 (          Other) has    22 elements\n",
      "Group    13 (            JZ4) has    22 elements\n",
      "Group    14 (             NA) has    10 elements\n",
      "Group    15 (             CL) has    16 elements\n",
      "Group    16 (          Water) has 28515 elements\n",
      "Group    17 (            SOL) has 28515 elements\n",
      "Group    18 (      non-Water) has  2662 elements\n",
      "Group    19 (            Ion) has    26 elements\n",
      "Group    20 (            JZ4) has    22 elements\n",
      "Group    21 (             NA) has    10 elements\n",
      "Group    22 (             CL) has    16 elements\n",
      "Group    23 ( Water_and_ions) has 28541 elements\n",
      "Select a group: trr version: GMX_trn_file (single precision)\n",
      "Last frame          5 time   50.000   \n",
      "\n",
      "GROMACS reminds you: \"Stop Drinking My Beer !\" (The Amps)\n",
      "\n",
      "\n"
     ]
    },
    {
     "data": {
      "text/plain": [
       "0"
      ]
     },
     "execution_count": 37,
     "metadata": {},
     "output_type": "execute_result"
    }
   ],
   "source": [
    "# GMXRms: Computing Root Mean Square deviation to analyse structural stability \n",
    "#         RMSd against minimized and equilibrated snapshot (backbone atoms)   \n",
    "\n",
    "from biobb_analysis.gromacs.gmx_rms import gmx_rms\n",
    "\n",
    "# Create prop dict and inputs/outputs\n",
    "output_rms_first = pdbCode+'_'+ligandCode+'_rms_first.xvg'\n",
    "prop = {\n",
    "    'selection':  'Backbone'\n",
    "}\n",
    "\n",
    "# Create and launch bb\n",
    "gmx_rms(input_structure_path=output_gppmd_tpr,\n",
    "         input_traj_path=output_md_trr,\n",
    "         output_xvg_path=output_rms_first, \n",
    "          properties=prop)"
   ]
  },
  {
   "cell_type": "code",
   "execution_count": 38,
   "metadata": {
    "scrolled": false
   },
   "outputs": [
    {
     "name": "stdout",
     "output_type": "stream",
     "text": [
      "2021-07-02 09:18:19,502 [MainThread  ] [INFO ]  Not using any container\n",
      "2021-07-02 09:18:19,653 [MainThread  ] [INFO ]  echo 'Backbone Backbone' | gmx rms -s /home/gbayarri_local/projects/BioBB/tutorials/biobb_wf_protein-complex_md_setup/biobb_wf_protein-complex_md_setup/notebooks/3HTB_JZ4_gppmin.tpr -f /home/gbayarri_local/projects/BioBB/tutorials/biobb_wf_protein-complex_md_setup/biobb_wf_protein-complex_md_setup/notebooks/3HTB_JZ4_md.trr -o 3HTB_JZ4_rms_exp.xvg -xvg none\n",
      "\n",
      "2021-07-02 09:18:19,654 [MainThread  ] [INFO ]  Exit code 0\n",
      "\n",
      "2021-07-02 09:18:19,655 [MainThread  ] [INFO ]  Selected 4: 'Backbone'\n",
      "Selected 4: 'Backbone'\n",
      "\n",
      "2021-07-02 09:18:19,655 [MainThread  ] [INFO ]                          :-) GROMACS - gmx rms, 2019 (-:\n",
      "\n",
      "                            GROMACS is written by:\n",
      "     Emile Apol      Rossen Apostolov      Paul Bauer     Herman J.C. Berendsen\n",
      "    Par Bjelkmar      Christian Blau   Viacheslav Bolnykh     Kevin Boyd    \n",
      " Aldert van Buuren   Rudi van Drunen     Anton Feenstra       Alan Gray     \n",
      "  Gerrit Groenhof     Anca Hamuraru    Vincent Hindriksen  M. Eric Irrgang  \n",
      "  Aleksei Iupinov   Christoph Junghans     Joe Jordan     Dimitrios Karkoulis\n",
      "    Peter Kasson        Jiri Kraus      Carsten Kutzner      Per Larsson    \n",
      "  Justin A. Lemkul    Viveca Lindahl    Magnus Lundborg     Erik Marklund   \n",
      "    Pascal Merz     Pieter Meulenhoff    Teemu Murtola       Szilard Pall   \n",
      "    Sander Pronk      Roland Schulz      Michael Shirts    Alexey Shvetsov  \n",
      "   Alfons Sijbers     Peter Tieleman      Jon Vincent      Teemu Virolainen \n",
      " Christian Wennberg    Maarten Wolf   \n",
      "                           and the project leaders:\n",
      "        Mark Abraham, Berk Hess, Erik Lindahl, and David van der Spoel\n",
      "\n",
      "Copyright (c) 1991-2000, University of Groningen, The Netherlands.\n",
      "Copyright (c) 2001-2018, The GROMACS development team at\n",
      "Uppsala University, Stockholm University and\n",
      "the Royal Institute of Technology, Sweden.\n",
      "check out http://www.gromacs.org for more information.\n",
      "\n",
      "GROMACS is free software; you can redistribute it and/or modify it\n",
      "under the terms of the GNU Lesser General Public License\n",
      "as published by the Free Software Foundation; either version 2.1\n",
      "of the License, or (at your option) any later version.\n",
      "\n",
      "GROMACS:      gmx rms, version 2019\n",
      "Executable:   /usr/local/gromacs/bin/gmx\n",
      "Data prefix:  /usr/local/gromacs\n",
      "Working dir:  /home/gbayarri_local/projects/BioBB/tutorials/biobb_wf_protein-complex_md_setup/biobb_wf_protein-complex_md_setup/notebooks\n",
      "Command line:\n",
      "  gmx rms -s /home/gbayarri_local/projects/BioBB/tutorials/biobb_wf_protein-complex_md_setup/biobb_wf_protein-complex_md_setup/notebooks/3HTB_JZ4_gppmin.tpr -f /home/gbayarri_local/projects/BioBB/tutorials/biobb_wf_protein-complex_md_setup/biobb_wf_protein-complex_md_setup/notebooks/3HTB_JZ4_md.trr -o 3HTB_JZ4_rms_exp.xvg -xvg none\n",
      "\n",
      "Reading file /home/gbayarri_local/projects/BioBB/tutorials/biobb_wf_protein-complex_md_setup/biobb_wf_protein-complex_md_setup/notebooks/3HTB_JZ4_gppmin.tpr, VERSION 2019 (single precision)\n",
      "Reading file /home/gbayarri_local/projects/BioBB/tutorials/biobb_wf_protein-complex_md_setup/biobb_wf_protein-complex_md_setup/notebooks/3HTB_JZ4_gppmin.tpr, VERSION 2019 (single precision)\n",
      "Select group for least squares fit\n",
      "Group     0 (         System) has 31177 elements\n",
      "Group     1 (        Protein) has  2614 elements\n",
      "Group     2 (      Protein-H) has  1301 elements\n",
      "Group     3 (        C-alpha) has   163 elements\n",
      "Group     4 (       Backbone) has   489 elements\n",
      "Group     5 (      MainChain) has   653 elements\n",
      "Group     6 (   MainChain+Cb) has   805 elements\n",
      "Group     7 (    MainChain+H) has   815 elements\n",
      "Group     8 (      SideChain) has  1799 elements\n",
      "Group     9 (    SideChain-H) has   648 elements\n",
      "Group    10 (    Prot-Masses) has  2614 elements\n",
      "Group    11 (    non-Protein) has 28563 elements\n",
      "Group    12 (          Other) has    22 elements\n",
      "Group    13 (            JZ4) has    22 elements\n",
      "Group    14 (             NA) has    10 elements\n",
      "Group    15 (             CL) has    16 elements\n",
      "Group    16 (          Water) has 28515 elements\n",
      "Group    17 (            SOL) has 28515 elements\n",
      "Group    18 (      non-Water) has  2662 elements\n",
      "Group    19 (            Ion) has    26 elements\n",
      "Group    20 (            JZ4) has    22 elements\n",
      "Group    21 (             NA) has    10 elements\n",
      "Group    22 (             CL) has    16 elements\n",
      "Group    23 ( Water_and_ions) has 28541 elements\n",
      "Select a group: Select group for RMSD calculation\n",
      "Group     0 (         System) has 31177 elements\n",
      "Group     1 (        Protein) has  2614 elements\n",
      "Group     2 (      Protein-H) has  1301 elements\n",
      "Group     3 (        C-alpha) has   163 elements\n",
      "Group     4 (       Backbone) has   489 elements\n",
      "Group     5 (      MainChain) has   653 elements\n",
      "Group     6 (   MainChain+Cb) has   805 elements\n",
      "Group     7 (    MainChain+H) has   815 elements\n",
      "Group     8 (      SideChain) has  1799 elements\n",
      "Group     9 (    SideChain-H) has   648 elements\n",
      "Group    10 (    Prot-Masses) has  2614 elements\n",
      "Group    11 (    non-Protein) has 28563 elements\n",
      "Group    12 (          Other) has    22 elements\n",
      "Group    13 (            JZ4) has    22 elements\n",
      "Group    14 (             NA) has    10 elements\n",
      "Group    15 (             CL) has    16 elements\n",
      "Group    16 (          Water) has 28515 elements\n",
      "Group    17 (            SOL) has 28515 elements\n",
      "Group    18 (      non-Water) has  2662 elements\n",
      "Group    19 (            Ion) has    26 elements\n",
      "Group    20 (            JZ4) has    22 elements\n",
      "Group    21 (             NA) has    10 elements\n",
      "Group    22 (             CL) has    16 elements\n",
      "Group    23 ( Water_and_ions) has 28541 elements\n",
      "Select a group: trr version: GMX_trn_file (single precision)\n",
      "Last frame          5 time   50.000   \n",
      "\n",
      "GROMACS reminds you: \"Beat On the Brat With a Baseball Bat\" (The Ramones)\n",
      "\n",
      "\n"
     ]
    },
    {
     "data": {
      "text/plain": [
       "0"
      ]
     },
     "execution_count": 38,
     "metadata": {},
     "output_type": "execute_result"
    }
   ],
   "source": [
    "# GMXRms: Computing Root Mean Square deviation to analyse structural stability \n",
    "#         RMSd against experimental structure (backbone atoms)   \n",
    "\n",
    "from biobb_analysis.gromacs.gmx_rms import gmx_rms\n",
    "\n",
    "# Create prop dict and inputs/outputs\n",
    "output_rms_exp = pdbCode+'_'+ligandCode+'_rms_exp.xvg'\n",
    "prop = {\n",
    "    'selection':  'Backbone'\n",
    "}\n",
    "\n",
    "# Create and launch bb\n",
    "gmx_rms(input_structure_path=output_gppmin_tpr,\n",
    "         input_traj_path=output_md_trr,\n",
    "         output_xvg_path=output_rms_exp, \n",
    "          properties=prop)"
   ]
  },
  {
   "cell_type": "code",
   "execution_count": 39,
   "metadata": {
    "scrolled": false
   },
   "outputs": [
    {
     "data": {
      "text/html": [
       "        <script type=\"text/javascript\">\n",
       "        window.PlotlyConfig = {MathJaxConfig: 'local'};\n",
       "        if (window.MathJax) {MathJax.Hub.Config({SVG: {font: \"STIX-Web\"}});}\n",
       "        if (typeof require !== 'undefined') {\n",
       "        require.undef(\"plotly\");\n",
       "        requirejs.config({\n",
       "            paths: {\n",
       "                'plotly': ['https://cdn.plot.ly/plotly-2.2.0.min']\n",
       "            }\n",
       "        });\n",
       "        require(['plotly'], function(Plotly) {\n",
       "            window._Plotly = Plotly;\n",
       "        });\n",
       "        }\n",
       "        </script>\n",
       "        "
      ]
     },
     "metadata": {},
     "output_type": "display_data"
    },
    {
     "data": {
      "application/vnd.plotly.v1+json": {
       "config": {
        "linkText": "Export to plot.ly",
        "plotlyServerURL": "https://plot.ly",
        "showLink": false
       },
       "data": [
        {
         "name": "RMSd vs first",
         "type": "scatter",
         "x": [
          0,
          10,
          20,
          30,
          40,
          50
         ],
         "y": [
          2e-07,
          0.0603945,
          0.0614058,
          0.0591318,
          0.0540998,
          0.0562178
         ]
        },
        {
         "name": "RMSd vs exp",
         "type": "scatter",
         "x": [
          0,
          10,
          20,
          30,
          40,
          50
         ],
         "y": [
          0.028848,
          0.0660811,
          0.0657049,
          0.0648213,
          0.0610359,
          0.0610651
         ]
        }
       ],
       "layout": {
        "template": {
         "data": {
          "bar": [
           {
            "error_x": {
             "color": "#2a3f5f"
            },
            "error_y": {
             "color": "#2a3f5f"
            },
            "marker": {
             "line": {
              "color": "#E5ECF6",
              "width": 0.5
             },
             "pattern": {
              "fillmode": "overlay",
              "size": 10,
              "solidity": 0.2
             }
            },
            "type": "bar"
           }
          ],
          "barpolar": [
           {
            "marker": {
             "line": {
              "color": "#E5ECF6",
              "width": 0.5
             },
             "pattern": {
              "fillmode": "overlay",
              "size": 10,
              "solidity": 0.2
             }
            },
            "type": "barpolar"
           }
          ],
          "carpet": [
           {
            "aaxis": {
             "endlinecolor": "#2a3f5f",
             "gridcolor": "white",
             "linecolor": "white",
             "minorgridcolor": "white",
             "startlinecolor": "#2a3f5f"
            },
            "baxis": {
             "endlinecolor": "#2a3f5f",
             "gridcolor": "white",
             "linecolor": "white",
             "minorgridcolor": "white",
             "startlinecolor": "#2a3f5f"
            },
            "type": "carpet"
           }
          ],
          "choropleth": [
           {
            "colorbar": {
             "outlinewidth": 0,
             "ticks": ""
            },
            "type": "choropleth"
           }
          ],
          "contour": [
           {
            "colorbar": {
             "outlinewidth": 0,
             "ticks": ""
            },
            "colorscale": [
             [
              0,
              "#0d0887"
             ],
             [
              0.1111111111111111,
              "#46039f"
             ],
             [
              0.2222222222222222,
              "#7201a8"
             ],
             [
              0.3333333333333333,
              "#9c179e"
             ],
             [
              0.4444444444444444,
              "#bd3786"
             ],
             [
              0.5555555555555556,
              "#d8576b"
             ],
             [
              0.6666666666666666,
              "#ed7953"
             ],
             [
              0.7777777777777778,
              "#fb9f3a"
             ],
             [
              0.8888888888888888,
              "#fdca26"
             ],
             [
              1,
              "#f0f921"
             ]
            ],
            "type": "contour"
           }
          ],
          "contourcarpet": [
           {
            "colorbar": {
             "outlinewidth": 0,
             "ticks": ""
            },
            "type": "contourcarpet"
           }
          ],
          "heatmap": [
           {
            "colorbar": {
             "outlinewidth": 0,
             "ticks": ""
            },
            "colorscale": [
             [
              0,
              "#0d0887"
             ],
             [
              0.1111111111111111,
              "#46039f"
             ],
             [
              0.2222222222222222,
              "#7201a8"
             ],
             [
              0.3333333333333333,
              "#9c179e"
             ],
             [
              0.4444444444444444,
              "#bd3786"
             ],
             [
              0.5555555555555556,
              "#d8576b"
             ],
             [
              0.6666666666666666,
              "#ed7953"
             ],
             [
              0.7777777777777778,
              "#fb9f3a"
             ],
             [
              0.8888888888888888,
              "#fdca26"
             ],
             [
              1,
              "#f0f921"
             ]
            ],
            "type": "heatmap"
           }
          ],
          "heatmapgl": [
           {
            "colorbar": {
             "outlinewidth": 0,
             "ticks": ""
            },
            "colorscale": [
             [
              0,
              "#0d0887"
             ],
             [
              0.1111111111111111,
              "#46039f"
             ],
             [
              0.2222222222222222,
              "#7201a8"
             ],
             [
              0.3333333333333333,
              "#9c179e"
             ],
             [
              0.4444444444444444,
              "#bd3786"
             ],
             [
              0.5555555555555556,
              "#d8576b"
             ],
             [
              0.6666666666666666,
              "#ed7953"
             ],
             [
              0.7777777777777778,
              "#fb9f3a"
             ],
             [
              0.8888888888888888,
              "#fdca26"
             ],
             [
              1,
              "#f0f921"
             ]
            ],
            "type": "heatmapgl"
           }
          ],
          "histogram": [
           {
            "marker": {
             "pattern": {
              "fillmode": "overlay",
              "size": 10,
              "solidity": 0.2
             }
            },
            "type": "histogram"
           }
          ],
          "histogram2d": [
           {
            "colorbar": {
             "outlinewidth": 0,
             "ticks": ""
            },
            "colorscale": [
             [
              0,
              "#0d0887"
             ],
             [
              0.1111111111111111,
              "#46039f"
             ],
             [
              0.2222222222222222,
              "#7201a8"
             ],
             [
              0.3333333333333333,
              "#9c179e"
             ],
             [
              0.4444444444444444,
              "#bd3786"
             ],
             [
              0.5555555555555556,
              "#d8576b"
             ],
             [
              0.6666666666666666,
              "#ed7953"
             ],
             [
              0.7777777777777778,
              "#fb9f3a"
             ],
             [
              0.8888888888888888,
              "#fdca26"
             ],
             [
              1,
              "#f0f921"
             ]
            ],
            "type": "histogram2d"
           }
          ],
          "histogram2dcontour": [
           {
            "colorbar": {
             "outlinewidth": 0,
             "ticks": ""
            },
            "colorscale": [
             [
              0,
              "#0d0887"
             ],
             [
              0.1111111111111111,
              "#46039f"
             ],
             [
              0.2222222222222222,
              "#7201a8"
             ],
             [
              0.3333333333333333,
              "#9c179e"
             ],
             [
              0.4444444444444444,
              "#bd3786"
             ],
             [
              0.5555555555555556,
              "#d8576b"
             ],
             [
              0.6666666666666666,
              "#ed7953"
             ],
             [
              0.7777777777777778,
              "#fb9f3a"
             ],
             [
              0.8888888888888888,
              "#fdca26"
             ],
             [
              1,
              "#f0f921"
             ]
            ],
            "type": "histogram2dcontour"
           }
          ],
          "mesh3d": [
           {
            "colorbar": {
             "outlinewidth": 0,
             "ticks": ""
            },
            "type": "mesh3d"
           }
          ],
          "parcoords": [
           {
            "line": {
             "colorbar": {
              "outlinewidth": 0,
              "ticks": ""
             }
            },
            "type": "parcoords"
           }
          ],
          "pie": [
           {
            "automargin": true,
            "type": "pie"
           }
          ],
          "scatter": [
           {
            "marker": {
             "colorbar": {
              "outlinewidth": 0,
              "ticks": ""
             }
            },
            "type": "scatter"
           }
          ],
          "scatter3d": [
           {
            "line": {
             "colorbar": {
              "outlinewidth": 0,
              "ticks": ""
             }
            },
            "marker": {
             "colorbar": {
              "outlinewidth": 0,
              "ticks": ""
             }
            },
            "type": "scatter3d"
           }
          ],
          "scattercarpet": [
           {
            "marker": {
             "colorbar": {
              "outlinewidth": 0,
              "ticks": ""
             }
            },
            "type": "scattercarpet"
           }
          ],
          "scattergeo": [
           {
            "marker": {
             "colorbar": {
              "outlinewidth": 0,
              "ticks": ""
             }
            },
            "type": "scattergeo"
           }
          ],
          "scattergl": [
           {
            "marker": {
             "colorbar": {
              "outlinewidth": 0,
              "ticks": ""
             }
            },
            "type": "scattergl"
           }
          ],
          "scattermapbox": [
           {
            "marker": {
             "colorbar": {
              "outlinewidth": 0,
              "ticks": ""
             }
            },
            "type": "scattermapbox"
           }
          ],
          "scatterpolar": [
           {
            "marker": {
             "colorbar": {
              "outlinewidth": 0,
              "ticks": ""
             }
            },
            "type": "scatterpolar"
           }
          ],
          "scatterpolargl": [
           {
            "marker": {
             "colorbar": {
              "outlinewidth": 0,
              "ticks": ""
             }
            },
            "type": "scatterpolargl"
           }
          ],
          "scatterternary": [
           {
            "marker": {
             "colorbar": {
              "outlinewidth": 0,
              "ticks": ""
             }
            },
            "type": "scatterternary"
           }
          ],
          "surface": [
           {
            "colorbar": {
             "outlinewidth": 0,
             "ticks": ""
            },
            "colorscale": [
             [
              0,
              "#0d0887"
             ],
             [
              0.1111111111111111,
              "#46039f"
             ],
             [
              0.2222222222222222,
              "#7201a8"
             ],
             [
              0.3333333333333333,
              "#9c179e"
             ],
             [
              0.4444444444444444,
              "#bd3786"
             ],
             [
              0.5555555555555556,
              "#d8576b"
             ],
             [
              0.6666666666666666,
              "#ed7953"
             ],
             [
              0.7777777777777778,
              "#fb9f3a"
             ],
             [
              0.8888888888888888,
              "#fdca26"
             ],
             [
              1,
              "#f0f921"
             ]
            ],
            "type": "surface"
           }
          ],
          "table": [
           {
            "cells": {
             "fill": {
              "color": "#EBF0F8"
             },
             "line": {
              "color": "white"
             }
            },
            "header": {
             "fill": {
              "color": "#C8D4E3"
             },
             "line": {
              "color": "white"
             }
            },
            "type": "table"
           }
          ]
         },
         "layout": {
          "annotationdefaults": {
           "arrowcolor": "#2a3f5f",
           "arrowhead": 0,
           "arrowwidth": 1
          },
          "autotypenumbers": "strict",
          "coloraxis": {
           "colorbar": {
            "outlinewidth": 0,
            "ticks": ""
           }
          },
          "colorscale": {
           "diverging": [
            [
             0,
             "#8e0152"
            ],
            [
             0.1,
             "#c51b7d"
            ],
            [
             0.2,
             "#de77ae"
            ],
            [
             0.3,
             "#f1b6da"
            ],
            [
             0.4,
             "#fde0ef"
            ],
            [
             0.5,
             "#f7f7f7"
            ],
            [
             0.6,
             "#e6f5d0"
            ],
            [
             0.7,
             "#b8e186"
            ],
            [
             0.8,
             "#7fbc41"
            ],
            [
             0.9,
             "#4d9221"
            ],
            [
             1,
             "#276419"
            ]
           ],
           "sequential": [
            [
             0,
             "#0d0887"
            ],
            [
             0.1111111111111111,
             "#46039f"
            ],
            [
             0.2222222222222222,
             "#7201a8"
            ],
            [
             0.3333333333333333,
             "#9c179e"
            ],
            [
             0.4444444444444444,
             "#bd3786"
            ],
            [
             0.5555555555555556,
             "#d8576b"
            ],
            [
             0.6666666666666666,
             "#ed7953"
            ],
            [
             0.7777777777777778,
             "#fb9f3a"
            ],
            [
             0.8888888888888888,
             "#fdca26"
            ],
            [
             1,
             "#f0f921"
            ]
           ],
           "sequentialminus": [
            [
             0,
             "#0d0887"
            ],
            [
             0.1111111111111111,
             "#46039f"
            ],
            [
             0.2222222222222222,
             "#7201a8"
            ],
            [
             0.3333333333333333,
             "#9c179e"
            ],
            [
             0.4444444444444444,
             "#bd3786"
            ],
            [
             0.5555555555555556,
             "#d8576b"
            ],
            [
             0.6666666666666666,
             "#ed7953"
            ],
            [
             0.7777777777777778,
             "#fb9f3a"
            ],
            [
             0.8888888888888888,
             "#fdca26"
            ],
            [
             1,
             "#f0f921"
            ]
           ]
          },
          "colorway": [
           "#636efa",
           "#EF553B",
           "#00cc96",
           "#ab63fa",
           "#FFA15A",
           "#19d3f3",
           "#FF6692",
           "#B6E880",
           "#FF97FF",
           "#FECB52"
          ],
          "font": {
           "color": "#2a3f5f"
          },
          "geo": {
           "bgcolor": "white",
           "lakecolor": "white",
           "landcolor": "#E5ECF6",
           "showlakes": true,
           "showland": true,
           "subunitcolor": "white"
          },
          "hoverlabel": {
           "align": "left"
          },
          "hovermode": "closest",
          "mapbox": {
           "style": "light"
          },
          "paper_bgcolor": "white",
          "plot_bgcolor": "#E5ECF6",
          "polar": {
           "angularaxis": {
            "gridcolor": "white",
            "linecolor": "white",
            "ticks": ""
           },
           "bgcolor": "#E5ECF6",
           "radialaxis": {
            "gridcolor": "white",
            "linecolor": "white",
            "ticks": ""
           }
          },
          "scene": {
           "xaxis": {
            "backgroundcolor": "#E5ECF6",
            "gridcolor": "white",
            "gridwidth": 2,
            "linecolor": "white",
            "showbackground": true,
            "ticks": "",
            "zerolinecolor": "white"
           },
           "yaxis": {
            "backgroundcolor": "#E5ECF6",
            "gridcolor": "white",
            "gridwidth": 2,
            "linecolor": "white",
            "showbackground": true,
            "ticks": "",
            "zerolinecolor": "white"
           },
           "zaxis": {
            "backgroundcolor": "#E5ECF6",
            "gridcolor": "white",
            "gridwidth": 2,
            "linecolor": "white",
            "showbackground": true,
            "ticks": "",
            "zerolinecolor": "white"
           }
          },
          "shapedefaults": {
           "line": {
            "color": "#2a3f5f"
           }
          },
          "ternary": {
           "aaxis": {
            "gridcolor": "white",
            "linecolor": "white",
            "ticks": ""
           },
           "baxis": {
            "gridcolor": "white",
            "linecolor": "white",
            "ticks": ""
           },
           "bgcolor": "#E5ECF6",
           "caxis": {
            "gridcolor": "white",
            "linecolor": "white",
            "ticks": ""
           }
          },
          "title": {
           "x": 0.05
          },
          "xaxis": {
           "automargin": true,
           "gridcolor": "white",
           "linecolor": "white",
           "ticks": "",
           "title": {
            "standoff": 15
           },
           "zerolinecolor": "white",
           "zerolinewidth": 2
          },
          "yaxis": {
           "automargin": true,
           "gridcolor": "white",
           "linecolor": "white",
           "ticks": "",
           "title": {
            "standoff": 15
           },
           "zerolinecolor": "white",
           "zerolinewidth": 2
          }
         }
        },
        "title": {
         "text": "RMSd during free MD Simulation"
        },
        "xaxis": {
         "title": {
          "text": "Time (ps)"
         }
        },
        "yaxis": {
         "title": {
          "text": "RMSd (nm)"
         }
        }
       }
      },
      "text/html": [
       "<div>                            <div id=\"6520a2fc-eab6-4ecc-9a9c-0d9e65fbcb09\" class=\"plotly-graph-div\" style=\"height:525px; width:100%;\"></div>            <script type=\"text/javascript\">                require([\"plotly\"], function(Plotly) {                    window.PLOTLYENV=window.PLOTLYENV || {};                                    if (document.getElementById(\"6520a2fc-eab6-4ecc-9a9c-0d9e65fbcb09\")) {                    Plotly.newPlot(                        \"6520a2fc-eab6-4ecc-9a9c-0d9e65fbcb09\",                        [{\"name\":\"RMSd vs first\",\"type\":\"scatter\",\"x\":[0.0,10.0,20.0,30.0,40.0,50.0],\"y\":[2e-07,0.0603945,0.0614058,0.0591318,0.0540998,0.0562178]},{\"name\":\"RMSd vs exp\",\"type\":\"scatter\",\"x\":[0.0,10.0,20.0,30.0,40.0,50.0],\"y\":[0.028848,0.0660811,0.0657049,0.0648213,0.0610359,0.0610651]}],                        {\"template\":{\"data\":{\"bar\":[{\"error_x\":{\"color\":\"#2a3f5f\"},\"error_y\":{\"color\":\"#2a3f5f\"},\"marker\":{\"line\":{\"color\":\"#E5ECF6\",\"width\":0.5},\"pattern\":{\"fillmode\":\"overlay\",\"size\":10,\"solidity\":0.2}},\"type\":\"bar\"}],\"barpolar\":[{\"marker\":{\"line\":{\"color\":\"#E5ECF6\",\"width\":0.5},\"pattern\":{\"fillmode\":\"overlay\",\"size\":10,\"solidity\":0.2}},\"type\":\"barpolar\"}],\"carpet\":[{\"aaxis\":{\"endlinecolor\":\"#2a3f5f\",\"gridcolor\":\"white\",\"linecolor\":\"white\",\"minorgridcolor\":\"white\",\"startlinecolor\":\"#2a3f5f\"},\"baxis\":{\"endlinecolor\":\"#2a3f5f\",\"gridcolor\":\"white\",\"linecolor\":\"white\",\"minorgridcolor\":\"white\",\"startlinecolor\":\"#2a3f5f\"},\"type\":\"carpet\"}],\"choropleth\":[{\"colorbar\":{\"outlinewidth\":0,\"ticks\":\"\"},\"type\":\"choropleth\"}],\"contour\":[{\"colorbar\":{\"outlinewidth\":0,\"ticks\":\"\"},\"colorscale\":[[0.0,\"#0d0887\"],[0.1111111111111111,\"#46039f\"],[0.2222222222222222,\"#7201a8\"],[0.3333333333333333,\"#9c179e\"],[0.4444444444444444,\"#bd3786\"],[0.5555555555555556,\"#d8576b\"],[0.6666666666666666,\"#ed7953\"],[0.7777777777777778,\"#fb9f3a\"],[0.8888888888888888,\"#fdca26\"],[1.0,\"#f0f921\"]],\"type\":\"contour\"}],\"contourcarpet\":[{\"colorbar\":{\"outlinewidth\":0,\"ticks\":\"\"},\"type\":\"contourcarpet\"}],\"heatmap\":[{\"colorbar\":{\"outlinewidth\":0,\"ticks\":\"\"},\"colorscale\":[[0.0,\"#0d0887\"],[0.1111111111111111,\"#46039f\"],[0.2222222222222222,\"#7201a8\"],[0.3333333333333333,\"#9c179e\"],[0.4444444444444444,\"#bd3786\"],[0.5555555555555556,\"#d8576b\"],[0.6666666666666666,\"#ed7953\"],[0.7777777777777778,\"#fb9f3a\"],[0.8888888888888888,\"#fdca26\"],[1.0,\"#f0f921\"]],\"type\":\"heatmap\"}],\"heatmapgl\":[{\"colorbar\":{\"outlinewidth\":0,\"ticks\":\"\"},\"colorscale\":[[0.0,\"#0d0887\"],[0.1111111111111111,\"#46039f\"],[0.2222222222222222,\"#7201a8\"],[0.3333333333333333,\"#9c179e\"],[0.4444444444444444,\"#bd3786\"],[0.5555555555555556,\"#d8576b\"],[0.6666666666666666,\"#ed7953\"],[0.7777777777777778,\"#fb9f3a\"],[0.8888888888888888,\"#fdca26\"],[1.0,\"#f0f921\"]],\"type\":\"heatmapgl\"}],\"histogram\":[{\"marker\":{\"pattern\":{\"fillmode\":\"overlay\",\"size\":10,\"solidity\":0.2}},\"type\":\"histogram\"}],\"histogram2d\":[{\"colorbar\":{\"outlinewidth\":0,\"ticks\":\"\"},\"colorscale\":[[0.0,\"#0d0887\"],[0.1111111111111111,\"#46039f\"],[0.2222222222222222,\"#7201a8\"],[0.3333333333333333,\"#9c179e\"],[0.4444444444444444,\"#bd3786\"],[0.5555555555555556,\"#d8576b\"],[0.6666666666666666,\"#ed7953\"],[0.7777777777777778,\"#fb9f3a\"],[0.8888888888888888,\"#fdca26\"],[1.0,\"#f0f921\"]],\"type\":\"histogram2d\"}],\"histogram2dcontour\":[{\"colorbar\":{\"outlinewidth\":0,\"ticks\":\"\"},\"colorscale\":[[0.0,\"#0d0887\"],[0.1111111111111111,\"#46039f\"],[0.2222222222222222,\"#7201a8\"],[0.3333333333333333,\"#9c179e\"],[0.4444444444444444,\"#bd3786\"],[0.5555555555555556,\"#d8576b\"],[0.6666666666666666,\"#ed7953\"],[0.7777777777777778,\"#fb9f3a\"],[0.8888888888888888,\"#fdca26\"],[1.0,\"#f0f921\"]],\"type\":\"histogram2dcontour\"}],\"mesh3d\":[{\"colorbar\":{\"outlinewidth\":0,\"ticks\":\"\"},\"type\":\"mesh3d\"}],\"parcoords\":[{\"line\":{\"colorbar\":{\"outlinewidth\":0,\"ticks\":\"\"}},\"type\":\"parcoords\"}],\"pie\":[{\"automargin\":true,\"type\":\"pie\"}],\"scatter\":[{\"marker\":{\"colorbar\":{\"outlinewidth\":0,\"ticks\":\"\"}},\"type\":\"scatter\"}],\"scatter3d\":[{\"line\":{\"colorbar\":{\"outlinewidth\":0,\"ticks\":\"\"}},\"marker\":{\"colorbar\":{\"outlinewidth\":0,\"ticks\":\"\"}},\"type\":\"scatter3d\"}],\"scattercarpet\":[{\"marker\":{\"colorbar\":{\"outlinewidth\":0,\"ticks\":\"\"}},\"type\":\"scattercarpet\"}],\"scattergeo\":[{\"marker\":{\"colorbar\":{\"outlinewidth\":0,\"ticks\":\"\"}},\"type\":\"scattergeo\"}],\"scattergl\":[{\"marker\":{\"colorbar\":{\"outlinewidth\":0,\"ticks\":\"\"}},\"type\":\"scattergl\"}],\"scattermapbox\":[{\"marker\":{\"colorbar\":{\"outlinewidth\":0,\"ticks\":\"\"}},\"type\":\"scattermapbox\"}],\"scatterpolar\":[{\"marker\":{\"colorbar\":{\"outlinewidth\":0,\"ticks\":\"\"}},\"type\":\"scatterpolar\"}],\"scatterpolargl\":[{\"marker\":{\"colorbar\":{\"outlinewidth\":0,\"ticks\":\"\"}},\"type\":\"scatterpolargl\"}],\"scatterternary\":[{\"marker\":{\"colorbar\":{\"outlinewidth\":0,\"ticks\":\"\"}},\"type\":\"scatterternary\"}],\"surface\":[{\"colorbar\":{\"outlinewidth\":0,\"ticks\":\"\"},\"colorscale\":[[0.0,\"#0d0887\"],[0.1111111111111111,\"#46039f\"],[0.2222222222222222,\"#7201a8\"],[0.3333333333333333,\"#9c179e\"],[0.4444444444444444,\"#bd3786\"],[0.5555555555555556,\"#d8576b\"],[0.6666666666666666,\"#ed7953\"],[0.7777777777777778,\"#fb9f3a\"],[0.8888888888888888,\"#fdca26\"],[1.0,\"#f0f921\"]],\"type\":\"surface\"}],\"table\":[{\"cells\":{\"fill\":{\"color\":\"#EBF0F8\"},\"line\":{\"color\":\"white\"}},\"header\":{\"fill\":{\"color\":\"#C8D4E3\"},\"line\":{\"color\":\"white\"}},\"type\":\"table\"}]},\"layout\":{\"annotationdefaults\":{\"arrowcolor\":\"#2a3f5f\",\"arrowhead\":0,\"arrowwidth\":1},\"autotypenumbers\":\"strict\",\"coloraxis\":{\"colorbar\":{\"outlinewidth\":0,\"ticks\":\"\"}},\"colorscale\":{\"diverging\":[[0,\"#8e0152\"],[0.1,\"#c51b7d\"],[0.2,\"#de77ae\"],[0.3,\"#f1b6da\"],[0.4,\"#fde0ef\"],[0.5,\"#f7f7f7\"],[0.6,\"#e6f5d0\"],[0.7,\"#b8e186\"],[0.8,\"#7fbc41\"],[0.9,\"#4d9221\"],[1,\"#276419\"]],\"sequential\":[[0.0,\"#0d0887\"],[0.1111111111111111,\"#46039f\"],[0.2222222222222222,\"#7201a8\"],[0.3333333333333333,\"#9c179e\"],[0.4444444444444444,\"#bd3786\"],[0.5555555555555556,\"#d8576b\"],[0.6666666666666666,\"#ed7953\"],[0.7777777777777778,\"#fb9f3a\"],[0.8888888888888888,\"#fdca26\"],[1.0,\"#f0f921\"]],\"sequentialminus\":[[0.0,\"#0d0887\"],[0.1111111111111111,\"#46039f\"],[0.2222222222222222,\"#7201a8\"],[0.3333333333333333,\"#9c179e\"],[0.4444444444444444,\"#bd3786\"],[0.5555555555555556,\"#d8576b\"],[0.6666666666666666,\"#ed7953\"],[0.7777777777777778,\"#fb9f3a\"],[0.8888888888888888,\"#fdca26\"],[1.0,\"#f0f921\"]]},\"colorway\":[\"#636efa\",\"#EF553B\",\"#00cc96\",\"#ab63fa\",\"#FFA15A\",\"#19d3f3\",\"#FF6692\",\"#B6E880\",\"#FF97FF\",\"#FECB52\"],\"font\":{\"color\":\"#2a3f5f\"},\"geo\":{\"bgcolor\":\"white\",\"lakecolor\":\"white\",\"landcolor\":\"#E5ECF6\",\"showlakes\":true,\"showland\":true,\"subunitcolor\":\"white\"},\"hoverlabel\":{\"align\":\"left\"},\"hovermode\":\"closest\",\"mapbox\":{\"style\":\"light\"},\"paper_bgcolor\":\"white\",\"plot_bgcolor\":\"#E5ECF6\",\"polar\":{\"angularaxis\":{\"gridcolor\":\"white\",\"linecolor\":\"white\",\"ticks\":\"\"},\"bgcolor\":\"#E5ECF6\",\"radialaxis\":{\"gridcolor\":\"white\",\"linecolor\":\"white\",\"ticks\":\"\"}},\"scene\":{\"xaxis\":{\"backgroundcolor\":\"#E5ECF6\",\"gridcolor\":\"white\",\"gridwidth\":2,\"linecolor\":\"white\",\"showbackground\":true,\"ticks\":\"\",\"zerolinecolor\":\"white\"},\"yaxis\":{\"backgroundcolor\":\"#E5ECF6\",\"gridcolor\":\"white\",\"gridwidth\":2,\"linecolor\":\"white\",\"showbackground\":true,\"ticks\":\"\",\"zerolinecolor\":\"white\"},\"zaxis\":{\"backgroundcolor\":\"#E5ECF6\",\"gridcolor\":\"white\",\"gridwidth\":2,\"linecolor\":\"white\",\"showbackground\":true,\"ticks\":\"\",\"zerolinecolor\":\"white\"}},\"shapedefaults\":{\"line\":{\"color\":\"#2a3f5f\"}},\"ternary\":{\"aaxis\":{\"gridcolor\":\"white\",\"linecolor\":\"white\",\"ticks\":\"\"},\"baxis\":{\"gridcolor\":\"white\",\"linecolor\":\"white\",\"ticks\":\"\"},\"bgcolor\":\"#E5ECF6\",\"caxis\":{\"gridcolor\":\"white\",\"linecolor\":\"white\",\"ticks\":\"\"}},\"title\":{\"x\":0.05},\"xaxis\":{\"automargin\":true,\"gridcolor\":\"white\",\"linecolor\":\"white\",\"ticks\":\"\",\"title\":{\"standoff\":15},\"zerolinecolor\":\"white\",\"zerolinewidth\":2},\"yaxis\":{\"automargin\":true,\"gridcolor\":\"white\",\"linecolor\":\"white\",\"ticks\":\"\",\"title\":{\"standoff\":15},\"zerolinecolor\":\"white\",\"zerolinewidth\":2}}},\"title\":{\"text\":\"RMSd during free MD Simulation\"},\"xaxis\":{\"title\":{\"text\":\"Time (ps)\"}},\"yaxis\":{\"title\":{\"text\":\"RMSd (nm)\"}}},                        {\"responsive\": true}                    ).then(function(){\n",
       "                            \n",
       "var gd = document.getElementById('6520a2fc-eab6-4ecc-9a9c-0d9e65fbcb09');\n",
       "var x = new MutationObserver(function (mutations, observer) {{\n",
       "        var display = window.getComputedStyle(gd).display;\n",
       "        if (!display || display === 'none') {{\n",
       "            console.log([gd, 'removed!']);\n",
       "            Plotly.purge(gd);\n",
       "            observer.disconnect();\n",
       "        }}\n",
       "}});\n",
       "\n",
       "// Listen for the removal of the full notebook cells\n",
       "var notebookContainer = gd.closest('#notebook-container');\n",
       "if (notebookContainer) {{\n",
       "    x.observe(notebookContainer, {childList: true});\n",
       "}}\n",
       "\n",
       "// Listen for the clearing of the current output cell\n",
       "var outputEl = gd.closest('.output');\n",
       "if (outputEl) {{\n",
       "    x.observe(outputEl, {childList: true});\n",
       "}}\n",
       "\n",
       "                        })                };                });            </script>        </div>"
      ]
     },
     "metadata": {},
     "output_type": "display_data"
    }
   ],
   "source": [
    "import plotly\n",
    "import plotly.graph_objs as go\n",
    "\n",
    "# Read RMS vs first snapshot data from file \n",
    "with open(output_rms_first,'r') as rms_first_file:\n",
    "    x,y = map(\n",
    "        list,\n",
    "        zip(*[\n",
    "            (float(line.split()[0]),float(line.split()[1]))\n",
    "            for line in rms_first_file \n",
    "            if not line.startswith((\"#\",\"@\")) \n",
    "        ])\n",
    "    )\n",
    "\n",
    "# Read RMS vs experimental structure data from file \n",
    "with open(output_rms_exp,'r') as rms_exp_file:\n",
    "    x2,y2 = map(\n",
    "        list,\n",
    "        zip(*[\n",
    "            (float(line.split()[0]),float(line.split()[1]))\n",
    "            for line in rms_exp_file\n",
    "            if not line.startswith((\"#\",\"@\")) \n",
    "        ])\n",
    "    )\n",
    "    \n",
    "trace1 = go.Scatter(\n",
    "    x = x,\n",
    "    y = y,\n",
    "    name = 'RMSd vs first'\n",
    ")\n",
    "\n",
    "trace2 = go.Scatter(\n",
    "    x = x,\n",
    "    y = y2,\n",
    "    name = 'RMSd vs exp'\n",
    ")\n",
    "\n",
    "data = [trace1, trace2]\n",
    "\n",
    "plotly.offline.init_notebook_mode(connected=True)\n",
    "\n",
    "fig = ({\n",
    "    \"data\": data,\n",
    "    \"layout\": go.Layout(title=\"RMSd during free MD Simulation\",\n",
    "                        xaxis=dict(title = \"Time (ps)\"),\n",
    "                        yaxis=dict(title = \"RMSd (nm)\")\n",
    "                       )\n",
    "})\n",
    "\n",
    "plotly.offline.iplot(fig)"
   ]
  },
  {
   "cell_type": "code",
   "execution_count": 40,
   "metadata": {
    "scrolled": false
   },
   "outputs": [
    {
     "name": "stdout",
     "output_type": "stream",
     "text": [
      "2021-07-02 09:18:23,892 [MainThread  ] [INFO ]  Not using any container\n",
      "2021-07-02 09:18:24,033 [MainThread  ] [INFO ]  echo \"Backbone\" | gmx gyrate -s /home/gbayarri_local/projects/BioBB/tutorials/biobb_wf_protein-complex_md_setup/biobb_wf_protein-complex_md_setup/notebooks/3HTB_JZ4_gppmin.tpr -f /home/gbayarri_local/projects/BioBB/tutorials/biobb_wf_protein-complex_md_setup/biobb_wf_protein-complex_md_setup/notebooks/3HTB_JZ4_md.trr -o 3HTB_JZ4_rgyr.xvg -xvg none\n",
      "\n",
      "2021-07-02 09:18:24,034 [MainThread  ] [INFO ]  Exit code 0\n",
      "\n",
      "2021-07-02 09:18:24,035 [MainThread  ] [INFO ]  Selected 4: 'Backbone'\n",
      "\n",
      "2021-07-02 09:18:24,036 [MainThread  ] [INFO ]                         :-) GROMACS - gmx gyrate, 2019 (-:\n",
      "\n",
      "                            GROMACS is written by:\n",
      "     Emile Apol      Rossen Apostolov      Paul Bauer     Herman J.C. Berendsen\n",
      "    Par Bjelkmar      Christian Blau   Viacheslav Bolnykh     Kevin Boyd    \n",
      " Aldert van Buuren   Rudi van Drunen     Anton Feenstra       Alan Gray     \n",
      "  Gerrit Groenhof     Anca Hamuraru    Vincent Hindriksen  M. Eric Irrgang  \n",
      "  Aleksei Iupinov   Christoph Junghans     Joe Jordan     Dimitrios Karkoulis\n",
      "    Peter Kasson        Jiri Kraus      Carsten Kutzner      Per Larsson    \n",
      "  Justin A. Lemkul    Viveca Lindahl    Magnus Lundborg     Erik Marklund   \n",
      "    Pascal Merz     Pieter Meulenhoff    Teemu Murtola       Szilard Pall   \n",
      "    Sander Pronk      Roland Schulz      Michael Shirts    Alexey Shvetsov  \n",
      "   Alfons Sijbers     Peter Tieleman      Jon Vincent      Teemu Virolainen \n",
      " Christian Wennberg    Maarten Wolf   \n",
      "                           and the project leaders:\n",
      "        Mark Abraham, Berk Hess, Erik Lindahl, and David van der Spoel\n",
      "\n",
      "Copyright (c) 1991-2000, University of Groningen, The Netherlands.\n",
      "Copyright (c) 2001-2018, The GROMACS development team at\n",
      "Uppsala University, Stockholm University and\n",
      "the Royal Institute of Technology, Sweden.\n",
      "check out http://www.gromacs.org for more information.\n",
      "\n",
      "GROMACS is free software; you can redistribute it and/or modify it\n",
      "under the terms of the GNU Lesser General Public License\n",
      "as published by the Free Software Foundation; either version 2.1\n",
      "of the License, or (at your option) any later version.\n",
      "\n",
      "GROMACS:      gmx gyrate, version 2019\n",
      "Executable:   /usr/local/gromacs/bin/gmx\n",
      "Data prefix:  /usr/local/gromacs\n",
      "Working dir:  /home/gbayarri_local/projects/BioBB/tutorials/biobb_wf_protein-complex_md_setup/biobb_wf_protein-complex_md_setup/notebooks\n",
      "Command line:\n",
      "  gmx gyrate -s /home/gbayarri_local/projects/BioBB/tutorials/biobb_wf_protein-complex_md_setup/biobb_wf_protein-complex_md_setup/notebooks/3HTB_JZ4_gppmin.tpr -f /home/gbayarri_local/projects/BioBB/tutorials/biobb_wf_protein-complex_md_setup/biobb_wf_protein-complex_md_setup/notebooks/3HTB_JZ4_md.trr -o 3HTB_JZ4_rgyr.xvg -xvg none\n",
      "\n",
      "Reading file /home/gbayarri_local/projects/BioBB/tutorials/biobb_wf_protein-complex_md_setup/biobb_wf_protein-complex_md_setup/notebooks/3HTB_JZ4_gppmin.tpr, VERSION 2019 (single precision)\n",
      "Reading file /home/gbayarri_local/projects/BioBB/tutorials/biobb_wf_protein-complex_md_setup/biobb_wf_protein-complex_md_setup/notebooks/3HTB_JZ4_gppmin.tpr, VERSION 2019 (single precision)\n",
      "Group     0 (         System) has 31177 elements\n",
      "Group     1 (        Protein) has  2614 elements\n",
      "Group     2 (      Protein-H) has  1301 elements\n",
      "Group     3 (        C-alpha) has   163 elements\n",
      "Group     4 (       Backbone) has   489 elements\n",
      "Group     5 (      MainChain) has   653 elements\n",
      "Group     6 (   MainChain+Cb) has   805 elements\n",
      "Group     7 (    MainChain+H) has   815 elements\n",
      "Group     8 (      SideChain) has  1799 elements\n",
      "Group     9 (    SideChain-H) has   648 elements\n",
      "Group    10 (    Prot-Masses) has  2614 elements\n",
      "Group    11 (    non-Protein) has 28563 elements\n",
      "Group    12 (          Other) has    22 elements\n",
      "Group    13 (            JZ4) has    22 elements\n",
      "Group    14 (             NA) has    10 elements\n",
      "Group    15 (             CL) has    16 elements\n",
      "Group    16 (          Water) has 28515 elements\n",
      "Group    17 (            SOL) has 28515 elements\n",
      "Group    18 (      non-Water) has  2662 elements\n",
      "Group    19 (            Ion) has    26 elements\n",
      "Group    20 (            JZ4) has    22 elements\n",
      "Group    21 (             NA) has    10 elements\n",
      "Group    22 (             CL) has    16 elements\n",
      "Group    23 ( Water_and_ions) has 28541 elements\n",
      "Select a group: trr version: GMX_trn_file (single precision)\n",
      "Last frame          5 time   50.000   \n",
      "\n",
      "GROMACS reminds you: \"Sir, spare your threats: The bug which you would fright me with I seek.\" (Hermione, Act III, scene II of Shakespeare's Winter's Tale)\n",
      "\n",
      "\n"
     ]
    },
    {
     "data": {
      "text/plain": [
       "0"
      ]
     },
     "execution_count": 40,
     "metadata": {},
     "output_type": "execute_result"
    }
   ],
   "source": [
    "# GMXRgyr: Computing Radius of Gyration to measure the protein compactness during the free MD simulation \n",
    "\n",
    "from biobb_analysis.gromacs.gmx_rgyr import gmx_rgyr\n",
    "\n",
    "# Create prop dict and inputs/outputs\n",
    "output_rgyr = pdbCode+'_'+ligandCode+'_rgyr.xvg'\n",
    "prop = {\n",
    "    'selection':  'Backbone'\n",
    "}\n",
    "\n",
    "# Create and launch bb\n",
    "gmx_rgyr(input_structure_path=output_gppmin_tpr,\n",
    "         input_traj_path=output_md_trr,\n",
    "         output_xvg_path=output_rgyr, \n",
    "          properties=prop)"
   ]
  },
  {
   "cell_type": "code",
   "execution_count": 41,
   "metadata": {
    "scrolled": false
   },
   "outputs": [
    {
     "data": {
      "text/html": [
       "        <script type=\"text/javascript\">\n",
       "        window.PlotlyConfig = {MathJaxConfig: 'local'};\n",
       "        if (window.MathJax) {MathJax.Hub.Config({SVG: {font: \"STIX-Web\"}});}\n",
       "        if (typeof require !== 'undefined') {\n",
       "        require.undef(\"plotly\");\n",
       "        requirejs.config({\n",
       "            paths: {\n",
       "                'plotly': ['https://cdn.plot.ly/plotly-2.2.0.min']\n",
       "            }\n",
       "        });\n",
       "        require(['plotly'], function(Plotly) {\n",
       "            window._Plotly = Plotly;\n",
       "        });\n",
       "        }\n",
       "        </script>\n",
       "        "
      ]
     },
     "metadata": {},
     "output_type": "display_data"
    },
    {
     "data": {
      "application/vnd.plotly.v1+json": {
       "config": {
        "linkText": "Export to plot.ly",
        "plotlyServerURL": "https://plot.ly",
        "showLink": false
       },
       "data": [
        {
         "type": "scatter",
         "x": [
          0,
          10,
          20,
          30,
          40,
          50
         ],
         "y": [
          1.60879,
          1.62654,
          1.63668,
          1.62465,
          1.63022,
          1.61504
         ]
        }
       ],
       "layout": {
        "template": {
         "data": {
          "bar": [
           {
            "error_x": {
             "color": "#2a3f5f"
            },
            "error_y": {
             "color": "#2a3f5f"
            },
            "marker": {
             "line": {
              "color": "#E5ECF6",
              "width": 0.5
             },
             "pattern": {
              "fillmode": "overlay",
              "size": 10,
              "solidity": 0.2
             }
            },
            "type": "bar"
           }
          ],
          "barpolar": [
           {
            "marker": {
             "line": {
              "color": "#E5ECF6",
              "width": 0.5
             },
             "pattern": {
              "fillmode": "overlay",
              "size": 10,
              "solidity": 0.2
             }
            },
            "type": "barpolar"
           }
          ],
          "carpet": [
           {
            "aaxis": {
             "endlinecolor": "#2a3f5f",
             "gridcolor": "white",
             "linecolor": "white",
             "minorgridcolor": "white",
             "startlinecolor": "#2a3f5f"
            },
            "baxis": {
             "endlinecolor": "#2a3f5f",
             "gridcolor": "white",
             "linecolor": "white",
             "minorgridcolor": "white",
             "startlinecolor": "#2a3f5f"
            },
            "type": "carpet"
           }
          ],
          "choropleth": [
           {
            "colorbar": {
             "outlinewidth": 0,
             "ticks": ""
            },
            "type": "choropleth"
           }
          ],
          "contour": [
           {
            "colorbar": {
             "outlinewidth": 0,
             "ticks": ""
            },
            "colorscale": [
             [
              0,
              "#0d0887"
             ],
             [
              0.1111111111111111,
              "#46039f"
             ],
             [
              0.2222222222222222,
              "#7201a8"
             ],
             [
              0.3333333333333333,
              "#9c179e"
             ],
             [
              0.4444444444444444,
              "#bd3786"
             ],
             [
              0.5555555555555556,
              "#d8576b"
             ],
             [
              0.6666666666666666,
              "#ed7953"
             ],
             [
              0.7777777777777778,
              "#fb9f3a"
             ],
             [
              0.8888888888888888,
              "#fdca26"
             ],
             [
              1,
              "#f0f921"
             ]
            ],
            "type": "contour"
           }
          ],
          "contourcarpet": [
           {
            "colorbar": {
             "outlinewidth": 0,
             "ticks": ""
            },
            "type": "contourcarpet"
           }
          ],
          "heatmap": [
           {
            "colorbar": {
             "outlinewidth": 0,
             "ticks": ""
            },
            "colorscale": [
             [
              0,
              "#0d0887"
             ],
             [
              0.1111111111111111,
              "#46039f"
             ],
             [
              0.2222222222222222,
              "#7201a8"
             ],
             [
              0.3333333333333333,
              "#9c179e"
             ],
             [
              0.4444444444444444,
              "#bd3786"
             ],
             [
              0.5555555555555556,
              "#d8576b"
             ],
             [
              0.6666666666666666,
              "#ed7953"
             ],
             [
              0.7777777777777778,
              "#fb9f3a"
             ],
             [
              0.8888888888888888,
              "#fdca26"
             ],
             [
              1,
              "#f0f921"
             ]
            ],
            "type": "heatmap"
           }
          ],
          "heatmapgl": [
           {
            "colorbar": {
             "outlinewidth": 0,
             "ticks": ""
            },
            "colorscale": [
             [
              0,
              "#0d0887"
             ],
             [
              0.1111111111111111,
              "#46039f"
             ],
             [
              0.2222222222222222,
              "#7201a8"
             ],
             [
              0.3333333333333333,
              "#9c179e"
             ],
             [
              0.4444444444444444,
              "#bd3786"
             ],
             [
              0.5555555555555556,
              "#d8576b"
             ],
             [
              0.6666666666666666,
              "#ed7953"
             ],
             [
              0.7777777777777778,
              "#fb9f3a"
             ],
             [
              0.8888888888888888,
              "#fdca26"
             ],
             [
              1,
              "#f0f921"
             ]
            ],
            "type": "heatmapgl"
           }
          ],
          "histogram": [
           {
            "marker": {
             "pattern": {
              "fillmode": "overlay",
              "size": 10,
              "solidity": 0.2
             }
            },
            "type": "histogram"
           }
          ],
          "histogram2d": [
           {
            "colorbar": {
             "outlinewidth": 0,
             "ticks": ""
            },
            "colorscale": [
             [
              0,
              "#0d0887"
             ],
             [
              0.1111111111111111,
              "#46039f"
             ],
             [
              0.2222222222222222,
              "#7201a8"
             ],
             [
              0.3333333333333333,
              "#9c179e"
             ],
             [
              0.4444444444444444,
              "#bd3786"
             ],
             [
              0.5555555555555556,
              "#d8576b"
             ],
             [
              0.6666666666666666,
              "#ed7953"
             ],
             [
              0.7777777777777778,
              "#fb9f3a"
             ],
             [
              0.8888888888888888,
              "#fdca26"
             ],
             [
              1,
              "#f0f921"
             ]
            ],
            "type": "histogram2d"
           }
          ],
          "histogram2dcontour": [
           {
            "colorbar": {
             "outlinewidth": 0,
             "ticks": ""
            },
            "colorscale": [
             [
              0,
              "#0d0887"
             ],
             [
              0.1111111111111111,
              "#46039f"
             ],
             [
              0.2222222222222222,
              "#7201a8"
             ],
             [
              0.3333333333333333,
              "#9c179e"
             ],
             [
              0.4444444444444444,
              "#bd3786"
             ],
             [
              0.5555555555555556,
              "#d8576b"
             ],
             [
              0.6666666666666666,
              "#ed7953"
             ],
             [
              0.7777777777777778,
              "#fb9f3a"
             ],
             [
              0.8888888888888888,
              "#fdca26"
             ],
             [
              1,
              "#f0f921"
             ]
            ],
            "type": "histogram2dcontour"
           }
          ],
          "mesh3d": [
           {
            "colorbar": {
             "outlinewidth": 0,
             "ticks": ""
            },
            "type": "mesh3d"
           }
          ],
          "parcoords": [
           {
            "line": {
             "colorbar": {
              "outlinewidth": 0,
              "ticks": ""
             }
            },
            "type": "parcoords"
           }
          ],
          "pie": [
           {
            "automargin": true,
            "type": "pie"
           }
          ],
          "scatter": [
           {
            "marker": {
             "colorbar": {
              "outlinewidth": 0,
              "ticks": ""
             }
            },
            "type": "scatter"
           }
          ],
          "scatter3d": [
           {
            "line": {
             "colorbar": {
              "outlinewidth": 0,
              "ticks": ""
             }
            },
            "marker": {
             "colorbar": {
              "outlinewidth": 0,
              "ticks": ""
             }
            },
            "type": "scatter3d"
           }
          ],
          "scattercarpet": [
           {
            "marker": {
             "colorbar": {
              "outlinewidth": 0,
              "ticks": ""
             }
            },
            "type": "scattercarpet"
           }
          ],
          "scattergeo": [
           {
            "marker": {
             "colorbar": {
              "outlinewidth": 0,
              "ticks": ""
             }
            },
            "type": "scattergeo"
           }
          ],
          "scattergl": [
           {
            "marker": {
             "colorbar": {
              "outlinewidth": 0,
              "ticks": ""
             }
            },
            "type": "scattergl"
           }
          ],
          "scattermapbox": [
           {
            "marker": {
             "colorbar": {
              "outlinewidth": 0,
              "ticks": ""
             }
            },
            "type": "scattermapbox"
           }
          ],
          "scatterpolar": [
           {
            "marker": {
             "colorbar": {
              "outlinewidth": 0,
              "ticks": ""
             }
            },
            "type": "scatterpolar"
           }
          ],
          "scatterpolargl": [
           {
            "marker": {
             "colorbar": {
              "outlinewidth": 0,
              "ticks": ""
             }
            },
            "type": "scatterpolargl"
           }
          ],
          "scatterternary": [
           {
            "marker": {
             "colorbar": {
              "outlinewidth": 0,
              "ticks": ""
             }
            },
            "type": "scatterternary"
           }
          ],
          "surface": [
           {
            "colorbar": {
             "outlinewidth": 0,
             "ticks": ""
            },
            "colorscale": [
             [
              0,
              "#0d0887"
             ],
             [
              0.1111111111111111,
              "#46039f"
             ],
             [
              0.2222222222222222,
              "#7201a8"
             ],
             [
              0.3333333333333333,
              "#9c179e"
             ],
             [
              0.4444444444444444,
              "#bd3786"
             ],
             [
              0.5555555555555556,
              "#d8576b"
             ],
             [
              0.6666666666666666,
              "#ed7953"
             ],
             [
              0.7777777777777778,
              "#fb9f3a"
             ],
             [
              0.8888888888888888,
              "#fdca26"
             ],
             [
              1,
              "#f0f921"
             ]
            ],
            "type": "surface"
           }
          ],
          "table": [
           {
            "cells": {
             "fill": {
              "color": "#EBF0F8"
             },
             "line": {
              "color": "white"
             }
            },
            "header": {
             "fill": {
              "color": "#C8D4E3"
             },
             "line": {
              "color": "white"
             }
            },
            "type": "table"
           }
          ]
         },
         "layout": {
          "annotationdefaults": {
           "arrowcolor": "#2a3f5f",
           "arrowhead": 0,
           "arrowwidth": 1
          },
          "autotypenumbers": "strict",
          "coloraxis": {
           "colorbar": {
            "outlinewidth": 0,
            "ticks": ""
           }
          },
          "colorscale": {
           "diverging": [
            [
             0,
             "#8e0152"
            ],
            [
             0.1,
             "#c51b7d"
            ],
            [
             0.2,
             "#de77ae"
            ],
            [
             0.3,
             "#f1b6da"
            ],
            [
             0.4,
             "#fde0ef"
            ],
            [
             0.5,
             "#f7f7f7"
            ],
            [
             0.6,
             "#e6f5d0"
            ],
            [
             0.7,
             "#b8e186"
            ],
            [
             0.8,
             "#7fbc41"
            ],
            [
             0.9,
             "#4d9221"
            ],
            [
             1,
             "#276419"
            ]
           ],
           "sequential": [
            [
             0,
             "#0d0887"
            ],
            [
             0.1111111111111111,
             "#46039f"
            ],
            [
             0.2222222222222222,
             "#7201a8"
            ],
            [
             0.3333333333333333,
             "#9c179e"
            ],
            [
             0.4444444444444444,
             "#bd3786"
            ],
            [
             0.5555555555555556,
             "#d8576b"
            ],
            [
             0.6666666666666666,
             "#ed7953"
            ],
            [
             0.7777777777777778,
             "#fb9f3a"
            ],
            [
             0.8888888888888888,
             "#fdca26"
            ],
            [
             1,
             "#f0f921"
            ]
           ],
           "sequentialminus": [
            [
             0,
             "#0d0887"
            ],
            [
             0.1111111111111111,
             "#46039f"
            ],
            [
             0.2222222222222222,
             "#7201a8"
            ],
            [
             0.3333333333333333,
             "#9c179e"
            ],
            [
             0.4444444444444444,
             "#bd3786"
            ],
            [
             0.5555555555555556,
             "#d8576b"
            ],
            [
             0.6666666666666666,
             "#ed7953"
            ],
            [
             0.7777777777777778,
             "#fb9f3a"
            ],
            [
             0.8888888888888888,
             "#fdca26"
            ],
            [
             1,
             "#f0f921"
            ]
           ]
          },
          "colorway": [
           "#636efa",
           "#EF553B",
           "#00cc96",
           "#ab63fa",
           "#FFA15A",
           "#19d3f3",
           "#FF6692",
           "#B6E880",
           "#FF97FF",
           "#FECB52"
          ],
          "font": {
           "color": "#2a3f5f"
          },
          "geo": {
           "bgcolor": "white",
           "lakecolor": "white",
           "landcolor": "#E5ECF6",
           "showlakes": true,
           "showland": true,
           "subunitcolor": "white"
          },
          "hoverlabel": {
           "align": "left"
          },
          "hovermode": "closest",
          "mapbox": {
           "style": "light"
          },
          "paper_bgcolor": "white",
          "plot_bgcolor": "#E5ECF6",
          "polar": {
           "angularaxis": {
            "gridcolor": "white",
            "linecolor": "white",
            "ticks": ""
           },
           "bgcolor": "#E5ECF6",
           "radialaxis": {
            "gridcolor": "white",
            "linecolor": "white",
            "ticks": ""
           }
          },
          "scene": {
           "xaxis": {
            "backgroundcolor": "#E5ECF6",
            "gridcolor": "white",
            "gridwidth": 2,
            "linecolor": "white",
            "showbackground": true,
            "ticks": "",
            "zerolinecolor": "white"
           },
           "yaxis": {
            "backgroundcolor": "#E5ECF6",
            "gridcolor": "white",
            "gridwidth": 2,
            "linecolor": "white",
            "showbackground": true,
            "ticks": "",
            "zerolinecolor": "white"
           },
           "zaxis": {
            "backgroundcolor": "#E5ECF6",
            "gridcolor": "white",
            "gridwidth": 2,
            "linecolor": "white",
            "showbackground": true,
            "ticks": "",
            "zerolinecolor": "white"
           }
          },
          "shapedefaults": {
           "line": {
            "color": "#2a3f5f"
           }
          },
          "ternary": {
           "aaxis": {
            "gridcolor": "white",
            "linecolor": "white",
            "ticks": ""
           },
           "baxis": {
            "gridcolor": "white",
            "linecolor": "white",
            "ticks": ""
           },
           "bgcolor": "#E5ECF6",
           "caxis": {
            "gridcolor": "white",
            "linecolor": "white",
            "ticks": ""
           }
          },
          "title": {
           "x": 0.05
          },
          "xaxis": {
           "automargin": true,
           "gridcolor": "white",
           "linecolor": "white",
           "ticks": "",
           "title": {
            "standoff": 15
           },
           "zerolinecolor": "white",
           "zerolinewidth": 2
          },
          "yaxis": {
           "automargin": true,
           "gridcolor": "white",
           "linecolor": "white",
           "ticks": "",
           "title": {
            "standoff": 15
           },
           "zerolinecolor": "white",
           "zerolinewidth": 2
          }
         }
        },
        "title": {
         "text": "Radius of Gyration"
        },
        "xaxis": {
         "title": {
          "text": "Time (ps)"
         }
        },
        "yaxis": {
         "title": {
          "text": "Rgyr (nm)"
         }
        }
       }
      },
      "text/html": [
       "<div>                            <div id=\"f7c7f608-57eb-4be5-956e-9ed68b3e4962\" class=\"plotly-graph-div\" style=\"height:525px; width:100%;\"></div>            <script type=\"text/javascript\">                require([\"plotly\"], function(Plotly) {                    window.PLOTLYENV=window.PLOTLYENV || {};                                    if (document.getElementById(\"f7c7f608-57eb-4be5-956e-9ed68b3e4962\")) {                    Plotly.newPlot(                        \"f7c7f608-57eb-4be5-956e-9ed68b3e4962\",                        [{\"type\":\"scatter\",\"x\":[0.0,10.0,20.0,30.0,40.0,50.0],\"y\":[1.60879,1.62654,1.63668,1.62465,1.63022,1.61504]}],                        {\"template\":{\"data\":{\"bar\":[{\"error_x\":{\"color\":\"#2a3f5f\"},\"error_y\":{\"color\":\"#2a3f5f\"},\"marker\":{\"line\":{\"color\":\"#E5ECF6\",\"width\":0.5},\"pattern\":{\"fillmode\":\"overlay\",\"size\":10,\"solidity\":0.2}},\"type\":\"bar\"}],\"barpolar\":[{\"marker\":{\"line\":{\"color\":\"#E5ECF6\",\"width\":0.5},\"pattern\":{\"fillmode\":\"overlay\",\"size\":10,\"solidity\":0.2}},\"type\":\"barpolar\"}],\"carpet\":[{\"aaxis\":{\"endlinecolor\":\"#2a3f5f\",\"gridcolor\":\"white\",\"linecolor\":\"white\",\"minorgridcolor\":\"white\",\"startlinecolor\":\"#2a3f5f\"},\"baxis\":{\"endlinecolor\":\"#2a3f5f\",\"gridcolor\":\"white\",\"linecolor\":\"white\",\"minorgridcolor\":\"white\",\"startlinecolor\":\"#2a3f5f\"},\"type\":\"carpet\"}],\"choropleth\":[{\"colorbar\":{\"outlinewidth\":0,\"ticks\":\"\"},\"type\":\"choropleth\"}],\"contour\":[{\"colorbar\":{\"outlinewidth\":0,\"ticks\":\"\"},\"colorscale\":[[0.0,\"#0d0887\"],[0.1111111111111111,\"#46039f\"],[0.2222222222222222,\"#7201a8\"],[0.3333333333333333,\"#9c179e\"],[0.4444444444444444,\"#bd3786\"],[0.5555555555555556,\"#d8576b\"],[0.6666666666666666,\"#ed7953\"],[0.7777777777777778,\"#fb9f3a\"],[0.8888888888888888,\"#fdca26\"],[1.0,\"#f0f921\"]],\"type\":\"contour\"}],\"contourcarpet\":[{\"colorbar\":{\"outlinewidth\":0,\"ticks\":\"\"},\"type\":\"contourcarpet\"}],\"heatmap\":[{\"colorbar\":{\"outlinewidth\":0,\"ticks\":\"\"},\"colorscale\":[[0.0,\"#0d0887\"],[0.1111111111111111,\"#46039f\"],[0.2222222222222222,\"#7201a8\"],[0.3333333333333333,\"#9c179e\"],[0.4444444444444444,\"#bd3786\"],[0.5555555555555556,\"#d8576b\"],[0.6666666666666666,\"#ed7953\"],[0.7777777777777778,\"#fb9f3a\"],[0.8888888888888888,\"#fdca26\"],[1.0,\"#f0f921\"]],\"type\":\"heatmap\"}],\"heatmapgl\":[{\"colorbar\":{\"outlinewidth\":0,\"ticks\":\"\"},\"colorscale\":[[0.0,\"#0d0887\"],[0.1111111111111111,\"#46039f\"],[0.2222222222222222,\"#7201a8\"],[0.3333333333333333,\"#9c179e\"],[0.4444444444444444,\"#bd3786\"],[0.5555555555555556,\"#d8576b\"],[0.6666666666666666,\"#ed7953\"],[0.7777777777777778,\"#fb9f3a\"],[0.8888888888888888,\"#fdca26\"],[1.0,\"#f0f921\"]],\"type\":\"heatmapgl\"}],\"histogram\":[{\"marker\":{\"pattern\":{\"fillmode\":\"overlay\",\"size\":10,\"solidity\":0.2}},\"type\":\"histogram\"}],\"histogram2d\":[{\"colorbar\":{\"outlinewidth\":0,\"ticks\":\"\"},\"colorscale\":[[0.0,\"#0d0887\"],[0.1111111111111111,\"#46039f\"],[0.2222222222222222,\"#7201a8\"],[0.3333333333333333,\"#9c179e\"],[0.4444444444444444,\"#bd3786\"],[0.5555555555555556,\"#d8576b\"],[0.6666666666666666,\"#ed7953\"],[0.7777777777777778,\"#fb9f3a\"],[0.8888888888888888,\"#fdca26\"],[1.0,\"#f0f921\"]],\"type\":\"histogram2d\"}],\"histogram2dcontour\":[{\"colorbar\":{\"outlinewidth\":0,\"ticks\":\"\"},\"colorscale\":[[0.0,\"#0d0887\"],[0.1111111111111111,\"#46039f\"],[0.2222222222222222,\"#7201a8\"],[0.3333333333333333,\"#9c179e\"],[0.4444444444444444,\"#bd3786\"],[0.5555555555555556,\"#d8576b\"],[0.6666666666666666,\"#ed7953\"],[0.7777777777777778,\"#fb9f3a\"],[0.8888888888888888,\"#fdca26\"],[1.0,\"#f0f921\"]],\"type\":\"histogram2dcontour\"}],\"mesh3d\":[{\"colorbar\":{\"outlinewidth\":0,\"ticks\":\"\"},\"type\":\"mesh3d\"}],\"parcoords\":[{\"line\":{\"colorbar\":{\"outlinewidth\":0,\"ticks\":\"\"}},\"type\":\"parcoords\"}],\"pie\":[{\"automargin\":true,\"type\":\"pie\"}],\"scatter\":[{\"marker\":{\"colorbar\":{\"outlinewidth\":0,\"ticks\":\"\"}},\"type\":\"scatter\"}],\"scatter3d\":[{\"line\":{\"colorbar\":{\"outlinewidth\":0,\"ticks\":\"\"}},\"marker\":{\"colorbar\":{\"outlinewidth\":0,\"ticks\":\"\"}},\"type\":\"scatter3d\"}],\"scattercarpet\":[{\"marker\":{\"colorbar\":{\"outlinewidth\":0,\"ticks\":\"\"}},\"type\":\"scattercarpet\"}],\"scattergeo\":[{\"marker\":{\"colorbar\":{\"outlinewidth\":0,\"ticks\":\"\"}},\"type\":\"scattergeo\"}],\"scattergl\":[{\"marker\":{\"colorbar\":{\"outlinewidth\":0,\"ticks\":\"\"}},\"type\":\"scattergl\"}],\"scattermapbox\":[{\"marker\":{\"colorbar\":{\"outlinewidth\":0,\"ticks\":\"\"}},\"type\":\"scattermapbox\"}],\"scatterpolar\":[{\"marker\":{\"colorbar\":{\"outlinewidth\":0,\"ticks\":\"\"}},\"type\":\"scatterpolar\"}],\"scatterpolargl\":[{\"marker\":{\"colorbar\":{\"outlinewidth\":0,\"ticks\":\"\"}},\"type\":\"scatterpolargl\"}],\"scatterternary\":[{\"marker\":{\"colorbar\":{\"outlinewidth\":0,\"ticks\":\"\"}},\"type\":\"scatterternary\"}],\"surface\":[{\"colorbar\":{\"outlinewidth\":0,\"ticks\":\"\"},\"colorscale\":[[0.0,\"#0d0887\"],[0.1111111111111111,\"#46039f\"],[0.2222222222222222,\"#7201a8\"],[0.3333333333333333,\"#9c179e\"],[0.4444444444444444,\"#bd3786\"],[0.5555555555555556,\"#d8576b\"],[0.6666666666666666,\"#ed7953\"],[0.7777777777777778,\"#fb9f3a\"],[0.8888888888888888,\"#fdca26\"],[1.0,\"#f0f921\"]],\"type\":\"surface\"}],\"table\":[{\"cells\":{\"fill\":{\"color\":\"#EBF0F8\"},\"line\":{\"color\":\"white\"}},\"header\":{\"fill\":{\"color\":\"#C8D4E3\"},\"line\":{\"color\":\"white\"}},\"type\":\"table\"}]},\"layout\":{\"annotationdefaults\":{\"arrowcolor\":\"#2a3f5f\",\"arrowhead\":0,\"arrowwidth\":1},\"autotypenumbers\":\"strict\",\"coloraxis\":{\"colorbar\":{\"outlinewidth\":0,\"ticks\":\"\"}},\"colorscale\":{\"diverging\":[[0,\"#8e0152\"],[0.1,\"#c51b7d\"],[0.2,\"#de77ae\"],[0.3,\"#f1b6da\"],[0.4,\"#fde0ef\"],[0.5,\"#f7f7f7\"],[0.6,\"#e6f5d0\"],[0.7,\"#b8e186\"],[0.8,\"#7fbc41\"],[0.9,\"#4d9221\"],[1,\"#276419\"]],\"sequential\":[[0.0,\"#0d0887\"],[0.1111111111111111,\"#46039f\"],[0.2222222222222222,\"#7201a8\"],[0.3333333333333333,\"#9c179e\"],[0.4444444444444444,\"#bd3786\"],[0.5555555555555556,\"#d8576b\"],[0.6666666666666666,\"#ed7953\"],[0.7777777777777778,\"#fb9f3a\"],[0.8888888888888888,\"#fdca26\"],[1.0,\"#f0f921\"]],\"sequentialminus\":[[0.0,\"#0d0887\"],[0.1111111111111111,\"#46039f\"],[0.2222222222222222,\"#7201a8\"],[0.3333333333333333,\"#9c179e\"],[0.4444444444444444,\"#bd3786\"],[0.5555555555555556,\"#d8576b\"],[0.6666666666666666,\"#ed7953\"],[0.7777777777777778,\"#fb9f3a\"],[0.8888888888888888,\"#fdca26\"],[1.0,\"#f0f921\"]]},\"colorway\":[\"#636efa\",\"#EF553B\",\"#00cc96\",\"#ab63fa\",\"#FFA15A\",\"#19d3f3\",\"#FF6692\",\"#B6E880\",\"#FF97FF\",\"#FECB52\"],\"font\":{\"color\":\"#2a3f5f\"},\"geo\":{\"bgcolor\":\"white\",\"lakecolor\":\"white\",\"landcolor\":\"#E5ECF6\",\"showlakes\":true,\"showland\":true,\"subunitcolor\":\"white\"},\"hoverlabel\":{\"align\":\"left\"},\"hovermode\":\"closest\",\"mapbox\":{\"style\":\"light\"},\"paper_bgcolor\":\"white\",\"plot_bgcolor\":\"#E5ECF6\",\"polar\":{\"angularaxis\":{\"gridcolor\":\"white\",\"linecolor\":\"white\",\"ticks\":\"\"},\"bgcolor\":\"#E5ECF6\",\"radialaxis\":{\"gridcolor\":\"white\",\"linecolor\":\"white\",\"ticks\":\"\"}},\"scene\":{\"xaxis\":{\"backgroundcolor\":\"#E5ECF6\",\"gridcolor\":\"white\",\"gridwidth\":2,\"linecolor\":\"white\",\"showbackground\":true,\"ticks\":\"\",\"zerolinecolor\":\"white\"},\"yaxis\":{\"backgroundcolor\":\"#E5ECF6\",\"gridcolor\":\"white\",\"gridwidth\":2,\"linecolor\":\"white\",\"showbackground\":true,\"ticks\":\"\",\"zerolinecolor\":\"white\"},\"zaxis\":{\"backgroundcolor\":\"#E5ECF6\",\"gridcolor\":\"white\",\"gridwidth\":2,\"linecolor\":\"white\",\"showbackground\":true,\"ticks\":\"\",\"zerolinecolor\":\"white\"}},\"shapedefaults\":{\"line\":{\"color\":\"#2a3f5f\"}},\"ternary\":{\"aaxis\":{\"gridcolor\":\"white\",\"linecolor\":\"white\",\"ticks\":\"\"},\"baxis\":{\"gridcolor\":\"white\",\"linecolor\":\"white\",\"ticks\":\"\"},\"bgcolor\":\"#E5ECF6\",\"caxis\":{\"gridcolor\":\"white\",\"linecolor\":\"white\",\"ticks\":\"\"}},\"title\":{\"x\":0.05},\"xaxis\":{\"automargin\":true,\"gridcolor\":\"white\",\"linecolor\":\"white\",\"ticks\":\"\",\"title\":{\"standoff\":15},\"zerolinecolor\":\"white\",\"zerolinewidth\":2},\"yaxis\":{\"automargin\":true,\"gridcolor\":\"white\",\"linecolor\":\"white\",\"ticks\":\"\",\"title\":{\"standoff\":15},\"zerolinecolor\":\"white\",\"zerolinewidth\":2}}},\"title\":{\"text\":\"Radius of Gyration\"},\"xaxis\":{\"title\":{\"text\":\"Time (ps)\"}},\"yaxis\":{\"title\":{\"text\":\"Rgyr (nm)\"}}},                        {\"responsive\": true}                    ).then(function(){\n",
       "                            \n",
       "var gd = document.getElementById('f7c7f608-57eb-4be5-956e-9ed68b3e4962');\n",
       "var x = new MutationObserver(function (mutations, observer) {{\n",
       "        var display = window.getComputedStyle(gd).display;\n",
       "        if (!display || display === 'none') {{\n",
       "            console.log([gd, 'removed!']);\n",
       "            Plotly.purge(gd);\n",
       "            observer.disconnect();\n",
       "        }}\n",
       "}});\n",
       "\n",
       "// Listen for the removal of the full notebook cells\n",
       "var notebookContainer = gd.closest('#notebook-container');\n",
       "if (notebookContainer) {{\n",
       "    x.observe(notebookContainer, {childList: true});\n",
       "}}\n",
       "\n",
       "// Listen for the clearing of the current output cell\n",
       "var outputEl = gd.closest('.output');\n",
       "if (outputEl) {{\n",
       "    x.observe(outputEl, {childList: true});\n",
       "}}\n",
       "\n",
       "                        })                };                });            </script>        </div>"
      ]
     },
     "metadata": {},
     "output_type": "display_data"
    }
   ],
   "source": [
    "import plotly\n",
    "import plotly.graph_objs as go\n",
    "\n",
    "# Read Rgyr data from file \n",
    "with open(output_rgyr,'r') as rgyr_file:\n",
    "    x,y = map(\n",
    "        list,\n",
    "        zip(*[\n",
    "            (float(line.split()[0]),float(line.split()[1]))\n",
    "            for line in rgyr_file \n",
    "            if not line.startswith((\"#\",\"@\")) \n",
    "        ])\n",
    "    )\n",
    "\n",
    "plotly.offline.init_notebook_mode(connected=True)\n",
    "\n",
    "fig = ({\n",
    "    \"data\": [go.Scatter(x=x, y=y)],\n",
    "    \"layout\": go.Layout(title=\"Radius of Gyration\",\n",
    "                        xaxis=dict(title = \"Time (ps)\"),\n",
    "                        yaxis=dict(title = \"Rgyr (nm)\")\n",
    "                       )\n",
    "})\n",
    "\n",
    "plotly.offline.iplot(fig)"
   ]
  },
  {
   "cell_type": "markdown",
   "metadata": {},
   "source": [
    "<a id=\"post\"></a>\n",
    "***\n",
    "## Post-processing and Visualizing resulting 3D trajectory\n",
    "Post-processing and Visualizing the **protein-ligand complex system** MD setup **resulting trajectory** using **NGL**\n",
    "- [Step 1](#ppStep1): *Imaging* the resulting trajectory, **stripping out water molecules and ions** and **correcting periodicity issues**.\n",
    "- [Step 2](#ppStep2): Generating a *dry* structure, **removing water molecules and ions** from the final snapshot of the MD setup pipeline.\n",
    "- [Step 3](#ppStep3): Visualizing the *imaged* trajectory using the *dry* structure as a **topology**. \n",
    "***\n",
    "**Building Blocks** used:\n",
    " - [GMXImage](https://biobb-analysis.readthedocs.io/en/latest/gromacs.html#module-gromacs.gmx_image) from **biobb_analysis.gromacs.gmx_image** \n",
    " - [GMXTrjConvStr](https://biobb-analysis.readthedocs.io/en/latest/gromacs.html#module-gromacs.gmx_trjconv_str) from **biobb_analysis.gromacs.gmx_trjconv_str** \n",
    "***"
   ]
  },
  {
   "cell_type": "markdown",
   "metadata": {},
   "source": [
    "<a id=\"ppStep1\"></a>\n",
    "### Step 1: *Imaging* the resulting trajectory.\n",
    "Stripping out **water molecules and ions** and **correcting periodicity issues**  "
   ]
  },
  {
   "cell_type": "code",
   "execution_count": 42,
   "metadata": {
    "scrolled": false
   },
   "outputs": [
    {
     "name": "stdout",
     "output_type": "stream",
     "text": [
      "2021-07-02 09:18:31,568 [MainThread  ] [INFO ]  Not using any container\n",
      "2021-07-02 09:18:31,722 [MainThread  ] [INFO ]  echo \"Protein_Other\" \"Protein_Other\" | gmx trjconv -f /home/gbayarri_local/projects/BioBB/tutorials/biobb_wf_protein-complex_md_setup/biobb_wf_protein-complex_md_setup/notebooks/3HTB_JZ4_md.trr -s /home/gbayarri_local/projects/BioBB/tutorials/biobb_wf_protein-complex_md_setup/biobb_wf_protein-complex_md_setup/notebooks/3HTB_JZ4_gppmd.tpr -fit none -o 3HTB_imaged_traj.trr -n /home/gbayarri_local/projects/BioBB/tutorials/biobb_wf_protein-complex_md_setup/biobb_wf_protein-complex_md_setup/notebooks/3HTB_JZ4_index.ndx -center -pbc mol -ur compact\n",
      "\n",
      "2021-07-02 09:18:31,723 [MainThread  ] [INFO ]  Exit code 0\n",
      "\n",
      "2021-07-02 09:18:31,724 [MainThread  ] [INFO ]  Note that major changes are planned in future for trjconv, to improve usability and utility.Select group for centering\n",
      "Selected 24: 'Protein_Other'\n",
      "Select group for output\n",
      "Selected 24: 'Protein_Other'\n",
      "\n",
      "2021-07-02 09:18:31,725 [MainThread  ] [INFO ]                        :-) GROMACS - gmx trjconv, 2019 (-:\n",
      "\n",
      "                            GROMACS is written by:\n",
      "     Emile Apol      Rossen Apostolov      Paul Bauer     Herman J.C. Berendsen\n",
      "    Par Bjelkmar      Christian Blau   Viacheslav Bolnykh     Kevin Boyd    \n",
      " Aldert van Buuren   Rudi van Drunen     Anton Feenstra       Alan Gray     \n",
      "  Gerrit Groenhof     Anca Hamuraru    Vincent Hindriksen  M. Eric Irrgang  \n",
      "  Aleksei Iupinov   Christoph Junghans     Joe Jordan     Dimitrios Karkoulis\n",
      "    Peter Kasson        Jiri Kraus      Carsten Kutzner      Per Larsson    \n",
      "  Justin A. Lemkul    Viveca Lindahl    Magnus Lundborg     Erik Marklund   \n",
      "    Pascal Merz     Pieter Meulenhoff    Teemu Murtola       Szilard Pall   \n",
      "    Sander Pronk      Roland Schulz      Michael Shirts    Alexey Shvetsov  \n",
      "   Alfons Sijbers     Peter Tieleman      Jon Vincent      Teemu Virolainen \n",
      " Christian Wennberg    Maarten Wolf   \n",
      "                           and the project leaders:\n",
      "        Mark Abraham, Berk Hess, Erik Lindahl, and David van der Spoel\n",
      "\n",
      "Copyright (c) 1991-2000, University of Groningen, The Netherlands.\n",
      "Copyright (c) 2001-2018, The GROMACS development team at\n",
      "Uppsala University, Stockholm University and\n",
      "the Royal Institute of Technology, Sweden.\n",
      "check out http://www.gromacs.org for more information.\n",
      "\n",
      "GROMACS is free software; you can redistribute it and/or modify it\n",
      "under the terms of the GNU Lesser General Public License\n",
      "as published by the Free Software Foundation; either version 2.1\n",
      "of the License, or (at your option) any later version.\n",
      "\n",
      "GROMACS:      gmx trjconv, version 2019\n",
      "Executable:   /usr/local/gromacs/bin/gmx\n",
      "Data prefix:  /usr/local/gromacs\n",
      "Working dir:  /home/gbayarri_local/projects/BioBB/tutorials/biobb_wf_protein-complex_md_setup/biobb_wf_protein-complex_md_setup/notebooks\n",
      "Command line:\n",
      "  gmx trjconv -f /home/gbayarri_local/projects/BioBB/tutorials/biobb_wf_protein-complex_md_setup/biobb_wf_protein-complex_md_setup/notebooks/3HTB_JZ4_md.trr -s /home/gbayarri_local/projects/BioBB/tutorials/biobb_wf_protein-complex_md_setup/biobb_wf_protein-complex_md_setup/notebooks/3HTB_JZ4_gppmd.tpr -fit none -o 3HTB_imaged_traj.trr -n /home/gbayarri_local/projects/BioBB/tutorials/biobb_wf_protein-complex_md_setup/biobb_wf_protein-complex_md_setup/notebooks/3HTB_JZ4_index.ndx -center -pbc mol -ur compact\n",
      "\n",
      "Will write trr: Trajectory in portable xdr format\n",
      "Reading file /home/gbayarri_local/projects/BioBB/tutorials/biobb_wf_protein-complex_md_setup/biobb_wf_protein-complex_md_setup/notebooks/3HTB_JZ4_gppmd.tpr, VERSION 2019 (single precision)\n",
      "Reading file /home/gbayarri_local/projects/BioBB/tutorials/biobb_wf_protein-complex_md_setup/biobb_wf_protein-complex_md_setup/notebooks/3HTB_JZ4_gppmd.tpr, VERSION 2019 (single precision)\n",
      "Group     0 (         System) has 31177 elements\n",
      "Group     1 (        Protein) has  2614 elements\n",
      "Group     2 (      Protein-H) has  1301 elements\n",
      "Group     3 (        C-alpha) has   163 elements\n",
      "Group     4 (       Backbone) has   489 elements\n",
      "Group     5 (      MainChain) has   653 elements\n",
      "Group     6 (   MainChain+Cb) has   805 elements\n",
      "Group     7 (    MainChain+H) has   815 elements\n",
      "Group     8 (      SideChain) has  1799 elements\n",
      "Group     9 (    SideChain-H) has   648 elements\n",
      "Group    10 (    Prot-Masses) has  2614 elements\n",
      "Group    11 (    non-Protein) has 28563 elements\n",
      "Group    12 (          Other) has    22 elements\n",
      "Group    13 (            JZ4) has    22 elements\n",
      "Group    14 (             NA) has    10 elements\n",
      "Group    15 (             CL) has    16 elements\n",
      "Group    16 (          Water) has 28515 elements\n",
      "Group    17 (            SOL) has 28515 elements\n",
      "Group    18 (      non-Water) has  2662 elements\n",
      "Group    19 (            Ion) has    26 elements\n",
      "Group    20 (            JZ4) has    22 elements\n",
      "Group    21 (             NA) has    10 elements\n",
      "Group    22 (             CL) has    16 elements\n",
      "Group    23 ( Water_and_ions) has 28541 elements\n",
      "Group    24 (  Protein_Other) has  2636 elements\n",
      "Select a group: Group     0 (         System) has 31177 elements\n",
      "Group     1 (        Protein) has  2614 elements\n",
      "Group     2 (      Protein-H) has  1301 elements\n",
      "Group     3 (        C-alpha) has   163 elements\n",
      "Group     4 (       Backbone) has   489 elements\n",
      "Group     5 (      MainChain) has   653 elements\n",
      "Group     6 (   MainChain+Cb) has   805 elements\n",
      "Group     7 (    MainChain+H) has   815 elements\n",
      "Group     8 (      SideChain) has  1799 elements\n",
      "Group     9 (    SideChain-H) has   648 elements\n",
      "Group    10 (    Prot-Masses) has  2614 elements\n",
      "Group    11 (    non-Protein) has 28563 elements\n",
      "Group    12 (          Other) has    22 elements\n",
      "Group    13 (            JZ4) has    22 elements\n",
      "Group    14 (             NA) has    10 elements\n",
      "Group    15 (             CL) has    16 elements\n",
      "Group    16 (          Water) has 28515 elements\n",
      "Group    17 (            SOL) has 28515 elements\n",
      "Group    18 (      non-Water) has  2662 elements\n",
      "Group    19 (            Ion) has    26 elements\n",
      "Group    20 (            JZ4) has    22 elements\n",
      "Group    21 (             NA) has    10 elements\n",
      "Group    22 (             CL) has    16 elements\n",
      "Group    23 ( Water_and_ions) has 28541 elements\n",
      "Group    24 (  Protein_Other) has  2636 elements\n",
      "Select a group: trr version: GMX_trn_file (single precision)\n",
      "Last frame          5 time   50.000    ->  frame      5 time   50.000      \n",
      "\n",
      "\n",
      "GROMACS reminds you: \"We mathematicians are all a bit crazy.\" (Lev Landau)\n",
      "\n",
      "\n"
     ]
    },
    {
     "data": {
      "text/plain": [
       "0"
      ]
     },
     "execution_count": 42,
     "metadata": {},
     "output_type": "execute_result"
    }
   ],
   "source": [
    "# GMXImage: \"Imaging\" the resulting trajectory\n",
    "#           Removing water molecules and ions from the resulting structure\n",
    "from biobb_analysis.gromacs.gmx_image import gmx_image\n",
    "\n",
    "# Create prop dict and inputs/outputs\n",
    "output_imaged_traj = pdbCode+'_imaged_traj.trr'\n",
    "prop = {\n",
    "    'center_selection':  'Protein_Other',\n",
    "    'output_selection': 'Protein_Other',\n",
    "    'pbc' : 'mol',\n",
    "    'center' : True\n",
    "}\n",
    "\n",
    "# Create and launch bb\n",
    "gmx_image(input_traj_path=output_md_trr,\n",
    "         input_top_path=output_gppmd_tpr,\n",
    "         input_index_path=output_complex_ndx,\n",
    "         output_traj_path=output_imaged_traj, \n",
    "          properties=prop)"
   ]
  },
  {
   "cell_type": "markdown",
   "metadata": {},
   "source": [
    "<a id=\"ppStep2\"></a>\n",
    "### Step 2: Generating the output *dry* structure.\n",
    "**Removing water molecules and ions** from the resulting structure"
   ]
  },
  {
   "cell_type": "code",
   "execution_count": 43,
   "metadata": {
    "scrolled": true
   },
   "outputs": [
    {
     "name": "stdout",
     "output_type": "stream",
     "text": [
      "2021-07-02 09:18:35,319 [MainThread  ] [INFO ]  Not using any container\n",
      "2021-07-02 09:18:35,491 [MainThread  ] [INFO ]  echo \"Protein_Other\" | gmx trjconv -f /home/gbayarri_local/projects/BioBB/tutorials/biobb_wf_protein-complex_md_setup/biobb_wf_protein-complex_md_setup/notebooks/3HTB_JZ4_md.gro -s /home/gbayarri_local/projects/BioBB/tutorials/biobb_wf_protein-complex_md_setup/biobb_wf_protein-complex_md_setup/notebooks/3HTB_JZ4_gppmd.tpr -o 3HTB_md_dry.gro -n /home/gbayarri_local/projects/BioBB/tutorials/biobb_wf_protein-complex_md_setup/biobb_wf_protein-complex_md_setup/notebooks/3HTB_JZ4_index.ndx\n",
      "\n",
      "2021-07-02 09:18:35,492 [MainThread  ] [INFO ]  Exit code 0\n",
      "\n",
      "2021-07-02 09:18:35,493 [MainThread  ] [INFO ]  Note that major changes are planned in future for trjconv, to improve usability and utility.Select group for output\n",
      "Selected 24: 'Protein_Other'\n",
      "\n",
      "2021-07-02 09:18:35,494 [MainThread  ] [INFO ]                        :-) GROMACS - gmx trjconv, 2019 (-:\n",
      "\n",
      "                            GROMACS is written by:\n",
      "     Emile Apol      Rossen Apostolov      Paul Bauer     Herman J.C. Berendsen\n",
      "    Par Bjelkmar      Christian Blau   Viacheslav Bolnykh     Kevin Boyd    \n",
      " Aldert van Buuren   Rudi van Drunen     Anton Feenstra       Alan Gray     \n",
      "  Gerrit Groenhof     Anca Hamuraru    Vincent Hindriksen  M. Eric Irrgang  \n",
      "  Aleksei Iupinov   Christoph Junghans     Joe Jordan     Dimitrios Karkoulis\n",
      "    Peter Kasson        Jiri Kraus      Carsten Kutzner      Per Larsson    \n",
      "  Justin A. Lemkul    Viveca Lindahl    Magnus Lundborg     Erik Marklund   \n",
      "    Pascal Merz     Pieter Meulenhoff    Teemu Murtola       Szilard Pall   \n",
      "    Sander Pronk      Roland Schulz      Michael Shirts    Alexey Shvetsov  \n",
      "   Alfons Sijbers     Peter Tieleman      Jon Vincent      Teemu Virolainen \n",
      " Christian Wennberg    Maarten Wolf   \n",
      "                           and the project leaders:\n",
      "        Mark Abraham, Berk Hess, Erik Lindahl, and David van der Spoel\n",
      "\n",
      "Copyright (c) 1991-2000, University of Groningen, The Netherlands.\n",
      "Copyright (c) 2001-2018, The GROMACS development team at\n",
      "Uppsala University, Stockholm University and\n",
      "the Royal Institute of Technology, Sweden.\n",
      "check out http://www.gromacs.org for more information.\n",
      "\n",
      "GROMACS is free software; you can redistribute it and/or modify it\n",
      "under the terms of the GNU Lesser General Public License\n",
      "as published by the Free Software Foundation; either version 2.1\n",
      "of the License, or (at your option) any later version.\n",
      "\n",
      "GROMACS:      gmx trjconv, version 2019\n",
      "Executable:   /usr/local/gromacs/bin/gmx\n",
      "Data prefix:  /usr/local/gromacs\n",
      "Working dir:  /home/gbayarri_local/projects/BioBB/tutorials/biobb_wf_protein-complex_md_setup/biobb_wf_protein-complex_md_setup/notebooks\n",
      "Command line:\n",
      "  gmx trjconv -f /home/gbayarri_local/projects/BioBB/tutorials/biobb_wf_protein-complex_md_setup/biobb_wf_protein-complex_md_setup/notebooks/3HTB_JZ4_md.gro -s /home/gbayarri_local/projects/BioBB/tutorials/biobb_wf_protein-complex_md_setup/biobb_wf_protein-complex_md_setup/notebooks/3HTB_JZ4_gppmd.tpr -o 3HTB_md_dry.gro -n /home/gbayarri_local/projects/BioBB/tutorials/biobb_wf_protein-complex_md_setup/biobb_wf_protein-complex_md_setup/notebooks/3HTB_JZ4_index.ndx\n",
      "\n",
      "Will write gro: Coordinate file in Gromos-87 format\n",
      "Reading file /home/gbayarri_local/projects/BioBB/tutorials/biobb_wf_protein-complex_md_setup/biobb_wf_protein-complex_md_setup/notebooks/3HTB_JZ4_gppmd.tpr, VERSION 2019 (single precision)\n",
      "Reading file /home/gbayarri_local/projects/BioBB/tutorials/biobb_wf_protein-complex_md_setup/biobb_wf_protein-complex_md_setup/notebooks/3HTB_JZ4_gppmd.tpr, VERSION 2019 (single precision)\n",
      "Group     0 (         System) has 31177 elements\n",
      "Group     1 (        Protein) has  2614 elements\n",
      "Group     2 (      Protein-H) has  1301 elements\n",
      "Group     3 (        C-alpha) has   163 elements\n",
      "Group     4 (       Backbone) has   489 elements\n",
      "Group     5 (      MainChain) has   653 elements\n",
      "Group     6 (   MainChain+Cb) has   805 elements\n",
      "Group     7 (    MainChain+H) has   815 elements\n",
      "Group     8 (      SideChain) has  1799 elements\n",
      "Group     9 (    SideChain-H) has   648 elements\n",
      "Group    10 (    Prot-Masses) has  2614 elements\n",
      "Group    11 (    non-Protein) has 28563 elements\n",
      "Group    12 (          Other) has    22 elements\n",
      "Group    13 (            JZ4) has    22 elements\n",
      "Group    14 (             NA) has    10 elements\n",
      "Group    15 (             CL) has    16 elements\n",
      "Group    16 (          Water) has 28515 elements\n",
      "Group    17 (            SOL) has 28515 elements\n",
      "Group    18 (      non-Water) has  2662 elements\n",
      "Group    19 (            Ion) has    26 elements\n",
      "Group    20 (            JZ4) has    22 elements\n",
      "Group    21 (             NA) has    10 elements\n",
      "Group    22 (             CL) has    16 elements\n",
      "Group    23 ( Water_and_ions) has 28541 elements\n",
      "Group    24 (  Protein_Other) has  2636 elements\n",
      "Select a group: Reading frames from gro file 'Protein in water', 31177 atoms.\n",
      "Reading frame       0 time    0.000   \n",
      "Precision of /home/gbayarri_local/projects/BioBB/tutorials/biobb_wf_protein-complex_md_setup/biobb_wf_protein-complex_md_setup/notebooks/3HTB_JZ4_md.gro is 0.001 (nm)\n",
      "Using output precision of 0.001 (nm)\n",
      "Last frame          0 time    0.000   \n",
      "\n",
      "\n",
      "GROMACS reminds you: \"Correctomundo\" (Pulp Fiction)\n",
      "\n",
      "\n"
     ]
    },
    {
     "data": {
      "text/plain": [
       "0"
      ]
     },
     "execution_count": 43,
     "metadata": {},
     "output_type": "execute_result"
    }
   ],
   "source": [
    "# GMXTrjConvStr: Converting and/or manipulating a structure\n",
    "#                Removing water molecules and ions from the resulting structure\n",
    "#                The \"dry\" structure will be used as a topology to visualize \n",
    "#                the \"imaged dry\" trajectory generated in the previous step.\n",
    "from biobb_analysis.gromacs.gmx_trjconv_str import gmx_trjconv_str\n",
    "\n",
    "# Create prop dict and inputs/outputs\n",
    "output_dry_gro = pdbCode+'_md_dry.gro'\n",
    "prop = {\n",
    "    'selection':  'Protein_Other'\n",
    "}\n",
    "\n",
    "# Create and launch bb\n",
    "gmx_trjconv_str(input_structure_path=output_md_gro,\n",
    "                input_top_path=output_gppmd_tpr,\n",
    "                input_index_path=output_complex_ndx,\n",
    "                output_str_path=output_dry_gro, \n",
    "                properties=prop)"
   ]
  },
  {
   "cell_type": "markdown",
   "metadata": {},
   "source": [
    "<a id=\"ppStep3\"></a>\n",
    "### Step 3: Visualizing the generated dehydrated trajectory.\n",
    "Using the **imaged trajectory** (output of the [Post-processing step 1](#ppStep1)) with the **dry structure** (output of the [Post-processing step 2](#ppStep2)) as a topology."
   ]
  },
  {
   "cell_type": "code",
   "execution_count": 51,
   "metadata": {
    "scrolled": false
   },
   "outputs": [
    {
     "data": {
      "application/vnd.jupyter.widget-view+json": {
       "model_id": "a31c385d3049432a97a189ca95e4795a",
       "version_major": 2,
       "version_minor": 0
      },
      "text/plain": [
       "NGLWidget(max_frame=5)"
      ]
     },
     "metadata": {},
     "output_type": "display_data"
    },
    {
     "data": {
      "application/vnd.jupyter.widget-view+json": {
       "model_id": "27380bfc1d39414385570dd59c44a6c9",
       "version_major": 2,
       "version_minor": 0
      },
      "text/plain": [
       "Tab(children=(Box(children=(Box(children=(Box(children=(Label(value='step'), IntSlider(value=1, min=-100)), la…"
      ]
     },
     "metadata": {},
     "output_type": "display_data"
    }
   ],
   "source": [
    "# Show trajectory\n",
    "view = nglview.show_simpletraj(nglview.SimpletrajTrajectory(output_imaged_traj, output_dry_gro), gui=True)\n",
    "view"
   ]
  },
  {
   "cell_type": "code",
   "execution_count": 54,
   "metadata": {},
   "outputs": [],
   "source": [
    "from time import sleep\n",
    "# range number of frames for the animated gif trajectory\n",
    "for frame in range(0, 5):\n",
    "    # set frame to update coordinates\n",
    "    view.frame = frame\n",
    "    # make sure to let NGL spending enough time to update coordinates\n",
    "    sleep(0.5)\n",
    "    view.download_image(filename='trj_image{}.png'.format(frame))\n",
    "    # make sure to let NGL spending enough time to render before going to next frame\n",
    "    sleep(2.0)"
   ]
  },
  {
   "cell_type": "code",
   "execution_count": 55,
   "metadata": {},
   "outputs": [
    {
     "ename": "ModuleNotFoundError",
     "evalue": "No module named 'moviepy'",
     "output_type": "error",
     "traceback": [
      "\u001b[0;31m---------------------------------------------------------------------------\u001b[0m",
      "\u001b[0;31mModuleNotFoundError\u001b[0m                       Traceback (most recent call last)",
      "\u001b[0;32m<ipython-input-55-4aae7cab68cf>\u001b[0m in \u001b[0;36m<module>\u001b[0;34m\u001b[0m\n\u001b[0;32m----> 1\u001b[0;31m \u001b[0;32mimport\u001b[0m \u001b[0mmoviepy\u001b[0m\u001b[0;34m.\u001b[0m\u001b[0meditor\u001b[0m \u001b[0;32mas\u001b[0m \u001b[0mmpy\u001b[0m\u001b[0;34m\u001b[0m\u001b[0;34m\u001b[0m\u001b[0m\n\u001b[0m\u001b[1;32m      2\u001b[0m \u001b[0;34m\u001b[0m\u001b[0m\n\u001b[1;32m      3\u001b[0m \u001b[0;31m# go to folder where the images are stored\u001b[0m\u001b[0;34m\u001b[0m\u001b[0;34m\u001b[0m\u001b[0;34m\u001b[0m\u001b[0m\n\u001b[1;32m      4\u001b[0m \u001b[0mtemplate\u001b[0m \u001b[0;34m=\u001b[0m \u001b[0;34m'./trj_image{}.png'\u001b[0m\u001b[0;34m\u001b[0m\u001b[0;34m\u001b[0m\u001b[0m\n\u001b[1;32m      5\u001b[0m \u001b[0;31m# get all (sorted) image files\u001b[0m\u001b[0;34m\u001b[0m\u001b[0;34m\u001b[0m\u001b[0;34m\u001b[0m\u001b[0m\n",
      "\u001b[0;31mModuleNotFoundError\u001b[0m: No module named 'moviepy'"
     ]
    }
   ],
   "source": [
    "import moviepy.editor as mpy\n",
    "\n",
    "# go to folder where the images are stored\n",
    "template = './trj_image{}.png'\n",
    "# get all (sorted) image files\n",
    "imagefiles = [template.format(str(i)) for i in range(0, 4, 1)]\n",
    "\n",
    "# make a gif file\n",
    "frame_per_second = 8\n",
    "im = mpy.ImageSequenceClip(imagefiles, fps=frame_per_second)\n",
    "im.write_gif('trajectory.gif', fps=frame_per_second)"
   ]
  },
  {
   "cell_type": "markdown",
   "metadata": {},
   "source": [
    "<img src='trajectory.gif'></img>"
   ]
  },
  {
   "cell_type": "markdown",
   "metadata": {
    "variables": {
     "output_genion_top_zip": "3HTB_JZ4_genion_top.zip",
     "output_gppmd_tpr": "3HTB_JZ4_gppmd.tpr",
     "output_md_cpt": "3HTB_JZ4_md.cpt",
     "output_md_gro": "3HTB_JZ4_md.gro",
     "output_md_trr": "3HTB_JZ4_md.trr",
     "output_rgyr": "3HTB_JZ4_rgyr.xvg",
     "output_rms_exp": "3HTB_JZ4_rms_exp.xvg",
     "output_rms_first": "3HTB_JZ4_rms_first.xvg"
    }
   },
   "source": [
    "<a id=\"output\"></a>\n",
    "## Output files\n",
    "\n",
    "Important **Output files** generated:\n",
    " - {{output_md_gro}}: **Final structure** (snapshot) of the MD setup protocol.\n",
    " - {{output_md_trr}}: **Final trajectory** of the MD setup protocol.\n",
    " - {{output_md_cpt}}: **Final checkpoint file**, with information about the state of the simulation. It can be used to **restart** or **continue** a MD simulation.\n",
    " - {{output_gppmd_tpr}}: **Final tpr file**, GROMACS portable binary run input file. This file contains the starting structure of the **MD setup free MD simulation step**, together with the molecular topology and all the simulation parameters. It can be used to **extend** the simulation.\n",
    " - {{output_genion_top_zip}}: **Final topology** of the MD system. It is a compressed zip file including a **topology file** (.top) and a set of auxiliar **include topology** files (.itp).\n",
    "\n",
    "**Analysis** (MD setup check) output files generated:\n",
    " - {{output_rms_first}}: **Root Mean Square deviation (RMSd)** against **minimized and equilibrated structure** of the final **free MD run step**.\n",
    " - {{output_rms_exp}}: **Root Mean Square deviation (RMSd)** against **experimental structure** of the final **free MD run step**.\n",
    " - {{output_rgyr}}: **Radius of Gyration** of the final **free MD run step** of the **setup pipeline**.\n",
    " "
   ]
  },
  {
   "cell_type": "markdown",
   "metadata": {},
   "source": [
    "***\n",
    "<a id=\"questions\"></a>\n",
    "\n",
    "## Questions & Comments\n",
    "\n",
    "Questions, issues, suggestions and comments are really welcome!\n",
    "\n",
    "* GitHub issues:\n",
    "    * [https://github.com/bioexcel/biobb](https://github.com/bioexcel/biobb)\n",
    "\n",
    "* BioExcel forum:\n",
    "    * [https://ask.bioexcel.eu/c/BioExcel-Building-Blocks-library](https://ask.bioexcel.eu/c/BioExcel-Building-Blocks-library)\n"
   ]
  }
 ],
 "metadata": {
  "anaconda-cloud": {},
  "kernelspec": {
   "display_name": "Python 3",
   "language": "python",
   "name": "python3"
  },
  "language_info": {
   "codemirror_mode": {
    "name": "ipython",
    "version": 3
   },
   "file_extension": ".py",
   "mimetype": "text/x-python",
   "name": "python",
   "nbconvert_exporter": "python",
   "pygments_lexer": "ipython3",
   "version": "3.7.10"
  }
 },
 "nbformat": 4,
 "nbformat_minor": 2
}
